{
 "cells": [
  {
   "cell_type": "markdown",
   "id": "73a0d1d0",
   "metadata": {},
   "source": [
    "# Исследование сервиса аренды самокатов GoFast"
   ]
  },
  {
   "cell_type": "markdown",
   "id": "2f3fdfdf",
   "metadata": {},
   "source": [
    "Сервисом аренды самокатов GoFast были передоставленные данные о пользователях из разных городов, их поездках, а также типе подписки. Требуется провести их исследование и сделать выводы, которые могут помочь бизнесу в итоге получить больше выручки.\n",
    "\n",
    "Выручка зависит от типа подписки клиентов. Клиенты с подпиской платят месячную подписку 199р и за каждую минуту поездки - 6 рублей. Клиенты без подписки плятат 50 рублей за старт поездки  и 8 рублей за минуту поездки. \n",
    "\n",
    "**Цели исследования** \n",
    "\n",
    "Проверить три гипотезы продакт-менеджеров:\n",
    "- клиенты с подпиской тратят больше времени на поездки, \n",
    "- расстояние поездок клиентов с подпиской меньше 3130 метров \n",
    "- помесячная выручка от таких клиентов больше \n",
    "\n",
    "Выполнить расчеты по задачам отдела маркетинга\n",
    "- Сколько надо разослать прокодов\n",
    "- Сколько push-уведомлений будут открыты\n",
    "\n",
    "**Ход исследования** \n",
    "\n",
    "Данные представлены в трех датасетах - users_go.csv,  rides_go.csv и subscriptions_go.csv - о пользователях, поездках и типах подпискок соотвественно. О качестве данных ничего не известно, поэтому перед основным исследованием потребуется обзор данных. Надо проверить даные на ошибки. Если они есть, надо найти возможность исправить некорректные данные.\n",
    "\n",
    "Таким образом, исследоваание будет состоять из восьми этапов:\n",
    "\n",
    "- Загрузка данных\n",
    "- Преобработка данных\n",
    "- Исследовательский анализ данных\n",
    "- Формирование датасетов для расчета выручки\n",
    "- Подсчет выручки клиентов разных типов\n",
    "- Проверка гипотез\n",
    "- Расчеты по задачам отдела маркетинга\n",
    "- Общий вывод"
   ]
  },
  {
   "cell_type": "code",
   "execution_count": 1,
   "id": "72576667",
   "metadata": {},
   "outputs": [],
   "source": [
    "import pandas as pd\n",
    "import numpy as np\n",
    "import matplotlib.pyplot as plt\n",
    "import math\n",
    "from scipy import stats as st"
   ]
  },
  {
   "cell_type": "markdown",
   "id": "13f1760c",
   "metadata": {},
   "source": [
    "<div class=\"alert alert-block alert-success\">✔️\n",
    "    \n",
    "\n",
    "__Комментарий от ревьюера №1__\n",
    "\n",
    "Хорошо. Модули выгружены"
   ]
  },
  {
   "cell_type": "markdown",
   "id": "c42cbe00",
   "metadata": {},
   "source": [
    "## Шаг 1. Загрузка данных"
   ]
  },
  {
   "cell_type": "markdown",
   "id": "c10f8489",
   "metadata": {},
   "source": [
    "Загружаем три исходных датасета"
   ]
  },
  {
   "cell_type": "code",
   "execution_count": 2,
   "id": "eff9f206",
   "metadata": {},
   "outputs": [],
   "source": [
    "try: \n",
    "    users = pd.read_csv('d:/practicum/4sprint/users_go.csv')\n",
    "    rides = pd.read_csv('d:\\practicum/4sprint/rides_go.csv')\n",
    "    subscriptions = pd.read_csv('d:/practicum/4sprint/subscriptions_go.csv')\n",
    "except:\n",
    "    users = pd.read_csv('/datasets/users_go.csv')\n",
    "    rides = pd.read_csv('/datasets/rides_go.csv')\n",
    "    subscriptions = pd.read_csv('/datasets/subscriptions_go.csv')"
   ]
  },
  {
   "cell_type": "markdown",
   "id": "440d40e9",
   "metadata": {},
   "source": [
    "Первичная оценка датасетов"
   ]
  },
  {
   "cell_type": "code",
   "execution_count": 3,
   "id": "31aabf99",
   "metadata": {},
   "outputs": [
    {
     "name": "stdout",
     "output_type": "stream",
     "text": [
      "<class 'pandas.core.frame.DataFrame'>\n",
      "RangeIndex: 1565 entries, 0 to 1564\n",
      "Data columns (total 5 columns):\n",
      " #   Column             Non-Null Count  Dtype \n",
      "---  ------             --------------  ----- \n",
      " 0   user_id            1565 non-null   int64 \n",
      " 1   name               1565 non-null   object\n",
      " 2   age                1565 non-null   int64 \n",
      " 3   city               1565 non-null   object\n",
      " 4   subscription_type  1565 non-null   object\n",
      "dtypes: int64(2), object(3)\n",
      "memory usage: 61.3+ KB\n"
     ]
    }
   ],
   "source": [
    "users.info()"
   ]
  },
  {
   "cell_type": "code",
   "execution_count": 4,
   "id": "77049f31",
   "metadata": {},
   "outputs": [
    {
     "data": {
      "text/html": [
       "<div>\n",
       "<style scoped>\n",
       "    .dataframe tbody tr th:only-of-type {\n",
       "        vertical-align: middle;\n",
       "    }\n",
       "\n",
       "    .dataframe tbody tr th {\n",
       "        vertical-align: top;\n",
       "    }\n",
       "\n",
       "    .dataframe thead th {\n",
       "        text-align: right;\n",
       "    }\n",
       "</style>\n",
       "<table border=\"1\" class=\"dataframe\">\n",
       "  <thead>\n",
       "    <tr style=\"text-align: right;\">\n",
       "      <th></th>\n",
       "      <th>user_id</th>\n",
       "      <th>name</th>\n",
       "      <th>age</th>\n",
       "      <th>city</th>\n",
       "      <th>subscription_type</th>\n",
       "    </tr>\n",
       "  </thead>\n",
       "  <tbody>\n",
       "    <tr>\n",
       "      <th>0</th>\n",
       "      <td>1</td>\n",
       "      <td>Кира</td>\n",
       "      <td>22</td>\n",
       "      <td>Тюмень</td>\n",
       "      <td>ultra</td>\n",
       "    </tr>\n",
       "    <tr>\n",
       "      <th>1</th>\n",
       "      <td>2</td>\n",
       "      <td>Станислав</td>\n",
       "      <td>31</td>\n",
       "      <td>Омск</td>\n",
       "      <td>ultra</td>\n",
       "    </tr>\n",
       "    <tr>\n",
       "      <th>2</th>\n",
       "      <td>3</td>\n",
       "      <td>Алексей</td>\n",
       "      <td>20</td>\n",
       "      <td>Москва</td>\n",
       "      <td>ultra</td>\n",
       "    </tr>\n",
       "    <tr>\n",
       "      <th>3</th>\n",
       "      <td>4</td>\n",
       "      <td>Константин</td>\n",
       "      <td>26</td>\n",
       "      <td>Ростов-на-Дону</td>\n",
       "      <td>ultra</td>\n",
       "    </tr>\n",
       "    <tr>\n",
       "      <th>4</th>\n",
       "      <td>5</td>\n",
       "      <td>Адель</td>\n",
       "      <td>28</td>\n",
       "      <td>Омск</td>\n",
       "      <td>ultra</td>\n",
       "    </tr>\n",
       "  </tbody>\n",
       "</table>\n",
       "</div>"
      ],
      "text/plain": [
       "   user_id        name  age            city subscription_type\n",
       "0        1        Кира   22          Тюмень             ultra\n",
       "1        2   Станислав   31            Омск             ultra\n",
       "2        3     Алексей   20          Москва             ultra\n",
       "3        4  Константин   26  Ростов-на-Дону             ultra\n",
       "4        5       Адель   28            Омск             ultra"
      ]
     },
     "execution_count": 4,
     "metadata": {},
     "output_type": "execute_result"
    }
   ],
   "source": [
    "users.head()"
   ]
  },
  {
   "cell_type": "code",
   "execution_count": 5,
   "id": "2702e0f3",
   "metadata": {},
   "outputs": [
    {
     "name": "stdout",
     "output_type": "stream",
     "text": [
      "<class 'pandas.core.frame.DataFrame'>\n",
      "RangeIndex: 18068 entries, 0 to 18067\n",
      "Data columns (total 4 columns):\n",
      " #   Column    Non-Null Count  Dtype  \n",
      "---  ------    --------------  -----  \n",
      " 0   user_id   18068 non-null  int64  \n",
      " 1   distance  18068 non-null  float64\n",
      " 2   duration  18068 non-null  float64\n",
      " 3   date      18068 non-null  object \n",
      "dtypes: float64(2), int64(1), object(1)\n",
      "memory usage: 564.8+ KB\n"
     ]
    }
   ],
   "source": [
    "rides.info()"
   ]
  },
  {
   "cell_type": "code",
   "execution_count": 6,
   "id": "a835f36c",
   "metadata": {},
   "outputs": [
    {
     "data": {
      "text/html": [
       "<div>\n",
       "<style scoped>\n",
       "    .dataframe tbody tr th:only-of-type {\n",
       "        vertical-align: middle;\n",
       "    }\n",
       "\n",
       "    .dataframe tbody tr th {\n",
       "        vertical-align: top;\n",
       "    }\n",
       "\n",
       "    .dataframe thead th {\n",
       "        text-align: right;\n",
       "    }\n",
       "</style>\n",
       "<table border=\"1\" class=\"dataframe\">\n",
       "  <thead>\n",
       "    <tr style=\"text-align: right;\">\n",
       "      <th></th>\n",
       "      <th>user_id</th>\n",
       "      <th>distance</th>\n",
       "      <th>duration</th>\n",
       "      <th>date</th>\n",
       "    </tr>\n",
       "  </thead>\n",
       "  <tbody>\n",
       "    <tr>\n",
       "      <th>0</th>\n",
       "      <td>1</td>\n",
       "      <td>4409.919140</td>\n",
       "      <td>25.599769</td>\n",
       "      <td>2021-01-01</td>\n",
       "    </tr>\n",
       "    <tr>\n",
       "      <th>1</th>\n",
       "      <td>1</td>\n",
       "      <td>2617.592153</td>\n",
       "      <td>15.816871</td>\n",
       "      <td>2021-01-18</td>\n",
       "    </tr>\n",
       "    <tr>\n",
       "      <th>2</th>\n",
       "      <td>1</td>\n",
       "      <td>754.159807</td>\n",
       "      <td>6.232113</td>\n",
       "      <td>2021-04-20</td>\n",
       "    </tr>\n",
       "    <tr>\n",
       "      <th>3</th>\n",
       "      <td>1</td>\n",
       "      <td>2694.783254</td>\n",
       "      <td>18.511000</td>\n",
       "      <td>2021-08-11</td>\n",
       "    </tr>\n",
       "    <tr>\n",
       "      <th>4</th>\n",
       "      <td>1</td>\n",
       "      <td>4028.687306</td>\n",
       "      <td>26.265803</td>\n",
       "      <td>2021-08-28</td>\n",
       "    </tr>\n",
       "  </tbody>\n",
       "</table>\n",
       "</div>"
      ],
      "text/plain": [
       "   user_id     distance   duration        date\n",
       "0        1  4409.919140  25.599769  2021-01-01\n",
       "1        1  2617.592153  15.816871  2021-01-18\n",
       "2        1   754.159807   6.232113  2021-04-20\n",
       "3        1  2694.783254  18.511000  2021-08-11\n",
       "4        1  4028.687306  26.265803  2021-08-28"
      ]
     },
     "execution_count": 6,
     "metadata": {},
     "output_type": "execute_result"
    }
   ],
   "source": [
    "rides.head()"
   ]
  },
  {
   "cell_type": "code",
   "execution_count": 7,
   "id": "57aa8669",
   "metadata": {},
   "outputs": [
    {
     "data": {
      "text/html": [
       "<div>\n",
       "<style scoped>\n",
       "    .dataframe tbody tr th:only-of-type {\n",
       "        vertical-align: middle;\n",
       "    }\n",
       "\n",
       "    .dataframe tbody tr th {\n",
       "        vertical-align: top;\n",
       "    }\n",
       "\n",
       "    .dataframe thead th {\n",
       "        text-align: right;\n",
       "    }\n",
       "</style>\n",
       "<table border=\"1\" class=\"dataframe\">\n",
       "  <thead>\n",
       "    <tr style=\"text-align: right;\">\n",
       "      <th></th>\n",
       "      <th>subscription_type</th>\n",
       "      <th>minute_price</th>\n",
       "      <th>start_ride_price</th>\n",
       "      <th>subscription_fee</th>\n",
       "    </tr>\n",
       "  </thead>\n",
       "  <tbody>\n",
       "    <tr>\n",
       "      <th>0</th>\n",
       "      <td>free</td>\n",
       "      <td>8</td>\n",
       "      <td>50</td>\n",
       "      <td>0</td>\n",
       "    </tr>\n",
       "    <tr>\n",
       "      <th>1</th>\n",
       "      <td>ultra</td>\n",
       "      <td>6</td>\n",
       "      <td>0</td>\n",
       "      <td>199</td>\n",
       "    </tr>\n",
       "  </tbody>\n",
       "</table>\n",
       "</div>"
      ],
      "text/plain": [
       "  subscription_type  minute_price  start_ride_price  subscription_fee\n",
       "0              free             8                50                 0\n",
       "1             ultra             6                 0               199"
      ]
     },
     "execution_count": 7,
     "metadata": {},
     "output_type": "execute_result"
    }
   ],
   "source": [
    "subscriptions.head()"
   ]
  },
  {
   "cell_type": "code",
   "execution_count": 8,
   "id": "09f3050e",
   "metadata": {},
   "outputs": [
    {
     "name": "stdout",
     "output_type": "stream",
     "text": [
      "<class 'pandas.core.frame.DataFrame'>\n",
      "RangeIndex: 2 entries, 0 to 1\n",
      "Data columns (total 4 columns):\n",
      " #   Column             Non-Null Count  Dtype \n",
      "---  ------             --------------  ----- \n",
      " 0   subscription_type  2 non-null      object\n",
      " 1   minute_price       2 non-null      int64 \n",
      " 2   start_ride_price   2 non-null      int64 \n",
      " 3   subscription_fee   2 non-null      int64 \n",
      "dtypes: int64(3), object(1)\n",
      "memory usage: 196.0+ bytes\n"
     ]
    }
   ],
   "source": [
    "subscriptions.info()"
   ]
  },
  {
   "cell_type": "markdown",
   "id": "980b0cf4",
   "metadata": {},
   "source": [
    "***Промежуточный итог***  \n",
    "Загрузили данные в три датасета. Предварительно, датасеты не содержат пропусков. Типы данных, кроме даты - корректные. Название колонок - корректные."
   ]
  },
  {
   "cell_type": "markdown",
   "id": "e95ebca7",
   "metadata": {},
   "source": [
    "## Шаг 2. Предобработка данных"
   ]
  },
  {
   "cell_type": "markdown",
   "id": "286a0030",
   "metadata": {},
   "source": [
    "Проверяем на дубликаты"
   ]
  },
  {
   "cell_type": "code",
   "execution_count": 9,
   "id": "35491423",
   "metadata": {},
   "outputs": [
    {
     "data": {
      "text/plain": [
       "31"
      ]
     },
     "execution_count": 9,
     "metadata": {},
     "output_type": "execute_result"
    }
   ],
   "source": [
    "users.duplicated().sum()"
   ]
  },
  {
   "cell_type": "code",
   "execution_count": 10,
   "id": "49425437",
   "metadata": {},
   "outputs": [
    {
     "data": {
      "text/plain": [
       "0"
      ]
     },
     "execution_count": 10,
     "metadata": {},
     "output_type": "execute_result"
    }
   ],
   "source": [
    "rides.duplicated().sum()"
   ]
  },
  {
   "cell_type": "markdown",
   "id": "0abbb992",
   "metadata": {},
   "source": [
    "В датасете users есть 31 дубликат. Оценим их:"
   ]
  },
  {
   "cell_type": "code",
   "execution_count": 11,
   "id": "ba2d8595",
   "metadata": {},
   "outputs": [
    {
     "data": {
      "text/html": [
       "<div>\n",
       "<style scoped>\n",
       "    .dataframe tbody tr th:only-of-type {\n",
       "        vertical-align: middle;\n",
       "    }\n",
       "\n",
       "    .dataframe tbody tr th {\n",
       "        vertical-align: top;\n",
       "    }\n",
       "\n",
       "    .dataframe thead th {\n",
       "        text-align: right;\n",
       "    }\n",
       "</style>\n",
       "<table border=\"1\" class=\"dataframe\">\n",
       "  <thead>\n",
       "    <tr style=\"text-align: right;\">\n",
       "      <th></th>\n",
       "      <th>user_id</th>\n",
       "      <th>name</th>\n",
       "      <th>age</th>\n",
       "      <th>city</th>\n",
       "      <th>subscription_type</th>\n",
       "    </tr>\n",
       "  </thead>\n",
       "  <tbody>\n",
       "    <tr>\n",
       "      <th>1534</th>\n",
       "      <td>293</td>\n",
       "      <td>Агата</td>\n",
       "      <td>26</td>\n",
       "      <td>Краснодар</td>\n",
       "      <td>ultra</td>\n",
       "    </tr>\n",
       "    <tr>\n",
       "      <th>1535</th>\n",
       "      <td>16</td>\n",
       "      <td>Амалия</td>\n",
       "      <td>27</td>\n",
       "      <td>Краснодар</td>\n",
       "      <td>ultra</td>\n",
       "    </tr>\n",
       "    <tr>\n",
       "      <th>1536</th>\n",
       "      <td>909</td>\n",
       "      <td>Константин</td>\n",
       "      <td>20</td>\n",
       "      <td>Екатеринбург</td>\n",
       "      <td>free</td>\n",
       "    </tr>\n",
       "    <tr>\n",
       "      <th>1537</th>\n",
       "      <td>403</td>\n",
       "      <td>Полина</td>\n",
       "      <td>19</td>\n",
       "      <td>Сочи</td>\n",
       "      <td>ultra</td>\n",
       "    </tr>\n",
       "    <tr>\n",
       "      <th>1538</th>\n",
       "      <td>908</td>\n",
       "      <td>Рустам</td>\n",
       "      <td>30</td>\n",
       "      <td>Тюмень</td>\n",
       "      <td>free</td>\n",
       "    </tr>\n",
       "    <tr>\n",
       "      <th>1539</th>\n",
       "      <td>43</td>\n",
       "      <td>Стефания</td>\n",
       "      <td>22</td>\n",
       "      <td>Омск</td>\n",
       "      <td>ultra</td>\n",
       "    </tr>\n",
       "    <tr>\n",
       "      <th>1540</th>\n",
       "      <td>127</td>\n",
       "      <td>Павел</td>\n",
       "      <td>25</td>\n",
       "      <td>Пятигорск</td>\n",
       "      <td>ultra</td>\n",
       "    </tr>\n",
       "    <tr>\n",
       "      <th>1541</th>\n",
       "      <td>659</td>\n",
       "      <td>Злата</td>\n",
       "      <td>27</td>\n",
       "      <td>Ростов-на-Дону</td>\n",
       "      <td>ultra</td>\n",
       "    </tr>\n",
       "    <tr>\n",
       "      <th>1542</th>\n",
       "      <td>204</td>\n",
       "      <td>Руслан</td>\n",
       "      <td>30</td>\n",
       "      <td>Пятигорск</td>\n",
       "      <td>ultra</td>\n",
       "    </tr>\n",
       "    <tr>\n",
       "      <th>1543</th>\n",
       "      <td>153</td>\n",
       "      <td>Герман</td>\n",
       "      <td>23</td>\n",
       "      <td>Москва</td>\n",
       "      <td>ultra</td>\n",
       "    </tr>\n",
       "    <tr>\n",
       "      <th>1544</th>\n",
       "      <td>1245</td>\n",
       "      <td>Регина</td>\n",
       "      <td>27</td>\n",
       "      <td>Пятигорск</td>\n",
       "      <td>free</td>\n",
       "    </tr>\n",
       "    <tr>\n",
       "      <th>1545</th>\n",
       "      <td>807</td>\n",
       "      <td>Александр</td>\n",
       "      <td>28</td>\n",
       "      <td>Екатеринбург</td>\n",
       "      <td>free</td>\n",
       "    </tr>\n",
       "    <tr>\n",
       "      <th>1546</th>\n",
       "      <td>924</td>\n",
       "      <td>Мария</td>\n",
       "      <td>23</td>\n",
       "      <td>Пятигорск</td>\n",
       "      <td>free</td>\n",
       "    </tr>\n",
       "    <tr>\n",
       "      <th>1547</th>\n",
       "      <td>635</td>\n",
       "      <td>Герман</td>\n",
       "      <td>21</td>\n",
       "      <td>Москва</td>\n",
       "      <td>ultra</td>\n",
       "    </tr>\n",
       "    <tr>\n",
       "      <th>1548</th>\n",
       "      <td>136</td>\n",
       "      <td>Марсель</td>\n",
       "      <td>25</td>\n",
       "      <td>Тюмень</td>\n",
       "      <td>ultra</td>\n",
       "    </tr>\n",
       "    <tr>\n",
       "      <th>1549</th>\n",
       "      <td>108</td>\n",
       "      <td>Влада</td>\n",
       "      <td>29</td>\n",
       "      <td>Тюмень</td>\n",
       "      <td>ultra</td>\n",
       "    </tr>\n",
       "    <tr>\n",
       "      <th>1550</th>\n",
       "      <td>737</td>\n",
       "      <td>Мелания</td>\n",
       "      <td>27</td>\n",
       "      <td>Ростов-на-Дону</td>\n",
       "      <td>free</td>\n",
       "    </tr>\n",
       "    <tr>\n",
       "      <th>1551</th>\n",
       "      <td>666</td>\n",
       "      <td>Зарина</td>\n",
       "      <td>29</td>\n",
       "      <td>Москва</td>\n",
       "      <td>ultra</td>\n",
       "    </tr>\n",
       "    <tr>\n",
       "      <th>1552</th>\n",
       "      <td>297</td>\n",
       "      <td>Егор</td>\n",
       "      <td>33</td>\n",
       "      <td>Пятигорск</td>\n",
       "      <td>ultra</td>\n",
       "    </tr>\n",
       "    <tr>\n",
       "      <th>1553</th>\n",
       "      <td>121</td>\n",
       "      <td>Алина</td>\n",
       "      <td>25</td>\n",
       "      <td>Пятигорск</td>\n",
       "      <td>ultra</td>\n",
       "    </tr>\n",
       "    <tr>\n",
       "      <th>1554</th>\n",
       "      <td>1198</td>\n",
       "      <td>Демид</td>\n",
       "      <td>29</td>\n",
       "      <td>Ростов-на-Дону</td>\n",
       "      <td>free</td>\n",
       "    </tr>\n",
       "    <tr>\n",
       "      <th>1555</th>\n",
       "      <td>72</td>\n",
       "      <td>Никита</td>\n",
       "      <td>25</td>\n",
       "      <td>Москва</td>\n",
       "      <td>ultra</td>\n",
       "    </tr>\n",
       "    <tr>\n",
       "      <th>1556</th>\n",
       "      <td>422</td>\n",
       "      <td>Кирилл</td>\n",
       "      <td>27</td>\n",
       "      <td>Сочи</td>\n",
       "      <td>ultra</td>\n",
       "    </tr>\n",
       "    <tr>\n",
       "      <th>1557</th>\n",
       "      <td>611</td>\n",
       "      <td>Владимир</td>\n",
       "      <td>28</td>\n",
       "      <td>Омск</td>\n",
       "      <td>ultra</td>\n",
       "    </tr>\n",
       "    <tr>\n",
       "      <th>1558</th>\n",
       "      <td>1237</td>\n",
       "      <td>Евгения</td>\n",
       "      <td>23</td>\n",
       "      <td>Тюмень</td>\n",
       "      <td>free</td>\n",
       "    </tr>\n",
       "    <tr>\n",
       "      <th>1559</th>\n",
       "      <td>209</td>\n",
       "      <td>Андрей</td>\n",
       "      <td>23</td>\n",
       "      <td>Омск</td>\n",
       "      <td>ultra</td>\n",
       "    </tr>\n",
       "    <tr>\n",
       "      <th>1560</th>\n",
       "      <td>829</td>\n",
       "      <td>Федор</td>\n",
       "      <td>29</td>\n",
       "      <td>Пятигорск</td>\n",
       "      <td>free</td>\n",
       "    </tr>\n",
       "    <tr>\n",
       "      <th>1561</th>\n",
       "      <td>809</td>\n",
       "      <td>Юрий</td>\n",
       "      <td>26</td>\n",
       "      <td>Сочи</td>\n",
       "      <td>free</td>\n",
       "    </tr>\n",
       "    <tr>\n",
       "      <th>1562</th>\n",
       "      <td>307</td>\n",
       "      <td>Ясмина</td>\n",
       "      <td>19</td>\n",
       "      <td>Краснодар</td>\n",
       "      <td>ultra</td>\n",
       "    </tr>\n",
       "    <tr>\n",
       "      <th>1563</th>\n",
       "      <td>47</td>\n",
       "      <td>Юрий</td>\n",
       "      <td>28</td>\n",
       "      <td>Тюмень</td>\n",
       "      <td>ultra</td>\n",
       "    </tr>\n",
       "    <tr>\n",
       "      <th>1564</th>\n",
       "      <td>1045</td>\n",
       "      <td>Артемий</td>\n",
       "      <td>28</td>\n",
       "      <td>Ростов-на-Дону</td>\n",
       "      <td>free</td>\n",
       "    </tr>\n",
       "  </tbody>\n",
       "</table>\n",
       "</div>"
      ],
      "text/plain": [
       "      user_id        name  age            city subscription_type\n",
       "1534      293       Агата   26       Краснодар             ultra\n",
       "1535       16      Амалия   27       Краснодар             ultra\n",
       "1536      909  Константин   20    Екатеринбург              free\n",
       "1537      403      Полина   19            Сочи             ultra\n",
       "1538      908      Рустам   30          Тюмень              free\n",
       "1539       43    Стефания   22            Омск             ultra\n",
       "1540      127       Павел   25       Пятигорск             ultra\n",
       "1541      659       Злата   27  Ростов-на-Дону             ultra\n",
       "1542      204      Руслан   30       Пятигорск             ultra\n",
       "1543      153      Герман   23          Москва             ultra\n",
       "1544     1245      Регина   27       Пятигорск              free\n",
       "1545      807   Александр   28    Екатеринбург              free\n",
       "1546      924       Мария   23       Пятигорск              free\n",
       "1547      635      Герман   21          Москва             ultra\n",
       "1548      136     Марсель   25          Тюмень             ultra\n",
       "1549      108       Влада   29          Тюмень             ultra\n",
       "1550      737     Мелания   27  Ростов-на-Дону              free\n",
       "1551      666      Зарина   29          Москва             ultra\n",
       "1552      297        Егор   33       Пятигорск             ultra\n",
       "1553      121       Алина   25       Пятигорск             ultra\n",
       "1554     1198       Демид   29  Ростов-на-Дону              free\n",
       "1555       72      Никита   25          Москва             ultra\n",
       "1556      422      Кирилл   27            Сочи             ultra\n",
       "1557      611    Владимир   28            Омск             ultra\n",
       "1558     1237     Евгения   23          Тюмень              free\n",
       "1559      209      Андрей   23            Омск             ultra\n",
       "1560      829       Федор   29       Пятигорск              free\n",
       "1561      809        Юрий   26            Сочи              free\n",
       "1562      307      Ясмина   19       Краснодар             ultra\n",
       "1563       47        Юрий   28          Тюмень             ultra\n",
       "1564     1045     Артемий   28  Ростов-на-Дону              free"
      ]
     },
     "execution_count": 11,
     "metadata": {},
     "output_type": "execute_result"
    }
   ],
   "source": [
    "users[users.duplicated()]"
   ]
  },
  {
   "cell_type": "markdown",
   "id": "2d6b78d1",
   "metadata": {},
   "source": [
    "Данные в дубликатаъ разные, однако можно заметить, что индексы строк с дубликами идут последовательно, начиная с 1534. Можно предположить, что их специально добавили для этого задания =) Удаляем дубликаты и сбросываем индексы."
   ]
  },
  {
   "cell_type": "code",
   "execution_count": 12,
   "id": "af6d202c",
   "metadata": {},
   "outputs": [],
   "source": [
    "users = users.drop_duplicates().reset_index(drop=True)"
   ]
  },
  {
   "cell_type": "markdown",
   "id": "54c43701",
   "metadata": {},
   "source": [
    "Еще раз смотрим датасет users"
   ]
  },
  {
   "cell_type": "code",
   "execution_count": 13,
   "id": "13d163a6",
   "metadata": {},
   "outputs": [
    {
     "name": "stdout",
     "output_type": "stream",
     "text": [
      "<class 'pandas.core.frame.DataFrame'>\n",
      "RangeIndex: 1534 entries, 0 to 1533\n",
      "Data columns (total 5 columns):\n",
      " #   Column             Non-Null Count  Dtype \n",
      "---  ------             --------------  ----- \n",
      " 0   user_id            1534 non-null   int64 \n",
      " 1   name               1534 non-null   object\n",
      " 2   age                1534 non-null   int64 \n",
      " 3   city               1534 non-null   object\n",
      " 4   subscription_type  1534 non-null   object\n",
      "dtypes: int64(2), object(3)\n",
      "memory usage: 60.1+ KB\n"
     ]
    }
   ],
   "source": [
    "users.info()"
   ]
  },
  {
   "cell_type": "markdown",
   "id": "2e848b75",
   "metadata": {},
   "source": [
    "Преобразуем в датасете rides колонку date к типу DateTime"
   ]
  },
  {
   "cell_type": "code",
   "execution_count": 14,
   "id": "78c3bbda",
   "metadata": {
    "scrolled": true
   },
   "outputs": [
    {
     "data": {
      "text/html": [
       "<div>\n",
       "<style scoped>\n",
       "    .dataframe tbody tr th:only-of-type {\n",
       "        vertical-align: middle;\n",
       "    }\n",
       "\n",
       "    .dataframe tbody tr th {\n",
       "        vertical-align: top;\n",
       "    }\n",
       "\n",
       "    .dataframe thead th {\n",
       "        text-align: right;\n",
       "    }\n",
       "</style>\n",
       "<table border=\"1\" class=\"dataframe\">\n",
       "  <thead>\n",
       "    <tr style=\"text-align: right;\">\n",
       "      <th></th>\n",
       "      <th>user_id</th>\n",
       "      <th>distance</th>\n",
       "      <th>duration</th>\n",
       "      <th>date</th>\n",
       "    </tr>\n",
       "  </thead>\n",
       "  <tbody>\n",
       "    <tr>\n",
       "      <th>0</th>\n",
       "      <td>1</td>\n",
       "      <td>4409.919140</td>\n",
       "      <td>25.599769</td>\n",
       "      <td>2021-01-01</td>\n",
       "    </tr>\n",
       "    <tr>\n",
       "      <th>1</th>\n",
       "      <td>1</td>\n",
       "      <td>2617.592153</td>\n",
       "      <td>15.816871</td>\n",
       "      <td>2021-01-18</td>\n",
       "    </tr>\n",
       "    <tr>\n",
       "      <th>2</th>\n",
       "      <td>1</td>\n",
       "      <td>754.159807</td>\n",
       "      <td>6.232113</td>\n",
       "      <td>2021-04-20</td>\n",
       "    </tr>\n",
       "    <tr>\n",
       "      <th>3</th>\n",
       "      <td>1</td>\n",
       "      <td>2694.783254</td>\n",
       "      <td>18.511000</td>\n",
       "      <td>2021-08-11</td>\n",
       "    </tr>\n",
       "    <tr>\n",
       "      <th>4</th>\n",
       "      <td>1</td>\n",
       "      <td>4028.687306</td>\n",
       "      <td>26.265803</td>\n",
       "      <td>2021-08-28</td>\n",
       "    </tr>\n",
       "  </tbody>\n",
       "</table>\n",
       "</div>"
      ],
      "text/plain": [
       "   user_id     distance   duration        date\n",
       "0        1  4409.919140  25.599769  2021-01-01\n",
       "1        1  2617.592153  15.816871  2021-01-18\n",
       "2        1   754.159807   6.232113  2021-04-20\n",
       "3        1  2694.783254  18.511000  2021-08-11\n",
       "4        1  4028.687306  26.265803  2021-08-28"
      ]
     },
     "execution_count": 14,
     "metadata": {},
     "output_type": "execute_result"
    }
   ],
   "source": [
    "rides.head()"
   ]
  },
  {
   "cell_type": "code",
   "execution_count": 15,
   "id": "83fe0afd",
   "metadata": {},
   "outputs": [],
   "source": [
    "rides['date'] = pd.to_datetime(rides['date'], format='%Y-%m-%d')"
   ]
  },
  {
   "cell_type": "markdown",
   "id": "737c4abb",
   "metadata": {},
   "source": [
    "Оценим минимальное и максимальное значение колонки date"
   ]
  },
  {
   "cell_type": "code",
   "execution_count": 16,
   "id": "23248e5c",
   "metadata": {},
   "outputs": [
    {
     "data": {
      "text/plain": [
       "Timestamp('2021-01-01 00:00:00')"
      ]
     },
     "execution_count": 16,
     "metadata": {},
     "output_type": "execute_result"
    }
   ],
   "source": [
    "rides['date'].min()"
   ]
  },
  {
   "cell_type": "code",
   "execution_count": 17,
   "id": "5723b55a",
   "metadata": {},
   "outputs": [
    {
     "data": {
      "text/plain": [
       "Timestamp('2021-12-30 00:00:00')"
      ]
     },
     "execution_count": 17,
     "metadata": {},
     "output_type": "execute_result"
    }
   ],
   "source": [
    "rides['date'].max()"
   ]
  },
  {
   "cell_type": "markdown",
   "id": "344d415a",
   "metadata": {},
   "source": [
    "Датасет rides содержит данные о поездках с 1 января по 29 декабря 2021 года"
   ]
  },
  {
   "cell_type": "markdown",
   "id": "ff8c8b01",
   "metadata": {},
   "source": [
    "Создадим в датасете rides колонку month, в которой будет месяц поездки, полученный из даты"
   ]
  },
  {
   "cell_type": "code",
   "execution_count": 18,
   "id": "1d4df3bc",
   "metadata": {},
   "outputs": [],
   "source": [
    "rides['month'] = pd.DatetimeIndex(rides['date']).month"
   ]
  },
  {
   "cell_type": "markdown",
   "id": "f4b9d245",
   "metadata": {},
   "source": [
    "Еще раз смотрим датасет rides"
   ]
  },
  {
   "cell_type": "code",
   "execution_count": 19,
   "id": "4c531749",
   "metadata": {},
   "outputs": [
    {
     "data": {
      "text/html": [
       "<div>\n",
       "<style scoped>\n",
       "    .dataframe tbody tr th:only-of-type {\n",
       "        vertical-align: middle;\n",
       "    }\n",
       "\n",
       "    .dataframe tbody tr th {\n",
       "        vertical-align: top;\n",
       "    }\n",
       "\n",
       "    .dataframe thead th {\n",
       "        text-align: right;\n",
       "    }\n",
       "</style>\n",
       "<table border=\"1\" class=\"dataframe\">\n",
       "  <thead>\n",
       "    <tr style=\"text-align: right;\">\n",
       "      <th></th>\n",
       "      <th>user_id</th>\n",
       "      <th>distance</th>\n",
       "      <th>duration</th>\n",
       "      <th>date</th>\n",
       "      <th>month</th>\n",
       "    </tr>\n",
       "  </thead>\n",
       "  <tbody>\n",
       "    <tr>\n",
       "      <th>0</th>\n",
       "      <td>1</td>\n",
       "      <td>4409.919140</td>\n",
       "      <td>25.599769</td>\n",
       "      <td>2021-01-01</td>\n",
       "      <td>1</td>\n",
       "    </tr>\n",
       "    <tr>\n",
       "      <th>1</th>\n",
       "      <td>1</td>\n",
       "      <td>2617.592153</td>\n",
       "      <td>15.816871</td>\n",
       "      <td>2021-01-18</td>\n",
       "      <td>1</td>\n",
       "    </tr>\n",
       "    <tr>\n",
       "      <th>2</th>\n",
       "      <td>1</td>\n",
       "      <td>754.159807</td>\n",
       "      <td>6.232113</td>\n",
       "      <td>2021-04-20</td>\n",
       "      <td>4</td>\n",
       "    </tr>\n",
       "    <tr>\n",
       "      <th>3</th>\n",
       "      <td>1</td>\n",
       "      <td>2694.783254</td>\n",
       "      <td>18.511000</td>\n",
       "      <td>2021-08-11</td>\n",
       "      <td>8</td>\n",
       "    </tr>\n",
       "    <tr>\n",
       "      <th>4</th>\n",
       "      <td>1</td>\n",
       "      <td>4028.687306</td>\n",
       "      <td>26.265803</td>\n",
       "      <td>2021-08-28</td>\n",
       "      <td>8</td>\n",
       "    </tr>\n",
       "  </tbody>\n",
       "</table>\n",
       "</div>"
      ],
      "text/plain": [
       "   user_id     distance   duration       date  month\n",
       "0        1  4409.919140  25.599769 2021-01-01      1\n",
       "1        1  2617.592153  15.816871 2021-01-18      1\n",
       "2        1   754.159807   6.232113 2021-04-20      4\n",
       "3        1  2694.783254  18.511000 2021-08-11      8\n",
       "4        1  4028.687306  26.265803 2021-08-28      8"
      ]
     },
     "execution_count": 19,
     "metadata": {},
     "output_type": "execute_result"
    }
   ],
   "source": [
    "rides.head()"
   ]
  },
  {
   "cell_type": "markdown",
   "id": "cdd92759",
   "metadata": {},
   "source": []
  },
  {
   "cell_type": "markdown",
   "id": "970ef0e1",
   "metadata": {},
   "source": [
    "***Промежуточный итог***  \n",
    "В ходе предобработки в исходном датасете users были убраны дубликаты, а в датасете rides исправлен типа данных DateTime."
   ]
  },
  {
   "cell_type": "markdown",
   "id": "212593c7",
   "metadata": {},
   "source": [
    "## Шаг 3. Исследовательский анализ данных"
   ]
  },
  {
   "cell_type": "markdown",
   "id": "f85fe2e4",
   "metadata": {},
   "source": [
    "Оценим распределение клиентов по городам"
   ]
  },
  {
   "cell_type": "code",
   "execution_count": 20,
   "id": "192959be",
   "metadata": {},
   "outputs": [
    {
     "data": {
      "text/plain": [
       "city\n",
       "Москва            168\n",
       "Тюмень            180\n",
       "Омск              183\n",
       "Сочи              189\n",
       "Краснодар         193\n",
       "Ростов-на-Дону    198\n",
       "Екатеринбург      204\n",
       "Пятигорск         219\n",
       "Name: city, dtype: int64"
      ]
     },
     "execution_count": 20,
     "metadata": {},
     "output_type": "execute_result"
    }
   ],
   "source": [
    "users.groupby('city')['city'].count().sort_values()"
   ]
  },
  {
   "cell_type": "code",
   "execution_count": 21,
   "id": "e3a4274c",
   "metadata": {},
   "outputs": [
    {
     "data": {
      "image/png": "[encoded data removed]",
      "text/plain": [
       "<Figure size 1200x700 with 1 Axes>"
      ]
     },
     "metadata": {},
     "output_type": "display_data"
    }
   ],
   "source": [
    "users.groupby('city')['city'].count().plot(kind='barh', x='city', y='count', figsize = (12, 7));\n",
    "plt.title('Распределение по городам')\n",
    "plt.ylabel('Количество клиентов')\n",
    "plt.xlabel('Город')\n",
    "plt.show()"
   ]
  },
  {
   "cell_type": "markdown",
   "id": "11a10253",
   "metadata": {},
   "source": [
    "Из графика видно, что у сервиса GoFast больше всего клиентов в Пятигорске (219), а меньше всего - в Москве (168)"
   ]
  },
  {
   "cell_type": "markdown",
   "id": "5c04713b",
   "metadata": {},
   "source": [
    "Оценим, сколько клиентов имеют подписку, а сколько пользуются самокатами без подписки."
   ]
  },
  {
   "cell_type": "code",
   "execution_count": 22,
   "id": "7b683380",
   "metadata": {},
   "outputs": [
    {
     "data": {
      "text/plain": [
       "subscription_type\n",
       "free     835\n",
       "ultra    699\n",
       "Name: subscription_type, dtype: int64"
      ]
     },
     "execution_count": 22,
     "metadata": {},
     "output_type": "execute_result"
    }
   ],
   "source": [
    "users.groupby('subscription_type')['subscription_type'].count()"
   ]
  },
  {
   "cell_type": "code",
   "execution_count": 23,
   "id": "dd8eeba8",
   "metadata": {},
   "outputs": [
    {
     "data": {
      "image/png": "[encoded data removed]",
      "text/plain": [
       "<Figure size 700x700 with 1 Axes>"
      ]
     },
     "metadata": {},
     "output_type": "display_data"
    }
   ],
   "source": [
    "users.groupby('subscription_type')['subscription_type'].count().plot(kind='pie', y='count', \\\n",
    "        autopct='%1.0f%%', colors = ['green', 'red'], figsize = (7, 7), legend=True);\n",
    "plt.title('Распределение клиентов по подпискам')\n",
    "plt.legend(loc='upper right', bbox_to_anchor=(1, 1), borderaxespad= 2)\n",
    "plt.ylabel('')\n",
    "plt.show()"
   ]
  },
  {
   "cell_type": "markdown",
   "id": "39c9d351",
   "metadata": {},
   "source": [
    "Из диаграммы видно, что соотношение клиентов с подпиской и без - 46% на 54%. Подписчиков меньше (699), чем клиентов без подписки (835)"
   ]
  },
  {
   "cell_type": "markdown",
   "id": "019a4bfe",
   "metadata": {},
   "source": [
    "### Возраст пользователей сервиса GoFast"
   ]
  },
  {
   "cell_type": "markdown",
   "id": "a0a702cc",
   "metadata": {},
   "source": [
    "Оценим возраст клиентов сервиса GoFast"
   ]
  },
  {
   "cell_type": "code",
   "execution_count": 24,
   "id": "b89f5f38",
   "metadata": {},
   "outputs": [
    {
     "data": {
      "text/plain": [
       "count    1534.000000\n",
       "mean       24.903520\n",
       "std         4.572367\n",
       "min        12.000000\n",
       "25%        22.000000\n",
       "50%        25.000000\n",
       "75%        28.000000\n",
       "max        43.000000\n",
       "Name: age, dtype: float64"
      ]
     },
     "execution_count": 24,
     "metadata": {},
     "output_type": "execute_result"
    }
   ],
   "source": [
    "users['age'].describe()"
   ]
  },
  {
   "cell_type": "code",
   "execution_count": 25,
   "id": "ea8e67f4",
   "metadata": {},
   "outputs": [
    {
     "data": {
      "image/png": "[encoded data removed]",
      "text/plain": [
       "<Figure size 1200x700 with 1 Axes>"
      ]
     },
     "metadata": {},
     "output_type": "display_data"
    }
   ],
   "source": [
    "users['age'].hist(bins=30, figsize = (12, 7));\n",
    "plt.title('Распределение клиентов по возрастам')\n",
    "plt.ylabel('Количество клиентов')\n",
    "plt.xlabel('Возраст')\n",
    "plt.show()"
   ]
  },
  {
   "cell_type": "markdown",
   "id": "232510b8",
   "metadata": {},
   "source": [
    "Больше всего клиентов сервиса в возрасте 25 лет, но есть и 43-летние и 12-летние любители самокатов. В целом распределенеи клиентов по возрасту нормальное."
   ]
  },
  {
   "cell_type": "markdown",
   "id": "660c33c2",
   "metadata": {},
   "source": [
    "### Продолжительность одной поездки"
   ]
  },
  {
   "cell_type": "markdown",
   "id": "6929a100",
   "metadata": {},
   "source": [
    "Оценим продолжительность одной поездки всех клиентов сервиса GoFast"
   ]
  },
  {
   "cell_type": "code",
   "execution_count": 26,
   "id": "1e832852",
   "metadata": {},
   "outputs": [
    {
     "data": {
      "text/plain": [
       "count    18068.000000\n",
       "mean        17.805011\n",
       "std          6.091051\n",
       "min          0.500000\n",
       "25%         13.597563\n",
       "50%         17.678395\n",
       "75%         21.724800\n",
       "max         40.823963\n",
       "Name: duration, dtype: float64"
      ]
     },
     "execution_count": 26,
     "metadata": {},
     "output_type": "execute_result"
    }
   ],
   "source": [
    "rides['duration'].describe()"
   ]
  },
  {
   "cell_type": "markdown",
   "id": "5aa43108",
   "metadata": {},
   "source": [
    "Средняя поездка длится почти 18 минут. Средняя и медианная - практически равны"
   ]
  },
  {
   "cell_type": "code",
   "execution_count": 27,
   "id": "c59ece05",
   "metadata": {},
   "outputs": [
    {
     "data": {
      "image/png": "[encoded data removed]",
      "text/plain": [
       "<Figure size 1200x700 with 1 Axes>"
      ]
     },
     "metadata": {},
     "output_type": "display_data"
    }
   ],
   "source": [
    "rides['duration'].hist(bins=100, figsize = (12, 7));\n",
    "plt.title('Распределение поездок по длительности')\n",
    "plt.ylabel('Количество')\n",
    "plt.xlabel('Длительность (минут)')\n",
    "plt.show()"
   ]
  },
  {
   "cell_type": "markdown",
   "id": "5964e1cf",
   "metadata": {},
   "source": [
    "Из гистограммы виден выброс в данных около 1 минуты."
   ]
  },
  {
   "cell_type": "code",
   "execution_count": 28,
   "id": "1a82917c",
   "metadata": {},
   "outputs": [
    {
     "name": "stdout",
     "output_type": "stream",
     "text": [
      "Поездок длительностью, меньше 4 - 183\n",
      "Поездок длительностью, меньше 3 - 128\n",
      "Поездок длительностью, меньше 2 - 95\n",
      "Поездок длительностью, меньше 1 - 95\n"
     ]
    }
   ],
   "source": [
    "for d in [4, 3, 2, 1]:\n",
    "    c = rides[rides['duration'] < d]['duration'].count()\n",
    "    print('Поездок длительностью, меньше', d, '-', c)"
   ]
  },
  {
   "cell_type": "code",
   "execution_count": 29,
   "id": "d184dce2",
   "metadata": {},
   "outputs": [
    {
     "data": {
      "text/html": [
       "<div>\n",
       "<style scoped>\n",
       "    .dataframe tbody tr th:only-of-type {\n",
       "        vertical-align: middle;\n",
       "    }\n",
       "\n",
       "    .dataframe tbody tr th {\n",
       "        vertical-align: top;\n",
       "    }\n",
       "\n",
       "    .dataframe thead th {\n",
       "        text-align: right;\n",
       "    }\n",
       "</style>\n",
       "<table border=\"1\" class=\"dataframe\">\n",
       "  <thead>\n",
       "    <tr style=\"text-align: right;\">\n",
       "      <th></th>\n",
       "      <th>count</th>\n",
       "      <th>mean</th>\n",
       "      <th>min</th>\n",
       "      <th>25%</th>\n",
       "      <th>50%</th>\n",
       "      <th>75%</th>\n",
       "      <th>max</th>\n",
       "      <th>std</th>\n",
       "    </tr>\n",
       "  </thead>\n",
       "  <tbody>\n",
       "    <tr>\n",
       "      <th>user_id</th>\n",
       "      <td>95.0</td>\n",
       "      <td>1092.210526</td>\n",
       "      <td>701.0</td>\n",
       "      <td>901.0</td>\n",
       "      <td>1069.0</td>\n",
       "      <td>1310.5</td>\n",
       "      <td>1524.0</td>\n",
       "      <td>244.028551</td>\n",
       "    </tr>\n",
       "    <tr>\n",
       "      <th>distance</th>\n",
       "      <td>95.0</td>\n",
       "      <td>5113.176549</td>\n",
       "      <td>4030.308008</td>\n",
       "      <td>4611.51082</td>\n",
       "      <td>5052.769411</td>\n",
       "      <td>5488.459099</td>\n",
       "      <td>7211.007745</td>\n",
       "      <td>658.254104</td>\n",
       "    </tr>\n",
       "    <tr>\n",
       "      <th>duration</th>\n",
       "      <td>95.0</td>\n",
       "      <td>0.5</td>\n",
       "      <td>0.5</td>\n",
       "      <td>0.5</td>\n",
       "      <td>0.5</td>\n",
       "      <td>0.5</td>\n",
       "      <td>0.5</td>\n",
       "      <td>0.0</td>\n",
       "    </tr>\n",
       "    <tr>\n",
       "      <th>date</th>\n",
       "      <td>95</td>\n",
       "      <td>2021-07-01 13:53:41.052631552</td>\n",
       "      <td>2021-01-05 00:00:00</td>\n",
       "      <td>2021-03-16 00:00:00</td>\n",
       "      <td>2021-06-18 00:00:00</td>\n",
       "      <td>2021-10-18 12:00:00</td>\n",
       "      <td>2021-12-27 00:00:00</td>\n",
       "      <td>NaN</td>\n",
       "    </tr>\n",
       "    <tr>\n",
       "      <th>month</th>\n",
       "      <td>95.0</td>\n",
       "      <td>6.484211</td>\n",
       "      <td>1.0</td>\n",
       "      <td>3.0</td>\n",
       "      <td>6.0</td>\n",
       "      <td>10.0</td>\n",
       "      <td>12.0</td>\n",
       "      <td>3.709858</td>\n",
       "    </tr>\n",
       "  </tbody>\n",
       "</table>\n",
       "</div>"
      ],
      "text/plain": [
       "         count                           mean                  min  \\\n",
       "user_id   95.0                    1092.210526                701.0   \n",
       "distance  95.0                    5113.176549          4030.308008   \n",
       "duration  95.0                            0.5                  0.5   \n",
       "date        95  2021-07-01 13:53:41.052631552  2021-01-05 00:00:00   \n",
       "month     95.0                       6.484211                  1.0   \n",
       "\n",
       "                          25%                  50%                  75%  \\\n",
       "user_id                 901.0               1069.0               1310.5   \n",
       "distance           4611.51082          5052.769411          5488.459099   \n",
       "duration                  0.5                  0.5                  0.5   \n",
       "date      2021-03-16 00:00:00  2021-06-18 00:00:00  2021-10-18 12:00:00   \n",
       "month                     3.0                  6.0                 10.0   \n",
       "\n",
       "                          max         std  \n",
       "user_id                1524.0  244.028551  \n",
       "distance          7211.007745  658.254104  \n",
       "duration                  0.5         0.0  \n",
       "date      2021-12-27 00:00:00         NaN  \n",
       "month                    12.0    3.709858  "
      ]
     },
     "execution_count": 29,
     "metadata": {},
     "output_type": "execute_result"
    }
   ],
   "source": [
    "rides[(rides['duration'] < 1)].describe().T"
   ]
  },
  {
   "cell_type": "markdown",
   "id": "405b0f88",
   "metadata": {},
   "source": [
    "95 поездок имеют продолжительность ровно 0,5 минуты, при этом у них разные дистанции порядка 4000-7000 метров. 4 км за 30 секунд, это 480 км в час. Что-то тут явно не то.   \n",
    "Некорректные данные по времени поездки можно скорректировать, если разделить дистанциию на скорость.  \n",
    "Скорость посчитаем разными способами."
   ]
  },
  {
   "cell_type": "markdown",
   "id": "26a5198a",
   "metadata": {},
   "source": [
    "Первый: возьмем среднее от отношения дистанции к длительности в каждой конкретной поездке"
   ]
  },
  {
   "cell_type": "code",
   "execution_count": 30,
   "id": "4afc1c02",
   "metadata": {},
   "outputs": [
    {
     "data": {
      "text/plain": [
       "176.91526708769788"
      ]
     },
     "execution_count": 30,
     "metadata": {},
     "output_type": "execute_result"
    }
   ],
   "source": [
    "(rides[(rides['duration'] > 1)]['distance'] / rides[(rides['duration'] > 1)]['duration']).mean()"
   ]
  },
  {
   "cell_type": "markdown",
   "id": "95b553b2",
   "metadata": {},
   "source": [
    "Второй: разделим средние или медианные длительности на средние или медианные растояния  \n",
    "Для этого возьмем статистически хактеристики датасета rides без строк с длительностью поездки меньше 1 минуты."
   ]
  },
  {
   "cell_type": "code",
   "execution_count": 31,
   "id": "03789d5d",
   "metadata": {},
   "outputs": [
    {
     "data": {
      "text/html": [
       "<div>\n",
       "<style scoped>\n",
       "    .dataframe tbody tr th:only-of-type {\n",
       "        vertical-align: middle;\n",
       "    }\n",
       "\n",
       "    .dataframe tbody tr th {\n",
       "        vertical-align: top;\n",
       "    }\n",
       "\n",
       "    .dataframe thead th {\n",
       "        text-align: right;\n",
       "    }\n",
       "</style>\n",
       "<table border=\"1\" class=\"dataframe\">\n",
       "  <thead>\n",
       "    <tr style=\"text-align: right;\">\n",
       "      <th></th>\n",
       "      <th>count</th>\n",
       "      <th>mean</th>\n",
       "      <th>min</th>\n",
       "      <th>25%</th>\n",
       "      <th>50%</th>\n",
       "      <th>75%</th>\n",
       "      <th>max</th>\n",
       "      <th>std</th>\n",
       "    </tr>\n",
       "  </thead>\n",
       "  <tbody>\n",
       "    <tr>\n",
       "      <th>user_id</th>\n",
       "      <td>17973.0</td>\n",
       "      <td>841.551995</td>\n",
       "      <td>1.0</td>\n",
       "      <td>484.0</td>\n",
       "      <td>887.0</td>\n",
       "      <td>1213.0</td>\n",
       "      <td>1534.0</td>\n",
       "      <td>435.144929</td>\n",
       "    </tr>\n",
       "    <tr>\n",
       "      <th>distance</th>\n",
       "      <td>17973.0</td>\n",
       "      <td>3059.863833</td>\n",
       "      <td>0.855683</td>\n",
       "      <td>2538.839628</td>\n",
       "      <td>3129.029255</td>\n",
       "      <td>3762.636244</td>\n",
       "      <td>7066.003772</td>\n",
       "      <td>1108.814612</td>\n",
       "    </tr>\n",
       "    <tr>\n",
       "      <th>duration</th>\n",
       "      <td>17973.0</td>\n",
       "      <td>17.89648</td>\n",
       "      <td>2.035632</td>\n",
       "      <td>13.670439</td>\n",
       "      <td>17.714122</td>\n",
       "      <td>21.747016</td>\n",
       "      <td>40.823963</td>\n",
       "      <td>5.975424</td>\n",
       "    </tr>\n",
       "    <tr>\n",
       "      <th>date</th>\n",
       "      <td>17973</td>\n",
       "      <td>2021-06-30 19:41:36.745117696</td>\n",
       "      <td>2021-01-01 00:00:00</td>\n",
       "      <td>2021-04-02 00:00:00</td>\n",
       "      <td>2021-06-30 00:00:00</td>\n",
       "      <td>2021-09-28 00:00:00</td>\n",
       "      <td>2021-12-30 00:00:00</td>\n",
       "      <td>NaN</td>\n",
       "    </tr>\n",
       "    <tr>\n",
       "      <th>month</th>\n",
       "      <td>17973.0</td>\n",
       "      <td>6.486786</td>\n",
       "      <td>1.0</td>\n",
       "      <td>4.0</td>\n",
       "      <td>6.0</td>\n",
       "      <td>9.0</td>\n",
       "      <td>12.0</td>\n",
       "      <td>3.436024</td>\n",
       "    </tr>\n",
       "  </tbody>\n",
       "</table>\n",
       "</div>"
      ],
      "text/plain": [
       "            count                           mean                  min  \\\n",
       "user_id   17973.0                     841.551995                  1.0   \n",
       "distance  17973.0                    3059.863833             0.855683   \n",
       "duration  17973.0                       17.89648             2.035632   \n",
       "date        17973  2021-06-30 19:41:36.745117696  2021-01-01 00:00:00   \n",
       "month     17973.0                       6.486786                  1.0   \n",
       "\n",
       "                          25%                  50%                  75%  \\\n",
       "user_id                 484.0                887.0               1213.0   \n",
       "distance          2538.839628          3129.029255          3762.636244   \n",
       "duration            13.670439            17.714122            21.747016   \n",
       "date      2021-04-02 00:00:00  2021-06-30 00:00:00  2021-09-28 00:00:00   \n",
       "month                     4.0                  6.0                  9.0   \n",
       "\n",
       "                          max          std  \n",
       "user_id                1534.0   435.144929  \n",
       "distance          7066.003772  1108.814612  \n",
       "duration            40.823963     5.975424  \n",
       "date      2021-12-30 00:00:00          NaN  \n",
       "month                    12.0     3.436024  "
      ]
     },
     "execution_count": 31,
     "metadata": {},
     "output_type": "execute_result"
    }
   ],
   "source": [
    "rides[(rides['duration'] > 1)].describe().T"
   ]
  },
  {
   "cell_type": "code",
   "execution_count": 32,
   "id": "29b5ea72",
   "metadata": {},
   "outputs": [
    {
     "name": "stdout",
     "output_type": "stream",
     "text": [
      "Скорость самокатов по средним дистанциям и времени (метров в минуту):  170.97573561951847\n",
      "Скорость самокатов по медианам дистанции и времени (метров в минуту):  176.6403807651319\n"
     ]
    }
   ],
   "source": [
    "print('Скорость самокатов по средним дистанциям и времени (метров в минуту): ', 3059.863833 / 17.89648)\n",
    "print('Скорость самокатов по медианам дистанции и времени (метров в минуту): ', 3129.029255 / 17.714122)"
   ]
  },
  {
   "cell_type": "markdown",
   "id": "6171a985",
   "metadata": {},
   "source": [
    "В итоге возмьмем для корректировки - 176 метров в минуту"
   ]
  },
  {
   "cell_type": "code",
   "execution_count": 33,
   "id": "1f7d2e85",
   "metadata": {},
   "outputs": [],
   "source": [
    "rides.loc[rides['duration'] < 1, 'duration'] = rides['distance'] / 176"
   ]
  },
  {
   "cell_type": "markdown",
   "id": "830789f7",
   "metadata": {},
   "source": [
    "Еще раз смоторим гистограмму длительности поездок"
   ]
  },
  {
   "cell_type": "code",
   "execution_count": 34,
   "id": "890c7be6",
   "metadata": {},
   "outputs": [
    {
     "data": {
      "image/png": "[encoded data removed]",
      "text/plain": [
       "<Figure size 1200x700 with 1 Axes>"
      ]
     },
     "metadata": {},
     "output_type": "display_data"
    }
   ],
   "source": [
    "rides['duration'].hist(bins=100, figsize = (12, 7));\n",
    "plt.title('Распределение поездок по длительности')\n",
    "plt.ylabel('Количество поездок')\n",
    "plt.xlabel('Длительность (минут)')\n",
    "plt.show()"
   ]
  },
  {
   "cell_type": "code",
   "execution_count": 35,
   "id": "69284c6f",
   "metadata": {},
   "outputs": [
    {
     "data": {
      "text/plain": [
       "count    18068.000000\n",
       "mean        17.955136\n",
       "std          6.020105\n",
       "min          2.035632\n",
       "25%         13.697117\n",
       "50%         17.750643\n",
       "75%         21.824361\n",
       "max         40.971635\n",
       "Name: duration, dtype: float64"
      ]
     },
     "execution_count": 35,
     "metadata": {},
     "output_type": "execute_result"
    }
   ],
   "source": [
    "rides['duration'].describe()"
   ]
  },
  {
   "cell_type": "markdown",
   "id": "519ace9a",
   "metadata": {},
   "source": [
    "Теперь выбросов в данных длительности одной поездки всех пользователей сервиса GoFast - нет"
   ]
  },
  {
   "cell_type": "markdown",
   "id": "abe1013c",
   "metadata": {},
   "source": [
    "### Дистанция одной поездки"
   ]
  },
  {
   "cell_type": "markdown",
   "id": "f7e34fe8",
   "metadata": {},
   "source": [
    "Оценим дистанцию одной поездки всех клиентов сервиса GoFast"
   ]
  },
  {
   "cell_type": "code",
   "execution_count": 36,
   "id": "15bcc5fa",
   "metadata": {},
   "outputs": [
    {
     "data": {
      "text/plain": [
       "count    18068.000000\n",
       "mean      3070.659976\n",
       "std       1116.831209\n",
       "min          0.855683\n",
       "25%       2543.226360\n",
       "50%       3133.609994\n",
       "75%       3776.222735\n",
       "max       7211.007745\n",
       "Name: distance, dtype: float64"
      ]
     },
     "execution_count": 36,
     "metadata": {},
     "output_type": "execute_result"
    }
   ],
   "source": [
    "rides['distance'].describe()"
   ]
  },
  {
   "cell_type": "markdown",
   "id": "584a55d9",
   "metadata": {},
   "source": [
    "Средняя поездка составляет 3070 метра, а медианная - 3133 метра"
   ]
  },
  {
   "cell_type": "code",
   "execution_count": 37,
   "id": "63e98f34",
   "metadata": {},
   "outputs": [
    {
     "data": {
      "image/png": "[encoded data removed]",
      "text/plain": [
       "<Figure size 1200x700 with 1 Axes>"
      ]
     },
     "metadata": {},
     "output_type": "display_data"
    }
   ],
   "source": [
    "rides['distance'].hist(bins=100, figsize = (12, 7));\n",
    "plt.title('Распределение поездок по расстоянию')\n",
    "plt.ylabel('Количество поездок')\n",
    "plt.xlabel('Расстояние (метров)')\n",
    "plt.show()"
   ]
  },
  {
   "cell_type": "markdown",
   "id": "c48b9714",
   "metadata": {},
   "source": [
    "Гисторграмма дистанции одной поездки всех клиентов сервиса GoFast показывает два пика: короткие поездки порядка 600 метров и основной около 3000 метров"
   ]
  },
  {
   "cell_type": "markdown",
   "id": "f8e2c97b",
   "metadata": {},
   "source": [
    "Оценим \"хвосты\" в данных дистанции одной поездки всех клиентов"
   ]
  },
  {
   "cell_type": "code",
   "execution_count": 38,
   "id": "97e2671c",
   "metadata": {},
   "outputs": [
    {
     "data": {
      "image/png": "[encoded data removed]",
      "text/plain": [
       "<Figure size 640x480 with 1 Axes>"
      ]
     },
     "metadata": {},
     "output_type": "display_data"
    }
   ],
   "source": [
    "rides.boxplot(column='distance');"
   ]
  },
  {
   "cell_type": "markdown",
   "id": "04c06bae",
   "metadata": {},
   "source": [
    "Оценим выбросы по процентилям 2% и 98%"
   ]
  },
  {
   "cell_type": "code",
   "execution_count": 39,
   "id": "7368ccc1",
   "metadata": {},
   "outputs": [
    {
     "data": {
      "text/plain": [
       "5172.300006336312"
      ]
     },
     "execution_count": 39,
     "metadata": {},
     "output_type": "execute_result"
    }
   ],
   "source": [
    "np.quantile(rides.distance, 0.98)"
   ]
  },
  {
   "cell_type": "code",
   "execution_count": 40,
   "id": "dd81c311",
   "metadata": {},
   "outputs": [
    {
     "data": {
      "text/plain": [
       "362"
      ]
     },
     "execution_count": 40,
     "metadata": {},
     "output_type": "execute_result"
    }
   ],
   "source": [
    "rides[(rides['distance'] > 5172)]['distance'].count()"
   ]
  },
  {
   "cell_type": "code",
   "execution_count": 41,
   "id": "268cc5db",
   "metadata": {},
   "outputs": [
    {
     "data": {
      "text/plain": [
       "350.91245864442516"
      ]
     },
     "execution_count": 41,
     "metadata": {},
     "output_type": "execute_result"
    }
   ],
   "source": [
    "np.quantile(rides.distance, 0.02)"
   ]
  },
  {
   "cell_type": "code",
   "execution_count": 42,
   "id": "67b9c225",
   "metadata": {},
   "outputs": [
    {
     "data": {
      "text/plain": [
       "361"
      ]
     },
     "execution_count": 42,
     "metadata": {},
     "output_type": "execute_result"
    }
   ],
   "source": [
    "rides[(rides['distance'] < 350)]['distance'].count()"
   ]
  },
  {
   "cell_type": "markdown",
   "id": "0992988b",
   "metadata": {},
   "source": [
    "Оценим самые-самые концы \"хвостов\""
   ]
  },
  {
   "cell_type": "code",
   "execution_count": 43,
   "id": "f87e951b",
   "metadata": {},
   "outputs": [
    {
     "data": {
      "text/html": [
       "<div>\n",
       "<style scoped>\n",
       "    .dataframe tbody tr th:only-of-type {\n",
       "        vertical-align: middle;\n",
       "    }\n",
       "\n",
       "    .dataframe tbody tr th {\n",
       "        vertical-align: top;\n",
       "    }\n",
       "\n",
       "    .dataframe thead th {\n",
       "        text-align: right;\n",
       "    }\n",
       "</style>\n",
       "<table border=\"1\" class=\"dataframe\">\n",
       "  <thead>\n",
       "    <tr style=\"text-align: right;\">\n",
       "      <th></th>\n",
       "      <th>user_id</th>\n",
       "      <th>distance</th>\n",
       "      <th>duration</th>\n",
       "      <th>date</th>\n",
       "      <th>month</th>\n",
       "    </tr>\n",
       "  </thead>\n",
       "  <tbody>\n",
       "    <tr>\n",
       "      <th>11555</th>\n",
       "      <td>1069</td>\n",
       "      <td>0.855683</td>\n",
       "      <td>10.001902</td>\n",
       "      <td>2021-01-31</td>\n",
       "      <td>1</td>\n",
       "    </tr>\n",
       "    <tr>\n",
       "      <th>9541</th>\n",
       "      <td>925</td>\n",
       "      <td>2.570787</td>\n",
       "      <td>3.011018</td>\n",
       "      <td>2021-10-19</td>\n",
       "      <td>10</td>\n",
       "    </tr>\n",
       "    <tr>\n",
       "      <th>13690</th>\n",
       "      <td>1223</td>\n",
       "      <td>4.329506</td>\n",
       "      <td>4.008958</td>\n",
       "      <td>2021-05-22</td>\n",
       "      <td>5</td>\n",
       "    </tr>\n",
       "    <tr>\n",
       "      <th>8658</th>\n",
       "      <td>861</td>\n",
       "      <td>6.784447</td>\n",
       "      <td>6.015656</td>\n",
       "      <td>2021-07-21</td>\n",
       "      <td>7</td>\n",
       "    </tr>\n",
       "    <tr>\n",
       "      <th>7841</th>\n",
       "      <td>796</td>\n",
       "      <td>7.097072</td>\n",
       "      <td>10.026614</td>\n",
       "      <td>2021-11-26</td>\n",
       "      <td>11</td>\n",
       "    </tr>\n",
       "  </tbody>\n",
       "</table>\n",
       "</div>"
      ],
      "text/plain": [
       "       user_id  distance   duration       date  month\n",
       "11555     1069  0.855683  10.001902 2021-01-31      1\n",
       "9541       925  2.570787   3.011018 2021-10-19     10\n",
       "13690     1223  4.329506   4.008958 2021-05-22      5\n",
       "8658       861  6.784447   6.015656 2021-07-21      7\n",
       "7841       796  7.097072  10.026614 2021-11-26     11"
      ]
     },
     "execution_count": 43,
     "metadata": {},
     "output_type": "execute_result"
    }
   ],
   "source": [
    "rides[(rides['distance'] < 100)].sort_values(by='distance').head(5)"
   ]
  },
  {
   "cell_type": "code",
   "execution_count": 44,
   "id": "aae8f77b",
   "metadata": {},
   "outputs": [
    {
     "data": {
      "text/html": [
       "<div>\n",
       "<style scoped>\n",
       "    .dataframe tbody tr th:only-of-type {\n",
       "        vertical-align: middle;\n",
       "    }\n",
       "\n",
       "    .dataframe tbody tr th {\n",
       "        vertical-align: top;\n",
       "    }\n",
       "\n",
       "    .dataframe thead th {\n",
       "        text-align: right;\n",
       "    }\n",
       "</style>\n",
       "<table border=\"1\" class=\"dataframe\">\n",
       "  <thead>\n",
       "    <tr style=\"text-align: right;\">\n",
       "      <th></th>\n",
       "      <th>user_id</th>\n",
       "      <th>distance</th>\n",
       "      <th>duration</th>\n",
       "      <th>date</th>\n",
       "      <th>month</th>\n",
       "    </tr>\n",
       "  </thead>\n",
       "  <tbody>\n",
       "    <tr>\n",
       "      <th>16309</th>\n",
       "      <td>1411</td>\n",
       "      <td>7211.007745</td>\n",
       "      <td>40.971635</td>\n",
       "      <td>2021-04-15</td>\n",
       "      <td>4</td>\n",
       "    </tr>\n",
       "    <tr>\n",
       "      <th>16484</th>\n",
       "      <td>1422</td>\n",
       "      <td>7066.003772</td>\n",
       "      <td>23.619318</td>\n",
       "      <td>2021-02-12</td>\n",
       "      <td>2</td>\n",
       "    </tr>\n",
       "    <tr>\n",
       "      <th>15580</th>\n",
       "      <td>1361</td>\n",
       "      <td>6908.491343</td>\n",
       "      <td>23.816983</td>\n",
       "      <td>2021-03-27</td>\n",
       "      <td>3</td>\n",
       "    </tr>\n",
       "    <tr>\n",
       "      <th>17171</th>\n",
       "      <td>1471</td>\n",
       "      <td>6760.940067</td>\n",
       "      <td>32.043760</td>\n",
       "      <td>2021-08-03</td>\n",
       "      <td>8</td>\n",
       "    </tr>\n",
       "    <tr>\n",
       "      <th>17242</th>\n",
       "      <td>1477</td>\n",
       "      <td>6724.932981</td>\n",
       "      <td>38.209846</td>\n",
       "      <td>2021-01-12</td>\n",
       "      <td>1</td>\n",
       "    </tr>\n",
       "  </tbody>\n",
       "</table>\n",
       "</div>"
      ],
      "text/plain": [
       "       user_id     distance   duration       date  month\n",
       "16309     1411  7211.007745  40.971635 2021-04-15      4\n",
       "16484     1422  7066.003772  23.619318 2021-02-12      2\n",
       "15580     1361  6908.491343  23.816983 2021-03-27      3\n",
       "17171     1471  6760.940067  32.043760 2021-08-03      8\n",
       "17242     1477  6724.932981  38.209846 2021-01-12      1"
      ]
     },
     "execution_count": 44,
     "metadata": {},
     "output_type": "execute_result"
    }
   ],
   "source": [
    "rides[(rides['distance'] > 5172)].sort_values(by='distance', ascending=False).head(5)"
   ]
  },
  {
   "cell_type": "markdown",
   "id": "040fe670",
   "metadata": {},
   "source": [
    "Конечно, поездка на 0.8 метра за 10 минут выглядит совсем подозрительно, как и другие поездки на несколько метров, но почему именно такие данные в датасете - сказать сложно. Самое вероятное: какието технические неполадки самоката, которые клиенты пытались решить. Так как тарификация в сервисе GoFast все равно идет по времени, то отбрасывать короткие по расстоянию поездки не стоит."
   ]
  },
  {
   "cell_type": "markdown",
   "id": "46194251",
   "metadata": {},
   "source": [
    "***Промежуточный итог***  \n",
    "Провели предварительную обработку данных. Преобразовали колонку data в тип DateTime. Убрали 31 дубликат. Провели анализ распределения данных о клиентах сервиса по географии, возрастам, типе подписке - тут корректировка не потребовалась. Данные о поездках проанализировали по длительности и растоянию. Скорректировали выбросы в длительности поездок. "
   ]
  },
  {
   "cell_type": "markdown",
   "id": "4ef51331",
   "metadata": {},
   "source": [
    "## Шаг 4. Объединение данных"
   ]
  },
  {
   "cell_type": "markdown",
   "id": "af0e3d98",
   "metadata": {},
   "source": [
    "Объединим даныне в один датасет. Исходным датасетом станет rides, к которому справа присоединим датасет user по колонке user_id, затем присоединим датасет subscriptions по колонке subscription_type"
   ]
  },
  {
   "cell_type": "code",
   "execution_count": 45,
   "id": "6bf288b5",
   "metadata": {},
   "outputs": [],
   "source": [
    "data = rides.merge(users, on = 'user_id', how='right')"
   ]
  },
  {
   "cell_type": "code",
   "execution_count": 46,
   "id": "1794bd90",
   "metadata": {},
   "outputs": [],
   "source": [
    "data = data.merge(subscriptions, on = 'subscription_type', how='right')"
   ]
  },
  {
   "cell_type": "markdown",
   "id": "9fdb9c36",
   "metadata": {},
   "source": [
    "Проверяем полученный результирующий датасет"
   ]
  },
  {
   "cell_type": "code",
   "execution_count": 47,
   "id": "03d93efd",
   "metadata": {},
   "outputs": [
    {
     "name": "stdout",
     "output_type": "stream",
     "text": [
      "<class 'pandas.core.frame.DataFrame'>\n",
      "RangeIndex: 18068 entries, 0 to 18067\n",
      "Data columns (total 12 columns):\n",
      " #   Column             Non-Null Count  Dtype         \n",
      "---  ------             --------------  -----         \n",
      " 0   user_id            18068 non-null  int64         \n",
      " 1   distance           18068 non-null  float64       \n",
      " 2   duration           18068 non-null  float64       \n",
      " 3   date               18068 non-null  datetime64[ns]\n",
      " 4   month              18068 non-null  int32         \n",
      " 5   name               18068 non-null  object        \n",
      " 6   age                18068 non-null  int64         \n",
      " 7   city               18068 non-null  object        \n",
      " 8   subscription_type  18068 non-null  object        \n",
      " 9   minute_price       18068 non-null  int64         \n",
      " 10  start_ride_price   18068 non-null  int64         \n",
      " 11  subscription_fee   18068 non-null  int64         \n",
      "dtypes: datetime64[ns](1), float64(2), int32(1), int64(5), object(3)\n",
      "memory usage: 1.6+ MB\n"
     ]
    }
   ],
   "source": [
    "data.info()"
   ]
  },
  {
   "cell_type": "code",
   "execution_count": 48,
   "id": "18903959",
   "metadata": {},
   "outputs": [
    {
     "data": {
      "text/plain": [
       "18068"
      ]
     },
     "execution_count": 48,
     "metadata": {},
     "output_type": "execute_result"
    }
   ],
   "source": [
    "len(rides)"
   ]
  },
  {
   "cell_type": "code",
   "execution_count": 49,
   "id": "64f45b10",
   "metadata": {},
   "outputs": [
    {
     "data": {
      "text/plain": [
       "0"
      ]
     },
     "execution_count": 49,
     "metadata": {},
     "output_type": "execute_result"
    }
   ],
   "source": [
    "data.duplicated().sum()"
   ]
  },
  {
   "cell_type": "markdown",
   "id": "c85fe7ec",
   "metadata": {},
   "source": [
    "Размерность результирующего датасета соответствует первому исходному датасету rides - 18068 строк, пропусков - нет, дубликатов - нет."
   ]
  },
  {
   "cell_type": "code",
   "execution_count": 50,
   "id": "79f6b5e6",
   "metadata": {},
   "outputs": [
    {
     "data": {
      "text/html": [
       "<div>\n",
       "<style scoped>\n",
       "    .dataframe tbody tr th:only-of-type {\n",
       "        vertical-align: middle;\n",
       "    }\n",
       "\n",
       "    .dataframe tbody tr th {\n",
       "        vertical-align: top;\n",
       "    }\n",
       "\n",
       "    .dataframe thead th {\n",
       "        text-align: right;\n",
       "    }\n",
       "</style>\n",
       "<table border=\"1\" class=\"dataframe\">\n",
       "  <thead>\n",
       "    <tr style=\"text-align: right;\">\n",
       "      <th></th>\n",
       "      <th>user_id</th>\n",
       "      <th>distance</th>\n",
       "      <th>duration</th>\n",
       "      <th>date</th>\n",
       "      <th>month</th>\n",
       "      <th>name</th>\n",
       "      <th>age</th>\n",
       "      <th>city</th>\n",
       "      <th>subscription_type</th>\n",
       "      <th>minute_price</th>\n",
       "      <th>start_ride_price</th>\n",
       "      <th>subscription_fee</th>\n",
       "    </tr>\n",
       "  </thead>\n",
       "  <tbody>\n",
       "    <tr>\n",
       "      <th>0</th>\n",
       "      <td>700</td>\n",
       "      <td>2515.690719</td>\n",
       "      <td>14.944286</td>\n",
       "      <td>2021-01-02</td>\n",
       "      <td>1</td>\n",
       "      <td>Айдар</td>\n",
       "      <td>22</td>\n",
       "      <td>Омск</td>\n",
       "      <td>free</td>\n",
       "      <td>8</td>\n",
       "      <td>50</td>\n",
       "      <td>0</td>\n",
       "    </tr>\n",
       "    <tr>\n",
       "      <th>1</th>\n",
       "      <td>700</td>\n",
       "      <td>846.932642</td>\n",
       "      <td>16.234663</td>\n",
       "      <td>2021-02-01</td>\n",
       "      <td>2</td>\n",
       "      <td>Айдар</td>\n",
       "      <td>22</td>\n",
       "      <td>Омск</td>\n",
       "      <td>free</td>\n",
       "      <td>8</td>\n",
       "      <td>50</td>\n",
       "      <td>0</td>\n",
       "    </tr>\n",
       "    <tr>\n",
       "      <th>2</th>\n",
       "      <td>700</td>\n",
       "      <td>4004.434142</td>\n",
       "      <td>20.016628</td>\n",
       "      <td>2021-02-04</td>\n",
       "      <td>2</td>\n",
       "      <td>Айдар</td>\n",
       "      <td>22</td>\n",
       "      <td>Омск</td>\n",
       "      <td>free</td>\n",
       "      <td>8</td>\n",
       "      <td>50</td>\n",
       "      <td>0</td>\n",
       "    </tr>\n",
       "    <tr>\n",
       "      <th>3</th>\n",
       "      <td>700</td>\n",
       "      <td>1205.911290</td>\n",
       "      <td>9.782872</td>\n",
       "      <td>2021-02-10</td>\n",
       "      <td>2</td>\n",
       "      <td>Айдар</td>\n",
       "      <td>22</td>\n",
       "      <td>Омск</td>\n",
       "      <td>free</td>\n",
       "      <td>8</td>\n",
       "      <td>50</td>\n",
       "      <td>0</td>\n",
       "    </tr>\n",
       "    <tr>\n",
       "      <th>4</th>\n",
       "      <td>700</td>\n",
       "      <td>3047.379435</td>\n",
       "      <td>17.427673</td>\n",
       "      <td>2021-02-14</td>\n",
       "      <td>2</td>\n",
       "      <td>Айдар</td>\n",
       "      <td>22</td>\n",
       "      <td>Омск</td>\n",
       "      <td>free</td>\n",
       "      <td>8</td>\n",
       "      <td>50</td>\n",
       "      <td>0</td>\n",
       "    </tr>\n",
       "  </tbody>\n",
       "</table>\n",
       "</div>"
      ],
      "text/plain": [
       "   user_id     distance   duration       date  month   name  age  city  \\\n",
       "0      700  2515.690719  14.944286 2021-01-02      1  Айдар   22  Омск   \n",
       "1      700   846.932642  16.234663 2021-02-01      2  Айдар   22  Омск   \n",
       "2      700  4004.434142  20.016628 2021-02-04      2  Айдар   22  Омск   \n",
       "3      700  1205.911290   9.782872 2021-02-10      2  Айдар   22  Омск   \n",
       "4      700  3047.379435  17.427673 2021-02-14      2  Айдар   22  Омск   \n",
       "\n",
       "  subscription_type  minute_price  start_ride_price  subscription_fee  \n",
       "0              free             8                50                 0  \n",
       "1              free             8                50                 0  \n",
       "2              free             8                50                 0  \n",
       "3              free             8                50                 0  \n",
       "4              free             8                50                 0  "
      ]
     },
     "execution_count": 50,
     "metadata": {},
     "output_type": "execute_result"
    }
   ],
   "source": [
    "data.head()"
   ]
  },
  {
   "cell_type": "markdown",
   "id": "b0ab7c3c",
   "metadata": {},
   "source": [
    "Выделим поездки клиентов с подпиской и без в два разных датасета:"
   ]
  },
  {
   "cell_type": "code",
   "execution_count": 51,
   "id": "3b3f5c59",
   "metadata": {},
   "outputs": [],
   "source": [
    "data_free = data[data['subscription_type'] == 'free']"
   ]
  },
  {
   "cell_type": "code",
   "execution_count": 52,
   "id": "0635f135",
   "metadata": {},
   "outputs": [],
   "source": [
    "data_subs = data[data['subscription_type'] == 'ultra']"
   ]
  },
  {
   "cell_type": "markdown",
   "id": "ff80c177",
   "metadata": {},
   "source": []
  },
  {
   "cell_type": "markdown",
   "id": "d0aff99a",
   "metadata": {},
   "source": [
    "Сбрасываем индексы в новых датасетах и проверямм даннные"
   ]
  },
  {
   "cell_type": "code",
   "execution_count": 53,
   "id": "1aba460b",
   "metadata": {},
   "outputs": [
    {
     "name": "stdout",
     "output_type": "stream",
     "text": [
      "<class 'pandas.core.frame.DataFrame'>\n",
      "RangeIndex: 11568 entries, 0 to 11567\n",
      "Data columns (total 13 columns):\n",
      " #   Column             Non-Null Count  Dtype         \n",
      "---  ------             --------------  -----         \n",
      " 0   index              11568 non-null  int64         \n",
      " 1   user_id            11568 non-null  int64         \n",
      " 2   distance           11568 non-null  float64       \n",
      " 3   duration           11568 non-null  float64       \n",
      " 4   date               11568 non-null  datetime64[ns]\n",
      " 5   month              11568 non-null  int32         \n",
      " 6   name               11568 non-null  object        \n",
      " 7   age                11568 non-null  int64         \n",
      " 8   city               11568 non-null  object        \n",
      " 9   subscription_type  11568 non-null  object        \n",
      " 10  minute_price       11568 non-null  int64         \n",
      " 11  start_ride_price   11568 non-null  int64         \n",
      " 12  subscription_fee   11568 non-null  int64         \n",
      "dtypes: datetime64[ns](1), float64(2), int32(1), int64(6), object(3)\n",
      "memory usage: 1.1+ MB\n"
     ]
    }
   ],
   "source": [
    "data_free = data_free.reset_index()\n",
    "data_free.info()"
   ]
  },
  {
   "cell_type": "code",
   "execution_count": 54,
   "id": "c2cbc225",
   "metadata": {},
   "outputs": [
    {
     "data": {
      "text/html": [
       "<div>\n",
       "<style scoped>\n",
       "    .dataframe tbody tr th:only-of-type {\n",
       "        vertical-align: middle;\n",
       "    }\n",
       "\n",
       "    .dataframe tbody tr th {\n",
       "        vertical-align: top;\n",
       "    }\n",
       "\n",
       "    .dataframe thead th {\n",
       "        text-align: right;\n",
       "    }\n",
       "</style>\n",
       "<table border=\"1\" class=\"dataframe\">\n",
       "  <thead>\n",
       "    <tr style=\"text-align: right;\">\n",
       "      <th></th>\n",
       "      <th>index</th>\n",
       "      <th>user_id</th>\n",
       "      <th>distance</th>\n",
       "      <th>duration</th>\n",
       "      <th>date</th>\n",
       "      <th>month</th>\n",
       "      <th>name</th>\n",
       "      <th>age</th>\n",
       "      <th>city</th>\n",
       "      <th>subscription_type</th>\n",
       "      <th>minute_price</th>\n",
       "      <th>start_ride_price</th>\n",
       "      <th>subscription_fee</th>\n",
       "    </tr>\n",
       "  </thead>\n",
       "  <tbody>\n",
       "    <tr>\n",
       "      <th>0</th>\n",
       "      <td>0</td>\n",
       "      <td>700</td>\n",
       "      <td>2515.690719</td>\n",
       "      <td>14.944286</td>\n",
       "      <td>2021-01-02</td>\n",
       "      <td>1</td>\n",
       "      <td>Айдар</td>\n",
       "      <td>22</td>\n",
       "      <td>Омск</td>\n",
       "      <td>free</td>\n",
       "      <td>8</td>\n",
       "      <td>50</td>\n",
       "      <td>0</td>\n",
       "    </tr>\n",
       "    <tr>\n",
       "      <th>1</th>\n",
       "      <td>1</td>\n",
       "      <td>700</td>\n",
       "      <td>846.932642</td>\n",
       "      <td>16.234663</td>\n",
       "      <td>2021-02-01</td>\n",
       "      <td>2</td>\n",
       "      <td>Айдар</td>\n",
       "      <td>22</td>\n",
       "      <td>Омск</td>\n",
       "      <td>free</td>\n",
       "      <td>8</td>\n",
       "      <td>50</td>\n",
       "      <td>0</td>\n",
       "    </tr>\n",
       "    <tr>\n",
       "      <th>2</th>\n",
       "      <td>2</td>\n",
       "      <td>700</td>\n",
       "      <td>4004.434142</td>\n",
       "      <td>20.016628</td>\n",
       "      <td>2021-02-04</td>\n",
       "      <td>2</td>\n",
       "      <td>Айдар</td>\n",
       "      <td>22</td>\n",
       "      <td>Омск</td>\n",
       "      <td>free</td>\n",
       "      <td>8</td>\n",
       "      <td>50</td>\n",
       "      <td>0</td>\n",
       "    </tr>\n",
       "    <tr>\n",
       "      <th>3</th>\n",
       "      <td>3</td>\n",
       "      <td>700</td>\n",
       "      <td>1205.911290</td>\n",
       "      <td>9.782872</td>\n",
       "      <td>2021-02-10</td>\n",
       "      <td>2</td>\n",
       "      <td>Айдар</td>\n",
       "      <td>22</td>\n",
       "      <td>Омск</td>\n",
       "      <td>free</td>\n",
       "      <td>8</td>\n",
       "      <td>50</td>\n",
       "      <td>0</td>\n",
       "    </tr>\n",
       "    <tr>\n",
       "      <th>4</th>\n",
       "      <td>4</td>\n",
       "      <td>700</td>\n",
       "      <td>3047.379435</td>\n",
       "      <td>17.427673</td>\n",
       "      <td>2021-02-14</td>\n",
       "      <td>2</td>\n",
       "      <td>Айдар</td>\n",
       "      <td>22</td>\n",
       "      <td>Омск</td>\n",
       "      <td>free</td>\n",
       "      <td>8</td>\n",
       "      <td>50</td>\n",
       "      <td>0</td>\n",
       "    </tr>\n",
       "  </tbody>\n",
       "</table>\n",
       "</div>"
      ],
      "text/plain": [
       "   index  user_id     distance   duration       date  month   name  age  city  \\\n",
       "0      0      700  2515.690719  14.944286 2021-01-02      1  Айдар   22  Омск   \n",
       "1      1      700   846.932642  16.234663 2021-02-01      2  Айдар   22  Омск   \n",
       "2      2      700  4004.434142  20.016628 2021-02-04      2  Айдар   22  Омск   \n",
       "3      3      700  1205.911290   9.782872 2021-02-10      2  Айдар   22  Омск   \n",
       "4      4      700  3047.379435  17.427673 2021-02-14      2  Айдар   22  Омск   \n",
       "\n",
       "  subscription_type  minute_price  start_ride_price  subscription_fee  \n",
       "0              free             8                50                 0  \n",
       "1              free             8                50                 0  \n",
       "2              free             8                50                 0  \n",
       "3              free             8                50                 0  \n",
       "4              free             8                50                 0  "
      ]
     },
     "execution_count": 54,
     "metadata": {},
     "output_type": "execute_result"
    }
   ],
   "source": [
    "data_free.head()"
   ]
  },
  {
   "cell_type": "code",
   "execution_count": 55,
   "id": "efe1f313",
   "metadata": {},
   "outputs": [
    {
     "name": "stdout",
     "output_type": "stream",
     "text": [
      "<class 'pandas.core.frame.DataFrame'>\n",
      "RangeIndex: 6500 entries, 0 to 6499\n",
      "Data columns (total 13 columns):\n",
      " #   Column             Non-Null Count  Dtype         \n",
      "---  ------             --------------  -----         \n",
      " 0   index              6500 non-null   int64         \n",
      " 1   user_id            6500 non-null   int64         \n",
      " 2   distance           6500 non-null   float64       \n",
      " 3   duration           6500 non-null   float64       \n",
      " 4   date               6500 non-null   datetime64[ns]\n",
      " 5   month              6500 non-null   int32         \n",
      " 6   name               6500 non-null   object        \n",
      " 7   age                6500 non-null   int64         \n",
      " 8   city               6500 non-null   object        \n",
      " 9   subscription_type  6500 non-null   object        \n",
      " 10  minute_price       6500 non-null   int64         \n",
      " 11  start_ride_price   6500 non-null   int64         \n",
      " 12  subscription_fee   6500 non-null   int64         \n",
      "dtypes: datetime64[ns](1), float64(2), int32(1), int64(6), object(3)\n",
      "memory usage: 634.9+ KB\n"
     ]
    }
   ],
   "source": [
    "data_subs = data_subs.reset_index()\n",
    "data_subs.info()"
   ]
  },
  {
   "cell_type": "code",
   "execution_count": 56,
   "id": "6a4f529a",
   "metadata": {},
   "outputs": [
    {
     "data": {
      "text/html": [
       "<div>\n",
       "<style scoped>\n",
       "    .dataframe tbody tr th:only-of-type {\n",
       "        vertical-align: middle;\n",
       "    }\n",
       "\n",
       "    .dataframe tbody tr th {\n",
       "        vertical-align: top;\n",
       "    }\n",
       "\n",
       "    .dataframe thead th {\n",
       "        text-align: right;\n",
       "    }\n",
       "</style>\n",
       "<table border=\"1\" class=\"dataframe\">\n",
       "  <thead>\n",
       "    <tr style=\"text-align: right;\">\n",
       "      <th></th>\n",
       "      <th>index</th>\n",
       "      <th>user_id</th>\n",
       "      <th>distance</th>\n",
       "      <th>duration</th>\n",
       "      <th>date</th>\n",
       "      <th>month</th>\n",
       "      <th>name</th>\n",
       "      <th>age</th>\n",
       "      <th>city</th>\n",
       "      <th>subscription_type</th>\n",
       "      <th>minute_price</th>\n",
       "      <th>start_ride_price</th>\n",
       "      <th>subscription_fee</th>\n",
       "    </tr>\n",
       "  </thead>\n",
       "  <tbody>\n",
       "    <tr>\n",
       "      <th>0</th>\n",
       "      <td>11568</td>\n",
       "      <td>1</td>\n",
       "      <td>4409.919140</td>\n",
       "      <td>25.599769</td>\n",
       "      <td>2021-01-01</td>\n",
       "      <td>1</td>\n",
       "      <td>Кира</td>\n",
       "      <td>22</td>\n",
       "      <td>Тюмень</td>\n",
       "      <td>ultra</td>\n",
       "      <td>6</td>\n",
       "      <td>0</td>\n",
       "      <td>199</td>\n",
       "    </tr>\n",
       "    <tr>\n",
       "      <th>1</th>\n",
       "      <td>11569</td>\n",
       "      <td>1</td>\n",
       "      <td>2617.592153</td>\n",
       "      <td>15.816871</td>\n",
       "      <td>2021-01-18</td>\n",
       "      <td>1</td>\n",
       "      <td>Кира</td>\n",
       "      <td>22</td>\n",
       "      <td>Тюмень</td>\n",
       "      <td>ultra</td>\n",
       "      <td>6</td>\n",
       "      <td>0</td>\n",
       "      <td>199</td>\n",
       "    </tr>\n",
       "    <tr>\n",
       "      <th>2</th>\n",
       "      <td>11570</td>\n",
       "      <td>1</td>\n",
       "      <td>754.159807</td>\n",
       "      <td>6.232113</td>\n",
       "      <td>2021-04-20</td>\n",
       "      <td>4</td>\n",
       "      <td>Кира</td>\n",
       "      <td>22</td>\n",
       "      <td>Тюмень</td>\n",
       "      <td>ultra</td>\n",
       "      <td>6</td>\n",
       "      <td>0</td>\n",
       "      <td>199</td>\n",
       "    </tr>\n",
       "    <tr>\n",
       "      <th>3</th>\n",
       "      <td>11571</td>\n",
       "      <td>1</td>\n",
       "      <td>2694.783254</td>\n",
       "      <td>18.511000</td>\n",
       "      <td>2021-08-11</td>\n",
       "      <td>8</td>\n",
       "      <td>Кира</td>\n",
       "      <td>22</td>\n",
       "      <td>Тюмень</td>\n",
       "      <td>ultra</td>\n",
       "      <td>6</td>\n",
       "      <td>0</td>\n",
       "      <td>199</td>\n",
       "    </tr>\n",
       "    <tr>\n",
       "      <th>4</th>\n",
       "      <td>11572</td>\n",
       "      <td>1</td>\n",
       "      <td>4028.687306</td>\n",
       "      <td>26.265803</td>\n",
       "      <td>2021-08-28</td>\n",
       "      <td>8</td>\n",
       "      <td>Кира</td>\n",
       "      <td>22</td>\n",
       "      <td>Тюмень</td>\n",
       "      <td>ultra</td>\n",
       "      <td>6</td>\n",
       "      <td>0</td>\n",
       "      <td>199</td>\n",
       "    </tr>\n",
       "  </tbody>\n",
       "</table>\n",
       "</div>"
      ],
      "text/plain": [
       "   index  user_id     distance   duration       date  month  name  age  \\\n",
       "0  11568        1  4409.919140  25.599769 2021-01-01      1  Кира   22   \n",
       "1  11569        1  2617.592153  15.816871 2021-01-18      1  Кира   22   \n",
       "2  11570        1   754.159807   6.232113 2021-04-20      4  Кира   22   \n",
       "3  11571        1  2694.783254  18.511000 2021-08-11      8  Кира   22   \n",
       "4  11572        1  4028.687306  26.265803 2021-08-28      8  Кира   22   \n",
       "\n",
       "     city subscription_type  minute_price  start_ride_price  subscription_fee  \n",
       "0  Тюмень             ultra             6                 0               199  \n",
       "1  Тюмень             ultra             6                 0               199  \n",
       "2  Тюмень             ultra             6                 0               199  \n",
       "3  Тюмень             ultra             6                 0               199  \n",
       "4  Тюмень             ultra             6                 0               199  "
      ]
     },
     "execution_count": 56,
     "metadata": {},
     "output_type": "execute_result"
    }
   ],
   "source": [
    "data_subs.head()"
   ]
  },
  {
   "cell_type": "markdown",
   "id": "cf265708",
   "metadata": {},
   "source": [
    "В дальнейшем учитываем, что в датасете 6500 записей поездок клиентов с подпиской и почти в 2 раза больше - 11568 - поездок клиентов без подписки"
   ]
  },
  {
   "cell_type": "markdown",
   "id": "a23efd25",
   "metadata": {},
   "source": [
    "Визуализируем информацию по полученным датасетм клиентов с подпиской и без "
   ]
  },
  {
   "cell_type": "code",
   "execution_count": 57,
   "id": "c80dfaf4",
   "metadata": {},
   "outputs": [
    {
     "data": {
      "image/png": "[encoded data removed]",
      "text/plain": [
       "<Figure size 1200x700 with 1 Axes>"
      ]
     },
     "metadata": {},
     "output_type": "display_data"
    }
   ],
   "source": [
    "data_subs.groupby('user_id')['distance'].mean().hist(bins=50, color='red', figsize = (12, 7));\n",
    "data_free.groupby('user_id')['distance'].mean().hist(bins=50, color='green', alpha=0.7);\n",
    "plt.title('Распределение поездок клиентов по среднему расстоянию \\n Зеленый - без подписки, красный - с подпиской')\n",
    "plt.ylabel('Количество поездок')\n",
    "plt.xlabel('Среднее растояние (метров)')\n",
    "plt.show()"
   ]
  },
  {
   "cell_type": "markdown",
   "id": "10775886",
   "metadata": {},
   "source": [
    "По гистограмме можно сказать, что чаще всего клиенты с подпиской за одну поездку проезжают около 3300 метров, а без подписки - около 3000 метров"
   ]
  },
  {
   "cell_type": "code",
   "execution_count": 58,
   "id": "5ff007fc",
   "metadata": {},
   "outputs": [
    {
     "data": {
      "image/png": "[encoded data removed]",
      "text/plain": [
       "<Figure size 1200x700 with 1 Axes>"
      ]
     },
     "metadata": {},
     "output_type": "display_data"
    }
   ],
   "source": [
    "data_subs.groupby('user_id')['distance'].sum().hist(bins=50, color='red', figsize = (12, 7));\n",
    "data_free.groupby('user_id')['distance'].sum().hist(bins=50, color='green', alpha=0.7);\n",
    "plt.title('Распределение поездок клиентов по суммарному расстоянию \\n Зеленый - без подписки, красный - с подпиской')\n",
    "plt.ylabel('Количество поездок')\n",
    "plt.xlabel('Суммарное растояние (метров)' )\n",
    "plt.show()"
   ]
  },
  {
   "cell_type": "markdown",
   "id": "26bf9eb6",
   "metadata": {},
   "source": [
    "По гистограмме можно сказать, что клиенты с подпиской в сумме проезжают меньше, чем клиенты без подписки. Что неувидительно, ведь последних почти в 2 раза больше"
   ]
  },
  {
   "cell_type": "code",
   "execution_count": 59,
   "id": "e8442190",
   "metadata": {},
   "outputs": [
    {
     "data": {
      "image/png": "[encoded data removed]",
      "text/plain": [
       "<Figure size 1200x700 with 1 Axes>"
      ]
     },
     "metadata": {},
     "output_type": "display_data"
    }
   ],
   "source": [
    "data_subs.groupby('user_id')['duration'].mean().hist(bins=50, color='red', figsize = (12, 7));\n",
    "data_free.groupby('user_id')['duration'].mean().hist(bins=50, color='green', alpha=0.7);\n",
    "plt.title('Распределение поездок клиентов по средней продолжительности\\n Зеленый - без подписки, красный - с подпиской')\n",
    "plt.ylabel('Количество поездок')\n",
    "plt.xlabel('Средняя проджолжительность (минут)')\n",
    "plt.show()"
   ]
  },
  {
   "cell_type": "markdown",
   "id": "c7e1e110",
   "metadata": {},
   "source": [
    "По гистограмме можно сказать, что чаще всего клиенты с подпиской в одну поездку катаются около 19 минут, а без подписки - около 17 минут"
   ]
  },
  {
   "cell_type": "code",
   "execution_count": 60,
   "id": "e60cc2e1",
   "metadata": {},
   "outputs": [
    {
     "data": {
      "image/png": "[encoded data removed]",
      "text/plain": [
       "<Figure size 1200x700 with 1 Axes>"
      ]
     },
     "metadata": {},
     "output_type": "display_data"
    }
   ],
   "source": [
    "data_subs.groupby('user_id')['duration'].sum().hist(bins=50, color='red', figsize = (12, 7));\n",
    "data_free.groupby('user_id')['duration'].sum().hist(bins=50, color='green', alpha=0.7);\n",
    "plt.title('Распределение поездок клиентов по суммарной продолжительности\\n Зеленый - без подписки, красный - с подпиской')\n",
    "plt.ylabel('Количество поездок')\n",
    "plt.xlabel('Суммарная проджолжительность (минут)')\n",
    "plt.show()"
   ]
  },
  {
   "cell_type": "markdown",
   "id": "fd4e0a33",
   "metadata": {},
   "source": [
    "По гистограмме можно сказать, что в суммарный накат по времи клиентов с подпиской меньше, чем клиенты без подписки. Что неувидительно, ведь последних почти в 2 раза больше"
   ]
  },
  {
   "cell_type": "markdown",
   "id": "c0026e7c",
   "metadata": {},
   "source": [
    "***Промежуточный итог***  \n",
    "Свели данные из трех датасетов в один на основе датасета rides. Разделили этот итоговый датасет на два - поездки клиентов с подписками data_subs и поездки клиентов без подписок data_free. Стоит отметить, что в датасете поездок клиентов с подпиской почти в 2 раза меньше записей, чем без подписок. Представили визуализацию соотношения данных по средним и суммарным расстояниям и длительности поездок клиентов с подписками и без в гистограммах"
   ]
  },
  {
   "cell_type": "markdown",
   "id": "402d620f",
   "metadata": {},
   "source": [
    "## Шаг 5. Подсчёт выручки"
   ]
  },
  {
   "cell_type": "markdown",
   "id": "ac2eb00f",
   "metadata": {},
   "source": [
    "Подсчитаем выручку, которую приносят клиенты сервису GoFast в месяц. По тарифам компании, стоимость поездки для клиентов записит от количества поездок и длительности конкретной поездки, и не зависит от пройденного расстония."
   ]
  },
  {
   "cell_type": "markdown",
   "id": "c916336a",
   "metadata": {},
   "source": [
    "Сначала округлим все дробные минуты до большоего целого"
   ]
  },
  {
   "cell_type": "code",
   "execution_count": 61,
   "id": "c537db2e",
   "metadata": {},
   "outputs": [],
   "source": [
    "data_free['dur_ceil'] = np.ceil(data_free['duration'])"
   ]
  },
  {
   "cell_type": "markdown",
   "id": "0a130f09",
   "metadata": {},
   "source": [
    "Сформируем новый датасет revenue_free. Пока в нем будут месячные показатели клиентов без подписки - количество поездок, суммарная дистанция и суммарная длительность."
   ]
  },
  {
   "cell_type": "code",
   "execution_count": 62,
   "id": "53049e0a",
   "metadata": {},
   "outputs": [
    {
     "data": {
      "text/html": [
       "<div>\n",
       "<style scoped>\n",
       "    .dataframe tbody tr th:only-of-type {\n",
       "        vertical-align: middle;\n",
       "    }\n",
       "\n",
       "    .dataframe tbody tr th {\n",
       "        vertical-align: top;\n",
       "    }\n",
       "\n",
       "    .dataframe thead tr th {\n",
       "        text-align: left;\n",
       "    }\n",
       "\n",
       "    .dataframe thead tr:last-of-type th {\n",
       "        text-align: right;\n",
       "    }\n",
       "</style>\n",
       "<table border=\"1\" class=\"dataframe\">\n",
       "  <thead>\n",
       "    <tr>\n",
       "      <th></th>\n",
       "      <th></th>\n",
       "      <th>user_id</th>\n",
       "      <th>distance</th>\n",
       "      <th>dur_ceil</th>\n",
       "    </tr>\n",
       "    <tr>\n",
       "      <th></th>\n",
       "      <th></th>\n",
       "      <th>count</th>\n",
       "      <th>sum</th>\n",
       "      <th>sum</th>\n",
       "    </tr>\n",
       "    <tr>\n",
       "      <th>user_id</th>\n",
       "      <th>month</th>\n",
       "      <th></th>\n",
       "      <th></th>\n",
       "      <th></th>\n",
       "    </tr>\n",
       "  </thead>\n",
       "  <tbody>\n",
       "    <tr>\n",
       "      <th rowspan=\"9\" valign=\"top\">700</th>\n",
       "      <th>1</th>\n",
       "      <td>1</td>\n",
       "      <td>2515.690719</td>\n",
       "      <td>15.0</td>\n",
       "    </tr>\n",
       "    <tr>\n",
       "      <th>2</th>\n",
       "      <td>5</td>\n",
       "      <td>13446.659764</td>\n",
       "      <td>89.0</td>\n",
       "    </tr>\n",
       "    <tr>\n",
       "      <th>3</th>\n",
       "      <td>1</td>\n",
       "      <td>3798.334905</td>\n",
       "      <td>19.0</td>\n",
       "    </tr>\n",
       "    <tr>\n",
       "      <th>4</th>\n",
       "      <td>1</td>\n",
       "      <td>2984.551206</td>\n",
       "      <td>16.0</td>\n",
       "    </tr>\n",
       "    <tr>\n",
       "      <th>6</th>\n",
       "      <td>2</td>\n",
       "      <td>5927.650988</td>\n",
       "      <td>29.0</td>\n",
       "    </tr>\n",
       "    <tr>\n",
       "      <th>7</th>\n",
       "      <td>2</td>\n",
       "      <td>4399.206279</td>\n",
       "      <td>21.0</td>\n",
       "    </tr>\n",
       "    <tr>\n",
       "      <th>8</th>\n",
       "      <td>1</td>\n",
       "      <td>4071.654669</td>\n",
       "      <td>17.0</td>\n",
       "    </tr>\n",
       "    <tr>\n",
       "      <th>10</th>\n",
       "      <td>2</td>\n",
       "      <td>6322.578618</td>\n",
       "      <td>44.0</td>\n",
       "    </tr>\n",
       "    <tr>\n",
       "      <th>11</th>\n",
       "      <td>3</td>\n",
       "      <td>8735.782625</td>\n",
       "      <td>32.0</td>\n",
       "    </tr>\n",
       "    <tr>\n",
       "      <th rowspan=\"6\" valign=\"top\">701</th>\n",
       "      <th>1</th>\n",
       "      <td>1</td>\n",
       "      <td>2676.472894</td>\n",
       "      <td>18.0</td>\n",
       "    </tr>\n",
       "    <tr>\n",
       "      <th>2</th>\n",
       "      <td>2</td>\n",
       "      <td>5637.334007</td>\n",
       "      <td>27.0</td>\n",
       "    </tr>\n",
       "    <tr>\n",
       "      <th>3</th>\n",
       "      <td>1</td>\n",
       "      <td>2802.021357</td>\n",
       "      <td>17.0</td>\n",
       "    </tr>\n",
       "    <tr>\n",
       "      <th>4</th>\n",
       "      <td>1</td>\n",
       "      <td>3509.012965</td>\n",
       "      <td>14.0</td>\n",
       "    </tr>\n",
       "    <tr>\n",
       "      <th>5</th>\n",
       "      <td>1</td>\n",
       "      <td>2465.852577</td>\n",
       "      <td>15.0</td>\n",
       "    </tr>\n",
       "    <tr>\n",
       "      <th>6</th>\n",
       "      <td>2</td>\n",
       "      <td>4634.620760</td>\n",
       "      <td>26.0</td>\n",
       "    </tr>\n",
       "  </tbody>\n",
       "</table>\n",
       "</div>"
      ],
      "text/plain": [
       "              user_id      distance dur_ceil\n",
       "                count           sum      sum\n",
       "user_id month                               \n",
       "700     1           1   2515.690719     15.0\n",
       "        2           5  13446.659764     89.0\n",
       "        3           1   3798.334905     19.0\n",
       "        4           1   2984.551206     16.0\n",
       "        6           2   5927.650988     29.0\n",
       "        7           2   4399.206279     21.0\n",
       "        8           1   4071.654669     17.0\n",
       "        10          2   6322.578618     44.0\n",
       "        11          3   8735.782625     32.0\n",
       "701     1           1   2676.472894     18.0\n",
       "        2           2   5637.334007     27.0\n",
       "        3           1   2802.021357     17.0\n",
       "        4           1   3509.012965     14.0\n",
       "        5           1   2465.852577     15.0\n",
       "        6           2   4634.620760     26.0"
      ]
     },
     "execution_count": 62,
     "metadata": {},
     "output_type": "execute_result"
    }
   ],
   "source": [
    "revenue_free = data_free.groupby(['user_id', 'month']).agg({'user_id' : ['count'], 'distance': ['sum'], 'dur_ceil' : ['sum']})\n",
    "revenue_free.head(15)"
   ]
  },
  {
   "cell_type": "markdown",
   "id": "0bbf5a3e",
   "metadata": {},
   "source": [
    "Проверим данные по одному клиенту и одному месяцу"
   ]
  },
  {
   "cell_type": "code",
   "execution_count": 63,
   "id": "6eb104f0",
   "metadata": {},
   "outputs": [
    {
     "data": {
      "text/html": [
       "<div>\n",
       "<style scoped>\n",
       "    .dataframe tbody tr th:only-of-type {\n",
       "        vertical-align: middle;\n",
       "    }\n",
       "\n",
       "    .dataframe tbody tr th {\n",
       "        vertical-align: top;\n",
       "    }\n",
       "\n",
       "    .dataframe thead th {\n",
       "        text-align: right;\n",
       "    }\n",
       "</style>\n",
       "<table border=\"1\" class=\"dataframe\">\n",
       "  <thead>\n",
       "    <tr style=\"text-align: right;\">\n",
       "      <th></th>\n",
       "      <th>index</th>\n",
       "      <th>user_id</th>\n",
       "      <th>distance</th>\n",
       "      <th>duration</th>\n",
       "      <th>date</th>\n",
       "      <th>month</th>\n",
       "      <th>name</th>\n",
       "      <th>age</th>\n",
       "      <th>city</th>\n",
       "      <th>subscription_type</th>\n",
       "      <th>minute_price</th>\n",
       "      <th>start_ride_price</th>\n",
       "      <th>subscription_fee</th>\n",
       "      <th>dur_ceil</th>\n",
       "    </tr>\n",
       "  </thead>\n",
       "  <tbody>\n",
       "    <tr>\n",
       "      <th>8</th>\n",
       "      <td>8</td>\n",
       "      <td>700</td>\n",
       "      <td>3360.107141</td>\n",
       "      <td>16.765497</td>\n",
       "      <td>2021-06-12</td>\n",
       "      <td>6</td>\n",
       "      <td>Айдар</td>\n",
       "      <td>22</td>\n",
       "      <td>Омск</td>\n",
       "      <td>free</td>\n",
       "      <td>8</td>\n",
       "      <td>50</td>\n",
       "      <td>0</td>\n",
       "      <td>17.0</td>\n",
       "    </tr>\n",
       "    <tr>\n",
       "      <th>9</th>\n",
       "      <td>9</td>\n",
       "      <td>700</td>\n",
       "      <td>2567.543847</td>\n",
       "      <td>11.312160</td>\n",
       "      <td>2021-06-23</td>\n",
       "      <td>6</td>\n",
       "      <td>Айдар</td>\n",
       "      <td>22</td>\n",
       "      <td>Омск</td>\n",
       "      <td>free</td>\n",
       "      <td>8</td>\n",
       "      <td>50</td>\n",
       "      <td>0</td>\n",
       "      <td>12.0</td>\n",
       "    </tr>\n",
       "  </tbody>\n",
       "</table>\n",
       "</div>"
      ],
      "text/plain": [
       "   index  user_id     distance   duration       date  month   name  age  city  \\\n",
       "8      8      700  3360.107141  16.765497 2021-06-12      6  Айдар   22  Омск   \n",
       "9      9      700  2567.543847  11.312160 2021-06-23      6  Айдар   22  Омск   \n",
       "\n",
       "  subscription_type  minute_price  start_ride_price  subscription_fee  \\\n",
       "8              free             8                50                 0   \n",
       "9              free             8                50                 0   \n",
       "\n",
       "   dur_ceil  \n",
       "8      17.0  \n",
       "9      12.0  "
      ]
     },
     "execution_count": 63,
     "metadata": {},
     "output_type": "execute_result"
    }
   ],
   "source": [
    "data_free[(data_free['user_id'] == 700) & (data_free['month'] == 6)]"
   ]
  },
  {
   "cell_type": "markdown",
   "id": "6a347607",
   "metadata": {},
   "source": [
    "У клиента с id 700 в июне было 2 поездки, общая дистанция - 5927 метров и фактической длительностию чуть больше 28 минут, но с округлениями все 29 - сходится!"
   ]
  },
  {
   "cell_type": "markdown",
   "id": "2fafb5f3",
   "metadata": {},
   "source": [
    "Переименуем колонки для удобства"
   ]
  },
  {
   "cell_type": "code",
   "execution_count": 64,
   "id": "9659507f",
   "metadata": {},
   "outputs": [],
   "source": [
    "revenue_free.columns=['rides', 'dist_sum', 'dur_sum']"
   ]
  },
  {
   "cell_type": "markdown",
   "id": "3f0bc236",
   "metadata": {},
   "source": [
    "Посчитаем выручку за месяц, занеся ее в новую колонку revenue. Стоимость одной минуты поездки для клиентов без прописки - 8 рублей, стоимость старта — 50 рублей."
   ]
  },
  {
   "cell_type": "code",
   "execution_count": 65,
   "id": "10157ff6",
   "metadata": {},
   "outputs": [],
   "source": [
    "revenue_free['revenue'] = revenue_free['rides'] * 50 + revenue_free['dur_sum'] * 8"
   ]
  },
  {
   "cell_type": "code",
   "execution_count": 66,
   "id": "4ccb2f35",
   "metadata": {},
   "outputs": [
    {
     "data": {
      "text/html": [
       "<div>\n",
       "<style scoped>\n",
       "    .dataframe tbody tr th:only-of-type {\n",
       "        vertical-align: middle;\n",
       "    }\n",
       "\n",
       "    .dataframe tbody tr th {\n",
       "        vertical-align: top;\n",
       "    }\n",
       "\n",
       "    .dataframe thead th {\n",
       "        text-align: right;\n",
       "    }\n",
       "</style>\n",
       "<table border=\"1\" class=\"dataframe\">\n",
       "  <thead>\n",
       "    <tr style=\"text-align: right;\">\n",
       "      <th></th>\n",
       "      <th></th>\n",
       "      <th>rides</th>\n",
       "      <th>dist_sum</th>\n",
       "      <th>dur_sum</th>\n",
       "      <th>revenue</th>\n",
       "    </tr>\n",
       "    <tr>\n",
       "      <th>user_id</th>\n",
       "      <th>month</th>\n",
       "      <th></th>\n",
       "      <th></th>\n",
       "      <th></th>\n",
       "      <th></th>\n",
       "    </tr>\n",
       "  </thead>\n",
       "  <tbody>\n",
       "    <tr>\n",
       "      <th rowspan=\"5\" valign=\"top\">700</th>\n",
       "      <th>1</th>\n",
       "      <td>1</td>\n",
       "      <td>2515.690719</td>\n",
       "      <td>15.0</td>\n",
       "      <td>170.0</td>\n",
       "    </tr>\n",
       "    <tr>\n",
       "      <th>2</th>\n",
       "      <td>5</td>\n",
       "      <td>13446.659764</td>\n",
       "      <td>89.0</td>\n",
       "      <td>962.0</td>\n",
       "    </tr>\n",
       "    <tr>\n",
       "      <th>3</th>\n",
       "      <td>1</td>\n",
       "      <td>3798.334905</td>\n",
       "      <td>19.0</td>\n",
       "      <td>202.0</td>\n",
       "    </tr>\n",
       "    <tr>\n",
       "      <th>4</th>\n",
       "      <td>1</td>\n",
       "      <td>2984.551206</td>\n",
       "      <td>16.0</td>\n",
       "      <td>178.0</td>\n",
       "    </tr>\n",
       "    <tr>\n",
       "      <th>6</th>\n",
       "      <td>2</td>\n",
       "      <td>5927.650988</td>\n",
       "      <td>29.0</td>\n",
       "      <td>332.0</td>\n",
       "    </tr>\n",
       "  </tbody>\n",
       "</table>\n",
       "</div>"
      ],
      "text/plain": [
       "               rides      dist_sum  dur_sum  revenue\n",
       "user_id month                                       \n",
       "700     1          1   2515.690719     15.0    170.0\n",
       "        2          5  13446.659764     89.0    962.0\n",
       "        3          1   3798.334905     19.0    202.0\n",
       "        4          1   2984.551206     16.0    178.0\n",
       "        6          2   5927.650988     29.0    332.0"
      ]
     },
     "execution_count": 66,
     "metadata": {},
     "output_type": "execute_result"
    }
   ],
   "source": [
    "revenue_free.head()"
   ]
  },
  {
   "cell_type": "code",
   "execution_count": 67,
   "id": "c482f9d1",
   "metadata": {},
   "outputs": [
    {
     "data": {
      "text/plain": [
       "rides          1.000000\n",
       "dist_sum    2984.551206\n",
       "dur_sum       16.000000\n",
       "revenue      178.000000\n",
       "Name: (700, 4), dtype: float64"
      ]
     },
     "execution_count": 67,
     "metadata": {},
     "output_type": "execute_result"
    }
   ],
   "source": [
    "revenue_free.loc[700, 4]"
   ]
  },
  {
   "cell_type": "markdown",
   "id": "98cde4a5",
   "metadata": {},
   "source": [
    "Сделаем тоже самое для клиентов с подпиской, только стоимость одной минуты поездки — 6 рублей, стоимость старта — 0 рублей, подписка разово - 199 рублей"
   ]
  },
  {
   "cell_type": "code",
   "execution_count": 68,
   "id": "7b42ee7c",
   "metadata": {},
   "outputs": [],
   "source": [
    "data_subs['dur_ceil'] = np.ceil(data_subs['duration'])"
   ]
  },
  {
   "cell_type": "code",
   "execution_count": 69,
   "id": "4e911782",
   "metadata": {},
   "outputs": [
    {
     "data": {
      "text/html": [
       "<div>\n",
       "<style scoped>\n",
       "    .dataframe tbody tr th:only-of-type {\n",
       "        vertical-align: middle;\n",
       "    }\n",
       "\n",
       "    .dataframe tbody tr th {\n",
       "        vertical-align: top;\n",
       "    }\n",
       "\n",
       "    .dataframe thead tr th {\n",
       "        text-align: left;\n",
       "    }\n",
       "\n",
       "    .dataframe thead tr:last-of-type th {\n",
       "        text-align: right;\n",
       "    }\n",
       "</style>\n",
       "<table border=\"1\" class=\"dataframe\">\n",
       "  <thead>\n",
       "    <tr>\n",
       "      <th></th>\n",
       "      <th></th>\n",
       "      <th>user_id</th>\n",
       "      <th>distance</th>\n",
       "      <th>dur_ceil</th>\n",
       "    </tr>\n",
       "    <tr>\n",
       "      <th></th>\n",
       "      <th></th>\n",
       "      <th>count</th>\n",
       "      <th>sum</th>\n",
       "      <th>sum</th>\n",
       "    </tr>\n",
       "    <tr>\n",
       "      <th>user_id</th>\n",
       "      <th>month</th>\n",
       "      <th></th>\n",
       "      <th></th>\n",
       "      <th></th>\n",
       "    </tr>\n",
       "  </thead>\n",
       "  <tbody>\n",
       "    <tr>\n",
       "      <th rowspan=\"6\" valign=\"top\">1</th>\n",
       "      <th>1</th>\n",
       "      <td>2</td>\n",
       "      <td>7027.511294</td>\n",
       "      <td>42.0</td>\n",
       "    </tr>\n",
       "    <tr>\n",
       "      <th>4</th>\n",
       "      <td>1</td>\n",
       "      <td>754.159807</td>\n",
       "      <td>7.0</td>\n",
       "    </tr>\n",
       "    <tr>\n",
       "      <th>8</th>\n",
       "      <td>2</td>\n",
       "      <td>6723.470560</td>\n",
       "      <td>46.0</td>\n",
       "    </tr>\n",
       "    <tr>\n",
       "      <th>10</th>\n",
       "      <td>2</td>\n",
       "      <td>5809.911100</td>\n",
       "      <td>32.0</td>\n",
       "    </tr>\n",
       "    <tr>\n",
       "      <th>11</th>\n",
       "      <td>3</td>\n",
       "      <td>7003.499363</td>\n",
       "      <td>56.0</td>\n",
       "    </tr>\n",
       "    <tr>\n",
       "      <th>12</th>\n",
       "      <td>2</td>\n",
       "      <td>6751.629942</td>\n",
       "      <td>28.0</td>\n",
       "    </tr>\n",
       "    <tr>\n",
       "      <th rowspan=\"7\" valign=\"top\">2</th>\n",
       "      <th>3</th>\n",
       "      <td>3</td>\n",
       "      <td>10187.723006</td>\n",
       "      <td>63.0</td>\n",
       "    </tr>\n",
       "    <tr>\n",
       "      <th>4</th>\n",
       "      <td>2</td>\n",
       "      <td>6164.381824</td>\n",
       "      <td>40.0</td>\n",
       "    </tr>\n",
       "    <tr>\n",
       "      <th>6</th>\n",
       "      <td>1</td>\n",
       "      <td>3255.338202</td>\n",
       "      <td>14.0</td>\n",
       "    </tr>\n",
       "    <tr>\n",
       "      <th>7</th>\n",
       "      <td>2</td>\n",
       "      <td>6780.722964</td>\n",
       "      <td>48.0</td>\n",
       "    </tr>\n",
       "    <tr>\n",
       "      <th>8</th>\n",
       "      <td>1</td>\n",
       "      <td>923.007439</td>\n",
       "      <td>7.0</td>\n",
       "    </tr>\n",
       "    <tr>\n",
       "      <th>10</th>\n",
       "      <td>1</td>\n",
       "      <td>2824.636598</td>\n",
       "      <td>19.0</td>\n",
       "    </tr>\n",
       "    <tr>\n",
       "      <th>12</th>\n",
       "      <td>1</td>\n",
       "      <td>3828.248580</td>\n",
       "      <td>12.0</td>\n",
       "    </tr>\n",
       "    <tr>\n",
       "      <th rowspan=\"2\" valign=\"top\">3</th>\n",
       "      <th>1</th>\n",
       "      <td>1</td>\n",
       "      <td>3061.777147</td>\n",
       "      <td>13.0</td>\n",
       "    </tr>\n",
       "    <tr>\n",
       "      <th>2</th>\n",
       "      <td>2</td>\n",
       "      <td>5421.152016</td>\n",
       "      <td>39.0</td>\n",
       "    </tr>\n",
       "  </tbody>\n",
       "</table>\n",
       "</div>"
      ],
      "text/plain": [
       "              user_id      distance dur_ceil\n",
       "                count           sum      sum\n",
       "user_id month                               \n",
       "1       1           2   7027.511294     42.0\n",
       "        4           1    754.159807      7.0\n",
       "        8           2   6723.470560     46.0\n",
       "        10          2   5809.911100     32.0\n",
       "        11          3   7003.499363     56.0\n",
       "        12          2   6751.629942     28.0\n",
       "2       3           3  10187.723006     63.0\n",
       "        4           2   6164.381824     40.0\n",
       "        6           1   3255.338202     14.0\n",
       "        7           2   6780.722964     48.0\n",
       "        8           1    923.007439      7.0\n",
       "        10          1   2824.636598     19.0\n",
       "        12          1   3828.248580     12.0\n",
       "3       1           1   3061.777147     13.0\n",
       "        2           2   5421.152016     39.0"
      ]
     },
     "execution_count": 69,
     "metadata": {},
     "output_type": "execute_result"
    }
   ],
   "source": [
    "revenue_subs = data_subs.groupby(['user_id', 'month']).agg({'user_id' : ['count'], 'distance': ['sum'], 'dur_ceil' : ['sum']})\n",
    "revenue_subs.head(15)"
   ]
  },
  {
   "cell_type": "code",
   "execution_count": 70,
   "id": "df4ad6ac",
   "metadata": {},
   "outputs": [],
   "source": [
    "revenue_subs.columns=['rides', 'dist_sum', 'dur_sum']"
   ]
  },
  {
   "cell_type": "code",
   "execution_count": 71,
   "id": "aa16846c",
   "metadata": {},
   "outputs": [
    {
     "data": {
      "text/html": [
       "<div>\n",
       "<style scoped>\n",
       "    .dataframe tbody tr th:only-of-type {\n",
       "        vertical-align: middle;\n",
       "    }\n",
       "\n",
       "    .dataframe tbody tr th {\n",
       "        vertical-align: top;\n",
       "    }\n",
       "\n",
       "    .dataframe thead th {\n",
       "        text-align: right;\n",
       "    }\n",
       "</style>\n",
       "<table border=\"1\" class=\"dataframe\">\n",
       "  <thead>\n",
       "    <tr style=\"text-align: right;\">\n",
       "      <th></th>\n",
       "      <th></th>\n",
       "      <th>rides</th>\n",
       "      <th>dist_sum</th>\n",
       "      <th>dur_sum</th>\n",
       "    </tr>\n",
       "    <tr>\n",
       "      <th>user_id</th>\n",
       "      <th>month</th>\n",
       "      <th></th>\n",
       "      <th></th>\n",
       "      <th></th>\n",
       "    </tr>\n",
       "  </thead>\n",
       "  <tbody>\n",
       "    <tr>\n",
       "      <th rowspan=\"5\" valign=\"top\">1</th>\n",
       "      <th>1</th>\n",
       "      <td>2</td>\n",
       "      <td>7027.511294</td>\n",
       "      <td>42.0</td>\n",
       "    </tr>\n",
       "    <tr>\n",
       "      <th>4</th>\n",
       "      <td>1</td>\n",
       "      <td>754.159807</td>\n",
       "      <td>7.0</td>\n",
       "    </tr>\n",
       "    <tr>\n",
       "      <th>8</th>\n",
       "      <td>2</td>\n",
       "      <td>6723.470560</td>\n",
       "      <td>46.0</td>\n",
       "    </tr>\n",
       "    <tr>\n",
       "      <th>10</th>\n",
       "      <td>2</td>\n",
       "      <td>5809.911100</td>\n",
       "      <td>32.0</td>\n",
       "    </tr>\n",
       "    <tr>\n",
       "      <th>11</th>\n",
       "      <td>3</td>\n",
       "      <td>7003.499363</td>\n",
       "      <td>56.0</td>\n",
       "    </tr>\n",
       "  </tbody>\n",
       "</table>\n",
       "</div>"
      ],
      "text/plain": [
       "               rides     dist_sum  dur_sum\n",
       "user_id month                             \n",
       "1       1          2  7027.511294     42.0\n",
       "        4          1   754.159807      7.0\n",
       "        8          2  6723.470560     46.0\n",
       "        10         2  5809.911100     32.0\n",
       "        11         3  7003.499363     56.0"
      ]
     },
     "execution_count": 71,
     "metadata": {},
     "output_type": "execute_result"
    }
   ],
   "source": [
    "revenue_subs.head()"
   ]
  },
  {
   "cell_type": "code",
   "execution_count": 72,
   "id": "844698e9",
   "metadata": {},
   "outputs": [],
   "source": [
    "revenue_subs['revenue'] = 199 + np.ceil(revenue_subs['dur_sum']) * 6"
   ]
  },
  {
   "cell_type": "code",
   "execution_count": 73,
   "id": "4878e8f3",
   "metadata": {},
   "outputs": [
    {
     "data": {
      "text/html": [
       "<div>\n",
       "<style scoped>\n",
       "    .dataframe tbody tr th:only-of-type {\n",
       "        vertical-align: middle;\n",
       "    }\n",
       "\n",
       "    .dataframe tbody tr th {\n",
       "        vertical-align: top;\n",
       "    }\n",
       "\n",
       "    .dataframe thead th {\n",
       "        text-align: right;\n",
       "    }\n",
       "</style>\n",
       "<table border=\"1\" class=\"dataframe\">\n",
       "  <thead>\n",
       "    <tr style=\"text-align: right;\">\n",
       "      <th></th>\n",
       "      <th></th>\n",
       "      <th>rides</th>\n",
       "      <th>dist_sum</th>\n",
       "      <th>dur_sum</th>\n",
       "      <th>revenue</th>\n",
       "    </tr>\n",
       "    <tr>\n",
       "      <th>user_id</th>\n",
       "      <th>month</th>\n",
       "      <th></th>\n",
       "      <th></th>\n",
       "      <th></th>\n",
       "      <th></th>\n",
       "    </tr>\n",
       "  </thead>\n",
       "  <tbody>\n",
       "    <tr>\n",
       "      <th rowspan=\"6\" valign=\"top\">1</th>\n",
       "      <th>1</th>\n",
       "      <td>2</td>\n",
       "      <td>7027.511294</td>\n",
       "      <td>42.0</td>\n",
       "      <td>451.0</td>\n",
       "    </tr>\n",
       "    <tr>\n",
       "      <th>4</th>\n",
       "      <td>1</td>\n",
       "      <td>754.159807</td>\n",
       "      <td>7.0</td>\n",
       "      <td>241.0</td>\n",
       "    </tr>\n",
       "    <tr>\n",
       "      <th>8</th>\n",
       "      <td>2</td>\n",
       "      <td>6723.470560</td>\n",
       "      <td>46.0</td>\n",
       "      <td>475.0</td>\n",
       "    </tr>\n",
       "    <tr>\n",
       "      <th>10</th>\n",
       "      <td>2</td>\n",
       "      <td>5809.911100</td>\n",
       "      <td>32.0</td>\n",
       "      <td>391.0</td>\n",
       "    </tr>\n",
       "    <tr>\n",
       "      <th>11</th>\n",
       "      <td>3</td>\n",
       "      <td>7003.499363</td>\n",
       "      <td>56.0</td>\n",
       "      <td>535.0</td>\n",
       "    </tr>\n",
       "    <tr>\n",
       "      <th>12</th>\n",
       "      <td>2</td>\n",
       "      <td>6751.629942</td>\n",
       "      <td>28.0</td>\n",
       "      <td>367.0</td>\n",
       "    </tr>\n",
       "    <tr>\n",
       "      <th rowspan=\"7\" valign=\"top\">2</th>\n",
       "      <th>3</th>\n",
       "      <td>3</td>\n",
       "      <td>10187.723006</td>\n",
       "      <td>63.0</td>\n",
       "      <td>577.0</td>\n",
       "    </tr>\n",
       "    <tr>\n",
       "      <th>4</th>\n",
       "      <td>2</td>\n",
       "      <td>6164.381824</td>\n",
       "      <td>40.0</td>\n",
       "      <td>439.0</td>\n",
       "    </tr>\n",
       "    <tr>\n",
       "      <th>6</th>\n",
       "      <td>1</td>\n",
       "      <td>3255.338202</td>\n",
       "      <td>14.0</td>\n",
       "      <td>283.0</td>\n",
       "    </tr>\n",
       "    <tr>\n",
       "      <th>7</th>\n",
       "      <td>2</td>\n",
       "      <td>6780.722964</td>\n",
       "      <td>48.0</td>\n",
       "      <td>487.0</td>\n",
       "    </tr>\n",
       "    <tr>\n",
       "      <th>8</th>\n",
       "      <td>1</td>\n",
       "      <td>923.007439</td>\n",
       "      <td>7.0</td>\n",
       "      <td>241.0</td>\n",
       "    </tr>\n",
       "    <tr>\n",
       "      <th>10</th>\n",
       "      <td>1</td>\n",
       "      <td>2824.636598</td>\n",
       "      <td>19.0</td>\n",
       "      <td>313.0</td>\n",
       "    </tr>\n",
       "    <tr>\n",
       "      <th>12</th>\n",
       "      <td>1</td>\n",
       "      <td>3828.248580</td>\n",
       "      <td>12.0</td>\n",
       "      <td>271.0</td>\n",
       "    </tr>\n",
       "    <tr>\n",
       "      <th rowspan=\"2\" valign=\"top\">3</th>\n",
       "      <th>1</th>\n",
       "      <td>1</td>\n",
       "      <td>3061.777147</td>\n",
       "      <td>13.0</td>\n",
       "      <td>277.0</td>\n",
       "    </tr>\n",
       "    <tr>\n",
       "      <th>2</th>\n",
       "      <td>2</td>\n",
       "      <td>5421.152016</td>\n",
       "      <td>39.0</td>\n",
       "      <td>433.0</td>\n",
       "    </tr>\n",
       "  </tbody>\n",
       "</table>\n",
       "</div>"
      ],
      "text/plain": [
       "               rides      dist_sum  dur_sum  revenue\n",
       "user_id month                                       \n",
       "1       1          2   7027.511294     42.0    451.0\n",
       "        4          1    754.159807      7.0    241.0\n",
       "        8          2   6723.470560     46.0    475.0\n",
       "        10         2   5809.911100     32.0    391.0\n",
       "        11         3   7003.499363     56.0    535.0\n",
       "        12         2   6751.629942     28.0    367.0\n",
       "2       3          3  10187.723006     63.0    577.0\n",
       "        4          2   6164.381824     40.0    439.0\n",
       "        6          1   3255.338202     14.0    283.0\n",
       "        7          2   6780.722964     48.0    487.0\n",
       "        8          1    923.007439      7.0    241.0\n",
       "        10         1   2824.636598     19.0    313.0\n",
       "        12         1   3828.248580     12.0    271.0\n",
       "3       1          1   3061.777147     13.0    277.0\n",
       "        2          2   5421.152016     39.0    433.0"
      ]
     },
     "execution_count": 73,
     "metadata": {},
     "output_type": "execute_result"
    }
   ],
   "source": [
    "revenue_subs.head(15)"
   ]
  },
  {
   "cell_type": "code",
   "execution_count": 74,
   "id": "798f3f2e",
   "metadata": {},
   "outputs": [
    {
     "data": {
      "image/png": "[encoded data removed]",
      "text/plain": [
       "<Figure size 1200x700 with 1 Axes>"
      ]
     },
     "metadata": {},
     "output_type": "display_data"
    }
   ],
   "source": [
    "revenue_subs['revenue'].hist(bins=50, color='red', figsize = (12, 7));\n",
    "revenue_free['revenue'].hist(bins=50, color='green', alpha=0.7);\n",
    "plt.title('Распределение месячной выручки клиентов\\n Зеленый - без подписки, красный - с подпиской')\n",
    "plt.ylabel('Количество клиентов')\n",
    "plt.xlabel('Выручка за месяц (рублей)')\n",
    "plt.show()"
   ]
  },
  {
   "cell_type": "markdown",
   "id": "3108e03a",
   "metadata": {},
   "source": [
    "Из гистограммы видно, что чаще всего клиенты с подпиской приносят в месяц выручку порядка 300 рублей, а без подписки - 200 рублей. "
   ]
  },
  {
   "cell_type": "code",
   "execution_count": 75,
   "id": "369362b9",
   "metadata": {},
   "outputs": [
    {
     "data": {
      "text/html": [
       "<div>\n",
       "<style scoped>\n",
       "    .dataframe tbody tr th:only-of-type {\n",
       "        vertical-align: middle;\n",
       "    }\n",
       "\n",
       "    .dataframe tbody tr th {\n",
       "        vertical-align: top;\n",
       "    }\n",
       "\n",
       "    .dataframe thead th {\n",
       "        text-align: right;\n",
       "    }\n",
       "</style>\n",
       "<table border=\"1\" class=\"dataframe\">\n",
       "  <thead>\n",
       "    <tr style=\"text-align: right;\">\n",
       "      <th></th>\n",
       "      <th>count</th>\n",
       "      <th>mean</th>\n",
       "      <th>std</th>\n",
       "      <th>min</th>\n",
       "      <th>25%</th>\n",
       "      <th>50%</th>\n",
       "      <th>75%</th>\n",
       "      <th>max</th>\n",
       "    </tr>\n",
       "  </thead>\n",
       "  <tbody>\n",
       "    <tr>\n",
       "      <th>rides</th>\n",
       "      <td>4533.0</td>\n",
       "      <td>1.433929</td>\n",
       "      <td>0.696331</td>\n",
       "      <td>1.000000</td>\n",
       "      <td>1.000000</td>\n",
       "      <td>1.000000</td>\n",
       "      <td>2.000000</td>\n",
       "      <td>6.000000</td>\n",
       "    </tr>\n",
       "    <tr>\n",
       "      <th>dist_sum</th>\n",
       "      <td>4533.0</td>\n",
       "      <td>4467.327382</td>\n",
       "      <td>2353.168174</td>\n",
       "      <td>244.210438</td>\n",
       "      <td>2981.762521</td>\n",
       "      <td>3572.518224</td>\n",
       "      <td>5883.378452</td>\n",
       "      <td>20009.704886</td>\n",
       "    </tr>\n",
       "    <tr>\n",
       "      <th>dur_sum</th>\n",
       "      <td>4533.0</td>\n",
       "      <td>27.298698</td>\n",
       "      <td>14.710456</td>\n",
       "      <td>4.000000</td>\n",
       "      <td>17.000000</td>\n",
       "      <td>23.000000</td>\n",
       "      <td>35.000000</td>\n",
       "      <td>126.000000</td>\n",
       "    </tr>\n",
       "    <tr>\n",
       "      <th>revenue</th>\n",
       "      <td>4533.0</td>\n",
       "      <td>362.792191</td>\n",
       "      <td>88.262737</td>\n",
       "      <td>223.000000</td>\n",
       "      <td>301.000000</td>\n",
       "      <td>337.000000</td>\n",
       "      <td>409.000000</td>\n",
       "      <td>955.000000</td>\n",
       "    </tr>\n",
       "  </tbody>\n",
       "</table>\n",
       "</div>"
      ],
      "text/plain": [
       "           count         mean          std         min          25%  \\\n",
       "rides     4533.0     1.433929     0.696331    1.000000     1.000000   \n",
       "dist_sum  4533.0  4467.327382  2353.168174  244.210438  2981.762521   \n",
       "dur_sum   4533.0    27.298698    14.710456    4.000000    17.000000   \n",
       "revenue   4533.0   362.792191    88.262737  223.000000   301.000000   \n",
       "\n",
       "                  50%          75%           max  \n",
       "rides        1.000000     2.000000      6.000000  \n",
       "dist_sum  3572.518224  5883.378452  20009.704886  \n",
       "dur_sum     23.000000    35.000000    126.000000  \n",
       "revenue    337.000000   409.000000    955.000000  "
      ]
     },
     "execution_count": 75,
     "metadata": {},
     "output_type": "execute_result"
    }
   ],
   "source": [
    "revenue_subs.describe().T"
   ]
  },
  {
   "cell_type": "code",
   "execution_count": 76,
   "id": "e9c40b54",
   "metadata": {},
   "outputs": [
    {
     "data": {
      "text/html": [
       "<div>\n",
       "<style scoped>\n",
       "    .dataframe tbody tr th:only-of-type {\n",
       "        vertical-align: middle;\n",
       "    }\n",
       "\n",
       "    .dataframe tbody tr th {\n",
       "        vertical-align: top;\n",
       "    }\n",
       "\n",
       "    .dataframe thead th {\n",
       "        text-align: right;\n",
       "    }\n",
       "</style>\n",
       "<table border=\"1\" class=\"dataframe\">\n",
       "  <thead>\n",
       "    <tr style=\"text-align: right;\">\n",
       "      <th></th>\n",
       "      <th>count</th>\n",
       "      <th>mean</th>\n",
       "      <th>std</th>\n",
       "      <th>min</th>\n",
       "      <th>25%</th>\n",
       "      <th>50%</th>\n",
       "      <th>75%</th>\n",
       "      <th>max</th>\n",
       "    </tr>\n",
       "  </thead>\n",
       "  <tbody>\n",
       "    <tr>\n",
       "      <th>rides</th>\n",
       "      <td>6798.0</td>\n",
       "      <td>1.701677</td>\n",
       "      <td>0.894871</td>\n",
       "      <td>1.000000</td>\n",
       "      <td>1.000000</td>\n",
       "      <td>1.000000</td>\n",
       "      <td>2.000000</td>\n",
       "      <td>7.000000</td>\n",
       "    </tr>\n",
       "    <tr>\n",
       "      <th>dist_sum</th>\n",
       "      <td>6798.0</td>\n",
       "      <td>5182.449164</td>\n",
       "      <td>3198.989334</td>\n",
       "      <td>2.570787</td>\n",
       "      <td>2952.361137</td>\n",
       "      <td>4324.635714</td>\n",
       "      <td>6861.657086</td>\n",
       "      <td>23429.487786</td>\n",
       "    </tr>\n",
       "    <tr>\n",
       "      <th>dur_sum</th>\n",
       "      <td>6798.0</td>\n",
       "      <td>30.844072</td>\n",
       "      <td>18.017690</td>\n",
       "      <td>3.000000</td>\n",
       "      <td>18.000000</td>\n",
       "      <td>26.000000</td>\n",
       "      <td>40.000000</td>\n",
       "      <td>143.000000</td>\n",
       "    </tr>\n",
       "    <tr>\n",
       "      <th>revenue</th>\n",
       "      <td>6798.0</td>\n",
       "      <td>331.836422</td>\n",
       "      <td>185.178910</td>\n",
       "      <td>74.000000</td>\n",
       "      <td>194.000000</td>\n",
       "      <td>274.000000</td>\n",
       "      <td>428.000000</td>\n",
       "      <td>1444.000000</td>\n",
       "    </tr>\n",
       "  </tbody>\n",
       "</table>\n",
       "</div>"
      ],
      "text/plain": [
       "           count         mean          std        min          25%  \\\n",
       "rides     6798.0     1.701677     0.894871   1.000000     1.000000   \n",
       "dist_sum  6798.0  5182.449164  3198.989334   2.570787  2952.361137   \n",
       "dur_sum   6798.0    30.844072    18.017690   3.000000    18.000000   \n",
       "revenue   6798.0   331.836422   185.178910  74.000000   194.000000   \n",
       "\n",
       "                  50%          75%           max  \n",
       "rides        1.000000     2.000000      7.000000  \n",
       "dist_sum  4324.635714  6861.657086  23429.487786  \n",
       "dur_sum     26.000000    40.000000    143.000000  \n",
       "revenue    274.000000   428.000000   1444.000000  "
      ]
     },
     "execution_count": 76,
     "metadata": {},
     "output_type": "execute_result"
    }
   ],
   "source": [
    "revenue_free.describe().T"
   ]
  },
  {
   "cell_type": "markdown",
   "id": "69288df5",
   "metadata": {},
   "source": [
    "Средние оценки выручки исходного датасета: \n",
    "- Средния месячная выручка от клиента без подписки - 328 рублей, медианная - 274.\n",
    "- Средния месячнвя выручка от клиента с подпиской - 362 рубля, медианная - 337."
   ]
  },
  {
   "cell_type": "markdown",
   "id": "7be45547",
   "metadata": {},
   "source": [
    "Средние показатели одной поездки клиентов с подпиской и без"
   ]
  },
  {
   "cell_type": "code",
   "execution_count": 77,
   "id": "4131ae0b",
   "metadata": {},
   "outputs": [
    {
     "name": "stdout",
     "output_type": "stream",
     "text": [
      "Для одной поездки клиентов с подпиской: \n",
      " Средняя дистанция: 3115 метров \n",
      " Среднее время: 19 минут \n",
      " Средняя выручка: 253.0056923076923\n",
      "--------------\n",
      "Для одной поездки клиентов без подписки:  \n",
      " Средняя дистанция: 3045 метров \n",
      " Среднее время: 18 минут \n",
      " Средняя выручка: 195.00553250345783\n"
     ]
    }
   ],
   "source": [
    "ss = revenue_subs['rides'].sum()\n",
    "fs = revenue_free['rides'].sum()\n",
    "print('Для одной поездки клиентов с подпиской:',  \\\n",
    "      '\\n Средняя дистанция:', round(revenue_subs['dist_sum'].sum() / ss ), 'метров', \\\n",
    "      '\\n Среднее время:', round(revenue_subs['dur_sum'].sum() / ss), 'минут', \\\n",
    "      '\\n Средняя выручка:', revenue_subs['revenue'].sum() /ss )\n",
    "print('--------------')\n",
    "print('Для одной поездки клиентов без подписки: ', \\\n",
    "      '\\n Средняя дистанция:', round(revenue_free['dist_sum'].sum() / fs), 'метров', \\\n",
    "      '\\n Среднее время:', round(revenue_free['dur_sum'].sum() / fs), 'минут', \\\n",
    "      '\\n Средняя выручка:', revenue_free['revenue'].sum() / fs)\n"
   ]
  },
  {
   "cell_type": "markdown",
   "id": "f2d9ce81",
   "metadata": {},
   "source": [
    "Суммарные показатели всех поездок клиентов с подпиской и без"
   ]
  },
  {
   "cell_type": "code",
   "execution_count": 78,
   "id": "00c72ae4",
   "metadata": {},
   "outputs": [
    {
     "name": "stdout",
     "output_type": "stream",
     "text": [
      "По подписке:\n",
      " Всего поездок 6500 \n",
      " Общая дистанция: 20250395 метров \n",
      " Общее время: 123745 минут \n",
      " Суммарная выручка: 1644537.0\n",
      "--------------\n",
      "Без подписки:\n",
      " всего поездок 11568 \n",
      " Общая дистанция: 35230289 метров \n",
      " Общее время: 209678 минут \n",
      " Суммарная выручка: 2255824.0\n"
     ]
    }
   ],
   "source": [
    "print('По подписке:\\n Всего поездок', revenue_subs['rides'].sum(), \\\n",
    "      '\\n Общая дистанция:', round(revenue_subs['dist_sum'].sum()), 'метров', \\\n",
    "      '\\n Общее время:', round(revenue_subs['dur_sum'].sum()), 'минут', \\\n",
    "      '\\n Суммарная выручка:', revenue_subs['revenue'].sum())\n",
    "print('--------------')\n",
    "print('Без подписки:\\n всего поездок', revenue_free['rides'].sum(), \\\n",
    "      '\\n Общая дистанция:', round(revenue_free['dist_sum'].sum()), 'метров', \\\n",
    "      '\\n Общее время:', round(revenue_free['dur_sum'].sum()), 'минут', \\\n",
    "      '\\n Суммарная выручка:', revenue_free['revenue'].sum())\n"
   ]
  },
  {
   "cell_type": "markdown",
   "id": "2bb1bb34",
   "metadata": {},
   "source": [
    "***Промежуточный итог***  \n",
    "По представленному датасету подсчитали выручку, которую приносят клиенты сервису GoFast в месяц. Средняя месячная выручка от клиента с подпиской больше, чем у клиентов без подписки: 362 протов 328 рублей. Средние параметры одной поездки у клиентов с подпиской также больше и по доходу, и по длительноти, и по расстоянию.  \n",
    "Однако в сумме клиенты без подписки приносят гораздо больше выручки - 2.255 млн. против 1.644 млн. рублей. Это объяняется тем, что в представленном датасете количество поездок клиентов без подписки почти в два раза больше, чем у подписчиков. К сожалению сервиса самокатов, выручка не настолько же пропорционально больше, как количество поездок клиентов без подписки больше, чем поездок у подписчиков."
   ]
  },
  {
   "cell_type": "markdown",
   "id": "41545ac0",
   "metadata": {},
   "source": [
    "## Шаг 6. Проверка гипотез"
   ]
  },
  {
   "cell_type": "markdown",
   "id": "4e36c77b",
   "metadata": {},
   "source": [
    "### Тратят ли клиенты с подпиской больше времени на поездки ?"
   ]
  },
  {
   "cell_type": "markdown",
   "id": "2da3ac95",
   "metadata": {},
   "source": [
    "<i>Задание:\n",
    ">Важно понять, тратят ли пользователи с подпиской больше времени на поездки? Если да, то пользователи с подпиской могут быть «выгоднее» для компании. Проверьте гипотезу. Используйте исходные данные о продолжительности каждой сессии — отдельно для подписчиков и тех, у кого нет подписки</i>"
   ]
  },
  {
   "cell_type": "markdown",
   "id": "2a5fe4e7",
   "metadata": {},
   "source": [
    "Имеем две независимые выборки - используем ttest_ind. Нулевая гипотеза - клиенты с подпиской тратят столько же или больше времени на поездки, чем клиенты без подписки. Альтернативная гипотеза - клиенты с подпиской тратят меньше времени на поездки, чем клиенты без подписки - alternative='less'"
   ]
  },
  {
   "cell_type": "code",
   "execution_count": 79,
   "id": "23ea867b",
   "metadata": {},
   "outputs": [
    {
     "data": {
      "text/plain": [
       "TtestResult(statistic=10.16191118117438, pvalue=1.0, df=14754.565197597509)"
      ]
     },
     "execution_count": 79,
     "metadata": {},
     "output_type": "execute_result"
    }
   ],
   "source": [
    "st.ttest_ind(data_subs['duration'], data_free['duration'], alternative = 'less', equal_var=False)"
   ]
  },
  {
   "cell_type": "markdown",
   "id": "ff271d9c",
   "metadata": {},
   "source": [
    "pvalue = 1, то нулевая гипотеза **не отвергается**, то есть клиенты с подпиской тратят больше времени на поездки, чем клинеты без подписки"
   ]
  },
  {
   "cell_type": "markdown",
   "id": "4458b56e",
   "metadata": {},
   "source": [
    "Имеем две независимые выборки - используем ttest_ind. Нулевая гипотеза - клиенты с подпиской тратят времени на поездки не больше, то есть ровно или меньше, чем клиенты без подписки. Альтернативная гипотеза - клиенты с подпиской тратят больше времени на поездки, чем клиенты без подписки - alternative='greater'"
   ]
  },
  {
   "cell_type": "code",
   "execution_count": 80,
   "id": "ddc70d81",
   "metadata": {},
   "outputs": [
    {
     "data": {
      "text/plain": [
       "TtestResult(statistic=9.848174002221908, pvalue=3.983961504905613e-23, df=18066.0)"
      ]
     },
     "execution_count": 80,
     "metadata": {},
     "output_type": "execute_result"
    }
   ],
   "source": [
    "st.ttest_ind(data_subs['duration'], data_free['duration'], alternative = 'greater',)"
   ]
  },
  {
   "cell_type": "markdown",
   "id": "47b7ba85",
   "metadata": {},
   "source": [
    "pvalue много меньше 0.01, то нулевая гипотеза отвергается, принимается альтернативная гипотеза, что клиенты с подпиской тратят больше времени на поездки, чем клинеты без подписки"
   ]
  },
  {
   "cell_type": "markdown",
   "id": "cfdc0f6e",
   "metadata": {},
   "source": [
    "###  У клиентов с подпиской растояние поездки меньше 3130 м ?"
   ]
  },
  {
   "cell_type": "markdown",
   "id": "5a8a007f",
   "metadata": {},
   "source": [
    "<i>Задание:\n",
    ">Расстояние одной поездки в 3130 метров — оптимальное с точки зрения износа самоката. Можно ли сказать, что среднее расстояние, которое проезжают пользователи с подпиской за одну поездку, не превышает \n",
    "3130 метров? Проверьте гипотезу и сделайте выводы. </i>"
   ]
  },
  {
   "cell_type": "markdown",
   "id": "c5b44a98",
   "metadata": {},
   "source": [
    "Имеем одну выборку, которую надо сравнить с заданным числом - используем ttest_1samp.  \n",
    "Нулевая гипотеза - клиенты с подпиской проезжают за одну поездку ровно или меньше 3130 метров. Альтернативная гипотеза - клиенты с подпиской проезжают за одну поездку больше 3130: alternative = 'greater'"
   ]
  },
  {
   "cell_type": "code",
   "execution_count": 81,
   "id": "4d7e898e",
   "metadata": {},
   "outputs": [
    {
     "data": {
      "text/plain": [
       "TtestResult(statistic=-1.402123166869486, pvalue=0.9195368847849785, df=6499)"
      ]
     },
     "execution_count": 81,
     "metadata": {},
     "output_type": "execute_result"
    }
   ],
   "source": [
    "st.ttest_1samp(data_subs['distance'], 3130, alternative = 'greater')"
   ]
  },
  {
   "cell_type": "markdown",
   "id": "822fc1a4",
   "metadata": {},
   "source": [
    "pvalue=0.92 - нулевая гипотеза **не отвергается**. Причем вероятность, что клиент с подпиской проедет за одну поездку меньше 3130 метров очень высока - 92%"
   ]
  },
  {
   "cell_type": "markdown",
   "id": "def86781",
   "metadata": {},
   "source": [
    "Говорить, что среднее расстояние, которое проезжают пользователи с подпиской за одну поездку, не превышает \n",
    "3130 метров, с абсолютной уверенностью - нельзя. Все-таки таки есть вероятность в 8%, что поездка будет больше 3130 метров."
   ]
  },
  {
   "cell_type": "markdown",
   "id": "55ff3a7b",
   "metadata": {},
   "source": [
    "Для интереса, проведем такую же проверку гипотезы для клиентов без подписки"
   ]
  },
  {
   "cell_type": "code",
   "execution_count": 82,
   "id": "40b013cb",
   "metadata": {},
   "outputs": [
    {
     "data": {
      "text/plain": [
       "TtestResult(statistic=-7.293424308076774, pvalue=0.999999999999839, df=11567)"
      ]
     },
     "execution_count": 82,
     "metadata": {},
     "output_type": "execute_result"
    }
   ],
   "source": [
    "st.ttest_1samp(data_free['distance'], 3130, alternative = 'greater')"
   ]
  },
  {
   "cell_type": "markdown",
   "id": "0b578e22",
   "metadata": {},
   "source": [
    "pvalue почти 1 - нулевая гипотеза **не отвергается**. Причем вероятность, что клиент без подпиской проедет за одну поездку меньше 3130 метров выше, чем у клиентов с подпиской и почти равна 100%"
   ]
  },
  {
   "cell_type": "markdown",
   "id": "e6854516",
   "metadata": {},
   "source": [
    "Ранее получили среднее расстояние одной поездки клиентов с подпиской 3115 метров, а без подписки 3045 метров - то есть сходится."
   ]
  },
  {
   "cell_type": "markdown",
   "id": "fba81e7c",
   "metadata": {},
   "source": [
    "###  Помесячная выручка от клиентов с подпиской больше, чем без подписки ?"
   ]
  },
  {
   "cell_type": "markdown",
   "id": "7a00b922",
   "metadata": {},
   "source": [
    "<i>Задание:\n",
    ">Проверьте гипотезу о том, будет ли помесячная выручка от пользователей с подпиской по месяцам выше, чем выручка от пользователей без подписки</i>"
   ]
  },
  {
   "cell_type": "markdown",
   "id": "1bce21ac",
   "metadata": {},
   "source": [
    "Имеем две независимые выборки - используем ttest_ind  \n",
    "Нулевая гипотеза - клиенты с подпиской дают равную или большую помесячную выручку, чем пользователи без подписки. Альтернативная гипотеза - клиенты с подпиской дают меньшую помесячную выручку: alternative = 'less'"
   ]
  },
  {
   "cell_type": "code",
   "execution_count": 83,
   "id": "cb274edd",
   "metadata": {
    "scrolled": true
   },
   "outputs": [
    {
     "data": {
      "text/plain": [
       "TtestResult(statistic=11.903521660007314, pvalue=1.0, df=10405.869482111148)"
      ]
     },
     "execution_count": 83,
     "metadata": {},
     "output_type": "execute_result"
    }
   ],
   "source": [
    "st.ttest_ind(revenue_subs['revenue'], revenue_free['revenue'], alternative = 'less', equal_var=False)"
   ]
  },
  {
   "cell_type": "markdown",
   "id": "f85f1c19",
   "metadata": {},
   "source": [
    "pvalue = 1, то нулевая гипотеза **не отвергается**, то есть клиенты с подпиской дают большую помесячную выручку, чем клиенты  без подписки"
   ]
  },
  {
   "cell_type": "markdown",
   "id": "ca4c15bb",
   "metadata": {},
   "source": [
    "Имеем две независимые выборки - используем ttest_ind. Нулевая гипотеза - клиенты с подпиской дают месячную выручкук не больше, то есть ровно или меньше, чем клиенты без подписки. Альтернативная гипотеза - клиенты с подпиской дают месячную выручку больше, чем клиенты без подписки - alternative='greater'"
   ]
  },
  {
   "cell_type": "code",
   "execution_count": 84,
   "id": "c68d218f",
   "metadata": {},
   "outputs": [
    {
     "data": {
      "text/plain": [
       "TtestResult(statistic=11.903521660007314, pvalue=9.211390180375745e-33, df=10405.869482111148)"
      ]
     },
     "execution_count": 84,
     "metadata": {},
     "output_type": "execute_result"
    }
   ],
   "source": [
    "st.ttest_ind(revenue_subs['revenue'], revenue_free['revenue'], alternative = 'greater', equal_var=False)"
   ]
  },
  {
   "cell_type": "markdown",
   "id": "5e05b1d5",
   "metadata": {},
   "source": [
    "pvalue много меньше 0.01, то нулевая гипотеза отвергается, принимается альтернативная гипотеза, что клиенты с подпиской дают выручку больше, чем клинеты без подписки"
   ]
  },
  {
   "cell_type": "markdown",
   "id": "4e0578b8",
   "metadata": {},
   "source": [
    "### Задание 6.4"
   ]
  },
  {
   "cell_type": "markdown",
   "id": "dfc06e93",
   "metadata": {},
   "source": [
    ">_Представьте такую ситуацию: техническая команда сервиса обновила сервера, с которыми взаимодействует мобильное приложение. Она надеется, что из-за этого количество обращений в техподдержку значимо снизилось. Некоторый файл содержит для каждого пользователя данные о количестве обращений до обновления и после него. Какой тест вам понадобился бы для проверки этой гипотезы?_"
   ]
  },
  {
   "cell_type": "markdown",
   "id": "03708af3",
   "metadata": {},
   "source": [
    "Для проверки гипозы \"стало ли количество обращений после обновления сервера меньше, чем до обновления\" нужно применить t-тест для двух зависимых выборок - ttest_rel"
   ]
  },
  {
   "cell_type": "markdown",
   "id": "5231fe7c",
   "metadata": {},
   "source": [
    "***Промежуточный итог***  \n",
    "В этои разделе провериили три гипотезы.\n",
    "- Гипотеза, что клиенты с подпиской тратят больше времени на поездки ***не была отвергнута***\n",
    "- Гипотеза, что у клиентов с подпиской расстояние одной поездки меньше 3130 м ***не была отвергнута***\n",
    "- Гипотеза, что помесячная выручка от клиентов с подпиской больше, чем без подписки ***не была отвергнута***"
   ]
  },
  {
   "cell_type": "markdown",
   "id": "9606839f",
   "metadata": {},
   "source": []
  },
  {
   "cell_type": "markdown",
   "id": "61213c5e",
   "metadata": {},
   "source": [
    "## Доп задание. Распределения"
   ]
  },
  {
   "cell_type": "markdown",
   "id": "410fb722",
   "metadata": {},
   "source": [
    "### Задание про промокоды"
   ]
  },
  {
   "cell_type": "markdown",
   "id": "3c86a728",
   "metadata": {},
   "source": [
    "> _Отделу маркетинга GoFast поставили задачу: нужно провести акцию с раздачей промокодов на один бесплатный месяц подписки, в рамках которой как минимум 100 существующих клиентов должны продлить эту подписку. То есть по завершении периода действия подписки пользователь может либо отказаться от неё, либо продлить, совершив соответствующий платёж. Эта акция уже проводилась ранее и по итогу выяснилось, что после бесплатного пробного периода подписку продлевают 10 % пользователей. Выясните, какое минимальное количество промокодов нужно разослать, чтобы вероятность не выполнить план была примерно 5 %. Подберите параметры распределения, описывающего эту ситуацию, постройте график распределения и сформулируйте ответ на вопрос о количестве промокодов  \n",
    "Подсказка  \n",
    "Нужно использовать биномиальное распределение, которое описывает указанную ситуацию. Затем подобрать подходящее значение параметра N для заданного параметра p=0.1 с помощью графиков и метода cdf()_\n",
    "</i>"
   ]
  },
  {
   "cell_type": "markdown",
   "id": "978c8ba7",
   "metadata": {},
   "source": [
    "Для биномиального распределения используем данные: вероятность p = 0.1, количество положительнуых исходов k = 100, N - количество промокодов, которое мы задаем в цикле. Грубая прикидка дает, что N должно быть +/-1000 (k / p).  \n",
    "\n",
    "_Метод cdf() возвращает вероятность, что случайная величина примет значение, меньшее заданного аргумента_"
   ]
  },
  {
   "cell_type": "code",
   "execution_count": 85,
   "id": "4d95490e",
   "metadata": {},
   "outputs": [
    {
     "name": "stdout",
     "output_type": "stream",
     "text": [
      "При рассылке 800 промокодов вероятность получить меньше 100 подписок:  0.9905659247601779\n",
      "При рассылке 820 промокодов вероятность получить меньше 100 подписок:  0.9822513618746853\n",
      "При рассылке 840 промокодов вероятность получить меньше 100 подписок:  0.9686606306207628\n",
      "При рассылке 860 промокодов вероятность получить меньше 100 подписок:  0.9478553976428736\n",
      "При рассылке 880 промокодов вероятность получить меньше 100 подписок:  0.9179310083742142\n",
      "При рассылке 900 промокодов вероятность получить меньше 100 подписок:  0.8773710469953703\n",
      "При рассылке 920 промокодов вероятность получить меньше 100 подписок:  0.8254198982189033\n",
      "При рассылке 940 промокодов вероятность получить меньше 100 подписок:  0.7623762164812298\n",
      "При рассылке 960 промокодов вероятность получить меньше 100 подписок:  0.6897179458849694\n",
      "При рассылке 980 промокодов вероятность получить меньше 100 подписок:  0.6100093187661111\n",
      "При рассылке 1000 промокодов вероятность получить меньше 100 подписок:  0.5265990812951653\n",
      "При рассылке 1020 промокодов вероятность получить меньше 100 подписок:  0.4431759254686382\n",
      "При рассылке 1040 промокодов вероятность получить меньше 100 подписок:  0.3632819976160383\n",
      "При рассылке 1060 промокодов вероятность получить меньше 100 подписок:  0.2898882717479642\n",
      "При рассылке 1080 промокодов вероятность получить меньше 100 подписок:  0.2251090910486723\n",
      "При рассылке 1100 промокодов вероятность получить меньше 100 подписок:  0.17008975275733826\n",
      "При рассылке 1120 промокодов вероятность получить меньше 100 подписок:  0.12505658142431722\n",
      "При рассылке 1140 промокодов вероятность получить меньше 100 подписок:  0.08948644999527346\n",
      "При рассылке 1160 промокодов вероятность получить меньше 100 подписок:  0.062338320311597306\n",
      "При рассылке 1180 промокодов вероятность получить меньше 100 подписок:  0.04229216093281922\n",
      "При рассылке 1200 промокодов вероятность получить меньше 100 подписок:  0.02795489683463589\n",
      "При рассылке 1220 промокодов вероятность получить меньше 100 подписок:  0.018011702546320268\n",
      "При рассылке 1240 промокодов вероятность получить меньше 100 подписок:  0.011318002473559319\n",
      "При рассылке 1260 промокодов вероятность получить меньше 100 подписок:  0.0069395513967395435\n",
      "При рассылке 1280 промокодов вероятность получить меньше 100 подписок:  0.0041540682670400605\n"
     ]
    }
   ],
   "source": [
    "prom = pd.Series()\n",
    "for n in range(800, 1300, 20):\n",
    "    prom.loc[n] = st.binom.cdf(100, n, 0.1)\n",
    "    print('При рассылке', n, 'промокодов вероятность получить меньше 100 подписок: ', prom[n])    "
   ]
  },
  {
   "cell_type": "markdown",
   "id": "e0926072",
   "metadata": {},
   "source": [
    "Чем больше промокодов, тем меньше вероятность не выполнить план - похоже на правду"
   ]
  },
  {
   "cell_type": "markdown",
   "id": "7f77533c",
   "metadata": {},
   "source": [
    "Построим график функции распределения вероятности не выполнить план"
   ]
  },
  {
   "cell_type": "code",
   "execution_count": 86,
   "id": "7a436217",
   "metadata": {},
   "outputs": [
    {
     "data": {
      "image/png": "[encoded data removed]",
      "text/plain": [
       "<Figure size 640x480 with 1 Axes>"
      ]
     },
     "metadata": {},
     "output_type": "display_data"
    }
   ],
   "source": [
    "prom.plot();\n",
    "plt.title('Функция распределение вероятности не выполнить план')\n",
    "plt.ylabel('Вероятность')\n",
    "plt.xlabel('Количество отправленных промокодов')\n",
    "plt.axline((800, 0.05), (1300, 0.05), linewidth=1, color='r') \n",
    "plt.axline((1170, 0), (1170, 1), linewidth=1, color='r') \n",
    "plt.show()"
   ]
  },
  {
   "cell_type": "markdown",
   "id": "238495ed",
   "metadata": {},
   "source": [
    "***Вывод***  \n",
    "Надо разослать минимум 1170 промокодов, чтобы вероятнность не выполнить план \"как минимум 100 существующих клиентов продлили подписку\" была менее 5%"
   ]
  },
  {
   "cell_type": "markdown",
   "id": "ac430eff",
   "metadata": {},
   "source": [
    "### Задание про push-уведомления"
   ]
  },
  {
   "cell_type": "markdown",
   "id": "6a0c6cb4",
   "metadata": {},
   "source": [
    "> _Отдел маркетинга рассылает клиентам push-уведомления в мобильном приложении. Клиенты могут открыть его или не открывать. Известно, что уведомления открывают около 40 % получивших клиентов. Отдел планирует разослать 1 млн уведомлений. С помощью аппроксимации постройте примерный график распределения и оцените вероятность того, что уведомление откроют не более 399,5 тыс. пользователей_"
   ]
  },
  {
   "cell_type": "markdown",
   "id": "b980891d",
   "metadata": {},
   "source": [
    "Аппроксимируем биноминальное распределение, для которого задано p=0.4 и n=1000000, нормальным распределением.  \n",
    "Вычислим параметры нормального распределения:"
   ]
  },
  {
   "cell_type": "code",
   "execution_count": 87,
   "id": "0851e661",
   "metadata": {},
   "outputs": [],
   "source": [
    "p = 0.4\n",
    "n = 1000000\n",
    "\n",
    "nu = n * p\n",
    "sigma = np.sqrt(n * p * (1 - p))"
   ]
  },
  {
   "cell_type": "markdown",
   "id": "f21eab30",
   "metadata": {},
   "source": [
    "Оценим вероятность, что из 1 млн уведомлений их откроют не более 399500 пользователей, используя функцию cdf()"
   ]
  },
  {
   "cell_type": "code",
   "execution_count": 88,
   "id": "c28f9128",
   "metadata": {},
   "outputs": [
    {
     "data": {
      "text/plain": [
       "0.15371708296369768"
      ]
     },
     "execution_count": 88,
     "metadata": {},
     "output_type": "execute_result"
    }
   ],
   "source": [
    "st.norm(nu, sigma).cdf(399500)"
   ]
  },
  {
   "cell_type": "markdown",
   "id": "96b87ea7",
   "metadata": {},
   "source": [
    "Построим график функции распределение вероятности открытия push-уведомления"
   ]
  },
  {
   "cell_type": "code",
   "execution_count": 89,
   "id": "899af918",
   "metadata": {},
   "outputs": [
    {
     "data": {
      "image/png": "[encoded data removed]",
      "text/plain": [
       "<Figure size 640x480 with 1 Axes>"
      ]
     },
     "metadata": {},
     "output_type": "display_data"
    }
   ],
   "source": [
    "x_axis = np.arange(398000, 402000, 100)\n",
    "plt.plot(x_axis, st.norm.cdf(x_axis, nu, sigma))\n",
    "plt.title('Функция распределение вероятности открытия push-уведомления')\n",
    "plt.ylabel('Вероятность')\n",
    "plt.xlabel('Количество открытых push-уведомлений')\n",
    "plt.axline((399500, 0), (399500, 1), linewidth=1, color='r') \n",
    "plt.show()  "
   ]
  },
  {
   "cell_type": "markdown",
   "id": "2e7ddf51",
   "metadata": {},
   "source": [
    "***Вывод***  \n",
    "Вероятность, что из 1 млн рассылок, уведомление откроют не более 399500 пользователей - 15%"
   ]
  },
  {
   "cell_type": "markdown",
   "id": "5f706cf5",
   "metadata": {},
   "source": [
    "## Основной вывод"
   ]
  },
  {
   "cell_type": "markdown",
   "id": "9cbf6961",
   "metadata": {},
   "source": [
    "Провели исследование для сервиса аренды самокатов GoFast. Были передоставленные три датасета о пользователях из разных городов, их поездках, а также типе подписки. В ходе предобработки данных были отброшены дубли, внесены небольшие корректировки по длительности поездок, объеденены датасеты. Затем все данные были разделены на два датасета - поездки клиентов с подпиской и клиентов без подписки. Исследование состояло в сравнении двух типов клиентов между собой.\n",
    "\n",
    "По итогам исследоваия гипотезы, что клиенты с подпиской тратят больше времени на поездки, расстояние их поездок меньше 3130 метров и помесячная выручка от таких клиентов больше - не были отвергнуты.  \n",
    "\n",
    "В целом можно дать рекомендацию: больше уделять внимания клиентам с подписками, так как они более эффективны. Вот бы всех клиентов перевести на подписку!"
   ]
  }
 ],
 "metadata": {
  "ExecuteTimeLog": [
   {
    "duration": 1399,
    "start_time": "2024-04-22T15:24:18.566Z"
   },
   {
    "duration": 254,
    "start_time": "2024-04-22T15:24:19.967Z"
   },
   {
    "duration": 12,
    "start_time": "2024-04-22T15:24:20.223Z"
   },
   {
    "duration": 25,
    "start_time": "2024-04-22T15:24:20.237Z"
   },
   {
    "duration": 21,
    "start_time": "2024-04-22T15:24:20.264Z"
   },
   {
    "duration": 19,
    "start_time": "2024-04-22T15:24:20.286Z"
   },
   {
    "duration": 28,
    "start_time": "2024-04-22T15:24:20.307Z"
   },
   {
    "duration": 19,
    "start_time": "2024-04-22T15:24:20.337Z"
   },
   {
    "duration": 20,
    "start_time": "2024-04-22T15:24:20.358Z"
   },
   {
    "duration": 23,
    "start_time": "2024-04-22T15:24:20.381Z"
   },
   {
    "duration": 19,
    "start_time": "2024-04-22T15:24:20.405Z"
   },
   {
    "duration": 7,
    "start_time": "2024-04-22T15:24:20.425Z"
   },
   {
    "duration": 11,
    "start_time": "2024-04-22T15:24:20.434Z"
   },
   {
    "duration": 20,
    "start_time": "2024-04-22T15:24:20.448Z"
   },
   {
    "duration": 13,
    "start_time": "2024-04-22T15:24:20.469Z"
   },
   {
    "duration": 4,
    "start_time": "2024-04-22T15:24:20.484Z"
   },
   {
    "duration": 10,
    "start_time": "2024-04-22T15:24:20.490Z"
   },
   {
    "duration": 13,
    "start_time": "2024-04-22T15:24:20.502Z"
   },
   {
    "duration": 8,
    "start_time": "2024-04-22T15:24:20.517Z"
   },
   {
    "duration": 8,
    "start_time": "2024-04-22T15:24:20.560Z"
   },
   {
    "duration": 201,
    "start_time": "2024-04-22T15:24:20.570Z"
   },
   {
    "duration": 6,
    "start_time": "2024-04-22T15:24:20.772Z"
   },
   {
    "duration": 145,
    "start_time": "2024-04-22T15:24:20.780Z"
   },
   {
    "duration": 8,
    "start_time": "2024-04-22T15:24:20.927Z"
   },
   {
    "duration": 180,
    "start_time": "2024-04-22T15:24:20.936Z"
   },
   {
    "duration": 9,
    "start_time": "2024-04-22T15:24:21.117Z"
   },
   {
    "duration": 259,
    "start_time": "2024-04-22T15:24:21.127Z"
   },
   {
    "duration": 11,
    "start_time": "2024-04-22T15:24:21.390Z"
   },
   {
    "duration": 26,
    "start_time": "2024-04-22T15:24:21.402Z"
   },
   {
    "duration": 32,
    "start_time": "2024-04-22T15:24:21.430Z"
   },
   {
    "duration": 29,
    "start_time": "2024-04-22T15:24:21.464Z"
   },
   {
    "duration": 4,
    "start_time": "2024-04-22T15:24:21.494Z"
   },
   {
    "duration": 14,
    "start_time": "2024-04-22T15:24:21.500Z"
   },
   {
    "duration": 270,
    "start_time": "2024-04-22T15:24:21.516Z"
   },
   {
    "duration": 9,
    "start_time": "2024-04-22T15:24:21.787Z"
   },
   {
    "duration": 8,
    "start_time": "2024-04-22T15:24:21.798Z"
   },
   {
    "duration": 308,
    "start_time": "2024-04-22T15:24:21.807Z"
   },
   {
    "duration": 227,
    "start_time": "2024-04-22T15:24:22.117Z"
   },
   {
    "duration": 5,
    "start_time": "2024-04-22T15:24:22.345Z"
   },
   {
    "duration": 6,
    "start_time": "2024-04-22T15:24:22.361Z"
   },
   {
    "duration": 18,
    "start_time": "2024-04-22T15:24:22.368Z"
   },
   {
    "duration": 12,
    "start_time": "2024-04-22T15:24:22.388Z"
   },
   {
    "duration": 11,
    "start_time": "2024-04-22T15:24:22.401Z"
   },
   {
    "duration": 11,
    "start_time": "2024-04-22T15:24:22.414Z"
   },
   {
    "duration": 37,
    "start_time": "2024-04-22T15:24:22.427Z"
   },
   {
    "duration": 9,
    "start_time": "2024-04-22T15:24:22.466Z"
   },
   {
    "duration": 12,
    "start_time": "2024-04-22T15:24:22.477Z"
   },
   {
    "duration": 7,
    "start_time": "2024-04-22T15:24:22.491Z"
   },
   {
    "duration": 5,
    "start_time": "2024-04-22T15:24:22.500Z"
   },
   {
    "duration": 15,
    "start_time": "2024-04-22T15:24:22.507Z"
   },
   {
    "duration": 49,
    "start_time": "2024-04-22T15:24:22.524Z"
   },
   {
    "duration": 15,
    "start_time": "2024-04-22T15:24:22.574Z"
   },
   {
    "duration": 15,
    "start_time": "2024-04-22T15:24:22.590Z"
   },
   {
    "duration": 287,
    "start_time": "2024-04-22T15:24:22.607Z"
   },
   {
    "duration": 293,
    "start_time": "2024-04-22T15:24:22.895Z"
   },
   {
    "duration": 288,
    "start_time": "2024-04-22T15:24:23.190Z"
   },
   {
    "duration": 265,
    "start_time": "2024-04-22T15:24:23.480Z"
   },
   {
    "duration": 15,
    "start_time": "2024-04-22T15:24:23.746Z"
   },
   {
    "duration": 21,
    "start_time": "2024-04-22T15:24:23.762Z"
   },
   {
    "duration": 16,
    "start_time": "2024-04-22T15:24:23.784Z"
   },
   {
    "duration": 3,
    "start_time": "2024-04-22T15:24:23.801Z"
   },
   {
    "duration": 8,
    "start_time": "2024-04-22T15:24:23.805Z"
   },
   {
    "duration": 53,
    "start_time": "2024-04-22T15:24:23.814Z"
   },
   {
    "duration": 10,
    "start_time": "2024-04-22T15:24:23.869Z"
   },
   {
    "duration": 5,
    "start_time": "2024-04-22T15:24:23.881Z"
   },
   {
    "duration": 30,
    "start_time": "2024-04-22T15:24:23.887Z"
   },
   {
    "duration": 3,
    "start_time": "2024-04-22T15:24:23.919Z"
   },
   {
    "duration": 38,
    "start_time": "2024-04-22T15:24:23.923Z"
   },
   {
    "duration": 5,
    "start_time": "2024-04-22T15:24:23.962Z"
   },
   {
    "duration": 15,
    "start_time": "2024-04-22T15:24:23.969Z"
   },
   {
    "duration": 286,
    "start_time": "2024-04-22T15:24:23.986Z"
   },
   {
    "duration": 24,
    "start_time": "2024-04-22T15:24:24.274Z"
   },
   {
    "duration": 24,
    "start_time": "2024-04-22T15:24:24.300Z"
   },
   {
    "duration": 126,
    "start_time": "2024-04-22T15:24:24.326Z"
   },
   {
    "duration": 22,
    "start_time": "2024-04-22T15:24:24.454Z"
   },
   {
    "duration": 7,
    "start_time": "2024-04-22T15:24:24.478Z"
   },
   {
    "duration": 6,
    "start_time": "2024-04-22T15:24:24.487Z"
   },
   {
    "duration": 6,
    "start_time": "2024-04-22T15:24:24.495Z"
   },
   {
    "duration": 6,
    "start_time": "2024-04-22T15:24:24.503Z"
   },
   {
    "duration": 85,
    "start_time": "2024-04-22T15:24:24.511Z"
   },
   {
    "duration": 173,
    "start_time": "2024-04-22T15:24:24.598Z"
   },
   {
    "duration": 3,
    "start_time": "2024-04-22T15:24:24.778Z"
   },
   {
    "duration": 13,
    "start_time": "2024-04-22T15:24:24.783Z"
   },
   {
    "duration": 173,
    "start_time": "2024-04-22T15:24:24.797Z"
   },
   {
    "duration": 2,
    "start_time": "2024-04-22T15:24:24.972Z"
   },
   {
    "duration": 1254,
    "start_time": "2024-04-22T15:24:24.976Z"
   },
   {
    "duration": 0,
    "start_time": "2024-04-22T15:24:26.232Z"
   },
   {
    "duration": 0,
    "start_time": "2024-04-22T15:24:26.234Z"
   },
   {
    "duration": 0,
    "start_time": "2024-04-22T15:24:26.234Z"
   },
   {
    "duration": 0,
    "start_time": "2024-04-22T15:24:26.236Z"
   },
   {
    "duration": 0,
    "start_time": "2024-04-22T15:24:26.237Z"
   },
   {
    "duration": 0,
    "start_time": "2024-04-22T15:24:26.238Z"
   },
   {
    "duration": 979,
    "start_time": "2024-04-22T15:25:14.898Z"
   },
   {
    "duration": 958,
    "start_time": "2024-04-22T15:25:48.782Z"
   },
   {
    "duration": 1053,
    "start_time": "2024-04-22T15:27:09.543Z"
   },
   {
    "duration": 1064,
    "start_time": "2024-04-22T15:27:54.037Z"
   },
   {
    "duration": 1046,
    "start_time": "2024-04-22T15:30:53.388Z"
   },
   {
    "duration": 11,
    "start_time": "2024-04-22T15:31:12.174Z"
   },
   {
    "duration": 16808,
    "start_time": "2024-04-22T15:31:51.821Z"
   },
   {
    "duration": 1178,
    "start_time": "2024-04-22T15:33:29.067Z"
   },
   {
    "duration": 241,
    "start_time": "2024-04-22T15:33:30.246Z"
   },
   {
    "duration": 13,
    "start_time": "2024-04-22T15:33:30.488Z"
   },
   {
    "duration": 98,
    "start_time": "2024-04-22T15:33:30.502Z"
   },
   {
    "duration": 103,
    "start_time": "2024-04-22T15:33:30.602Z"
   },
   {
    "duration": 83,
    "start_time": "2024-04-22T15:33:30.707Z"
   },
   {
    "duration": 160,
    "start_time": "2024-04-22T15:33:30.792Z"
   },
   {
    "duration": 151,
    "start_time": "2024-04-22T15:33:30.953Z"
   },
   {
    "duration": 48,
    "start_time": "2024-04-22T15:33:31.105Z"
   },
   {
    "duration": 89,
    "start_time": "2024-04-22T15:33:31.155Z"
   },
   {
    "duration": 111,
    "start_time": "2024-04-22T15:33:31.246Z"
   },
   {
    "duration": 103,
    "start_time": "2024-04-22T15:33:31.358Z"
   },
   {
    "duration": 102,
    "start_time": "2024-04-22T15:33:31.463Z"
   },
   {
    "duration": 121,
    "start_time": "2024-04-22T15:33:31.567Z"
   },
   {
    "duration": 116,
    "start_time": "2024-04-22T15:33:31.690Z"
   },
   {
    "duration": 66,
    "start_time": "2024-04-22T15:33:31.808Z"
   },
   {
    "duration": 42,
    "start_time": "2024-04-22T15:33:31.875Z"
   },
   {
    "duration": 40,
    "start_time": "2024-04-22T15:33:31.919Z"
   },
   {
    "duration": 50,
    "start_time": "2024-04-22T15:33:31.961Z"
   },
   {
    "duration": 54,
    "start_time": "2024-04-22T15:33:32.014Z"
   },
   {
    "duration": 198,
    "start_time": "2024-04-22T15:33:32.070Z"
   },
   {
    "duration": 7,
    "start_time": "2024-04-22T15:33:32.269Z"
   },
   {
    "duration": 173,
    "start_time": "2024-04-22T15:33:32.278Z"
   },
   {
    "duration": 13,
    "start_time": "2024-04-22T15:33:32.453Z"
   },
   {
    "duration": 176,
    "start_time": "2024-04-22T15:33:32.467Z"
   },
   {
    "duration": 21,
    "start_time": "2024-04-22T15:33:32.645Z"
   },
   {
    "duration": 265,
    "start_time": "2024-04-22T15:33:32.668Z"
   },
   {
    "duration": 25,
    "start_time": "2024-04-22T15:33:32.938Z"
   },
   {
    "duration": 32,
    "start_time": "2024-04-22T15:33:32.965Z"
   },
   {
    "duration": 13,
    "start_time": "2024-04-22T15:33:32.999Z"
   },
   {
    "duration": 52,
    "start_time": "2024-04-22T15:33:33.014Z"
   },
   {
    "duration": 11,
    "start_time": "2024-04-22T15:33:33.068Z"
   },
   {
    "duration": 19,
    "start_time": "2024-04-22T15:33:33.080Z"
   },
   {
    "duration": 266,
    "start_time": "2024-04-22T15:33:33.101Z"
   },
   {
    "duration": 8,
    "start_time": "2024-04-22T15:33:33.369Z"
   },
   {
    "duration": 21,
    "start_time": "2024-04-22T15:33:33.378Z"
   },
   {
    "duration": 264,
    "start_time": "2024-04-22T15:33:33.401Z"
   },
   {
    "duration": 221,
    "start_time": "2024-04-22T15:33:33.667Z"
   },
   {
    "duration": 6,
    "start_time": "2024-04-22T15:33:33.889Z"
   },
   {
    "duration": 22,
    "start_time": "2024-04-22T15:33:33.897Z"
   },
   {
    "duration": 38,
    "start_time": "2024-04-22T15:33:33.921Z"
   },
   {
    "duration": 38,
    "start_time": "2024-04-22T15:33:33.961Z"
   },
   {
    "duration": 41,
    "start_time": "2024-04-22T15:33:34.001Z"
   },
   {
    "duration": 49,
    "start_time": "2024-04-22T15:33:34.044Z"
   },
   {
    "duration": 25,
    "start_time": "2024-04-22T15:33:34.095Z"
   },
   {
    "duration": 25,
    "start_time": "2024-04-22T15:33:34.122Z"
   },
   {
    "duration": 37,
    "start_time": "2024-04-22T15:33:34.148Z"
   },
   {
    "duration": 23,
    "start_time": "2024-04-22T15:33:34.186Z"
   },
   {
    "duration": 24,
    "start_time": "2024-04-22T15:33:34.211Z"
   },
   {
    "duration": 32,
    "start_time": "2024-04-22T15:33:34.237Z"
   },
   {
    "duration": 30,
    "start_time": "2024-04-22T15:33:34.271Z"
   },
   {
    "duration": 41,
    "start_time": "2024-04-22T15:33:34.302Z"
   },
   {
    "duration": 36,
    "start_time": "2024-04-22T15:33:34.345Z"
   },
   {
    "duration": 305,
    "start_time": "2024-04-22T15:33:34.382Z"
   },
   {
    "duration": 300,
    "start_time": "2024-04-22T15:33:34.689Z"
   },
   {
    "duration": 318,
    "start_time": "2024-04-22T15:33:34.991Z"
   },
   {
    "duration": 293,
    "start_time": "2024-04-22T15:33:35.310Z"
   },
   {
    "duration": 4,
    "start_time": "2024-04-22T15:33:35.606Z"
   },
   {
    "duration": 50,
    "start_time": "2024-04-22T15:33:35.612Z"
   },
   {
    "duration": 21,
    "start_time": "2024-04-22T15:33:35.664Z"
   },
   {
    "duration": 13,
    "start_time": "2024-04-22T15:33:35.687Z"
   },
   {
    "duration": 57,
    "start_time": "2024-04-22T15:33:35.702Z"
   },
   {
    "duration": 40,
    "start_time": "2024-04-22T15:33:35.761Z"
   },
   {
    "duration": 51,
    "start_time": "2024-04-22T15:33:35.803Z"
   },
   {
    "duration": 39,
    "start_time": "2024-04-22T15:33:35.857Z"
   },
   {
    "duration": 62,
    "start_time": "2024-04-22T15:33:35.897Z"
   },
   {
    "duration": 30,
    "start_time": "2024-04-22T15:33:35.961Z"
   },
   {
    "duration": 48,
    "start_time": "2024-04-22T15:33:35.992Z"
   },
   {
    "duration": 47,
    "start_time": "2024-04-22T15:33:36.042Z"
   },
   {
    "duration": 35,
    "start_time": "2024-04-22T15:33:36.093Z"
   },
   {
    "duration": 298,
    "start_time": "2024-04-22T15:33:36.130Z"
   },
   {
    "duration": 34,
    "start_time": "2024-04-22T15:33:36.430Z"
   },
   {
    "duration": 22,
    "start_time": "2024-04-22T15:33:36.466Z"
   },
   {
    "duration": 35,
    "start_time": "2024-04-22T15:33:36.489Z"
   },
   {
    "duration": 46,
    "start_time": "2024-04-22T15:33:36.526Z"
   },
   {
    "duration": 39,
    "start_time": "2024-04-22T15:33:36.573Z"
   },
   {
    "duration": 23,
    "start_time": "2024-04-22T15:33:36.613Z"
   },
   {
    "duration": 40,
    "start_time": "2024-04-22T15:33:36.637Z"
   },
   {
    "duration": 99,
    "start_time": "2024-04-22T15:33:36.679Z"
   },
   {
    "duration": 60,
    "start_time": "2024-04-22T15:33:36.780Z"
   },
   {
    "duration": 162,
    "start_time": "2024-04-22T15:33:36.842Z"
   },
   {
    "duration": 4,
    "start_time": "2024-04-22T15:33:37.011Z"
   },
   {
    "duration": 25,
    "start_time": "2024-04-22T15:33:37.017Z"
   },
   {
    "duration": 211,
    "start_time": "2024-04-22T15:33:37.044Z"
   },
   {
    "duration": 1257,
    "start_time": "2024-04-22T15:35:50.674Z"
   },
   {
    "duration": 118,
    "start_time": "2024-04-22T15:35:51.933Z"
   },
   {
    "duration": 13,
    "start_time": "2024-04-22T15:35:52.052Z"
   },
   {
    "duration": 52,
    "start_time": "2024-04-22T15:35:52.067Z"
   },
   {
    "duration": 12,
    "start_time": "2024-04-22T15:35:52.121Z"
   },
   {
    "duration": 8,
    "start_time": "2024-04-22T15:35:52.135Z"
   },
   {
    "duration": 17,
    "start_time": "2024-04-22T15:35:52.144Z"
   },
   {
    "duration": 56,
    "start_time": "2024-04-22T15:35:52.163Z"
   },
   {
    "duration": 15,
    "start_time": "2024-04-22T15:35:52.221Z"
   },
   {
    "duration": 10,
    "start_time": "2024-04-22T15:35:52.238Z"
   },
   {
    "duration": 51,
    "start_time": "2024-04-22T15:35:52.249Z"
   },
   {
    "duration": 13,
    "start_time": "2024-04-22T15:35:52.302Z"
   },
   {
    "duration": 15,
    "start_time": "2024-04-22T15:35:52.317Z"
   },
   {
    "duration": 11,
    "start_time": "2024-04-22T15:35:52.333Z"
   },
   {
    "duration": 34,
    "start_time": "2024-04-22T15:35:52.346Z"
   },
   {
    "duration": 25,
    "start_time": "2024-04-22T15:35:52.381Z"
   },
   {
    "duration": 28,
    "start_time": "2024-04-22T15:35:52.408Z"
   },
   {
    "duration": 11,
    "start_time": "2024-04-22T15:35:52.438Z"
   },
   {
    "duration": 12,
    "start_time": "2024-04-22T15:35:52.451Z"
   },
   {
    "duration": 29,
    "start_time": "2024-04-22T15:35:52.465Z"
   },
   {
    "duration": 190,
    "start_time": "2024-04-22T15:35:52.496Z"
   },
   {
    "duration": 7,
    "start_time": "2024-04-22T15:35:52.687Z"
   },
   {
    "duration": 168,
    "start_time": "2024-04-22T15:35:52.695Z"
   },
   {
    "duration": 8,
    "start_time": "2024-04-22T15:35:52.865Z"
   },
   {
    "duration": 180,
    "start_time": "2024-04-22T15:35:52.874Z"
   },
   {
    "duration": 13,
    "start_time": "2024-04-22T15:35:53.055Z"
   },
   {
    "duration": 287,
    "start_time": "2024-04-22T15:35:53.070Z"
   },
   {
    "duration": 11,
    "start_time": "2024-04-22T15:35:53.362Z"
   },
   {
    "duration": 33,
    "start_time": "2024-04-22T15:35:53.375Z"
   },
   {
    "duration": 29,
    "start_time": "2024-04-22T15:35:53.410Z"
   },
   {
    "duration": 51,
    "start_time": "2024-04-22T15:35:53.441Z"
   },
   {
    "duration": 4,
    "start_time": "2024-04-22T15:35:53.494Z"
   },
   {
    "duration": 18,
    "start_time": "2024-04-22T15:35:53.500Z"
   },
   {
    "duration": 242,
    "start_time": "2024-04-22T15:35:53.520Z"
   },
   {
    "duration": 11,
    "start_time": "2024-04-22T15:35:53.764Z"
   },
   {
    "duration": 17,
    "start_time": "2024-04-22T15:35:53.776Z"
   },
   {
    "duration": 275,
    "start_time": "2024-04-22T15:35:53.794Z"
   },
   {
    "duration": 216,
    "start_time": "2024-04-22T15:35:54.071Z"
   },
   {
    "duration": 4,
    "start_time": "2024-04-22T15:35:54.289Z"
   },
   {
    "duration": 9,
    "start_time": "2024-04-22T15:35:54.295Z"
   },
   {
    "duration": 27,
    "start_time": "2024-04-22T15:35:54.305Z"
   },
   {
    "duration": 6,
    "start_time": "2024-04-22T15:35:54.334Z"
   },
   {
    "duration": 25,
    "start_time": "2024-04-22T15:35:54.342Z"
   },
   {
    "duration": 13,
    "start_time": "2024-04-22T15:35:54.369Z"
   },
   {
    "duration": 9,
    "start_time": "2024-04-22T15:35:54.383Z"
   },
   {
    "duration": 22,
    "start_time": "2024-04-22T15:35:54.394Z"
   },
   {
    "duration": 28,
    "start_time": "2024-04-22T15:35:54.418Z"
   },
   {
    "duration": 35,
    "start_time": "2024-04-22T15:35:54.448Z"
   },
   {
    "duration": 36,
    "start_time": "2024-04-22T15:35:54.485Z"
   },
   {
    "duration": 30,
    "start_time": "2024-04-22T15:35:54.523Z"
   },
   {
    "duration": 17,
    "start_time": "2024-04-22T15:35:54.556Z"
   },
   {
    "duration": 23,
    "start_time": "2024-04-22T15:35:54.575Z"
   },
   {
    "duration": 12,
    "start_time": "2024-04-22T15:35:54.600Z"
   },
   {
    "duration": 316,
    "start_time": "2024-04-22T15:35:54.613Z"
   },
   {
    "duration": 288,
    "start_time": "2024-04-22T15:35:54.931Z"
   },
   {
    "duration": 285,
    "start_time": "2024-04-22T15:35:55.221Z"
   },
   {
    "duration": 261,
    "start_time": "2024-04-22T15:35:55.508Z"
   },
   {
    "duration": 3,
    "start_time": "2024-04-22T15:35:55.771Z"
   },
   {
    "duration": 28,
    "start_time": "2024-04-22T15:35:55.776Z"
   },
   {
    "duration": 17,
    "start_time": "2024-04-22T15:35:55.806Z"
   },
   {
    "duration": 37,
    "start_time": "2024-04-22T15:35:55.825Z"
   },
   {
    "duration": 11,
    "start_time": "2024-04-22T15:35:55.865Z"
   },
   {
    "duration": 16,
    "start_time": "2024-04-22T15:35:55.877Z"
   },
   {
    "duration": 14,
    "start_time": "2024-04-22T15:35:55.895Z"
   },
   {
    "duration": 5,
    "start_time": "2024-04-22T15:35:55.911Z"
   },
   {
    "duration": 49,
    "start_time": "2024-04-22T15:35:55.917Z"
   },
   {
    "duration": 3,
    "start_time": "2024-04-22T15:35:55.968Z"
   },
   {
    "duration": 43,
    "start_time": "2024-04-22T15:35:55.973Z"
   },
   {
    "duration": 13,
    "start_time": "2024-04-22T15:35:56.017Z"
   },
   {
    "duration": 17,
    "start_time": "2024-04-22T15:35:56.032Z"
   },
   {
    "duration": 306,
    "start_time": "2024-04-22T15:35:56.051Z"
   },
   {
    "duration": 29,
    "start_time": "2024-04-22T15:35:56.360Z"
   },
   {
    "duration": 41,
    "start_time": "2024-04-22T15:35:56.391Z"
   },
   {
    "duration": 106,
    "start_time": "2024-04-22T15:35:56.434Z"
   },
   {
    "duration": 22,
    "start_time": "2024-04-22T15:35:56.542Z"
   },
   {
    "duration": 13,
    "start_time": "2024-04-22T15:35:56.566Z"
   },
   {
    "duration": 7,
    "start_time": "2024-04-22T15:35:56.581Z"
   },
   {
    "duration": 15,
    "start_time": "2024-04-22T15:35:56.590Z"
   },
   {
    "duration": 13,
    "start_time": "2024-04-22T15:35:56.607Z"
   },
   {
    "duration": 56,
    "start_time": "2024-04-22T15:35:56.622Z"
   },
   {
    "duration": 153,
    "start_time": "2024-04-22T15:35:56.680Z"
   },
   {
    "duration": 3,
    "start_time": "2024-04-22T15:35:56.840Z"
   },
   {
    "duration": 25,
    "start_time": "2024-04-22T15:35:56.845Z"
   },
   {
    "duration": 161,
    "start_time": "2024-04-22T15:35:56.872Z"
   },
   {
    "duration": 1217,
    "start_time": "2024-04-22T15:38:03.029Z"
   },
   {
    "duration": 175,
    "start_time": "2024-04-22T15:38:04.248Z"
   },
   {
    "duration": 12,
    "start_time": "2024-04-22T15:38:04.424Z"
   },
   {
    "duration": 22,
    "start_time": "2024-04-22T15:38:04.438Z"
   },
   {
    "duration": 11,
    "start_time": "2024-04-22T15:38:04.461Z"
   },
   {
    "duration": 8,
    "start_time": "2024-04-22T15:38:04.473Z"
   },
   {
    "duration": 11,
    "start_time": "2024-04-22T15:38:04.482Z"
   },
   {
    "duration": 21,
    "start_time": "2024-04-22T15:38:04.495Z"
   },
   {
    "duration": 8,
    "start_time": "2024-04-22T15:38:04.518Z"
   },
   {
    "duration": 36,
    "start_time": "2024-04-22T15:38:04.529Z"
   },
   {
    "duration": 13,
    "start_time": "2024-04-22T15:38:04.567Z"
   },
   {
    "duration": 5,
    "start_time": "2024-04-22T15:38:04.581Z"
   },
   {
    "duration": 32,
    "start_time": "2024-04-22T15:38:04.587Z"
   },
   {
    "duration": 8,
    "start_time": "2024-04-22T15:38:04.621Z"
   },
   {
    "duration": 41,
    "start_time": "2024-04-22T15:38:04.631Z"
   },
   {
    "duration": 24,
    "start_time": "2024-04-22T15:38:04.673Z"
   },
   {
    "duration": 22,
    "start_time": "2024-04-22T15:38:04.699Z"
   },
   {
    "duration": 25,
    "start_time": "2024-04-22T15:38:04.723Z"
   },
   {
    "duration": 9,
    "start_time": "2024-04-22T15:38:04.750Z"
   },
   {
    "duration": 17,
    "start_time": "2024-04-22T15:38:04.760Z"
   },
   {
    "duration": 171,
    "start_time": "2024-04-22T15:38:04.778Z"
   },
   {
    "duration": 11,
    "start_time": "2024-04-22T15:38:04.951Z"
   },
   {
    "duration": 185,
    "start_time": "2024-04-22T15:38:04.963Z"
   },
   {
    "duration": 15,
    "start_time": "2024-04-22T15:38:05.150Z"
   },
   {
    "duration": 222,
    "start_time": "2024-04-22T15:38:05.167Z"
   },
   {
    "duration": 10,
    "start_time": "2024-04-22T15:38:05.391Z"
   },
   {
    "duration": 299,
    "start_time": "2024-04-22T15:38:05.403Z"
   },
   {
    "duration": 13,
    "start_time": "2024-04-22T15:38:05.706Z"
   },
   {
    "duration": 46,
    "start_time": "2024-04-22T15:38:05.721Z"
   },
   {
    "duration": 45,
    "start_time": "2024-04-22T15:38:05.768Z"
   },
   {
    "duration": 43,
    "start_time": "2024-04-22T15:38:05.815Z"
   },
   {
    "duration": 4,
    "start_time": "2024-04-22T15:38:05.860Z"
   },
   {
    "duration": 58,
    "start_time": "2024-04-22T15:38:05.866Z"
   },
   {
    "duration": 269,
    "start_time": "2024-04-22T15:38:05.926Z"
   },
   {
    "duration": 9,
    "start_time": "2024-04-22T15:38:06.197Z"
   },
   {
    "duration": 10,
    "start_time": "2024-04-22T15:38:06.208Z"
   },
   {
    "duration": 292,
    "start_time": "2024-04-22T15:38:06.220Z"
   },
   {
    "duration": 228,
    "start_time": "2024-04-22T15:38:06.513Z"
   },
   {
    "duration": 4,
    "start_time": "2024-04-22T15:38:06.743Z"
   },
   {
    "duration": 16,
    "start_time": "2024-04-22T15:38:06.749Z"
   },
   {
    "duration": 23,
    "start_time": "2024-04-22T15:38:06.767Z"
   },
   {
    "duration": 9,
    "start_time": "2024-04-22T15:38:06.791Z"
   },
   {
    "duration": 18,
    "start_time": "2024-04-22T15:38:06.802Z"
   },
   {
    "duration": 40,
    "start_time": "2024-04-22T15:38:06.822Z"
   },
   {
    "duration": 9,
    "start_time": "2024-04-22T15:38:06.864Z"
   },
   {
    "duration": 32,
    "start_time": "2024-04-22T15:38:06.874Z"
   },
   {
    "duration": 50,
    "start_time": "2024-04-22T15:38:06.907Z"
   },
   {
    "duration": 24,
    "start_time": "2024-04-22T15:38:06.958Z"
   },
   {
    "duration": 12,
    "start_time": "2024-04-22T15:38:06.984Z"
   },
   {
    "duration": 18,
    "start_time": "2024-04-22T15:38:06.997Z"
   },
   {
    "duration": 12,
    "start_time": "2024-04-22T15:38:07.017Z"
   },
   {
    "duration": 40,
    "start_time": "2024-04-22T15:38:07.031Z"
   },
   {
    "duration": 17,
    "start_time": "2024-04-22T15:38:07.073Z"
   },
   {
    "duration": 316,
    "start_time": "2024-04-22T15:38:07.091Z"
   },
   {
    "duration": 294,
    "start_time": "2024-04-22T15:38:07.409Z"
   },
   {
    "duration": 286,
    "start_time": "2024-04-22T15:38:07.705Z"
   },
   {
    "duration": 262,
    "start_time": "2024-04-22T15:38:07.993Z"
   },
   {
    "duration": 5,
    "start_time": "2024-04-22T15:38:08.257Z"
   },
   {
    "duration": 24,
    "start_time": "2024-04-22T15:38:08.263Z"
   },
   {
    "duration": 15,
    "start_time": "2024-04-22T15:38:08.288Z"
   },
   {
    "duration": 3,
    "start_time": "2024-04-22T15:38:08.305Z"
   },
   {
    "duration": 10,
    "start_time": "2024-04-22T15:38:08.309Z"
   },
   {
    "duration": 41,
    "start_time": "2024-04-22T15:38:08.321Z"
   },
   {
    "duration": 14,
    "start_time": "2024-04-22T15:38:08.365Z"
   },
   {
    "duration": 5,
    "start_time": "2024-04-22T15:38:08.381Z"
   },
   {
    "duration": 35,
    "start_time": "2024-04-22T15:38:08.388Z"
   },
   {
    "duration": 3,
    "start_time": "2024-04-22T15:38:08.425Z"
   },
   {
    "duration": 37,
    "start_time": "2024-04-22T15:38:08.429Z"
   },
   {
    "duration": 4,
    "start_time": "2024-04-22T15:38:08.468Z"
   },
   {
    "duration": 13,
    "start_time": "2024-04-22T15:38:08.474Z"
   },
   {
    "duration": 327,
    "start_time": "2024-04-22T15:38:08.489Z"
   },
   {
    "duration": 25,
    "start_time": "2024-04-22T15:38:08.818Z"
   },
   {
    "duration": 30,
    "start_time": "2024-04-22T15:38:08.861Z"
   },
   {
    "duration": 10,
    "start_time": "2024-04-22T15:38:08.893Z"
   },
   {
    "duration": 9,
    "start_time": "2024-04-22T15:38:08.905Z"
   },
   {
    "duration": 44,
    "start_time": "2024-04-22T15:38:08.917Z"
   },
   {
    "duration": 5,
    "start_time": "2024-04-22T15:38:08.962Z"
   },
   {
    "duration": 31,
    "start_time": "2024-04-22T15:38:08.969Z"
   },
   {
    "duration": 101,
    "start_time": "2024-04-22T15:38:09.002Z"
   },
   {
    "duration": 58,
    "start_time": "2024-04-22T15:38:09.105Z"
   },
   {
    "duration": 144,
    "start_time": "2024-04-22T15:38:09.164Z"
   },
   {
    "duration": 3,
    "start_time": "2024-04-22T15:38:09.314Z"
   },
   {
    "duration": 8,
    "start_time": "2024-04-22T15:38:09.319Z"
   },
   {
    "duration": 175,
    "start_time": "2024-04-22T15:38:09.329Z"
   },
   {
    "duration": 1187,
    "start_time": "2024-04-22T16:00:40.658Z"
   },
   {
    "duration": 112,
    "start_time": "2024-04-22T16:00:41.846Z"
   },
   {
    "duration": 12,
    "start_time": "2024-04-22T16:00:41.959Z"
   },
   {
    "duration": 24,
    "start_time": "2024-04-22T16:00:41.973Z"
   },
   {
    "duration": 14,
    "start_time": "2024-04-22T16:00:41.998Z"
   },
   {
    "duration": 8,
    "start_time": "2024-04-22T16:00:42.014Z"
   },
   {
    "duration": 10,
    "start_time": "2024-04-22T16:00:42.023Z"
   },
   {
    "duration": 13,
    "start_time": "2024-04-22T16:00:42.035Z"
   },
   {
    "duration": 9,
    "start_time": "2024-04-22T16:00:42.049Z"
   },
   {
    "duration": 24,
    "start_time": "2024-04-22T16:00:42.061Z"
   },
   {
    "duration": 13,
    "start_time": "2024-04-22T16:00:42.087Z"
   },
   {
    "duration": 6,
    "start_time": "2024-04-22T16:00:42.101Z"
   },
   {
    "duration": 13,
    "start_time": "2024-04-22T16:00:42.109Z"
   },
   {
    "duration": 21,
    "start_time": "2024-04-22T16:00:42.124Z"
   },
   {
    "duration": 34,
    "start_time": "2024-04-22T16:00:42.147Z"
   },
   {
    "duration": 13,
    "start_time": "2024-04-22T16:00:42.183Z"
   },
   {
    "duration": 10,
    "start_time": "2024-04-22T16:00:42.197Z"
   },
   {
    "duration": 8,
    "start_time": "2024-04-22T16:00:42.209Z"
   },
   {
    "duration": 14,
    "start_time": "2024-04-22T16:00:42.219Z"
   },
   {
    "duration": 15,
    "start_time": "2024-04-22T16:00:42.235Z"
   },
   {
    "duration": 174,
    "start_time": "2024-04-22T16:00:42.252Z"
   },
   {
    "duration": 6,
    "start_time": "2024-04-22T16:00:42.428Z"
   },
   {
    "duration": 153,
    "start_time": "2024-04-22T16:00:42.436Z"
   },
   {
    "duration": 8,
    "start_time": "2024-04-22T16:00:42.591Z"
   },
   {
    "duration": 180,
    "start_time": "2024-04-22T16:00:42.600Z"
   },
   {
    "duration": 8,
    "start_time": "2024-04-22T16:00:42.782Z"
   },
   {
    "duration": 253,
    "start_time": "2024-04-22T16:00:42.792Z"
   },
   {
    "duration": 10,
    "start_time": "2024-04-22T16:00:43.050Z"
   },
   {
    "duration": 35,
    "start_time": "2024-04-22T16:00:43.061Z"
   },
   {
    "duration": 14,
    "start_time": "2024-04-22T16:00:43.098Z"
   },
   {
    "duration": 28,
    "start_time": "2024-04-22T16:00:43.113Z"
   },
   {
    "duration": 3,
    "start_time": "2024-04-22T16:00:43.143Z"
   },
   {
    "duration": 6,
    "start_time": "2024-04-22T16:00:43.147Z"
   },
   {
    "duration": 258,
    "start_time": "2024-04-22T16:00:43.154Z"
   },
   {
    "duration": 8,
    "start_time": "2024-04-22T16:00:43.413Z"
   },
   {
    "duration": 13,
    "start_time": "2024-04-22T16:00:43.423Z"
   },
   {
    "duration": 263,
    "start_time": "2024-04-22T16:00:43.437Z"
   },
   {
    "duration": 203,
    "start_time": "2024-04-22T16:00:43.701Z"
   },
   {
    "duration": 4,
    "start_time": "2024-04-22T16:00:43.906Z"
   },
   {
    "duration": 29,
    "start_time": "2024-04-22T16:00:43.912Z"
   },
   {
    "duration": 42,
    "start_time": "2024-04-22T16:00:43.942Z"
   },
   {
    "duration": 41,
    "start_time": "2024-04-22T16:00:43.986Z"
   },
   {
    "duration": 30,
    "start_time": "2024-04-22T16:00:44.029Z"
   },
   {
    "duration": 17,
    "start_time": "2024-04-22T16:00:44.061Z"
   },
   {
    "duration": 13,
    "start_time": "2024-04-22T16:00:44.080Z"
   },
   {
    "duration": 24,
    "start_time": "2024-04-22T16:00:44.095Z"
   },
   {
    "duration": 28,
    "start_time": "2024-04-22T16:00:44.120Z"
   },
   {
    "duration": 11,
    "start_time": "2024-04-22T16:00:44.150Z"
   },
   {
    "duration": 5,
    "start_time": "2024-04-22T16:00:44.163Z"
   },
   {
    "duration": 27,
    "start_time": "2024-04-22T16:00:44.169Z"
   },
   {
    "duration": 17,
    "start_time": "2024-04-22T16:00:44.198Z"
   },
   {
    "duration": 19,
    "start_time": "2024-04-22T16:00:44.216Z"
   },
   {
    "duration": 12,
    "start_time": "2024-04-22T16:00:44.236Z"
   },
   {
    "duration": 296,
    "start_time": "2024-04-22T16:00:44.250Z"
   },
   {
    "duration": 299,
    "start_time": "2024-04-22T16:00:44.547Z"
   },
   {
    "duration": 277,
    "start_time": "2024-04-22T16:00:44.848Z"
   },
   {
    "duration": 255,
    "start_time": "2024-04-22T16:00:45.127Z"
   },
   {
    "duration": 4,
    "start_time": "2024-04-22T16:00:45.384Z"
   },
   {
    "duration": 49,
    "start_time": "2024-04-22T16:00:45.389Z"
   },
   {
    "duration": 24,
    "start_time": "2024-04-22T16:00:45.440Z"
   },
   {
    "duration": 18,
    "start_time": "2024-04-22T16:00:45.465Z"
   },
   {
    "duration": 31,
    "start_time": "2024-04-22T16:00:45.485Z"
   },
   {
    "duration": 50,
    "start_time": "2024-04-22T16:00:45.517Z"
   },
   {
    "duration": 36,
    "start_time": "2024-04-22T16:00:45.569Z"
   },
   {
    "duration": 32,
    "start_time": "2024-04-22T16:00:45.607Z"
   },
   {
    "duration": 32,
    "start_time": "2024-04-22T16:00:45.640Z"
   },
   {
    "duration": 8,
    "start_time": "2024-04-22T16:00:45.673Z"
   },
   {
    "duration": 28,
    "start_time": "2024-04-22T16:00:45.682Z"
   },
   {
    "duration": 16,
    "start_time": "2024-04-22T16:00:45.712Z"
   },
   {
    "duration": 28,
    "start_time": "2024-04-22T16:00:45.730Z"
   },
   {
    "duration": 282,
    "start_time": "2024-04-22T16:00:45.760Z"
   },
   {
    "duration": 22,
    "start_time": "2024-04-22T16:00:46.044Z"
   },
   {
    "duration": 26,
    "start_time": "2024-04-22T16:00:46.079Z"
   },
   {
    "duration": 100,
    "start_time": "2024-04-22T16:00:46.107Z"
   },
   {
    "duration": 9,
    "start_time": "2024-04-22T16:00:46.209Z"
   },
   {
    "duration": 10,
    "start_time": "2024-04-22T16:00:46.220Z"
   },
   {
    "duration": 20,
    "start_time": "2024-04-22T16:00:46.232Z"
   },
   {
    "duration": 21,
    "start_time": "2024-04-22T16:00:46.254Z"
   },
   {
    "duration": 23,
    "start_time": "2024-04-22T16:00:46.277Z"
   },
   {
    "duration": 57,
    "start_time": "2024-04-22T16:00:46.302Z"
   },
   {
    "duration": 133,
    "start_time": "2024-04-22T16:00:46.361Z"
   },
   {
    "duration": 3,
    "start_time": "2024-04-22T16:00:46.501Z"
   },
   {
    "duration": 19,
    "start_time": "2024-04-22T16:00:46.505Z"
   },
   {
    "duration": 167,
    "start_time": "2024-04-22T16:00:46.525Z"
   },
   {
    "duration": 20,
    "start_time": "2024-04-22T16:09:58.790Z"
   },
   {
    "duration": 15,
    "start_time": "2024-04-22T16:10:15.239Z"
   },
   {
    "duration": 55,
    "start_time": "2024-04-22T17:09:44.024Z"
   },
   {
    "duration": 1488,
    "start_time": "2024-04-22T17:09:53.700Z"
   },
   {
    "duration": 373,
    "start_time": "2024-04-22T17:09:55.191Z"
   },
   {
    "duration": 14,
    "start_time": "2024-04-22T17:09:55.566Z"
   },
   {
    "duration": 31,
    "start_time": "2024-04-22T17:09:55.582Z"
   },
   {
    "duration": 19,
    "start_time": "2024-04-22T17:09:55.615Z"
   },
   {
    "duration": 10,
    "start_time": "2024-04-22T17:09:55.636Z"
   },
   {
    "duration": 10,
    "start_time": "2024-04-22T17:09:55.657Z"
   },
   {
    "duration": 13,
    "start_time": "2024-04-22T17:09:55.669Z"
   },
   {
    "duration": 28,
    "start_time": "2024-04-22T17:09:55.684Z"
   },
   {
    "duration": 10,
    "start_time": "2024-04-22T17:09:55.715Z"
   },
   {
    "duration": 14,
    "start_time": "2024-04-22T17:09:55.727Z"
   },
   {
    "duration": 30,
    "start_time": "2024-04-22T17:09:55.743Z"
   },
   {
    "duration": 15,
    "start_time": "2024-04-22T17:09:55.775Z"
   },
   {
    "duration": 19,
    "start_time": "2024-04-22T17:09:55.792Z"
   },
   {
    "duration": 10,
    "start_time": "2024-04-22T17:09:55.814Z"
   },
   {
    "duration": 13,
    "start_time": "2024-04-22T17:09:55.826Z"
   },
   {
    "duration": 6,
    "start_time": "2024-04-22T17:09:55.841Z"
   },
   {
    "duration": 18,
    "start_time": "2024-04-22T17:09:55.849Z"
   },
   {
    "duration": 11,
    "start_time": "2024-04-22T17:09:55.868Z"
   },
   {
    "duration": 10,
    "start_time": "2024-04-22T17:09:55.880Z"
   },
   {
    "duration": 175,
    "start_time": "2024-04-22T17:09:55.892Z"
   },
   {
    "duration": 6,
    "start_time": "2024-04-22T17:09:56.073Z"
   },
   {
    "duration": 97,
    "start_time": "2024-04-22T17:09:56.081Z"
   },
   {
    "duration": 9,
    "start_time": "2024-04-22T17:09:56.179Z"
   },
   {
    "duration": 175,
    "start_time": "2024-04-22T17:09:56.189Z"
   },
   {
    "duration": 14,
    "start_time": "2024-04-22T17:09:56.366Z"
   },
   {
    "duration": 266,
    "start_time": "2024-04-22T17:09:56.381Z"
   },
   {
    "duration": 24,
    "start_time": "2024-04-22T17:09:56.651Z"
   },
   {
    "duration": 24,
    "start_time": "2024-04-22T17:09:56.676Z"
   },
   {
    "duration": 8,
    "start_time": "2024-04-22T17:09:56.701Z"
   },
   {
    "duration": 32,
    "start_time": "2024-04-22T17:09:56.711Z"
   },
   {
    "duration": 28,
    "start_time": "2024-04-22T17:09:56.745Z"
   },
   {
    "duration": 6,
    "start_time": "2024-04-22T17:09:56.775Z"
   },
   {
    "duration": 293,
    "start_time": "2024-04-22T17:09:56.782Z"
   },
   {
    "duration": 12,
    "start_time": "2024-04-22T17:09:57.077Z"
   },
   {
    "duration": 18,
    "start_time": "2024-04-22T17:09:57.091Z"
   },
   {
    "duration": 281,
    "start_time": "2024-04-22T17:09:57.112Z"
   },
   {
    "duration": 212,
    "start_time": "2024-04-22T17:09:57.395Z"
   },
   {
    "duration": 5,
    "start_time": "2024-04-22T17:09:57.608Z"
   },
   {
    "duration": 23,
    "start_time": "2024-04-22T17:09:57.614Z"
   },
   {
    "duration": 13,
    "start_time": "2024-04-22T17:09:57.639Z"
   },
   {
    "duration": 20,
    "start_time": "2024-04-22T17:09:57.653Z"
   },
   {
    "duration": 11,
    "start_time": "2024-04-22T17:09:57.674Z"
   },
   {
    "duration": 10,
    "start_time": "2024-04-22T17:09:57.686Z"
   },
   {
    "duration": 31,
    "start_time": "2024-04-22T17:09:57.697Z"
   },
   {
    "duration": 9,
    "start_time": "2024-04-22T17:09:57.730Z"
   },
   {
    "duration": 12,
    "start_time": "2024-04-22T17:09:57.740Z"
   },
   {
    "duration": 22,
    "start_time": "2024-04-22T17:09:57.754Z"
   },
   {
    "duration": 6,
    "start_time": "2024-04-22T17:09:57.778Z"
   },
   {
    "duration": 20,
    "start_time": "2024-04-22T17:09:57.785Z"
   },
   {
    "duration": 12,
    "start_time": "2024-04-22T17:09:57.807Z"
   },
   {
    "duration": 13,
    "start_time": "2024-04-22T17:09:57.821Z"
   },
   {
    "duration": 12,
    "start_time": "2024-04-22T17:09:57.836Z"
   },
   {
    "duration": 285,
    "start_time": "2024-04-22T17:09:57.874Z"
   },
   {
    "duration": 314,
    "start_time": "2024-04-22T17:09:58.161Z"
   },
   {
    "duration": 312,
    "start_time": "2024-04-22T17:09:58.477Z"
   },
   {
    "duration": 273,
    "start_time": "2024-04-22T17:09:58.790Z"
   },
   {
    "duration": 9,
    "start_time": "2024-04-22T17:09:59.065Z"
   },
   {
    "duration": 25,
    "start_time": "2024-04-22T17:09:59.076Z"
   },
   {
    "duration": 16,
    "start_time": "2024-04-22T17:09:59.102Z"
   },
   {
    "duration": 3,
    "start_time": "2024-04-22T17:09:59.120Z"
   },
   {
    "duration": 10,
    "start_time": "2024-04-22T17:09:59.124Z"
   },
   {
    "duration": 24,
    "start_time": "2024-04-22T17:09:59.135Z"
   },
   {
    "duration": 16,
    "start_time": "2024-04-22T17:09:59.161Z"
   },
   {
    "duration": 3,
    "start_time": "2024-04-22T17:09:59.179Z"
   },
   {
    "duration": 22,
    "start_time": "2024-04-22T17:09:59.184Z"
   },
   {
    "duration": 3,
    "start_time": "2024-04-22T17:09:59.207Z"
   },
   {
    "duration": 22,
    "start_time": "2024-04-22T17:09:59.212Z"
   },
   {
    "duration": 8,
    "start_time": "2024-04-22T17:09:59.236Z"
   },
   {
    "duration": 28,
    "start_time": "2024-04-22T17:09:59.245Z"
   },
   {
    "duration": 274,
    "start_time": "2024-04-22T17:09:59.275Z"
   },
   {
    "duration": 33,
    "start_time": "2024-04-22T17:09:59.551Z"
   },
   {
    "duration": 25,
    "start_time": "2024-04-22T17:09:59.586Z"
   },
   {
    "duration": 9,
    "start_time": "2024-04-22T17:09:59.612Z"
   },
   {
    "duration": 15,
    "start_time": "2024-04-22T17:09:59.623Z"
   },
   {
    "duration": 34,
    "start_time": "2024-04-22T17:09:59.639Z"
   },
   {
    "duration": 5,
    "start_time": "2024-04-22T17:09:59.675Z"
   },
   {
    "duration": 12,
    "start_time": "2024-04-22T17:09:59.682Z"
   },
   {
    "duration": 105,
    "start_time": "2024-04-22T17:09:59.695Z"
   },
   {
    "duration": 55,
    "start_time": "2024-04-22T17:09:59.802Z"
   },
   {
    "duration": 172,
    "start_time": "2024-04-22T17:09:59.859Z"
   },
   {
    "duration": 3,
    "start_time": "2024-04-22T17:10:00.037Z"
   },
   {
    "duration": 45,
    "start_time": "2024-04-22T17:10:00.042Z"
   },
   {
    "duration": 224,
    "start_time": "2024-04-22T17:10:00.088Z"
   },
   {
    "duration": 7,
    "start_time": "2024-04-22T17:12:02.621Z"
   },
   {
    "duration": 92,
    "start_time": "2024-04-22T17:14:05.561Z"
   },
   {
    "duration": 7,
    "start_time": "2024-04-22T17:14:13.591Z"
   },
   {
    "duration": 183,
    "start_time": "2024-04-22T17:16:20.284Z"
   },
   {
    "duration": 194,
    "start_time": "2024-04-22T17:16:26.087Z"
   },
   {
    "duration": 270,
    "start_time": "2024-04-22T17:17:04.490Z"
   },
   {
    "duration": 263,
    "start_time": "2024-04-22T17:17:16.248Z"
   },
   {
    "duration": 186,
    "start_time": "2024-04-22T17:17:36.549Z"
   },
   {
    "duration": 184,
    "start_time": "2024-04-22T17:17:50.568Z"
   },
   {
    "duration": 383,
    "start_time": "2024-04-22T17:18:05.923Z"
   },
   {
    "duration": 299,
    "start_time": "2024-04-22T17:18:33.110Z"
   },
   {
    "duration": 274,
    "start_time": "2024-04-22T17:18:51.361Z"
   },
   {
    "duration": 14,
    "start_time": "2024-04-22T17:19:32.661Z"
   },
   {
    "duration": 1010,
    "start_time": "2024-04-22T17:20:59.213Z"
   },
   {
    "duration": 4,
    "start_time": "2024-04-22T17:21:34.556Z"
   },
   {
    "duration": 103,
    "start_time": "2024-04-22T17:24:02.727Z"
   },
   {
    "duration": 14,
    "start_time": "2024-04-22T17:24:29.060Z"
   },
   {
    "duration": 12,
    "start_time": "2024-04-22T17:25:06.538Z"
   },
   {
    "duration": 15,
    "start_time": "2024-04-22T17:25:13.617Z"
   },
   {
    "duration": 6,
    "start_time": "2024-04-22T17:26:54.907Z"
   },
   {
    "duration": 1332,
    "start_time": "2024-04-22T17:43:19.665Z"
   },
   {
    "duration": 6,
    "start_time": "2024-04-22T17:43:43.577Z"
   },
   {
    "duration": 6,
    "start_time": "2024-04-22T17:43:52.896Z"
   },
   {
    "duration": 5,
    "start_time": "2024-04-22T17:43:56.659Z"
   },
   {
    "duration": 269,
    "start_time": "2024-04-22T17:51:06.821Z"
   },
   {
    "duration": 157,
    "start_time": "2024-04-22T17:51:36.885Z"
   },
   {
    "duration": 199,
    "start_time": "2024-04-22T17:51:43.117Z"
   },
   {
    "duration": 99,
    "start_time": "2024-04-22T17:52:22.465Z"
   },
   {
    "duration": 95,
    "start_time": "2024-04-22T17:53:03.747Z"
   },
   {
    "duration": 225,
    "start_time": "2024-04-22T17:53:22.082Z"
   },
   {
    "duration": 295,
    "start_time": "2024-04-22T17:53:28.299Z"
   },
   {
    "duration": 303,
    "start_time": "2024-04-22T17:53:37.513Z"
   },
   {
    "duration": 320,
    "start_time": "2024-04-22T17:53:42.166Z"
   },
   {
    "duration": 439,
    "start_time": "2024-04-22T17:54:52.177Z"
   },
   {
    "duration": 334,
    "start_time": "2024-04-22T17:54:56.323Z"
   },
   {
    "duration": 317,
    "start_time": "2024-04-22T17:55:00.593Z"
   },
   {
    "duration": 285,
    "start_time": "2024-04-22T17:55:04.478Z"
   },
   {
    "duration": 325,
    "start_time": "2024-04-22T17:55:20.075Z"
   },
   {
    "duration": 134,
    "start_time": "2024-04-22T18:19:49.459Z"
   },
   {
    "duration": 90,
    "start_time": "2024-04-22T18:20:27.977Z"
   },
   {
    "duration": 339,
    "start_time": "2024-04-22T18:20:40.995Z"
   },
   {
    "duration": 214,
    "start_time": "2024-04-22T18:20:51.357Z"
   },
   {
    "duration": 1259,
    "start_time": "2024-04-22T18:21:07.909Z"
   },
   {
    "duration": 138,
    "start_time": "2024-04-22T18:21:09.170Z"
   },
   {
    "duration": 18,
    "start_time": "2024-04-22T18:21:09.311Z"
   },
   {
    "duration": 19,
    "start_time": "2024-04-22T18:21:09.331Z"
   },
   {
    "duration": 12,
    "start_time": "2024-04-22T18:21:09.352Z"
   },
   {
    "duration": 13,
    "start_time": "2024-04-22T18:21:09.366Z"
   },
   {
    "duration": 12,
    "start_time": "2024-04-22T18:21:09.381Z"
   },
   {
    "duration": 15,
    "start_time": "2024-04-22T18:21:09.394Z"
   },
   {
    "duration": 25,
    "start_time": "2024-04-22T18:21:09.411Z"
   },
   {
    "duration": 11,
    "start_time": "2024-04-22T18:21:09.438Z"
   },
   {
    "duration": 32,
    "start_time": "2024-04-22T18:21:09.450Z"
   },
   {
    "duration": 6,
    "start_time": "2024-04-22T18:21:09.484Z"
   },
   {
    "duration": 19,
    "start_time": "2024-04-22T18:21:09.492Z"
   },
   {
    "duration": 9,
    "start_time": "2024-04-22T18:21:09.513Z"
   },
   {
    "duration": 29,
    "start_time": "2024-04-22T18:21:09.524Z"
   },
   {
    "duration": 6,
    "start_time": "2024-04-22T18:21:09.554Z"
   },
   {
    "duration": 12,
    "start_time": "2024-04-22T18:21:09.561Z"
   },
   {
    "duration": 5,
    "start_time": "2024-04-22T18:21:09.575Z"
   },
   {
    "duration": 11,
    "start_time": "2024-04-22T18:21:09.581Z"
   },
   {
    "duration": 24,
    "start_time": "2024-04-22T18:21:09.594Z"
   },
   {
    "duration": 202,
    "start_time": "2024-04-22T18:21:09.620Z"
   },
   {
    "duration": 6,
    "start_time": "2024-04-22T18:21:09.824Z"
   },
   {
    "duration": 133,
    "start_time": "2024-04-22T18:21:09.831Z"
   },
   {
    "duration": 8,
    "start_time": "2024-04-22T18:21:09.966Z"
   },
   {
    "duration": 266,
    "start_time": "2024-04-22T18:21:09.976Z"
   },
   {
    "duration": 10,
    "start_time": "2024-04-22T18:21:10.244Z"
   },
   {
    "duration": 327,
    "start_time": "2024-04-22T18:21:10.256Z"
   },
   {
    "duration": 15,
    "start_time": "2024-04-22T18:21:10.590Z"
   },
   {
    "duration": 44,
    "start_time": "2024-04-22T18:21:10.607Z"
   },
   {
    "duration": 29,
    "start_time": "2024-04-22T18:21:10.653Z"
   },
   {
    "duration": 44,
    "start_time": "2024-04-22T18:21:10.684Z"
   },
   {
    "duration": 5,
    "start_time": "2024-04-22T18:21:10.730Z"
   },
   {
    "duration": 21,
    "start_time": "2024-04-22T18:21:10.736Z"
   },
   {
    "duration": 354,
    "start_time": "2024-04-22T18:21:10.759Z"
   },
   {
    "duration": 10,
    "start_time": "2024-04-22T18:21:11.114Z"
   },
   {
    "duration": 23,
    "start_time": "2024-04-22T18:21:11.125Z"
   },
   {
    "duration": 315,
    "start_time": "2024-04-22T18:21:11.149Z"
   },
   {
    "duration": 234,
    "start_time": "2024-04-22T18:21:11.466Z"
   },
   {
    "duration": 5,
    "start_time": "2024-04-22T18:21:11.703Z"
   },
   {
    "duration": 20,
    "start_time": "2024-04-22T18:21:11.710Z"
   },
   {
    "duration": 7,
    "start_time": "2024-04-22T18:21:11.732Z"
   },
   {
    "duration": 5,
    "start_time": "2024-04-22T18:21:11.740Z"
   },
   {
    "duration": 32,
    "start_time": "2024-04-22T18:21:11.747Z"
   },
   {
    "duration": 15,
    "start_time": "2024-04-22T18:21:11.781Z"
   },
   {
    "duration": 11,
    "start_time": "2024-04-22T18:21:11.798Z"
   },
   {
    "duration": 10,
    "start_time": "2024-04-22T18:21:11.811Z"
   },
   {
    "duration": 50,
    "start_time": "2024-04-22T18:21:11.823Z"
   },
   {
    "duration": 5,
    "start_time": "2024-04-22T18:21:11.876Z"
   },
   {
    "duration": 23,
    "start_time": "2024-04-22T18:21:11.883Z"
   },
   {
    "duration": 14,
    "start_time": "2024-04-22T18:21:11.907Z"
   },
   {
    "duration": 9,
    "start_time": "2024-04-22T18:21:11.922Z"
   },
   {
    "duration": 7,
    "start_time": "2024-04-22T18:21:11.932Z"
   },
   {
    "duration": 44,
    "start_time": "2024-04-22T18:21:11.941Z"
   },
   {
    "duration": 14,
    "start_time": "2024-04-22T18:21:11.987Z"
   },
   {
    "duration": 36,
    "start_time": "2024-04-22T18:21:12.003Z"
   },
   {
    "duration": 26,
    "start_time": "2024-04-22T18:21:12.041Z"
   },
   {
    "duration": 353,
    "start_time": "2024-04-22T18:21:12.069Z"
   },
   {
    "duration": 340,
    "start_time": "2024-04-22T18:21:12.424Z"
   },
   {
    "duration": 330,
    "start_time": "2024-04-22T18:21:12.765Z"
   },
   {
    "duration": 325,
    "start_time": "2024-04-22T18:21:13.096Z"
   },
   {
    "duration": 5,
    "start_time": "2024-04-22T18:21:13.423Z"
   },
   {
    "duration": 40,
    "start_time": "2024-04-22T18:21:13.430Z"
   },
   {
    "duration": 21,
    "start_time": "2024-04-22T18:21:13.473Z"
   },
   {
    "duration": 26,
    "start_time": "2024-04-22T18:21:13.497Z"
   },
   {
    "duration": 28,
    "start_time": "2024-04-22T18:21:13.526Z"
   },
   {
    "duration": 23,
    "start_time": "2024-04-22T18:21:13.555Z"
   },
   {
    "duration": 16,
    "start_time": "2024-04-22T18:21:13.580Z"
   },
   {
    "duration": 8,
    "start_time": "2024-04-22T18:21:13.598Z"
   },
   {
    "duration": 43,
    "start_time": "2024-04-22T18:21:13.608Z"
   },
   {
    "duration": 9,
    "start_time": "2024-04-22T18:21:13.653Z"
   },
   {
    "duration": 13,
    "start_time": "2024-04-22T18:21:13.664Z"
   },
   {
    "duration": 25,
    "start_time": "2024-04-22T18:21:13.678Z"
   },
   {
    "duration": 27,
    "start_time": "2024-04-22T18:21:13.706Z"
   },
   {
    "duration": 333,
    "start_time": "2024-04-22T18:21:13.735Z"
   },
   {
    "duration": 28,
    "start_time": "2024-04-22T18:21:14.073Z"
   },
   {
    "duration": 29,
    "start_time": "2024-04-22T18:21:14.103Z"
   },
   {
    "duration": 40,
    "start_time": "2024-04-22T18:21:14.134Z"
   },
   {
    "duration": 125,
    "start_time": "2024-04-22T18:21:14.176Z"
   },
   {
    "duration": 5,
    "start_time": "2024-04-22T18:21:14.303Z"
   },
   {
    "duration": 18,
    "start_time": "2024-04-22T18:21:14.310Z"
   },
   {
    "duration": 11,
    "start_time": "2024-04-22T18:21:14.329Z"
   },
   {
    "duration": 13,
    "start_time": "2024-04-22T18:21:14.346Z"
   },
   {
    "duration": 16,
    "start_time": "2024-04-22T18:21:14.360Z"
   },
   {
    "duration": 32,
    "start_time": "2024-04-22T18:21:14.378Z"
   },
   {
    "duration": 57,
    "start_time": "2024-04-22T18:21:14.411Z"
   },
   {
    "duration": 165,
    "start_time": "2024-04-22T18:21:14.469Z"
   },
   {
    "duration": 4,
    "start_time": "2024-04-22T18:21:14.635Z"
   },
   {
    "duration": 20,
    "start_time": "2024-04-22T18:21:14.640Z"
   },
   {
    "duration": 181,
    "start_time": "2024-04-22T18:21:14.662Z"
   },
   {
    "duration": 1122,
    "start_time": "2024-04-22T19:24:16.121Z"
   },
   {
    "duration": 119,
    "start_time": "2024-04-22T19:24:17.245Z"
   },
   {
    "duration": 13,
    "start_time": "2024-04-22T19:24:17.365Z"
   },
   {
    "duration": 13,
    "start_time": "2024-04-22T19:24:17.381Z"
   },
   {
    "duration": 19,
    "start_time": "2024-04-22T19:24:17.395Z"
   },
   {
    "duration": 11,
    "start_time": "2024-04-22T19:24:17.416Z"
   },
   {
    "duration": 12,
    "start_time": "2024-04-22T19:24:17.429Z"
   },
   {
    "duration": 12,
    "start_time": "2024-04-22T19:24:17.443Z"
   },
   {
    "duration": 31,
    "start_time": "2024-04-22T19:24:17.456Z"
   },
   {
    "duration": 10,
    "start_time": "2024-04-22T19:24:17.489Z"
   },
   {
    "duration": 13,
    "start_time": "2024-04-22T19:24:17.500Z"
   },
   {
    "duration": 5,
    "start_time": "2024-04-22T19:24:17.515Z"
   },
   {
    "duration": 12,
    "start_time": "2024-04-22T19:24:17.521Z"
   },
   {
    "duration": 28,
    "start_time": "2024-04-22T19:24:17.535Z"
   },
   {
    "duration": 22,
    "start_time": "2024-04-22T19:24:17.565Z"
   },
   {
    "duration": 6,
    "start_time": "2024-04-22T19:24:17.589Z"
   },
   {
    "duration": 9,
    "start_time": "2024-04-22T19:24:17.596Z"
   },
   {
    "duration": 16,
    "start_time": "2024-04-22T19:24:17.607Z"
   },
   {
    "duration": 9,
    "start_time": "2024-04-22T19:24:17.625Z"
   },
   {
    "duration": 9,
    "start_time": "2024-04-22T19:24:17.635Z"
   },
   {
    "duration": 180,
    "start_time": "2024-04-22T19:24:17.646Z"
   },
   {
    "duration": 6,
    "start_time": "2024-04-22T19:24:17.827Z"
   },
   {
    "duration": 95,
    "start_time": "2024-04-22T19:24:17.834Z"
   },
   {
    "duration": 7,
    "start_time": "2024-04-22T19:24:17.930Z"
   },
   {
    "duration": 199,
    "start_time": "2024-04-22T19:24:17.938Z"
   },
   {
    "duration": 8,
    "start_time": "2024-04-22T19:24:18.139Z"
   },
   {
    "duration": 292,
    "start_time": "2024-04-22T19:24:18.148Z"
   },
   {
    "duration": 9,
    "start_time": "2024-04-22T19:24:18.444Z"
   },
   {
    "duration": 38,
    "start_time": "2024-04-22T19:24:18.454Z"
   },
   {
    "duration": 7,
    "start_time": "2024-04-22T19:24:18.494Z"
   },
   {
    "duration": 38,
    "start_time": "2024-04-22T19:24:18.502Z"
   },
   {
    "duration": 5,
    "start_time": "2024-04-22T19:24:18.542Z"
   },
   {
    "duration": 8,
    "start_time": "2024-04-22T19:24:18.549Z"
   },
   {
    "duration": 340,
    "start_time": "2024-04-22T19:24:18.559Z"
   },
   {
    "duration": 9,
    "start_time": "2024-04-22T19:24:18.901Z"
   },
   {
    "duration": 10,
    "start_time": "2024-04-22T19:24:18.912Z"
   },
   {
    "duration": 322,
    "start_time": "2024-04-22T19:24:18.923Z"
   },
   {
    "duration": 195,
    "start_time": "2024-04-22T19:24:19.247Z"
   },
   {
    "duration": 5,
    "start_time": "2024-04-22T19:24:19.444Z"
   },
   {
    "duration": 23,
    "start_time": "2024-04-22T19:24:19.450Z"
   },
   {
    "duration": 12,
    "start_time": "2024-04-22T19:24:19.475Z"
   },
   {
    "duration": 9,
    "start_time": "2024-04-22T19:24:19.488Z"
   },
   {
    "duration": 16,
    "start_time": "2024-04-22T19:24:19.498Z"
   },
   {
    "duration": 12,
    "start_time": "2024-04-22T19:24:19.515Z"
   },
   {
    "duration": 9,
    "start_time": "2024-04-22T19:24:19.528Z"
   },
   {
    "duration": 14,
    "start_time": "2024-04-22T19:24:19.538Z"
   },
   {
    "duration": 19,
    "start_time": "2024-04-22T19:24:19.553Z"
   },
   {
    "duration": 4,
    "start_time": "2024-04-22T19:24:19.579Z"
   },
   {
    "duration": 22,
    "start_time": "2024-04-22T19:24:19.585Z"
   },
   {
    "duration": 12,
    "start_time": "2024-04-22T19:24:19.609Z"
   },
   {
    "duration": 11,
    "start_time": "2024-04-22T19:24:19.622Z"
   },
   {
    "duration": 5,
    "start_time": "2024-04-22T19:24:19.634Z"
   },
   {
    "duration": 14,
    "start_time": "2024-04-22T19:24:19.640Z"
   },
   {
    "duration": 27,
    "start_time": "2024-04-22T19:24:19.656Z"
   },
   {
    "duration": 20,
    "start_time": "2024-04-22T19:24:19.685Z"
   },
   {
    "duration": 19,
    "start_time": "2024-04-22T19:24:19.706Z"
   },
   {
    "duration": 287,
    "start_time": "2024-04-22T19:24:19.726Z"
   },
   {
    "duration": 300,
    "start_time": "2024-04-22T19:24:20.015Z"
   },
   {
    "duration": 329,
    "start_time": "2024-04-22T19:24:20.317Z"
   },
   {
    "duration": 295,
    "start_time": "2024-04-22T19:24:20.647Z"
   },
   {
    "duration": 3,
    "start_time": "2024-04-22T19:24:20.944Z"
   },
   {
    "duration": 38,
    "start_time": "2024-04-22T19:24:20.949Z"
   },
   {
    "duration": 13,
    "start_time": "2024-04-22T19:24:20.988Z"
   },
   {
    "duration": 3,
    "start_time": "2024-04-22T19:24:21.002Z"
   },
   {
    "duration": 25,
    "start_time": "2024-04-22T19:24:21.006Z"
   },
   {
    "duration": 15,
    "start_time": "2024-04-22T19:24:21.033Z"
   },
   {
    "duration": 16,
    "start_time": "2024-04-22T19:24:21.049Z"
   },
   {
    "duration": 4,
    "start_time": "2024-04-22T19:24:21.066Z"
   },
   {
    "duration": 23,
    "start_time": "2024-04-22T19:24:21.071Z"
   },
   {
    "duration": 2,
    "start_time": "2024-04-22T19:24:21.096Z"
   },
   {
    "duration": 19,
    "start_time": "2024-04-22T19:24:21.099Z"
   },
   {
    "duration": 12,
    "start_time": "2024-04-22T19:24:21.120Z"
   },
   {
    "duration": 12,
    "start_time": "2024-04-22T19:24:21.133Z"
   },
   {
    "duration": 299,
    "start_time": "2024-04-22T19:24:21.146Z"
   },
   {
    "duration": 35,
    "start_time": "2024-04-22T19:24:21.446Z"
   },
   {
    "duration": 23,
    "start_time": "2024-04-22T19:24:21.483Z"
   },
   {
    "duration": 102,
    "start_time": "2024-04-22T19:24:21.508Z"
   },
   {
    "duration": 7,
    "start_time": "2024-04-22T19:24:21.612Z"
   },
   {
    "duration": 27,
    "start_time": "2024-04-22T19:24:21.621Z"
   },
   {
    "duration": 6,
    "start_time": "2024-04-22T19:24:21.649Z"
   },
   {
    "duration": 9,
    "start_time": "2024-04-22T19:24:21.656Z"
   },
   {
    "duration": 19,
    "start_time": "2024-04-22T19:24:21.669Z"
   },
   {
    "duration": 9,
    "start_time": "2024-04-22T19:24:21.689Z"
   },
   {
    "duration": 6,
    "start_time": "2024-04-22T19:24:21.700Z"
   },
   {
    "duration": 36,
    "start_time": "2024-04-22T19:24:21.708Z"
   },
   {
    "duration": 157,
    "start_time": "2024-04-22T19:24:21.746Z"
   },
   {
    "duration": 4,
    "start_time": "2024-04-22T19:24:21.905Z"
   },
   {
    "duration": 11,
    "start_time": "2024-04-22T19:24:21.911Z"
   },
   {
    "duration": 171,
    "start_time": "2024-04-22T19:24:21.923Z"
   },
   {
    "duration": 5,
    "start_time": "2024-04-22T19:25:39.666Z"
   },
   {
    "duration": 7,
    "start_time": "2024-04-22T19:26:15.036Z"
   },
   {
    "duration": 6,
    "start_time": "2024-04-22T19:26:16.672Z"
   },
   {
    "duration": 8,
    "start_time": "2024-04-22T19:26:30.142Z"
   },
   {
    "duration": 15,
    "start_time": "2024-04-22T19:26:36.380Z"
   },
   {
    "duration": 20,
    "start_time": "2024-04-22T19:26:44.806Z"
   },
   {
    "duration": 8,
    "start_time": "2024-04-22T19:27:18.338Z"
   }
  ],
  "kernelspec": {
   "display_name": "Python 3 (ipykernel)",
   "language": "python",
   "name": "python3"
  },
  "language_info": {
   "codemirror_mode": {
    "name": "ipython",
    "version": 3
   },
   "file_extension": ".py",
   "mimetype": "text/x-python",
   "name": "python",
   "nbconvert_exporter": "python",
   "pygments_lexer": "ipython3",
   "version": "3.11.5"
  },
  "toc": {
   "base_numbering": 1,
   "nav_menu": {
    "height": "408px",
    "width": "329px"
   },
   "number_sections": true,
   "sideBar": true,
   "skip_h1_title": true,
   "title_cell": "Table of Contents",
   "title_sidebar": "Contents",
   "toc_cell": false,
   "toc_position": {
    "height": "calc(100% - 180px)",
    "left": "10px",
    "top": "150px",
    "width": "165px"
   },
   "toc_section_display": true,
   "toc_window_display": true
  }
 },
 "nbformat": 4,
 "nbformat_minor": 5
}
