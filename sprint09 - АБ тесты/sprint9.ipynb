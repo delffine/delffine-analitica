{
 "cells": [
  {
   "cell_type": "markdown",
   "id": "f1405a96",
   "metadata": {},
   "source": [
    "<div style=\"border:solid Chocolate 2px; padding: 40px\">\n",
    "\n",
    "<b>Антон, приветствую!</b>\n",
    "\n",
    "Буду рада с тобой познакомиться. Меня зовут Евгения Маракова и я буду ревьюером твоего проекта. Если ты не против, то предлагаю общаться на \"ты\":) Если удобнее на \"вы\", то нет проблем, только скажи об этом.\n",
    "\n",
    "В процессе работы ты встретишь комментарии <font color='green'>зеленого</font>, <font color='gold'>желтого</font> и <font color='red'>красного</font> цветов. Что они значат, смотри ниже:\n",
    "    <br/>\n",
    "\n",
    "<div class=\"alert alert-success\">\n",
    "<h2> Комментарий ревьюера <a class=\"tocSkip\"> </h2>\n",
    "\n",
    "<b>Отлично!✅:</b> Решение на этом шаге является полностью правильным. У тебя хорошо получается проводить АВ-тестирование и анализировать данные!\n",
    "</div>\n",
    "\n",
    "<br/>\n",
    "\n",
    "<div class=\"alert alert-warning\">\n",
    "    <h2> Комментарий ревьюера <a class=\"tocSkip\"> </h2>\n",
    "    \n",
    "<b>Можно лучше⚠️:</b> Решение на этом шаге станет еще лучше, если внести небольшие коррективы.\n",
    "</div>\n",
    "\n",
    "\n",
    "<br/>\n",
    "<div class=\"alert alert-block alert-danger\">\n",
    "<h2> Комментарий ревьюера <a class=\"tocSkip\"></h2>\n",
    "\n",
    "    \n",
    "<b>Необходимо исправить❌:</b>\n",
    " Решение на этом шаге требует существенной переработки и внесения правок. Напоминаю, что проект не может быть принят с первого раза, если ревью содержит комментарии, рекомендующие доработать шаги.\n",
    "</div>\n",
    "    \n",
    "Увидев мой комментарий, не удаляй его, он будет очень полезен в случае повторной проверки работы😊\n",
    "    \n",
    "Свой комментарий помечай так, как показано ниже, тогда нам будет легче вести диалог, а мне выполнить повторную проверку проекта.\n",
    "    <div class=\"alert alert-info\"> <b>Комментарий студента: </b> </div>\n",
    "    \n"
   ]
  },
  {
   "cell_type": "markdown",
   "id": "05e05c18",
   "metadata": {},
   "source": [
    "## Решение для крупного интернет-магазина по увеличению выручки"
   ]
  },
  {
   "cell_type": "markdown",
   "id": "bc45d734",
   "metadata": {},
   "source": [
    "Крупный интернет-магазин поставил отделу маркетинга и аналитики задачу - увеличить выручку. Совместно с отделом маркетинга были подготовлены 9 возможных способов увеличения выручки. Все они носят гипотетический характер, то есть увеличат ли они выручку неизвестно, это можно только проверить при практическом внедрении. Все 9 гипотез проверить нет возможности. Поэтому отделу аналитики надо выбрать наиболее перспективные. После проверки перспективных гипотез путем проведения A/B тестирования отделу аналитики надо проанализировать их результаты и принять решение об успешности способа увеличения выручки для рекомендаций руководитсву по его внедрению уже на весь интернет-магазин.\n",
    "\n",
    "**Цели исследования**\n",
    "\n",
    "- Выбрать наиболее перспективные гипотезы для увеличения выручки\n",
    "- Проанализировать резутаты A\\B тестирования выбранной гипотезы по метрикам. \n",
    "- Принять решение о дальнейшем внедрении способа увеличения выручки\n",
    "\n",
    "**Ход исследования**\n",
    "\n",
    "Данные представлены в трех датасетах. О качестве данных ничего не известно, поэтому перед основным исследованием потребуется обзор данных. Надо проверить даные на ошибки, пропуски и дубликаты. Если они есть, надо найти возможность исправить некорректные данные. \n",
    "\n",
    "При анализе A\\B тестирования выбранной гипотезы будут рассмтроены следующие метрики: куммулятивная выручка по группам, куммулятивный средний чек по группам, куммулятивная конверсия по группам, а также относительные их измерения в тестируемой группе В относительно базовой А. Оценена статистическая значимость выявленных различий этих метрик.\n",
    "\n",
    "Таким образом, исследоваание будет состоять из пяти этапов:\n",
    "\n",
    "- Загрузка данных и подготовка данных к анализу\n",
    "- Приоритизация гипотез\n",
    "- Анализ результатов А\\В тестирования\n",
    "- Принятие решения об успешности гипотезы\n",
    "- Общий вывод"
   ]
  },
  {
   "cell_type": "markdown",
   "id": "08491b69",
   "metadata": {},
   "source": [
    "<div class=\"alert alert-success\">\n",
    "<h2> Комментарий ревьюера <a class=\"tocSkip\"> </h2>\n",
    "\n",
    "<b>Отлично!✅:</b> Супер, что добавил описание проекта, так будет легче каждому соореентироваться в работе!\n",
    "</div>"
   ]
  },
  {
   "cell_type": "markdown",
   "id": "1b5afc97",
   "metadata": {},
   "source": [
    "<div class=\"alert alert-warning\">\n",
    "    <h2> Комментарий ревьюера <a class=\"tocSkip\"> </h2>\n",
    "    \n",
    "<b>Можно лучше⚠️:</b> Будет здорово, если в вводной части уделишь внимание решаемой бизнес-задаче. Это позволит заказчику анализа понять, на что был направлен проект. В нашем случае, происходит оценка результатов АВ теста, поэтому рекомендую указать в целях к этой части - изучение каких основных метрик будет проводиться в ходе эксперимента. В реальных проектах хорошо приводить дизайн АВ теста (или его техническое задание).\n",
    "</div>"
   ]
  },
  {
   "cell_type": "markdown",
   "id": "fab0da26",
   "metadata": {},
   "source": [
    "<div class=\"alert alert-info\"> <b>Комментарий студента: </b> Дополнил</div>"
   ]
  },
  {
   "cell_type": "markdown",
   "id": "95606e5a",
   "metadata": {},
   "source": [
    "<div class=\"alert alert-success\">\n",
    "<h2> Комментарий ревьюера v2<a class=\"tocSkip\"> </h2>\n",
    "\n",
    "<b>Отлично!✅:</b> Отлично!\n",
    "</div>"
   ]
  },
  {
   "cell_type": "markdown",
   "id": "009f2a42",
   "metadata": {},
   "source": [
    "## Загрузка данных и подготовка их к анализу"
   ]
  },
  {
   "cell_type": "code",
   "execution_count": 1,
   "id": "116d99ad",
   "metadata": {},
   "outputs": [],
   "source": [
    "import pandas as pd\n",
    "import numpy as np\n",
    "import matplotlib.pyplot as plt\n",
    "import datetime as dt\n",
    "import scipy.stats as stats"
   ]
  },
  {
   "cell_type": "code",
   "execution_count": 2,
   "id": "da8cc7c6",
   "metadata": {},
   "outputs": [],
   "source": [
    "pd.set_option('display.max_colwidth', None)\n",
    "pd.set_option('display.float_format', '{:.2f}'.format)\n",
    "plt.rcParams ['figure.figsize'] = [15, 8]"
   ]
  },
  {
   "cell_type": "code",
   "execution_count": 3,
   "id": "0d25d8ef",
   "metadata": {},
   "outputs": [],
   "source": [
    "try: \n",
    "    hypothesis = pd.read_csv('d:/practicum/9sprint/hypothesis.csv')\n",
    "    orders = pd.read_csv('d:/practicum/9sprint/orders.csv')\n",
    "    visits = pd.read_csv('d:/practicum/9sprint/visitors.csv')\n",
    "\n",
    "except:\n",
    "    hypothesis = pd.read_csv('/datasets/hypothesis.csv')\n",
    "    orders = pd.read_csv('/datasets/orders.csv')\n",
    "    visits = pd.read_csv('/datasets/visitors.csv')"
   ]
  },
  {
   "cell_type": "markdown",
   "id": "640576d4",
   "metadata": {},
   "source": [
    "<div class=\"alert alert-success\">\n",
    "<h2> Комментарий ревьюера <a class=\"tocSkip\"> </h2>\n",
    "\n",
    "<b>Отлично!✅:</b> Данные загружены верно! Молодец, что применил настройку, так с гипотезами познакомимся в полном объеме.\n",
    "</div>"
   ]
  },
  {
   "cell_type": "code",
   "execution_count": 4,
   "id": "e079c7dd",
   "metadata": {},
   "outputs": [
    {
     "name": "stdout",
     "output_type": "stream",
     "text": [
      "<class 'pandas.core.frame.DataFrame'>\n",
      "RangeIndex: 9 entries, 0 to 8\n",
      "Data columns (total 5 columns):\n",
      " #   Column      Non-Null Count  Dtype \n",
      "---  ------      --------------  ----- \n",
      " 0   Hypothesis  9 non-null      object\n",
      " 1   Reach       9 non-null      int64 \n",
      " 2   Impact      9 non-null      int64 \n",
      " 3   Confidence  9 non-null      int64 \n",
      " 4   Efforts     9 non-null      int64 \n",
      "dtypes: int64(4), object(1)\n",
      "memory usage: 488.0+ bytes\n"
     ]
    }
   ],
   "source": [
    "hypothesis.info()"
   ]
  },
  {
   "cell_type": "markdown",
   "id": "80aa0e9a",
   "metadata": {},
   "source": [
    "Таблица hypothesis содержит 9 строк. Пропусков нет. Названия колонок требуется привести к нижнему регистру."
   ]
  },
  {
   "cell_type": "code",
   "execution_count": 5,
   "id": "8f01729b",
   "metadata": {},
   "outputs": [],
   "source": [
    "hypothesis.columns = hypothesis.columns.str.lower()"
   ]
  },
  {
   "cell_type": "code",
   "execution_count": 6,
   "id": "0616d485",
   "metadata": {},
   "outputs": [
    {
     "data": {
      "text/html": [
       "<div>\n",
       "<style scoped>\n",
       "    .dataframe tbody tr th:only-of-type {\n",
       "        vertical-align: middle;\n",
       "    }\n",
       "\n",
       "    .dataframe tbody tr th {\n",
       "        vertical-align: top;\n",
       "    }\n",
       "\n",
       "    .dataframe thead th {\n",
       "        text-align: right;\n",
       "    }\n",
       "</style>\n",
       "<table border=\"1\" class=\"dataframe\">\n",
       "  <thead>\n",
       "    <tr style=\"text-align: right;\">\n",
       "      <th></th>\n",
       "      <th>hypothesis</th>\n",
       "      <th>reach</th>\n",
       "      <th>impact</th>\n",
       "      <th>confidence</th>\n",
       "      <th>efforts</th>\n",
       "    </tr>\n",
       "  </thead>\n",
       "  <tbody>\n",
       "    <tr>\n",
       "      <th>0</th>\n",
       "      <td>Добавить два новых канала привлечения трафика, что позволит привлекать на 30% больше пользователей</td>\n",
       "      <td>3</td>\n",
       "      <td>10</td>\n",
       "      <td>8</td>\n",
       "      <td>6</td>\n",
       "    </tr>\n",
       "    <tr>\n",
       "      <th>1</th>\n",
       "      <td>Запустить собственную службу доставки, что сократит срок доставки заказов</td>\n",
       "      <td>2</td>\n",
       "      <td>5</td>\n",
       "      <td>4</td>\n",
       "      <td>10</td>\n",
       "    </tr>\n",
       "    <tr>\n",
       "      <th>2</th>\n",
       "      <td>Добавить блоки рекомендаций товаров на сайт интернет магазина, чтобы повысить конверсию и средний чек заказа</td>\n",
       "      <td>8</td>\n",
       "      <td>3</td>\n",
       "      <td>7</td>\n",
       "      <td>3</td>\n",
       "    </tr>\n",
       "    <tr>\n",
       "      <th>3</th>\n",
       "      <td>Изменить структура категорий, что увеличит конверсию, т.к. пользователи быстрее найдут нужный товар</td>\n",
       "      <td>8</td>\n",
       "      <td>3</td>\n",
       "      <td>3</td>\n",
       "      <td>8</td>\n",
       "    </tr>\n",
       "    <tr>\n",
       "      <th>4</th>\n",
       "      <td>Изменить цвет фона главной страницы, чтобы увеличить вовлеченность пользователей</td>\n",
       "      <td>3</td>\n",
       "      <td>1</td>\n",
       "      <td>1</td>\n",
       "      <td>1</td>\n",
       "    </tr>\n",
       "  </tbody>\n",
       "</table>\n",
       "</div>"
      ],
      "text/plain": [
       "                                                                                                     hypothesis  \\\n",
       "0            Добавить два новых канала привлечения трафика, что позволит привлекать на 30% больше пользователей   \n",
       "1                                     Запустить собственную службу доставки, что сократит срок доставки заказов   \n",
       "2  Добавить блоки рекомендаций товаров на сайт интернет магазина, чтобы повысить конверсию и средний чек заказа   \n",
       "3           Изменить структура категорий, что увеличит конверсию, т.к. пользователи быстрее найдут нужный товар   \n",
       "4                              Изменить цвет фона главной страницы, чтобы увеличить вовлеченность пользователей   \n",
       "\n",
       "   reach  impact  confidence  efforts  \n",
       "0      3      10           8        6  \n",
       "1      2       5           4       10  \n",
       "2      8       3           7        3  \n",
       "3      8       3           3        8  \n",
       "4      3       1           1        1  "
      ]
     },
     "execution_count": 6,
     "metadata": {},
     "output_type": "execute_result"
    }
   ],
   "source": [
    "hypothesis.head(5)"
   ]
  },
  {
   "cell_type": "markdown",
   "id": "099ce1b4",
   "metadata": {},
   "source": [
    "<div class=\"alert alert-success\">\n",
    "<h2> Комментарий ревьюера <a class=\"tocSkip\"> </h2>\n",
    "\n",
    "<b>Отлично!✅:</b> Хорошо, такой формат намного лучше!\n",
    "</div>"
   ]
  },
  {
   "cell_type": "code",
   "execution_count": 7,
   "id": "a85b9a95",
   "metadata": {},
   "outputs": [
    {
     "name": "stdout",
     "output_type": "stream",
     "text": [
      "<class 'pandas.core.frame.DataFrame'>\n",
      "RangeIndex: 1197 entries, 0 to 1196\n",
      "Data columns (total 5 columns):\n",
      " #   Column         Non-Null Count  Dtype \n",
      "---  ------         --------------  ----- \n",
      " 0   transactionId  1197 non-null   int64 \n",
      " 1   visitorId      1197 non-null   int64 \n",
      " 2   date           1197 non-null   object\n",
      " 3   revenue        1197 non-null   int64 \n",
      " 4   group          1197 non-null   object\n",
      "dtypes: int64(3), object(2)\n",
      "memory usage: 46.9+ KB\n"
     ]
    }
   ],
   "source": [
    "orders.info()"
   ]
  },
  {
   "cell_type": "markdown",
   "id": "1cb96750",
   "metadata": {},
   "source": [
    "Колонку date надо перевести к типу datetime"
   ]
  },
  {
   "cell_type": "code",
   "execution_count": 8,
   "id": "a13bbaf0",
   "metadata": {},
   "outputs": [],
   "source": [
    "orders['date'] = pd.to_datetime(orders['date'])"
   ]
  },
  {
   "cell_type": "code",
   "execution_count": 9,
   "id": "2e6a10e9",
   "metadata": {},
   "outputs": [
    {
     "data": {
      "text/html": [
       "<div>\n",
       "<style scoped>\n",
       "    .dataframe tbody tr th:only-of-type {\n",
       "        vertical-align: middle;\n",
       "    }\n",
       "\n",
       "    .dataframe tbody tr th {\n",
       "        vertical-align: top;\n",
       "    }\n",
       "\n",
       "    .dataframe thead th {\n",
       "        text-align: right;\n",
       "    }\n",
       "</style>\n",
       "<table border=\"1\" class=\"dataframe\">\n",
       "  <thead>\n",
       "    <tr style=\"text-align: right;\">\n",
       "      <th></th>\n",
       "      <th>transactionId</th>\n",
       "      <th>visitorId</th>\n",
       "      <th>date</th>\n",
       "      <th>revenue</th>\n",
       "      <th>group</th>\n",
       "    </tr>\n",
       "  </thead>\n",
       "  <tbody>\n",
       "    <tr>\n",
       "      <th>0</th>\n",
       "      <td>3667963787</td>\n",
       "      <td>3312258926</td>\n",
       "      <td>2019-08-15</td>\n",
       "      <td>1650</td>\n",
       "      <td>B</td>\n",
       "    </tr>\n",
       "    <tr>\n",
       "      <th>1</th>\n",
       "      <td>2804400009</td>\n",
       "      <td>3642806036</td>\n",
       "      <td>2019-08-15</td>\n",
       "      <td>730</td>\n",
       "      <td>B</td>\n",
       "    </tr>\n",
       "    <tr>\n",
       "      <th>2</th>\n",
       "      <td>2961555356</td>\n",
       "      <td>4069496402</td>\n",
       "      <td>2019-08-15</td>\n",
       "      <td>400</td>\n",
       "      <td>A</td>\n",
       "    </tr>\n",
       "    <tr>\n",
       "      <th>3</th>\n",
       "      <td>3797467345</td>\n",
       "      <td>1196621759</td>\n",
       "      <td>2019-08-15</td>\n",
       "      <td>9759</td>\n",
       "      <td>B</td>\n",
       "    </tr>\n",
       "    <tr>\n",
       "      <th>4</th>\n",
       "      <td>2282983706</td>\n",
       "      <td>2322279887</td>\n",
       "      <td>2019-08-15</td>\n",
       "      <td>2308</td>\n",
       "      <td>B</td>\n",
       "    </tr>\n",
       "  </tbody>\n",
       "</table>\n",
       "</div>"
      ],
      "text/plain": [
       "   transactionId   visitorId       date  revenue group\n",
       "0     3667963787  3312258926 2019-08-15     1650     B\n",
       "1     2804400009  3642806036 2019-08-15      730     B\n",
       "2     2961555356  4069496402 2019-08-15      400     A\n",
       "3     3797467345  1196621759 2019-08-15     9759     B\n",
       "4     2282983706  2322279887 2019-08-15     2308     B"
      ]
     },
     "execution_count": 9,
     "metadata": {},
     "output_type": "execute_result"
    }
   ],
   "source": [
    "orders.head()"
   ]
  },
  {
   "cell_type": "markdown",
   "id": "519df9dc",
   "metadata": {},
   "source": [
    "Таблица orders содержит 1197 строк. Пропусков нет."
   ]
  },
  {
   "cell_type": "code",
   "execution_count": 10,
   "id": "db7cec0d",
   "metadata": {},
   "outputs": [
    {
     "name": "stdout",
     "output_type": "stream",
     "text": [
      "<class 'pandas.core.frame.DataFrame'>\n",
      "RangeIndex: 62 entries, 0 to 61\n",
      "Data columns (total 3 columns):\n",
      " #   Column    Non-Null Count  Dtype \n",
      "---  ------    --------------  ----- \n",
      " 0   date      62 non-null     object\n",
      " 1   group     62 non-null     object\n",
      " 2   visitors  62 non-null     int64 \n",
      "dtypes: int64(1), object(2)\n",
      "memory usage: 1.6+ KB\n"
     ]
    }
   ],
   "source": [
    "visits.info()"
   ]
  },
  {
   "cell_type": "markdown",
   "id": "75bac1fa",
   "metadata": {},
   "source": [
    "Колонку date надо перевести к типу datetime"
   ]
  },
  {
   "cell_type": "code",
   "execution_count": 11,
   "id": "bf36e2da",
   "metadata": {},
   "outputs": [],
   "source": [
    "visits['date'] = pd.to_datetime(visits['date'])"
   ]
  },
  {
   "cell_type": "code",
   "execution_count": 12,
   "id": "9d0e9699",
   "metadata": {},
   "outputs": [
    {
     "data": {
      "text/html": [
       "<div>\n",
       "<style scoped>\n",
       "    .dataframe tbody tr th:only-of-type {\n",
       "        vertical-align: middle;\n",
       "    }\n",
       "\n",
       "    .dataframe tbody tr th {\n",
       "        vertical-align: top;\n",
       "    }\n",
       "\n",
       "    .dataframe thead th {\n",
       "        text-align: right;\n",
       "    }\n",
       "</style>\n",
       "<table border=\"1\" class=\"dataframe\">\n",
       "  <thead>\n",
       "    <tr style=\"text-align: right;\">\n",
       "      <th></th>\n",
       "      <th>date</th>\n",
       "      <th>group</th>\n",
       "      <th>visitors</th>\n",
       "    </tr>\n",
       "  </thead>\n",
       "  <tbody>\n",
       "    <tr>\n",
       "      <th>0</th>\n",
       "      <td>2019-08-01</td>\n",
       "      <td>A</td>\n",
       "      <td>719</td>\n",
       "    </tr>\n",
       "    <tr>\n",
       "      <th>1</th>\n",
       "      <td>2019-08-02</td>\n",
       "      <td>A</td>\n",
       "      <td>619</td>\n",
       "    </tr>\n",
       "    <tr>\n",
       "      <th>2</th>\n",
       "      <td>2019-08-03</td>\n",
       "      <td>A</td>\n",
       "      <td>507</td>\n",
       "    </tr>\n",
       "    <tr>\n",
       "      <th>3</th>\n",
       "      <td>2019-08-04</td>\n",
       "      <td>A</td>\n",
       "      <td>717</td>\n",
       "    </tr>\n",
       "    <tr>\n",
       "      <th>4</th>\n",
       "      <td>2019-08-05</td>\n",
       "      <td>A</td>\n",
       "      <td>756</td>\n",
       "    </tr>\n",
       "  </tbody>\n",
       "</table>\n",
       "</div>"
      ],
      "text/plain": [
       "        date group  visitors\n",
       "0 2019-08-01     A       719\n",
       "1 2019-08-02     A       619\n",
       "2 2019-08-03     A       507\n",
       "3 2019-08-04     A       717\n",
       "4 2019-08-05     A       756"
      ]
     },
     "execution_count": 12,
     "metadata": {},
     "output_type": "execute_result"
    }
   ],
   "source": [
    "visits.head(5)"
   ]
  },
  {
   "cell_type": "markdown",
   "id": "9700fd6c",
   "metadata": {},
   "source": [
    "Таблица visits содержит 62 строчки. Пропусков нет."
   ]
  },
  {
   "cell_type": "code",
   "execution_count": 13,
   "id": "861e3815",
   "metadata": {},
   "outputs": [
    {
     "name": "stdout",
     "output_type": "stream",
     "text": [
      "0 0 0\n"
     ]
    }
   ],
   "source": [
    "print(visits.duplicated().sum(), orders.duplicated().sum(), hypothesis.duplicated().sum())"
   ]
  },
  {
   "cell_type": "markdown",
   "id": "c1ccf9a1",
   "metadata": {},
   "source": [
    "Дубликатов в таблицах нет."
   ]
  },
  {
   "cell_type": "markdown",
   "id": "2bfc3c0e",
   "metadata": {},
   "source": [
    "**Промежуточный вывод**\n",
    "\n",
    "Первичный анализ датасетов показал, что данные в таблицах корректные, без пропусков и дубликатов. Коррекция типов данных не требутся."
   ]
  },
  {
   "cell_type": "markdown",
   "id": "f0eaf769",
   "metadata": {},
   "source": [
    "<br/>\n",
    "<div class=\"alert alert-block alert-danger\">\n",
    "<h2> Комментарий ревьюера <a class=\"tocSkip\"></h2>\n",
    "\n",
    "    \n",
    "<b>Необходимо исправить❌:</b>\n",
    "Антон, точно ли все типы данных корректны?"
   ]
  },
  {
   "cell_type": "markdown",
   "id": "bcbade70",
   "metadata": {},
   "source": [
    "<div class=\"alert alert-info\"> <b>Комментарий студента: </b> Слона то я и не заметил. Видимо, потому что операций с датами дальше нет и прокатывало с датой-строчкой. Поправил</div>"
   ]
  },
  {
   "cell_type": "markdown",
   "id": "4cc783e6",
   "metadata": {},
   "source": [
    "<div class=\"alert alert-success\">\n",
    "<h2> Комментарий ревьюера v2<a class=\"tocSkip\"> </h2>\n",
    "\n",
    "<b>Отлично!✅:</b> Ничего страшного! С одной стороны, зачем менять, если не пригодитсяЮ а с другой - предобработку лучше выполнять полностью:)\n",
    "    \n",
    "</div>"
   ]
  },
  {
   "cell_type": "markdown",
   "id": "ae28f413",
   "metadata": {},
   "source": [
    "## Приоритизация гипотез"
   ]
  },
  {
   "cell_type": "markdown",
   "id": "fc18d4a3",
   "metadata": {},
   "source": [
    "Для проверки в A/B тестировании отделом марткетига предлагается 9 гипотез. Проверять их все на практике - слишком трудозатратно, поэтому нам надо выбрать самые перспективные. Для этого используем критерии приоритизации ICE и RICE. \n",
    "\n",
    "Критерий ICE вычисляетя по формуле ICE = impact * confidence / efforts\n",
    "\n",
    "Критерий RICE вычисляетя по формуле RICE = Reach * impact * confidence / efforts\n",
    "\n",
    ", где: Reach — скольких пользователей затронет изменение;\n",
    "Impact — насколько сильно изменение повлияет на пользователей, их опыт и удовлетворение от продукта;\n",
    "Confidence — уверенность, что это изменение повлияет на пользователей именно так; \n",
    "Efforts — стоимость тестирования гипотезы. \n",
    "\n",
    "эти параметры оценивались по 10-бальной шкале соответствующими специалистами. Оценки были сведены в одну таблицу, на основе которой предстоит выполнить выбор наиболее переспективных гипотез для последующей проверки в A/B тестировании."
   ]
  },
  {
   "cell_type": "code",
   "execution_count": 14,
   "id": "689170c7",
   "metadata": {},
   "outputs": [
    {
     "data": {
      "text/html": [
       "<div>\n",
       "<style scoped>\n",
       "    .dataframe tbody tr th:only-of-type {\n",
       "        vertical-align: middle;\n",
       "    }\n",
       "\n",
       "    .dataframe tbody tr th {\n",
       "        vertical-align: top;\n",
       "    }\n",
       "\n",
       "    .dataframe thead th {\n",
       "        text-align: right;\n",
       "    }\n",
       "</style>\n",
       "<table border=\"1\" class=\"dataframe\">\n",
       "  <thead>\n",
       "    <tr style=\"text-align: right;\">\n",
       "      <th></th>\n",
       "      <th>hypothesis</th>\n",
       "      <th>reach</th>\n",
       "      <th>impact</th>\n",
       "      <th>confidence</th>\n",
       "      <th>efforts</th>\n",
       "    </tr>\n",
       "  </thead>\n",
       "  <tbody>\n",
       "    <tr>\n",
       "      <th>0</th>\n",
       "      <td>Добавить два новых канала привлечения трафика, что позволит привлекать на 30% больше пользователей</td>\n",
       "      <td>3</td>\n",
       "      <td>10</td>\n",
       "      <td>8</td>\n",
       "      <td>6</td>\n",
       "    </tr>\n",
       "    <tr>\n",
       "      <th>1</th>\n",
       "      <td>Запустить собственную службу доставки, что сократит срок доставки заказов</td>\n",
       "      <td>2</td>\n",
       "      <td>5</td>\n",
       "      <td>4</td>\n",
       "      <td>10</td>\n",
       "    </tr>\n",
       "    <tr>\n",
       "      <th>2</th>\n",
       "      <td>Добавить блоки рекомендаций товаров на сайт интернет магазина, чтобы повысить конверсию и средний чек заказа</td>\n",
       "      <td>8</td>\n",
       "      <td>3</td>\n",
       "      <td>7</td>\n",
       "      <td>3</td>\n",
       "    </tr>\n",
       "    <tr>\n",
       "      <th>3</th>\n",
       "      <td>Изменить структура категорий, что увеличит конверсию, т.к. пользователи быстрее найдут нужный товар</td>\n",
       "      <td>8</td>\n",
       "      <td>3</td>\n",
       "      <td>3</td>\n",
       "      <td>8</td>\n",
       "    </tr>\n",
       "    <tr>\n",
       "      <th>4</th>\n",
       "      <td>Изменить цвет фона главной страницы, чтобы увеличить вовлеченность пользователей</td>\n",
       "      <td>3</td>\n",
       "      <td>1</td>\n",
       "      <td>1</td>\n",
       "      <td>1</td>\n",
       "    </tr>\n",
       "    <tr>\n",
       "      <th>5</th>\n",
       "      <td>Добавить страницу отзывов клиентов о магазине, что позволит увеличить количество заказов</td>\n",
       "      <td>3</td>\n",
       "      <td>2</td>\n",
       "      <td>2</td>\n",
       "      <td>3</td>\n",
       "    </tr>\n",
       "    <tr>\n",
       "      <th>6</th>\n",
       "      <td>Показать на главной странице баннеры с актуальными акциями и распродажами, чтобы увеличить конверсию</td>\n",
       "      <td>5</td>\n",
       "      <td>3</td>\n",
       "      <td>8</td>\n",
       "      <td>3</td>\n",
       "    </tr>\n",
       "    <tr>\n",
       "      <th>7</th>\n",
       "      <td>Добавить форму подписки на все основные страницы, чтобы собрать базу клиентов для email-рассылок</td>\n",
       "      <td>10</td>\n",
       "      <td>7</td>\n",
       "      <td>8</td>\n",
       "      <td>5</td>\n",
       "    </tr>\n",
       "    <tr>\n",
       "      <th>8</th>\n",
       "      <td>Запустить акцию, дающую скидку на товар в день рождения</td>\n",
       "      <td>1</td>\n",
       "      <td>9</td>\n",
       "      <td>9</td>\n",
       "      <td>5</td>\n",
       "    </tr>\n",
       "  </tbody>\n",
       "</table>\n",
       "</div>"
      ],
      "text/plain": [
       "                                                                                                     hypothesis  \\\n",
       "0            Добавить два новых канала привлечения трафика, что позволит привлекать на 30% больше пользователей   \n",
       "1                                     Запустить собственную службу доставки, что сократит срок доставки заказов   \n",
       "2  Добавить блоки рекомендаций товаров на сайт интернет магазина, чтобы повысить конверсию и средний чек заказа   \n",
       "3           Изменить структура категорий, что увеличит конверсию, т.к. пользователи быстрее найдут нужный товар   \n",
       "4                              Изменить цвет фона главной страницы, чтобы увеличить вовлеченность пользователей   \n",
       "5                      Добавить страницу отзывов клиентов о магазине, что позволит увеличить количество заказов   \n",
       "6          Показать на главной странице баннеры с актуальными акциями и распродажами, чтобы увеличить конверсию   \n",
       "7              Добавить форму подписки на все основные страницы, чтобы собрать базу клиентов для email-рассылок   \n",
       "8                                                       Запустить акцию, дающую скидку на товар в день рождения   \n",
       "\n",
       "   reach  impact  confidence  efforts  \n",
       "0      3      10           8        6  \n",
       "1      2       5           4       10  \n",
       "2      8       3           7        3  \n",
       "3      8       3           3        8  \n",
       "4      3       1           1        1  \n",
       "5      3       2           2        3  \n",
       "6      5       3           8        3  \n",
       "7     10       7           8        5  \n",
       "8      1       9           9        5  "
      ]
     },
     "execution_count": 14,
     "metadata": {},
     "output_type": "execute_result"
    }
   ],
   "source": [
    "hypothesis"
   ]
  },
  {
   "cell_type": "markdown",
   "id": "5b9255c1",
   "metadata": {},
   "source": [
    "### Критерий ICE"
   ]
  },
  {
   "cell_type": "code",
   "execution_count": 15,
   "id": "802235e9",
   "metadata": {},
   "outputs": [
    {
     "data": {
      "text/html": [
       "<div>\n",
       "<style scoped>\n",
       "    .dataframe tbody tr th:only-of-type {\n",
       "        vertical-align: middle;\n",
       "    }\n",
       "\n",
       "    .dataframe tbody tr th {\n",
       "        vertical-align: top;\n",
       "    }\n",
       "\n",
       "    .dataframe thead th {\n",
       "        text-align: right;\n",
       "    }\n",
       "</style>\n",
       "<table border=\"1\" class=\"dataframe\">\n",
       "  <thead>\n",
       "    <tr style=\"text-align: right;\">\n",
       "      <th></th>\n",
       "      <th>hypothesis</th>\n",
       "      <th>ICE</th>\n",
       "    </tr>\n",
       "  </thead>\n",
       "  <tbody>\n",
       "    <tr>\n",
       "      <th>8</th>\n",
       "      <td>Запустить акцию, дающую скидку на товар в день рождения</td>\n",
       "      <td>16.20</td>\n",
       "    </tr>\n",
       "    <tr>\n",
       "      <th>0</th>\n",
       "      <td>Добавить два новых канала привлечения трафика, что позволит привлекать на 30% больше пользователей</td>\n",
       "      <td>13.33</td>\n",
       "    </tr>\n",
       "    <tr>\n",
       "      <th>7</th>\n",
       "      <td>Добавить форму подписки на все основные страницы, чтобы собрать базу клиентов для email-рассылок</td>\n",
       "      <td>11.20</td>\n",
       "    </tr>\n",
       "    <tr>\n",
       "      <th>6</th>\n",
       "      <td>Показать на главной странице баннеры с актуальными акциями и распродажами, чтобы увеличить конверсию</td>\n",
       "      <td>8.00</td>\n",
       "    </tr>\n",
       "    <tr>\n",
       "      <th>2</th>\n",
       "      <td>Добавить блоки рекомендаций товаров на сайт интернет магазина, чтобы повысить конверсию и средний чек заказа</td>\n",
       "      <td>7.00</td>\n",
       "    </tr>\n",
       "    <tr>\n",
       "      <th>1</th>\n",
       "      <td>Запустить собственную службу доставки, что сократит срок доставки заказов</td>\n",
       "      <td>2.00</td>\n",
       "    </tr>\n",
       "    <tr>\n",
       "      <th>5</th>\n",
       "      <td>Добавить страницу отзывов клиентов о магазине, что позволит увеличить количество заказов</td>\n",
       "      <td>1.33</td>\n",
       "    </tr>\n",
       "    <tr>\n",
       "      <th>3</th>\n",
       "      <td>Изменить структура категорий, что увеличит конверсию, т.к. пользователи быстрее найдут нужный товар</td>\n",
       "      <td>1.12</td>\n",
       "    </tr>\n",
       "    <tr>\n",
       "      <th>4</th>\n",
       "      <td>Изменить цвет фона главной страницы, чтобы увеличить вовлеченность пользователей</td>\n",
       "      <td>1.00</td>\n",
       "    </tr>\n",
       "  </tbody>\n",
       "</table>\n",
       "</div>"
      ],
      "text/plain": [
       "                                                                                                     hypothesis  \\\n",
       "8                                                       Запустить акцию, дающую скидку на товар в день рождения   \n",
       "0            Добавить два новых канала привлечения трафика, что позволит привлекать на 30% больше пользователей   \n",
       "7              Добавить форму подписки на все основные страницы, чтобы собрать базу клиентов для email-рассылок   \n",
       "6          Показать на главной странице баннеры с актуальными акциями и распродажами, чтобы увеличить конверсию   \n",
       "2  Добавить блоки рекомендаций товаров на сайт интернет магазина, чтобы повысить конверсию и средний чек заказа   \n",
       "1                                     Запустить собственную службу доставки, что сократит срок доставки заказов   \n",
       "5                      Добавить страницу отзывов клиентов о магазине, что позволит увеличить количество заказов   \n",
       "3           Изменить структура категорий, что увеличит конверсию, т.к. пользователи быстрее найдут нужный товар   \n",
       "4                              Изменить цвет фона главной страницы, чтобы увеличить вовлеченность пользователей   \n",
       "\n",
       "    ICE  \n",
       "8 16.20  \n",
       "0 13.33  \n",
       "7 11.20  \n",
       "6  8.00  \n",
       "2  7.00  \n",
       "1  2.00  \n",
       "5  1.33  \n",
       "3  1.12  \n",
       "4  1.00  "
      ]
     },
     "execution_count": 15,
     "metadata": {},
     "output_type": "execute_result"
    }
   ],
   "source": [
    "hypothesis['ICE'] = hypothesis['impact'] * hypothesis['confidence'] / hypothesis['efforts']\n",
    "\n",
    "hypothesis[['hypothesis', 'ICE']].sort_values(by='ICE', ascending=False)"
   ]
  },
  {
   "cell_type": "markdown",
   "id": "867c3cf6",
   "metadata": {},
   "source": [
    "<div class=\"alert alert-warning\">\n",
    "    <h2> Комментарий ревьюера <a class=\"tocSkip\"> </h2>\n",
    "    \n",
    "<b>Можно лучше⚠️:</b> Рекомендую избавиться в таблице от больших цифр и округлить значения в колонке ICE до 2 знака после запятой.\n",
    "</div>"
   ]
  },
  {
   "cell_type": "markdown",
   "id": "719e5a49",
   "metadata": {},
   "source": [
    "<div class=\"alert alert-success\">\n",
    "<h2> Комментарий ревьюера v2<a class=\"tocSkip\"> </h2>\n",
    "\n",
    "<b>Отлично!✅:</b> +\n",
    "</div>"
   ]
  },
  {
   "cell_type": "markdown",
   "id": "fd567e0a",
   "metadata": {},
   "source": [
    "Наиболее перспективные гипотезы по критерию ICE: 8, 0, 7, 6, 2\n",
    "\n",
    "- Запустить акцию, дающую скидку на товар в день рождения\n",
    "- Добавить два новых канала привлечения трафика, что позволит привлекать на 30% больше пользователей\n",
    "- Добавить форму подписки на все основные страницы, чтобы собрать базу клиентов для email-рассылок\n",
    "- Показать на главной странице баннеры с актуальными акциями и распродажами, чтобы увеличить конверсию\n",
    "- Добавить блоки рекомендаций товаров на сайт интернет магазина, чтобы повысить конверсию и средний чек заказа\t\n"
   ]
  },
  {
   "cell_type": "markdown",
   "id": "e2e83f18",
   "metadata": {},
   "source": [
    "<br/>\n",
    "<div class=\"alert alert-block alert-danger\">\n",
    "<h2> Комментарий ревьюера <a class=\"tocSkip\"></h2>\n",
    "\n",
    "    \n",
    "<b>Необходимо исправить❌:</b>\n",
    "Лучше дать полную формулировку всем гипотезам, у тебя указаны лишь индексы. Индексы могут поменяться, или у заказчика может список гипотез быть в другом порядке.</div>"
   ]
  },
  {
   "cell_type": "markdown",
   "id": "a6ec981f",
   "metadata": {},
   "source": [
    "<div class=\"alert alert-info\"> <b>Комментарий студента: </b> Поправил</div>"
   ]
  },
  {
   "cell_type": "markdown",
   "id": "d7e77343",
   "metadata": {},
   "source": [
    "<div class=\"alert alert-success\">\n",
    "<h2> Комментарий ревьюера v2<a class=\"tocSkip\"> </h2>\n",
    "\n",
    "<b>Отлично!✅:</b> Принято!\n",
    "</div>"
   ]
  },
  {
   "cell_type": "markdown",
   "id": "ab48ba5c",
   "metadata": {},
   "source": [
    "### Критерий RICE"
   ]
  },
  {
   "cell_type": "code",
   "execution_count": 16,
   "id": "db738a15",
   "metadata": {},
   "outputs": [
    {
     "data": {
      "text/html": [
       "<div>\n",
       "<style scoped>\n",
       "    .dataframe tbody tr th:only-of-type {\n",
       "        vertical-align: middle;\n",
       "    }\n",
       "\n",
       "    .dataframe tbody tr th {\n",
       "        vertical-align: top;\n",
       "    }\n",
       "\n",
       "    .dataframe thead th {\n",
       "        text-align: right;\n",
       "    }\n",
       "</style>\n",
       "<table border=\"1\" class=\"dataframe\">\n",
       "  <thead>\n",
       "    <tr style=\"text-align: right;\">\n",
       "      <th></th>\n",
       "      <th>hypothesis</th>\n",
       "      <th>RICE</th>\n",
       "    </tr>\n",
       "  </thead>\n",
       "  <tbody>\n",
       "    <tr>\n",
       "      <th>7</th>\n",
       "      <td>Добавить форму подписки на все основные страницы, чтобы собрать базу клиентов для email-рассылок</td>\n",
       "      <td>112.00</td>\n",
       "    </tr>\n",
       "    <tr>\n",
       "      <th>2</th>\n",
       "      <td>Добавить блоки рекомендаций товаров на сайт интернет магазина, чтобы повысить конверсию и средний чек заказа</td>\n",
       "      <td>56.00</td>\n",
       "    </tr>\n",
       "    <tr>\n",
       "      <th>0</th>\n",
       "      <td>Добавить два новых канала привлечения трафика, что позволит привлекать на 30% больше пользователей</td>\n",
       "      <td>40.00</td>\n",
       "    </tr>\n",
       "    <tr>\n",
       "      <th>6</th>\n",
       "      <td>Показать на главной странице баннеры с актуальными акциями и распродажами, чтобы увеличить конверсию</td>\n",
       "      <td>40.00</td>\n",
       "    </tr>\n",
       "    <tr>\n",
       "      <th>8</th>\n",
       "      <td>Запустить акцию, дающую скидку на товар в день рождения</td>\n",
       "      <td>16.20</td>\n",
       "    </tr>\n",
       "    <tr>\n",
       "      <th>3</th>\n",
       "      <td>Изменить структура категорий, что увеличит конверсию, т.к. пользователи быстрее найдут нужный товар</td>\n",
       "      <td>9.00</td>\n",
       "    </tr>\n",
       "    <tr>\n",
       "      <th>1</th>\n",
       "      <td>Запустить собственную службу доставки, что сократит срок доставки заказов</td>\n",
       "      <td>4.00</td>\n",
       "    </tr>\n",
       "    <tr>\n",
       "      <th>5</th>\n",
       "      <td>Добавить страницу отзывов клиентов о магазине, что позволит увеличить количество заказов</td>\n",
       "      <td>4.00</td>\n",
       "    </tr>\n",
       "    <tr>\n",
       "      <th>4</th>\n",
       "      <td>Изменить цвет фона главной страницы, чтобы увеличить вовлеченность пользователей</td>\n",
       "      <td>3.00</td>\n",
       "    </tr>\n",
       "  </tbody>\n",
       "</table>\n",
       "</div>"
      ],
      "text/plain": [
       "                                                                                                     hypothesis  \\\n",
       "7              Добавить форму подписки на все основные страницы, чтобы собрать базу клиентов для email-рассылок   \n",
       "2  Добавить блоки рекомендаций товаров на сайт интернет магазина, чтобы повысить конверсию и средний чек заказа   \n",
       "0            Добавить два новых канала привлечения трафика, что позволит привлекать на 30% больше пользователей   \n",
       "6          Показать на главной странице баннеры с актуальными акциями и распродажами, чтобы увеличить конверсию   \n",
       "8                                                       Запустить акцию, дающую скидку на товар в день рождения   \n",
       "3           Изменить структура категорий, что увеличит конверсию, т.к. пользователи быстрее найдут нужный товар   \n",
       "1                                     Запустить собственную службу доставки, что сократит срок доставки заказов   \n",
       "5                      Добавить страницу отзывов клиентов о магазине, что позволит увеличить количество заказов   \n",
       "4                              Изменить цвет фона главной страницы, чтобы увеличить вовлеченность пользователей   \n",
       "\n",
       "    RICE  \n",
       "7 112.00  \n",
       "2  56.00  \n",
       "0  40.00  \n",
       "6  40.00  \n",
       "8  16.20  \n",
       "3   9.00  \n",
       "1   4.00  \n",
       "5   4.00  \n",
       "4   3.00  "
      ]
     },
     "execution_count": 16,
     "metadata": {},
     "output_type": "execute_result"
    }
   ],
   "source": [
    "hypothesis['RICE'] = hypothesis['reach'] * hypothesis['impact'] * hypothesis['confidence'] / hypothesis['efforts'] \n",
    "\n",
    "hypothesis[['hypothesis', 'RICE']].sort_values(by='RICE', ascending = False)"
   ]
  },
  {
   "cell_type": "markdown",
   "id": "a6dbaa82",
   "metadata": {},
   "source": [
    "<div class=\"alert alert-success\">\n",
    "<h2> Комментарий ревьюера <a class=\"tocSkip\"> </h2>\n",
    "\n",
    "<b>Отлично!✅:</b> Отлично, что вывел таблицу дважды и применил сортировку по одному из фреймворков - так мы более наглядно можем наблюдать различия в их работе!\n",
    "</div>"
   ]
  },
  {
   "cell_type": "markdown",
   "id": "ebcd677a",
   "metadata": {},
   "source": [
    "Критерий RICE показывает, что наиболее перспективные гипотезы: 7, 2, 0, 6. \n",
    "\n",
    "- Добавить форму подписки на все основные страницы, чтобы собрать базу клиентов для email-рассылок\n",
    "- Добавить блоки рекомендаций товаров на сайт интернет магазина, чтобы повысить конверсию и средний чек заказа\n",
    "- Добавить два новых канала привлечения трафика, что позволит привлекать на 30% больше пользователей\n",
    "- Показать на главной странице баннеры с актуальными акциями и распродажами, чтобы увеличить конверсию"
   ]
  },
  {
   "cell_type": "markdown",
   "id": "799b8dec",
   "metadata": {},
   "source": [
    "**Промежуточный вывод**\n",
    "\n",
    "Криетрии ICE и RICE отдают предпочтение одним и тем же гипотезам - 0, 2, 6, 7. \n",
    "\n",
    "- Добавить форму подписки на все основные страницы, чтобы собрать базу клиентов для email-рассылок\n",
    "- Добавить блоки рекомендаций товаров на сайт интернет магазина, чтобы повысить конверсию и средний чек заказа\n",
    "- Добавить два новых канала привлечения трафика, что позволит привлекать на 30% больше пользователей\n",
    "- Показать на главной странице баннеры с актуальными акциями и распродажами, чтобы увеличить конверсию\n",
    "\n",
    "Однако ранжирование их изменилось, так как критерий RICE учитывает еще параметр Reach - количество пользователей, которых затронет проверяемая гипотеза. Для гипотез \"Добавить блоки рекомендаций товаров\" и \"Показать на главной странице баннеры с актуальными акциями\" эти значения самые высокие - 8 и 10, что автоматом и ставить их выше остальных. Гипотеза \"Запустить акцию, дающую скидку на товар в день рождения\" хотя и получила наивысший бал по критерию ICE, по критерию RICE имет весьма низкий балл, так как связана с днем рождения пользователей, что занчительно снижает охват."
   ]
  },
  {
   "cell_type": "markdown",
   "id": "42f59189",
   "metadata": {},
   "source": [
    "<br/>\n",
    "<div class=\"alert alert-block alert-danger\">\n",
    "<h2> Комментарий ревьюера <a class=\"tocSkip\"></h2>\n",
    "\n",
    "    \n",
    "<b>Необходимо исправить❌:</b>\n",
    "Поправь, пожалуйста, выводы и здесь, используя полные названия гипотез.</div>"
   ]
  },
  {
   "cell_type": "markdown",
   "id": "495db003",
   "metadata": {},
   "source": [
    "<div class=\"alert alert-info\"> <b>Комментарий студента: </b> Поправил</div>"
   ]
  },
  {
   "cell_type": "markdown",
   "id": "6506103f",
   "metadata": {},
   "source": [
    "<div class=\"alert alert-success\">\n",
    "<h2> Комментарий ревьюера v2<a class=\"tocSkip\"> </h2>\n",
    "\n",
    "<b>Отлично!✅:</b> +\n",
    "</div>"
   ]
  },
  {
   "cell_type": "markdown",
   "id": "7ae2cb82",
   "metadata": {},
   "source": [
    "## Анализ A/B-теста"
   ]
  },
  {
   "cell_type": "markdown",
   "id": "4fa5a861",
   "metadata": {},
   "source": [
    "Для анализа были предоставлены промежуточные результаты А/В тестирования - таблица визитов visits и таблица заказов orders посетителей. Посетители каким-то образом были разделенны на две группы - A и B. "
   ]
  },
  {
   "cell_type": "markdown",
   "id": "371356c9",
   "metadata": {},
   "source": [
    "### Первичный анализ данных тестирования"
   ]
  },
  {
   "cell_type": "code",
   "execution_count": 17,
   "id": "0d2ae99a",
   "metadata": {
    "scrolled": true
   },
   "outputs": [
    {
     "name": "stdout",
     "output_type": "stream",
     "text": [
      "В таблице orders данные с 2019-08-01 00:00:00 по 2019-08-31 00:00:00\n",
      "В таблице visits данные с 2019-08-01 00:00:00 по 2019-08-31 00:00:00\n"
     ]
    }
   ],
   "source": [
    "print('В таблице orders данные с', orders['date'].min(), 'по', orders['date'].max())\n",
    "print('В таблице visits данные с', visits['date'].min(), 'по', visits['date'].max())"
   ]
  },
  {
   "cell_type": "markdown",
   "id": "e3239bac",
   "metadata": {},
   "source": [
    "Временные рамки таблиц orders и visits соответствуют друг другу."
   ]
  },
  {
   "cell_type": "code",
   "execution_count": 18,
   "id": "8ca38eac",
   "metadata": {},
   "outputs": [
    {
     "name": "stdout",
     "output_type": "stream",
     "text": [
      "В таблице orders уникальных покупателей 1031 и уникальных заказов 1197\n"
     ]
    }
   ],
   "source": [
    "print('В таблице orders уникальных покупателей', orders['visitorId'].nunique(), \n",
    "    'и уникальных заказов', orders['transactionId'].nunique())"
   ]
  },
  {
   "cell_type": "code",
   "execution_count": 19,
   "id": "cb4bb1ab",
   "metadata": {},
   "outputs": [
    {
     "name": "stdout",
     "output_type": "stream",
     "text": [
      "Общая сумма стоимости заказов 9992563 \n",
      " из них группа А 4084803 \n",
      " группа В 5907760 \n",
      " отношение сумм заказовов в группах -30.86% \n"
     ]
    }
   ],
   "source": [
    "print('Общая сумма стоимости заказов', orders['revenue'].sum(), \n",
    "      '\\n из них группа А', orders[orders['group'] =='A']['revenue'].sum(),\n",
    "      '\\n группа В', orders[orders['group'] =='B']['revenue'].sum(),\n",
    "      '\\n отношение сумм заказовов в группах {0:.2%} '. \n",
    "      format(orders[orders['group'] =='A']['revenue'].sum() / orders[orders['group'] =='B']['revenue'].sum() - 1)    \n",
    "     )"
   ]
  },
  {
   "cell_type": "code",
   "execution_count": 20,
   "id": "fe233ec2",
   "metadata": {},
   "outputs": [
    {
     "name": "stdout",
     "output_type": "stream",
     "text": [
      "По таблице visits всего визитов 37652 \n",
      " из них группа А 18736 \n",
      " группа В 18916 \n",
      " отношение количества посетителей групп -0.95% \n"
     ]
    }
   ],
   "source": [
    "print('По таблице visits всего визитов', visits['visitors'].sum(), \n",
    "      '\\n из них группа А', visits[visits['group'] =='A']['visitors'].sum(),\n",
    "      '\\n группа В', visits[visits['group'] =='B']['visitors'].sum(),\n",
    "      '\\n отношение количества посетителей групп {0:.2%} '. \n",
    "            format(visits[visits['group'] =='A']['visitors'].sum() / visits[visits['group'] =='B']['visitors'].sum() - 1)   \n",
    "     ) \n"
   ]
  },
  {
   "cell_type": "markdown",
   "id": "cc5c62fe",
   "metadata": {},
   "source": [
    "Количество посететелй в группах - сопоставимое, разница в пользу группы В 2%. При этом на группу В пришлось значительно большая сумма стоимости заказов. Здесь разница более существенная - уже 30%. Уже на этом этапе можно предположить, что в группе В были более дорогие заказы. Были ли это единичные случаи или гипотеза дала общее увеличение - будет ясно из следующих исследований."
   ]
  },
  {
   "cell_type": "code",
   "execution_count": 21,
   "id": "c27e2941",
   "metadata": {},
   "outputs": [
    {
     "name": "stdout",
     "output_type": "stream",
     "text": [
      "Всего заказов 1197 \n",
      " Общая сумма заказов 9992563 \n",
      " Средний чек 8348.01\n",
      "\n",
      "Заказов в группе А 557 \n",
      " Сумма заказов группы А 4084803 \n",
      " Средний чек группы А 7333.58\n",
      "\n",
      "Заказов группы В 640 \n",
      " Сумма заказов группы В 5907760 \n",
      " Средний чек группы В 9230.88\n"
     ]
    }
   ],
   "source": [
    "print('Всего заказов', orders['transactionId'].nunique(), \n",
    "      '\\n Общая сумма заказов', orders['revenue'].sum(),\n",
    "      '\\n Средний чек {0:.2f}'.format(orders['revenue'].sum() / orders['transactionId'].nunique()))\n",
    "\n",
    "print()\n",
    "print('Заказов в группе А', orders[orders['group'] =='A']['transactionId'].nunique(), \n",
    "      '\\n Сумма заказов группы А', orders[orders['group'] =='A']['revenue'].sum(),\n",
    "      '\\n Средний чек группы А {0:.2f}'.format(orders[orders['group'] =='A']['revenue'].sum() / \n",
    "                                               orders[orders['group'] =='A']['transactionId'].nunique()))\n",
    "\n",
    "print()\n",
    "print('Заказов группы В', orders[orders['group'] =='B']['transactionId'].nunique(), \n",
    "      '\\n Сумма заказов группы В', orders[orders['group'] =='B']['revenue'].sum(),\n",
    "      '\\n Средний чек группы В {0:.2f}'.format(orders[orders['group'] =='B']['revenue'].sum() / \n",
    "                                               orders[orders['group'] =='B']['transactionId'].nunique()))\n"
   ]
  },
  {
   "cell_type": "markdown",
   "id": "e2d6134b",
   "metadata": {},
   "source": [
    "Средний чек в базовой группе А - 7300, средний чек в тестируемой группе В значительно выше - 9200. Пкоа нельзя сказать, что это результат тестируемого способа увеличения выручки или единичные более дорогие заказы, которые случайно пришлись на группу В."
   ]
  },
  {
   "cell_type": "code",
   "execution_count": 22,
   "id": "5db8be9c",
   "metadata": {},
   "outputs": [
    {
     "name": "stdout",
     "output_type": "stream",
     "text": [
      "Всего визитов 37652 \n",
      " всего заказов 1197 \n",
      " общая конверсия 3.18%\n",
      "\n",
      "Визитов в группе А 18736 \n",
      " заказов в группе A 557 \n",
      " конверсия группы А 2.97%\n",
      "\n",
      "Визитов в группе B 18916 \n",
      " заказов в группе B 640 \n",
      " конверсия группы В 3.38%\n"
     ]
    }
   ],
   "source": [
    "print('Всего визитов', visits['visitors'].sum(), \n",
    "      '\\n всего заказов', orders['transactionId'].nunique(),\n",
    "      '\\n общая конверсия {0:.2%}'.format(orders['transactionId'].nunique() / visits['visitors'].sum()))\n",
    "print()\n",
    "print('Визитов в группе А', visits[visits['group'] =='A']['visitors'].sum(), \n",
    "      '\\n заказов в группе A', orders[orders['group'] =='A']['transactionId'].nunique(),\n",
    "      '\\n конверсия группы А {0:.2%}'.format(orders[orders['group'] =='A']['transactionId'].nunique() / \n",
    "                                      visits[visits['group'] =='A']['visitors'].sum()))\n",
    "print()\n",
    "print('Визитов в группе B', visits[visits['group'] =='B']['visitors'].sum(), \n",
    "      '\\n заказов в группе B', orders[orders['group'] =='B']['transactionId'].nunique(),\n",
    "      '\\n конверсия группы В {0:.2%}'.format(orders[orders['group'] =='B']['transactionId'].nunique() / \n",
    "                                      visits[visits['group'] =='B']['visitors'].sum()))\n"
   ]
  },
  {
   "cell_type": "markdown",
   "id": "22b1e3bd",
   "metadata": {},
   "source": [
    "Конверсия в базовой группе А - 3%.\n",
    "\n",
    "Калькулятор расчёта размера выборки (https://www.evanmiller.org/ab-testing/sample-size.html), при заданом минимальном эффекте \n",
    "прироста в 10%, дает выборку в 52 тысячи пользователей в каждой из групп.\n",
    "\n",
    "Калькулятор длительности теста (https://vwo.com/tools/ab-test-duration-calculator/) при средней посещяемости в 1200 посетителей в сутки дает длительность теста порядка трех месяцев."
   ]
  },
  {
   "cell_type": "markdown",
   "id": "ffaa8f95",
   "metadata": {},
   "source": [
    "**Промежуточный вывод**\n",
    "\n",
    "Для анализа представлены датасеты после месяца тестирования гипотезы. По этим данным уже видно превышение метрик группы В над базовой группой А. Однако размер выборки и длительность теста меньше расчетных. Наблюдаемый эффект может быть обусловлен выбросами. Далее оценим, можно ли принимать решение о досрочном прекрашении тестирования."
   ]
  },
  {
   "cell_type": "markdown",
   "id": "00754370",
   "metadata": {},
   "source": [
    "<div class=\"alert alert-success\">\n",
    "<h2> Комментарий ревьюера <a class=\"tocSkip\"> </h2>\n",
    "\n",
    "<b>Отлично!✅:</b> О, круто, что провел дополнительный анализ и детально преанализировал данные!\n",
    "</div>"
   ]
  },
  {
   "cell_type": "markdown",
   "id": "e111e689",
   "metadata": {},
   "source": [
    "### Подготовка данных для построяния кумулятивных графиков"
   ]
  },
  {
   "cell_type": "markdown",
   "id": "cf2b642c",
   "metadata": {},
   "source": [
    "Сгруппируем данные по дням и группам, вычислив по таблице заказов для каждого дня и группы кумулятивные (т.е. нарастанием) количество покупателей, количество заказов, и общую стоимость заказов, а по таблице визитов количество визитов."
   ]
  },
  {
   "cell_type": "code",
   "execution_count": 23,
   "id": "a3b1ebbb",
   "metadata": {},
   "outputs": [],
   "source": [
    "datesGroups = orders[['date','group']].drop_duplicates() \n",
    "\n",
    "ordersAggregated = datesGroups\\\n",
    "    .apply(lambda x: orders[np.logical_and(orders['date'] <= x['date'], orders['group'] == x['group'])]\\\n",
    "    .agg({'date' : 'max', 'group' : 'max', 'transactionId' : 'nunique', 'visitorId' : 'nunique', 'revenue' : 'sum'}), axis=1)\\\n",
    "    .sort_values(by=['date','group']) \n",
    "\n",
    "visitorsAggregated = datesGroups\\\n",
    "    .apply(lambda x: visits[np.logical_and(visits['date'] <= x['date'], visits['group'] == x['group'])]\\\n",
    "    .agg({'date' : 'max', 'group' : 'max', 'visitors' : 'sum'}), axis=1)\\\n",
    "    .sort_values(by=['date','group'])"
   ]
  },
  {
   "cell_type": "markdown",
   "id": "4f6486f2",
   "metadata": {},
   "source": [
    "Объединяем таблицы, переназывааем колонки"
   ]
  },
  {
   "cell_type": "code",
   "execution_count": 24,
   "id": "4d531b04",
   "metadata": {},
   "outputs": [
    {
     "data": {
      "text/html": [
       "<div>\n",
       "<style scoped>\n",
       "    .dataframe tbody tr th:only-of-type {\n",
       "        vertical-align: middle;\n",
       "    }\n",
       "\n",
       "    .dataframe tbody tr th {\n",
       "        vertical-align: top;\n",
       "    }\n",
       "\n",
       "    .dataframe thead th {\n",
       "        text-align: right;\n",
       "    }\n",
       "</style>\n",
       "<table border=\"1\" class=\"dataframe\">\n",
       "  <thead>\n",
       "    <tr style=\"text-align: right;\">\n",
       "      <th></th>\n",
       "      <th>date</th>\n",
       "      <th>group</th>\n",
       "      <th>orders</th>\n",
       "      <th>buyers</th>\n",
       "      <th>revenue</th>\n",
       "      <th>visitors</th>\n",
       "    </tr>\n",
       "  </thead>\n",
       "  <tbody>\n",
       "    <tr>\n",
       "      <th>0</th>\n",
       "      <td>2019-08-01</td>\n",
       "      <td>A</td>\n",
       "      <td>24</td>\n",
       "      <td>20</td>\n",
       "      <td>148579</td>\n",
       "      <td>719</td>\n",
       "    </tr>\n",
       "    <tr>\n",
       "      <th>1</th>\n",
       "      <td>2019-08-01</td>\n",
       "      <td>B</td>\n",
       "      <td>21</td>\n",
       "      <td>20</td>\n",
       "      <td>101217</td>\n",
       "      <td>713</td>\n",
       "    </tr>\n",
       "    <tr>\n",
       "      <th>2</th>\n",
       "      <td>2019-08-02</td>\n",
       "      <td>A</td>\n",
       "      <td>44</td>\n",
       "      <td>38</td>\n",
       "      <td>242401</td>\n",
       "      <td>1338</td>\n",
       "    </tr>\n",
       "    <tr>\n",
       "      <th>3</th>\n",
       "      <td>2019-08-02</td>\n",
       "      <td>B</td>\n",
       "      <td>45</td>\n",
       "      <td>43</td>\n",
       "      <td>266748</td>\n",
       "      <td>1294</td>\n",
       "    </tr>\n",
       "    <tr>\n",
       "      <th>4</th>\n",
       "      <td>2019-08-03</td>\n",
       "      <td>A</td>\n",
       "      <td>68</td>\n",
       "      <td>62</td>\n",
       "      <td>354874</td>\n",
       "      <td>1845</td>\n",
       "    </tr>\n",
       "  </tbody>\n",
       "</table>\n",
       "</div>"
      ],
      "text/plain": [
       "        date group  orders  buyers  revenue  visitors\n",
       "0 2019-08-01     A      24      20   148579       719\n",
       "1 2019-08-01     B      21      20   101217       713\n",
       "2 2019-08-02     A      44      38   242401      1338\n",
       "3 2019-08-02     B      45      43   266748      1294\n",
       "4 2019-08-03     A      68      62   354874      1845"
      ]
     },
     "execution_count": 24,
     "metadata": {},
     "output_type": "execute_result"
    }
   ],
   "source": [
    "cumulativeData = ordersAggregated.merge(visitorsAggregated, left_on=['date', 'group'], right_on=['date', 'group'])\n",
    "cumulativeData.columns = ['date', 'group', 'orders', 'buyers', 'revenue', 'visitors']\n",
    "cumulativeData.head(5)"
   ]
  },
  {
   "cell_type": "markdown",
   "id": "faa5914e",
   "metadata": {},
   "source": [
    "Создаем отдельные таблицы для групп A и B"
   ]
  },
  {
   "cell_type": "code",
   "execution_count": 25,
   "id": "b5c2cbfc",
   "metadata": {},
   "outputs": [],
   "source": [
    "A_cumulat_revenue = cumulativeData[cumulativeData['group']=='A'][['date','revenue', 'orders']]\n",
    "B_cumulat_revenue = cumulativeData[cumulativeData['group']=='B'][['date','revenue', 'orders']]"
   ]
  },
  {
   "cell_type": "markdown",
   "id": "389d89a0",
   "metadata": {},
   "source": [
    "### График кумулятивной выручки по группам"
   ]
  },
  {
   "cell_type": "code",
   "execution_count": 26,
   "id": "18a93fc5",
   "metadata": {},
   "outputs": [
    {
     "data": {
      "image/png": "[encoded data removed]",
      "text/plain": [
       "<Figure size 1080x576 with 1 Axes>"
      ]
     },
     "metadata": {
      "needs_background": "light"
     },
     "output_type": "display_data"
    }
   ],
   "source": [
    "plt.plot(A_cumulat_revenue['date'], A_cumulat_revenue['revenue'], label='A')\n",
    "plt.plot(B_cumulat_revenue['date'], B_cumulat_revenue['revenue'], label='B')\n",
    "\n",
    "\n",
    "plt.xticks(['2019-08-01', '2019-08-05', '2019-08-13', '2019-08-19', '2019-08-31'])\n",
    "plt.xlabel('Дата')\n",
    "plt.ylabel('Деньги, млн.')\n",
    "plt.title('График кумулятивной выручки по группам')\n",
    "plt.legend()\n",
    "plt.grid()\n",
    "plt.show()"
   ]
  },
  {
   "cell_type": "markdown",
   "id": "c91651c6",
   "metadata": {},
   "source": [
    "Оба графика растут почти параллельно во время тестирования. Группа B на протяжении половины теста показывала чуть более высокий результ. 19 августа в группе B произошел резкий скачок кумулятивной выручки. Дальше линии пошли практически параллельно. Это похоже на влияние аномально больших заказов в этот день. Истинную причину этого скачка выясним в дальшейших исследованиях."
   ]
  },
  {
   "cell_type": "markdown",
   "id": "acd26672",
   "metadata": {},
   "source": [
    "<div class=\"alert alert-success\">\n",
    "<h2> Комментарий ревьюера <a class=\"tocSkip\"> </h2>\n",
    "\n",
    "<b>Отлично!✅:</b> Согласна, все может быть!\n",
    "</div>"
   ]
  },
  {
   "cell_type": "markdown",
   "id": "3c42c7a0",
   "metadata": {},
   "source": [
    "### График кумулятивного среднего чека по группам"
   ]
  },
  {
   "cell_type": "code",
   "execution_count": 27,
   "id": "f35ed241",
   "metadata": {},
   "outputs": [
    {
     "data": {
      "image/png": "[encoded data removed]",
      "text/plain": [
       "<Figure size 1080x576 with 1 Axes>"
      ]
     },
     "metadata": {
      "needs_background": "light"
     },
     "output_type": "display_data"
    }
   ],
   "source": [
    "plt.plot(A_cumulat_revenue['date'], A_cumulat_revenue['revenue'] / A_cumulat_revenue['orders'], label='A')\n",
    "plt.plot(B_cumulat_revenue['date'], B_cumulat_revenue['revenue'] / B_cumulat_revenue['orders'], label='B')\n",
    "\n",
    "plt.xticks(['2019-08-01', '2019-08-05', '2019-08-08', '2019-08-13', '2019-08-19', '2019-08-31'])\n",
    "plt.xlabel('Дата')\n",
    "plt.ylabel('Деньги')\n",
    "plt.title('График кумулятивного среднего чека по группам')\n",
    "plt.legend()\n",
    "plt.grid()\n",
    "plt.show()"
   ]
  },
  {
   "cell_type": "markdown",
   "id": "55858312",
   "metadata": {},
   "source": [
    "На графике кумулятивного среднего чека видны колебания графиков. Для группы В переломы трендов были в даты 5, 8, 13 и 19 августа, а для группы А в даты 6, 13 августа. Наибольший скачок также зафиксирован 19 августа в группе B. После чего линия группы B пошла на спад. Это также похоже на влияние аномально больших заказов."
   ]
  },
  {
   "cell_type": "markdown",
   "id": "0f96c8b4",
   "metadata": {},
   "source": [
    "<div class=\"alert alert-success\">\n",
    "<h2> Комментарий ревьюера <a class=\"tocSkip\"> </h2>\n",
    "\n",
    "<b>Отлично!✅:</b> Молодец, верно, группа В нестабильна. Возможно, в данную группу в середине теста попали крупные заказы. Необходимо будет учесть этот факт при принятии решения о результатах A/B-теста:)\n",
    "</div>"
   ]
  },
  {
   "cell_type": "markdown",
   "id": "d9d4b509",
   "metadata": {},
   "source": [
    "### График относительного изменения кумулятивного среднего чека группы B к группе A"
   ]
  },
  {
   "cell_type": "markdown",
   "id": "c920cef5",
   "metadata": {},
   "source": [
    "Построим график соотношение кумулятивных средних чеков (кум.ср.чек B - кум.ср.чек A) / кум.ср.чек A\n",
    "\n",
    "Для этого объядиним таблицы кумулятивных выручек групп B и A. Для графика вычислим соотношение (выручка В / заказы В) / (выручка А / заказы А) - 1 "
   ]
  },
  {
   "cell_type": "code",
   "execution_count": 28,
   "id": "c16162ad",
   "metadata": {},
   "outputs": [
    {
     "data": {
      "image/png": "[encoded data removed]",
      "text/plain": [
       "<Figure size 1080x576 with 1 Axes>"
      ]
     },
     "metadata": {
      "needs_background": "light"
     },
     "output_type": "display_data"
    }
   ],
   "source": [
    "all_cumulat_revenue = A_cumulat_revenue.merge(B_cumulat_revenue, left_on='date', right_on='date', how='left', suffixes=['A', 'B'])\n",
    "\n",
    "plt.plot(all_cumulat_revenue['date'],\n",
    "         (all_cumulat_revenue['revenueB'] / all_cumulat_revenue['ordersB']) / \n",
    "         (all_cumulat_revenue['revenueA'] / all_cumulat_revenue['ordersA']) - 1)\n",
    "\n",
    "plt.axhline(y=0, color='black', linestyle='--') \n",
    "\n",
    "plt.xticks(['2019-08-01', '2019-08-08', '2019-08-13', '2019-08-19', '2019-08-31'])\n",
    "plt.xlabel('Дата')\n",
    "plt.ylabel('Изменение')\n",
    "plt.title('График относительного изменения кумулятивного среднего чека группы B к группе A')\n",
    "plt.grid()\n",
    "\n",
    "plt.show()\n"
   ]
  },
  {
   "cell_type": "markdown",
   "id": "50a4a930",
   "metadata": {},
   "source": [
    "График относительного изменения кумулятивного среднего чека группы B к группе A также колеблется на протяжении большего времени проведения теста. Тренд изменения кумулятивного среднего чека группы В к группре А несколько раз менялся за время теста. Переломные даты - 8, 13 и 19 августа. Причем в последнюю дату было самое большое измнение. Возможно, на эти дни пришлись заказы с аномально большими суммами."
   ]
  },
  {
   "cell_type": "markdown",
   "id": "27d5702f",
   "metadata": {},
   "source": [
    "<div class=\"alert alert-success\">\n",
    "<h2> Комментарий ревьюера <a class=\"tocSkip\"> </h2>\n",
    "\n",
    "<b>Отлично!✅:</b> Отлично!\n",
    "</div>"
   ]
  },
  {
   "cell_type": "markdown",
   "id": "d7021575",
   "metadata": {},
   "source": [
    "### График кумулятивного среднего количества заказов на посетителя по группам"
   ]
  },
  {
   "cell_type": "markdown",
   "id": "38a41192",
   "metadata": {},
   "source": [
    "Вычислим конверсию - отношение заказов к посетителеям. Разведем данные по группам A и B в разные таблицы."
   ]
  },
  {
   "cell_type": "code",
   "execution_count": 29,
   "id": "045097f4",
   "metadata": {},
   "outputs": [],
   "source": [
    "cumulativeData['conversion'] = cumulativeData['orders'] / cumulativeData['visitors']\n",
    "A_cumulat_conv = cumulativeData[cumulativeData['group']=='A']\n",
    "B_cumulat_conv = cumulativeData[cumulativeData['group']=='B']"
   ]
  },
  {
   "cell_type": "code",
   "execution_count": 30,
   "id": "ed33543a",
   "metadata": {},
   "outputs": [
    {
     "data": {
      "image/png": "[encoded data removed]",
      "text/plain": [
       "<Figure size 1080x576 with 1 Axes>"
      ]
     },
     "metadata": {
      "needs_background": "light"
     },
     "output_type": "display_data"
    }
   ],
   "source": [
    "plt.plot(A_cumulat_conv['date'], A_cumulat_conv['conversion'], label='A')\n",
    "plt.plot(B_cumulat_conv['date'], B_cumulat_conv['conversion'], label='B')\n",
    "plt.xticks(['2019-08-01', '2019-08-06', '2019-08-10', '2019-08-19', '2019-08-31'])\n",
    "plt.xlabel('Дата')\n",
    "plt.ylabel('Изменение')\n",
    "plt.title('График среднего количества заказов на посетителя по группам')\n",
    "plt.axis([pd.to_datetime('2019-08-01'), pd.to_datetime('2019-08-31'), 0, 0.05])\n",
    "plt.legend()\n",
    "plt.grid()\n",
    "plt.show()"
   ]
  },
  {
   "cell_type": "markdown",
   "id": "5bf4c904",
   "metadata": {},
   "source": [
    "Певыре дни тестированитя группа A имела большее кумулятивное среднее количество заказов. Однако уже 6 августа в группе B конверсия стала выше группы А. Далее графики зафиксировались около своих значений, причем группе В выше группы А."
   ]
  },
  {
   "cell_type": "markdown",
   "id": "df7e5468",
   "metadata": {},
   "source": [
    "<div class=\"alert alert-success\">\n",
    "<h2> Комментарий ревьюера <a class=\"tocSkip\"> </h2>\n",
    "\n",
    "<b>Отлично!✅:</b> Супер, правильно!\n",
    "</div>"
   ]
  },
  {
   "cell_type": "markdown",
   "id": "8f26b24d",
   "metadata": {},
   "source": [
    "### График относительного изменения кумулятивного среднего количества заказов на посетителя группы B к группе A"
   ]
  },
  {
   "cell_type": "code",
   "execution_count": 31,
   "id": "1367c74a",
   "metadata": {},
   "outputs": [],
   "source": [
    "all_cumulat_conv = A_cumulat_conv[['date','conversion']].merge(B_cumulat_conv[['date','conversion']],\\\n",
    "                left_on='date', right_on='date', how='left', suffixes=['A', 'B'])"
   ]
  },
  {
   "cell_type": "code",
   "execution_count": 32,
   "id": "9646f8b2",
   "metadata": {},
   "outputs": [
    {
     "data": {
      "image/png": "[encoded data removed]",
      "text/plain": [
       "<Figure size 1080x576 with 1 Axes>"
      ]
     },
     "metadata": {
      "needs_background": "light"
     },
     "output_type": "display_data"
    }
   ],
   "source": [
    "plt.plot(all_cumulat_conv['date'], all_cumulat_conv['conversionB'] / all_cumulat_conv['conversionA'] - 1)\n",
    "\n",
    "plt.axhline(y=0, color='black', linestyle='--')\n",
    "plt.axhline(y=0.14, color='red', linestyle='--')\n",
    "plt.text(pd.to_datetime('2019-08-30'), 0.15,'0.14', color='red')\n",
    "plt.xticks([ '2019-08-01', '2019-08-06', '2019-08-10', '2019-08-17', '2019-08-27', '2019-08-31'])\n",
    "plt.xlabel('Дата')\n",
    "plt.ylabel('Прирост')\n",
    "plt.title('Относительный прирост кумулятивного среднего количества заказов на посетителя группы B относительно группы A')\n",
    "plt.axis([pd.to_datetime('2019-08-01'), pd.to_datetime('2019-08-31'), -0.5, 0.5])\n",
    "plt.grid()\n",
    "plt.show()\n"
   ]
  },
  {
   "cell_type": "markdown",
   "id": "167387c6",
   "metadata": {},
   "source": [
    "Как видно из графика, на 6 день тестирования конверсия в группе B стала больше, чем в группе A. К 10 августа достигла максимума прироста в 20%. Однако с 17 августа наблюдался спад прироста до уровня примерно в 14%. На этой отметке метрика и стабилизировалась до конца тестирования. "
   ]
  },
  {
   "cell_type": "markdown",
   "id": "51bb5842",
   "metadata": {},
   "source": [
    "<div class=\"alert alert-success\">\n",
    "<h2> Комментарий ревьюера <a class=\"tocSkip\"> </h2>\n",
    "\n",
    "<b>Отлично!✅:</b>  Хорошо, давай посмотрим на аномалии:)\n",
    "</div>"
   ]
  },
  {
   "cell_type": "markdown",
   "id": "2327db86",
   "metadata": {},
   "source": [
    "### Точечный график количества заказов по пользователям"
   ]
  },
  {
   "cell_type": "markdown",
   "id": "bc1755a2",
   "metadata": {},
   "source": [
    "Проанализуруем аномальные значения в данных, которые могли давать скачки в рассмотренных выше метриках\n",
    "\n",
    "Построим точеный график количества заказов, приходящихся на каждого пользователя"
   ]
  },
  {
   "cell_type": "code",
   "execution_count": 33,
   "id": "caaab879",
   "metadata": {},
   "outputs": [],
   "source": [
    "ordersByUsers = (orders.groupby('visitorId', as_index=False).agg({'transactionId': 'nunique'}))\n",
    "x_values = pd.Series(range(0, len(ordersByUsers)))"
   ]
  },
  {
   "cell_type": "code",
   "execution_count": 34,
   "id": "e6cf09bf",
   "metadata": {},
   "outputs": [
    {
     "data": {
      "image/png": "[encoded data removed]",
      "text/plain": [
       "<Figure size 1080x576 with 1 Axes>"
      ]
     },
     "metadata": {
      "needs_background": "light"
     },
     "output_type": "display_data"
    }
   ],
   "source": [
    "plt.figure(figsize=(15, 8))\n",
    "plt.scatter(x_values, ordersByUsers['transactionId']) \n",
    "plt.xlabel('№ пользователя')\n",
    "plt.ylabel('Кол-во заказов')\n",
    "plt.title('Точечный график количества заказов по пользователям')\n",
    "\n",
    "plt.show()"
   ]
  },
  {
   "cell_type": "markdown",
   "id": "3d9c5308",
   "metadata": {},
   "source": [
    "Из графика видно, что большинство пользователей делали только один заказ, значимое число пользователей сделали по 2 заказа. Пользователей, сделавших по 4 и более заказов, уже совсем мало. Они вполне могут быть признаны аномальными и отброшены."
   ]
  },
  {
   "cell_type": "markdown",
   "id": "8aa8da8b",
   "metadata": {},
   "source": [
    "<div class=\"alert alert-success\">\n",
    "<h2> Комментарий ревьюера <a class=\"tocSkip\"> </h2>\n",
    "\n",
    "<b>Отлично!✅:</b> Верно!\n",
    "</div>"
   ]
  },
  {
   "cell_type": "markdown",
   "id": "dbf2e102",
   "metadata": {},
   "source": [
    "Расчитаем также 95-й и 99-й перцентили количества заказов на пользователя"
   ]
  },
  {
   "cell_type": "code",
   "execution_count": 35,
   "id": "1adbf8c4",
   "metadata": {},
   "outputs": [
    {
     "name": "stdout",
     "output_type": "stream",
     "text": [
      "[2. 4.]\n"
     ]
    }
   ],
   "source": [
    "print(np.percentile(ordersByUsers['transactionId'], [95, 99]))"
   ]
  },
  {
   "cell_type": "markdown",
   "id": "34d860fd",
   "metadata": {},
   "source": [
    "Не более 5% пользователей совершали больше двух заказов. И не более 1% пользователей — больше 4 заказов. Что подтверждает оценку границы для определения аномальных пользователей в 4 и более заказов."
   ]
  },
  {
   "cell_type": "markdown",
   "id": "af6457cd",
   "metadata": {},
   "source": [
    "<div class=\"alert alert-success\">\n",
    "<h2> Комментарий ревьюера <a class=\"tocSkip\"> </h2>\n",
    "\n",
    "<b>Отлично!✅:</b> Отлично, идем дальше!\n",
    "</div>"
   ]
  },
  {
   "cell_type": "markdown",
   "id": "d3bbe467",
   "metadata": {},
   "source": [
    "### Точечный график суммы заказов"
   ]
  },
  {
   "cell_type": "markdown",
   "id": "3d1be1d9",
   "metadata": {},
   "source": [
    "Построим точеный график суммы стоимости заказов"
   ]
  },
  {
   "cell_type": "code",
   "execution_count": 36,
   "id": "85384f09",
   "metadata": {},
   "outputs": [
    {
     "data": {
      "image/png": "[encoded data removed]",
      "text/plain": [
       "<Figure size 1080x576 with 1 Axes>"
      ]
     },
     "metadata": {
      "needs_background": "light"
     },
     "output_type": "display_data"
    }
   ],
   "source": [
    "x_values = pd.Series(range(0, len(orders['revenue'])))\n",
    "\n",
    "plt.scatter(x_values, orders['revenue']) \n",
    "plt.xlabel('№ заказа')\n",
    "plt.ylabel('Деньги')\n",
    "plt.title('Точечный график сумм заказов')\n",
    "plt.axis([0, 1200, 0, 200000])\n",
    "plt.axhline(y=50000, color='red', linestyle='--')\n",
    "plt.show()\n"
   ]
  },
  {
   "cell_type": "markdown",
   "id": "3b5a12f3",
   "metadata": {},
   "source": [
    "Подавлящее большинсвто покупателей, сделали заказы на сумму до 50 тысяч. Все что выше - могут быть признаны аномальными. Однако по графику определить границу можно только \"на глаз\". В данном случае это не самое лучшее решение."
   ]
  },
  {
   "cell_type": "markdown",
   "id": "e4a093a3",
   "metadata": {},
   "source": [
    "<div class=\"alert alert-success\">\n",
    "<h2> Комментарий ревьюера <a class=\"tocSkip\"> </h2>\n",
    "\n",
    "<b>Отлично!✅:</b> Правильно!\n",
    "</div>"
   ]
  },
  {
   "cell_type": "markdown",
   "id": "38fce327",
   "metadata": {},
   "source": [
    "Расчитаем 95-й и 99-й перцентили сумм заказов"
   ]
  },
  {
   "cell_type": "code",
   "execution_count": 37,
   "id": "e797cff7",
   "metadata": {},
   "outputs": [
    {
     "name": "stdout",
     "output_type": "stream",
     "text": [
      "[28000.  58233.2]\n"
     ]
    }
   ],
   "source": [
    "print(np.percentile(orders['revenue'], [95, 99])) "
   ]
  },
  {
   "cell_type": "markdown",
   "id": "6a53b352",
   "metadata": {},
   "source": [
    "Не более 5% пользователей совершали заказы на сумму большее 28000. Менее 1% пользователя заказали на сумму 58000. Примем границу для определения аномальных пользователей 30000."
   ]
  },
  {
   "cell_type": "markdown",
   "id": "cd59ec21",
   "metadata": {},
   "source": [
    "<div class=\"alert alert-success\">\n",
    "<h2> Комментарий ревьюера <a class=\"tocSkip\"> </h2>\n",
    "\n",
    "<b>Отлично!✅:</b> Замечательное решение, молодец!\n",
    "</div>"
   ]
  },
  {
   "cell_type": "markdown",
   "id": "7ec04708",
   "metadata": {},
   "source": [
    "### Cтатистическая значимость различий в среднем количестве заказов на посетителя между группами по «сырым» данным"
   ]
  },
  {
   "cell_type": "markdown",
   "id": "34ce5dbc",
   "metadata": {},
   "source": [
    "Как было показано выше, в данных есть большие выбросы, значит алгебраические критерии проверки могут работают плохо, так как учитывают все значения. Проверим стастическую значимость различий в среднем количестве заказов на посетителя между группами по непараметрическому критерию Манна-Уитни. Для этого надо сформировать таблицы заказов по посетителям, включая \"ноль\" для тех, кто ничего не заказывал. Пока используем «сырых данные» данные, т.е. включая аномальные. "
   ]
  },
  {
   "cell_type": "code",
   "execution_count": 38,
   "id": "2b085780",
   "metadata": {
    "scrolled": true
   },
   "outputs": [],
   "source": [
    "A_buyers_orders = orders[orders['group'] == 'A'].groupby('visitorId', as_index=False)['transactionId'].nunique()\n",
    "B_buyers_orders = orders[orders['group'] == 'B'].groupby('visitorId', as_index=False)['transactionId'].nunique()\n",
    "\n",
    "\n",
    "A_allusers_orders = pd.concat([A_buyers_orders['transactionId'], pd.Series(0, \n",
    "    index=np.arange(visits[visits['group']=='A']['visitors'].sum() - len(A_buyers_orders['transactionId'])))],axis=0)\n",
    "\n",
    "B_allusers_orders = pd.concat([B_buyers_orders['transactionId'], pd.Series(0,\n",
    "    index=np.arange(visits[visits['group']=='B']['visitors'].sum() - len(B_buyers_orders['transactionId'])))],axis=0)"
   ]
  },
  {
   "cell_type": "markdown",
   "id": "02c30c09",
   "metadata": {},
   "source": [
    "Сформулируем гипотезы для проверки по критерию Манна-Уитни: \n",
    "- Нулевая - различий в среднем количестве заказов между группами нет\n",
    "- Альтернативная - различия в среднем между группами есть.\n",
    "\n",
    "\n",
    "Примем критический уровень статистической значимости альфа в 5%"
   ]
  },
  {
   "cell_type": "markdown",
   "id": "de1338de",
   "metadata": {},
   "source": [
    "<div class=\"alert alert-success\">\n",
    "<h2> Комментарий ревьюера <a class=\"tocSkip\"> </h2>\n",
    "\n",
    "<b>Отлично!✅:</b> Гипотезы сформулированы верно!\n",
    "</div>"
   ]
  },
  {
   "cell_type": "code",
   "execution_count": 39,
   "id": "e402ba12",
   "metadata": {},
   "outputs": [
    {
     "name": "stdout",
     "output_type": "stream",
     "text": [
      "P-value критерия Манна-Уитни равен 0.017\n",
      "Относительный прирост средней конверсии группы B к средней конверсии группы A равен 13.81%\n"
     ]
    }
   ],
   "source": [
    "print('P-value критерия Манна-Уитни равен {0:.3f}'.format(stats.mannwhitneyu(A_allusers_orders, B_allusers_orders)[1]))\n",
    "\n",
    "print('Относительный прирост средней конверсии группы B к средней конверсии группы A равен {0:.2%}'.format(\n",
    "    B_allusers_orders.mean() / A_allusers_orders.mean() - 1))"
   ]
  },
  {
   "cell_type": "markdown",
   "id": "dc12dbf0",
   "metadata": {},
   "source": [
    "P-value меньше 0.05, потому нулевую гипотезу отвергаем. Анализ «сырых данных» показывает, что в среднем количестве заказов между группами есть статистически значимые различия.\n",
    "\n",
    "Относительный прирост среднего группы B к конверсии группы A равен почти 14%. Такой же прирост был виден при оценке кумулятивной конверссии. "
   ]
  },
  {
   "cell_type": "markdown",
   "id": "e22e49c9",
   "metadata": {},
   "source": [
    "<div class=\"alert alert-success\">\n",
    "<h2> Комментарий ревьюера <a class=\"tocSkip\"> </h2>\n",
    "\n",
    "<b>Отлично!✅:</b> Хорошо!\n",
    "</div>"
   ]
  },
  {
   "cell_type": "markdown",
   "id": "ca51a6fa",
   "metadata": {},
   "source": [
    "\n",
    "### Cтатистическая значимость различий в среднем чеке заказа между группами по «сырым» данным"
   ]
  },
  {
   "cell_type": "markdown",
   "id": "ab38d81a",
   "metadata": {},
   "source": [
    "Проверим стастическую значимость различий в среднем количестве чеке между группами также по критерию Манна-Уитни. Используем «сырые данных» данные, т.е. включая аномальные. \n",
    "\n",
    "Гипотезы: \n",
    "- Нулевая - различий в среднем чеке заказа между группами нет. \n",
    "- Альтернативная - различия в среднем чеке между группами есть.\n",
    "\n",
    "Применим критический уровень статистической значимости альфа в 5%"
   ]
  },
  {
   "cell_type": "code",
   "execution_count": 40,
   "id": "00af5328",
   "metadata": {},
   "outputs": [
    {
     "name": "stdout",
     "output_type": "stream",
     "text": [
      "P-value критерия Манна-Уитни равен 0.729\n",
      "Относительный прирост среднего чека группы B к чеку группы A равен 25.87%\n"
     ]
    }
   ],
   "source": [
    "print('P-value критерия Манна-Уитни равен {0:.3f}'.format(stats.mannwhitneyu(\n",
    "        orders[orders['group']=='A']['revenue'], orders[orders['group']=='B']['revenue'])[1]))\n",
    "\n",
    "\n",
    "print('Относительный прирост среднего чека группы B к чеку группы A равен {0:.2%}'.format(\n",
    "    orders[orders['group']=='B']['revenue'].mean()/orders[orders['group']=='A']['revenue'].mean()-1)) "
   ]
  },
  {
   "cell_type": "markdown",
   "id": "12edf74d",
   "metadata": {},
   "source": [
    "P-value больше 0.05 — статистически значимых отличий в среднем чеке между группами нет. При этом относительное различие среднего чека между группами составило уже почти 26%. Скорее всего, повлияли заказы с аномально высокими суммами. Требуется провести анализ без аномалий."
   ]
  },
  {
   "cell_type": "markdown",
   "id": "d6df0d50",
   "metadata": {},
   "source": [
    "<div class=\"alert alert-success\">\n",
    "<h2> Комментарий ревьюера <a class=\"tocSkip\"> </h2>\n",
    "\n",
    "<b>Отлично!✅:</b> Согласна!\n",
    "</div>"
   ]
  },
  {
   "cell_type": "markdown",
   "id": "12cee11f",
   "metadata": {},
   "source": [
    "### Cтатистическая значимость различий в среднем количестве заказов на посетителя между группами по «очищенным» данным"
   ]
  },
  {
   "cell_type": "markdown",
   "id": "4107dac8",
   "metadata": {},
   "source": [
    "Для очищения данных отсетем пользователей с большим количеством заказов, а также тех, что сделал заказ на очень большу сумму. Возмем значения чуть больше 95 претентиля. То есть аномильными будут пользователи, сделавшие 4 и более заказов, либо с суммой одного заказа более 30000"
   ]
  },
  {
   "cell_type": "code",
   "execution_count": 41,
   "id": "8bca3134",
   "metadata": {},
   "outputs": [
    {
     "data": {
      "text/plain": [
       "57"
      ]
     },
     "execution_count": 41,
     "metadata": {},
     "output_type": "execute_result"
    }
   ],
   "source": [
    "usersWithManyOrders = pd.concat([\n",
    "        A_buyers_orders[A_buyers_orders['transactionId'] >= 4]['visitorId'],\n",
    "        B_buyers_orders[B_buyers_orders['transactionId'] >= 4]['visitorId'],\n",
    "    ], axis=0)\n",
    "usersWithExpensiveOrders = orders[orders['revenue'] > 30000]['visitorId']\n",
    "\n",
    "abnormalUsers = (pd.concat([usersWithManyOrders, usersWithExpensiveOrders], axis=0).drop_duplicates().sort_values())\n",
    "len(abnormalUsers)"
   ]
  },
  {
   "cell_type": "markdown",
   "id": "429dfc26",
   "metadata": {},
   "source": [
    "Выявлено всего 57 аномальных пользователей из 1031, или 5%."
   ]
  },
  {
   "cell_type": "code",
   "execution_count": 42,
   "id": "cf9a8403",
   "metadata": {},
   "outputs": [],
   "source": [
    "A_users_filtered = pd.concat([\n",
    "    A_buyers_orders[np.logical_not(A_buyers_orders['visitorId'].isin(abnormalUsers))]['transactionId'], \n",
    "    pd.Series(0, index=np.arange(visits[visits['group']=='A']['visitors'].sum() - len(A_buyers_orders['transactionId'])))\n",
    "    ], axis=0)\n",
    "\n",
    "B_users_filtered = pd.concat([\n",
    "    B_buyers_orders[np.logical_not(B_buyers_orders['visitorId'].isin(abnormalUsers))]['transactionId'], \n",
    "    pd.Series(0, index=np.arange(visits[visits['group']=='B']['visitors'].sum() - len(B_buyers_orders['transactionId'])))\n",
    "    ], axis=0)"
   ]
  },
  {
   "cell_type": "markdown",
   "id": "06704ce0",
   "metadata": {},
   "source": [
    "Гипотезы для \"очищенных\" данных те же: Нулевая - различий в среднем количестве заказов между группами нет. Альтернативная - различия в среднем между группами есть. Критический уровень статистической значимости альфа - 5%"
   ]
  },
  {
   "cell_type": "code",
   "execution_count": 43,
   "id": "fbe3cba7",
   "metadata": {
    "scrolled": false
   },
   "outputs": [
    {
     "name": "stdout",
     "output_type": "stream",
     "text": [
      "P-value критерия Манна-Уитни равен 0.018\n",
      "Относительный прирост средней конверсии группы B к средней конверсии группы A равен 14.75%\n"
     ]
    }
   ],
   "source": [
    "print('P-value критерия Манна-Уитни равен {0:.3f}'.format(stats.mannwhitneyu(A_users_filtered, B_users_filtered)[1]))\n",
    "\n",
    "print('Относительный прирост средней конверсии группы B к средней конверсии группы A равен {0:.2%}'.format(\n",
    "        B_users_filtered.mean() / A_users_filtered.mean() - 1)) "
   ]
  },
  {
   "cell_type": "markdown",
   "id": "e661887d",
   "metadata": {},
   "source": [
    "Для очищенных данных P-value также меньше 0.05, потому нулевую гипотезу отвергаем - в среднем количестве заказов между группами есть статистически значимые различия. Относительный прирост средней конверсии группы B к конверсии группы A по очищенным данным составляет почти 15%."
   ]
  },
  {
   "cell_type": "markdown",
   "id": "3de12be6",
   "metadata": {},
   "source": [
    "<div class=\"alert alert-success\">\n",
    "<h2> Комментарий ревьюера <a class=\"tocSkip\"> </h2>\n",
    "\n",
    "<b>Отлично!✅:</b> Супер, двигаемся дальше!\n",
    "</div>"
   ]
  },
  {
   "cell_type": "markdown",
   "id": "99dc7bbc",
   "metadata": {},
   "source": [
    "### Статистическая значимость различий в среднем чеке заказа между группами по «очищенным» данным"
   ]
  },
  {
   "cell_type": "markdown",
   "id": "90027473",
   "metadata": {},
   "source": [
    "Гипотезы: Нулевая - различий в среднем чеке заказа между группами нет. Альтернативная - различия в среднем чеке между группами есть. Критический уровень статистической значимости альфа - 5%"
   ]
  },
  {
   "cell_type": "code",
   "execution_count": 44,
   "id": "d7def218",
   "metadata": {},
   "outputs": [
    {
     "name": "stdout",
     "output_type": "stream",
     "text": [
      "P-value критерия Манна-Уитни равен 0.958\n",
      "Относительный прирост среднего чека группы B к чеку группы A равен -1.97%\n"
     ]
    }
   ],
   "source": [
    "A_clear_orders_revenue = orders.query('group == \"A\" and visitorId not in @abnormalUsers')['revenue']\n",
    "B_clear_orders_revenue = orders.query('group == \"B\" and visitorId not in @abnormalUsers')['revenue']\n",
    "\n",
    "print('P-value критерия Манна-Уитни равен {0:.3f}'.format(\n",
    "    stats.mannwhitneyu(A_clear_orders_revenue, B_clear_orders_revenue)[1]))\n",
    "\n",
    "print('Относительный прирост среднего чека группы B к чеку группы A равен {0:.2%}'.format(\n",
    "    B_clear_orders_revenue.mean() / A_clear_orders_revenue.mean() - 1)) "
   ]
  },
  {
   "cell_type": "markdown",
   "id": "4e3e8b73",
   "metadata": {},
   "source": [
    "P-value больше 0.05 — статистически значимых отличий в среднем чеке между группами нет. При этом \"очищенные\" от выбросов данные дают различие среднего чека между группами теперь всего 2%."
   ]
  },
  {
   "cell_type": "markdown",
   "id": "d38319cb",
   "metadata": {},
   "source": [
    "<div class=\"alert alert-success\">\n",
    "<h2> Комментарий ревьюера <a class=\"tocSkip\"> </h2>\n",
    "\n",
    "<b>Отлично!✅:</b> Отлично!\n",
    "</div>"
   ]
  },
  {
   "cell_type": "markdown",
   "id": "02fa70c9",
   "metadata": {},
   "source": [
    "## Решение по результатам А\\В теста "
   ]
  },
  {
   "cell_type": "markdown",
   "id": "3282c5b4",
   "metadata": {},
   "source": [
    "**Остановить тест, зафиксировать победу группы B**"
   ]
  },
  {
   "cell_type": "markdown",
   "id": "6460bcfd",
   "metadata": {},
   "source": [
    "Хотя длительность тестирования и размер выборки пока еще меньше расчетных, группа B показывает установишийся прирост конверсии посетелей порядка 14% уже после первой недели тестирования. Увеличение конверсии в группе В относительно группа А имет статистическую значимость.\n",
    "\n",
    "При этом другие параметры - общая посещаемость, средний чек заказов в группах, после очистики данных от аномалий, практически одинаковые в группах. Т.е. нововведение, реализованное в ходе тестирования, охватывает таких же по качеству и количеству посетителей, что и базовая группа, только привлечение идет значительно лучше. Вероятно, тестировалась гипотеза №6 - \"Показать на главной странице баннеры с актуальными акциями и распродажами, чтобы увеличить конверсию\"."
   ]
  },
  {
   "cell_type": "markdown",
   "id": "2214a4fb",
   "metadata": {},
   "source": [
    "\n",
    "\n",
    "<div class=\"alert alert-success\">\n",
    "<h2> Комментарий ревьюера <a class=\"tocSkip\"> </h2>\n",
    "\n",
    "<b>Отлично!✅:</b> Решение на этом шаге является полностью правильным. Ты здорово разобрался во влиянии выбросов на результаты сравнения средних значений и отметил преимущество статистического теста при интерпретации результатов.\n",
    "</div>"
   ]
  },
  {
   "cell_type": "markdown",
   "id": "00a4f382",
   "metadata": {},
   "source": [
    "## Общий вывод"
   ]
  },
  {
   "cell_type": "markdown",
   "id": "4b0f9ba1",
   "metadata": {},
   "source": [
    "В ходе проведенной приоритизации гипотез по критериям ICE и RICE были выбраны наиболее перспективные сопсобы увеличения выручки: \n",
    "- Показать на главной странице баннеры с актуальными акциями и распродажами, чтобы увеличить конверсию.\n",
    "- Добавить два новых канала привлечения трафика, что позволит привлекать на 30% больше пользователей\n",
    "- Добавить блоки рекомендаций товаров на сайт интернет магазина, чтобы повысить конверсию и средний чек заказа\n",
    "- Добавить форму подписки на все основные страницы, чтобы собрать базу клиентов для email-рассылок\t\n",
    "\n",
    "По итогам проведенного анализа результатов А/В тестирования одной из гипотез (\"Показать на главной странице баннеры с актуальными акциями и распродажами, чтобы увеличить конверсию\") принято решение об остановке теста и признании эффективным тестируемого способа увеличения выручки. Рост выручки стал возможен за счет увеличения конверсии. Конверсия выросла на 14-15% уже через неделю после начала тестирования.\n",
    "\n",
    "Рекомендуется применить тестируемый способ увеличения выручки для всех посетителей сайта."
   ]
  },
  {
   "cell_type": "markdown",
   "id": "30613fca",
   "metadata": {},
   "source": [
    "\n",
    "\n",
    "<div class=\"alert alert-success\">\n",
    "<h2> Комментарий ревьюера <a class=\"tocSkip\"> </h2>\n",
    "\n",
    "<b>Отлично!✅:</b> Здорово, что собрал все данные в общий вывод!\n",
    "</div>"
   ]
  },
  {
   "cell_type": "markdown",
   "id": "f6037a79",
   "metadata": {},
   "source": [
    "<div style=\"border:solid Chocolate 2px; padding: 40px\">\n",
    "Антон, давай подведем итоги. Ты большой молодец, что старался и проделал такую большую работу. Мне понравилось, что ты наполнил проект развернутыми выводами и наглядно продемонстрировал каждое задание:) \n",
    "    \n",
    "    Разберем над чем стоит поработать:\n",
    "    \n",
    "    1. Заменить типы данных. \n",
    "    \n",
    "    2. Дать полную формулировку гипотез в выводах.\n",
    "    \n",
    "    3. Рекомендую:\n",
    "    - указать решаемую бизнес-задачу;\n",
    "    - округлить значения в колонке ICE.\n",
    "    \n",
    "    Пересмотри работу и исправь ошибки. Обязательно пиши, если я могу тебе еще чем-то помочь. Удачи!)\n",
    "  "
   ]
  },
  {
   "cell_type": "markdown",
   "id": "0dbcf18b",
   "metadata": {},
   "source": [
    "<div class=\"alert alert-info\"> <b>Комментарий студента: </b> Поправил</div>"
   ]
  },
  {
   "cell_type": "markdown",
   "id": "52143170",
   "metadata": {},
   "source": [
    "<div class=\"alert alert-success\">\n",
    "<h2> Комментарий ревьюера v2<a class=\"tocSkip\"> </h2>\n",
    "\n",
    "<b>Отлично!✅:</b> Антон, привет! Молодец, оперативно и верно доработал проект. Здорово, что учел не только замечания, но и рекомендации. Благодарю за обратную связь, работа принята, удачи в обучении!)\n",
    "</div>"
   ]
  }
 ],
 "metadata": {
  "ExecuteTimeLog": [
   {
    "duration": 1372,
    "start_time": "2024-07-14T08:20:56.706Z"
   },
   {
    "duration": 4,
    "start_time": "2024-07-14T08:20:58.083Z"
   },
   {
    "duration": 269,
    "start_time": "2024-07-14T08:20:58.089Z"
   },
   {
    "duration": 18,
    "start_time": "2024-07-14T08:20:58.360Z"
   },
   {
    "duration": 18,
    "start_time": "2024-07-14T08:20:58.380Z"
   },
   {
    "duration": 14,
    "start_time": "2024-07-14T08:20:58.400Z"
   },
   {
    "duration": 17,
    "start_time": "2024-07-14T08:20:58.415Z"
   },
   {
    "duration": 17,
    "start_time": "2024-07-14T08:20:58.434Z"
   },
   {
    "duration": 13,
    "start_time": "2024-07-14T08:20:58.453Z"
   },
   {
    "duration": 56,
    "start_time": "2024-07-14T08:20:58.469Z"
   },
   {
    "duration": 24,
    "start_time": "2024-07-14T08:20:58.527Z"
   },
   {
    "duration": 11,
    "start_time": "2024-07-14T08:20:58.553Z"
   },
   {
    "duration": 27,
    "start_time": "2024-07-14T08:20:58.566Z"
   },
   {
    "duration": 12,
    "start_time": "2024-07-14T08:20:58.595Z"
   },
   {
    "duration": 31,
    "start_time": "2024-07-14T08:20:58.609Z"
   },
   {
    "duration": 11,
    "start_time": "2024-07-14T08:20:58.642Z"
   },
   {
    "duration": 9,
    "start_time": "2024-07-14T08:20:58.655Z"
   },
   {
    "duration": 19,
    "start_time": "2024-07-14T08:20:58.667Z"
   },
   {
    "duration": 18,
    "start_time": "2024-07-14T08:20:58.688Z"
   },
   {
    "duration": 15,
    "start_time": "2024-07-14T08:20:58.708Z"
   },
   {
    "duration": 306,
    "start_time": "2024-07-14T08:20:58.724Z"
   },
   {
    "duration": 12,
    "start_time": "2024-07-14T08:20:59.032Z"
   },
   {
    "duration": 7,
    "start_time": "2024-07-14T08:20:59.046Z"
   },
   {
    "duration": 233,
    "start_time": "2024-07-14T08:20:59.054Z"
   },
   {
    "duration": 228,
    "start_time": "2024-07-14T08:20:59.290Z"
   },
   {
    "duration": 422,
    "start_time": "2024-07-14T08:20:59.520Z"
   },
   {
    "duration": 7,
    "start_time": "2024-07-14T08:20:59.944Z"
   },
   {
    "duration": 245,
    "start_time": "2024-07-14T08:20:59.956Z"
   },
   {
    "duration": 7,
    "start_time": "2024-07-14T08:21:00.203Z"
   },
   {
    "duration": 373,
    "start_time": "2024-07-14T08:21:00.212Z"
   },
   {
    "duration": 7,
    "start_time": "2024-07-14T08:21:00.587Z"
   },
   {
    "duration": 205,
    "start_time": "2024-07-14T08:21:00.595Z"
   },
   {
    "duration": 4,
    "start_time": "2024-07-14T08:21:00.802Z"
   },
   {
    "duration": 385,
    "start_time": "2024-07-14T08:21:00.808Z"
   },
   {
    "duration": 6,
    "start_time": "2024-07-14T08:21:01.195Z"
   },
   {
    "duration": 42,
    "start_time": "2024-07-14T08:21:01.203Z"
   },
   {
    "duration": 41,
    "start_time": "2024-07-14T08:21:01.247Z"
   },
   {
    "duration": 11,
    "start_time": "2024-07-14T08:21:01.290Z"
   },
   {
    "duration": 20,
    "start_time": "2024-07-14T08:21:01.303Z"
   },
   {
    "duration": 105,
    "start_time": "2024-07-14T08:21:01.325Z"
   },
   {
    "duration": 47,
    "start_time": "2024-07-14T08:21:01.432Z"
   },
   {
    "duration": 115,
    "start_time": "2024-07-14T08:21:01.481Z"
   },
   {
    "duration": 1183,
    "start_time": "2024-07-14T08:22:17.303Z"
   },
   {
    "duration": 3,
    "start_time": "2024-07-14T08:22:18.488Z"
   },
   {
    "duration": 108,
    "start_time": "2024-07-14T08:22:18.496Z"
   },
   {
    "duration": 12,
    "start_time": "2024-07-14T08:22:18.606Z"
   },
   {
    "duration": 11,
    "start_time": "2024-07-14T08:22:18.620Z"
   },
   {
    "duration": 11,
    "start_time": "2024-07-14T08:22:18.632Z"
   },
   {
    "duration": 11,
    "start_time": "2024-07-14T08:22:18.644Z"
   },
   {
    "duration": 10,
    "start_time": "2024-07-14T08:22:18.656Z"
   },
   {
    "duration": 17,
    "start_time": "2024-07-14T08:22:18.670Z"
   },
   {
    "duration": 12,
    "start_time": "2024-07-14T08:22:18.689Z"
   },
   {
    "duration": 10,
    "start_time": "2024-07-14T08:22:18.703Z"
   },
   {
    "duration": 8,
    "start_time": "2024-07-14T08:22:18.715Z"
   },
   {
    "duration": 12,
    "start_time": "2024-07-14T08:22:18.725Z"
   },
   {
    "duration": 48,
    "start_time": "2024-07-14T08:22:18.739Z"
   },
   {
    "duration": 7,
    "start_time": "2024-07-14T08:22:18.789Z"
   },
   {
    "duration": 7,
    "start_time": "2024-07-14T08:22:18.798Z"
   },
   {
    "duration": 11,
    "start_time": "2024-07-14T08:22:18.807Z"
   },
   {
    "duration": 7,
    "start_time": "2024-07-14T08:22:18.820Z"
   },
   {
    "duration": 15,
    "start_time": "2024-07-14T08:22:18.829Z"
   },
   {
    "duration": 16,
    "start_time": "2024-07-14T08:22:18.882Z"
   },
   {
    "duration": 287,
    "start_time": "2024-07-14T08:22:18.900Z"
   },
   {
    "duration": 17,
    "start_time": "2024-07-14T08:22:19.189Z"
   },
   {
    "duration": 11,
    "start_time": "2024-07-14T08:22:19.208Z"
   },
   {
    "duration": 237,
    "start_time": "2024-07-14T08:22:19.221Z"
   },
   {
    "duration": 234,
    "start_time": "2024-07-14T08:22:19.460Z"
   },
   {
    "duration": 300,
    "start_time": "2024-07-14T08:22:19.695Z"
   },
   {
    "duration": 6,
    "start_time": "2024-07-14T08:22:19.999Z"
   },
   {
    "duration": 231,
    "start_time": "2024-07-14T08:22:20.007Z"
   },
   {
    "duration": 7,
    "start_time": "2024-07-14T08:22:20.239Z"
   },
   {
    "duration": 322,
    "start_time": "2024-07-14T08:22:20.248Z"
   },
   {
    "duration": 13,
    "start_time": "2024-07-14T08:22:20.572Z"
   },
   {
    "duration": 164,
    "start_time": "2024-07-14T08:22:20.586Z"
   },
   {
    "duration": 5,
    "start_time": "2024-07-14T08:22:20.751Z"
   },
   {
    "duration": 343,
    "start_time": "2024-07-14T08:22:20.758Z"
   },
   {
    "duration": 6,
    "start_time": "2024-07-14T08:22:21.103Z"
   },
   {
    "duration": 23,
    "start_time": "2024-07-14T08:22:21.110Z"
   },
   {
    "duration": 47,
    "start_time": "2024-07-14T08:22:21.135Z"
   },
   {
    "duration": 13,
    "start_time": "2024-07-14T08:22:21.184Z"
   },
   {
    "duration": 16,
    "start_time": "2024-07-14T08:22:21.198Z"
   },
   {
    "duration": 35,
    "start_time": "2024-07-14T08:22:21.216Z"
   },
   {
    "duration": 43,
    "start_time": "2024-07-14T08:22:21.253Z"
   },
   {
    "duration": 37,
    "start_time": "2024-07-14T08:22:21.298Z"
   },
   {
    "duration": 24,
    "start_time": "2024-07-14T08:25:10.841Z"
   },
   {
    "duration": 290,
    "start_time": "2024-07-14T08:26:17.443Z"
   },
   {
    "duration": 274,
    "start_time": "2024-07-14T08:26:27.611Z"
   },
   {
    "duration": 371,
    "start_time": "2024-07-14T08:26:57.641Z"
   },
   {
    "duration": 314,
    "start_time": "2024-07-14T08:27:01.168Z"
   },
   {
    "duration": 298,
    "start_time": "2024-07-14T08:27:36.404Z"
   },
   {
    "duration": 289,
    "start_time": "2024-07-14T08:27:48.104Z"
   },
   {
    "duration": 297,
    "start_time": "2024-07-14T08:29:39.492Z"
   },
   {
    "duration": 304,
    "start_time": "2024-07-14T08:29:46.247Z"
   },
   {
    "duration": 1165,
    "start_time": "2024-07-14T08:30:53.184Z"
   },
   {
    "duration": 3,
    "start_time": "2024-07-14T08:30:54.351Z"
   },
   {
    "duration": 113,
    "start_time": "2024-07-14T08:30:54.356Z"
   },
   {
    "duration": 11,
    "start_time": "2024-07-14T08:30:54.471Z"
   },
   {
    "duration": 16,
    "start_time": "2024-07-14T08:30:54.484Z"
   },
   {
    "duration": 15,
    "start_time": "2024-07-14T08:30:54.501Z"
   },
   {
    "duration": 26,
    "start_time": "2024-07-14T08:30:54.517Z"
   },
   {
    "duration": 17,
    "start_time": "2024-07-14T08:30:54.545Z"
   },
   {
    "duration": 10,
    "start_time": "2024-07-14T08:30:54.564Z"
   },
   {
    "duration": 15,
    "start_time": "2024-07-14T08:30:54.577Z"
   },
   {
    "duration": 10,
    "start_time": "2024-07-14T08:30:54.593Z"
   },
   {
    "duration": 10,
    "start_time": "2024-07-14T08:30:54.605Z"
   },
   {
    "duration": 14,
    "start_time": "2024-07-14T08:30:54.616Z"
   },
   {
    "duration": 11,
    "start_time": "2024-07-14T08:30:54.632Z"
   },
   {
    "duration": 5,
    "start_time": "2024-07-14T08:30:54.645Z"
   },
   {
    "duration": 31,
    "start_time": "2024-07-14T08:30:54.652Z"
   },
   {
    "duration": 12,
    "start_time": "2024-07-14T08:30:54.685Z"
   },
   {
    "duration": 8,
    "start_time": "2024-07-14T08:30:54.698Z"
   },
   {
    "duration": 22,
    "start_time": "2024-07-14T08:30:54.707Z"
   },
   {
    "duration": 15,
    "start_time": "2024-07-14T08:30:54.731Z"
   },
   {
    "duration": 294,
    "start_time": "2024-07-14T08:30:54.747Z"
   },
   {
    "duration": 11,
    "start_time": "2024-07-14T08:30:55.043Z"
   },
   {
    "duration": 6,
    "start_time": "2024-07-14T08:30:55.056Z"
   },
   {
    "duration": 232,
    "start_time": "2024-07-14T08:30:55.063Z"
   },
   {
    "duration": 212,
    "start_time": "2024-07-14T08:30:55.296Z"
   },
   {
    "duration": 311,
    "start_time": "2024-07-14T08:30:55.509Z"
   },
   {
    "duration": 6,
    "start_time": "2024-07-14T08:30:55.822Z"
   },
   {
    "duration": 207,
    "start_time": "2024-07-14T08:30:55.831Z"
   },
   {
    "duration": 8,
    "start_time": "2024-07-14T08:30:56.040Z"
   },
   {
    "duration": 324,
    "start_time": "2024-07-14T08:30:56.049Z"
   },
   {
    "duration": 10,
    "start_time": "2024-07-14T08:30:56.375Z"
   },
   {
    "duration": 173,
    "start_time": "2024-07-14T08:30:56.387Z"
   },
   {
    "duration": 4,
    "start_time": "2024-07-14T08:30:56.561Z"
   },
   {
    "duration": 329,
    "start_time": "2024-07-14T08:30:56.567Z"
   },
   {
    "duration": 4,
    "start_time": "2024-07-14T08:30:56.898Z"
   },
   {
    "duration": 14,
    "start_time": "2024-07-14T08:30:56.903Z"
   },
   {
    "duration": 26,
    "start_time": "2024-07-14T08:30:56.918Z"
   },
   {
    "duration": 42,
    "start_time": "2024-07-14T08:30:56.945Z"
   },
   {
    "duration": 9,
    "start_time": "2024-07-14T08:30:56.988Z"
   },
   {
    "duration": 13,
    "start_time": "2024-07-14T08:30:56.998Z"
   },
   {
    "duration": 27,
    "start_time": "2024-07-14T08:30:57.012Z"
   },
   {
    "duration": 12,
    "start_time": "2024-07-14T08:30:57.041Z"
   },
   {
    "duration": 1152,
    "start_time": "2024-07-14T08:38:49.245Z"
   },
   {
    "duration": 3,
    "start_time": "2024-07-14T08:38:50.398Z"
   },
   {
    "duration": 125,
    "start_time": "2024-07-14T08:38:50.403Z"
   },
   {
    "duration": 16,
    "start_time": "2024-07-14T08:38:50.530Z"
   },
   {
    "duration": 8,
    "start_time": "2024-07-14T08:38:50.547Z"
   },
   {
    "duration": 17,
    "start_time": "2024-07-14T08:38:50.557Z"
   },
   {
    "duration": 11,
    "start_time": "2024-07-14T08:38:50.576Z"
   },
   {
    "duration": 18,
    "start_time": "2024-07-14T08:38:50.588Z"
   },
   {
    "duration": 28,
    "start_time": "2024-07-14T08:38:50.608Z"
   },
   {
    "duration": 9,
    "start_time": "2024-07-14T08:38:50.639Z"
   },
   {
    "duration": 9,
    "start_time": "2024-07-14T08:38:50.649Z"
   },
   {
    "duration": 8,
    "start_time": "2024-07-14T08:38:50.660Z"
   },
   {
    "duration": 16,
    "start_time": "2024-07-14T08:38:50.682Z"
   },
   {
    "duration": 14,
    "start_time": "2024-07-14T08:38:50.700Z"
   },
   {
    "duration": 17,
    "start_time": "2024-07-14T08:38:50.716Z"
   },
   {
    "duration": 6,
    "start_time": "2024-07-14T08:38:50.734Z"
   },
   {
    "duration": 19,
    "start_time": "2024-07-14T08:38:50.741Z"
   },
   {
    "duration": 17,
    "start_time": "2024-07-14T08:38:50.761Z"
   },
   {
    "duration": 17,
    "start_time": "2024-07-14T08:38:50.779Z"
   },
   {
    "duration": 22,
    "start_time": "2024-07-14T08:38:50.798Z"
   },
   {
    "duration": 286,
    "start_time": "2024-07-14T08:38:50.821Z"
   },
   {
    "duration": 11,
    "start_time": "2024-07-14T08:38:51.109Z"
   },
   {
    "duration": 14,
    "start_time": "2024-07-14T08:38:51.122Z"
   },
   {
    "duration": 224,
    "start_time": "2024-07-14T08:38:51.137Z"
   },
   {
    "duration": 220,
    "start_time": "2024-07-14T08:38:51.362Z"
   },
   {
    "duration": 335,
    "start_time": "2024-07-14T08:38:51.584Z"
   },
   {
    "duration": 7,
    "start_time": "2024-07-14T08:38:51.921Z"
   },
   {
    "duration": 213,
    "start_time": "2024-07-14T08:38:51.932Z"
   },
   {
    "duration": 8,
    "start_time": "2024-07-14T08:38:52.146Z"
   },
   {
    "duration": 328,
    "start_time": "2024-07-14T08:38:52.156Z"
   },
   {
    "duration": 8,
    "start_time": "2024-07-14T08:38:52.486Z"
   },
   {
    "duration": 178,
    "start_time": "2024-07-14T08:38:52.496Z"
   },
   {
    "duration": 4,
    "start_time": "2024-07-14T08:38:52.682Z"
   },
   {
    "duration": 310,
    "start_time": "2024-07-14T08:38:52.688Z"
   },
   {
    "duration": 5,
    "start_time": "2024-07-14T08:38:53.000Z"
   },
   {
    "duration": 26,
    "start_time": "2024-07-14T08:38:53.006Z"
   },
   {
    "duration": 34,
    "start_time": "2024-07-14T08:38:53.034Z"
   },
   {
    "duration": 16,
    "start_time": "2024-07-14T08:38:53.070Z"
   },
   {
    "duration": 19,
    "start_time": "2024-07-14T08:38:53.088Z"
   },
   {
    "duration": 9,
    "start_time": "2024-07-14T08:38:53.108Z"
   },
   {
    "duration": 30,
    "start_time": "2024-07-14T08:38:53.118Z"
   },
   {
    "duration": 12,
    "start_time": "2024-07-14T08:38:53.150Z"
   },
   {
    "duration": 1141,
    "start_time": "2024-07-14T10:23:27.519Z"
   },
   {
    "duration": 3,
    "start_time": "2024-07-14T10:23:28.662Z"
   },
   {
    "duration": 113,
    "start_time": "2024-07-14T10:23:28.666Z"
   },
   {
    "duration": 12,
    "start_time": "2024-07-14T10:23:28.781Z"
   },
   {
    "duration": 3,
    "start_time": "2024-07-14T10:23:28.795Z"
   },
   {
    "duration": 13,
    "start_time": "2024-07-14T10:23:28.800Z"
   },
   {
    "duration": 12,
    "start_time": "2024-07-14T10:23:28.814Z"
   },
   {
    "duration": 25,
    "start_time": "2024-07-14T10:23:28.828Z"
   },
   {
    "duration": 30,
    "start_time": "2024-07-14T10:23:28.855Z"
   },
   {
    "duration": 12,
    "start_time": "2024-07-14T10:23:28.888Z"
   },
   {
    "duration": 11,
    "start_time": "2024-07-14T10:23:28.901Z"
   },
   {
    "duration": 23,
    "start_time": "2024-07-14T10:23:28.913Z"
   },
   {
    "duration": 11,
    "start_time": "2024-07-14T10:23:28.938Z"
   },
   {
    "duration": 12,
    "start_time": "2024-07-14T10:23:28.951Z"
   },
   {
    "duration": 18,
    "start_time": "2024-07-14T10:23:28.964Z"
   },
   {
    "duration": 5,
    "start_time": "2024-07-14T10:23:28.984Z"
   },
   {
    "duration": 8,
    "start_time": "2024-07-14T10:23:28.991Z"
   },
   {
    "duration": 8,
    "start_time": "2024-07-14T10:23:29.001Z"
   },
   {
    "duration": 17,
    "start_time": "2024-07-14T10:23:29.010Z"
   },
   {
    "duration": 57,
    "start_time": "2024-07-14T10:23:29.029Z"
   },
   {
    "duration": 270,
    "start_time": "2024-07-14T10:23:29.088Z"
   },
   {
    "duration": 13,
    "start_time": "2024-07-14T10:23:29.360Z"
   },
   {
    "duration": 6,
    "start_time": "2024-07-14T10:23:29.382Z"
   },
   {
    "duration": 231,
    "start_time": "2024-07-14T10:23:29.390Z"
   },
   {
    "duration": 208,
    "start_time": "2024-07-14T10:23:29.623Z"
   },
   {
    "duration": 304,
    "start_time": "2024-07-14T10:23:29.833Z"
   },
   {
    "duration": 5,
    "start_time": "2024-07-14T10:23:30.139Z"
   },
   {
    "duration": 277,
    "start_time": "2024-07-14T10:23:30.147Z"
   },
   {
    "duration": 7,
    "start_time": "2024-07-14T10:23:30.425Z"
   },
   {
    "duration": 337,
    "start_time": "2024-07-14T10:23:30.434Z"
   },
   {
    "duration": 13,
    "start_time": "2024-07-14T10:23:30.773Z"
   },
   {
    "duration": 226,
    "start_time": "2024-07-14T10:23:30.788Z"
   },
   {
    "duration": 4,
    "start_time": "2024-07-14T10:23:31.016Z"
   },
   {
    "duration": 374,
    "start_time": "2024-07-14T10:23:31.021Z"
   },
   {
    "duration": 4,
    "start_time": "2024-07-14T10:23:31.397Z"
   },
   {
    "duration": 39,
    "start_time": "2024-07-14T10:23:31.403Z"
   },
   {
    "duration": 53,
    "start_time": "2024-07-14T10:23:31.444Z"
   },
   {
    "duration": 10,
    "start_time": "2024-07-14T10:23:31.498Z"
   },
   {
    "duration": 65,
    "start_time": "2024-07-14T10:23:31.510Z"
   },
   {
    "duration": 42,
    "start_time": "2024-07-14T10:23:31.576Z"
   },
   {
    "duration": 44,
    "start_time": "2024-07-14T10:23:31.620Z"
   },
   {
    "duration": 56,
    "start_time": "2024-07-14T10:23:31.666Z"
   },
   {
    "duration": 4,
    "start_time": "2024-07-14T10:27:26.727Z"
   },
   {
    "duration": 4,
    "start_time": "2024-07-14T10:27:33.744Z"
   },
   {
    "duration": 4,
    "start_time": "2024-07-14T10:27:54.891Z"
   },
   {
    "duration": 4,
    "start_time": "2024-07-14T10:31:47.356Z"
   },
   {
    "duration": 10,
    "start_time": "2024-07-14T10:32:03.927Z"
   },
   {
    "duration": 5,
    "start_time": "2024-07-14T10:32:10.322Z"
   },
   {
    "duration": 5,
    "start_time": "2024-07-14T10:33:15.773Z"
   },
   {
    "duration": 5,
    "start_time": "2024-07-14T10:34:40.545Z"
   },
   {
    "duration": 1124,
    "start_time": "2024-07-14T10:35:22.627Z"
   },
   {
    "duration": 3,
    "start_time": "2024-07-14T10:35:23.753Z"
   },
   {
    "duration": 118,
    "start_time": "2024-07-14T10:35:23.757Z"
   },
   {
    "duration": 11,
    "start_time": "2024-07-14T10:35:23.877Z"
   },
   {
    "duration": 37,
    "start_time": "2024-07-14T10:35:23.890Z"
   },
   {
    "duration": 28,
    "start_time": "2024-07-14T10:35:23.929Z"
   },
   {
    "duration": 22,
    "start_time": "2024-07-14T10:35:23.959Z"
   },
   {
    "duration": 14,
    "start_time": "2024-07-14T10:35:23.982Z"
   },
   {
    "duration": 16,
    "start_time": "2024-07-14T10:35:23.997Z"
   },
   {
    "duration": 7,
    "start_time": "2024-07-14T10:35:24.016Z"
   },
   {
    "duration": 7,
    "start_time": "2024-07-14T10:35:24.025Z"
   },
   {
    "duration": 8,
    "start_time": "2024-07-14T10:35:24.034Z"
   },
   {
    "duration": 10,
    "start_time": "2024-07-14T10:35:24.044Z"
   },
   {
    "duration": 11,
    "start_time": "2024-07-14T10:35:24.082Z"
   },
   {
    "duration": 5,
    "start_time": "2024-07-14T10:35:24.095Z"
   },
   {
    "duration": 4,
    "start_time": "2024-07-14T10:35:24.102Z"
   },
   {
    "duration": 9,
    "start_time": "2024-07-14T10:35:24.108Z"
   },
   {
    "duration": 7,
    "start_time": "2024-07-14T10:35:24.119Z"
   },
   {
    "duration": 15,
    "start_time": "2024-07-14T10:35:24.128Z"
   },
   {
    "duration": 15,
    "start_time": "2024-07-14T10:35:24.183Z"
   },
   {
    "duration": 282,
    "start_time": "2024-07-14T10:35:24.200Z"
   },
   {
    "duration": 12,
    "start_time": "2024-07-14T10:35:24.484Z"
   },
   {
    "duration": 33,
    "start_time": "2024-07-14T10:35:24.497Z"
   },
   {
    "duration": 212,
    "start_time": "2024-07-14T10:35:24.532Z"
   },
   {
    "duration": 227,
    "start_time": "2024-07-14T10:35:24.746Z"
   },
   {
    "duration": 320,
    "start_time": "2024-07-14T10:35:24.975Z"
   },
   {
    "duration": 6,
    "start_time": "2024-07-14T10:35:25.297Z"
   },
   {
    "duration": 191,
    "start_time": "2024-07-14T10:35:25.306Z"
   },
   {
    "duration": 8,
    "start_time": "2024-07-14T10:35:25.500Z"
   },
   {
    "duration": 274,
    "start_time": "2024-07-14T10:35:25.510Z"
   },
   {
    "duration": 7,
    "start_time": "2024-07-14T10:35:25.787Z"
   },
   {
    "duration": 188,
    "start_time": "2024-07-14T10:35:25.796Z"
   },
   {
    "duration": 5,
    "start_time": "2024-07-14T10:35:25.985Z"
   },
   {
    "duration": 320,
    "start_time": "2024-07-14T10:35:25.992Z"
   },
   {
    "duration": 4,
    "start_time": "2024-07-14T10:35:26.313Z"
   },
   {
    "duration": 14,
    "start_time": "2024-07-14T10:35:26.319Z"
   },
   {
    "duration": 50,
    "start_time": "2024-07-14T10:35:26.334Z"
   },
   {
    "duration": 13,
    "start_time": "2024-07-14T10:35:26.386Z"
   },
   {
    "duration": 11,
    "start_time": "2024-07-14T10:35:26.400Z"
   },
   {
    "duration": 10,
    "start_time": "2024-07-14T10:35:26.412Z"
   },
   {
    "duration": 26,
    "start_time": "2024-07-14T10:35:26.424Z"
   },
   {
    "duration": 14,
    "start_time": "2024-07-14T10:35:26.482Z"
   },
   {
    "duration": 1372,
    "start_time": "2024-07-14T15:54:41.916Z"
   },
   {
    "duration": 3,
    "start_time": "2024-07-14T15:54:43.290Z"
   },
   {
    "duration": 282,
    "start_time": "2024-07-14T15:54:43.294Z"
   },
   {
    "duration": 12,
    "start_time": "2024-07-14T15:54:43.578Z"
   },
   {
    "duration": 4,
    "start_time": "2024-07-14T15:54:43.592Z"
   },
   {
    "duration": 12,
    "start_time": "2024-07-14T15:54:43.597Z"
   },
   {
    "duration": 15,
    "start_time": "2024-07-14T15:54:43.610Z"
   },
   {
    "duration": 8,
    "start_time": "2024-07-14T15:54:43.627Z"
   },
   {
    "duration": 9,
    "start_time": "2024-07-14T15:54:43.636Z"
   },
   {
    "duration": 53,
    "start_time": "2024-07-14T15:54:43.648Z"
   },
   {
    "duration": 13,
    "start_time": "2024-07-14T15:54:43.703Z"
   },
   {
    "duration": 9,
    "start_time": "2024-07-14T15:54:43.718Z"
   },
   {
    "duration": 15,
    "start_time": "2024-07-14T15:54:43.729Z"
   },
   {
    "duration": 11,
    "start_time": "2024-07-14T15:54:43.746Z"
   },
   {
    "duration": 6,
    "start_time": "2024-07-14T15:54:43.759Z"
   },
   {
    "duration": 8,
    "start_time": "2024-07-14T15:54:43.767Z"
   },
   {
    "duration": 42,
    "start_time": "2024-07-14T15:54:43.777Z"
   },
   {
    "duration": 8,
    "start_time": "2024-07-14T15:54:43.822Z"
   },
   {
    "duration": 14,
    "start_time": "2024-07-14T15:54:43.831Z"
   },
   {
    "duration": 15,
    "start_time": "2024-07-14T15:54:43.847Z"
   },
   {
    "duration": 309,
    "start_time": "2024-07-14T15:54:43.868Z"
   },
   {
    "duration": 13,
    "start_time": "2024-07-14T15:54:44.178Z"
   },
   {
    "duration": 18,
    "start_time": "2024-07-14T15:54:44.192Z"
   },
   {
    "duration": 322,
    "start_time": "2024-07-14T15:54:44.212Z"
   },
   {
    "duration": 225,
    "start_time": "2024-07-14T15:54:44.536Z"
   },
   {
    "duration": 366,
    "start_time": "2024-07-14T15:54:44.763Z"
   },
   {
    "duration": 6,
    "start_time": "2024-07-14T15:54:45.131Z"
   },
   {
    "duration": 344,
    "start_time": "2024-07-14T15:54:45.142Z"
   },
   {
    "duration": 0,
    "start_time": "2024-07-14T15:54:45.488Z"
   },
   {
    "duration": 0,
    "start_time": "2024-07-14T15:54:45.490Z"
   },
   {
    "duration": 0,
    "start_time": "2024-07-14T15:54:45.491Z"
   },
   {
    "duration": 0,
    "start_time": "2024-07-14T15:54:45.493Z"
   },
   {
    "duration": 0,
    "start_time": "2024-07-14T15:54:45.494Z"
   },
   {
    "duration": 0,
    "start_time": "2024-07-14T15:54:45.507Z"
   },
   {
    "duration": 0,
    "start_time": "2024-07-14T15:54:45.509Z"
   },
   {
    "duration": 0,
    "start_time": "2024-07-14T15:54:45.511Z"
   },
   {
    "duration": 0,
    "start_time": "2024-07-14T15:54:45.512Z"
   },
   {
    "duration": 0,
    "start_time": "2024-07-14T15:54:45.514Z"
   },
   {
    "duration": 0,
    "start_time": "2024-07-14T15:54:45.515Z"
   },
   {
    "duration": 0,
    "start_time": "2024-07-14T15:54:45.517Z"
   },
   {
    "duration": 0,
    "start_time": "2024-07-14T15:54:45.518Z"
   },
   {
    "duration": 0,
    "start_time": "2024-07-14T15:54:45.520Z"
   },
   {
    "duration": 8,
    "start_time": "2024-07-14T15:58:10.471Z"
   },
   {
    "duration": 6,
    "start_time": "2024-07-14T15:58:22.981Z"
   },
   {
    "duration": 9,
    "start_time": "2024-07-14T15:58:26.218Z"
   },
   {
    "duration": 4,
    "start_time": "2024-07-14T15:58:43.780Z"
   },
   {
    "duration": 7,
    "start_time": "2024-07-14T15:58:46.047Z"
   },
   {
    "duration": 10,
    "start_time": "2024-07-14T15:58:53.527Z"
   },
   {
    "duration": 1117,
    "start_time": "2024-07-14T15:59:00.554Z"
   },
   {
    "duration": 3,
    "start_time": "2024-07-14T15:59:01.673Z"
   },
   {
    "duration": 133,
    "start_time": "2024-07-14T15:59:01.678Z"
   },
   {
    "duration": 11,
    "start_time": "2024-07-14T15:59:01.813Z"
   },
   {
    "duration": 37,
    "start_time": "2024-07-14T15:59:01.826Z"
   },
   {
    "duration": 12,
    "start_time": "2024-07-14T15:59:01.864Z"
   },
   {
    "duration": 18,
    "start_time": "2024-07-14T15:59:01.877Z"
   },
   {
    "duration": 85,
    "start_time": "2024-07-14T15:59:01.896Z"
   },
   {
    "duration": 34,
    "start_time": "2024-07-14T15:59:01.983Z"
   },
   {
    "duration": 25,
    "start_time": "2024-07-14T15:59:02.020Z"
   },
   {
    "duration": 63,
    "start_time": "2024-07-14T15:59:02.047Z"
   },
   {
    "duration": 11,
    "start_time": "2024-07-14T15:59:02.112Z"
   },
   {
    "duration": 17,
    "start_time": "2024-07-14T15:59:02.125Z"
   },
   {
    "duration": 29,
    "start_time": "2024-07-14T15:59:02.143Z"
   },
   {
    "duration": 35,
    "start_time": "2024-07-14T15:59:02.173Z"
   },
   {
    "duration": 30,
    "start_time": "2024-07-14T15:59:02.209Z"
   },
   {
    "duration": 37,
    "start_time": "2024-07-14T15:59:02.240Z"
   },
   {
    "duration": 5,
    "start_time": "2024-07-14T15:59:02.279Z"
   },
   {
    "duration": 11,
    "start_time": "2024-07-14T15:59:02.286Z"
   },
   {
    "duration": 8,
    "start_time": "2024-07-14T15:59:02.299Z"
   },
   {
    "duration": 129,
    "start_time": "2024-07-14T15:59:02.309Z"
   },
   {
    "duration": 47,
    "start_time": "2024-07-14T15:59:02.440Z"
   },
   {
    "duration": 281,
    "start_time": "2024-07-14T15:59:02.489Z"
   },
   {
    "duration": 12,
    "start_time": "2024-07-14T15:59:02.772Z"
   },
   {
    "duration": 22,
    "start_time": "2024-07-14T15:59:02.786Z"
   },
   {
    "duration": 303,
    "start_time": "2024-07-14T15:59:02.810Z"
   },
   {
    "duration": 210,
    "start_time": "2024-07-14T15:59:03.114Z"
   },
   {
    "duration": 304,
    "start_time": "2024-07-14T15:59:03.328Z"
   },
   {
    "duration": 5,
    "start_time": "2024-07-14T15:59:03.633Z"
   },
   {
    "duration": 307,
    "start_time": "2024-07-14T15:59:03.639Z"
   },
   {
    "duration": 0,
    "start_time": "2024-07-14T15:59:03.948Z"
   },
   {
    "duration": 0,
    "start_time": "2024-07-14T15:59:03.949Z"
   },
   {
    "duration": 0,
    "start_time": "2024-07-14T15:59:03.950Z"
   },
   {
    "duration": 0,
    "start_time": "2024-07-14T15:59:03.951Z"
   },
   {
    "duration": 0,
    "start_time": "2024-07-14T15:59:03.952Z"
   },
   {
    "duration": 0,
    "start_time": "2024-07-14T15:59:03.953Z"
   },
   {
    "duration": 0,
    "start_time": "2024-07-14T15:59:03.954Z"
   },
   {
    "duration": 0,
    "start_time": "2024-07-14T15:59:03.955Z"
   },
   {
    "duration": 0,
    "start_time": "2024-07-14T15:59:03.956Z"
   },
   {
    "duration": 0,
    "start_time": "2024-07-14T15:59:03.957Z"
   },
   {
    "duration": 0,
    "start_time": "2024-07-14T15:59:03.958Z"
   },
   {
    "duration": 0,
    "start_time": "2024-07-14T15:59:03.959Z"
   },
   {
    "duration": 0,
    "start_time": "2024-07-14T15:59:03.960Z"
   },
   {
    "duration": 0,
    "start_time": "2024-07-14T15:59:03.961Z"
   },
   {
    "duration": 239,
    "start_time": "2024-07-14T15:59:29.413Z"
   },
   {
    "duration": 196,
    "start_time": "2024-07-14T16:02:23.267Z"
   },
   {
    "duration": 195,
    "start_time": "2024-07-14T16:02:31.790Z"
   },
   {
    "duration": 208,
    "start_time": "2024-07-14T16:04:49.962Z"
   },
   {
    "duration": 258,
    "start_time": "2024-07-14T16:07:04.556Z"
   },
   {
    "duration": 182,
    "start_time": "2024-07-14T16:07:14.198Z"
   },
   {
    "duration": 1145,
    "start_time": "2024-07-14T16:07:28.732Z"
   },
   {
    "duration": 3,
    "start_time": "2024-07-14T16:07:29.879Z"
   },
   {
    "duration": 150,
    "start_time": "2024-07-14T16:07:29.886Z"
   },
   {
    "duration": 12,
    "start_time": "2024-07-14T16:07:30.038Z"
   },
   {
    "duration": 126,
    "start_time": "2024-07-14T16:07:30.052Z"
   },
   {
    "duration": 59,
    "start_time": "2024-07-14T16:07:30.179Z"
   },
   {
    "duration": 45,
    "start_time": "2024-07-14T16:07:30.239Z"
   },
   {
    "duration": 51,
    "start_time": "2024-07-14T16:07:30.285Z"
   },
   {
    "duration": 171,
    "start_time": "2024-07-14T16:07:30.339Z"
   },
   {
    "duration": 97,
    "start_time": "2024-07-14T16:07:30.512Z"
   },
   {
    "duration": 52,
    "start_time": "2024-07-14T16:07:30.611Z"
   },
   {
    "duration": 81,
    "start_time": "2024-07-14T16:07:30.665Z"
   },
   {
    "duration": 93,
    "start_time": "2024-07-14T16:07:30.748Z"
   },
   {
    "duration": 101,
    "start_time": "2024-07-14T16:07:30.843Z"
   },
   {
    "duration": 45,
    "start_time": "2024-07-14T16:07:30.946Z"
   },
   {
    "duration": 56,
    "start_time": "2024-07-14T16:07:30.992Z"
   },
   {
    "duration": 36,
    "start_time": "2024-07-14T16:07:31.049Z"
   },
   {
    "duration": 66,
    "start_time": "2024-07-14T16:07:31.087Z"
   },
   {
    "duration": 149,
    "start_time": "2024-07-14T16:07:31.155Z"
   },
   {
    "duration": 54,
    "start_time": "2024-07-14T16:07:31.305Z"
   },
   {
    "duration": 35,
    "start_time": "2024-07-14T16:07:31.361Z"
   },
   {
    "duration": 39,
    "start_time": "2024-07-14T16:07:31.397Z"
   },
   {
    "duration": 295,
    "start_time": "2024-07-14T16:07:31.438Z"
   },
   {
    "duration": 14,
    "start_time": "2024-07-14T16:07:31.735Z"
   },
   {
    "duration": 21,
    "start_time": "2024-07-14T16:07:31.751Z"
   },
   {
    "duration": 313,
    "start_time": "2024-07-14T16:07:31.774Z"
   },
   {
    "duration": 209,
    "start_time": "2024-07-14T16:07:32.090Z"
   },
   {
    "duration": 335,
    "start_time": "2024-07-14T16:07:32.301Z"
   },
   {
    "duration": 6,
    "start_time": "2024-07-14T16:07:32.637Z"
   },
   {
    "duration": 217,
    "start_time": "2024-07-14T16:07:32.644Z"
   },
   {
    "duration": 8,
    "start_time": "2024-07-14T16:07:32.863Z"
   },
   {
    "duration": 377,
    "start_time": "2024-07-14T16:07:32.873Z"
   },
   {
    "duration": 0,
    "start_time": "2024-07-14T16:07:33.252Z"
   },
   {
    "duration": 0,
    "start_time": "2024-07-14T16:07:33.253Z"
   },
   {
    "duration": 0,
    "start_time": "2024-07-14T16:07:33.254Z"
   },
   {
    "duration": 0,
    "start_time": "2024-07-14T16:07:33.255Z"
   },
   {
    "duration": 0,
    "start_time": "2024-07-14T16:07:33.256Z"
   },
   {
    "duration": 0,
    "start_time": "2024-07-14T16:07:33.257Z"
   },
   {
    "duration": 0,
    "start_time": "2024-07-14T16:07:33.258Z"
   },
   {
    "duration": 0,
    "start_time": "2024-07-14T16:07:33.259Z"
   },
   {
    "duration": 0,
    "start_time": "2024-07-14T16:07:33.260Z"
   },
   {
    "duration": 0,
    "start_time": "2024-07-14T16:07:33.261Z"
   },
   {
    "duration": 0,
    "start_time": "2024-07-14T16:07:33.262Z"
   },
   {
    "duration": 0,
    "start_time": "2024-07-14T16:07:33.263Z"
   },
   {
    "duration": 254,
    "start_time": "2024-07-14T16:08:12.782Z"
   },
   {
    "duration": 186,
    "start_time": "2024-07-14T16:08:24.532Z"
   },
   {
    "duration": 197,
    "start_time": "2024-07-14T16:08:40.530Z"
   },
   {
    "duration": 313,
    "start_time": "2024-07-14T16:09:07.916Z"
   },
   {
    "duration": 332,
    "start_time": "2024-07-14T16:09:36.475Z"
   },
   {
    "duration": 292,
    "start_time": "2024-07-14T16:09:41.804Z"
   },
   {
    "duration": 210,
    "start_time": "2024-07-14T16:09:49.206Z"
   },
   {
    "duration": 313,
    "start_time": "2024-07-14T16:09:57.687Z"
   },
   {
    "duration": 289,
    "start_time": "2024-07-14T16:10:36.422Z"
   },
   {
    "duration": 377,
    "start_time": "2024-07-14T16:10:52.091Z"
   },
   {
    "duration": 298,
    "start_time": "2024-07-14T16:10:57.343Z"
   },
   {
    "duration": 1171,
    "start_time": "2024-07-14T16:11:06.323Z"
   },
   {
    "duration": 4,
    "start_time": "2024-07-14T16:11:07.496Z"
   },
   {
    "duration": 149,
    "start_time": "2024-07-14T16:11:07.501Z"
   },
   {
    "duration": 11,
    "start_time": "2024-07-14T16:11:07.652Z"
   },
   {
    "duration": 22,
    "start_time": "2024-07-14T16:11:07.665Z"
   },
   {
    "duration": 35,
    "start_time": "2024-07-14T16:11:07.688Z"
   },
   {
    "duration": 26,
    "start_time": "2024-07-14T16:11:07.724Z"
   },
   {
    "duration": 10,
    "start_time": "2024-07-14T16:11:07.752Z"
   },
   {
    "duration": 34,
    "start_time": "2024-07-14T16:11:07.764Z"
   },
   {
    "duration": 17,
    "start_time": "2024-07-14T16:11:07.800Z"
   },
   {
    "duration": 16,
    "start_time": "2024-07-14T16:11:07.819Z"
   },
   {
    "duration": 33,
    "start_time": "2024-07-14T16:11:07.837Z"
   },
   {
    "duration": 26,
    "start_time": "2024-07-14T16:11:07.871Z"
   },
   {
    "duration": 42,
    "start_time": "2024-07-14T16:11:07.898Z"
   },
   {
    "duration": 90,
    "start_time": "2024-07-14T16:11:07.941Z"
   },
   {
    "duration": 13,
    "start_time": "2024-07-14T16:11:08.032Z"
   },
   {
    "duration": 30,
    "start_time": "2024-07-14T16:11:08.047Z"
   },
   {
    "duration": 17,
    "start_time": "2024-07-14T16:11:08.078Z"
   },
   {
    "duration": 69,
    "start_time": "2024-07-14T16:11:08.097Z"
   },
   {
    "duration": 21,
    "start_time": "2024-07-14T16:11:08.167Z"
   },
   {
    "duration": 35,
    "start_time": "2024-07-14T16:11:08.189Z"
   },
   {
    "duration": 24,
    "start_time": "2024-07-14T16:11:08.225Z"
   },
   {
    "duration": 295,
    "start_time": "2024-07-14T16:11:08.251Z"
   },
   {
    "duration": 13,
    "start_time": "2024-07-14T16:11:08.547Z"
   },
   {
    "duration": 16,
    "start_time": "2024-07-14T16:11:08.561Z"
   },
   {
    "duration": 305,
    "start_time": "2024-07-14T16:11:08.578Z"
   },
   {
    "duration": 218,
    "start_time": "2024-07-14T16:11:08.885Z"
   },
   {
    "duration": 307,
    "start_time": "2024-07-14T16:11:09.110Z"
   },
   {
    "duration": 8,
    "start_time": "2024-07-14T16:11:09.420Z"
   },
   {
    "duration": 209,
    "start_time": "2024-07-14T16:11:09.430Z"
   },
   {
    "duration": 10,
    "start_time": "2024-07-14T16:11:09.641Z"
   },
   {
    "duration": 271,
    "start_time": "2024-07-14T16:11:09.653Z"
   },
   {
    "duration": 6,
    "start_time": "2024-07-14T16:11:09.926Z"
   },
   {
    "duration": 244,
    "start_time": "2024-07-14T16:11:09.934Z"
   },
   {
    "duration": 5,
    "start_time": "2024-07-14T16:11:10.180Z"
   },
   {
    "duration": 325,
    "start_time": "2024-07-14T16:11:10.186Z"
   },
   {
    "duration": 5,
    "start_time": "2024-07-14T16:11:10.512Z"
   },
   {
    "duration": 33,
    "start_time": "2024-07-14T16:11:10.518Z"
   },
   {
    "duration": 32,
    "start_time": "2024-07-14T16:11:10.553Z"
   },
   {
    "duration": 25,
    "start_time": "2024-07-14T16:11:10.587Z"
   },
   {
    "duration": 10,
    "start_time": "2024-07-14T16:11:10.614Z"
   },
   {
    "duration": 23,
    "start_time": "2024-07-14T16:11:10.626Z"
   },
   {
    "duration": 39,
    "start_time": "2024-07-14T16:11:10.650Z"
   },
   {
    "duration": 14,
    "start_time": "2024-07-14T16:11:10.690Z"
   },
   {
    "duration": 11,
    "start_time": "2024-07-14T16:13:04.832Z"
   },
   {
    "duration": 1105,
    "start_time": "2024-07-14T16:28:23.105Z"
   },
   {
    "duration": 2,
    "start_time": "2024-07-14T16:28:24.212Z"
   },
   {
    "duration": 114,
    "start_time": "2024-07-14T16:28:24.216Z"
   },
   {
    "duration": 14,
    "start_time": "2024-07-14T16:28:24.332Z"
   },
   {
    "duration": 4,
    "start_time": "2024-07-14T16:28:24.348Z"
   },
   {
    "duration": 11,
    "start_time": "2024-07-14T16:28:24.354Z"
   },
   {
    "duration": 18,
    "start_time": "2024-07-14T16:28:24.367Z"
   },
   {
    "duration": 5,
    "start_time": "2024-07-14T16:28:24.387Z"
   },
   {
    "duration": 15,
    "start_time": "2024-07-14T16:28:24.393Z"
   },
   {
    "duration": 10,
    "start_time": "2024-07-14T16:28:24.410Z"
   },
   {
    "duration": 19,
    "start_time": "2024-07-14T16:28:24.421Z"
   },
   {
    "duration": 68,
    "start_time": "2024-07-14T16:28:24.442Z"
   },
   {
    "duration": 18,
    "start_time": "2024-07-14T16:28:24.512Z"
   },
   {
    "duration": 8,
    "start_time": "2024-07-14T16:28:24.532Z"
   },
   {
    "duration": 34,
    "start_time": "2024-07-14T16:28:24.541Z"
   },
   {
    "duration": 15,
    "start_time": "2024-07-14T16:28:24.577Z"
   },
   {
    "duration": 11,
    "start_time": "2024-07-14T16:28:24.593Z"
   },
   {
    "duration": 6,
    "start_time": "2024-07-14T16:28:24.606Z"
   },
   {
    "duration": 9,
    "start_time": "2024-07-14T16:28:24.613Z"
   },
   {
    "duration": 9,
    "start_time": "2024-07-14T16:28:24.624Z"
   },
   {
    "duration": 25,
    "start_time": "2024-07-14T16:28:24.635Z"
   },
   {
    "duration": 18,
    "start_time": "2024-07-14T16:28:24.662Z"
   },
   {
    "duration": 274,
    "start_time": "2024-07-14T16:28:24.706Z"
   },
   {
    "duration": 14,
    "start_time": "2024-07-14T16:28:24.982Z"
   },
   {
    "duration": 8,
    "start_time": "2024-07-14T16:28:25.007Z"
   },
   {
    "duration": 297,
    "start_time": "2024-07-14T16:28:25.017Z"
   },
   {
    "duration": 208,
    "start_time": "2024-07-14T16:28:25.315Z"
   },
   {
    "duration": 315,
    "start_time": "2024-07-14T16:28:25.526Z"
   },
   {
    "duration": 6,
    "start_time": "2024-07-14T16:28:25.842Z"
   },
   {
    "duration": 207,
    "start_time": "2024-07-14T16:28:25.849Z"
   },
   {
    "duration": 8,
    "start_time": "2024-07-14T16:28:26.057Z"
   },
   {
    "duration": 296,
    "start_time": "2024-07-14T16:28:26.067Z"
   },
   {
    "duration": 6,
    "start_time": "2024-07-14T16:28:26.365Z"
   },
   {
    "duration": 187,
    "start_time": "2024-07-14T16:28:26.372Z"
   },
   {
    "duration": 4,
    "start_time": "2024-07-14T16:28:26.561Z"
   },
   {
    "duration": 324,
    "start_time": "2024-07-14T16:28:26.566Z"
   },
   {
    "duration": 4,
    "start_time": "2024-07-14T16:28:26.891Z"
   },
   {
    "duration": 21,
    "start_time": "2024-07-14T16:28:26.897Z"
   },
   {
    "duration": 26,
    "start_time": "2024-07-14T16:28:26.920Z"
   },
   {
    "duration": 10,
    "start_time": "2024-07-14T16:28:26.947Z"
   },
   {
    "duration": 20,
    "start_time": "2024-07-14T16:28:26.958Z"
   },
   {
    "duration": 35,
    "start_time": "2024-07-14T16:28:26.979Z"
   },
   {
    "duration": 26,
    "start_time": "2024-07-14T16:28:27.015Z"
   },
   {
    "duration": 12,
    "start_time": "2024-07-14T16:28:27.043Z"
   },
   {
    "duration": 1182,
    "start_time": "2024-07-14T16:31:59.501Z"
   },
   {
    "duration": 3,
    "start_time": "2024-07-14T16:32:00.685Z"
   },
   {
    "duration": 197,
    "start_time": "2024-07-14T16:32:00.690Z"
   },
   {
    "duration": 12,
    "start_time": "2024-07-14T16:32:00.889Z"
   },
   {
    "duration": 60,
    "start_time": "2024-07-14T16:32:00.903Z"
   },
   {
    "duration": 69,
    "start_time": "2024-07-14T16:32:00.965Z"
   },
   {
    "duration": 44,
    "start_time": "2024-07-14T16:32:01.035Z"
   },
   {
    "duration": 30,
    "start_time": "2024-07-14T16:32:01.081Z"
   },
   {
    "duration": 24,
    "start_time": "2024-07-14T16:32:01.114Z"
   },
   {
    "duration": 40,
    "start_time": "2024-07-14T16:32:01.142Z"
   },
   {
    "duration": 28,
    "start_time": "2024-07-14T16:32:01.184Z"
   },
   {
    "duration": 69,
    "start_time": "2024-07-14T16:32:01.214Z"
   },
   {
    "duration": 50,
    "start_time": "2024-07-14T16:32:01.285Z"
   },
   {
    "duration": 32,
    "start_time": "2024-07-14T16:32:01.337Z"
   },
   {
    "duration": 41,
    "start_time": "2024-07-14T16:32:01.372Z"
   },
   {
    "duration": 15,
    "start_time": "2024-07-14T16:32:01.415Z"
   },
   {
    "duration": 21,
    "start_time": "2024-07-14T16:32:01.431Z"
   },
   {
    "duration": 41,
    "start_time": "2024-07-14T16:32:01.454Z"
   },
   {
    "duration": 55,
    "start_time": "2024-07-14T16:32:01.497Z"
   },
   {
    "duration": 24,
    "start_time": "2024-07-14T16:32:01.554Z"
   },
   {
    "duration": 16,
    "start_time": "2024-07-14T16:32:01.580Z"
   },
   {
    "duration": 31,
    "start_time": "2024-07-14T16:32:01.598Z"
   },
   {
    "duration": 306,
    "start_time": "2024-07-14T16:32:01.630Z"
   },
   {
    "duration": 12,
    "start_time": "2024-07-14T16:32:01.938Z"
   },
   {
    "duration": 31,
    "start_time": "2024-07-14T16:32:01.951Z"
   },
   {
    "duration": 353,
    "start_time": "2024-07-14T16:32:01.984Z"
   },
   {
    "duration": 220,
    "start_time": "2024-07-14T16:32:02.339Z"
   },
   {
    "duration": 286,
    "start_time": "2024-07-14T16:32:02.562Z"
   },
   {
    "duration": 5,
    "start_time": "2024-07-14T16:32:02.851Z"
   },
   {
    "duration": 224,
    "start_time": "2024-07-14T16:32:02.858Z"
   },
   {
    "duration": 7,
    "start_time": "2024-07-14T16:32:03.084Z"
   },
   {
    "duration": 340,
    "start_time": "2024-07-14T16:32:03.093Z"
   },
   {
    "duration": 8,
    "start_time": "2024-07-14T16:32:03.435Z"
   },
   {
    "duration": 188,
    "start_time": "2024-07-14T16:32:03.444Z"
   },
   {
    "duration": 4,
    "start_time": "2024-07-14T16:32:03.634Z"
   },
   {
    "duration": 372,
    "start_time": "2024-07-14T16:32:03.640Z"
   },
   {
    "duration": 5,
    "start_time": "2024-07-14T16:32:04.014Z"
   },
   {
    "duration": 63,
    "start_time": "2024-07-14T16:32:04.020Z"
   },
   {
    "duration": 26,
    "start_time": "2024-07-14T16:32:04.085Z"
   },
   {
    "duration": 12,
    "start_time": "2024-07-14T16:32:04.112Z"
   },
   {
    "duration": 16,
    "start_time": "2024-07-14T16:32:04.125Z"
   },
   {
    "duration": 9,
    "start_time": "2024-07-14T16:32:04.142Z"
   },
   {
    "duration": 95,
    "start_time": "2024-07-14T16:32:04.152Z"
   },
   {
    "duration": 13,
    "start_time": "2024-07-14T16:32:04.249Z"
   },
   {
    "duration": 1059,
    "start_time": "2024-07-14T16:35:09.016Z"
   },
   {
    "duration": 3,
    "start_time": "2024-07-14T16:35:10.077Z"
   },
   {
    "duration": 127,
    "start_time": "2024-07-14T16:35:10.081Z"
   },
   {
    "duration": 11,
    "start_time": "2024-07-14T16:35:10.210Z"
   },
   {
    "duration": 31,
    "start_time": "2024-07-14T16:35:10.222Z"
   },
   {
    "duration": 18,
    "start_time": "2024-07-14T16:35:10.255Z"
   },
   {
    "duration": 27,
    "start_time": "2024-07-14T16:35:10.274Z"
   },
   {
    "duration": 21,
    "start_time": "2024-07-14T16:35:10.302Z"
   },
   {
    "duration": 25,
    "start_time": "2024-07-14T16:35:10.325Z"
   },
   {
    "duration": 34,
    "start_time": "2024-07-14T16:35:10.352Z"
   },
   {
    "duration": 16,
    "start_time": "2024-07-14T16:35:10.387Z"
   },
   {
    "duration": 22,
    "start_time": "2024-07-14T16:35:10.405Z"
   },
   {
    "duration": 26,
    "start_time": "2024-07-14T16:35:10.429Z"
   },
   {
    "duration": 13,
    "start_time": "2024-07-14T16:35:10.456Z"
   },
   {
    "duration": 23,
    "start_time": "2024-07-14T16:35:10.471Z"
   },
   {
    "duration": 19,
    "start_time": "2024-07-14T16:35:10.495Z"
   },
   {
    "duration": 11,
    "start_time": "2024-07-14T16:35:10.515Z"
   },
   {
    "duration": 28,
    "start_time": "2024-07-14T16:35:10.527Z"
   },
   {
    "duration": 31,
    "start_time": "2024-07-14T16:35:10.557Z"
   },
   {
    "duration": 12,
    "start_time": "2024-07-14T16:35:10.590Z"
   },
   {
    "duration": 28,
    "start_time": "2024-07-14T16:35:10.604Z"
   },
   {
    "duration": 29,
    "start_time": "2024-07-14T16:35:10.633Z"
   },
   {
    "duration": 273,
    "start_time": "2024-07-14T16:35:10.664Z"
   },
   {
    "duration": 11,
    "start_time": "2024-07-14T16:35:10.938Z"
   },
   {
    "duration": 19,
    "start_time": "2024-07-14T16:35:10.951Z"
   },
   {
    "duration": 297,
    "start_time": "2024-07-14T16:35:10.972Z"
   },
   {
    "duration": 200,
    "start_time": "2024-07-14T16:35:11.271Z"
   },
   {
    "duration": 311,
    "start_time": "2024-07-14T16:35:11.475Z"
   },
   {
    "duration": 5,
    "start_time": "2024-07-14T16:35:11.788Z"
   },
   {
    "duration": 189,
    "start_time": "2024-07-14T16:35:11.795Z"
   },
   {
    "duration": 7,
    "start_time": "2024-07-14T16:35:11.986Z"
   },
   {
    "duration": 313,
    "start_time": "2024-07-14T16:35:11.994Z"
   },
   {
    "duration": 12,
    "start_time": "2024-07-14T16:35:12.310Z"
   },
   {
    "duration": 169,
    "start_time": "2024-07-14T16:35:12.324Z"
   },
   {
    "duration": 3,
    "start_time": "2024-07-14T16:35:12.495Z"
   },
   {
    "duration": 326,
    "start_time": "2024-07-14T16:35:12.507Z"
   },
   {
    "duration": 5,
    "start_time": "2024-07-14T16:35:12.836Z"
   },
   {
    "duration": 49,
    "start_time": "2024-07-14T16:35:12.843Z"
   },
   {
    "duration": 34,
    "start_time": "2024-07-14T16:35:12.895Z"
   },
   {
    "duration": 12,
    "start_time": "2024-07-14T16:35:12.932Z"
   },
   {
    "duration": 8,
    "start_time": "2024-07-14T16:35:12.946Z"
   },
   {
    "duration": 7,
    "start_time": "2024-07-14T16:35:12.956Z"
   },
   {
    "duration": 44,
    "start_time": "2024-07-14T16:35:12.965Z"
   },
   {
    "duration": 11,
    "start_time": "2024-07-14T16:35:13.011Z"
   }
  ],
  "kernelspec": {
   "display_name": "Python 3 (ipykernel)",
   "language": "python",
   "name": "python3"
  },
  "language_info": {
   "codemirror_mode": {
    "name": "ipython",
    "version": 3
   },
   "file_extension": ".py",
   "mimetype": "text/x-python",
   "name": "python",
   "nbconvert_exporter": "python",
   "pygments_lexer": "ipython3",
   "version": "3.11.5"
  },
  "toc": {
   "base_numbering": 1,
   "nav_menu": {
    "height": "378px",
    "width": "522px"
   },
   "number_sections": true,
   "sideBar": true,
   "skip_h1_title": true,
   "title_cell": "Table of Contents",
   "title_sidebar": "Contents",
   "toc_cell": false,
   "toc_position": {},
   "toc_section_display": true,
   "toc_window_display": false
  }
 },
 "nbformat": 4,
 "nbformat_minor": 5
}
