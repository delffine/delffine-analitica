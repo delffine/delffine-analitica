{
 "cells": [
  {
   "cell_type": "markdown",
   "id": "bd8a5826",
   "metadata": {},
   "source": [
    "Это исследование оттока клиентов банка «Метанпромбанк». Необходимо выяснить, какие клиенты уходят из банка, составить сегменты клиентов, которые склонны уходить из банка. Предложить примеры мероприятий для возврата клиентов в банк или удержания сомневающихся.\n",
    "\n",
    "\n",
    "**Цели исследования**\n",
    "\n",
    "* Определить ключевые параметры клиентов, которые уходят из банка\n",
    "* Составить сегменты клиентов, состоящие из трех признаков и включащие не менее 500 клинетов\n",
    "* Определить сегменты, с которыми следует работать в приотиетном порядке\n",
    "\n",
    "**Ход исследования**\n",
    "\n",
    "Данные представлены в виде обезличенной базы клиентов банка. О качестве данных ничего не известно, поэтому перед основным исследованием потребуется провести обзор данных. Надо проверить даные на пропуски, дубликаты и аномалии. Если они есть, надо найти возможность исправить некорректные данные, либо отфильтровать их.\n",
    "\n",
    "Далее надо проанализировать параметры клиентов, и определить отдельные сегменты параметров, в которых отток клиентов выше среднего оттока по банку в целом. Также неоходимо проверить их корреляцию и статисчекую значимость превышения доли оттока в сегментах над долей оттока в среднем по банку. \n",
    "\n",
    "Затем необходимо укрупнить сегменты, выбрав сочетания сегментов отдельных трех параметров, чтобы в них было более 500 человек. Провести приоритизацию полученных укрупненных сегментов, для формулирования итоговых рекомендаций заказчику.\n",
    "\n",
    "Таким образом, исследоваание будет состоять из пяти этапов:\n",
    "\n",
    "- Загрузка данных и подготовка данных к анализу\n",
    "- Исследовательский анализ данных\n",
    "- Проверка корреляций параметров\n",
    "- Проверка статистической значимости превышения оттока клиентов в выделеных сегментах\n",
    "- Укрупнение сегментов\n",
    "- Приоритизация полученных укрупненных сегментов\n",
    "- Общие рекомендации\n"
   ]
  },
  {
   "cell_type": "markdown",
   "id": "5039dd11",
   "metadata": {},
   "source": [
    "## Загрузка данных"
   ]
  },
  {
   "cell_type": "code",
   "execution_count": 1,
   "id": "6f1f74b1",
   "metadata": {},
   "outputs": [],
   "source": [
    "import pandas as pd\n",
    "import matplotlib.pyplot as plt\n",
    "import math\n",
    "from scipy import stats as st\n",
    "import numpy as np\n",
    "from statsmodels.stats.proportion import proportions_ztest\n",
    "import math as mth\n",
    "import scipy.stats as stats"
   ]
  },
  {
   "cell_type": "code",
   "execution_count": 2,
   "id": "0f07bc91",
   "metadata": {},
   "outputs": [],
   "source": [
    "try: \n",
    "    data = pd.read_csv('d:/practicum/13-vypusk/bank_scrooge.csv')\n",
    "except:\n",
    "    data = pd.read_csv('/datasets/bank_scrooge.csv')"
   ]
  },
  {
   "cell_type": "code",
   "execution_count": 3,
   "id": "4505285c",
   "metadata": {},
   "outputs": [],
   "source": [
    "pd.set_option('display.float_format', '{:.2f}'.format)\n",
    "pd.set_option('display.precision', 2)\n",
    "plt.rcParams ['figure.figsize'] = [15, 8]\n",
    "pd.set_option('display.max_colwidth', None)"
   ]
  },
  {
   "cell_type": "code",
   "execution_count": 4,
   "id": "dc0b1e03",
   "metadata": {},
   "outputs": [
    {
     "data": {
      "application/javascript": [
       "IPython.OutputArea.auto_scroll_threshold = 9999;\n"
      ],
      "text/plain": [
       "<IPython.core.display.Javascript object>"
      ]
     },
     "metadata": {},
     "output_type": "display_data"
    }
   ],
   "source": [
    "%%javascript\n",
    "IPython.OutputArea.auto_scroll_threshold = 9999;"
   ]
  },
  {
   "cell_type": "code",
   "execution_count": 5,
   "id": "59ffae80",
   "metadata": {},
   "outputs": [
    {
     "data": {
      "text/html": [
       "<div>\n",
       "<style scoped>\n",
       "    .dataframe tbody tr th:only-of-type {\n",
       "        vertical-align: middle;\n",
       "    }\n",
       "\n",
       "    .dataframe tbody tr th {\n",
       "        vertical-align: top;\n",
       "    }\n",
       "\n",
       "    .dataframe thead th {\n",
       "        text-align: right;\n",
       "    }\n",
       "</style>\n",
       "<table border=\"1\" class=\"dataframe\">\n",
       "  <thead>\n",
       "    <tr style=\"text-align: right;\">\n",
       "      <th></th>\n",
       "      <th>USERID</th>\n",
       "      <th>score</th>\n",
       "      <th>city</th>\n",
       "      <th>gender</th>\n",
       "      <th>age</th>\n",
       "      <th>equity</th>\n",
       "      <th>balance</th>\n",
       "      <th>products</th>\n",
       "      <th>credit_card</th>\n",
       "      <th>last_activity</th>\n",
       "      <th>EST_SALARY</th>\n",
       "      <th>churn</th>\n",
       "    </tr>\n",
       "  </thead>\n",
       "  <tbody>\n",
       "    <tr>\n",
       "      <th>0</th>\n",
       "      <td>183012</td>\n",
       "      <td>850.00</td>\n",
       "      <td>Рыбинск</td>\n",
       "      <td>Ж</td>\n",
       "      <td>25.00</td>\n",
       "      <td>1</td>\n",
       "      <td>59214.82</td>\n",
       "      <td>2</td>\n",
       "      <td>0</td>\n",
       "      <td>1</td>\n",
       "      <td>75719.14</td>\n",
       "      <td>1</td>\n",
       "    </tr>\n",
       "    <tr>\n",
       "      <th>1</th>\n",
       "      <td>146556</td>\n",
       "      <td>861.00</td>\n",
       "      <td>Рыбинск</td>\n",
       "      <td>Ж</td>\n",
       "      <td>37.00</td>\n",
       "      <td>5</td>\n",
       "      <td>850594.33</td>\n",
       "      <td>3</td>\n",
       "      <td>1</td>\n",
       "      <td>0</td>\n",
       "      <td>86621.77</td>\n",
       "      <td>0</td>\n",
       "    </tr>\n",
       "    <tr>\n",
       "      <th>2</th>\n",
       "      <td>120722</td>\n",
       "      <td>892.00</td>\n",
       "      <td>Рыбинск</td>\n",
       "      <td>Ж</td>\n",
       "      <td>30.00</td>\n",
       "      <td>0</td>\n",
       "      <td>NaN</td>\n",
       "      <td>1</td>\n",
       "      <td>1</td>\n",
       "      <td>1</td>\n",
       "      <td>107683.34</td>\n",
       "      <td>0</td>\n",
       "    </tr>\n",
       "    <tr>\n",
       "      <th>3</th>\n",
       "      <td>225363</td>\n",
       "      <td>866.00</td>\n",
       "      <td>Ярославль</td>\n",
       "      <td>Ж</td>\n",
       "      <td>51.00</td>\n",
       "      <td>5</td>\n",
       "      <td>1524746.26</td>\n",
       "      <td>2</td>\n",
       "      <td>0</td>\n",
       "      <td>1</td>\n",
       "      <td>174423.53</td>\n",
       "      <td>1</td>\n",
       "    </tr>\n",
       "    <tr>\n",
       "      <th>4</th>\n",
       "      <td>157978</td>\n",
       "      <td>730.00</td>\n",
       "      <td>Ярославль</td>\n",
       "      <td>М</td>\n",
       "      <td>34.00</td>\n",
       "      <td>5</td>\n",
       "      <td>174.00</td>\n",
       "      <td>1</td>\n",
       "      <td>1</td>\n",
       "      <td>0</td>\n",
       "      <td>67353.16</td>\n",
       "      <td>1</td>\n",
       "    </tr>\n",
       "  </tbody>\n",
       "</table>\n",
       "</div>"
      ],
      "text/plain": [
       "   USERID  score       city gender   age  equity    balance  products  \\\n",
       "0  183012 850.00    Рыбинск      Ж 25.00       1   59214.82         2   \n",
       "1  146556 861.00    Рыбинск      Ж 37.00       5  850594.33         3   \n",
       "2  120722 892.00    Рыбинск      Ж 30.00       0        NaN         1   \n",
       "3  225363 866.00  Ярославль      Ж 51.00       5 1524746.26         2   \n",
       "4  157978 730.00  Ярославль      М 34.00       5     174.00         1   \n",
       "\n",
       "   credit_card  last_activity  EST_SALARY  churn  \n",
       "0            0              1    75719.14      1  \n",
       "1            1              0    86621.77      0  \n",
       "2            1              1   107683.34      0  \n",
       "3            0              1   174423.53      1  \n",
       "4            1              0    67353.16      1  "
      ]
     },
     "execution_count": 5,
     "metadata": {},
     "output_type": "execute_result"
    }
   ],
   "source": [
    "data.head()"
   ]
  },
  {
   "cell_type": "markdown",
   "id": "da65e620",
   "metadata": {},
   "source": [
    "## Предобработка данных"
   ]
  },
  {
   "cell_type": "code",
   "execution_count": 6,
   "id": "e6217065",
   "metadata": {},
   "outputs": [
    {
     "name": "stdout",
     "output_type": "stream",
     "text": [
      "<class 'pandas.core.frame.DataFrame'>\n",
      "RangeIndex: 10000 entries, 0 to 9999\n",
      "Data columns (total 12 columns):\n",
      " #   Column         Non-Null Count  Dtype  \n",
      "---  ------         --------------  -----  \n",
      " 0   USERID         10000 non-null  int64  \n",
      " 1   score          10000 non-null  float64\n",
      " 2   city           10000 non-null  object \n",
      " 3   gender         10000 non-null  object \n",
      " 4   age            9974 non-null   float64\n",
      " 5   equity         10000 non-null  int64  \n",
      " 6   balance        7705 non-null   float64\n",
      " 7   products       10000 non-null  int64  \n",
      " 8   credit_card    10000 non-null  int64  \n",
      " 9   last_activity  10000 non-null  int64  \n",
      " 10  EST_SALARY     10000 non-null  float64\n",
      " 11  churn          10000 non-null  int64  \n",
      "dtypes: float64(4), int64(6), object(2)\n",
      "memory usage: 937.6+ KB\n"
     ]
    }
   ],
   "source": [
    "data.info()"
   ]
  },
  {
   "cell_type": "markdown",
   "id": "d30509b1",
   "metadata": {},
   "source": [
    "### Колонки к нижнему регистру"
   ]
  },
  {
   "cell_type": "code",
   "execution_count": 7,
   "id": "4e5f7855",
   "metadata": {},
   "outputs": [],
   "source": [
    "data.columns = map(str.lower, data.columns)"
   ]
  },
  {
   "cell_type": "markdown",
   "id": "6d78f0ff",
   "metadata": {},
   "source": [
    "### Обработка пропусков"
   ]
  },
  {
   "cell_type": "markdown",
   "id": "0591c8f8",
   "metadata": {},
   "source": [
    "Пропуски есть в колонках age и balance"
   ]
  },
  {
   "cell_type": "markdown",
   "id": "c97e1bb4",
   "metadata": {},
   "source": [
    "#### Пропуски в колонке age"
   ]
  },
  {
   "cell_type": "code",
   "execution_count": 8,
   "id": "3d702626",
   "metadata": {},
   "outputs": [
    {
     "data": {
      "text/html": [
       "<div>\n",
       "<style scoped>\n",
       "    .dataframe tbody tr th:only-of-type {\n",
       "        vertical-align: middle;\n",
       "    }\n",
       "\n",
       "    .dataframe tbody tr th {\n",
       "        vertical-align: top;\n",
       "    }\n",
       "\n",
       "    .dataframe thead th {\n",
       "        text-align: right;\n",
       "    }\n",
       "</style>\n",
       "<table border=\"1\" class=\"dataframe\">\n",
       "  <thead>\n",
       "    <tr style=\"text-align: right;\">\n",
       "      <th></th>\n",
       "      <th>userid</th>\n",
       "      <th>score</th>\n",
       "      <th>city</th>\n",
       "      <th>gender</th>\n",
       "      <th>age</th>\n",
       "      <th>equity</th>\n",
       "      <th>balance</th>\n",
       "      <th>products</th>\n",
       "      <th>credit_card</th>\n",
       "      <th>last_activity</th>\n",
       "      <th>est_salary</th>\n",
       "      <th>churn</th>\n",
       "    </tr>\n",
       "  </thead>\n",
       "  <tbody>\n",
       "    <tr>\n",
       "      <th>1247</th>\n",
       "      <td>228075</td>\n",
       "      <td>932.00</td>\n",
       "      <td>Ярославль</td>\n",
       "      <td>М</td>\n",
       "      <td>NaN</td>\n",
       "      <td>5</td>\n",
       "      <td>7601719.20</td>\n",
       "      <td>2</td>\n",
       "      <td>1</td>\n",
       "      <td>1</td>\n",
       "      <td>408121.16</td>\n",
       "      <td>0</td>\n",
       "    </tr>\n",
       "    <tr>\n",
       "      <th>2165</th>\n",
       "      <td>187635</td>\n",
       "      <td>692.00</td>\n",
       "      <td>Рыбинск</td>\n",
       "      <td>Ж</td>\n",
       "      <td>NaN</td>\n",
       "      <td>0</td>\n",
       "      <td>NaN</td>\n",
       "      <td>1</td>\n",
       "      <td>1</td>\n",
       "      <td>1</td>\n",
       "      <td>160368.82</td>\n",
       "      <td>0</td>\n",
       "    </tr>\n",
       "    <tr>\n",
       "      <th>2444</th>\n",
       "      <td>221156</td>\n",
       "      <td>913.00</td>\n",
       "      <td>Ярославль</td>\n",
       "      <td>М</td>\n",
       "      <td>NaN</td>\n",
       "      <td>0</td>\n",
       "      <td>NaN</td>\n",
       "      <td>1</td>\n",
       "      <td>1</td>\n",
       "      <td>1</td>\n",
       "      <td>135693.24</td>\n",
       "      <td>0</td>\n",
       "    </tr>\n",
       "    <tr>\n",
       "      <th>3091</th>\n",
       "      <td>138660</td>\n",
       "      <td>836.00</td>\n",
       "      <td>Ростов</td>\n",
       "      <td>Ж</td>\n",
       "      <td>NaN</td>\n",
       "      <td>5</td>\n",
       "      <td>294315.53</td>\n",
       "      <td>2</td>\n",
       "      <td>0</td>\n",
       "      <td>1</td>\n",
       "      <td>63310.22</td>\n",
       "      <td>1</td>\n",
       "    </tr>\n",
       "    <tr>\n",
       "      <th>4912</th>\n",
       "      <td>210674</td>\n",
       "      <td>834.00</td>\n",
       "      <td>Рыбинск</td>\n",
       "      <td>М</td>\n",
       "      <td>NaN</td>\n",
       "      <td>1</td>\n",
       "      <td>238330.52</td>\n",
       "      <td>2</td>\n",
       "      <td>0</td>\n",
       "      <td>1</td>\n",
       "      <td>93775.06</td>\n",
       "      <td>0</td>\n",
       "    </tr>\n",
       "    <tr>\n",
       "      <th>5470</th>\n",
       "      <td>218868</td>\n",
       "      <td>827.00</td>\n",
       "      <td>Рыбинск</td>\n",
       "      <td>Ж</td>\n",
       "      <td>NaN</td>\n",
       "      <td>4</td>\n",
       "      <td>448959.07</td>\n",
       "      <td>2</td>\n",
       "      <td>1</td>\n",
       "      <td>1</td>\n",
       "      <td>67835.95</td>\n",
       "      <td>0</td>\n",
       "    </tr>\n",
       "    <tr>\n",
       "      <th>5495</th>\n",
       "      <td>151662</td>\n",
       "      <td>884.00</td>\n",
       "      <td>Рыбинск</td>\n",
       "      <td>Ж</td>\n",
       "      <td>NaN</td>\n",
       "      <td>0</td>\n",
       "      <td>NaN</td>\n",
       "      <td>1</td>\n",
       "      <td>1</td>\n",
       "      <td>1</td>\n",
       "      <td>137500.77</td>\n",
       "      <td>0</td>\n",
       "    </tr>\n",
       "    <tr>\n",
       "      <th>7236</th>\n",
       "      <td>210135</td>\n",
       "      <td>908.00</td>\n",
       "      <td>Рыбинск</td>\n",
       "      <td>Ж</td>\n",
       "      <td>NaN</td>\n",
       "      <td>4</td>\n",
       "      <td>1120340.31</td>\n",
       "      <td>3</td>\n",
       "      <td>1</td>\n",
       "      <td>1</td>\n",
       "      <td>85002.15</td>\n",
       "      <td>0</td>\n",
       "    </tr>\n",
       "    <tr>\n",
       "      <th>7248</th>\n",
       "      <td>219343</td>\n",
       "      <td>920.00</td>\n",
       "      <td>Рыбинск</td>\n",
       "      <td>Ж</td>\n",
       "      <td>NaN</td>\n",
       "      <td>0</td>\n",
       "      <td>NaN</td>\n",
       "      <td>1</td>\n",
       "      <td>1</td>\n",
       "      <td>0</td>\n",
       "      <td>159248.67</td>\n",
       "      <td>0</td>\n",
       "    </tr>\n",
       "    <tr>\n",
       "      <th>7345</th>\n",
       "      <td>184913</td>\n",
       "      <td>829.00</td>\n",
       "      <td>Ярославль</td>\n",
       "      <td>Ж</td>\n",
       "      <td>NaN</td>\n",
       "      <td>3</td>\n",
       "      <td>188648.77</td>\n",
       "      <td>2</td>\n",
       "      <td>0</td>\n",
       "      <td>1</td>\n",
       "      <td>75206.90</td>\n",
       "      <td>0</td>\n",
       "    </tr>\n",
       "    <tr>\n",
       "      <th>7409</th>\n",
       "      <td>214031</td>\n",
       "      <td>777.00</td>\n",
       "      <td>Ярославль</td>\n",
       "      <td>М</td>\n",
       "      <td>NaN</td>\n",
       "      <td>2</td>\n",
       "      <td>171510.23</td>\n",
       "      <td>1</td>\n",
       "      <td>1</td>\n",
       "      <td>1</td>\n",
       "      <td>75409.63</td>\n",
       "      <td>0</td>\n",
       "    </tr>\n",
       "    <tr>\n",
       "      <th>8015</th>\n",
       "      <td>198635</td>\n",
       "      <td>670.00</td>\n",
       "      <td>Ярославль</td>\n",
       "      <td>Ж</td>\n",
       "      <td>NaN</td>\n",
       "      <td>0</td>\n",
       "      <td>NaN</td>\n",
       "      <td>1</td>\n",
       "      <td>1</td>\n",
       "      <td>1</td>\n",
       "      <td>168699.33</td>\n",
       "      <td>0</td>\n",
       "    </tr>\n",
       "    <tr>\n",
       "      <th>8070</th>\n",
       "      <td>226550</td>\n",
       "      <td>940.00</td>\n",
       "      <td>Рыбинск</td>\n",
       "      <td>М</td>\n",
       "      <td>NaN</td>\n",
       "      <td>0</td>\n",
       "      <td>NaN</td>\n",
       "      <td>1</td>\n",
       "      <td>0</td>\n",
       "      <td>1</td>\n",
       "      <td>147696.95</td>\n",
       "      <td>0</td>\n",
       "    </tr>\n",
       "    <tr>\n",
       "      <th>8293</th>\n",
       "      <td>216848</td>\n",
       "      <td>930.00</td>\n",
       "      <td>Ярославль</td>\n",
       "      <td>М</td>\n",
       "      <td>NaN</td>\n",
       "      <td>0</td>\n",
       "      <td>NaN</td>\n",
       "      <td>1</td>\n",
       "      <td>1</td>\n",
       "      <td>1</td>\n",
       "      <td>199542.51</td>\n",
       "      <td>0</td>\n",
       "    </tr>\n",
       "    <tr>\n",
       "      <th>8385</th>\n",
       "      <td>206759</td>\n",
       "      <td>915.00</td>\n",
       "      <td>Рыбинск</td>\n",
       "      <td>М</td>\n",
       "      <td>NaN</td>\n",
       "      <td>0</td>\n",
       "      <td>NaN</td>\n",
       "      <td>1</td>\n",
       "      <td>1</td>\n",
       "      <td>0</td>\n",
       "      <td>71179.53</td>\n",
       "      <td>0</td>\n",
       "    </tr>\n",
       "    <tr>\n",
       "      <th>8449</th>\n",
       "      <td>210898</td>\n",
       "      <td>805.00</td>\n",
       "      <td>Ярославль</td>\n",
       "      <td>Ж</td>\n",
       "      <td>NaN</td>\n",
       "      <td>0</td>\n",
       "      <td>NaN</td>\n",
       "      <td>1</td>\n",
       "      <td>0</td>\n",
       "      <td>1</td>\n",
       "      <td>922080.25</td>\n",
       "      <td>0</td>\n",
       "    </tr>\n",
       "    <tr>\n",
       "      <th>8632</th>\n",
       "      <td>221197</td>\n",
       "      <td>893.00</td>\n",
       "      <td>Ярославль</td>\n",
       "      <td>М</td>\n",
       "      <td>NaN</td>\n",
       "      <td>0</td>\n",
       "      <td>NaN</td>\n",
       "      <td>1</td>\n",
       "      <td>1</td>\n",
       "      <td>0</td>\n",
       "      <td>173929.92</td>\n",
       "      <td>0</td>\n",
       "    </tr>\n",
       "    <tr>\n",
       "      <th>8785</th>\n",
       "      <td>127440</td>\n",
       "      <td>663.00</td>\n",
       "      <td>Ярославль</td>\n",
       "      <td>М</td>\n",
       "      <td>NaN</td>\n",
       "      <td>0</td>\n",
       "      <td>NaN</td>\n",
       "      <td>1</td>\n",
       "      <td>1</td>\n",
       "      <td>1</td>\n",
       "      <td>117197.56</td>\n",
       "      <td>0</td>\n",
       "    </tr>\n",
       "    <tr>\n",
       "      <th>9104</th>\n",
       "      <td>222480</td>\n",
       "      <td>776.00</td>\n",
       "      <td>Рыбинск</td>\n",
       "      <td>Ж</td>\n",
       "      <td>NaN</td>\n",
       "      <td>5</td>\n",
       "      <td>796735.09</td>\n",
       "      <td>1</td>\n",
       "      <td>1</td>\n",
       "      <td>1</td>\n",
       "      <td>55073.63</td>\n",
       "      <td>0</td>\n",
       "    </tr>\n",
       "    <tr>\n",
       "      <th>9301</th>\n",
       "      <td>202983</td>\n",
       "      <td>942.00</td>\n",
       "      <td>Рыбинск</td>\n",
       "      <td>Ж</td>\n",
       "      <td>NaN</td>\n",
       "      <td>0</td>\n",
       "      <td>NaN</td>\n",
       "      <td>1</td>\n",
       "      <td>1</td>\n",
       "      <td>1</td>\n",
       "      <td>163804.73</td>\n",
       "      <td>0</td>\n",
       "    </tr>\n",
       "    <tr>\n",
       "      <th>9380</th>\n",
       "      <td>187459</td>\n",
       "      <td>894.00</td>\n",
       "      <td>Рыбинск</td>\n",
       "      <td>М</td>\n",
       "      <td>NaN</td>\n",
       "      <td>0</td>\n",
       "      <td>NaN</td>\n",
       "      <td>1</td>\n",
       "      <td>1</td>\n",
       "      <td>0</td>\n",
       "      <td>178012.28</td>\n",
       "      <td>0</td>\n",
       "    </tr>\n",
       "    <tr>\n",
       "      <th>9457</th>\n",
       "      <td>141945</td>\n",
       "      <td>929.00</td>\n",
       "      <td>Ярославль</td>\n",
       "      <td>М</td>\n",
       "      <td>NaN</td>\n",
       "      <td>0</td>\n",
       "      <td>NaN</td>\n",
       "      <td>1</td>\n",
       "      <td>1</td>\n",
       "      <td>0</td>\n",
       "      <td>381868.89</td>\n",
       "      <td>0</td>\n",
       "    </tr>\n",
       "    <tr>\n",
       "      <th>9632</th>\n",
       "      <td>185829</td>\n",
       "      <td>927.00</td>\n",
       "      <td>Ярославль</td>\n",
       "      <td>М</td>\n",
       "      <td>NaN</td>\n",
       "      <td>0</td>\n",
       "      <td>NaN</td>\n",
       "      <td>1</td>\n",
       "      <td>1</td>\n",
       "      <td>0</td>\n",
       "      <td>231254.86</td>\n",
       "      <td>0</td>\n",
       "    </tr>\n",
       "    <tr>\n",
       "      <th>9634</th>\n",
       "      <td>221809</td>\n",
       "      <td>917.00</td>\n",
       "      <td>Ярославль</td>\n",
       "      <td>М</td>\n",
       "      <td>NaN</td>\n",
       "      <td>0</td>\n",
       "      <td>NaN</td>\n",
       "      <td>1</td>\n",
       "      <td>1</td>\n",
       "      <td>1</td>\n",
       "      <td>192644.15</td>\n",
       "      <td>0</td>\n",
       "    </tr>\n",
       "    <tr>\n",
       "      <th>9667</th>\n",
       "      <td>163657</td>\n",
       "      <td>849.00</td>\n",
       "      <td>Ярославль</td>\n",
       "      <td>М</td>\n",
       "      <td>NaN</td>\n",
       "      <td>4</td>\n",
       "      <td>1254013.85</td>\n",
       "      <td>2</td>\n",
       "      <td>1</td>\n",
       "      <td>1</td>\n",
       "      <td>119106.67</td>\n",
       "      <td>0</td>\n",
       "    </tr>\n",
       "    <tr>\n",
       "      <th>9819</th>\n",
       "      <td>140934</td>\n",
       "      <td>832.00</td>\n",
       "      <td>Рыбинск</td>\n",
       "      <td>Ж</td>\n",
       "      <td>NaN</td>\n",
       "      <td>3</td>\n",
       "      <td>385763.16</td>\n",
       "      <td>2</td>\n",
       "      <td>0</td>\n",
       "      <td>1</td>\n",
       "      <td>59651.35</td>\n",
       "      <td>0</td>\n",
       "    </tr>\n",
       "  </tbody>\n",
       "</table>\n",
       "</div>"
      ],
      "text/plain": [
       "      userid  score       city gender  age  equity    balance  products  \\\n",
       "1247  228075 932.00  Ярославль      М  NaN       5 7601719.20         2   \n",
       "2165  187635 692.00    Рыбинск      Ж  NaN       0        NaN         1   \n",
       "2444  221156 913.00  Ярославль      М  NaN       0        NaN         1   \n",
       "3091  138660 836.00     Ростов      Ж  NaN       5  294315.53         2   \n",
       "4912  210674 834.00    Рыбинск      М  NaN       1  238330.52         2   \n",
       "5470  218868 827.00    Рыбинск      Ж  NaN       4  448959.07         2   \n",
       "5495  151662 884.00    Рыбинск      Ж  NaN       0        NaN         1   \n",
       "7236  210135 908.00    Рыбинск      Ж  NaN       4 1120340.31         3   \n",
       "7248  219343 920.00    Рыбинск      Ж  NaN       0        NaN         1   \n",
       "7345  184913 829.00  Ярославль      Ж  NaN       3  188648.77         2   \n",
       "7409  214031 777.00  Ярославль      М  NaN       2  171510.23         1   \n",
       "8015  198635 670.00  Ярославль      Ж  NaN       0        NaN         1   \n",
       "8070  226550 940.00    Рыбинск      М  NaN       0        NaN         1   \n",
       "8293  216848 930.00  Ярославль      М  NaN       0        NaN         1   \n",
       "8385  206759 915.00    Рыбинск      М  NaN       0        NaN         1   \n",
       "8449  210898 805.00  Ярославль      Ж  NaN       0        NaN         1   \n",
       "8632  221197 893.00  Ярославль      М  NaN       0        NaN         1   \n",
       "8785  127440 663.00  Ярославль      М  NaN       0        NaN         1   \n",
       "9104  222480 776.00    Рыбинск      Ж  NaN       5  796735.09         1   \n",
       "9301  202983 942.00    Рыбинск      Ж  NaN       0        NaN         1   \n",
       "9380  187459 894.00    Рыбинск      М  NaN       0        NaN         1   \n",
       "9457  141945 929.00  Ярославль      М  NaN       0        NaN         1   \n",
       "9632  185829 927.00  Ярославль      М  NaN       0        NaN         1   \n",
       "9634  221809 917.00  Ярославль      М  NaN       0        NaN         1   \n",
       "9667  163657 849.00  Ярославль      М  NaN       4 1254013.85         2   \n",
       "9819  140934 832.00    Рыбинск      Ж  NaN       3  385763.16         2   \n",
       "\n",
       "      credit_card  last_activity  est_salary  churn  \n",
       "1247            1              1   408121.16      0  \n",
       "2165            1              1   160368.82      0  \n",
       "2444            1              1   135693.24      0  \n",
       "3091            0              1    63310.22      1  \n",
       "4912            0              1    93775.06      0  \n",
       "5470            1              1    67835.95      0  \n",
       "5495            1              1   137500.77      0  \n",
       "7236            1              1    85002.15      0  \n",
       "7248            1              0   159248.67      0  \n",
       "7345            0              1    75206.90      0  \n",
       "7409            1              1    75409.63      0  \n",
       "8015            1              1   168699.33      0  \n",
       "8070            0              1   147696.95      0  \n",
       "8293            1              1   199542.51      0  \n",
       "8385            1              0    71179.53      0  \n",
       "8449            0              1   922080.25      0  \n",
       "8632            1              0   173929.92      0  \n",
       "8785            1              1   117197.56      0  \n",
       "9104            1              1    55073.63      0  \n",
       "9301            1              1   163804.73      0  \n",
       "9380            1              0   178012.28      0  \n",
       "9457            1              0   381868.89      0  \n",
       "9632            1              0   231254.86      0  \n",
       "9634            1              1   192644.15      0  \n",
       "9667            1              1   119106.67      0  \n",
       "9819            0              1    59651.35      0  "
      ]
     },
     "execution_count": 8,
     "metadata": {},
     "output_type": "execute_result"
    }
   ],
   "source": [
    "data[data['age'].isna()]"
   ]
  },
  {
   "cell_type": "markdown",
   "id": "64ca4021",
   "metadata": {},
   "source": [
    "26 пропусков в колонке возраст клиента. Это ошибки типа MAR (Missing At Random / Отсутствует случайно). Возможно, клиенты не указали возраст или менеджер его не вбил. С этими пропусками ничего нельзя сделать. Как либо восстановить - нельзя. В распределении пропусков каких либо закономерностей не усматривается, то есть они случайны - можно их отбрасывать Так как их мало, предлагаю просто удалить. \n",
    "\n",
    "Колонка имеет тип float, хотя приведены целое количество лет. Необходимо перевести в int, но с целочисленныи в вычислениях могут быть проблемы. Предлагаю оставить тип float, тут он ни на что не влияет."
   ]
  },
  {
   "cell_type": "code",
   "execution_count": 9,
   "id": "e195e55a",
   "metadata": {},
   "outputs": [],
   "source": [
    "data = data.dropna(subset=['age'])\n",
    "#data['age'] = data['age'].astype('Int64') #НЕ стоит переводить !!! потом предупреждения-ошибки лезут =((("
   ]
  },
  {
   "cell_type": "markdown",
   "id": "249c068c",
   "metadata": {},
   "source": [
    "#### Пропуски в колонке balance"
   ]
  },
  {
   "cell_type": "markdown",
   "id": "daac689f",
   "metadata": {},
   "source": [
    "2300 пропусков в колонке balance. Это ошибка типа MNAR (Missing Not At Random / Отсутствует не случайно).  Возможно, произошел сбой при экспорте данных.  \n",
    "\n",
    "Проверка, есть ли нули в балансе дает всего две строчки. Наверняка, пропуски - это нули. Предлагаю заменить пропуски на нули."
   ]
  },
  {
   "cell_type": "code",
   "execution_count": 10,
   "id": "248745f3",
   "metadata": {},
   "outputs": [
    {
     "data": {
      "text/html": [
       "<div>\n",
       "<style scoped>\n",
       "    .dataframe tbody tr th:only-of-type {\n",
       "        vertical-align: middle;\n",
       "    }\n",
       "\n",
       "    .dataframe tbody tr th {\n",
       "        vertical-align: top;\n",
       "    }\n",
       "\n",
       "    .dataframe thead th {\n",
       "        text-align: right;\n",
       "    }\n",
       "</style>\n",
       "<table border=\"1\" class=\"dataframe\">\n",
       "  <thead>\n",
       "    <tr style=\"text-align: right;\">\n",
       "      <th></th>\n",
       "      <th>userid</th>\n",
       "      <th>score</th>\n",
       "      <th>city</th>\n",
       "      <th>gender</th>\n",
       "      <th>age</th>\n",
       "      <th>equity</th>\n",
       "      <th>balance</th>\n",
       "      <th>products</th>\n",
       "      <th>credit_card</th>\n",
       "      <th>last_activity</th>\n",
       "      <th>est_salary</th>\n",
       "      <th>churn</th>\n",
       "    </tr>\n",
       "  </thead>\n",
       "  <tbody>\n",
       "    <tr>\n",
       "      <th>3900</th>\n",
       "      <td>179831</td>\n",
       "      <td>730.00</td>\n",
       "      <td>Ярославль</td>\n",
       "      <td>М</td>\n",
       "      <td>18.00</td>\n",
       "      <td>0</td>\n",
       "      <td>0.00</td>\n",
       "      <td>2</td>\n",
       "      <td>1</td>\n",
       "      <td>1</td>\n",
       "      <td>64548.33</td>\n",
       "      <td>0</td>\n",
       "    </tr>\n",
       "    <tr>\n",
       "      <th>6757</th>\n",
       "      <td>148456</td>\n",
       "      <td>813.00</td>\n",
       "      <td>Ярославль</td>\n",
       "      <td>М</td>\n",
       "      <td>20.00</td>\n",
       "      <td>2</td>\n",
       "      <td>0.00</td>\n",
       "      <td>2</td>\n",
       "      <td>1</td>\n",
       "      <td>0</td>\n",
       "      <td>23876.51</td>\n",
       "      <td>0</td>\n",
       "    </tr>\n",
       "  </tbody>\n",
       "</table>\n",
       "</div>"
      ],
      "text/plain": [
       "      userid  score       city gender   age  equity  balance  products  \\\n",
       "3900  179831 730.00  Ярославль      М 18.00       0     0.00         2   \n",
       "6757  148456 813.00  Ярославль      М 20.00       2     0.00         2   \n",
       "\n",
       "      credit_card  last_activity  est_salary  churn  \n",
       "3900            1              1    64548.33      0  \n",
       "6757            1              0    23876.51      0  "
      ]
     },
     "execution_count": 10,
     "metadata": {},
     "output_type": "execute_result"
    }
   ],
   "source": [
    "data.query('balance == 0')"
   ]
  },
  {
   "cell_type": "code",
   "execution_count": 11,
   "id": "23e067bb",
   "metadata": {},
   "outputs": [],
   "source": [
    "#data['balance'] = data['balance'].fillna(0)"
   ]
  },
  {
   "cell_type": "markdown",
   "id": "e03ff25a",
   "metadata": {},
   "source": [
    "### Аномальные значения"
   ]
  },
  {
   "cell_type": "code",
   "execution_count": 12,
   "id": "14d19140",
   "metadata": {},
   "outputs": [
    {
     "data": {
      "text/html": [
       "<style type=\"text/css\">\n",
       "</style>\n",
       "<table id=\"T_1584d\">\n",
       "  <thead>\n",
       "    <tr>\n",
       "      <th class=\"blank level0\" >&nbsp;</th>\n",
       "      <th id=\"T_1584d_level0_col0\" class=\"col_heading level0 col0\" >userid</th>\n",
       "      <th id=\"T_1584d_level0_col1\" class=\"col_heading level0 col1\" >score</th>\n",
       "      <th id=\"T_1584d_level0_col2\" class=\"col_heading level0 col2\" >age</th>\n",
       "      <th id=\"T_1584d_level0_col3\" class=\"col_heading level0 col3\" >equity</th>\n",
       "      <th id=\"T_1584d_level0_col4\" class=\"col_heading level0 col4\" >balance</th>\n",
       "      <th id=\"T_1584d_level0_col5\" class=\"col_heading level0 col5\" >products</th>\n",
       "      <th id=\"T_1584d_level0_col6\" class=\"col_heading level0 col6\" >credit_card</th>\n",
       "      <th id=\"T_1584d_level0_col7\" class=\"col_heading level0 col7\" >last_activity</th>\n",
       "      <th id=\"T_1584d_level0_col8\" class=\"col_heading level0 col8\" >est_salary</th>\n",
       "      <th id=\"T_1584d_level0_col9\" class=\"col_heading level0 col9\" >churn</th>\n",
       "    </tr>\n",
       "  </thead>\n",
       "  <tbody>\n",
       "    <tr>\n",
       "      <th id=\"T_1584d_level0_row0\" class=\"row_heading level0 row0\" >count</th>\n",
       "      <td id=\"T_1584d_row0_col0\" class=\"data row0 col0\" >9974</td>\n",
       "      <td id=\"T_1584d_row0_col1\" class=\"data row0 col1\" >9974</td>\n",
       "      <td id=\"T_1584d_row0_col2\" class=\"data row0 col2\" >9974</td>\n",
       "      <td id=\"T_1584d_row0_col3\" class=\"data row0 col3\" >9974</td>\n",
       "      <td id=\"T_1584d_row0_col4\" class=\"data row0 col4\" >7695</td>\n",
       "      <td id=\"T_1584d_row0_col5\" class=\"data row0 col5\" >9974</td>\n",
       "      <td id=\"T_1584d_row0_col6\" class=\"data row0 col6\" >9974</td>\n",
       "      <td id=\"T_1584d_row0_col7\" class=\"data row0 col7\" >9974</td>\n",
       "      <td id=\"T_1584d_row0_col8\" class=\"data row0 col8\" >9974</td>\n",
       "      <td id=\"T_1584d_row0_col9\" class=\"data row0 col9\" >9974</td>\n",
       "    </tr>\n",
       "    <tr>\n",
       "      <th id=\"T_1584d_level0_row1\" class=\"row_heading level0 row1\" >mean</th>\n",
       "      <td id=\"T_1584d_row1_col0\" class=\"data row1 col0\" >171755</td>\n",
       "      <td id=\"T_1584d_row1_col1\" class=\"data row1 col1\" >849</td>\n",
       "      <td id=\"T_1584d_row1_col2\" class=\"data row1 col2\" >43</td>\n",
       "      <td id=\"T_1584d_row1_col3\" class=\"data row1 col3\" >3</td>\n",
       "      <td id=\"T_1584d_row1_col4\" class=\"data row1 col4\" >827246</td>\n",
       "      <td id=\"T_1584d_row1_col5\" class=\"data row1 col5\" >2</td>\n",
       "      <td id=\"T_1584d_row1_col6\" class=\"data row1 col6\" >1</td>\n",
       "      <td id=\"T_1584d_row1_col7\" class=\"data row1 col7\" >1</td>\n",
       "      <td id=\"T_1584d_row1_col8\" class=\"data row1 col8\" >147787</td>\n",
       "      <td id=\"T_1584d_row1_col9\" class=\"data row1 col9\" >0</td>\n",
       "    </tr>\n",
       "    <tr>\n",
       "      <th id=\"T_1584d_level0_row2\" class=\"row_heading level0 row2\" >std</th>\n",
       "      <td id=\"T_1584d_row2_col0\" class=\"data row2 col0\" >33696</td>\n",
       "      <td id=\"T_1584d_row2_col1\" class=\"data row2 col1\" >65</td>\n",
       "      <td id=\"T_1584d_row2_col2\" class=\"data row2 col2\" >12</td>\n",
       "      <td id=\"T_1584d_row2_col3\" class=\"data row2 col3\" >2</td>\n",
       "      <td id=\"T_1584d_row2_col4\" class=\"data row2 col4\" >1980327</td>\n",
       "      <td id=\"T_1584d_row2_col5\" class=\"data row2 col5\" >1</td>\n",
       "      <td id=\"T_1584d_row2_col6\" class=\"data row2 col6\" >0</td>\n",
       "      <td id=\"T_1584d_row2_col7\" class=\"data row2 col7\" >0</td>\n",
       "      <td id=\"T_1584d_row2_col8\" class=\"data row2 col8\" >139286</td>\n",
       "      <td id=\"T_1584d_row2_col9\" class=\"data row2 col9\" >0</td>\n",
       "    </tr>\n",
       "    <tr>\n",
       "      <th id=\"T_1584d_level0_row3\" class=\"row_heading level0 row3\" >min</th>\n",
       "      <td id=\"T_1584d_row3_col0\" class=\"data row3 col0\" >94561</td>\n",
       "      <td id=\"T_1584d_row3_col1\" class=\"data row3 col1\" >642</td>\n",
       "      <td id=\"T_1584d_row3_col2\" class=\"data row3 col2\" >18</td>\n",
       "      <td id=\"T_1584d_row3_col3\" class=\"data row3 col3\" >0</td>\n",
       "      <td id=\"T_1584d_row3_col4\" class=\"data row3 col4\" >0</td>\n",
       "      <td id=\"T_1584d_row3_col5\" class=\"data row3 col5\" >0</td>\n",
       "      <td id=\"T_1584d_row3_col6\" class=\"data row3 col6\" >0</td>\n",
       "      <td id=\"T_1584d_row3_col7\" class=\"data row3 col7\" >0</td>\n",
       "      <td id=\"T_1584d_row3_col8\" class=\"data row3 col8\" >2546</td>\n",
       "      <td id=\"T_1584d_row3_col9\" class=\"data row3 col9\" >0</td>\n",
       "    </tr>\n",
       "    <tr>\n",
       "      <th id=\"T_1584d_level0_row4\" class=\"row_heading level0 row4\" >25%</th>\n",
       "      <td id=\"T_1584d_row4_col0\" class=\"data row4 col0\" >142760</td>\n",
       "      <td id=\"T_1584d_row4_col1\" class=\"data row4 col1\" >802</td>\n",
       "      <td id=\"T_1584d_row4_col2\" class=\"data row4 col2\" >33</td>\n",
       "      <td id=\"T_1584d_row4_col3\" class=\"data row4 col3\" >0</td>\n",
       "      <td id=\"T_1584d_row4_col4\" class=\"data row4 col4\" >295699</td>\n",
       "      <td id=\"T_1584d_row4_col5\" class=\"data row4 col5\" >1</td>\n",
       "      <td id=\"T_1584d_row4_col6\" class=\"data row4 col6\" >0</td>\n",
       "      <td id=\"T_1584d_row4_col7\" class=\"data row4 col7\" >0</td>\n",
       "      <td id=\"T_1584d_row4_col8\" class=\"data row4 col8\" >75252</td>\n",
       "      <td id=\"T_1584d_row4_col9\" class=\"data row4 col9\" >0</td>\n",
       "    </tr>\n",
       "    <tr>\n",
       "      <th id=\"T_1584d_level0_row5\" class=\"row_heading level0 row5\" >50%</th>\n",
       "      <td id=\"T_1584d_row5_col0\" class=\"data row5 col0\" >172643</td>\n",
       "      <td id=\"T_1584d_row5_col1\" class=\"data row5 col1\" >853</td>\n",
       "      <td id=\"T_1584d_row5_col2\" class=\"data row5 col2\" >40</td>\n",
       "      <td id=\"T_1584d_row5_col3\" class=\"data row5 col3\" >3</td>\n",
       "      <td id=\"T_1584d_row5_col4\" class=\"data row5 col4\" >524295</td>\n",
       "      <td id=\"T_1584d_row5_col5\" class=\"data row5 col5\" >2</td>\n",
       "      <td id=\"T_1584d_row5_col6\" class=\"data row5 col6\" >1</td>\n",
       "      <td id=\"T_1584d_row5_col7\" class=\"data row5 col7\" >1</td>\n",
       "      <td id=\"T_1584d_row5_col8\" class=\"data row5 col8\" >119627</td>\n",
       "      <td id=\"T_1584d_row5_col9\" class=\"data row5 col9\" >0</td>\n",
       "    </tr>\n",
       "    <tr>\n",
       "      <th id=\"T_1584d_level0_row6\" class=\"row_heading level0 row6\" >75%</th>\n",
       "      <td id=\"T_1584d_row6_col0\" class=\"data row6 col0\" >201164</td>\n",
       "      <td id=\"T_1584d_row6_col1\" class=\"data row6 col1\" >900</td>\n",
       "      <td id=\"T_1584d_row6_col2\" class=\"data row6 col2\" >51</td>\n",
       "      <td id=\"T_1584d_row6_col3\" class=\"data row6 col3\" >4</td>\n",
       "      <td id=\"T_1584d_row6_col4\" class=\"data row6 col4\" >980051</td>\n",
       "      <td id=\"T_1584d_row6_col5\" class=\"data row6 col5\" >2</td>\n",
       "      <td id=\"T_1584d_row6_col6\" class=\"data row6 col6\" >1</td>\n",
       "      <td id=\"T_1584d_row6_col7\" class=\"data row6 col7\" >1</td>\n",
       "      <td id=\"T_1584d_row6_col8\" class=\"data row6 col8\" >174500</td>\n",
       "      <td id=\"T_1584d_row6_col9\" class=\"data row6 col9\" >0</td>\n",
       "    </tr>\n",
       "    <tr>\n",
       "      <th id=\"T_1584d_level0_row7\" class=\"row_heading level0 row7\" >max</th>\n",
       "      <td id=\"T_1584d_row7_col0\" class=\"data row7 col0\" >229145</td>\n",
       "      <td id=\"T_1584d_row7_col1\" class=\"data row7 col1\" >1000</td>\n",
       "      <td id=\"T_1584d_row7_col2\" class=\"data row7 col2\" >86</td>\n",
       "      <td id=\"T_1584d_row7_col3\" class=\"data row7 col3\" >9</td>\n",
       "      <td id=\"T_1584d_row7_col4\" class=\"data row7 col4\" >119113552</td>\n",
       "      <td id=\"T_1584d_row7_col5\" class=\"data row7 col5\" >5</td>\n",
       "      <td id=\"T_1584d_row7_col6\" class=\"data row7 col6\" >1</td>\n",
       "      <td id=\"T_1584d_row7_col7\" class=\"data row7 col7\" >1</td>\n",
       "      <td id=\"T_1584d_row7_col8\" class=\"data row7 col8\" >1395064</td>\n",
       "      <td id=\"T_1584d_row7_col9\" class=\"data row7 col9\" >1</td>\n",
       "    </tr>\n",
       "  </tbody>\n",
       "</table>\n"
      ],
      "text/plain": [
       "<pandas.io.formats.style.Styler at 0x20e63167590>"
      ]
     },
     "execution_count": 12,
     "metadata": {},
     "output_type": "execute_result"
    }
   ],
   "source": [
    "data.describe().style.format('{:.0f}')"
   ]
  },
  {
   "cell_type": "markdown",
   "id": "19a6e0cc",
   "metadata": {},
   "source": [
    "Аномальным выглядит products = 0. У клиента банка должен быть хоть какойто продукт, иначе чето это за клиент?"
   ]
  },
  {
   "cell_type": "code",
   "execution_count": 13,
   "id": "4ef317e7",
   "metadata": {},
   "outputs": [
    {
     "data": {
      "text/html": [
       "<div>\n",
       "<style scoped>\n",
       "    .dataframe tbody tr th:only-of-type {\n",
       "        vertical-align: middle;\n",
       "    }\n",
       "\n",
       "    .dataframe tbody tr th {\n",
       "        vertical-align: top;\n",
       "    }\n",
       "\n",
       "    .dataframe thead th {\n",
       "        text-align: right;\n",
       "    }\n",
       "</style>\n",
       "<table border=\"1\" class=\"dataframe\">\n",
       "  <thead>\n",
       "    <tr style=\"text-align: right;\">\n",
       "      <th></th>\n",
       "      <th>userid</th>\n",
       "      <th>score</th>\n",
       "      <th>city</th>\n",
       "      <th>gender</th>\n",
       "      <th>age</th>\n",
       "      <th>equity</th>\n",
       "      <th>balance</th>\n",
       "      <th>products</th>\n",
       "      <th>credit_card</th>\n",
       "      <th>last_activity</th>\n",
       "      <th>est_salary</th>\n",
       "      <th>churn</th>\n",
       "    </tr>\n",
       "  </thead>\n",
       "  <tbody>\n",
       "    <tr>\n",
       "      <th>8957</th>\n",
       "      <td>147837</td>\n",
       "      <td>962.00</td>\n",
       "      <td>Рыбинск</td>\n",
       "      <td>Ж</td>\n",
       "      <td>79.00</td>\n",
       "      <td>3</td>\n",
       "      <td>NaN</td>\n",
       "      <td>0</td>\n",
       "      <td>0</td>\n",
       "      <td>0</td>\n",
       "      <td>25063.96</td>\n",
       "      <td>1</td>\n",
       "    </tr>\n",
       "  </tbody>\n",
       "</table>\n",
       "</div>"
      ],
      "text/plain": [
       "      userid  score     city gender   age  equity  balance  products  \\\n",
       "8957  147837 962.00  Рыбинск      Ж 79.00       3      NaN         0   \n",
       "\n",
       "      credit_card  last_activity  est_salary  churn  \n",
       "8957            0              0    25063.96      1  "
      ]
     },
     "execution_count": 13,
     "metadata": {},
     "output_type": "execute_result"
    }
   ],
   "source": [
    "data.query('products == 0')"
   ]
  },
  {
   "cell_type": "markdown",
   "id": "441b7b59",
   "metadata": {},
   "source": [
    "Всего один клиент - женщина 79 лет, с нулевым балансом, без кредитки и уже в оттоке. Предлагаю ее просто удалить из датасета."
   ]
  },
  {
   "cell_type": "code",
   "execution_count": 14,
   "id": "59ee1c52",
   "metadata": {},
   "outputs": [],
   "source": [
    "data = data.query('products > 0')"
   ]
  },
  {
   "cell_type": "markdown",
   "id": "47580c8b",
   "metadata": {},
   "source": [
    "Странным выглядит параметр last_activity, который, по легенде, отображает активность клиента за последние 7 дней. Среди отказников - 70%, а среди верных - менее 50%! Чтото не так с интерпритацией этой колонки. Предлагаю вообще его не брать во внимание."
   ]
  },
  {
   "cell_type": "code",
   "execution_count": 15,
   "id": "b268d486",
   "metadata": {},
   "outputs": [
    {
     "data": {
      "text/plain": [
       "0.7024202420242024"
      ]
     },
     "execution_count": 15,
     "metadata": {},
     "output_type": "execute_result"
    }
   ],
   "source": [
    "data.query('last_activity == 1 and churn == 1')['userid'].count() / data.query('churn == 1')['userid'].count()"
   ]
  },
  {
   "cell_type": "code",
   "execution_count": 16,
   "id": "7a99dbdf",
   "metadata": {},
   "outputs": [
    {
     "data": {
      "text/plain": [
       "0.48289393010423054"
      ]
     },
     "execution_count": 16,
     "metadata": {},
     "output_type": "execute_result"
    }
   ],
   "source": [
    "data.query('last_activity == 1 and churn == 0')['userid'].count() / data.query('churn == 0')['userid'].count()"
   ]
  },
  {
   "cell_type": "markdown",
   "id": "2fb72419",
   "metadata": {},
   "source": [
    "### Дубликаты"
   ]
  },
  {
   "cell_type": "markdown",
   "id": "37e92ac2",
   "metadata": {},
   "source": [
    "#### Полные дубликаты"
   ]
  },
  {
   "cell_type": "code",
   "execution_count": 17,
   "id": "25d423bc",
   "metadata": {},
   "outputs": [
    {
     "data": {
      "text/plain": [
       "0"
      ]
     },
     "execution_count": 17,
     "metadata": {},
     "output_type": "execute_result"
    }
   ],
   "source": [
    "data.duplicated().sum()"
   ]
  },
  {
   "cell_type": "markdown",
   "id": "25b15915",
   "metadata": {},
   "source": [
    "Полных дубликовто нет"
   ]
  },
  {
   "cell_type": "markdown",
   "id": "8a7f5e31",
   "metadata": {},
   "source": [
    "#### Дубликаты по полю userid"
   ]
  },
  {
   "cell_type": "markdown",
   "id": "b42a4379",
   "metadata": {},
   "source": [
    "userid, которое по идее должно быть уникальным"
   ]
  },
  {
   "cell_type": "code",
   "execution_count": 18,
   "id": "9ca82fb4",
   "metadata": {},
   "outputs": [
    {
     "data": {
      "text/plain": [
       "50"
      ]
     },
     "execution_count": 18,
     "metadata": {},
     "output_type": "execute_result"
    }
   ],
   "source": [
    "data['userid'].duplicated().sum()"
   ]
  },
  {
   "cell_type": "markdown",
   "id": "f65f26fa",
   "metadata": {},
   "source": [
    "50 дубликатов. Многовато, чтобы просто так удалить"
   ]
  },
  {
   "cell_type": "code",
   "execution_count": 19,
   "id": "7eaad3b2",
   "metadata": {},
   "outputs": [
    {
     "data": {
      "text/html": [
       "<div>\n",
       "<style scoped>\n",
       "    .dataframe tbody tr th:only-of-type {\n",
       "        vertical-align: middle;\n",
       "    }\n",
       "\n",
       "    .dataframe tbody tr th {\n",
       "        vertical-align: top;\n",
       "    }\n",
       "\n",
       "    .dataframe thead th {\n",
       "        text-align: right;\n",
       "    }\n",
       "</style>\n",
       "<table border=\"1\" class=\"dataframe\">\n",
       "  <thead>\n",
       "    <tr style=\"text-align: right;\">\n",
       "      <th></th>\n",
       "      <th>userid</th>\n",
       "      <th>score</th>\n",
       "      <th>city</th>\n",
       "      <th>gender</th>\n",
       "      <th>age</th>\n",
       "      <th>equity</th>\n",
       "      <th>balance</th>\n",
       "      <th>products</th>\n",
       "      <th>credit_card</th>\n",
       "      <th>last_activity</th>\n",
       "      <th>est_salary</th>\n",
       "      <th>churn</th>\n",
       "    </tr>\n",
       "  </thead>\n",
       "  <tbody>\n",
       "    <tr>\n",
       "      <th>1893</th>\n",
       "      <td>116540</td>\n",
       "      <td>883.00</td>\n",
       "      <td>Рыбинск</td>\n",
       "      <td>Ж</td>\n",
       "      <td>55.00</td>\n",
       "      <td>1</td>\n",
       "      <td>362756.49</td>\n",
       "      <td>3</td>\n",
       "      <td>0</td>\n",
       "      <td>1</td>\n",
       "      <td>175920.48</td>\n",
       "      <td>1</td>\n",
       "    </tr>\n",
       "    <tr>\n",
       "      <th>7694</th>\n",
       "      <td>116540</td>\n",
       "      <td>887.00</td>\n",
       "      <td>Ярославль</td>\n",
       "      <td>Ж</td>\n",
       "      <td>38.00</td>\n",
       "      <td>0</td>\n",
       "      <td>NaN</td>\n",
       "      <td>1</td>\n",
       "      <td>0</td>\n",
       "      <td>1</td>\n",
       "      <td>119247.61</td>\n",
       "      <td>0</td>\n",
       "    </tr>\n",
       "    <tr>\n",
       "      <th>4866</th>\n",
       "      <td>117943</td>\n",
       "      <td>855.00</td>\n",
       "      <td>Рыбинск</td>\n",
       "      <td>Ж</td>\n",
       "      <td>32.00</td>\n",
       "      <td>6</td>\n",
       "      <td>1036832.93</td>\n",
       "      <td>4</td>\n",
       "      <td>1</td>\n",
       "      <td>1</td>\n",
       "      <td>107792.71</td>\n",
       "      <td>1</td>\n",
       "    </tr>\n",
       "    <tr>\n",
       "      <th>7542</th>\n",
       "      <td>117943</td>\n",
       "      <td>880.00</td>\n",
       "      <td>Ярославль</td>\n",
       "      <td>Ж</td>\n",
       "      <td>40.00</td>\n",
       "      <td>0</td>\n",
       "      <td>NaN</td>\n",
       "      <td>1</td>\n",
       "      <td>1</td>\n",
       "      <td>0</td>\n",
       "      <td>137718.93</td>\n",
       "      <td>0</td>\n",
       "    </tr>\n",
       "    <tr>\n",
       "      <th>5863</th>\n",
       "      <td>120258</td>\n",
       "      <td>908.00</td>\n",
       "      <td>Рыбинск</td>\n",
       "      <td>Ж</td>\n",
       "      <td>38.00</td>\n",
       "      <td>4</td>\n",
       "      <td>2213581.63</td>\n",
       "      <td>2</td>\n",
       "      <td>0</td>\n",
       "      <td>1</td>\n",
       "      <td>160327.77</td>\n",
       "      <td>1</td>\n",
       "    </tr>\n",
       "    <tr>\n",
       "      <th>...</th>\n",
       "      <td>...</td>\n",
       "      <td>...</td>\n",
       "      <td>...</td>\n",
       "      <td>...</td>\n",
       "      <td>...</td>\n",
       "      <td>...</td>\n",
       "      <td>...</td>\n",
       "      <td>...</td>\n",
       "      <td>...</td>\n",
       "      <td>...</td>\n",
       "      <td>...</td>\n",
       "      <td>...</td>\n",
       "    </tr>\n",
       "    <tr>\n",
       "      <th>2302</th>\n",
       "      <td>220816</td>\n",
       "      <td>934.00</td>\n",
       "      <td>Рыбинск</td>\n",
       "      <td>Ж</td>\n",
       "      <td>74.00</td>\n",
       "      <td>5</td>\n",
       "      <td>1294285.39</td>\n",
       "      <td>3</td>\n",
       "      <td>1</td>\n",
       "      <td>0</td>\n",
       "      <td>95606.80</td>\n",
       "      <td>0</td>\n",
       "    </tr>\n",
       "    <tr>\n",
       "      <th>2597</th>\n",
       "      <td>226719</td>\n",
       "      <td>990.00</td>\n",
       "      <td>Ярославль</td>\n",
       "      <td>М</td>\n",
       "      <td>37.00</td>\n",
       "      <td>4</td>\n",
       "      <td>14648692.14</td>\n",
       "      <td>2</td>\n",
       "      <td>0</td>\n",
       "      <td>0</td>\n",
       "      <td>934412.61</td>\n",
       "      <td>1</td>\n",
       "    </tr>\n",
       "    <tr>\n",
       "      <th>4216</th>\n",
       "      <td>226719</td>\n",
       "      <td>903.00</td>\n",
       "      <td>Рыбинск</td>\n",
       "      <td>Ж</td>\n",
       "      <td>63.00</td>\n",
       "      <td>0</td>\n",
       "      <td>NaN</td>\n",
       "      <td>1</td>\n",
       "      <td>1</td>\n",
       "      <td>0</td>\n",
       "      <td>138582.58</td>\n",
       "      <td>0</td>\n",
       "    </tr>\n",
       "    <tr>\n",
       "      <th>8205</th>\n",
       "      <td>227795</td>\n",
       "      <td>840.00</td>\n",
       "      <td>Рыбинск</td>\n",
       "      <td>М</td>\n",
       "      <td>34.00</td>\n",
       "      <td>2</td>\n",
       "      <td>350768.03</td>\n",
       "      <td>1</td>\n",
       "      <td>1</td>\n",
       "      <td>0</td>\n",
       "      <td>102036.14</td>\n",
       "      <td>1</td>\n",
       "    </tr>\n",
       "    <tr>\n",
       "      <th>8497</th>\n",
       "      <td>227795</td>\n",
       "      <td>839.00</td>\n",
       "      <td>Ярославль</td>\n",
       "      <td>М</td>\n",
       "      <td>34.00</td>\n",
       "      <td>2</td>\n",
       "      <td>326593.14</td>\n",
       "      <td>2</td>\n",
       "      <td>1</td>\n",
       "      <td>0</td>\n",
       "      <td>103314.92</td>\n",
       "      <td>0</td>\n",
       "    </tr>\n",
       "  </tbody>\n",
       "</table>\n",
       "<p>100 rows × 12 columns</p>\n",
       "</div>"
      ],
      "text/plain": [
       "      userid  score       city gender   age  equity     balance  products  \\\n",
       "1893  116540 883.00    Рыбинск      Ж 55.00       1   362756.49         3   \n",
       "7694  116540 887.00  Ярославль      Ж 38.00       0         NaN         1   \n",
       "4866  117943 855.00    Рыбинск      Ж 32.00       6  1036832.93         4   \n",
       "7542  117943 880.00  Ярославль      Ж 40.00       0         NaN         1   \n",
       "5863  120258 908.00    Рыбинск      Ж 38.00       4  2213581.63         2   \n",
       "...      ...    ...        ...    ...   ...     ...         ...       ...   \n",
       "2302  220816 934.00    Рыбинск      Ж 74.00       5  1294285.39         3   \n",
       "2597  226719 990.00  Ярославль      М 37.00       4 14648692.14         2   \n",
       "4216  226719 903.00    Рыбинск      Ж 63.00       0         NaN         1   \n",
       "8205  227795 840.00    Рыбинск      М 34.00       2   350768.03         1   \n",
       "8497  227795 839.00  Ярославль      М 34.00       2   326593.14         2   \n",
       "\n",
       "      credit_card  last_activity  est_salary  churn  \n",
       "1893            0              1   175920.48      1  \n",
       "7694            0              1   119247.61      0  \n",
       "4866            1              1   107792.71      1  \n",
       "7542            1              0   137718.93      0  \n",
       "5863            0              1   160327.77      1  \n",
       "...           ...            ...         ...    ...  \n",
       "2302            1              0    95606.80      0  \n",
       "2597            0              0   934412.61      1  \n",
       "4216            1              0   138582.58      0  \n",
       "8205            1              0   102036.14      1  \n",
       "8497            1              0   103314.92      0  \n",
       "\n",
       "[100 rows x 12 columns]"
      ]
     },
     "execution_count": 19,
     "metadata": {},
     "output_type": "execute_result"
    }
   ],
   "source": [
    "data[data['userid'].duplicated(keep=False)].sort_values(by='userid')"
   ]
  },
  {
   "cell_type": "markdown",
   "id": "8cb1f4ce",
   "metadata": {},
   "source": [
    "Похоже дублирование userid получились при слиянии баз клиентов из разных городов - Рыбинск и Ярославль."
   ]
  },
  {
   "cell_type": "markdown",
   "id": "85f3c2ec",
   "metadata": {},
   "source": [
    "Предлагю прибавить userid клиентов из Рыбинска 1000000, и тогда они станут уникальными. Их номера можно будет легко вернуть назад. Пока максамум userid около 230 тысяч, то есть номер 1000000+ будет сразу виден."
   ]
  },
  {
   "cell_type": "code",
   "execution_count": 20,
   "id": "2d2f97b3",
   "metadata": {},
   "outputs": [],
   "source": [
    "data.loc[data['userid'].duplicated(), 'userid'] = data['userid'] + 1000000"
   ]
  },
  {
   "cell_type": "code",
   "execution_count": 21,
   "id": "8217c80d",
   "metadata": {},
   "outputs": [
    {
     "data": {
      "text/plain": [
       "0"
      ]
     },
     "execution_count": 21,
     "metadata": {},
     "output_type": "execute_result"
    }
   ],
   "source": [
    "data[data['userid'].duplicated()]['userid'].sum()"
   ]
  },
  {
   "cell_type": "markdown",
   "id": "7b305d77",
   "metadata": {},
   "source": [
    "Дублей userid в нет"
   ]
  },
  {
   "cell_type": "markdown",
   "id": "3cd9646c",
   "metadata": {},
   "source": [
    "### Сброс index после предобработки"
   ]
  },
  {
   "cell_type": "code",
   "execution_count": 22,
   "id": "edd75e91",
   "metadata": {},
   "outputs": [],
   "source": [
    "data = data.reset_index(drop=True)"
   ]
  },
  {
   "cell_type": "code",
   "execution_count": 23,
   "id": "60538912",
   "metadata": {
    "scrolled": true
   },
   "outputs": [
    {
     "name": "stdout",
     "output_type": "stream",
     "text": [
      "<class 'pandas.core.frame.DataFrame'>\n",
      "RangeIndex: 9973 entries, 0 to 9972\n",
      "Data columns (total 12 columns):\n",
      " #   Column         Non-Null Count  Dtype  \n",
      "---  ------         --------------  -----  \n",
      " 0   userid         9973 non-null   int64  \n",
      " 1   score          9973 non-null   float64\n",
      " 2   city           9973 non-null   object \n",
      " 3   gender         9973 non-null   object \n",
      " 4   age            9973 non-null   float64\n",
      " 5   equity         9973 non-null   int64  \n",
      " 6   balance        7695 non-null   float64\n",
      " 7   products       9973 non-null   int64  \n",
      " 8   credit_card    9973 non-null   int64  \n",
      " 9   last_activity  9973 non-null   int64  \n",
      " 10  est_salary     9973 non-null   float64\n",
      " 11  churn          9973 non-null   int64  \n",
      "dtypes: float64(4), int64(6), object(2)\n",
      "memory usage: 935.1+ KB\n"
     ]
    }
   ],
   "source": [
    "data.info()"
   ]
  },
  {
   "cell_type": "markdown",
   "id": "a93f8ebb",
   "metadata": {},
   "source": [
    "**Промежуточный вывод**\n",
    "\n",
    "Для анализа представлен датасет на 10 тысяч строк. В целом данные хорошего качества - пропуски были только в друх колонках age и balance. Еще в двух - products и userid - единичные аномальные значения.\n",
    "\n",
    "В результате предобработки удалили 27 строк. 2300 пропусков значений в колонке баланс оставлены как есть."
   ]
  },
  {
   "cell_type": "markdown",
   "id": "8252497e",
   "metadata": {},
   "source": [
    "## Исследовательский анализ"
   ]
  },
  {
   "cell_type": "markdown",
   "id": "78dd8045",
   "metadata": {},
   "source": [
    "### Базовый уровень оттока"
   ]
  },
  {
   "cell_type": "markdown",
   "id": "16c7414c",
   "metadata": {},
   "source": [
    "Определяем базовый уровень оттока как средний показатель по всему датасету"
   ]
  },
  {
   "cell_type": "code",
   "execution_count": 24,
   "id": "6d2e70e0",
   "metadata": {},
   "outputs": [
    {
     "data": {
      "text/plain": [
       "18.23"
      ]
     },
     "execution_count": 24,
     "metadata": {},
     "output_type": "execute_result"
    }
   ],
   "source": [
    "ottok_base = round(100 * data.query('churn == 1')['userid'].count() / data['userid'].count(), 2)\n",
    "ottok_base"
   ]
  },
  {
   "cell_type": "markdown",
   "id": "fde9f1f4",
   "metadata": {},
   "source": [
    "Базовый уровень оттока клиентов 18,23%. "
   ]
  },
  {
   "cell_type": "code",
   "execution_count": 25,
   "id": "66550396",
   "metadata": {},
   "outputs": [
    {
     "data": {
      "image/png": "[encoded data removed]",
      "text/plain": [
       "<Figure size 1500x800 with 1 Axes>"
      ]
     },
     "metadata": {},
     "output_type": "display_data"
    }
   ],
   "source": [
    "plt.pie(data.groupby('churn')['userid'].count(), labels = ['Верные клиенты', 'Ушедшие клиенты'], \\\n",
    "        colors = ['green', 'red'], autopct='%1.2f%%')\n",
    "plt.title('Процент оттока клиентов в целом по банку')\n",
    "plt.show()"
   ]
  },
  {
   "cell_type": "markdown",
   "id": "b647b2fc",
   "metadata": {},
   "source": [
    "### Анализ оттока по отдельным признакам"
   ]
  },
  {
   "cell_type": "markdown",
   "id": "fe895338",
   "metadata": {},
   "source": [
    "Проведем анализ оттока по отдельным признакам (колонкам). Нас интересует признаки, для которых отток выше среднего по банку"
   ]
  },
  {
   "cell_type": "markdown",
   "id": "8ee4585e",
   "metadata": {},
   "source": [
    "#### Анализ оттока по категориальным колонкам"
   ]
  },
  {
   "cell_type": "code",
   "execution_count": 26,
   "id": "25a4fc2f",
   "metadata": {},
   "outputs": [],
   "source": [
    "# --------- Функция определения процента оттока в категориальных колонках\n",
    "# 1 Считаем всех по группам категорий, записываем в колонку all \n",
    "# 2 Cчитаем ушедших по группам категорий, записываем в колонку ottok\n",
    "# 3 Делим второе на первое, записываем в колонку proc\n",
    "# На выходе получаем таблицу в индексах - категориальные значения, колонки all, ottok, proc \n",
    "\n",
    "def proc_ottok_cat(col):\n",
    "    ttt = pd.DataFrame([])\n",
    "    ttt['all'] = data.groupby(col)['userid'].count()\n",
    "    ttt['ottok'] = data.query('churn == 1').groupby(col)['userid'].count()\n",
    "    ttt['proc'] = round(100 * ttt['ottok'] / ttt['all'], 2) \n",
    "    return ttt "
   ]
  },
  {
   "cell_type": "code",
   "execution_count": 27,
   "id": "da1847bc",
   "metadata": {},
   "outputs": [],
   "source": [
    "#Словарь для нормальных подписей графиков\n",
    "col_rus = {'age': ['Возраст', 'Лет'], \n",
    "           'city': ['Город', 'Город'], \n",
    "           'gender': ['Пол', 'Пол'], \n",
    "           'equity': ['Балл собственности', 'Балл'], \n",
    "           'products': ['Количество продуктов', 'Количество продуктов'],    \n",
    "           'credit_card': ['Кредитная карта', ''],               \n",
    "           'score': ['Кредитный рейтинг', 'Баллы'], \n",
    "           'balance': ['Баланс на счете', 'тыс.руб.'], \n",
    "           'est_salary': ['Оценочный доход', 'тыс.руб.']}\n"
   ]
  },
  {
   "cell_type": "code",
   "execution_count": 28,
   "id": "045bedae",
   "metadata": {},
   "outputs": [],
   "source": [
    "# -----------  Функция подсветки процентов оттока выше среднего по банку. \n",
    "# подсветить красным, что выше среднего по банку\n",
    "def highlight_proc(s):\n",
    "    return ['background-color: tomato' if val > ottok_base else 'background-color: lime' for val in s]"
   ]
  },
  {
   "cell_type": "code",
   "execution_count": null,
   "id": "d780403f",
   "metadata": {},
   "outputs": [],
   "source": []
  },
  {
   "cell_type": "code",
   "execution_count": 29,
   "id": "b9b15932",
   "metadata": {},
   "outputs": [
    {
     "name": "stdout",
     "output_type": "stream",
     "text": [
      "\u001b[1m-------- Оценка оттока клиентов по параметру Город-------- \u001b[0m\n"
     ]
    },
    {
     "data": {
      "text/html": [
       "<style type=\"text/css\">\n",
       "#T_dd191_row0_col2, #T_dd191_row2_col2 {\n",
       "  background-color: tomato;\n",
       "}\n",
       "#T_dd191_row1_col2 {\n",
       "  background-color: lime;\n",
       "}\n",
       "</style>\n",
       "<table id=\"T_dd191\">\n",
       "  <thead>\n",
       "    <tr>\n",
       "      <th class=\"blank level0\" >&nbsp;</th>\n",
       "      <th id=\"T_dd191_level0_col0\" class=\"col_heading level0 col0\" >all</th>\n",
       "      <th id=\"T_dd191_level0_col1\" class=\"col_heading level0 col1\" >ottok</th>\n",
       "      <th id=\"T_dd191_level0_col2\" class=\"col_heading level0 col2\" >proc</th>\n",
       "    </tr>\n",
       "    <tr>\n",
       "      <th class=\"index_name level0\" >city</th>\n",
       "      <th class=\"blank col0\" >&nbsp;</th>\n",
       "      <th class=\"blank col1\" >&nbsp;</th>\n",
       "      <th class=\"blank col2\" >&nbsp;</th>\n",
       "    </tr>\n",
       "  </thead>\n",
       "  <tbody>\n",
       "    <tr>\n",
       "      <th id=\"T_dd191_level0_row0\" class=\"row_heading level0 row0\" >Ростов</th>\n",
       "      <td id=\"T_dd191_row0_col0\" class=\"data row0 col0\" >1416</td>\n",
       "      <td id=\"T_dd191_row0_col1\" class=\"data row0 col1\" >265</td>\n",
       "      <td id=\"T_dd191_row0_col2\" class=\"data row0 col2\" >18.710000</td>\n",
       "    </tr>\n",
       "    <tr>\n",
       "      <th id=\"T_dd191_level0_row1\" class=\"row_heading level0 row1\" >Рыбинск</th>\n",
       "      <td id=\"T_dd191_row1_col0\" class=\"data row1 col0\" >2682</td>\n",
       "      <td id=\"T_dd191_row1_col1\" class=\"data row1 col1\" >436</td>\n",
       "      <td id=\"T_dd191_row1_col2\" class=\"data row1 col2\" >16.260000</td>\n",
       "    </tr>\n",
       "    <tr>\n",
       "      <th id=\"T_dd191_level0_row2\" class=\"row_heading level0 row2\" >Ярославль</th>\n",
       "      <td id=\"T_dd191_row2_col0\" class=\"data row2 col0\" >5875</td>\n",
       "      <td id=\"T_dd191_row2_col1\" class=\"data row2 col1\" >1117</td>\n",
       "      <td id=\"T_dd191_row2_col2\" class=\"data row2 col2\" >19.010000</td>\n",
       "    </tr>\n",
       "  </tbody>\n",
       "</table>\n"
      ],
      "text/plain": [
       "<pandas.io.formats.style.Styler at 0x20e657613d0>"
      ]
     },
     "metadata": {},
     "output_type": "display_data"
    },
    {
     "data": {
      "image/png": "[encoded data removed]",
      "text/plain": [
       "<Figure size 1500x800 with 1 Axes>"
      ]
     },
     "metadata": {},
     "output_type": "display_data"
    },
    {
     "name": "stdout",
     "output_type": "stream",
     "text": [
      "\u001b[1m-------- Оценка оттока клиентов по параметру Пол-------- \u001b[0m\n"
     ]
    },
    {
     "data": {
      "text/html": [
       "<style type=\"text/css\">\n",
       "#T_e0d23_row0_col2 {\n",
       "  background-color: lime;\n",
       "}\n",
       "#T_e0d23_row1_col2 {\n",
       "  background-color: tomato;\n",
       "}\n",
       "</style>\n",
       "<table id=\"T_e0d23\">\n",
       "  <thead>\n",
       "    <tr>\n",
       "      <th class=\"blank level0\" >&nbsp;</th>\n",
       "      <th id=\"T_e0d23_level0_col0\" class=\"col_heading level0 col0\" >all</th>\n",
       "      <th id=\"T_e0d23_level0_col1\" class=\"col_heading level0 col1\" >ottok</th>\n",
       "      <th id=\"T_e0d23_level0_col2\" class=\"col_heading level0 col2\" >proc</th>\n",
       "    </tr>\n",
       "  </thead>\n",
       "  <tbody>\n",
       "    <tr>\n",
       "      <th id=\"T_e0d23_level0_row0\" class=\"row_heading level0 row0\" >Женщины</th>\n",
       "      <td id=\"T_e0d23_row0_col0\" class=\"data row0 col0\" >4982</td>\n",
       "      <td id=\"T_e0d23_row0_col1\" class=\"data row0 col1\" >635</td>\n",
       "      <td id=\"T_e0d23_row0_col2\" class=\"data row0 col2\" >12.750000</td>\n",
       "    </tr>\n",
       "    <tr>\n",
       "      <th id=\"T_e0d23_level0_row1\" class=\"row_heading level0 row1\" >Мужчины</th>\n",
       "      <td id=\"T_e0d23_row1_col0\" class=\"data row1 col0\" >4991</td>\n",
       "      <td id=\"T_e0d23_row1_col1\" class=\"data row1 col1\" >1183</td>\n",
       "      <td id=\"T_e0d23_row1_col2\" class=\"data row1 col2\" >23.700000</td>\n",
       "    </tr>\n",
       "  </tbody>\n",
       "</table>\n"
      ],
      "text/plain": [
       "<pandas.io.formats.style.Styler at 0x20e63687e90>"
      ]
     },
     "metadata": {},
     "output_type": "display_data"
    },
    {
     "data": {
      "image/png": "[encoded data removed]",
      "text/plain": [
       "<Figure size 1500x800 with 1 Axes>"
      ]
     },
     "metadata": {},
     "output_type": "display_data"
    },
    {
     "name": "stdout",
     "output_type": "stream",
     "text": [
      "\u001b[1m-------- Оценка оттока клиентов по параметру Балл собственности-------- \u001b[0m\n"
     ]
    },
    {
     "data": {
      "text/html": [
       "<style type=\"text/css\">\n",
       "#T_d43b4_row0_col2, #T_d43b4_row1_col2, #T_d43b4_row2_col2 {\n",
       "  background-color: lime;\n",
       "}\n",
       "#T_d43b4_row3_col2, #T_d43b4_row4_col2, #T_d43b4_row5_col2, #T_d43b4_row6_col2, #T_d43b4_row7_col2, #T_d43b4_row8_col2, #T_d43b4_row9_col2 {\n",
       "  background-color: tomato;\n",
       "}\n",
       "</style>\n",
       "<table id=\"T_d43b4\">\n",
       "  <thead>\n",
       "    <tr>\n",
       "      <th class=\"blank level0\" >&nbsp;</th>\n",
       "      <th id=\"T_d43b4_level0_col0\" class=\"col_heading level0 col0\" >all</th>\n",
       "      <th id=\"T_d43b4_level0_col1\" class=\"col_heading level0 col1\" >ottok</th>\n",
       "      <th id=\"T_d43b4_level0_col2\" class=\"col_heading level0 col2\" >proc</th>\n",
       "    </tr>\n",
       "    <tr>\n",
       "      <th class=\"index_name level0\" >equity</th>\n",
       "      <th class=\"blank col0\" >&nbsp;</th>\n",
       "      <th class=\"blank col1\" >&nbsp;</th>\n",
       "      <th class=\"blank col2\" >&nbsp;</th>\n",
       "    </tr>\n",
       "  </thead>\n",
       "  <tbody>\n",
       "    <tr>\n",
       "      <th id=\"T_d43b4_level0_row0\" class=\"row_heading level0 row0\" >0</th>\n",
       "      <td id=\"T_d43b4_row0_col0\" class=\"data row0 col0\" >2576</td>\n",
       "      <td id=\"T_d43b4_row0_col1\" class=\"data row0 col1\" >90</td>\n",
       "      <td id=\"T_d43b4_row0_col2\" class=\"data row0 col2\" >3.490000</td>\n",
       "    </tr>\n",
       "    <tr>\n",
       "      <th id=\"T_d43b4_level0_row1\" class=\"row_heading level0 row1\" >1</th>\n",
       "      <td id=\"T_d43b4_row1_col0\" class=\"data row1 col0\" >773</td>\n",
       "      <td id=\"T_d43b4_row1_col1\" class=\"data row1 col1\" >93</td>\n",
       "      <td id=\"T_d43b4_row1_col2\" class=\"data row1 col2\" >12.030000</td>\n",
       "    </tr>\n",
       "    <tr>\n",
       "      <th id=\"T_d43b4_level0_row2\" class=\"row_heading level0 row2\" >2</th>\n",
       "      <td id=\"T_d43b4_row2_col0\" class=\"data row2 col0\" >1051</td>\n",
       "      <td id=\"T_d43b4_row2_col1\" class=\"data row2 col1\" >166</td>\n",
       "      <td id=\"T_d43b4_row2_col2\" class=\"data row2 col2\" >15.790000</td>\n",
       "    </tr>\n",
       "    <tr>\n",
       "      <th id=\"T_d43b4_level0_row3\" class=\"row_heading level0 row3\" >3</th>\n",
       "      <td id=\"T_d43b4_row3_col0\" class=\"data row3 col0\" >1540</td>\n",
       "      <td id=\"T_d43b4_row3_col1\" class=\"data row3 col1\" >321</td>\n",
       "      <td id=\"T_d43b4_row3_col2\" class=\"data row3 col2\" >20.840000</td>\n",
       "    </tr>\n",
       "    <tr>\n",
       "      <th id=\"T_d43b4_level0_row4\" class=\"row_heading level0 row4\" >4</th>\n",
       "      <td id=\"T_d43b4_row4_col0\" class=\"data row4 col0\" >1847</td>\n",
       "      <td id=\"T_d43b4_row4_col1\" class=\"data row4 col1\" >464</td>\n",
       "      <td id=\"T_d43b4_row4_col2\" class=\"data row4 col2\" >25.120000</td>\n",
       "    </tr>\n",
       "    <tr>\n",
       "      <th id=\"T_d43b4_level0_row5\" class=\"row_heading level0 row5\" >5</th>\n",
       "      <td id=\"T_d43b4_row5_col0\" class=\"data row5 col0\" >1915</td>\n",
       "      <td id=\"T_d43b4_row5_col1\" class=\"data row5 col1\" >576</td>\n",
       "      <td id=\"T_d43b4_row5_col2\" class=\"data row5 col2\" >30.080000</td>\n",
       "    </tr>\n",
       "    <tr>\n",
       "      <th id=\"T_d43b4_level0_row6\" class=\"row_heading level0 row6\" >6</th>\n",
       "      <td id=\"T_d43b4_row6_col0\" class=\"data row6 col0\" >161</td>\n",
       "      <td id=\"T_d43b4_row6_col1\" class=\"data row6 col1\" >58</td>\n",
       "      <td id=\"T_d43b4_row6_col2\" class=\"data row6 col2\" >36.020000</td>\n",
       "    </tr>\n",
       "    <tr>\n",
       "      <th id=\"T_d43b4_level0_row7\" class=\"row_heading level0 row7\" >7</th>\n",
       "      <td id=\"T_d43b4_row7_col0\" class=\"data row7 col0\" >80</td>\n",
       "      <td id=\"T_d43b4_row7_col1\" class=\"data row7 col1\" >37</td>\n",
       "      <td id=\"T_d43b4_row7_col2\" class=\"data row7 col2\" >46.250000</td>\n",
       "    </tr>\n",
       "    <tr>\n",
       "      <th id=\"T_d43b4_level0_row8\" class=\"row_heading level0 row8\" >8</th>\n",
       "      <td id=\"T_d43b4_row8_col0\" class=\"data row8 col0\" >17</td>\n",
       "      <td id=\"T_d43b4_row8_col1\" class=\"data row8 col1\" >6</td>\n",
       "      <td id=\"T_d43b4_row8_col2\" class=\"data row8 col2\" >35.290000</td>\n",
       "    </tr>\n",
       "    <tr>\n",
       "      <th id=\"T_d43b4_level0_row9\" class=\"row_heading level0 row9\" >9</th>\n",
       "      <td id=\"T_d43b4_row9_col0\" class=\"data row9 col0\" >13</td>\n",
       "      <td id=\"T_d43b4_row9_col1\" class=\"data row9 col1\" >7</td>\n",
       "      <td id=\"T_d43b4_row9_col2\" class=\"data row9 col2\" >53.850000</td>\n",
       "    </tr>\n",
       "  </tbody>\n",
       "</table>\n"
      ],
      "text/plain": [
       "<pandas.io.formats.style.Styler at 0x20e65430f10>"
      ]
     },
     "metadata": {},
     "output_type": "display_data"
    },
    {
     "data": {
      "image/png": "[encoded data removed]",
      "text/plain": [
       "<Figure size 1500x800 with 1 Axes>"
      ]
     },
     "metadata": {},
     "output_type": "display_data"
    },
    {
     "name": "stdout",
     "output_type": "stream",
     "text": [
      "\u001b[1m-------- Оценка оттока клиентов по параметру Количество продуктов-------- \u001b[0m\n"
     ]
    },
    {
     "data": {
      "text/html": [
       "<style type=\"text/css\">\n",
       "#T_5f7f3_row0_col2 {\n",
       "  background-color: lime;\n",
       "}\n",
       "#T_5f7f3_row1_col2, #T_5f7f3_row2_col2, #T_5f7f3_row3_col2, #T_5f7f3_row4_col2 {\n",
       "  background-color: tomato;\n",
       "}\n",
       "</style>\n",
       "<table id=\"T_5f7f3\">\n",
       "  <thead>\n",
       "    <tr>\n",
       "      <th class=\"blank level0\" >&nbsp;</th>\n",
       "      <th id=\"T_5f7f3_level0_col0\" class=\"col_heading level0 col0\" >all</th>\n",
       "      <th id=\"T_5f7f3_level0_col1\" class=\"col_heading level0 col1\" >ottok</th>\n",
       "      <th id=\"T_5f7f3_level0_col2\" class=\"col_heading level0 col2\" >proc</th>\n",
       "    </tr>\n",
       "    <tr>\n",
       "      <th class=\"index_name level0\" >products</th>\n",
       "      <th class=\"blank col0\" >&nbsp;</th>\n",
       "      <th class=\"blank col1\" >&nbsp;</th>\n",
       "      <th class=\"blank col2\" >&nbsp;</th>\n",
       "    </tr>\n",
       "  </thead>\n",
       "  <tbody>\n",
       "    <tr>\n",
       "      <th id=\"T_5f7f3_level0_row0\" class=\"row_heading level0 row0\" >1</th>\n",
       "      <td id=\"T_5f7f3_row0_col0\" class=\"data row0 col0\" >3323</td>\n",
       "      <td id=\"T_5f7f3_row0_col1\" class=\"data row0 col1\" >235</td>\n",
       "      <td id=\"T_5f7f3_row0_col2\" class=\"data row0 col2\" >7.070000</td>\n",
       "    </tr>\n",
       "    <tr>\n",
       "      <th id=\"T_5f7f3_level0_row1\" class=\"row_heading level0 row1\" >2</th>\n",
       "      <td id=\"T_5f7f3_row1_col0\" class=\"data row1 col0\" >5119</td>\n",
       "      <td id=\"T_5f7f3_row1_col1\" class=\"data row1 col1\" >978</td>\n",
       "      <td id=\"T_5f7f3_row1_col2\" class=\"data row1 col2\" >19.110000</td>\n",
       "    </tr>\n",
       "    <tr>\n",
       "      <th id=\"T_5f7f3_level0_row2\" class=\"row_heading level0 row2\" >3</th>\n",
       "      <td id=\"T_5f7f3_row2_col0\" class=\"data row2 col0\" >1038</td>\n",
       "      <td id=\"T_5f7f3_row2_col1\" class=\"data row2 col1\" >297</td>\n",
       "      <td id=\"T_5f7f3_row2_col2\" class=\"data row2 col2\" >28.610000</td>\n",
       "    </tr>\n",
       "    <tr>\n",
       "      <th id=\"T_5f7f3_level0_row3\" class=\"row_heading level0 row3\" >4</th>\n",
       "      <td id=\"T_5f7f3_row3_col0\" class=\"data row3 col0\" >474</td>\n",
       "      <td id=\"T_5f7f3_row3_col1\" class=\"data row3 col1\" >300</td>\n",
       "      <td id=\"T_5f7f3_row3_col2\" class=\"data row3 col2\" >63.290000</td>\n",
       "    </tr>\n",
       "    <tr>\n",
       "      <th id=\"T_5f7f3_level0_row4\" class=\"row_heading level0 row4\" >5</th>\n",
       "      <td id=\"T_5f7f3_row4_col0\" class=\"data row4 col0\" >19</td>\n",
       "      <td id=\"T_5f7f3_row4_col1\" class=\"data row4 col1\" >8</td>\n",
       "      <td id=\"T_5f7f3_row4_col2\" class=\"data row4 col2\" >42.110000</td>\n",
       "    </tr>\n",
       "  </tbody>\n",
       "</table>\n"
      ],
      "text/plain": [
       "<pandas.io.formats.style.Styler at 0x20e63119d50>"
      ]
     },
     "metadata": {},
     "output_type": "display_data"
    },
    {
     "data": {
      "image/png": "[encoded data removed]",
      "text/plain": [
       "<Figure size 1500x800 with 1 Axes>"
      ]
     },
     "metadata": {},
     "output_type": "display_data"
    },
    {
     "name": "stdout",
     "output_type": "stream",
     "text": [
      "\u001b[1m-------- Оценка оттока клиентов по параметру Кредитная карта-------- \u001b[0m\n"
     ]
    },
    {
     "data": {
      "text/html": [
       "<style type=\"text/css\">\n",
       "#T_9e5ca_row0_col2 {\n",
       "  background-color: tomato;\n",
       "}\n",
       "#T_9e5ca_row1_col2 {\n",
       "  background-color: lime;\n",
       "}\n",
       "</style>\n",
       "<table id=\"T_9e5ca\">\n",
       "  <thead>\n",
       "    <tr>\n",
       "      <th class=\"blank level0\" >&nbsp;</th>\n",
       "      <th id=\"T_9e5ca_level0_col0\" class=\"col_heading level0 col0\" >all</th>\n",
       "      <th id=\"T_9e5ca_level0_col1\" class=\"col_heading level0 col1\" >ottok</th>\n",
       "      <th id=\"T_9e5ca_level0_col2\" class=\"col_heading level0 col2\" >proc</th>\n",
       "    </tr>\n",
       "  </thead>\n",
       "  <tbody>\n",
       "    <tr>\n",
       "      <th id=\"T_9e5ca_level0_row0\" class=\"row_heading level0 row0\" >нет карты</th>\n",
       "      <td id=\"T_9e5ca_row0_col0\" class=\"data row0 col0\" >3189</td>\n",
       "      <td id=\"T_9e5ca_row0_col1\" class=\"data row0 col1\" >815</td>\n",
       "      <td id=\"T_9e5ca_row0_col2\" class=\"data row0 col2\" >25.560000</td>\n",
       "    </tr>\n",
       "    <tr>\n",
       "      <th id=\"T_9e5ca_level0_row1\" class=\"row_heading level0 row1\" >есть карта</th>\n",
       "      <td id=\"T_9e5ca_row1_col0\" class=\"data row1 col0\" >6784</td>\n",
       "      <td id=\"T_9e5ca_row1_col1\" class=\"data row1 col1\" >1003</td>\n",
       "      <td id=\"T_9e5ca_row1_col2\" class=\"data row1 col2\" >14.780000</td>\n",
       "    </tr>\n",
       "  </tbody>\n",
       "</table>\n"
      ],
      "text/plain": [
       "<pandas.io.formats.style.Styler at 0x20e65727510>"
      ]
     },
     "metadata": {},
     "output_type": "display_data"
    },
    {
     "data": {
      "image/png": "[encoded data removed]",
      "text/plain": [
       "<Figure size 1500x800 with 1 Axes>"
      ]
     },
     "metadata": {},
     "output_type": "display_data"
    }
   ],
   "source": [
    "#цикл вывода процентов оттока по интервалам в непрерывных колонках\n",
    "ottok_col_all = pd.DataFrame([], columns = ['col', 'seg', 'all', 'ottok', 'proc'])\n",
    "for col in ['city', 'gender', 'equity', 'products', 'credit_card']:\n",
    "    ottok_col = proc_ottok_cat(col)\n",
    "    \n",
    "    print('\\033[1m' + '-------- Оценка оттока клиентов по параметру '+col_rus[col][0]+'-------- \\033[0m')\n",
    "    if col =='credit_card':  ottok_col.index = ['нет карты', 'есть карта']\n",
    "    if col =='last_activity':  ottok_col.index = ['не активный', 'активный']\n",
    "    if col =='gender':  ottok_col.index = ['Женщины', 'Мужчины']\n",
    "        \n",
    "    \n",
    "    display(ottok_col.style.apply(highlight_proc, subset='proc'))\n",
    "    \n",
    "    ottok_col['seg'] = ottok_col.index\n",
    "    ottok_col['col'] = col\n",
    "    ottok_col_all = pd.concat([ottok_col_all, ottok_col], ignore_index=False)\n",
    "    \n",
    "#    plt.figure(figsize=(15,8))\n",
    "    plt.bar(x = ottok_col.index, height = ottok_col['proc'])\n",
    "    plt.axhline(y=ottok_base, color='red')\n",
    "    plt.ylabel('% оттока')\n",
    "    plt.xlabel(col_rus[col][1])\n",
    "    plt.title('Процент оттока клиентов по параметру '+ col_rus[col][0])\n",
    "    #plt.text(-1, ottok_base, ottok_base, color='red')\n",
    "    plt.show()"
   ]
  },
  {
   "cell_type": "markdown",
   "id": "ab074236",
   "metadata": {},
   "source": [
    "В категориальных колонках отток выше среднего у клиентов со следующими параметрами:\n",
    "    \n",
    "* из Ростова или Ярославля\n",
    "* мужчины\n",
    "* бал собственности выше 3\n",
    "* количество продуктов больше 2\n",
    "* нет карты\n",
    "    "
   ]
  },
  {
   "cell_type": "code",
   "execution_count": 30,
   "id": "a679f144",
   "metadata": {},
   "outputs": [
    {
     "data": {
      "text/plain": [
       "0        59214.82\n",
       "1       850594.33\n",
       "3      1524746.26\n",
       "4          174.00\n",
       "5       863687.24\n",
       "          ...    \n",
       "9965    179765.62\n",
       "9967    370912.79\n",
       "9968     78144.65\n",
       "9971    865457.97\n",
       "9972   1180886.70\n",
       "Name: balance, Length: 7695, dtype: float64"
      ]
     },
     "execution_count": 30,
     "metadata": {},
     "output_type": "execute_result"
    }
   ],
   "source": [
    "data[data['balance'].notna()]['balance']"
   ]
  },
  {
   "cell_type": "markdown",
   "id": "5dca56d8",
   "metadata": {},
   "source": [
    "#### Анализ оттока по непрерывным колонкам"
   ]
  },
  {
   "cell_type": "code",
   "execution_count": 31,
   "id": "fefa7295",
   "metadata": {},
   "outputs": [],
   "source": [
    "# --------- Функция определения процента оттока в непрерывных колонках\n",
    "# 1 через процентили задаем границы 10 интервалов непрерывной величины\n",
    "# 2 берем две соседние границы интервалов a1 и a2, формируем из них строчку для query \n",
    "# 3 Формируем индекса для индекса итоговой таблицы a1-a2\n",
    "# 4 Считаем всех в заданном интервале через query, записываем в колонку all с сформированным индексом \n",
    "# 5 Cчитаем ушедших в заданном интервале через query, записываем в колонку ottok с сформированным индексом\n",
    "# 4 Делим ottok на all, записываем в колонку proc\n",
    "# На выходе получаем таблицу в индексах - границы интервалов, в колонках - all, ottok, proc \n",
    "\n",
    "\n",
    "def proc_ottok_num(col):\n",
    "    ttt = pd.DataFrame([])\n",
    "    pr = np.percentile(data[data[col].notna()][col], list(range(0, 110, 10)))\n",
    "    for i in range(1, 11):\n",
    "        a1 = pr[i-1]\n",
    "        a2 = pr[i]      \n",
    "        i = str(int(a1))+'-'+str(int(a2))\n",
    "        if col in ['balance', 'est_salary']: i = str(int(a1/1000))+'-'+str(int(a2/1000)) #для денег в тысячи рублей\n",
    "        qst = '@a1 <= '+col+' <= @a2' \n",
    "            #с двумя \"больше-равно\" интервалы накладываются, особенно в Возрасте. \n",
    "            #но в данном случае это не критично, зато нет проблем с нулями в балансе \n",
    "        ttt.loc[i, 'all'] = data.query(qst)['userid'].count()\n",
    "        ttt.loc[i, 'ottok'] = data.query('churn == 1 and '+ qst)['userid'].count()\n",
    "\n",
    "    ttt['proc'] = round(100 * ttt['ottok'] / ttt['all'], 2)\n",
    "    return ttt "
   ]
  },
  {
   "cell_type": "code",
   "execution_count": 32,
   "id": "3b15abdc",
   "metadata": {},
   "outputs": [
    {
     "name": "stdout",
     "output_type": "stream",
     "text": [
      "\u001b[1m----------- Оценка оттока клиентов по сегментам параметра Возраст ----------- \u001b[0m\n"
     ]
    },
    {
     "data": {
      "text/html": [
       "<style type=\"text/css\">\n",
       "#T_04dff_row0_col2, #T_04dff_row1_col2, #T_04dff_row2_col2, #T_04dff_row7_col2, #T_04dff_row8_col2 {\n",
       "  background-color: tomato;\n",
       "}\n",
       "#T_04dff_row3_col2, #T_04dff_row4_col2, #T_04dff_row5_col2, #T_04dff_row6_col2, #T_04dff_row9_col2 {\n",
       "  background-color: lime;\n",
       "}\n",
       "</style>\n",
       "<table id=\"T_04dff\">\n",
       "  <thead>\n",
       "    <tr>\n",
       "      <th class=\"blank level0\" >&nbsp;</th>\n",
       "      <th id=\"T_04dff_level0_col0\" class=\"col_heading level0 col0\" >all</th>\n",
       "      <th id=\"T_04dff_level0_col1\" class=\"col_heading level0 col1\" >ottok</th>\n",
       "      <th id=\"T_04dff_level0_col2\" class=\"col_heading level0 col2\" >proc</th>\n",
       "    </tr>\n",
       "  </thead>\n",
       "  <tbody>\n",
       "    <tr>\n",
       "      <th id=\"T_04dff_level0_row0\" class=\"row_heading level0 row0\" >18-29</th>\n",
       "      <td id=\"T_04dff_row0_col0\" class=\"data row0 col0\" >1148.000000</td>\n",
       "      <td id=\"T_04dff_row0_col1\" class=\"data row0 col1\" >264.000000</td>\n",
       "      <td id=\"T_04dff_row0_col2\" class=\"data row0 col2\" >23.000000</td>\n",
       "    </tr>\n",
       "    <tr>\n",
       "      <th id=\"T_04dff_level0_row1\" class=\"row_heading level0 row1\" >29-32</th>\n",
       "      <td id=\"T_04dff_row1_col0\" class=\"data row1 col0\" >1215.000000</td>\n",
       "      <td id=\"T_04dff_row1_col1\" class=\"data row1 col1\" >257.000000</td>\n",
       "      <td id=\"T_04dff_row1_col2\" class=\"data row1 col2\" >21.150000</td>\n",
       "    </tr>\n",
       "    <tr>\n",
       "      <th id=\"T_04dff_level0_row2\" class=\"row_heading level0 row2\" >32-35</th>\n",
       "      <td id=\"T_04dff_row2_col0\" class=\"data row2 col0\" >1544.000000</td>\n",
       "      <td id=\"T_04dff_row2_col1\" class=\"data row2 col1\" >313.000000</td>\n",
       "      <td id=\"T_04dff_row2_col2\" class=\"data row2 col2\" >20.270000</td>\n",
       "    </tr>\n",
       "    <tr>\n",
       "      <th id=\"T_04dff_level0_row3\" class=\"row_heading level0 row3\" >35-37</th>\n",
       "      <td id=\"T_04dff_row3_col0\" class=\"data row3 col0\" >1204.000000</td>\n",
       "      <td id=\"T_04dff_row3_col1\" class=\"data row3 col1\" >209.000000</td>\n",
       "      <td id=\"T_04dff_row3_col2\" class=\"data row3 col2\" >17.360000</td>\n",
       "    </tr>\n",
       "    <tr>\n",
       "      <th id=\"T_04dff_level0_row4\" class=\"row_heading level0 row4\" >37-40</th>\n",
       "      <td id=\"T_04dff_row4_col0\" class=\"data row4 col0\" >1391.000000</td>\n",
       "      <td id=\"T_04dff_row4_col1\" class=\"data row4 col1\" >234.000000</td>\n",
       "      <td id=\"T_04dff_row4_col2\" class=\"data row4 col2\" >16.820000</td>\n",
       "    </tr>\n",
       "    <tr>\n",
       "      <th id=\"T_04dff_level0_row5\" class=\"row_heading level0 row5\" >40-44</th>\n",
       "      <td id=\"T_04dff_row5_col0\" class=\"data row5 col0\" >1468.000000</td>\n",
       "      <td id=\"T_04dff_row5_col1\" class=\"data row5 col1\" >206.000000</td>\n",
       "      <td id=\"T_04dff_row5_col2\" class=\"data row5 col2\" >14.030000</td>\n",
       "    </tr>\n",
       "    <tr>\n",
       "      <th id=\"T_04dff_level0_row6\" class=\"row_heading level0 row6\" >44-48</th>\n",
       "      <td id=\"T_04dff_row6_col0\" class=\"data row6 col0\" >1009.000000</td>\n",
       "      <td id=\"T_04dff_row6_col1\" class=\"data row6 col1\" >133.000000</td>\n",
       "      <td id=\"T_04dff_row6_col2\" class=\"data row6 col2\" >13.180000</td>\n",
       "    </tr>\n",
       "    <tr>\n",
       "      <th id=\"T_04dff_level0_row7\" class=\"row_heading level0 row7\" >48-54</th>\n",
       "      <td id=\"T_04dff_row7_col0\" class=\"data row7 col0\" >1191.000000</td>\n",
       "      <td id=\"T_04dff_row7_col1\" class=\"data row7 col1\" >271.000000</td>\n",
       "      <td id=\"T_04dff_row7_col2\" class=\"data row7 col2\" >22.750000</td>\n",
       "    </tr>\n",
       "    <tr>\n",
       "      <th id=\"T_04dff_level0_row8\" class=\"row_heading level0 row8\" >54-61</th>\n",
       "      <td id=\"T_04dff_row8_col0\" class=\"data row8 col0\" >1228.000000</td>\n",
       "      <td id=\"T_04dff_row8_col1\" class=\"data row8 col1\" >321.000000</td>\n",
       "      <td id=\"T_04dff_row8_col2\" class=\"data row8 col2\" >26.140000</td>\n",
       "    </tr>\n",
       "    <tr>\n",
       "      <th id=\"T_04dff_level0_row9\" class=\"row_heading level0 row9\" >61-86</th>\n",
       "      <td id=\"T_04dff_row9_col0\" class=\"data row9 col0\" >1032.000000</td>\n",
       "      <td id=\"T_04dff_row9_col1\" class=\"data row9 col1\" >66.000000</td>\n",
       "      <td id=\"T_04dff_row9_col2\" class=\"data row9 col2\" >6.400000</td>\n",
       "    </tr>\n",
       "  </tbody>\n",
       "</table>\n"
      ],
      "text/plain": [
       "<pandas.io.formats.style.Styler at 0x20e6555fa90>"
      ]
     },
     "metadata": {},
     "output_type": "display_data"
    },
    {
     "data": {
      "image/png": "[encoded data removed]",
      "text/plain": [
       "<Figure size 1500x800 with 1 Axes>"
      ]
     },
     "metadata": {},
     "output_type": "display_data"
    },
    {
     "name": "stdout",
     "output_type": "stream",
     "text": [
      "\u001b[1m----------- Оценка оттока клиентов по сегментам параметра Кредитный рейтинг ----------- \u001b[0m\n"
     ]
    },
    {
     "data": {
      "text/html": [
       "<style type=\"text/css\">\n",
       "#T_90e41_row0_col2, #T_90e41_row1_col2, #T_90e41_row2_col2, #T_90e41_row8_col2, #T_90e41_row9_col2 {\n",
       "  background-color: lime;\n",
       "}\n",
       "#T_90e41_row3_col2, #T_90e41_row4_col2, #T_90e41_row5_col2, #T_90e41_row6_col2, #T_90e41_row7_col2 {\n",
       "  background-color: tomato;\n",
       "}\n",
       "</style>\n",
       "<table id=\"T_90e41\">\n",
       "  <thead>\n",
       "    <tr>\n",
       "      <th class=\"blank level0\" >&nbsp;</th>\n",
       "      <th id=\"T_90e41_level0_col0\" class=\"col_heading level0 col0\" >all</th>\n",
       "      <th id=\"T_90e41_level0_col1\" class=\"col_heading level0 col1\" >ottok</th>\n",
       "      <th id=\"T_90e41_level0_col2\" class=\"col_heading level0 col2\" >proc</th>\n",
       "    </tr>\n",
       "  </thead>\n",
       "  <tbody>\n",
       "    <tr>\n",
       "      <th id=\"T_90e41_level0_row0\" class=\"row_heading level0 row0\" >642-765</th>\n",
       "      <td id=\"T_90e41_row0_col0\" class=\"data row0 col0\" >1019.000000</td>\n",
       "      <td id=\"T_90e41_row0_col1\" class=\"data row0 col1\" >47.000000</td>\n",
       "      <td id=\"T_90e41_row0_col2\" class=\"data row0 col2\" >4.610000</td>\n",
       "    </tr>\n",
       "    <tr>\n",
       "      <th id=\"T_90e41_level0_row1\" class=\"row_heading level0 row1\" >765-791</th>\n",
       "      <td id=\"T_90e41_row1_col0\" class=\"data row1 col0\" >1024.000000</td>\n",
       "      <td id=\"T_90e41_row1_col1\" class=\"data row1 col1\" >107.000000</td>\n",
       "      <td id=\"T_90e41_row1_col2\" class=\"data row1 col2\" >10.450000</td>\n",
       "    </tr>\n",
       "    <tr>\n",
       "      <th id=\"T_90e41_level0_row2\" class=\"row_heading level0 row2\" >791-812</th>\n",
       "      <td id=\"T_90e41_row2_col0\" class=\"data row2 col0\" >1024.000000</td>\n",
       "      <td id=\"T_90e41_row2_col1\" class=\"data row2 col1\" >154.000000</td>\n",
       "      <td id=\"T_90e41_row2_col2\" class=\"data row2 col2\" >15.040000</td>\n",
       "    </tr>\n",
       "    <tr>\n",
       "      <th id=\"T_90e41_level0_row3\" class=\"row_heading level0 row3\" >812-832</th>\n",
       "      <td id=\"T_90e41_row3_col0\" class=\"data row3 col0\" >1044.000000</td>\n",
       "      <td id=\"T_90e41_row3_col1\" class=\"data row3 col1\" >196.000000</td>\n",
       "      <td id=\"T_90e41_row3_col2\" class=\"data row3 col2\" >18.770000</td>\n",
       "    </tr>\n",
       "    <tr>\n",
       "      <th id=\"T_90e41_level0_row4\" class=\"row_heading level0 row4\" >832-853</th>\n",
       "      <td id=\"T_90e41_row4_col0\" class=\"data row4 col0\" >1085.000000</td>\n",
       "      <td id=\"T_90e41_row4_col1\" class=\"data row4 col1\" >251.000000</td>\n",
       "      <td id=\"T_90e41_row4_col2\" class=\"data row4 col2\" >23.130000</td>\n",
       "    </tr>\n",
       "    <tr>\n",
       "      <th id=\"T_90e41_level0_row5\" class=\"row_heading level0 row5\" >853-873</th>\n",
       "      <td id=\"T_90e41_row5_col0\" class=\"data row5 col0\" >1024.000000</td>\n",
       "      <td id=\"T_90e41_row5_col1\" class=\"data row5 col1\" >309.000000</td>\n",
       "      <td id=\"T_90e41_row5_col2\" class=\"data row5 col2\" >30.180000</td>\n",
       "    </tr>\n",
       "    <tr>\n",
       "      <th id=\"T_90e41_level0_row6\" class=\"row_heading level0 row6\" >873-891</th>\n",
       "      <td id=\"T_90e41_row6_col0\" class=\"data row6 col0\" >1030.000000</td>\n",
       "      <td id=\"T_90e41_row6_col1\" class=\"data row6 col1\" >265.000000</td>\n",
       "      <td id=\"T_90e41_row6_col2\" class=\"data row6 col2\" >25.730000</td>\n",
       "    </tr>\n",
       "    <tr>\n",
       "      <th id=\"T_90e41_level0_row7\" class=\"row_heading level0 row7\" >891-908</th>\n",
       "      <td id=\"T_90e41_row7_col0\" class=\"data row7 col0\" >1089.000000</td>\n",
       "      <td id=\"T_90e41_row7_col1\" class=\"data row7 col1\" >225.000000</td>\n",
       "      <td id=\"T_90e41_row7_col2\" class=\"data row7 col2\" >20.660000</td>\n",
       "    </tr>\n",
       "    <tr>\n",
       "      <th id=\"T_90e41_level0_row8\" class=\"row_heading level0 row8\" >908-928</th>\n",
       "      <td id=\"T_90e41_row8_col0\" class=\"data row8 col0\" >1056.000000</td>\n",
       "      <td id=\"T_90e41_row8_col1\" class=\"data row8 col1\" >190.000000</td>\n",
       "      <td id=\"T_90e41_row8_col2\" class=\"data row8 col2\" >17.990000</td>\n",
       "    </tr>\n",
       "    <tr>\n",
       "      <th id=\"T_90e41_level0_row9\" class=\"row_heading level0 row9\" >928-1000</th>\n",
       "      <td id=\"T_90e41_row9_col0\" class=\"data row9 col0\" >1007.000000</td>\n",
       "      <td id=\"T_90e41_row9_col1\" class=\"data row9 col1\" >166.000000</td>\n",
       "      <td id=\"T_90e41_row9_col2\" class=\"data row9 col2\" >16.480000</td>\n",
       "    </tr>\n",
       "  </tbody>\n",
       "</table>\n"
      ],
      "text/plain": [
       "<pandas.io.formats.style.Styler at 0x20e664a34d0>"
      ]
     },
     "metadata": {},
     "output_type": "display_data"
    },
    {
     "data": {
      "image/png": "[encoded data removed]",
      "text/plain": [
       "<Figure size 1500x800 with 1 Axes>"
      ]
     },
     "metadata": {},
     "output_type": "display_data"
    },
    {
     "name": "stdout",
     "output_type": "stream",
     "text": [
      "\u001b[1m----------- Оценка оттока клиентов по сегментам параметра Баланс на счете ----------- \u001b[0m\n"
     ]
    },
    {
     "data": {
      "text/html": [
       "<style type=\"text/css\">\n",
       "#T_a2573_row0_col2, #T_a2573_row1_col2, #T_a2573_row2_col2, #T_a2573_row3_col2 {\n",
       "  background-color: lime;\n",
       "}\n",
       "#T_a2573_row4_col2, #T_a2573_row5_col2, #T_a2573_row6_col2, #T_a2573_row7_col2, #T_a2573_row8_col2, #T_a2573_row9_col2 {\n",
       "  background-color: tomato;\n",
       "}\n",
       "</style>\n",
       "<table id=\"T_a2573\">\n",
       "  <thead>\n",
       "    <tr>\n",
       "      <th class=\"blank level0\" >&nbsp;</th>\n",
       "      <th id=\"T_a2573_level0_col0\" class=\"col_heading level0 col0\" >all</th>\n",
       "      <th id=\"T_a2573_level0_col1\" class=\"col_heading level0 col1\" >ottok</th>\n",
       "      <th id=\"T_a2573_level0_col2\" class=\"col_heading level0 col2\" >proc</th>\n",
       "    </tr>\n",
       "  </thead>\n",
       "  <tbody>\n",
       "    <tr>\n",
       "      <th id=\"T_a2573_level0_row0\" class=\"row_heading level0 row0\" >0-159</th>\n",
       "      <td id=\"T_a2573_row0_col0\" class=\"data row0 col0\" >770.000000</td>\n",
       "      <td id=\"T_a2573_row0_col1\" class=\"data row0 col1\" >127.000000</td>\n",
       "      <td id=\"T_a2573_row0_col2\" class=\"data row0 col2\" >16.490000</td>\n",
       "    </tr>\n",
       "    <tr>\n",
       "      <th id=\"T_a2573_level0_row1\" class=\"row_heading level0 row1\" >159-256</th>\n",
       "      <td id=\"T_a2573_row1_col0\" class=\"data row1 col0\" >769.000000</td>\n",
       "      <td id=\"T_a2573_row1_col1\" class=\"data row1 col1\" >115.000000</td>\n",
       "      <td id=\"T_a2573_row1_col2\" class=\"data row1 col2\" >14.950000</td>\n",
       "    </tr>\n",
       "    <tr>\n",
       "      <th id=\"T_a2573_level0_row2\" class=\"row_heading level0 row2\" >256-337</th>\n",
       "      <td id=\"T_a2573_row2_col0\" class=\"data row2 col0\" >770.000000</td>\n",
       "      <td id=\"T_a2573_row2_col1\" class=\"data row2 col1\" >122.000000</td>\n",
       "      <td id=\"T_a2573_row2_col2\" class=\"data row2 col2\" >15.840000</td>\n",
       "    </tr>\n",
       "    <tr>\n",
       "      <th id=\"T_a2573_level0_row3\" class=\"row_heading level0 row3\" >337-419</th>\n",
       "      <td id=\"T_a2573_row3_col0\" class=\"data row3 col0\" >769.000000</td>\n",
       "      <td id=\"T_a2573_row3_col1\" class=\"data row3 col1\" >136.000000</td>\n",
       "      <td id=\"T_a2573_row3_col2\" class=\"data row3 col2\" >17.690000</td>\n",
       "    </tr>\n",
       "    <tr>\n",
       "      <th id=\"T_a2573_level0_row4\" class=\"row_heading level0 row4\" >419-524</th>\n",
       "      <td id=\"T_a2573_row4_col0\" class=\"data row4 col0\" >770.000000</td>\n",
       "      <td id=\"T_a2573_row4_col1\" class=\"data row4 col1\" >147.000000</td>\n",
       "      <td id=\"T_a2573_row4_col2\" class=\"data row4 col2\" >19.090000</td>\n",
       "    </tr>\n",
       "    <tr>\n",
       "      <th id=\"T_a2573_level0_row5\" class=\"row_heading level0 row5\" >524-660</th>\n",
       "      <td id=\"T_a2573_row5_col0\" class=\"data row5 col0\" >770.000000</td>\n",
       "      <td id=\"T_a2573_row5_col1\" class=\"data row5 col1\" >145.000000</td>\n",
       "      <td id=\"T_a2573_row5_col2\" class=\"data row5 col2\" >18.830000</td>\n",
       "    </tr>\n",
       "    <tr>\n",
       "      <th id=\"T_a2573_level0_row6\" class=\"row_heading level0 row6\" >660-853</th>\n",
       "      <td id=\"T_a2573_row6_col0\" class=\"data row6 col0\" >769.000000</td>\n",
       "      <td id=\"T_a2573_row6_col1\" class=\"data row6 col1\" >181.000000</td>\n",
       "      <td id=\"T_a2573_row6_col2\" class=\"data row6 col2\" >23.540000</td>\n",
       "    </tr>\n",
       "    <tr>\n",
       "      <th id=\"T_a2573_level0_row7\" class=\"row_heading level0 row7\" >853-1125</th>\n",
       "      <td id=\"T_a2573_row7_col0\" class=\"data row7 col0\" >770.000000</td>\n",
       "      <td id=\"T_a2573_row7_col1\" class=\"data row7 col1\" >192.000000</td>\n",
       "      <td id=\"T_a2573_row7_col2\" class=\"data row7 col2\" >24.940000</td>\n",
       "    </tr>\n",
       "    <tr>\n",
       "      <th id=\"T_a2573_level0_row8\" class=\"row_heading level0 row8\" >1125-1460</th>\n",
       "      <td id=\"T_a2573_row8_col0\" class=\"data row8 col0\" >769.000000</td>\n",
       "      <td id=\"T_a2573_row8_col1\" class=\"data row8 col1\" >266.000000</td>\n",
       "      <td id=\"T_a2573_row8_col2\" class=\"data row8 col2\" >34.590000</td>\n",
       "    </tr>\n",
       "    <tr>\n",
       "      <th id=\"T_a2573_level0_row9\" class=\"row_heading level0 row9\" >1460-119113</th>\n",
       "      <td id=\"T_a2573_row9_col0\" class=\"data row9 col0\" >770.000000</td>\n",
       "      <td id=\"T_a2573_row9_col1\" class=\"data row9 col1\" >376.000000</td>\n",
       "      <td id=\"T_a2573_row9_col2\" class=\"data row9 col2\" >48.830000</td>\n",
       "    </tr>\n",
       "  </tbody>\n",
       "</table>\n"
      ],
      "text/plain": [
       "<pandas.io.formats.style.Styler at 0x20e63387f10>"
      ]
     },
     "metadata": {},
     "output_type": "display_data"
    },
    {
     "data": {
      "image/png": "[encoded data removed]",
      "text/plain": [
       "<Figure size 1500x800 with 1 Axes>"
      ]
     },
     "metadata": {},
     "output_type": "display_data"
    },
    {
     "name": "stdout",
     "output_type": "stream",
     "text": [
      "\u001b[1m----------- Оценка оттока клиентов по сегментам параметра Оценочный доход ----------- \u001b[0m\n"
     ]
    },
    {
     "data": {
      "text/html": [
       "<style type=\"text/css\">\n",
       "#T_23b62_row0_col2, #T_23b62_row1_col2, #T_23b62_row2_col2, #T_23b62_row3_col2, #T_23b62_row9_col2 {\n",
       "  background-color: lime;\n",
       "}\n",
       "#T_23b62_row4_col2, #T_23b62_row5_col2, #T_23b62_row6_col2, #T_23b62_row7_col2, #T_23b62_row8_col2 {\n",
       "  background-color: tomato;\n",
       "}\n",
       "</style>\n",
       "<table id=\"T_23b62\">\n",
       "  <thead>\n",
       "    <tr>\n",
       "      <th class=\"blank level0\" >&nbsp;</th>\n",
       "      <th id=\"T_23b62_level0_col0\" class=\"col_heading level0 col0\" >all</th>\n",
       "      <th id=\"T_23b62_level0_col1\" class=\"col_heading level0 col1\" >ottok</th>\n",
       "      <th id=\"T_23b62_level0_col2\" class=\"col_heading level0 col2\" >proc</th>\n",
       "    </tr>\n",
       "  </thead>\n",
       "  <tbody>\n",
       "    <tr>\n",
       "      <th id=\"T_23b62_level0_row0\" class=\"row_heading level0 row0\" >2-45</th>\n",
       "      <td id=\"T_23b62_row0_col0\" class=\"data row0 col0\" >998.000000</td>\n",
       "      <td id=\"T_23b62_row0_col1\" class=\"data row0 col1\" >137.000000</td>\n",
       "      <td id=\"T_23b62_row0_col2\" class=\"data row0 col2\" >13.730000</td>\n",
       "    </tr>\n",
       "    <tr>\n",
       "      <th id=\"T_23b62_level0_row1\" class=\"row_heading level0 row1\" >45-66</th>\n",
       "      <td id=\"T_23b62_row1_col0\" class=\"data row1 col0\" >997.000000</td>\n",
       "      <td id=\"T_23b62_row1_col1\" class=\"data row1 col1\" >160.000000</td>\n",
       "      <td id=\"T_23b62_row1_col2\" class=\"data row1 col2\" >16.050000</td>\n",
       "    </tr>\n",
       "    <tr>\n",
       "      <th id=\"T_23b62_level0_row2\" class=\"row_heading level0 row2\" >66-83</th>\n",
       "      <td id=\"T_23b62_row2_col0\" class=\"data row2 col0\" >997.000000</td>\n",
       "      <td id=\"T_23b62_row2_col1\" class=\"data row2 col1\" >168.000000</td>\n",
       "      <td id=\"T_23b62_row2_col2\" class=\"data row2 col2\" >16.850000</td>\n",
       "    </tr>\n",
       "    <tr>\n",
       "      <th id=\"T_23b62_level0_row3\" class=\"row_heading level0 row3\" >83-101</th>\n",
       "      <td id=\"T_23b62_row3_col0\" class=\"data row3 col0\" >997.000000</td>\n",
       "      <td id=\"T_23b62_row3_col1\" class=\"data row3 col1\" >174.000000</td>\n",
       "      <td id=\"T_23b62_row3_col2\" class=\"data row3 col2\" >17.450000</td>\n",
       "    </tr>\n",
       "    <tr>\n",
       "      <th id=\"T_23b62_level0_row4\" class=\"row_heading level0 row4\" >101-119</th>\n",
       "      <td id=\"T_23b62_row4_col0\" class=\"data row4 col0\" >998.000000</td>\n",
       "      <td id=\"T_23b62_row4_col1\" class=\"data row4 col1\" >208.000000</td>\n",
       "      <td id=\"T_23b62_row4_col2\" class=\"data row4 col2\" >20.840000</td>\n",
       "    </tr>\n",
       "    <tr>\n",
       "      <th id=\"T_23b62_level0_row5\" class=\"row_heading level0 row5\" >119-139</th>\n",
       "      <td id=\"T_23b62_row5_col0\" class=\"data row5 col0\" >998.000000</td>\n",
       "      <td id=\"T_23b62_row5_col1\" class=\"data row5 col1\" >203.000000</td>\n",
       "      <td id=\"T_23b62_row5_col2\" class=\"data row5 col2\" >20.340000</td>\n",
       "    </tr>\n",
       "    <tr>\n",
       "      <th id=\"T_23b62_level0_row6\" class=\"row_heading level0 row6\" >139-161</th>\n",
       "      <td id=\"T_23b62_row6_col0\" class=\"data row6 col0\" >997.000000</td>\n",
       "      <td id=\"T_23b62_row6_col1\" class=\"data row6 col1\" >193.000000</td>\n",
       "      <td id=\"T_23b62_row6_col2\" class=\"data row6 col2\" >19.360000</td>\n",
       "    </tr>\n",
       "    <tr>\n",
       "      <th id=\"T_23b62_level0_row7\" class=\"row_heading level0 row7\" >161-189</th>\n",
       "      <td id=\"T_23b62_row7_col0\" class=\"data row7 col0\" >997.000000</td>\n",
       "      <td id=\"T_23b62_row7_col1\" class=\"data row7 col1\" >207.000000</td>\n",
       "      <td id=\"T_23b62_row7_col2\" class=\"data row7 col2\" >20.760000</td>\n",
       "    </tr>\n",
       "    <tr>\n",
       "      <th id=\"T_23b62_level0_row8\" class=\"row_heading level0 row8\" >189-242</th>\n",
       "      <td id=\"T_23b62_row8_col0\" class=\"data row8 col0\" >997.000000</td>\n",
       "      <td id=\"T_23b62_row8_col1\" class=\"data row8 col1\" >194.000000</td>\n",
       "      <td id=\"T_23b62_row8_col2\" class=\"data row8 col2\" >19.460000</td>\n",
       "    </tr>\n",
       "    <tr>\n",
       "      <th id=\"T_23b62_level0_row9\" class=\"row_heading level0 row9\" >242-1395</th>\n",
       "      <td id=\"T_23b62_row9_col0\" class=\"data row9 col0\" >998.000000</td>\n",
       "      <td id=\"T_23b62_row9_col1\" class=\"data row9 col1\" >174.000000</td>\n",
       "      <td id=\"T_23b62_row9_col2\" class=\"data row9 col2\" >17.430000</td>\n",
       "    </tr>\n",
       "  </tbody>\n",
       "</table>\n"
      ],
      "text/plain": [
       "<pandas.io.formats.style.Styler at 0x20e65764a50>"
      ]
     },
     "metadata": {},
     "output_type": "display_data"
    },
    {
     "data": {
      "image/png": "[encoded data removed]",
      "text/plain": [
       "<Figure size 1500x800 with 1 Axes>"
      ]
     },
     "metadata": {},
     "output_type": "display_data"
    }
   ],
   "source": [
    "#цикл вывода процентоа оттока по интервалам в непрерывных колонках\n",
    "for col in ['age', 'score', 'balance', 'est_salary']:\n",
    "    ottok_col = proc_ottok_num(col)\n",
    "    \n",
    "   \n",
    "    print('\\033[1m' + '----------- Оценка оттока клиентов по сегментам параметра '+col_rus[col][0]+' ----------- \\033[0m')\n",
    "    display(ottok_col.style.apply(highlight_proc, subset='proc'))\n",
    "    \n",
    "    ottok_col['seg'] = ottok_col.index\n",
    "    ottok_col['col'] = col    \n",
    "    ottok_col_all = pd.concat([ottok_col_all, ottok_col], ignore_index=False)\n",
    "\n",
    "#    plt.figure(figsize=(15,8))\n",
    "    plt.bar(x = ottok_col.index, height = ottok_col['proc'], color='green')\n",
    "    plt.axhline(y=ottok_base, color='red')\n",
    "    plt.ylabel('% оттока')\n",
    "    plt.xlabel(col_rus[col][1])\n",
    "    plt.title('Процент оттока клиентов по сегментам параметра '+col_rus[col][0])\n",
    "    plt.text(-1.4, ottok_base , ottok_base, color='red')\n",
    "    if col in ['balance', 'est_salary']: plt.xticks(rotation = 45)\n",
    "    plt.show()"
   ]
  },
  {
   "cell_type": "markdown",
   "id": "16a187dd",
   "metadata": {},
   "source": [
    "В непрерывных колонках отток выше среднего у клиентов со следующими параметрами:\n",
    "    \n",
    "* возраст 18-35 или 48-61\n",
    "* кредитный рейтинг в интервле 812 - 908\n",
    "* баланс на счете больше 420 т.р.\n",
    "* оценочный доход в интервале 101 - 242\n",
    "\n",
    "Для дальнейшего использования выявленых сегментов может окрулить????"
   ]
  },
  {
   "cell_type": "markdown",
   "id": "1aaf72c1",
   "metadata": {},
   "source": [
    "## Корреляция признаков"
   ]
  },
  {
   "cell_type": "markdown",
   "id": "2ccc1cd9",
   "metadata": {},
   "source": [
    "Для вычисления корреляции неупорядоченных категориальных колонок (gender и city) требуется их кодирование. Создаем копию датасета с новыми стобцами фиктивных переменных, которые кодируют данные в категориальных колонках"
   ]
  },
  {
   "cell_type": "code",
   "execution_count": 33,
   "id": "008e5280",
   "metadata": {
    "scrolled": true
   },
   "outputs": [
    {
     "data": {
      "text/html": [
       "<div>\n",
       "<style scoped>\n",
       "    .dataframe tbody tr th:only-of-type {\n",
       "        vertical-align: middle;\n",
       "    }\n",
       "\n",
       "    .dataframe tbody tr th {\n",
       "        vertical-align: top;\n",
       "    }\n",
       "\n",
       "    .dataframe thead th {\n",
       "        text-align: right;\n",
       "    }\n",
       "</style>\n",
       "<table border=\"1\" class=\"dataframe\">\n",
       "  <thead>\n",
       "    <tr style=\"text-align: right;\">\n",
       "      <th></th>\n",
       "      <th>score</th>\n",
       "      <th>age</th>\n",
       "      <th>equity</th>\n",
       "      <th>balance</th>\n",
       "      <th>products</th>\n",
       "      <th>credit_card</th>\n",
       "      <th>last_activity</th>\n",
       "      <th>est_salary</th>\n",
       "      <th>churn</th>\n",
       "      <th>gender_Ж</th>\n",
       "      <th>gender_М</th>\n",
       "      <th>city_Ростов</th>\n",
       "      <th>city_Рыбинск</th>\n",
       "      <th>city_Ярославль</th>\n",
       "    </tr>\n",
       "  </thead>\n",
       "  <tbody>\n",
       "    <tr>\n",
       "      <th>0</th>\n",
       "      <td>850.00</td>\n",
       "      <td>25.00</td>\n",
       "      <td>1</td>\n",
       "      <td>59214.82</td>\n",
       "      <td>2</td>\n",
       "      <td>0</td>\n",
       "      <td>1</td>\n",
       "      <td>75719.14</td>\n",
       "      <td>1</td>\n",
       "      <td>True</td>\n",
       "      <td>False</td>\n",
       "      <td>False</td>\n",
       "      <td>True</td>\n",
       "      <td>False</td>\n",
       "    </tr>\n",
       "    <tr>\n",
       "      <th>1</th>\n",
       "      <td>861.00</td>\n",
       "      <td>37.00</td>\n",
       "      <td>5</td>\n",
       "      <td>850594.33</td>\n",
       "      <td>3</td>\n",
       "      <td>1</td>\n",
       "      <td>0</td>\n",
       "      <td>86621.77</td>\n",
       "      <td>0</td>\n",
       "      <td>True</td>\n",
       "      <td>False</td>\n",
       "      <td>False</td>\n",
       "      <td>True</td>\n",
       "      <td>False</td>\n",
       "    </tr>\n",
       "    <tr>\n",
       "      <th>2</th>\n",
       "      <td>892.00</td>\n",
       "      <td>30.00</td>\n",
       "      <td>0</td>\n",
       "      <td>NaN</td>\n",
       "      <td>1</td>\n",
       "      <td>1</td>\n",
       "      <td>1</td>\n",
       "      <td>107683.34</td>\n",
       "      <td>0</td>\n",
       "      <td>True</td>\n",
       "      <td>False</td>\n",
       "      <td>False</td>\n",
       "      <td>True</td>\n",
       "      <td>False</td>\n",
       "    </tr>\n",
       "    <tr>\n",
       "      <th>3</th>\n",
       "      <td>866.00</td>\n",
       "      <td>51.00</td>\n",
       "      <td>5</td>\n",
       "      <td>1524746.26</td>\n",
       "      <td>2</td>\n",
       "      <td>0</td>\n",
       "      <td>1</td>\n",
       "      <td>174423.53</td>\n",
       "      <td>1</td>\n",
       "      <td>True</td>\n",
       "      <td>False</td>\n",
       "      <td>False</td>\n",
       "      <td>False</td>\n",
       "      <td>True</td>\n",
       "    </tr>\n",
       "    <tr>\n",
       "      <th>4</th>\n",
       "      <td>730.00</td>\n",
       "      <td>34.00</td>\n",
       "      <td>5</td>\n",
       "      <td>174.00</td>\n",
       "      <td>1</td>\n",
       "      <td>1</td>\n",
       "      <td>0</td>\n",
       "      <td>67353.16</td>\n",
       "      <td>1</td>\n",
       "      <td>False</td>\n",
       "      <td>True</td>\n",
       "      <td>False</td>\n",
       "      <td>False</td>\n",
       "      <td>True</td>\n",
       "    </tr>\n",
       "  </tbody>\n",
       "</table>\n",
       "</div>"
      ],
      "text/plain": [
       "   score   age  equity    balance  products  credit_card  last_activity  \\\n",
       "0 850.00 25.00       1   59214.82         2            0              1   \n",
       "1 861.00 37.00       5  850594.33         3            1              0   \n",
       "2 892.00 30.00       0        NaN         1            1              1   \n",
       "3 866.00 51.00       5 1524746.26         2            0              1   \n",
       "4 730.00 34.00       5     174.00         1            1              0   \n",
       "\n",
       "   est_salary  churn  gender_Ж  gender_М  city_Ростов  city_Рыбинск  \\\n",
       "0    75719.14      1      True     False        False          True   \n",
       "1    86621.77      0      True     False        False          True   \n",
       "2   107683.34      0      True     False        False          True   \n",
       "3   174423.53      1      True     False        False         False   \n",
       "4    67353.16      1     False      True        False         False   \n",
       "\n",
       "   city_Ярославль  \n",
       "0           False  \n",
       "1           False  \n",
       "2           False  \n",
       "3            True  \n",
       "4            True  "
      ]
     },
     "execution_count": 33,
     "metadata": {},
     "output_type": "execute_result"
    }
   ],
   "source": [
    "data_corr = pd.get_dummies(data, columns=['gender', 'city'], drop_first=False)\n",
    "data_corr = data_corr.drop('userid', axis=1)\n",
    "data_corr.head()"
   ]
  },
  {
   "cell_type": "code",
   "execution_count": 34,
   "id": "76bffa87",
   "metadata": {},
   "outputs": [],
   "source": [
    "# ------- Функция подсветки корреляции ----------\n",
    "# подсветить зеленым умеренную и более тестную связь (0,3–1) по шкале Чеддока\n",
    "def highlight_corr(s):\n",
    "    return ['background-color: lime' if abs(val) > 0.3 else 'background-color: tomato' for val in s]\n"
   ]
  },
  {
   "cell_type": "markdown",
   "id": "e7ddddaf",
   "metadata": {},
   "source": [
    "Вычисляем попарные коэффициенты корреляции"
   ]
  },
  {
   "cell_type": "code",
   "execution_count": 35,
   "id": "807ebe5e",
   "metadata": {
    "scrolled": false
   },
   "outputs": [
    {
     "data": {
      "text/html": [
       "<style type=\"text/css\">\n",
       "#T_be592_row0_col0, #T_be592_row1_col1, #T_be592_row2_col2, #T_be592_row2_col4, #T_be592_row3_col3, #T_be592_row3_col7, #T_be592_row4_col2, #T_be592_row4_col4, #T_be592_row4_col8, #T_be592_row5_col5, #T_be592_row6_col6, #T_be592_row7_col3, #T_be592_row7_col7, #T_be592_row8_col4, #T_be592_row8_col8, #T_be592_row9_col9, #T_be592_row9_col10, #T_be592_row10_col9, #T_be592_row10_col10, #T_be592_row11_col11, #T_be592_row11_col13, #T_be592_row12_col12, #T_be592_row12_col13, #T_be592_row13_col11, #T_be592_row13_col12, #T_be592_row13_col13 {\n",
       "  background-color: lime;\n",
       "}\n",
       "#T_be592_row0_col1, #T_be592_row0_col2, #T_be592_row0_col3, #T_be592_row0_col4, #T_be592_row0_col5, #T_be592_row0_col6, #T_be592_row0_col7, #T_be592_row0_col8, #T_be592_row0_col9, #T_be592_row0_col10, #T_be592_row0_col11, #T_be592_row0_col12, #T_be592_row0_col13, #T_be592_row1_col0, #T_be592_row1_col2, #T_be592_row1_col3, #T_be592_row1_col4, #T_be592_row1_col5, #T_be592_row1_col6, #T_be592_row1_col7, #T_be592_row1_col8, #T_be592_row1_col9, #T_be592_row1_col10, #T_be592_row1_col11, #T_be592_row1_col12, #T_be592_row1_col13, #T_be592_row2_col0, #T_be592_row2_col1, #T_be592_row2_col3, #T_be592_row2_col5, #T_be592_row2_col6, #T_be592_row2_col7, #T_be592_row2_col8, #T_be592_row2_col9, #T_be592_row2_col10, #T_be592_row2_col11, #T_be592_row2_col12, #T_be592_row2_col13, #T_be592_row3_col0, #T_be592_row3_col1, #T_be592_row3_col2, #T_be592_row3_col4, #T_be592_row3_col5, #T_be592_row3_col6, #T_be592_row3_col8, #T_be592_row3_col9, #T_be592_row3_col10, #T_be592_row3_col11, #T_be592_row3_col12, #T_be592_row3_col13, #T_be592_row4_col0, #T_be592_row4_col1, #T_be592_row4_col3, #T_be592_row4_col5, #T_be592_row4_col6, #T_be592_row4_col7, #T_be592_row4_col9, #T_be592_row4_col10, #T_be592_row4_col11, #T_be592_row4_col12, #T_be592_row4_col13, #T_be592_row5_col0, #T_be592_row5_col1, #T_be592_row5_col2, #T_be592_row5_col3, #T_be592_row5_col4, #T_be592_row5_col6, #T_be592_row5_col7, #T_be592_row5_col8, #T_be592_row5_col9, #T_be592_row5_col10, #T_be592_row5_col11, #T_be592_row5_col12, #T_be592_row5_col13, #T_be592_row6_col0, #T_be592_row6_col1, #T_be592_row6_col2, #T_be592_row6_col3, #T_be592_row6_col4, #T_be592_row6_col5, #T_be592_row6_col7, #T_be592_row6_col8, #T_be592_row6_col9, #T_be592_row6_col10, #T_be592_row6_col11, #T_be592_row6_col12, #T_be592_row6_col13, #T_be592_row7_col0, #T_be592_row7_col1, #T_be592_row7_col2, #T_be592_row7_col4, #T_be592_row7_col5, #T_be592_row7_col6, #T_be592_row7_col8, #T_be592_row7_col9, #T_be592_row7_col10, #T_be592_row7_col11, #T_be592_row7_col12, #T_be592_row7_col13, #T_be592_row8_col0, #T_be592_row8_col1, #T_be592_row8_col2, #T_be592_row8_col3, #T_be592_row8_col5, #T_be592_row8_col6, #T_be592_row8_col7, #T_be592_row8_col9, #T_be592_row8_col10, #T_be592_row8_col11, #T_be592_row8_col12, #T_be592_row8_col13, #T_be592_row9_col0, #T_be592_row9_col1, #T_be592_row9_col2, #T_be592_row9_col3, #T_be592_row9_col4, #T_be592_row9_col5, #T_be592_row9_col6, #T_be592_row9_col7, #T_be592_row9_col8, #T_be592_row9_col11, #T_be592_row9_col12, #T_be592_row9_col13, #T_be592_row10_col0, #T_be592_row10_col1, #T_be592_row10_col2, #T_be592_row10_col3, #T_be592_row10_col4, #T_be592_row10_col5, #T_be592_row10_col6, #T_be592_row10_col7, #T_be592_row10_col8, #T_be592_row10_col11, #T_be592_row10_col12, #T_be592_row10_col13, #T_be592_row11_col0, #T_be592_row11_col1, #T_be592_row11_col2, #T_be592_row11_col3, #T_be592_row11_col4, #T_be592_row11_col5, #T_be592_row11_col6, #T_be592_row11_col7, #T_be592_row11_col8, #T_be592_row11_col9, #T_be592_row11_col10, #T_be592_row11_col12, #T_be592_row12_col0, #T_be592_row12_col1, #T_be592_row12_col2, #T_be592_row12_col3, #T_be592_row12_col4, #T_be592_row12_col5, #T_be592_row12_col6, #T_be592_row12_col7, #T_be592_row12_col8, #T_be592_row12_col9, #T_be592_row12_col10, #T_be592_row12_col11, #T_be592_row13_col0, #T_be592_row13_col1, #T_be592_row13_col2, #T_be592_row13_col3, #T_be592_row13_col4, #T_be592_row13_col5, #T_be592_row13_col6, #T_be592_row13_col7, #T_be592_row13_col8, #T_be592_row13_col9, #T_be592_row13_col10 {\n",
       "  background-color: tomato;\n",
       "}\n",
       "</style>\n",
       "<table id=\"T_be592\">\n",
       "  <thead>\n",
       "    <tr>\n",
       "      <th class=\"blank level0\" >&nbsp;</th>\n",
       "      <th id=\"T_be592_level0_col0\" class=\"col_heading level0 col0\" >score</th>\n",
       "      <th id=\"T_be592_level0_col1\" class=\"col_heading level0 col1\" >age</th>\n",
       "      <th id=\"T_be592_level0_col2\" class=\"col_heading level0 col2\" >equity</th>\n",
       "      <th id=\"T_be592_level0_col3\" class=\"col_heading level0 col3\" >balance</th>\n",
       "      <th id=\"T_be592_level0_col4\" class=\"col_heading level0 col4\" >products</th>\n",
       "      <th id=\"T_be592_level0_col5\" class=\"col_heading level0 col5\" >credit_card</th>\n",
       "      <th id=\"T_be592_level0_col6\" class=\"col_heading level0 col6\" >last_activity</th>\n",
       "      <th id=\"T_be592_level0_col7\" class=\"col_heading level0 col7\" >est_salary</th>\n",
       "      <th id=\"T_be592_level0_col8\" class=\"col_heading level0 col8\" >churn</th>\n",
       "      <th id=\"T_be592_level0_col9\" class=\"col_heading level0 col9\" >gender_Ж</th>\n",
       "      <th id=\"T_be592_level0_col10\" class=\"col_heading level0 col10\" >gender_М</th>\n",
       "      <th id=\"T_be592_level0_col11\" class=\"col_heading level0 col11\" >city_Ростов</th>\n",
       "      <th id=\"T_be592_level0_col12\" class=\"col_heading level0 col12\" >city_Рыбинск</th>\n",
       "      <th id=\"T_be592_level0_col13\" class=\"col_heading level0 col13\" >city_Ярославль</th>\n",
       "    </tr>\n",
       "  </thead>\n",
       "  <tbody>\n",
       "    <tr>\n",
       "      <th id=\"T_be592_level0_row0\" class=\"row_heading level0 row0\" >score</th>\n",
       "      <td id=\"T_be592_row0_col0\" class=\"data row0 col0\" >1.000</td>\n",
       "      <td id=\"T_be592_row0_col1\" class=\"data row0 col1\" >-0.012</td>\n",
       "      <td id=\"T_be592_row0_col2\" class=\"data row0 col2\" >0.065</td>\n",
       "      <td id=\"T_be592_row0_col3\" class=\"data row0 col3\" >0.235</td>\n",
       "      <td id=\"T_be592_row0_col4\" class=\"data row0 col4\" >-0.004</td>\n",
       "      <td id=\"T_be592_row0_col5\" class=\"data row0 col5\" >-0.095</td>\n",
       "      <td id=\"T_be592_row0_col6\" class=\"data row0 col6\" >-0.030</td>\n",
       "      <td id=\"T_be592_row0_col7\" class=\"data row0 col7\" >0.164</td>\n",
       "      <td id=\"T_be592_row0_col8\" class=\"data row0 col8\" >0.106</td>\n",
       "      <td id=\"T_be592_row0_col9\" class=\"data row0 col9\" >-0.011</td>\n",
       "      <td id=\"T_be592_row0_col10\" class=\"data row0 col10\" >0.011</td>\n",
       "      <td id=\"T_be592_row0_col11\" class=\"data row0 col11\" >-0.038</td>\n",
       "      <td id=\"T_be592_row0_col12\" class=\"data row0 col12\" >-0.001</td>\n",
       "      <td id=\"T_be592_row0_col13\" class=\"data row0 col13\" >0.028</td>\n",
       "    </tr>\n",
       "    <tr>\n",
       "      <th id=\"T_be592_level0_row1\" class=\"row_heading level0 row1\" >age</th>\n",
       "      <td id=\"T_be592_row1_col0\" class=\"data row1 col0\" >-0.012</td>\n",
       "      <td id=\"T_be592_row1_col1\" class=\"data row1 col1\" >1.000</td>\n",
       "      <td id=\"T_be592_row1_col2\" class=\"data row1 col2\" >0.021</td>\n",
       "      <td id=\"T_be592_row1_col3\" class=\"data row1 col3\" >0.070</td>\n",
       "      <td id=\"T_be592_row1_col4\" class=\"data row1 col4\" >0.018</td>\n",
       "      <td id=\"T_be592_row1_col5\" class=\"data row1 col5\" >-0.123</td>\n",
       "      <td id=\"T_be592_row1_col6\" class=\"data row1 col6\" >-0.008</td>\n",
       "      <td id=\"T_be592_row1_col7\" class=\"data row1 col7\" >-0.039</td>\n",
       "      <td id=\"T_be592_row1_col8\" class=\"data row1 col8\" >-0.050</td>\n",
       "      <td id=\"T_be592_row1_col9\" class=\"data row1 col9\" >0.213</td>\n",
       "      <td id=\"T_be592_row1_col10\" class=\"data row1 col10\" >-0.213</td>\n",
       "      <td id=\"T_be592_row1_col11\" class=\"data row1 col11\" >0.047</td>\n",
       "      <td id=\"T_be592_row1_col12\" class=\"data row1 col12\" >0.029</td>\n",
       "      <td id=\"T_be592_row1_col13\" class=\"data row1 col13\" >-0.060</td>\n",
       "    </tr>\n",
       "    <tr>\n",
       "      <th id=\"T_be592_level0_row2\" class=\"row_heading level0 row2\" >equity</th>\n",
       "      <td id=\"T_be592_row2_col0\" class=\"data row2 col0\" >0.065</td>\n",
       "      <td id=\"T_be592_row2_col1\" class=\"data row2 col1\" >0.021</td>\n",
       "      <td id=\"T_be592_row2_col2\" class=\"data row2 col2\" >1.000</td>\n",
       "      <td id=\"T_be592_row2_col3\" class=\"data row2 col3\" >0.164</td>\n",
       "      <td id=\"T_be592_row2_col4\" class=\"data row2 col4\" >0.431</td>\n",
       "      <td id=\"T_be592_row2_col5\" class=\"data row2 col5\" >-0.167</td>\n",
       "      <td id=\"T_be592_row2_col6\" class=\"data row2 col6\" >-0.002</td>\n",
       "      <td id=\"T_be592_row2_col7\" class=\"data row2 col7\" >-0.172</td>\n",
       "      <td id=\"T_be592_row2_col8\" class=\"data row2 col8\" >0.270</td>\n",
       "      <td id=\"T_be592_row2_col9\" class=\"data row2 col9\" >0.021</td>\n",
       "      <td id=\"T_be592_row2_col10\" class=\"data row2 col10\" >-0.021</td>\n",
       "      <td id=\"T_be592_row2_col11\" class=\"data row2 col11\" >0.035</td>\n",
       "      <td id=\"T_be592_row2_col12\" class=\"data row2 col12\" >-0.005</td>\n",
       "      <td id=\"T_be592_row2_col13\" class=\"data row2 col13\" >-0.021</td>\n",
       "    </tr>\n",
       "    <tr>\n",
       "      <th id=\"T_be592_level0_row3\" class=\"row_heading level0 row3\" >balance</th>\n",
       "      <td id=\"T_be592_row3_col0\" class=\"data row3 col0\" >0.235</td>\n",
       "      <td id=\"T_be592_row3_col1\" class=\"data row3 col1\" >0.070</td>\n",
       "      <td id=\"T_be592_row3_col2\" class=\"data row3 col2\" >0.164</td>\n",
       "      <td id=\"T_be592_row3_col3\" class=\"data row3 col3\" >1.000</td>\n",
       "      <td id=\"T_be592_row3_col4\" class=\"data row3 col4\" >0.076</td>\n",
       "      <td id=\"T_be592_row3_col5\" class=\"data row3 col5\" >-0.060</td>\n",
       "      <td id=\"T_be592_row3_col6\" class=\"data row3 col6\" >0.025</td>\n",
       "      <td id=\"T_be592_row3_col7\" class=\"data row3 col7\" >0.339</td>\n",
       "      <td id=\"T_be592_row3_col8\" class=\"data row3 col8\" >0.086</td>\n",
       "      <td id=\"T_be592_row3_col9\" class=\"data row3 col9\" >-0.051</td>\n",
       "      <td id=\"T_be592_row3_col10\" class=\"data row3 col10\" >0.051</td>\n",
       "      <td id=\"T_be592_row3_col11\" class=\"data row3 col11\" >-0.036</td>\n",
       "      <td id=\"T_be592_row3_col12\" class=\"data row3 col12\" >-0.034</td>\n",
       "      <td id=\"T_be592_row3_col13\" class=\"data row3 col13\" >0.057</td>\n",
       "    </tr>\n",
       "    <tr>\n",
       "      <th id=\"T_be592_level0_row4\" class=\"row_heading level0 row4\" >products</th>\n",
       "      <td id=\"T_be592_row4_col0\" class=\"data row4 col0\" >-0.004</td>\n",
       "      <td id=\"T_be592_row4_col1\" class=\"data row4 col1\" >0.018</td>\n",
       "      <td id=\"T_be592_row4_col2\" class=\"data row4 col2\" >0.431</td>\n",
       "      <td id=\"T_be592_row4_col3\" class=\"data row4 col3\" >0.076</td>\n",
       "      <td id=\"T_be592_row4_col4\" class=\"data row4 col4\" >1.000</td>\n",
       "      <td id=\"T_be592_row4_col5\" class=\"data row4 col5\" >-0.252</td>\n",
       "      <td id=\"T_be592_row4_col6\" class=\"data row4 col6\" >0.037</td>\n",
       "      <td id=\"T_be592_row4_col7\" class=\"data row4 col7\" >-0.118</td>\n",
       "      <td id=\"T_be592_row4_col8\" class=\"data row4 col8\" >0.301</td>\n",
       "      <td id=\"T_be592_row4_col9\" class=\"data row4 col9\" >0.022</td>\n",
       "      <td id=\"T_be592_row4_col10\" class=\"data row4 col10\" >-0.022</td>\n",
       "      <td id=\"T_be592_row4_col11\" class=\"data row4 col11\" >-0.007</td>\n",
       "      <td id=\"T_be592_row4_col12\" class=\"data row4 col12\" >-0.042</td>\n",
       "      <td id=\"T_be592_row4_col13\" class=\"data row4 col13\" >0.043</td>\n",
       "    </tr>\n",
       "    <tr>\n",
       "      <th id=\"T_be592_level0_row5\" class=\"row_heading level0 row5\" >credit_card</th>\n",
       "      <td id=\"T_be592_row5_col0\" class=\"data row5 col0\" >-0.095</td>\n",
       "      <td id=\"T_be592_row5_col1\" class=\"data row5 col1\" >-0.123</td>\n",
       "      <td id=\"T_be592_row5_col2\" class=\"data row5 col2\" >-0.167</td>\n",
       "      <td id=\"T_be592_row5_col3\" class=\"data row5 col3\" >-0.060</td>\n",
       "      <td id=\"T_be592_row5_col4\" class=\"data row5 col4\" >-0.252</td>\n",
       "      <td id=\"T_be592_row5_col5\" class=\"data row5 col5\" >1.000</td>\n",
       "      <td id=\"T_be592_row5_col6\" class=\"data row5 col6\" >-0.033</td>\n",
       "      <td id=\"T_be592_row5_col7\" class=\"data row5 col7\" >0.036</td>\n",
       "      <td id=\"T_be592_row5_col8\" class=\"data row5 col8\" >-0.130</td>\n",
       "      <td id=\"T_be592_row5_col9\" class=\"data row5 col9\" >-0.126</td>\n",
       "      <td id=\"T_be592_row5_col10\" class=\"data row5 col10\" >0.126</td>\n",
       "      <td id=\"T_be592_row5_col11\" class=\"data row5 col11\" >-0.098</td>\n",
       "      <td id=\"T_be592_row5_col12\" class=\"data row5 col12\" >-0.050</td>\n",
       "      <td id=\"T_be592_row5_col13\" class=\"data row5 col13\" >0.115</td>\n",
       "    </tr>\n",
       "    <tr>\n",
       "      <th id=\"T_be592_level0_row6\" class=\"row_heading level0 row6\" >last_activity</th>\n",
       "      <td id=\"T_be592_row6_col0\" class=\"data row6 col0\" >-0.030</td>\n",
       "      <td id=\"T_be592_row6_col1\" class=\"data row6 col1\" >-0.008</td>\n",
       "      <td id=\"T_be592_row6_col2\" class=\"data row6 col2\" >-0.002</td>\n",
       "      <td id=\"T_be592_row6_col3\" class=\"data row6 col3\" >0.025</td>\n",
       "      <td id=\"T_be592_row6_col4\" class=\"data row6 col4\" >0.037</td>\n",
       "      <td id=\"T_be592_row6_col5\" class=\"data row6 col5\" >-0.033</td>\n",
       "      <td id=\"T_be592_row6_col6\" class=\"data row6 col6\" >1.000</td>\n",
       "      <td id=\"T_be592_row6_col7\" class=\"data row6 col7\" >0.003</td>\n",
       "      <td id=\"T_be592_row6_col8\" class=\"data row6 col8\" >0.170</td>\n",
       "      <td id=\"T_be592_row6_col9\" class=\"data row6 col9\" >0.013</td>\n",
       "      <td id=\"T_be592_row6_col10\" class=\"data row6 col10\" >-0.013</td>\n",
       "      <td id=\"T_be592_row6_col11\" class=\"data row6 col11\" >0.007</td>\n",
       "      <td id=\"T_be592_row6_col12\" class=\"data row6 col12\" >0.049</td>\n",
       "      <td id=\"T_be592_row6_col13\" class=\"data row6 col13\" >-0.049</td>\n",
       "    </tr>\n",
       "    <tr>\n",
       "      <th id=\"T_be592_level0_row7\" class=\"row_heading level0 row7\" >est_salary</th>\n",
       "      <td id=\"T_be592_row7_col0\" class=\"data row7 col0\" >0.164</td>\n",
       "      <td id=\"T_be592_row7_col1\" class=\"data row7 col1\" >-0.039</td>\n",
       "      <td id=\"T_be592_row7_col2\" class=\"data row7 col2\" >-0.172</td>\n",
       "      <td id=\"T_be592_row7_col3\" class=\"data row7 col3\" >0.339</td>\n",
       "      <td id=\"T_be592_row7_col4\" class=\"data row7 col4\" >-0.118</td>\n",
       "      <td id=\"T_be592_row7_col5\" class=\"data row7 col5\" >0.036</td>\n",
       "      <td id=\"T_be592_row7_col6\" class=\"data row7 col6\" >0.003</td>\n",
       "      <td id=\"T_be592_row7_col7\" class=\"data row7 col7\" >1.000</td>\n",
       "      <td id=\"T_be592_row7_col8\" class=\"data row7 col8\" >0.002</td>\n",
       "      <td id=\"T_be592_row7_col9\" class=\"data row7 col9\" >-0.082</td>\n",
       "      <td id=\"T_be592_row7_col10\" class=\"data row7 col10\" >0.082</td>\n",
       "      <td id=\"T_be592_row7_col11\" class=\"data row7 col11\" >-0.106</td>\n",
       "      <td id=\"T_be592_row7_col12\" class=\"data row7 col12\" >-0.057</td>\n",
       "      <td id=\"T_be592_row7_col13\" class=\"data row7 col13\" >0.126</td>\n",
       "    </tr>\n",
       "    <tr>\n",
       "      <th id=\"T_be592_level0_row8\" class=\"row_heading level0 row8\" >churn</th>\n",
       "      <td id=\"T_be592_row8_col0\" class=\"data row8 col0\" >0.106</td>\n",
       "      <td id=\"T_be592_row8_col1\" class=\"data row8 col1\" >-0.050</td>\n",
       "      <td id=\"T_be592_row8_col2\" class=\"data row8 col2\" >0.270</td>\n",
       "      <td id=\"T_be592_row8_col3\" class=\"data row8 col3\" >0.086</td>\n",
       "      <td id=\"T_be592_row8_col4\" class=\"data row8 col4\" >0.301</td>\n",
       "      <td id=\"T_be592_row8_col5\" class=\"data row8 col5\" >-0.130</td>\n",
       "      <td id=\"T_be592_row8_col6\" class=\"data row8 col6\" >0.170</td>\n",
       "      <td id=\"T_be592_row8_col7\" class=\"data row8 col7\" >0.002</td>\n",
       "      <td id=\"T_be592_row8_col8\" class=\"data row8 col8\" >1.000</td>\n",
       "      <td id=\"T_be592_row8_col9\" class=\"data row8 col9\" >-0.142</td>\n",
       "      <td id=\"T_be592_row8_col10\" class=\"data row8 col10\" >0.142</td>\n",
       "      <td id=\"T_be592_row8_col11\" class=\"data row8 col11\" >0.005</td>\n",
       "      <td id=\"T_be592_row8_col12\" class=\"data row8 col12\" >-0.031</td>\n",
       "      <td id=\"T_be592_row8_col13\" class=\"data row8 col13\" >0.024</td>\n",
       "    </tr>\n",
       "    <tr>\n",
       "      <th id=\"T_be592_level0_row9\" class=\"row_heading level0 row9\" >gender_Ж</th>\n",
       "      <td id=\"T_be592_row9_col0\" class=\"data row9 col0\" >-0.011</td>\n",
       "      <td id=\"T_be592_row9_col1\" class=\"data row9 col1\" >0.213</td>\n",
       "      <td id=\"T_be592_row9_col2\" class=\"data row9 col2\" >0.021</td>\n",
       "      <td id=\"T_be592_row9_col3\" class=\"data row9 col3\" >-0.051</td>\n",
       "      <td id=\"T_be592_row9_col4\" class=\"data row9 col4\" >0.022</td>\n",
       "      <td id=\"T_be592_row9_col5\" class=\"data row9 col5\" >-0.126</td>\n",
       "      <td id=\"T_be592_row9_col6\" class=\"data row9 col6\" >0.013</td>\n",
       "      <td id=\"T_be592_row9_col7\" class=\"data row9 col7\" >-0.082</td>\n",
       "      <td id=\"T_be592_row9_col8\" class=\"data row9 col8\" >-0.142</td>\n",
       "      <td id=\"T_be592_row9_col9\" class=\"data row9 col9\" >1.000</td>\n",
       "      <td id=\"T_be592_row9_col10\" class=\"data row9 col10\" >-1.000</td>\n",
       "      <td id=\"T_be592_row9_col11\" class=\"data row9 col11\" >0.015</td>\n",
       "      <td id=\"T_be592_row9_col12\" class=\"data row9 col12\" >0.015</td>\n",
       "      <td id=\"T_be592_row9_col13\" class=\"data row9 col13\" >-0.024</td>\n",
       "    </tr>\n",
       "    <tr>\n",
       "      <th id=\"T_be592_level0_row10\" class=\"row_heading level0 row10\" >gender_М</th>\n",
       "      <td id=\"T_be592_row10_col0\" class=\"data row10 col0\" >0.011</td>\n",
       "      <td id=\"T_be592_row10_col1\" class=\"data row10 col1\" >-0.213</td>\n",
       "      <td id=\"T_be592_row10_col2\" class=\"data row10 col2\" >-0.021</td>\n",
       "      <td id=\"T_be592_row10_col3\" class=\"data row10 col3\" >0.051</td>\n",
       "      <td id=\"T_be592_row10_col4\" class=\"data row10 col4\" >-0.022</td>\n",
       "      <td id=\"T_be592_row10_col5\" class=\"data row10 col5\" >0.126</td>\n",
       "      <td id=\"T_be592_row10_col6\" class=\"data row10 col6\" >-0.013</td>\n",
       "      <td id=\"T_be592_row10_col7\" class=\"data row10 col7\" >0.082</td>\n",
       "      <td id=\"T_be592_row10_col8\" class=\"data row10 col8\" >0.142</td>\n",
       "      <td id=\"T_be592_row10_col9\" class=\"data row10 col9\" >-1.000</td>\n",
       "      <td id=\"T_be592_row10_col10\" class=\"data row10 col10\" >1.000</td>\n",
       "      <td id=\"T_be592_row10_col11\" class=\"data row10 col11\" >-0.015</td>\n",
       "      <td id=\"T_be592_row10_col12\" class=\"data row10 col12\" >-0.015</td>\n",
       "      <td id=\"T_be592_row10_col13\" class=\"data row10 col13\" >0.024</td>\n",
       "    </tr>\n",
       "    <tr>\n",
       "      <th id=\"T_be592_level0_row11\" class=\"row_heading level0 row11\" >city_Ростов</th>\n",
       "      <td id=\"T_be592_row11_col0\" class=\"data row11 col0\" >-0.038</td>\n",
       "      <td id=\"T_be592_row11_col1\" class=\"data row11 col1\" >0.047</td>\n",
       "      <td id=\"T_be592_row11_col2\" class=\"data row11 col2\" >0.035</td>\n",
       "      <td id=\"T_be592_row11_col3\" class=\"data row11 col3\" >-0.036</td>\n",
       "      <td id=\"T_be592_row11_col4\" class=\"data row11 col4\" >-0.007</td>\n",
       "      <td id=\"T_be592_row11_col5\" class=\"data row11 col5\" >-0.098</td>\n",
       "      <td id=\"T_be592_row11_col6\" class=\"data row11 col6\" >0.007</td>\n",
       "      <td id=\"T_be592_row11_col7\" class=\"data row11 col7\" >-0.106</td>\n",
       "      <td id=\"T_be592_row11_col8\" class=\"data row11 col8\" >0.005</td>\n",
       "      <td id=\"T_be592_row11_col9\" class=\"data row11 col9\" >0.015</td>\n",
       "      <td id=\"T_be592_row11_col10\" class=\"data row11 col10\" >-0.015</td>\n",
       "      <td id=\"T_be592_row11_col11\" class=\"data row11 col11\" >1.000</td>\n",
       "      <td id=\"T_be592_row11_col12\" class=\"data row11 col12\" >-0.247</td>\n",
       "      <td id=\"T_be592_row11_col13\" class=\"data row11 col13\" >-0.487</td>\n",
       "    </tr>\n",
       "    <tr>\n",
       "      <th id=\"T_be592_level0_row12\" class=\"row_heading level0 row12\" >city_Рыбинск</th>\n",
       "      <td id=\"T_be592_row12_col0\" class=\"data row12 col0\" >-0.001</td>\n",
       "      <td id=\"T_be592_row12_col1\" class=\"data row12 col1\" >0.029</td>\n",
       "      <td id=\"T_be592_row12_col2\" class=\"data row12 col2\" >-0.005</td>\n",
       "      <td id=\"T_be592_row12_col3\" class=\"data row12 col3\" >-0.034</td>\n",
       "      <td id=\"T_be592_row12_col4\" class=\"data row12 col4\" >-0.042</td>\n",
       "      <td id=\"T_be592_row12_col5\" class=\"data row12 col5\" >-0.050</td>\n",
       "      <td id=\"T_be592_row12_col6\" class=\"data row12 col6\" >0.049</td>\n",
       "      <td id=\"T_be592_row12_col7\" class=\"data row12 col7\" >-0.057</td>\n",
       "      <td id=\"T_be592_row12_col8\" class=\"data row12 col8\" >-0.031</td>\n",
       "      <td id=\"T_be592_row12_col9\" class=\"data row12 col9\" >0.015</td>\n",
       "      <td id=\"T_be592_row12_col10\" class=\"data row12 col10\" >-0.015</td>\n",
       "      <td id=\"T_be592_row12_col11\" class=\"data row12 col11\" >-0.247</td>\n",
       "      <td id=\"T_be592_row12_col12\" class=\"data row12 col12\" >1.000</td>\n",
       "      <td id=\"T_be592_row12_col13\" class=\"data row12 col13\" >-0.726</td>\n",
       "    </tr>\n",
       "    <tr>\n",
       "      <th id=\"T_be592_level0_row13\" class=\"row_heading level0 row13\" >city_Ярославль</th>\n",
       "      <td id=\"T_be592_row13_col0\" class=\"data row13 col0\" >0.028</td>\n",
       "      <td id=\"T_be592_row13_col1\" class=\"data row13 col1\" >-0.060</td>\n",
       "      <td id=\"T_be592_row13_col2\" class=\"data row13 col2\" >-0.021</td>\n",
       "      <td id=\"T_be592_row13_col3\" class=\"data row13 col3\" >0.057</td>\n",
       "      <td id=\"T_be592_row13_col4\" class=\"data row13 col4\" >0.043</td>\n",
       "      <td id=\"T_be592_row13_col5\" class=\"data row13 col5\" >0.115</td>\n",
       "      <td id=\"T_be592_row13_col6\" class=\"data row13 col6\" >-0.049</td>\n",
       "      <td id=\"T_be592_row13_col7\" class=\"data row13 col7\" >0.126</td>\n",
       "      <td id=\"T_be592_row13_col8\" class=\"data row13 col8\" >0.024</td>\n",
       "      <td id=\"T_be592_row13_col9\" class=\"data row13 col9\" >-0.024</td>\n",
       "      <td id=\"T_be592_row13_col10\" class=\"data row13 col10\" >0.024</td>\n",
       "      <td id=\"T_be592_row13_col11\" class=\"data row13 col11\" >-0.487</td>\n",
       "      <td id=\"T_be592_row13_col12\" class=\"data row13 col12\" >-0.726</td>\n",
       "      <td id=\"T_be592_row13_col13\" class=\"data row13 col13\" >1.000</td>\n",
       "    </tr>\n",
       "  </tbody>\n",
       "</table>\n"
      ],
      "text/plain": [
       "<pandas.io.formats.style.Styler at 0x20e655b9410>"
      ]
     },
     "execution_count": 35,
     "metadata": {},
     "output_type": "execute_result"
    }
   ],
   "source": [
    "data_corr.corr().style.apply(highlight_corr).format('{:.3f}'.format)"
   ]
  },
  {
   "cell_type": "markdown",
   "id": "0c6dbff5",
   "metadata": {},
   "source": [
    "Оценим полученные коэффициенты корреляции по Шкале Чеддока, которая используется для качественной оценки тесноты связи.\n",
    "\n",
    "* 0,1–0,3 — слабая связь;\n",
    "* 0,3–0,5 — умеренная связь;\n",
    "* 0,5–0,7 — заметная связь;\n",
    "* 0,7–0,9 — высокая связь;\n",
    "* 0,9–0,99 — весьма высокая связь.\n",
    "\n",
    "Отток умеренно коррелирует только с количеством продуктов. Чуть-чуть до критерия \"умеренной связи\" не хватило параметру Балл собственности.\n",
    "\n",
    "Умеренная связь обнаруживается между Балансом на счет и Оценочным доходом, а также Количеством продуктов и Баллами собственности. (При оставлении пропусов в балансе NaN).\n",
    "\n",
    "С другими параметрами связь если и обнаруживается, то слабая."
   ]
  },
  {
   "cell_type": "markdown",
   "id": "b31b6868",
   "metadata": {},
   "source": [
    "## Проверка статистических гипотез"
   ]
  },
  {
   "cell_type": "markdown",
   "id": "647d0642",
   "metadata": {},
   "source": [
    "### Сравнение бинарных признаков"
   ]
  },
  {
   "cell_type": "markdown",
   "id": "7b1801b2",
   "metadata": {},
   "source": [
    "В данном исследовании мы сравнивааем доли одного признака в отдельных сегментах и доли этого же признака во всей выборке. То есть сраниваем отношение двух чисел с отношением других двух чисел. Объектом исследования не является какая-то большая выборка нормально или ненормально распределенная. То есть применять тесты для выборок - Стьюдента или Манна-Уитни, оценивать распределение выборки, дисперсию, стандартное отклонение - просто не на чем. \n",
    "\n",
    "В нашем случае следует применять тест пропорций: одновыборочный Z-тест, используемый для сравнения среднего значения выборки с известным средним значением генеральной совокупности. Возьмеем Z-тест из пакета statsmodels."
   ]
  },
  {
   "cell_type": "markdown",
   "id": "85c7806a",
   "metadata": {},
   "source": [
    "Оценим выделенные сегменты статическими методом Z-тест. Будем сравнивать пропорции оттока клиентов в сегментах с базовым уровнем оттока по всему банку. Нулевая гипотеза - пропорции оттока клиентов равны в сегменте и в целом по банку. Альтернитивная гипотеза - правосторонняя доля оттока клиентов в сегменте больше базового в целом по банку. Установим p-value = 5%. То есть если p-value для конкретного сегмента будет меньше 0.05, то мы можем отвергнуть нулевую гипотезу и принять альтернативую, что доля оттока клиентов в этом сегменте больше, чем в целом по банку."
   ]
  },
  {
   "cell_type": "code",
   "execution_count": 36,
   "id": "b7e66ef3",
   "metadata": {},
   "outputs": [],
   "source": [
    "# --------- функция подсветки p-value ----------\n",
    "# подсветить оранжевым p-value меньше 0.05 - где отток статистически значимо больше среднего\n",
    "def highlight_stat(s):\n",
    "    return ['background-color: none' if val > 0.05 else 'background-color: orange' for val in s]"
   ]
  },
  {
   "cell_type": "code",
   "execution_count": 37,
   "id": "dc1171bd",
   "metadata": {},
   "outputs": [],
   "source": [
    "ottok_col_all = ottok_col_all.reset_index(drop=True)"
   ]
  },
  {
   "cell_type": "code",
   "execution_count": 38,
   "id": "6b5e158c",
   "metadata": {},
   "outputs": [],
   "source": [
    "#-------- цикл стат. проверки всех сегментов -------\n",
    "for i in range(0, len(ottok_col_all)):\n",
    "    ottok_col_all.loc[i, 'p-val'] = proportions_ztest(\n",
    "        ottok_col_all.loc[i, 'ottok'], \n",
    "        ottok_col_all.loc[i, 'all'], \n",
    "        (ottok_base / 100), alternative='larger')[1] "
   ]
  },
  {
   "cell_type": "markdown",
   "id": "04046108",
   "metadata": {},
   "source": [
    "Проверка z-тестом из теории курса"
   ]
  },
  {
   "cell_type": "code",
   "execution_count": 39,
   "id": "c9b27a34",
   "metadata": {},
   "outputs": [],
   "source": [
    "def z_krit(a1, a2, n1, n2, alt = 'two'):\n",
    "    #alt - ‘two’, ‘smaller’, ‘larger’\n",
    "    p1 = a1 / n1\n",
    "    p2 = a2 / n2\n",
    "    p_combined = (a1 + a2) / (n1 + n2)\n",
    "    difference = p1-p2\n",
    "    z_value = difference / mth.sqrt(p_combined * (1 - p_combined) * (1/n1 + 1/n2))\n",
    "    distr = stats.norm(0,1)\n",
    "#    p_value = (1 - distr.cdf(abs(z_value))) * 2\n",
    "    if alt == 'two':   p_value = (1 - distr.cdf(abs(z_value))) * 2\n",
    "    if alt == 'larger':   p_value = (1 - distr.cdf(z_value)) * 2\n",
    "    if alt == 'smaller':   p_value = (1 - distr.cdf(-z_value)) * 2\n",
    "   \n",
    "    if p_value > 1: p_value = 1\n",
    "        \n",
    "    return p_value"
   ]
  },
  {
   "cell_type": "code",
   "execution_count": 40,
   "id": "2df57fd9",
   "metadata": {},
   "outputs": [],
   "source": [
    "count_all = len(data)\n",
    "count_ottok = data.query('churn == 1')['userid'].count()\n",
    "\n",
    "for i in range(0, len(ottok_col_all)):\n",
    "    ottok_col_all.loc[i, 'z-krit'] = z_krit(ottok_col_all.loc[i, 'ottok'], count_ottok,\n",
    "        ottok_col_all.loc[i, 'all'],  count_all, 'larger') "
   ]
  },
  {
   "cell_type": "code",
   "execution_count": 41,
   "id": "3d9489f2",
   "metadata": {},
   "outputs": [
    {
     "data": {
      "text/html": [
       "<style type=\"text/css\">\n",
       "#T_1e7cb_row0_col4, #T_1e7cb_row1_col4, #T_1e7cb_row2_col4, #T_1e7cb_row7_col4, #T_1e7cb_row8_col4, #T_1e7cb_row11_col4, #T_1e7cb_row12_col4, #T_1e7cb_row16_col4, #T_1e7cb_row17_col4, #T_1e7cb_row18_col4, #T_1e7cb_row19_col4, #T_1e7cb_row20_col4, #T_1e7cb_row22_col4, #T_1e7cb_row24_col4, #T_1e7cb_row28_col4, #T_1e7cb_row29_col4, #T_1e7cb_row30_col4, #T_1e7cb_row31_col4, #T_1e7cb_row32_col4, #T_1e7cb_row33_col4, #T_1e7cb_row34_col4, #T_1e7cb_row35_col4, #T_1e7cb_row36_col4, #T_1e7cb_row37_col4, #T_1e7cb_row38_col4, #T_1e7cb_row39_col4, #T_1e7cb_row46_col4, #T_1e7cb_row48_col4, #T_1e7cb_row49_col4, #T_1e7cb_row50_col4, #T_1e7cb_row51_col4, #T_1e7cb_row55_col4, #T_1e7cb_row56_col4, #T_1e7cb_row57_col4, #T_1e7cb_row58_col4, #T_1e7cb_row59_col4 {\n",
       "  background-color: tomato;\n",
       "}\n",
       "#T_1e7cb_row0_col5, #T_1e7cb_row0_col6, #T_1e7cb_row1_col5, #T_1e7cb_row1_col6, #T_1e7cb_row2_col5, #T_1e7cb_row7_col5, #T_1e7cb_row7_col6, #T_1e7cb_row8_col5, #T_1e7cb_row8_col6, #T_1e7cb_row11_col5, #T_1e7cb_row11_col6, #T_1e7cb_row12_col5, #T_1e7cb_row12_col6, #T_1e7cb_row18_col5, #T_1e7cb_row18_col6, #T_1e7cb_row19_col5, #T_1e7cb_row19_col6, #T_1e7cb_row24_col5, #T_1e7cb_row24_col6, #T_1e7cb_row28_col5, #T_1e7cb_row28_col6, #T_1e7cb_row29_col5, #T_1e7cb_row29_col6, #T_1e7cb_row30_col5, #T_1e7cb_row30_col6, #T_1e7cb_row31_col5, #T_1e7cb_row31_col6, #T_1e7cb_row32_col5, #T_1e7cb_row32_col6, #T_1e7cb_row34_col5, #T_1e7cb_row34_col6, #T_1e7cb_row35_col5, #T_1e7cb_row35_col6, #T_1e7cb_row36_col5, #T_1e7cb_row38_col5, #T_1e7cb_row38_col6, #T_1e7cb_row46_col5, #T_1e7cb_row46_col6, #T_1e7cb_row49_col5, #T_1e7cb_row49_col6, #T_1e7cb_row50_col5, #T_1e7cb_row50_col6, #T_1e7cb_row51_col5, #T_1e7cb_row51_col6, #T_1e7cb_row56_col5, #T_1e7cb_row56_col6, #T_1e7cb_row57_col5, #T_1e7cb_row57_col6, #T_1e7cb_row58_col5, #T_1e7cb_row58_col6, #T_1e7cb_row59_col5, #T_1e7cb_row59_col6 {\n",
       "  background-color: orange;\n",
       "}\n",
       "#T_1e7cb_row2_col6, #T_1e7cb_row3_col5, #T_1e7cb_row3_col6, #T_1e7cb_row4_col5, #T_1e7cb_row4_col6, #T_1e7cb_row5_col5, #T_1e7cb_row5_col6, #T_1e7cb_row6_col5, #T_1e7cb_row6_col6, #T_1e7cb_row9_col5, #T_1e7cb_row9_col6, #T_1e7cb_row10_col5, #T_1e7cb_row10_col6, #T_1e7cb_row13_col5, #T_1e7cb_row13_col6, #T_1e7cb_row14_col5, #T_1e7cb_row14_col6, #T_1e7cb_row15_col5, #T_1e7cb_row15_col6, #T_1e7cb_row16_col5, #T_1e7cb_row16_col6, #T_1e7cb_row17_col5, #T_1e7cb_row17_col6, #T_1e7cb_row20_col5, #T_1e7cb_row20_col6, #T_1e7cb_row21_col5, #T_1e7cb_row21_col6, #T_1e7cb_row22_col5, #T_1e7cb_row22_col6, #T_1e7cb_row23_col5, #T_1e7cb_row23_col6, #T_1e7cb_row25_col5, #T_1e7cb_row25_col6, #T_1e7cb_row26_col5, #T_1e7cb_row26_col6, #T_1e7cb_row27_col5, #T_1e7cb_row27_col6, #T_1e7cb_row33_col5, #T_1e7cb_row33_col6, #T_1e7cb_row36_col6, #T_1e7cb_row37_col5, #T_1e7cb_row37_col6, #T_1e7cb_row39_col5, #T_1e7cb_row39_col6, #T_1e7cb_row40_col5, #T_1e7cb_row40_col6, #T_1e7cb_row41_col5, #T_1e7cb_row41_col6, #T_1e7cb_row42_col5, #T_1e7cb_row42_col6, #T_1e7cb_row43_col5, #T_1e7cb_row43_col6, #T_1e7cb_row44_col5, #T_1e7cb_row44_col6, #T_1e7cb_row45_col5, #T_1e7cb_row45_col6, #T_1e7cb_row47_col5, #T_1e7cb_row47_col6, #T_1e7cb_row48_col5, #T_1e7cb_row48_col6, #T_1e7cb_row52_col5, #T_1e7cb_row52_col6, #T_1e7cb_row53_col5, #T_1e7cb_row53_col6, #T_1e7cb_row54_col5, #T_1e7cb_row54_col6, #T_1e7cb_row55_col5, #T_1e7cb_row55_col6, #T_1e7cb_row60_col5, #T_1e7cb_row60_col6, #T_1e7cb_row61_col5, #T_1e7cb_row61_col6 {\n",
       "  background-color: none;\n",
       "}\n",
       "#T_1e7cb_row3_col4, #T_1e7cb_row4_col4, #T_1e7cb_row5_col4, #T_1e7cb_row6_col4, #T_1e7cb_row9_col4, #T_1e7cb_row10_col4, #T_1e7cb_row13_col4, #T_1e7cb_row14_col4, #T_1e7cb_row15_col4, #T_1e7cb_row21_col4, #T_1e7cb_row23_col4, #T_1e7cb_row25_col4, #T_1e7cb_row26_col4, #T_1e7cb_row27_col4, #T_1e7cb_row40_col4, #T_1e7cb_row41_col4, #T_1e7cb_row42_col4, #T_1e7cb_row43_col4, #T_1e7cb_row44_col4, #T_1e7cb_row45_col4, #T_1e7cb_row47_col4, #T_1e7cb_row52_col4, #T_1e7cb_row53_col4, #T_1e7cb_row54_col4, #T_1e7cb_row60_col4, #T_1e7cb_row61_col4 {\n",
       "  background-color: lime;\n",
       "}\n",
       "</style>\n",
       "<table id=\"T_1e7cb\">\n",
       "  <thead>\n",
       "    <tr>\n",
       "      <th class=\"blank level0\" >&nbsp;</th>\n",
       "      <th id=\"T_1e7cb_level0_col0\" class=\"col_heading level0 col0\" >col</th>\n",
       "      <th id=\"T_1e7cb_level0_col1\" class=\"col_heading level0 col1\" >seg</th>\n",
       "      <th id=\"T_1e7cb_level0_col2\" class=\"col_heading level0 col2\" >all</th>\n",
       "      <th id=\"T_1e7cb_level0_col3\" class=\"col_heading level0 col3\" >ottok</th>\n",
       "      <th id=\"T_1e7cb_level0_col4\" class=\"col_heading level0 col4\" >proc</th>\n",
       "      <th id=\"T_1e7cb_level0_col5\" class=\"col_heading level0 col5\" >p-val</th>\n",
       "      <th id=\"T_1e7cb_level0_col6\" class=\"col_heading level0 col6\" >z-krit</th>\n",
       "    </tr>\n",
       "  </thead>\n",
       "  <tbody>\n",
       "    <tr>\n",
       "      <th id=\"T_1e7cb_level0_row0\" class=\"row_heading level0 row0\" >22</th>\n",
       "      <td id=\"T_1e7cb_row0_col0\" class=\"data row0 col0\" >age</td>\n",
       "      <td id=\"T_1e7cb_row0_col1\" class=\"data row0 col1\" >18-29</td>\n",
       "      <td id=\"T_1e7cb_row0_col2\" class=\"data row0 col2\" >1148</td>\n",
       "      <td id=\"T_1e7cb_row0_col3\" class=\"data row0 col3\" >264</td>\n",
       "      <td id=\"T_1e7cb_row0_col4\" class=\"data row0 col4\" >23.00</td>\n",
       "      <td id=\"T_1e7cb_row0_col5\" class=\"data row0 col5\" >0.0001</td>\n",
       "      <td id=\"T_1e7cb_row0_col6\" class=\"data row0 col6\" >0.0001</td>\n",
       "    </tr>\n",
       "    <tr>\n",
       "      <th id=\"T_1e7cb_level0_row1\" class=\"row_heading level0 row1\" >23</th>\n",
       "      <td id=\"T_1e7cb_row1_col0\" class=\"data row1 col0\" >age</td>\n",
       "      <td id=\"T_1e7cb_row1_col1\" class=\"data row1 col1\" >29-32</td>\n",
       "      <td id=\"T_1e7cb_row1_col2\" class=\"data row1 col2\" >1215</td>\n",
       "      <td id=\"T_1e7cb_row1_col3\" class=\"data row1 col3\" >257</td>\n",
       "      <td id=\"T_1e7cb_row1_col4\" class=\"data row1 col4\" >21.15</td>\n",
       "      <td id=\"T_1e7cb_row1_col5\" class=\"data row1 col5\" >0.0063</td>\n",
       "      <td id=\"T_1e7cb_row1_col6\" class=\"data row1 col6\" >0.0133</td>\n",
       "    </tr>\n",
       "    <tr>\n",
       "      <th id=\"T_1e7cb_level0_row2\" class=\"row_heading level0 row2\" >24</th>\n",
       "      <td id=\"T_1e7cb_row2_col0\" class=\"data row2 col0\" >age</td>\n",
       "      <td id=\"T_1e7cb_row2_col1\" class=\"data row2 col1\" >32-35</td>\n",
       "      <td id=\"T_1e7cb_row2_col2\" class=\"data row2 col2\" >1544</td>\n",
       "      <td id=\"T_1e7cb_row2_col3\" class=\"data row2 col3\" >313</td>\n",
       "      <td id=\"T_1e7cb_row2_col4\" class=\"data row2 col4\" >20.27</td>\n",
       "      <td id=\"T_1e7cb_row2_col5\" class=\"data row2 col5\" >0.0230</td>\n",
       "      <td id=\"T_1e7cb_row2_col6\" class=\"data row2 col6\" >0.0544</td>\n",
       "    </tr>\n",
       "    <tr>\n",
       "      <th id=\"T_1e7cb_level0_row3\" class=\"row_heading level0 row3\" >25</th>\n",
       "      <td id=\"T_1e7cb_row3_col0\" class=\"data row3 col0\" >age</td>\n",
       "      <td id=\"T_1e7cb_row3_col1\" class=\"data row3 col1\" >35-37</td>\n",
       "      <td id=\"T_1e7cb_row3_col2\" class=\"data row3 col2\" >1204</td>\n",
       "      <td id=\"T_1e7cb_row3_col3\" class=\"data row3 col3\" >209</td>\n",
       "      <td id=\"T_1e7cb_row3_col4\" class=\"data row3 col4\" >17.36</td>\n",
       "      <td id=\"T_1e7cb_row3_col5\" class=\"data row3 col5\" >0.7876</td>\n",
       "      <td id=\"T_1e7cb_row3_col6\" class=\"data row3 col6\" >1.0000</td>\n",
       "    </tr>\n",
       "    <tr>\n",
       "      <th id=\"T_1e7cb_level0_row4\" class=\"row_heading level0 row4\" >26</th>\n",
       "      <td id=\"T_1e7cb_row4_col0\" class=\"data row4 col0\" >age</td>\n",
       "      <td id=\"T_1e7cb_row4_col1\" class=\"data row4 col1\" >37-40</td>\n",
       "      <td id=\"T_1e7cb_row4_col2\" class=\"data row4 col2\" >1391</td>\n",
       "      <td id=\"T_1e7cb_row4_col3\" class=\"data row4 col3\" >234</td>\n",
       "      <td id=\"T_1e7cb_row4_col4\" class=\"data row4 col4\" >16.82</td>\n",
       "      <td id=\"T_1e7cb_row4_col5\" class=\"data row4 col5\" >0.9198</td>\n",
       "      <td id=\"T_1e7cb_row4_col6\" class=\"data row4 col6\" >1.0000</td>\n",
       "    </tr>\n",
       "    <tr>\n",
       "      <th id=\"T_1e7cb_level0_row5\" class=\"row_heading level0 row5\" >27</th>\n",
       "      <td id=\"T_1e7cb_row5_col0\" class=\"data row5 col0\" >age</td>\n",
       "      <td id=\"T_1e7cb_row5_col1\" class=\"data row5 col1\" >40-44</td>\n",
       "      <td id=\"T_1e7cb_row5_col2\" class=\"data row5 col2\" >1468</td>\n",
       "      <td id=\"T_1e7cb_row5_col3\" class=\"data row5 col3\" >206</td>\n",
       "      <td id=\"T_1e7cb_row5_col4\" class=\"data row5 col4\" >14.03</td>\n",
       "      <td id=\"T_1e7cb_row5_col5\" class=\"data row5 col5\" >1.0000</td>\n",
       "      <td id=\"T_1e7cb_row5_col6\" class=\"data row5 col6\" >1.0000</td>\n",
       "    </tr>\n",
       "    <tr>\n",
       "      <th id=\"T_1e7cb_level0_row6\" class=\"row_heading level0 row6\" >28</th>\n",
       "      <td id=\"T_1e7cb_row6_col0\" class=\"data row6 col0\" >age</td>\n",
       "      <td id=\"T_1e7cb_row6_col1\" class=\"data row6 col1\" >44-48</td>\n",
       "      <td id=\"T_1e7cb_row6_col2\" class=\"data row6 col2\" >1009</td>\n",
       "      <td id=\"T_1e7cb_row6_col3\" class=\"data row6 col3\" >133</td>\n",
       "      <td id=\"T_1e7cb_row6_col4\" class=\"data row6 col4\" >13.18</td>\n",
       "      <td id=\"T_1e7cb_row6_col5\" class=\"data row6 col5\" >1.0000</td>\n",
       "      <td id=\"T_1e7cb_row6_col6\" class=\"data row6 col6\" >1.0000</td>\n",
       "    </tr>\n",
       "    <tr>\n",
       "      <th id=\"T_1e7cb_level0_row7\" class=\"row_heading level0 row7\" >29</th>\n",
       "      <td id=\"T_1e7cb_row7_col0\" class=\"data row7 col0\" >age</td>\n",
       "      <td id=\"T_1e7cb_row7_col1\" class=\"data row7 col1\" >48-54</td>\n",
       "      <td id=\"T_1e7cb_row7_col2\" class=\"data row7 col2\" >1191</td>\n",
       "      <td id=\"T_1e7cb_row7_col3\" class=\"data row7 col3\" >271</td>\n",
       "      <td id=\"T_1e7cb_row7_col4\" class=\"data row7 col4\" >22.75</td>\n",
       "      <td id=\"T_1e7cb_row7_col5\" class=\"data row7 col5\" >0.0001</td>\n",
       "      <td id=\"T_1e7cb_row7_col6\" class=\"data row7 col6\" >0.0002</td>\n",
       "    </tr>\n",
       "    <tr>\n",
       "      <th id=\"T_1e7cb_level0_row8\" class=\"row_heading level0 row8\" >30</th>\n",
       "      <td id=\"T_1e7cb_row8_col0\" class=\"data row8 col0\" >age</td>\n",
       "      <td id=\"T_1e7cb_row8_col1\" class=\"data row8 col1\" >54-61</td>\n",
       "      <td id=\"T_1e7cb_row8_col2\" class=\"data row8 col2\" >1228</td>\n",
       "      <td id=\"T_1e7cb_row8_col3\" class=\"data row8 col3\" >321</td>\n",
       "      <td id=\"T_1e7cb_row8_col4\" class=\"data row8 col4\" >26.14</td>\n",
       "      <td id=\"T_1e7cb_row8_col5\" class=\"data row8 col5\" >0.0000</td>\n",
       "      <td id=\"T_1e7cb_row8_col6\" class=\"data row8 col6\" >0.0000</td>\n",
       "    </tr>\n",
       "    <tr>\n",
       "      <th id=\"T_1e7cb_level0_row9\" class=\"row_heading level0 row9\" >31</th>\n",
       "      <td id=\"T_1e7cb_row9_col0\" class=\"data row9 col0\" >age</td>\n",
       "      <td id=\"T_1e7cb_row9_col1\" class=\"data row9 col1\" >61-86</td>\n",
       "      <td id=\"T_1e7cb_row9_col2\" class=\"data row9 col2\" >1032</td>\n",
       "      <td id=\"T_1e7cb_row9_col3\" class=\"data row9 col3\" >66</td>\n",
       "      <td id=\"T_1e7cb_row9_col4\" class=\"data row9 col4\" >6.40</td>\n",
       "      <td id=\"T_1e7cb_row9_col5\" class=\"data row9 col5\" >1.0000</td>\n",
       "      <td id=\"T_1e7cb_row9_col6\" class=\"data row9 col6\" >1.0000</td>\n",
       "    </tr>\n",
       "    <tr>\n",
       "      <th id=\"T_1e7cb_level0_row10\" class=\"row_heading level0 row10\" >42</th>\n",
       "      <td id=\"T_1e7cb_row10_col0\" class=\"data row10 col0\" >balance</td>\n",
       "      <td id=\"T_1e7cb_row10_col1\" class=\"data row10 col1\" >0-159</td>\n",
       "      <td id=\"T_1e7cb_row10_col2\" class=\"data row10 col2\" >770</td>\n",
       "      <td id=\"T_1e7cb_row10_col3\" class=\"data row10 col3\" >127</td>\n",
       "      <td id=\"T_1e7cb_row10_col4\" class=\"data row10 col4\" >16.49</td>\n",
       "      <td id=\"T_1e7cb_row10_col5\" class=\"data row10 col5\" >0.9029</td>\n",
       "      <td id=\"T_1e7cb_row10_col6\" class=\"data row10 col6\" >1.0000</td>\n",
       "    </tr>\n",
       "    <tr>\n",
       "      <th id=\"T_1e7cb_level0_row11\" class=\"row_heading level0 row11\" >50</th>\n",
       "      <td id=\"T_1e7cb_row11_col0\" class=\"data row11 col0\" >balance</td>\n",
       "      <td id=\"T_1e7cb_row11_col1\" class=\"data row11 col1\" >1125-1460</td>\n",
       "      <td id=\"T_1e7cb_row11_col2\" class=\"data row11 col2\" >769</td>\n",
       "      <td id=\"T_1e7cb_row11_col3\" class=\"data row11 col3\" >266</td>\n",
       "      <td id=\"T_1e7cb_row11_col4\" class=\"data row11 col4\" >34.59</td>\n",
       "      <td id=\"T_1e7cb_row11_col5\" class=\"data row11 col5\" >0.0000</td>\n",
       "      <td id=\"T_1e7cb_row11_col6\" class=\"data row11 col6\" >0.0000</td>\n",
       "    </tr>\n",
       "    <tr>\n",
       "      <th id=\"T_1e7cb_level0_row12\" class=\"row_heading level0 row12\" >51</th>\n",
       "      <td id=\"T_1e7cb_row12_col0\" class=\"data row12 col0\" >balance</td>\n",
       "      <td id=\"T_1e7cb_row12_col1\" class=\"data row12 col1\" >1460-119113</td>\n",
       "      <td id=\"T_1e7cb_row12_col2\" class=\"data row12 col2\" >770</td>\n",
       "      <td id=\"T_1e7cb_row12_col3\" class=\"data row12 col3\" >376</td>\n",
       "      <td id=\"T_1e7cb_row12_col4\" class=\"data row12 col4\" >48.83</td>\n",
       "      <td id=\"T_1e7cb_row12_col5\" class=\"data row12 col5\" >0.0000</td>\n",
       "      <td id=\"T_1e7cb_row12_col6\" class=\"data row12 col6\" >0.0000</td>\n",
       "    </tr>\n",
       "    <tr>\n",
       "      <th id=\"T_1e7cb_level0_row13\" class=\"row_heading level0 row13\" >43</th>\n",
       "      <td id=\"T_1e7cb_row13_col0\" class=\"data row13 col0\" >balance</td>\n",
       "      <td id=\"T_1e7cb_row13_col1\" class=\"data row13 col1\" >159-256</td>\n",
       "      <td id=\"T_1e7cb_row13_col2\" class=\"data row13 col2\" >769</td>\n",
       "      <td id=\"T_1e7cb_row13_col3\" class=\"data row13 col3\" >115</td>\n",
       "      <td id=\"T_1e7cb_row13_col4\" class=\"data row13 col4\" >14.95</td>\n",
       "      <td id=\"T_1e7cb_row13_col5\" class=\"data row13 col5\" >0.9946</td>\n",
       "      <td id=\"T_1e7cb_row13_col6\" class=\"data row13 col6\" >1.0000</td>\n",
       "    </tr>\n",
       "    <tr>\n",
       "      <th id=\"T_1e7cb_level0_row14\" class=\"row_heading level0 row14\" >44</th>\n",
       "      <td id=\"T_1e7cb_row14_col0\" class=\"data row14 col0\" >balance</td>\n",
       "      <td id=\"T_1e7cb_row14_col1\" class=\"data row14 col1\" >256-337</td>\n",
       "      <td id=\"T_1e7cb_row14_col2\" class=\"data row14 col2\" >770</td>\n",
       "      <td id=\"T_1e7cb_row14_col3\" class=\"data row14 col3\" >122</td>\n",
       "      <td id=\"T_1e7cb_row14_col4\" class=\"data row14 col4\" >15.84</td>\n",
       "      <td id=\"T_1e7cb_row14_col5\" class=\"data row14 col5\" >0.9651</td>\n",
       "      <td id=\"T_1e7cb_row14_col6\" class=\"data row14 col6\" >1.0000</td>\n",
       "    </tr>\n",
       "    <tr>\n",
       "      <th id=\"T_1e7cb_level0_row15\" class=\"row_heading level0 row15\" >45</th>\n",
       "      <td id=\"T_1e7cb_row15_col0\" class=\"data row15 col0\" >balance</td>\n",
       "      <td id=\"T_1e7cb_row15_col1\" class=\"data row15 col1\" >337-419</td>\n",
       "      <td id=\"T_1e7cb_row15_col2\" class=\"data row15 col2\" >769</td>\n",
       "      <td id=\"T_1e7cb_row15_col3\" class=\"data row15 col3\" >136</td>\n",
       "      <td id=\"T_1e7cb_row15_col4\" class=\"data row15 col4\" >17.69</td>\n",
       "      <td id=\"T_1e7cb_row15_col5\" class=\"data row15 col5\" >0.6539</td>\n",
       "      <td id=\"T_1e7cb_row15_col6\" class=\"data row15 col6\" >1.0000</td>\n",
       "    </tr>\n",
       "    <tr>\n",
       "      <th id=\"T_1e7cb_level0_row16\" class=\"row_heading level0 row16\" >46</th>\n",
       "      <td id=\"T_1e7cb_row16_col0\" class=\"data row16 col0\" >balance</td>\n",
       "      <td id=\"T_1e7cb_row16_col1\" class=\"data row16 col1\" >419-524</td>\n",
       "      <td id=\"T_1e7cb_row16_col2\" class=\"data row16 col2\" >770</td>\n",
       "      <td id=\"T_1e7cb_row16_col3\" class=\"data row16 col3\" >147</td>\n",
       "      <td id=\"T_1e7cb_row16_col4\" class=\"data row16 col4\" >19.09</td>\n",
       "      <td id=\"T_1e7cb_row16_col5\" class=\"data row16 col5\" >0.2716</td>\n",
       "      <td id=\"T_1e7cb_row16_col6\" class=\"data row16 col6\" >0.5512</td>\n",
       "    </tr>\n",
       "    <tr>\n",
       "      <th id=\"T_1e7cb_level0_row17\" class=\"row_heading level0 row17\" >47</th>\n",
       "      <td id=\"T_1e7cb_row17_col0\" class=\"data row17 col0\" >balance</td>\n",
       "      <td id=\"T_1e7cb_row17_col1\" class=\"data row17 col1\" >524-660</td>\n",
       "      <td id=\"T_1e7cb_row17_col2\" class=\"data row17 col2\" >770</td>\n",
       "      <td id=\"T_1e7cb_row17_col3\" class=\"data row17 col3\" >145</td>\n",
       "      <td id=\"T_1e7cb_row17_col4\" class=\"data row17 col4\" >18.83</td>\n",
       "      <td id=\"T_1e7cb_row17_col5\" class=\"data row17 col5\" >0.3348</td>\n",
       "      <td id=\"T_1e7cb_row17_col6\" class=\"data row17 col6\" >0.6771</td>\n",
       "    </tr>\n",
       "    <tr>\n",
       "      <th id=\"T_1e7cb_level0_row18\" class=\"row_heading level0 row18\" >48</th>\n",
       "      <td id=\"T_1e7cb_row18_col0\" class=\"data row18 col0\" >balance</td>\n",
       "      <td id=\"T_1e7cb_row18_col1\" class=\"data row18 col1\" >660-853</td>\n",
       "      <td id=\"T_1e7cb_row18_col2\" class=\"data row18 col2\" >769</td>\n",
       "      <td id=\"T_1e7cb_row18_col3\" class=\"data row18 col3\" >181</td>\n",
       "      <td id=\"T_1e7cb_row18_col4\" class=\"data row18 col4\" >23.54</td>\n",
       "      <td id=\"T_1e7cb_row18_col5\" class=\"data row18 col5\" >0.0003</td>\n",
       "      <td id=\"T_1e7cb_row18_col6\" class=\"data row18 col6\" >0.0003</td>\n",
       "    </tr>\n",
       "    <tr>\n",
       "      <th id=\"T_1e7cb_level0_row19\" class=\"row_heading level0 row19\" >49</th>\n",
       "      <td id=\"T_1e7cb_row19_col0\" class=\"data row19 col0\" >balance</td>\n",
       "      <td id=\"T_1e7cb_row19_col1\" class=\"data row19 col1\" >853-1125</td>\n",
       "      <td id=\"T_1e7cb_row19_col2\" class=\"data row19 col2\" >770</td>\n",
       "      <td id=\"T_1e7cb_row19_col3\" class=\"data row19 col3\" >192</td>\n",
       "      <td id=\"T_1e7cb_row19_col4\" class=\"data row19 col4\" >24.94</td>\n",
       "      <td id=\"T_1e7cb_row19_col5\" class=\"data row19 col5\" >0.0000</td>\n",
       "      <td id=\"T_1e7cb_row19_col6\" class=\"data row19 col6\" >0.0000</td>\n",
       "    </tr>\n",
       "    <tr>\n",
       "      <th id=\"T_1e7cb_level0_row20\" class=\"row_heading level0 row20\" >0</th>\n",
       "      <td id=\"T_1e7cb_row20_col0\" class=\"data row20 col0\" >city</td>\n",
       "      <td id=\"T_1e7cb_row20_col1\" class=\"data row20 col1\" >Ростов</td>\n",
       "      <td id=\"T_1e7cb_row20_col2\" class=\"data row20 col2\" >1416</td>\n",
       "      <td id=\"T_1e7cb_row20_col3\" class=\"data row20 col3\" >265</td>\n",
       "      <td id=\"T_1e7cb_row20_col4\" class=\"data row20 col4\" >18.71</td>\n",
       "      <td id=\"T_1e7cb_row20_col5\" class=\"data row20 col5\" >0.3200</td>\n",
       "      <td id=\"T_1e7cb_row20_col6\" class=\"data row20 col6\" >0.6583</td>\n",
       "    </tr>\n",
       "    <tr>\n",
       "      <th id=\"T_1e7cb_level0_row21\" class=\"row_heading level0 row21\" >1</th>\n",
       "      <td id=\"T_1e7cb_row21_col0\" class=\"data row21 col0\" >city</td>\n",
       "      <td id=\"T_1e7cb_row21_col1\" class=\"data row21 col1\" >Рыбинск</td>\n",
       "      <td id=\"T_1e7cb_row21_col2\" class=\"data row21 col2\" >2682</td>\n",
       "      <td id=\"T_1e7cb_row21_col3\" class=\"data row21 col3\" >436</td>\n",
       "      <td id=\"T_1e7cb_row21_col4\" class=\"data row21 col4\" >16.26</td>\n",
       "      <td id=\"T_1e7cb_row21_col5\" class=\"data row21 col5\" >0.9972</td>\n",
       "      <td id=\"T_1e7cb_row21_col6\" class=\"data row21 col6\" >1.0000</td>\n",
       "    </tr>\n",
       "    <tr>\n",
       "      <th id=\"T_1e7cb_level0_row22\" class=\"row_heading level0 row22\" >2</th>\n",
       "      <td id=\"T_1e7cb_row22_col0\" class=\"data row22 col0\" >city</td>\n",
       "      <td id=\"T_1e7cb_row22_col1\" class=\"data row22 col1\" >Ярославль</td>\n",
       "      <td id=\"T_1e7cb_row22_col2\" class=\"data row22 col2\" >5875</td>\n",
       "      <td id=\"T_1e7cb_row22_col3\" class=\"data row22 col3\" >1,117</td>\n",
       "      <td id=\"T_1e7cb_row22_col4\" class=\"data row22 col4\" >19.01</td>\n",
       "      <td id=\"T_1e7cb_row22_col5\" class=\"data row22 col5\" >0.0631</td>\n",
       "      <td id=\"T_1e7cb_row22_col6\" class=\"data row22 col6\" >0.2200</td>\n",
       "    </tr>\n",
       "    <tr>\n",
       "      <th id=\"T_1e7cb_level0_row23\" class=\"row_heading level0 row23\" >21</th>\n",
       "      <td id=\"T_1e7cb_row23_col0\" class=\"data row23 col0\" >credit_card</td>\n",
       "      <td id=\"T_1e7cb_row23_col1\" class=\"data row23 col1\" >есть карта</td>\n",
       "      <td id=\"T_1e7cb_row23_col2\" class=\"data row23 col2\" >6784</td>\n",
       "      <td id=\"T_1e7cb_row23_col3\" class=\"data row23 col3\" >1,003</td>\n",
       "      <td id=\"T_1e7cb_row23_col4\" class=\"data row23 col4\" >14.78</td>\n",
       "      <td id=\"T_1e7cb_row23_col5\" class=\"data row23 col5\" >1.0000</td>\n",
       "      <td id=\"T_1e7cb_row23_col6\" class=\"data row23 col6\" >1.0000</td>\n",
       "    </tr>\n",
       "    <tr>\n",
       "      <th id=\"T_1e7cb_level0_row24\" class=\"row_heading level0 row24\" >20</th>\n",
       "      <td id=\"T_1e7cb_row24_col0\" class=\"data row24 col0\" >credit_card</td>\n",
       "      <td id=\"T_1e7cb_row24_col1\" class=\"data row24 col1\" >нет карты</td>\n",
       "      <td id=\"T_1e7cb_row24_col2\" class=\"data row24 col2\" >3189</td>\n",
       "      <td id=\"T_1e7cb_row24_col3\" class=\"data row24 col3\" >815</td>\n",
       "      <td id=\"T_1e7cb_row24_col4\" class=\"data row24 col4\" >25.56</td>\n",
       "      <td id=\"T_1e7cb_row24_col5\" class=\"data row24 col5\" >0.0000</td>\n",
       "      <td id=\"T_1e7cb_row24_col6\" class=\"data row24 col6\" >0.0000</td>\n",
       "    </tr>\n",
       "    <tr>\n",
       "      <th id=\"T_1e7cb_level0_row25\" class=\"row_heading level0 row25\" >5</th>\n",
       "      <td id=\"T_1e7cb_row25_col0\" class=\"data row25 col0\" >equity</td>\n",
       "      <td id=\"T_1e7cb_row25_col1\" class=\"data row25 col1\" >0</td>\n",
       "      <td id=\"T_1e7cb_row25_col2\" class=\"data row25 col2\" >2576</td>\n",
       "      <td id=\"T_1e7cb_row25_col3\" class=\"data row25 col3\" >90</td>\n",
       "      <td id=\"T_1e7cb_row25_col4\" class=\"data row25 col4\" >3.49</td>\n",
       "      <td id=\"T_1e7cb_row25_col5\" class=\"data row25 col5\" >1.0000</td>\n",
       "      <td id=\"T_1e7cb_row25_col6\" class=\"data row25 col6\" >1.0000</td>\n",
       "    </tr>\n",
       "    <tr>\n",
       "      <th id=\"T_1e7cb_level0_row26\" class=\"row_heading level0 row26\" >6</th>\n",
       "      <td id=\"T_1e7cb_row26_col0\" class=\"data row26 col0\" >equity</td>\n",
       "      <td id=\"T_1e7cb_row26_col1\" class=\"data row26 col1\" >1</td>\n",
       "      <td id=\"T_1e7cb_row26_col2\" class=\"data row26 col2\" >773</td>\n",
       "      <td id=\"T_1e7cb_row26_col3\" class=\"data row26 col3\" >93</td>\n",
       "      <td id=\"T_1e7cb_row26_col4\" class=\"data row26 col4\" >12.03</td>\n",
       "      <td id=\"T_1e7cb_row26_col5\" class=\"data row26 col5\" >1.0000</td>\n",
       "      <td id=\"T_1e7cb_row26_col6\" class=\"data row26 col6\" >1.0000</td>\n",
       "    </tr>\n",
       "    <tr>\n",
       "      <th id=\"T_1e7cb_level0_row27\" class=\"row_heading level0 row27\" >7</th>\n",
       "      <td id=\"T_1e7cb_row27_col0\" class=\"data row27 col0\" >equity</td>\n",
       "      <td id=\"T_1e7cb_row27_col1\" class=\"data row27 col1\" >2</td>\n",
       "      <td id=\"T_1e7cb_row27_col2\" class=\"data row27 col2\" >1051</td>\n",
       "      <td id=\"T_1e7cb_row27_col3\" class=\"data row27 col3\" >166</td>\n",
       "      <td id=\"T_1e7cb_row27_col4\" class=\"data row27 col4\" >15.79</td>\n",
       "      <td id=\"T_1e7cb_row27_col5\" class=\"data row27 col5\" >0.9848</td>\n",
       "      <td id=\"T_1e7cb_row27_col6\" class=\"data row27 col6\" >1.0000</td>\n",
       "    </tr>\n",
       "    <tr>\n",
       "      <th id=\"T_1e7cb_level0_row28\" class=\"row_heading level0 row28\" >8</th>\n",
       "      <td id=\"T_1e7cb_row28_col0\" class=\"data row28 col0\" >equity</td>\n",
       "      <td id=\"T_1e7cb_row28_col1\" class=\"data row28 col1\" >3</td>\n",
       "      <td id=\"T_1e7cb_row28_col2\" class=\"data row28 col2\" >1540</td>\n",
       "      <td id=\"T_1e7cb_row28_col3\" class=\"data row28 col3\" >321</td>\n",
       "      <td id=\"T_1e7cb_row28_col4\" class=\"data row28 col4\" >20.84</td>\n",
       "      <td id=\"T_1e7cb_row28_col5\" class=\"data row28 col5\" >0.0058</td>\n",
       "      <td id=\"T_1e7cb_row28_col6\" class=\"data row28 col6\" >0.0141</td>\n",
       "    </tr>\n",
       "    <tr>\n",
       "      <th id=\"T_1e7cb_level0_row29\" class=\"row_heading level0 row29\" >9</th>\n",
       "      <td id=\"T_1e7cb_row29_col0\" class=\"data row29 col0\" >equity</td>\n",
       "      <td id=\"T_1e7cb_row29_col1\" class=\"data row29 col1\" >4</td>\n",
       "      <td id=\"T_1e7cb_row29_col2\" class=\"data row29 col2\" >1847</td>\n",
       "      <td id=\"T_1e7cb_row29_col3\" class=\"data row29 col3\" >464</td>\n",
       "      <td id=\"T_1e7cb_row29_col4\" class=\"data row29 col4\" >25.12</td>\n",
       "      <td id=\"T_1e7cb_row29_col5\" class=\"data row29 col5\" >0.0000</td>\n",
       "      <td id=\"T_1e7cb_row29_col6\" class=\"data row29 col6\" >0.0000</td>\n",
       "    </tr>\n",
       "    <tr>\n",
       "      <th id=\"T_1e7cb_level0_row30\" class=\"row_heading level0 row30\" >10</th>\n",
       "      <td id=\"T_1e7cb_row30_col0\" class=\"data row30 col0\" >equity</td>\n",
       "      <td id=\"T_1e7cb_row30_col1\" class=\"data row30 col1\" >5</td>\n",
       "      <td id=\"T_1e7cb_row30_col2\" class=\"data row30 col2\" >1915</td>\n",
       "      <td id=\"T_1e7cb_row30_col3\" class=\"data row30 col3\" >576</td>\n",
       "      <td id=\"T_1e7cb_row30_col4\" class=\"data row30 col4\" >30.08</td>\n",
       "      <td id=\"T_1e7cb_row30_col5\" class=\"data row30 col5\" >0.0000</td>\n",
       "      <td id=\"T_1e7cb_row30_col6\" class=\"data row30 col6\" >0.0000</td>\n",
       "    </tr>\n",
       "    <tr>\n",
       "      <th id=\"T_1e7cb_level0_row31\" class=\"row_heading level0 row31\" >11</th>\n",
       "      <td id=\"T_1e7cb_row31_col0\" class=\"data row31 col0\" >equity</td>\n",
       "      <td id=\"T_1e7cb_row31_col1\" class=\"data row31 col1\" >6</td>\n",
       "      <td id=\"T_1e7cb_row31_col2\" class=\"data row31 col2\" >161</td>\n",
       "      <td id=\"T_1e7cb_row31_col3\" class=\"data row31 col3\" >58</td>\n",
       "      <td id=\"T_1e7cb_row31_col4\" class=\"data row31 col4\" >36.02</td>\n",
       "      <td id=\"T_1e7cb_row31_col5\" class=\"data row31 col5\" >0.0000</td>\n",
       "      <td id=\"T_1e7cb_row31_col6\" class=\"data row31 col6\" >0.0000</td>\n",
       "    </tr>\n",
       "    <tr>\n",
       "      <th id=\"T_1e7cb_level0_row32\" class=\"row_heading level0 row32\" >12</th>\n",
       "      <td id=\"T_1e7cb_row32_col0\" class=\"data row32 col0\" >equity</td>\n",
       "      <td id=\"T_1e7cb_row32_col1\" class=\"data row32 col1\" >7</td>\n",
       "      <td id=\"T_1e7cb_row32_col2\" class=\"data row32 col2\" >80</td>\n",
       "      <td id=\"T_1e7cb_row32_col3\" class=\"data row32 col3\" >37</td>\n",
       "      <td id=\"T_1e7cb_row32_col4\" class=\"data row32 col4\" >46.25</td>\n",
       "      <td id=\"T_1e7cb_row32_col5\" class=\"data row32 col5\" >0.0000</td>\n",
       "      <td id=\"T_1e7cb_row32_col6\" class=\"data row32 col6\" >0.0000</td>\n",
       "    </tr>\n",
       "    <tr>\n",
       "      <th id=\"T_1e7cb_level0_row33\" class=\"row_heading level0 row33\" >13</th>\n",
       "      <td id=\"T_1e7cb_row33_col0\" class=\"data row33 col0\" >equity</td>\n",
       "      <td id=\"T_1e7cb_row33_col1\" class=\"data row33 col1\" >8</td>\n",
       "      <td id=\"T_1e7cb_row33_col2\" class=\"data row33 col2\" >17</td>\n",
       "      <td id=\"T_1e7cb_row33_col3\" class=\"data row33 col3\" >6</td>\n",
       "      <td id=\"T_1e7cb_row33_col4\" class=\"data row33 col4\" >35.29</td>\n",
       "      <td id=\"T_1e7cb_row33_col5\" class=\"data row33 col5\" >0.0705</td>\n",
       "      <td id=\"T_1e7cb_row33_col6\" class=\"data row33 col6\" >0.0688</td>\n",
       "    </tr>\n",
       "    <tr>\n",
       "      <th id=\"T_1e7cb_level0_row34\" class=\"row_heading level0 row34\" >14</th>\n",
       "      <td id=\"T_1e7cb_row34_col0\" class=\"data row34 col0\" >equity</td>\n",
       "      <td id=\"T_1e7cb_row34_col1\" class=\"data row34 col1\" >9</td>\n",
       "      <td id=\"T_1e7cb_row34_col2\" class=\"data row34 col2\" >13</td>\n",
       "      <td id=\"T_1e7cb_row34_col3\" class=\"data row34 col3\" >7</td>\n",
       "      <td id=\"T_1e7cb_row34_col4\" class=\"data row34 col4\" >53.85</td>\n",
       "      <td id=\"T_1e7cb_row34_col5\" class=\"data row34 col5\" >0.0050</td>\n",
       "      <td id=\"T_1e7cb_row34_col6\" class=\"data row34 col6\" >0.0009</td>\n",
       "    </tr>\n",
       "    <tr>\n",
       "      <th id=\"T_1e7cb_level0_row35\" class=\"row_heading level0 row35\" >56</th>\n",
       "      <td id=\"T_1e7cb_row35_col0\" class=\"data row35 col0\" >est_salary</td>\n",
       "      <td id=\"T_1e7cb_row35_col1\" class=\"data row35 col1\" >101-119</td>\n",
       "      <td id=\"T_1e7cb_row35_col2\" class=\"data row35 col2\" >998</td>\n",
       "      <td id=\"T_1e7cb_row35_col3\" class=\"data row35 col3\" >208</td>\n",
       "      <td id=\"T_1e7cb_row35_col4\" class=\"data row35 col4\" >20.84</td>\n",
       "      <td id=\"T_1e7cb_row35_col5\" class=\"data row35 col5\" >0.0211</td>\n",
       "      <td id=\"T_1e7cb_row35_col6\" class=\"data row35 col6\" >0.0426</td>\n",
       "    </tr>\n",
       "    <tr>\n",
       "      <th id=\"T_1e7cb_level0_row36\" class=\"row_heading level0 row36\" >57</th>\n",
       "      <td id=\"T_1e7cb_row36_col0\" class=\"data row36 col0\" >est_salary</td>\n",
       "      <td id=\"T_1e7cb_row36_col1\" class=\"data row36 col1\" >119-139</td>\n",
       "      <td id=\"T_1e7cb_row36_col2\" class=\"data row36 col2\" >998</td>\n",
       "      <td id=\"T_1e7cb_row36_col3\" class=\"data row36 col3\" >203</td>\n",
       "      <td id=\"T_1e7cb_row36_col4\" class=\"data row36 col4\" >20.34</td>\n",
       "      <td id=\"T_1e7cb_row36_col5\" class=\"data row36 col5\" >0.0488</td>\n",
       "      <td id=\"T_1e7cb_row36_col6\" class=\"data row36 col6\" >0.1009</td>\n",
       "    </tr>\n",
       "    <tr>\n",
       "      <th id=\"T_1e7cb_level0_row37\" class=\"row_heading level0 row37\" >58</th>\n",
       "      <td id=\"T_1e7cb_row37_col0\" class=\"data row37 col0\" >est_salary</td>\n",
       "      <td id=\"T_1e7cb_row37_col1\" class=\"data row37 col1\" >139-161</td>\n",
       "      <td id=\"T_1e7cb_row37_col2\" class=\"data row37 col2\" >997</td>\n",
       "      <td id=\"T_1e7cb_row37_col3\" class=\"data row37 col3\" >193</td>\n",
       "      <td id=\"T_1e7cb_row37_col4\" class=\"data row37 col4\" >19.36</td>\n",
       "      <td id=\"T_1e7cb_row37_col5\" class=\"data row37 col5\" >0.1837</td>\n",
       "      <td id=\"T_1e7cb_row37_col6\" class=\"data row37 col6\" >0.3798</td>\n",
       "    </tr>\n",
       "    <tr>\n",
       "      <th id=\"T_1e7cb_level0_row38\" class=\"row_heading level0 row38\" >59</th>\n",
       "      <td id=\"T_1e7cb_row38_col0\" class=\"data row38 col0\" >est_salary</td>\n",
       "      <td id=\"T_1e7cb_row38_col1\" class=\"data row38 col1\" >161-189</td>\n",
       "      <td id=\"T_1e7cb_row38_col2\" class=\"data row38 col2\" >997</td>\n",
       "      <td id=\"T_1e7cb_row38_col3\" class=\"data row38 col3\" >207</td>\n",
       "      <td id=\"T_1e7cb_row38_col4\" class=\"data row38 col4\" >20.76</td>\n",
       "      <td id=\"T_1e7cb_row38_col5\" class=\"data row38 col5\" >0.0243</td>\n",
       "      <td id=\"T_1e7cb_row38_col6\" class=\"data row38 col6\" >0.0493</td>\n",
       "    </tr>\n",
       "    <tr>\n",
       "      <th id=\"T_1e7cb_level0_row39\" class=\"row_heading level0 row39\" >60</th>\n",
       "      <td id=\"T_1e7cb_row39_col0\" class=\"data row39 col0\" >est_salary</td>\n",
       "      <td id=\"T_1e7cb_row39_col1\" class=\"data row39 col1\" >189-242</td>\n",
       "      <td id=\"T_1e7cb_row39_col2\" class=\"data row39 col2\" >997</td>\n",
       "      <td id=\"T_1e7cb_row39_col3\" class=\"data row39 col3\" >194</td>\n",
       "      <td id=\"T_1e7cb_row39_col4\" class=\"data row39 col4\" >19.46</td>\n",
       "      <td id=\"T_1e7cb_row39_col5\" class=\"data row39 col5\" >0.1636</td>\n",
       "      <td id=\"T_1e7cb_row39_col6\" class=\"data row39 col6\" >0.3390</td>\n",
       "    </tr>\n",
       "    <tr>\n",
       "      <th id=\"T_1e7cb_level0_row40\" class=\"row_heading level0 row40\" >52</th>\n",
       "      <td id=\"T_1e7cb_row40_col0\" class=\"data row40 col0\" >est_salary</td>\n",
       "      <td id=\"T_1e7cb_row40_col1\" class=\"data row40 col1\" >2-45</td>\n",
       "      <td id=\"T_1e7cb_row40_col2\" class=\"data row40 col2\" >998</td>\n",
       "      <td id=\"T_1e7cb_row40_col3\" class=\"data row40 col3\" >137</td>\n",
       "      <td id=\"T_1e7cb_row40_col4\" class=\"data row40 col4\" >13.73</td>\n",
       "      <td id=\"T_1e7cb_row40_col5\" class=\"data row40 col5\" >1.0000</td>\n",
       "      <td id=\"T_1e7cb_row40_col6\" class=\"data row40 col6\" >1.0000</td>\n",
       "    </tr>\n",
       "    <tr>\n",
       "      <th id=\"T_1e7cb_level0_row41\" class=\"row_heading level0 row41\" >61</th>\n",
       "      <td id=\"T_1e7cb_row41_col0\" class=\"data row41 col0\" >est_salary</td>\n",
       "      <td id=\"T_1e7cb_row41_col1\" class=\"data row41 col1\" >242-1395</td>\n",
       "      <td id=\"T_1e7cb_row41_col2\" class=\"data row41 col2\" >998</td>\n",
       "      <td id=\"T_1e7cb_row41_col3\" class=\"data row41 col3\" >174</td>\n",
       "      <td id=\"T_1e7cb_row41_col4\" class=\"data row41 col4\" >17.43</td>\n",
       "      <td id=\"T_1e7cb_row41_col5\" class=\"data row41 col5\" >0.7460</td>\n",
       "      <td id=\"T_1e7cb_row41_col6\" class=\"data row41 col6\" >1.0000</td>\n",
       "    </tr>\n",
       "    <tr>\n",
       "      <th id=\"T_1e7cb_level0_row42\" class=\"row_heading level0 row42\" >53</th>\n",
       "      <td id=\"T_1e7cb_row42_col0\" class=\"data row42 col0\" >est_salary</td>\n",
       "      <td id=\"T_1e7cb_row42_col1\" class=\"data row42 col1\" >45-66</td>\n",
       "      <td id=\"T_1e7cb_row42_col2\" class=\"data row42 col2\" >997</td>\n",
       "      <td id=\"T_1e7cb_row42_col3\" class=\"data row42 col3\" >160</td>\n",
       "      <td id=\"T_1e7cb_row42_col4\" class=\"data row42 col4\" >16.05</td>\n",
       "      <td id=\"T_1e7cb_row42_col5\" class=\"data row42 col5\" >0.9697</td>\n",
       "      <td id=\"T_1e7cb_row42_col6\" class=\"data row42 col6\" >1.0000</td>\n",
       "    </tr>\n",
       "    <tr>\n",
       "      <th id=\"T_1e7cb_level0_row43\" class=\"row_heading level0 row43\" >54</th>\n",
       "      <td id=\"T_1e7cb_row43_col0\" class=\"data row43 col0\" >est_salary</td>\n",
       "      <td id=\"T_1e7cb_row43_col1\" class=\"data row43 col1\" >66-83</td>\n",
       "      <td id=\"T_1e7cb_row43_col2\" class=\"data row43 col2\" >997</td>\n",
       "      <td id=\"T_1e7cb_row43_col3\" class=\"data row43 col3\" >168</td>\n",
       "      <td id=\"T_1e7cb_row43_col4\" class=\"data row43 col4\" >16.85</td>\n",
       "      <td id=\"T_1e7cb_row43_col5\" class=\"data row43 col5\" >0.8777</td>\n",
       "      <td id=\"T_1e7cb_row43_col6\" class=\"data row43 col6\" >1.0000</td>\n",
       "    </tr>\n",
       "    <tr>\n",
       "      <th id=\"T_1e7cb_level0_row44\" class=\"row_heading level0 row44\" >55</th>\n",
       "      <td id=\"T_1e7cb_row44_col0\" class=\"data row44 col0\" >est_salary</td>\n",
       "      <td id=\"T_1e7cb_row44_col1\" class=\"data row44 col1\" >83-101</td>\n",
       "      <td id=\"T_1e7cb_row44_col2\" class=\"data row44 col2\" >997</td>\n",
       "      <td id=\"T_1e7cb_row44_col3\" class=\"data row44 col3\" >174</td>\n",
       "      <td id=\"T_1e7cb_row44_col4\" class=\"data row44 col4\" >17.45</td>\n",
       "      <td id=\"T_1e7cb_row44_col5\" class=\"data row44 col5\" >0.7412</td>\n",
       "      <td id=\"T_1e7cb_row44_col6\" class=\"data row44 col6\" >1.0000</td>\n",
       "    </tr>\n",
       "    <tr>\n",
       "      <th id=\"T_1e7cb_level0_row45\" class=\"row_heading level0 row45\" >3</th>\n",
       "      <td id=\"T_1e7cb_row45_col0\" class=\"data row45 col0\" >gender</td>\n",
       "      <td id=\"T_1e7cb_row45_col1\" class=\"data row45 col1\" >Женщины</td>\n",
       "      <td id=\"T_1e7cb_row45_col2\" class=\"data row45 col2\" >4982</td>\n",
       "      <td id=\"T_1e7cb_row45_col3\" class=\"data row45 col3\" >635</td>\n",
       "      <td id=\"T_1e7cb_row45_col4\" class=\"data row45 col4\" >12.75</td>\n",
       "      <td id=\"T_1e7cb_row45_col5\" class=\"data row45 col5\" >1.0000</td>\n",
       "      <td id=\"T_1e7cb_row45_col6\" class=\"data row45 col6\" >1.0000</td>\n",
       "    </tr>\n",
       "    <tr>\n",
       "      <th id=\"T_1e7cb_level0_row46\" class=\"row_heading level0 row46\" >4</th>\n",
       "      <td id=\"T_1e7cb_row46_col0\" class=\"data row46 col0\" >gender</td>\n",
       "      <td id=\"T_1e7cb_row46_col1\" class=\"data row46 col1\" >Мужчины</td>\n",
       "      <td id=\"T_1e7cb_row46_col2\" class=\"data row46 col2\" >4991</td>\n",
       "      <td id=\"T_1e7cb_row46_col3\" class=\"data row46 col3\" >1,183</td>\n",
       "      <td id=\"T_1e7cb_row46_col4\" class=\"data row46 col4\" >23.70</td>\n",
       "      <td id=\"T_1e7cb_row46_col5\" class=\"data row46 col5\" >0.0000</td>\n",
       "      <td id=\"T_1e7cb_row46_col6\" class=\"data row46 col6\" >0.0000</td>\n",
       "    </tr>\n",
       "    <tr>\n",
       "      <th id=\"T_1e7cb_level0_row47\" class=\"row_heading level0 row47\" >15</th>\n",
       "      <td id=\"T_1e7cb_row47_col0\" class=\"data row47 col0\" >products</td>\n",
       "      <td id=\"T_1e7cb_row47_col1\" class=\"data row47 col1\" >1</td>\n",
       "      <td id=\"T_1e7cb_row47_col2\" class=\"data row47 col2\" >3323</td>\n",
       "      <td id=\"T_1e7cb_row47_col3\" class=\"data row47 col3\" >235</td>\n",
       "      <td id=\"T_1e7cb_row47_col4\" class=\"data row47 col4\" >7.07</td>\n",
       "      <td id=\"T_1e7cb_row47_col5\" class=\"data row47 col5\" >1.0000</td>\n",
       "      <td id=\"T_1e7cb_row47_col6\" class=\"data row47 col6\" >1.0000</td>\n",
       "    </tr>\n",
       "    <tr>\n",
       "      <th id=\"T_1e7cb_level0_row48\" class=\"row_heading level0 row48\" >16</th>\n",
       "      <td id=\"T_1e7cb_row48_col0\" class=\"data row48 col0\" >products</td>\n",
       "      <td id=\"T_1e7cb_row48_col1\" class=\"data row48 col1\" >2</td>\n",
       "      <td id=\"T_1e7cb_row48_col2\" class=\"data row48 col2\" >5119</td>\n",
       "      <td id=\"T_1e7cb_row48_col3\" class=\"data row48 col3\" >978</td>\n",
       "      <td id=\"T_1e7cb_row48_col4\" class=\"data row48 col4\" >19.11</td>\n",
       "      <td id=\"T_1e7cb_row48_col5\" class=\"data row48 col5\" >0.0556</td>\n",
       "      <td id=\"T_1e7cb_row48_col6\" class=\"data row48 col6\" >0.1897</td>\n",
       "    </tr>\n",
       "    <tr>\n",
       "      <th id=\"T_1e7cb_level0_row49\" class=\"row_heading level0 row49\" >17</th>\n",
       "      <td id=\"T_1e7cb_row49_col0\" class=\"data row49 col0\" >products</td>\n",
       "      <td id=\"T_1e7cb_row49_col1\" class=\"data row49 col1\" >3</td>\n",
       "      <td id=\"T_1e7cb_row49_col2\" class=\"data row49 col2\" >1038</td>\n",
       "      <td id=\"T_1e7cb_row49_col3\" class=\"data row49 col3\" >297</td>\n",
       "      <td id=\"T_1e7cb_row49_col4\" class=\"data row49 col4\" >28.61</td>\n",
       "      <td id=\"T_1e7cb_row49_col5\" class=\"data row49 col5\" >0.0000</td>\n",
       "      <td id=\"T_1e7cb_row49_col6\" class=\"data row49 col6\" >0.0000</td>\n",
       "    </tr>\n",
       "    <tr>\n",
       "      <th id=\"T_1e7cb_level0_row50\" class=\"row_heading level0 row50\" >18</th>\n",
       "      <td id=\"T_1e7cb_row50_col0\" class=\"data row50 col0\" >products</td>\n",
       "      <td id=\"T_1e7cb_row50_col1\" class=\"data row50 col1\" >4</td>\n",
       "      <td id=\"T_1e7cb_row50_col2\" class=\"data row50 col2\" >474</td>\n",
       "      <td id=\"T_1e7cb_row50_col3\" class=\"data row50 col3\" >300</td>\n",
       "      <td id=\"T_1e7cb_row50_col4\" class=\"data row50 col4\" >63.29</td>\n",
       "      <td id=\"T_1e7cb_row50_col5\" class=\"data row50 col5\" >0.0000</td>\n",
       "      <td id=\"T_1e7cb_row50_col6\" class=\"data row50 col6\" >0.0000</td>\n",
       "    </tr>\n",
       "    <tr>\n",
       "      <th id=\"T_1e7cb_level0_row51\" class=\"row_heading level0 row51\" >19</th>\n",
       "      <td id=\"T_1e7cb_row51_col0\" class=\"data row51 col0\" >products</td>\n",
       "      <td id=\"T_1e7cb_row51_col1\" class=\"data row51 col1\" >5</td>\n",
       "      <td id=\"T_1e7cb_row51_col2\" class=\"data row51 col2\" >19</td>\n",
       "      <td id=\"T_1e7cb_row51_col3\" class=\"data row51 col3\" >8</td>\n",
       "      <td id=\"T_1e7cb_row51_col4\" class=\"data row51 col4\" >42.11</td>\n",
       "      <td id=\"T_1e7cb_row51_col5\" class=\"data row51 col5\" >0.0175</td>\n",
       "      <td id=\"T_1e7cb_row51_col6\" class=\"data row51 col6\" >0.0071</td>\n",
       "    </tr>\n",
       "    <tr>\n",
       "      <th id=\"T_1e7cb_level0_row52\" class=\"row_heading level0 row52\" >32</th>\n",
       "      <td id=\"T_1e7cb_row52_col0\" class=\"data row52 col0\" >score</td>\n",
       "      <td id=\"T_1e7cb_row52_col1\" class=\"data row52 col1\" >642-765</td>\n",
       "      <td id=\"T_1e7cb_row52_col2\" class=\"data row52 col2\" >1019</td>\n",
       "      <td id=\"T_1e7cb_row52_col3\" class=\"data row52 col3\" >47</td>\n",
       "      <td id=\"T_1e7cb_row52_col4\" class=\"data row52 col4\" >4.61</td>\n",
       "      <td id=\"T_1e7cb_row52_col5\" class=\"data row52 col5\" >1.0000</td>\n",
       "      <td id=\"T_1e7cb_row52_col6\" class=\"data row52 col6\" >1.0000</td>\n",
       "    </tr>\n",
       "    <tr>\n",
       "      <th id=\"T_1e7cb_level0_row53\" class=\"row_heading level0 row53\" >33</th>\n",
       "      <td id=\"T_1e7cb_row53_col0\" class=\"data row53 col0\" >score</td>\n",
       "      <td id=\"T_1e7cb_row53_col1\" class=\"data row53 col1\" >765-791</td>\n",
       "      <td id=\"T_1e7cb_row53_col2\" class=\"data row53 col2\" >1024</td>\n",
       "      <td id=\"T_1e7cb_row53_col3\" class=\"data row53 col3\" >107</td>\n",
       "      <td id=\"T_1e7cb_row53_col4\" class=\"data row53 col4\" >10.45</td>\n",
       "      <td id=\"T_1e7cb_row53_col5\" class=\"data row53 col5\" >1.0000</td>\n",
       "      <td id=\"T_1e7cb_row53_col6\" class=\"data row53 col6\" >1.0000</td>\n",
       "    </tr>\n",
       "    <tr>\n",
       "      <th id=\"T_1e7cb_level0_row54\" class=\"row_heading level0 row54\" >34</th>\n",
       "      <td id=\"T_1e7cb_row54_col0\" class=\"data row54 col0\" >score</td>\n",
       "      <td id=\"T_1e7cb_row54_col1\" class=\"data row54 col1\" >791-812</td>\n",
       "      <td id=\"T_1e7cb_row54_col2\" class=\"data row54 col2\" >1024</td>\n",
       "      <td id=\"T_1e7cb_row54_col3\" class=\"data row54 col3\" >154</td>\n",
       "      <td id=\"T_1e7cb_row54_col4\" class=\"data row54 col4\" >15.04</td>\n",
       "      <td id=\"T_1e7cb_row54_col5\" class=\"data row54 col5\" >0.9979</td>\n",
       "      <td id=\"T_1e7cb_row54_col6\" class=\"data row54 col6\" >1.0000</td>\n",
       "    </tr>\n",
       "    <tr>\n",
       "      <th id=\"T_1e7cb_level0_row55\" class=\"row_heading level0 row55\" >35</th>\n",
       "      <td id=\"T_1e7cb_row55_col0\" class=\"data row55 col0\" >score</td>\n",
       "      <td id=\"T_1e7cb_row55_col1\" class=\"data row55 col1\" >812-832</td>\n",
       "      <td id=\"T_1e7cb_row55_col2\" class=\"data row55 col2\" >1044</td>\n",
       "      <td id=\"T_1e7cb_row55_col3\" class=\"data row55 col3\" >196</td>\n",
       "      <td id=\"T_1e7cb_row55_col4\" class=\"data row55 col4\" >18.77</td>\n",
       "      <td id=\"T_1e7cb_row55_col5\" class=\"data row55 col5\" >0.3263</td>\n",
       "      <td id=\"T_1e7cb_row55_col6\" class=\"data row55 col6\" >0.6648</td>\n",
       "    </tr>\n",
       "    <tr>\n",
       "      <th id=\"T_1e7cb_level0_row56\" class=\"row_heading level0 row56\" >36</th>\n",
       "      <td id=\"T_1e7cb_row56_col0\" class=\"data row56 col0\" >score</td>\n",
       "      <td id=\"T_1e7cb_row56_col1\" class=\"data row56 col1\" >832-853</td>\n",
       "      <td id=\"T_1e7cb_row56_col2\" class=\"data row56 col2\" >1085</td>\n",
       "      <td id=\"T_1e7cb_row56_col3\" class=\"data row56 col3\" >251</td>\n",
       "      <td id=\"T_1e7cb_row56_col4\" class=\"data row56 col4\" >23.13</td>\n",
       "      <td id=\"T_1e7cb_row56_col5\" class=\"data row56 col5\" >0.0001</td>\n",
       "      <td id=\"T_1e7cb_row56_col6\" class=\"data row56 col6\" >0.0001</td>\n",
       "    </tr>\n",
       "    <tr>\n",
       "      <th id=\"T_1e7cb_level0_row57\" class=\"row_heading level0 row57\" >37</th>\n",
       "      <td id=\"T_1e7cb_row57_col0\" class=\"data row57 col0\" >score</td>\n",
       "      <td id=\"T_1e7cb_row57_col1\" class=\"data row57 col1\" >853-873</td>\n",
       "      <td id=\"T_1e7cb_row57_col2\" class=\"data row57 col2\" >1024</td>\n",
       "      <td id=\"T_1e7cb_row57_col3\" class=\"data row57 col3\" >309</td>\n",
       "      <td id=\"T_1e7cb_row57_col4\" class=\"data row57 col4\" >30.18</td>\n",
       "      <td id=\"T_1e7cb_row57_col5\" class=\"data row57 col5\" >0.0000</td>\n",
       "      <td id=\"T_1e7cb_row57_col6\" class=\"data row57 col6\" >0.0000</td>\n",
       "    </tr>\n",
       "    <tr>\n",
       "      <th id=\"T_1e7cb_level0_row58\" class=\"row_heading level0 row58\" >38</th>\n",
       "      <td id=\"T_1e7cb_row58_col0\" class=\"data row58 col0\" >score</td>\n",
       "      <td id=\"T_1e7cb_row58_col1\" class=\"data row58 col1\" >873-891</td>\n",
       "      <td id=\"T_1e7cb_row58_col2\" class=\"data row58 col2\" >1030</td>\n",
       "      <td id=\"T_1e7cb_row58_col3\" class=\"data row58 col3\" >265</td>\n",
       "      <td id=\"T_1e7cb_row58_col4\" class=\"data row58 col4\" >25.73</td>\n",
       "      <td id=\"T_1e7cb_row58_col5\" class=\"data row58 col5\" >0.0000</td>\n",
       "      <td id=\"T_1e7cb_row58_col6\" class=\"data row58 col6\" >0.0000</td>\n",
       "    </tr>\n",
       "    <tr>\n",
       "      <th id=\"T_1e7cb_level0_row59\" class=\"row_heading level0 row59\" >39</th>\n",
       "      <td id=\"T_1e7cb_row59_col0\" class=\"data row59 col0\" >score</td>\n",
       "      <td id=\"T_1e7cb_row59_col1\" class=\"data row59 col1\" >891-908</td>\n",
       "      <td id=\"T_1e7cb_row59_col2\" class=\"data row59 col2\" >1089</td>\n",
       "      <td id=\"T_1e7cb_row59_col3\" class=\"data row59 col3\" >225</td>\n",
       "      <td id=\"T_1e7cb_row59_col4\" class=\"data row59 col4\" >20.66</td>\n",
       "      <td id=\"T_1e7cb_row59_col5\" class=\"data row59 col5\" >0.0238</td>\n",
       "      <td id=\"T_1e7cb_row59_col6\" class=\"data row59 col6\" >0.0496</td>\n",
       "    </tr>\n",
       "    <tr>\n",
       "      <th id=\"T_1e7cb_level0_row60\" class=\"row_heading level0 row60\" >40</th>\n",
       "      <td id=\"T_1e7cb_row60_col0\" class=\"data row60 col0\" >score</td>\n",
       "      <td id=\"T_1e7cb_row60_col1\" class=\"data row60 col1\" >908-928</td>\n",
       "      <td id=\"T_1e7cb_row60_col2\" class=\"data row60 col2\" >1056</td>\n",
       "      <td id=\"T_1e7cb_row60_col3\" class=\"data row60 col3\" >190</td>\n",
       "      <td id=\"T_1e7cb_row60_col4\" class=\"data row60 col4\" >17.99</td>\n",
       "      <td id=\"T_1e7cb_row60_col5\" class=\"data row60 col5\" >0.5796</td>\n",
       "      <td id=\"T_1e7cb_row60_col6\" class=\"data row60 col6\" >1.0000</td>\n",
       "    </tr>\n",
       "    <tr>\n",
       "      <th id=\"T_1e7cb_level0_row61\" class=\"row_heading level0 row61\" >41</th>\n",
       "      <td id=\"T_1e7cb_row61_col0\" class=\"data row61 col0\" >score</td>\n",
       "      <td id=\"T_1e7cb_row61_col1\" class=\"data row61 col1\" >928-1000</td>\n",
       "      <td id=\"T_1e7cb_row61_col2\" class=\"data row61 col2\" >1007</td>\n",
       "      <td id=\"T_1e7cb_row61_col3\" class=\"data row61 col3\" >166</td>\n",
       "      <td id=\"T_1e7cb_row61_col4\" class=\"data row61 col4\" >16.48</td>\n",
       "      <td id=\"T_1e7cb_row61_col5\" class=\"data row61 col5\" >0.9322</td>\n",
       "      <td id=\"T_1e7cb_row61_col6\" class=\"data row61 col6\" >1.0000</td>\n",
       "    </tr>\n",
       "  </tbody>\n",
       "</table>\n"
      ],
      "text/plain": [
       "<pandas.io.formats.style.Styler at 0x20e66173390>"
      ]
     },
     "execution_count": 41,
     "metadata": {},
     "output_type": "execute_result"
    }
   ],
   "source": [
    "ottok_col_all.sort_values(by=['col', 'seg'], ascending=True)\\\n",
    "    .style.apply(highlight_stat, subset='z-krit')\\\n",
    "    .apply(highlight_stat, subset='p-val')\\\n",
    "    .apply(highlight_proc, subset='proc')\\\n",
    "    .format({'all': '{:.0f}'.format, 'ottok': '{:,.0f}'.format, 'proc': '{:.2f}'.format,\\\n",
    "             'p-val': '{:.4f}'.format, 'z-krit': '{:.4f}'.format})"
   ]
  },
  {
   "cell_type": "markdown",
   "id": "8ebebf3a",
   "metadata": {},
   "source": [
    "С z-критерием из теории статический значимое превышение пропорции оттока клиентов среднего по банку в следующих сегментах:\n",
    "\n",
    "* возраст 18-32 и 48-61\n",
    "* мужчина\n",
    "* нет кредитной карты\n",
    "* баланс больше 660 тр\n",
    "* балл собственности 3-7, 9\n",
    "* оценочный доход 101-139, 161-189\n",
    "* количество продуктов 3-5\n",
    "* кредитный рейтинг 832-908\n",
    "\n",
    "\"вылетели\" два сегмента = возраст 32-35 и доход 119-139"
   ]
  },
  {
   "cell_type": "markdown",
   "id": "cd914ec3",
   "metadata": {},
   "source": [
    "### Сравнение распределения измеряемых параметров"
   ]
  },
  {
   "cell_type": "markdown",
   "id": "cbabe753",
   "metadata": {},
   "source": [
    "Сревним распределение значений измеряемых параметров - возраст, кредитнй рейтинг, баланс и оценочный доход - верных и ушедщих клиентов"
   ]
  },
  {
   "cell_type": "code",
   "execution_count": 42,
   "id": "195bef6e",
   "metadata": {},
   "outputs": [],
   "source": [
    "ottok = data.query('churn == 1')\n",
    "vernye = data.query('churn == 0')"
   ]
  },
  {
   "cell_type": "markdown",
   "id": "11ba605e",
   "metadata": {},
   "source": [
    "Для каждого параметра определим, является ли распределение нормальным, а также дисперсии. \n",
    "\n",
    "Для определения нормальности применим критериям Шапиро-Уилка и Колмогорова-Смирнова. \n",
    "p_value критерия больше 0,05 покажет, что распределение нормальное."
   ]
  },
  {
   "cell_type": "code",
   "execution_count": 43,
   "id": "0313cc99",
   "metadata": {
    "scrolled": true
   },
   "outputs": [
    {
     "name": "stderr",
     "output_type": "stream",
     "text": [
      "C:\\Users\\delff\\anaconda3\\Lib\\site-packages\\scipy\\stats\\_morestats.py:1882: UserWarning: p-value may not be accurate for N > 5000.\n",
      "  warnings.warn(\"p-value may not be accurate for N > 5000.\")\n",
      "C:\\Users\\delff\\anaconda3\\Lib\\site-packages\\scipy\\stats\\_morestats.py:1882: UserWarning: p-value may not be accurate for N > 5000.\n",
      "  warnings.warn(\"p-value may not be accurate for N > 5000.\")\n",
      "C:\\Users\\delff\\anaconda3\\Lib\\site-packages\\scipy\\stats\\_morestats.py:1882: UserWarning: p-value may not be accurate for N > 5000.\n",
      "  warnings.warn(\"p-value may not be accurate for N > 5000.\")\n",
      "C:\\Users\\delff\\anaconda3\\Lib\\site-packages\\scipy\\stats\\_morestats.py:1882: UserWarning: p-value may not be accurate for N > 5000.\n",
      "  warnings.warn(\"p-value may not be accurate for N > 5000.\")\n"
     ]
    }
   ],
   "source": [
    "stat_rasperd = pd.DataFrame([])\n",
    "for col in ['age', 'score', 'balance', 'est_salary']:\n",
    "    stat_rasperd.loc[col, 'shap'] = stats.shapiro(data[data[col].notna()][col])[1]\n",
    "    stat_rasperd.loc[col, 'ks'] = stats.kstest(data[data[col].notna()][col], 'norm')[1]\n",
    "    stat_rasperd.loc[col, 'ottok_var'] = ottok[col].var()\n",
    "    stat_rasperd.loc[col, 'vernye_var'] = vernye[col].var()\n",
    "    #print(f\"Shapiro-Wilk тест: статистика={w}, p-значение={p_value}\")\n",
    "    "
   ]
  },
  {
   "cell_type": "code",
   "execution_count": 44,
   "id": "617cc34b",
   "metadata": {},
   "outputs": [],
   "source": [
    "def highlight_rasperd(s):\n",
    "    return ['background-color: lime' if val > 0.05 else 'background-color: tomato' for val in s]"
   ]
  },
  {
   "cell_type": "code",
   "execution_count": 45,
   "id": "4759e19a",
   "metadata": {},
   "outputs": [
    {
     "data": {
      "text/html": [
       "<style type=\"text/css\">\n",
       "#T_17efd_row0_col0, #T_17efd_row0_col1, #T_17efd_row1_col0, #T_17efd_row1_col1, #T_17efd_row2_col0, #T_17efd_row2_col1, #T_17efd_row3_col0, #T_17efd_row3_col1 {\n",
       "  background-color: tomato;\n",
       "}\n",
       "</style>\n",
       "<table id=\"T_17efd\">\n",
       "  <thead>\n",
       "    <tr>\n",
       "      <th class=\"blank level0\" >&nbsp;</th>\n",
       "      <th id=\"T_17efd_level0_col0\" class=\"col_heading level0 col0\" >shap</th>\n",
       "      <th id=\"T_17efd_level0_col1\" class=\"col_heading level0 col1\" >ks</th>\n",
       "      <th id=\"T_17efd_level0_col2\" class=\"col_heading level0 col2\" >ottok_var</th>\n",
       "      <th id=\"T_17efd_level0_col3\" class=\"col_heading level0 col3\" >vernye_var</th>\n",
       "    </tr>\n",
       "  </thead>\n",
       "  <tbody>\n",
       "    <tr>\n",
       "      <th id=\"T_17efd_level0_row0\" class=\"row_heading level0 row0\" >age</th>\n",
       "      <td id=\"T_17efd_row0_col0\" class=\"data row0 col0\" >0.0000</td>\n",
       "      <td id=\"T_17efd_row0_col1\" class=\"data row0 col1\" >0.0000</td>\n",
       "      <td id=\"T_17efd_row0_col2\" class=\"data row0 col2\" >124.205552</td>\n",
       "      <td id=\"T_17efd_row0_col3\" class=\"data row0 col3\" >153.145751</td>\n",
       "    </tr>\n",
       "    <tr>\n",
       "      <th id=\"T_17efd_level0_row1\" class=\"row_heading level0 row1\" >score</th>\n",
       "      <td id=\"T_17efd_row1_col0\" class=\"data row1 col0\" >0.0000</td>\n",
       "      <td id=\"T_17efd_row1_col1\" class=\"data row1 col1\" >0.0000</td>\n",
       "      <td id=\"T_17efd_row1_col2\" class=\"data row1 col2\" >2458.245375</td>\n",
       "      <td id=\"T_17efd_row1_col3\" class=\"data row1 col3\" >4623.062654</td>\n",
       "    </tr>\n",
       "    <tr>\n",
       "      <th id=\"T_17efd_level0_row2\" class=\"row_heading level0 row2\" >balance</th>\n",
       "      <td id=\"T_17efd_row2_col0\" class=\"data row2 col0\" >0.0000</td>\n",
       "      <td id=\"T_17efd_row2_col1\" class=\"data row2 col1\" >0.0000</td>\n",
       "      <td id=\"T_17efd_row2_col2\" class=\"data row2 col2\" >4138968690585.892090</td>\n",
       "      <td id=\"T_17efd_row2_col3\" class=\"data row2 col3\" >3817930304894.400879</td>\n",
       "    </tr>\n",
       "    <tr>\n",
       "      <th id=\"T_17efd_level0_row3\" class=\"row_heading level0 row3\" >est_salary</th>\n",
       "      <td id=\"T_17efd_row3_col0\" class=\"data row3 col0\" >0.0000</td>\n",
       "      <td id=\"T_17efd_row3_col1\" class=\"data row3 col1\" >0.0000</td>\n",
       "      <td id=\"T_17efd_row3_col2\" class=\"data row3 col2\" >15112272166.883400</td>\n",
       "      <td id=\"T_17efd_row3_col3\" class=\"data row3 col3\" >20358839437.943947</td>\n",
       "    </tr>\n",
       "  </tbody>\n",
       "</table>\n"
      ],
      "text/plain": [
       "<pandas.io.formats.style.Styler at 0x20e661c4510>"
      ]
     },
     "execution_count": 45,
     "metadata": {},
     "output_type": "execute_result"
    }
   ],
   "source": [
    "stat_rasperd.style.apply(highlight_rasperd, subset=['shap', 'ks']).\\\n",
    "    format({'shap': '{:.4f}'.format, 'ks': '{:.4f}'.format})"
   ]
  },
  {
   "cell_type": "markdown",
   "id": "41d8c963",
   "metadata": {},
   "source": [
    "Критерии Шапиро-Уилка и Колмогорова показывают, что распределение параметров не являтся нормальным. То есть применять t-test нельзя. Необходимо применять непараметрические критерии, например тест Манна-Уитни.\n",
    "\n",
    "Однако благодаря большой выборке можно применить Центральной предельную теорему (ЦПТ), которая утверждает, что при достаточно большой выборке выборочное среднее распределено по нормальному закону. При этом не требуется, чтобы исходное распределение, из которого делается выборка, было нормальным. То есть совсем отвергать использование t-test не стоит.\n",
    "\n",
    "Дисперсии параметров вернвшихся и ушедлих клиентов не равны, значит при использовании t-test надо применять параметр equal_var=False.\n"
   ]
  },
  {
   "cell_type": "markdown",
   "id": "a0586fb0",
   "metadata": {},
   "source": [
    "Формулируем гипотезы: Нулевая - значения параметров в выборках равны. Альтенативная - значения параметров в выборке ушедших клиентов больше, чем у верных. Критичческий уровень p-value установим в  0,05"
   ]
  },
  {
   "cell_type": "code",
   "execution_count": 46,
   "id": "c04fd783",
   "metadata": {},
   "outputs": [],
   "source": [
    "# --------- Цикл проверки распределния по t-test ---------\n",
    "for col in ['age', 'score', 'balance', 'est_salary']:\n",
    "    #print(st.ttest_ind(ottok[ottok[col].notna()][col], vernye[vernye[col].notna()][col], alternative = 'greater', equal_var=False))\n",
    "    stat_rasperd.loc[col, 'tt'] = st.ttest_ind(ottok[ottok[col].notna()][col],\\\n",
    "                                               vernye[vernye[col].notna()][col],\\\n",
    "                                               alternative = 'greater',\\\n",
    "                                               equal_var=False)[1]\n"
   ]
  },
  {
   "cell_type": "code",
   "execution_count": 47,
   "id": "e3902ea5",
   "metadata": {},
   "outputs": [],
   "source": [
    "# --------- Цикл проверки распределния по критерию Манна-Уитни ---------\n",
    "# для сравнения результатов разных критериев\n",
    "\n",
    "for col in ['age', 'score', 'balance', 'est_salary']:\n",
    "    stat_rasperd.loc[col, 'man'] = st.mannwhitneyu(ottok[ottok[col].notna()][col],\\\n",
    "                                                   vernye[vernye[col].notna()][col],\n",
    "                                                   alternative = 'greater')[1]\n"
   ]
  },
  {
   "cell_type": "code",
   "execution_count": 48,
   "id": "cd123399",
   "metadata": {},
   "outputs": [
    {
     "data": {
      "text/html": [
       "<style type=\"text/css\">\n",
       "#T_e9886_row0_col4, #T_e9886_row0_col5, #T_e9886_row3_col4 {\n",
       "  background-color: lime;\n",
       "}\n",
       "#T_e9886_row1_col4, #T_e9886_row1_col5, #T_e9886_row2_col4, #T_e9886_row2_col5, #T_e9886_row3_col5 {\n",
       "  background-color: tomato;\n",
       "}\n",
       "</style>\n",
       "<table id=\"T_e9886\">\n",
       "  <thead>\n",
       "    <tr>\n",
       "      <th class=\"blank level0\" >&nbsp;</th>\n",
       "      <th id=\"T_e9886_level0_col0\" class=\"col_heading level0 col0\" >shap</th>\n",
       "      <th id=\"T_e9886_level0_col1\" class=\"col_heading level0 col1\" >ks</th>\n",
       "      <th id=\"T_e9886_level0_col2\" class=\"col_heading level0 col2\" >ottok_var</th>\n",
       "      <th id=\"T_e9886_level0_col3\" class=\"col_heading level0 col3\" >vernye_var</th>\n",
       "      <th id=\"T_e9886_level0_col4\" class=\"col_heading level0 col4\" >tt</th>\n",
       "      <th id=\"T_e9886_level0_col5\" class=\"col_heading level0 col5\" >man</th>\n",
       "    </tr>\n",
       "  </thead>\n",
       "  <tbody>\n",
       "    <tr>\n",
       "      <th id=\"T_e9886_level0_row0\" class=\"row_heading level0 row0\" >age</th>\n",
       "      <td id=\"T_e9886_row0_col0\" class=\"data row0 col0\" >0.000000</td>\n",
       "      <td id=\"T_e9886_row0_col1\" class=\"data row0 col1\" >0.000000</td>\n",
       "      <td id=\"T_e9886_row0_col2\" class=\"data row0 col2\" >124</td>\n",
       "      <td id=\"T_e9886_row0_col3\" class=\"data row0 col3\" >153</td>\n",
       "      <td id=\"T_e9886_row0_col4\" class=\"data row0 col4\" >1.0000</td>\n",
       "      <td id=\"T_e9886_row0_col5\" class=\"data row0 col5\" >1.0000</td>\n",
       "    </tr>\n",
       "    <tr>\n",
       "      <th id=\"T_e9886_level0_row1\" class=\"row_heading level0 row1\" >score</th>\n",
       "      <td id=\"T_e9886_row1_col0\" class=\"data row1 col0\" >0.000000</td>\n",
       "      <td id=\"T_e9886_row1_col1\" class=\"data row1 col1\" >0.000000</td>\n",
       "      <td id=\"T_e9886_row1_col2\" class=\"data row1 col2\" >2458</td>\n",
       "      <td id=\"T_e9886_row1_col3\" class=\"data row1 col3\" >4623</td>\n",
       "      <td id=\"T_e9886_row1_col4\" class=\"data row1 col4\" >0.0000</td>\n",
       "      <td id=\"T_e9886_row1_col5\" class=\"data row1 col5\" >0.0000</td>\n",
       "    </tr>\n",
       "    <tr>\n",
       "      <th id=\"T_e9886_level0_row2\" class=\"row_heading level0 row2\" >balance</th>\n",
       "      <td id=\"T_e9886_row2_col0\" class=\"data row2 col0\" >0.000000</td>\n",
       "      <td id=\"T_e9886_row2_col1\" class=\"data row2 col1\" >0.000000</td>\n",
       "      <td id=\"T_e9886_row2_col2\" class=\"data row2 col2\" >4138968690586</td>\n",
       "      <td id=\"T_e9886_row2_col3\" class=\"data row2 col3\" >3817930304894</td>\n",
       "      <td id=\"T_e9886_row2_col4\" class=\"data row2 col4\" >0.0000</td>\n",
       "      <td id=\"T_e9886_row2_col5\" class=\"data row2 col5\" >0.0000</td>\n",
       "    </tr>\n",
       "    <tr>\n",
       "      <th id=\"T_e9886_level0_row3\" class=\"row_heading level0 row3\" >est_salary</th>\n",
       "      <td id=\"T_e9886_row3_col0\" class=\"data row3 col0\" >0.000000</td>\n",
       "      <td id=\"T_e9886_row3_col1\" class=\"data row3 col1\" >0.000000</td>\n",
       "      <td id=\"T_e9886_row3_col2\" class=\"data row3 col2\" >15112272167</td>\n",
       "      <td id=\"T_e9886_row3_col3\" class=\"data row3 col3\" >20358839438</td>\n",
       "      <td id=\"T_e9886_row3_col4\" class=\"data row3 col4\" >0.4177</td>\n",
       "      <td id=\"T_e9886_row3_col5\" class=\"data row3 col5\" >0.0001</td>\n",
       "    </tr>\n",
       "  </tbody>\n",
       "</table>\n"
      ],
      "text/plain": [
       "<pandas.io.formats.style.Styler at 0x20e658ad990>"
      ]
     },
     "execution_count": 48,
     "metadata": {},
     "output_type": "execute_result"
    }
   ],
   "source": [
    "stat_rasperd.style.apply(highlight_rasperd, subset=['tt', 'man'])\\\n",
    "    .format({'ottok_var': '{:.0f}'.format, 'vernye_var': '{:.0f}'.format,\\\n",
    "             'tt': '{:.4f}'.format, 'man': '{:.4f}'.format})"
   ]
  },
  {
   "cell_type": "markdown",
   "id": "fad6e66d",
   "metadata": {},
   "source": [
    "Для возрастов p-value 1 - нулевую гипотезу нельзя отвегнуть, то есть распределение возрастов ушедщих и верных  клиентов одинаково\n",
    "\n",
    "Для Кредитного рейтинга и Баланса p-value значително меньше 0.05, то есть может отбросить нолувую гипотезу и принять альтернативный, что у ушедших клиентов Кредитный рейтинг и Баланс на счете больше.\n",
    "\n",
    "Для параметра Оценка недвижимости t-test дает p-value больше 0,05 - нелья отвергнуть нулевую гипотезу, то есть Оценка недвижимости одинаковая для верных и ушедших. Однако, критерий Манна-Уитни дает другой результат - p-value меньше 0,05 - что позволяет отбросить нулевую гипотезу и принять альтернативную."
   ]
  },
  {
   "cell_type": "markdown",
   "id": "495c4a9f",
   "metadata": {},
   "source": [
    "Возможно, свою сыграли роль выбросы, с которые непараметрический критерий Манна-Уитни лучше справляется. "
   ]
  },
  {
   "cell_type": "code",
   "execution_count": 49,
   "id": "e90d41ac",
   "metadata": {},
   "outputs": [
    {
     "data": {
      "image/png": "[encoded data removed]",
      "text/plain": [
       "<Figure size 1500x800 with 1 Axes>"
      ]
     },
     "metadata": {},
     "output_type": "display_data"
    }
   ],
   "source": [
    "plt.boxplot([vernye['est_salary'], ottok['est_salary']], labels = ['Верные', 'Отток'])\n",
    "plt.show()"
   ]
  },
  {
   "cell_type": "markdown",
   "id": "042f604f",
   "metadata": {},
   "source": [
    "## Промежуточные итоги - выделение признаков, влияющих на отток\n"
   ]
  },
  {
   "cell_type": "markdown",
   "id": "757e7e0e",
   "metadata": {},
   "source": [
    "По результатам проведенного исследовательского анализа, оценки корреляции параметров и проверки статистических гипотез выделим отдельные сегменты параметров, для которых отток клиентов выше среднего по банку\n",
    "\n",
    "* возраст 18-35 или 48-61\n",
    "* мужчины\n",
    "* нет кредитной карты\n",
    "* баланс на счете больше 676 т.р.\n",
    "* балл собственности от 3\n",
    "* оценочный доход в интервале 101 - 242\n",
    "* количество продуктов от 3\n",
    "* кредитный рейтинг в интервале 832 - 908"
   ]
  },
  {
   "cell_type": "markdown",
   "id": "c376c26f",
   "metadata": {},
   "source": [
    "## Выделение сегментов, в которых отток выше, чем в среднем по банку"
   ]
  },
  {
   "cell_type": "markdown",
   "id": "533fe27f",
   "metadata": {},
   "source": [
    "### ТОП сегментов параметров с самым большим оттоком "
   ]
  },
  {
   "cell_type": "markdown",
   "id": "c56efa01",
   "metadata": {},
   "source": [
    "Построим рейтинг сегментов отдельных параметров, которые больше базового, по проценту оттока "
   ]
  },
  {
   "cell_type": "code",
   "execution_count": 50,
   "id": "1042e8da",
   "metadata": {},
   "outputs": [
    {
     "data": {
      "text/html": [
       "<style type=\"text/css\">\n",
       "#T_96416_row0_col4, #T_96416_row1_col4, #T_96416_row2_col4, #T_96416_row3_col4, #T_96416_row4_col4, #T_96416_row5_col4, #T_96416_row6_col4, #T_96416_row7_col4, #T_96416_row8_col4, #T_96416_row9_col4, #T_96416_row10_col4, #T_96416_row11_col4, #T_96416_row12_col4, #T_96416_row13_col4, #T_96416_row14_col4, #T_96416_row15_col4, #T_96416_row16_col4, #T_96416_row17_col4, #T_96416_row18_col4, #T_96416_row19_col4, #T_96416_row20_col4, #T_96416_row21_col4, #T_96416_row22_col4, #T_96416_row23_col4, #T_96416_row24_col4, #T_96416_row25_col4, #T_96416_row26_col4, #T_96416_row27_col4, #T_96416_row28_col4, #T_96416_row29_col4, #T_96416_row30_col4, #T_96416_row31_col4, #T_96416_row32_col4, #T_96416_row33_col4, #T_96416_row34_col4, #T_96416_row35_col4 {\n",
       "  background-color: tomato;\n",
       "}\n",
       "#T_96416_row0_col5, #T_96416_row0_col6, #T_96416_row1_col5, #T_96416_row1_col6, #T_96416_row2_col5, #T_96416_row2_col6, #T_96416_row3_col5, #T_96416_row3_col6, #T_96416_row4_col5, #T_96416_row4_col6, #T_96416_row5_col5, #T_96416_row5_col6, #T_96416_row7_col5, #T_96416_row7_col6, #T_96416_row8_col5, #T_96416_row8_col6, #T_96416_row9_col5, #T_96416_row9_col6, #T_96416_row10_col5, #T_96416_row10_col6, #T_96416_row11_col5, #T_96416_row11_col6, #T_96416_row12_col5, #T_96416_row12_col6, #T_96416_row13_col5, #T_96416_row13_col6, #T_96416_row14_col5, #T_96416_row14_col6, #T_96416_row15_col5, #T_96416_row15_col6, #T_96416_row16_col5, #T_96416_row16_col6, #T_96416_row17_col5, #T_96416_row17_col6, #T_96416_row18_col5, #T_96416_row18_col6, #T_96416_row19_col5, #T_96416_row19_col6, #T_96416_row20_col5, #T_96416_row20_col6, #T_96416_row21_col5, #T_96416_row21_col6, #T_96416_row22_col5, #T_96416_row22_col6, #T_96416_row23_col5, #T_96416_row23_col6, #T_96416_row24_col5, #T_96416_row24_col6, #T_96416_row25_col5, #T_96416_row25_col6, #T_96416_row26_col5, #T_96416_row27_col5 {\n",
       "  background-color: orange;\n",
       "}\n",
       "#T_96416_row6_col5, #T_96416_row6_col6, #T_96416_row26_col6, #T_96416_row27_col6, #T_96416_row28_col5, #T_96416_row28_col6, #T_96416_row29_col5, #T_96416_row29_col6, #T_96416_row30_col5, #T_96416_row30_col6, #T_96416_row31_col5, #T_96416_row31_col6, #T_96416_row32_col5, #T_96416_row32_col6, #T_96416_row33_col5, #T_96416_row33_col6, #T_96416_row34_col5, #T_96416_row34_col6, #T_96416_row35_col5, #T_96416_row35_col6 {\n",
       "  background-color: none;\n",
       "}\n",
       "</style>\n",
       "<table id=\"T_96416\">\n",
       "  <thead>\n",
       "    <tr>\n",
       "      <th class=\"blank level0\" >&nbsp;</th>\n",
       "      <th id=\"T_96416_level0_col0\" class=\"col_heading level0 col0\" >col</th>\n",
       "      <th id=\"T_96416_level0_col1\" class=\"col_heading level0 col1\" >seg</th>\n",
       "      <th id=\"T_96416_level0_col2\" class=\"col_heading level0 col2\" >all</th>\n",
       "      <th id=\"T_96416_level0_col3\" class=\"col_heading level0 col3\" >ottok</th>\n",
       "      <th id=\"T_96416_level0_col4\" class=\"col_heading level0 col4\" >proc</th>\n",
       "      <th id=\"T_96416_level0_col5\" class=\"col_heading level0 col5\" >p-val</th>\n",
       "      <th id=\"T_96416_level0_col6\" class=\"col_heading level0 col6\" >z-krit</th>\n",
       "    </tr>\n",
       "  </thead>\n",
       "  <tbody>\n",
       "    <tr>\n",
       "      <th id=\"T_96416_level0_row0\" class=\"row_heading level0 row0\" >18</th>\n",
       "      <td id=\"T_96416_row0_col0\" class=\"data row0 col0\" >products</td>\n",
       "      <td id=\"T_96416_row0_col1\" class=\"data row0 col1\" >4</td>\n",
       "      <td id=\"T_96416_row0_col2\" class=\"data row0 col2\" >474</td>\n",
       "      <td id=\"T_96416_row0_col3\" class=\"data row0 col3\" >300</td>\n",
       "      <td id=\"T_96416_row0_col4\" class=\"data row0 col4\" >63.29</td>\n",
       "      <td id=\"T_96416_row0_col5\" class=\"data row0 col5\" >0.0000</td>\n",
       "      <td id=\"T_96416_row0_col6\" class=\"data row0 col6\" >0.0000</td>\n",
       "    </tr>\n",
       "    <tr>\n",
       "      <th id=\"T_96416_level0_row1\" class=\"row_heading level0 row1\" >14</th>\n",
       "      <td id=\"T_96416_row1_col0\" class=\"data row1 col0\" >equity</td>\n",
       "      <td id=\"T_96416_row1_col1\" class=\"data row1 col1\" >9</td>\n",
       "      <td id=\"T_96416_row1_col2\" class=\"data row1 col2\" >13</td>\n",
       "      <td id=\"T_96416_row1_col3\" class=\"data row1 col3\" >7</td>\n",
       "      <td id=\"T_96416_row1_col4\" class=\"data row1 col4\" >53.85</td>\n",
       "      <td id=\"T_96416_row1_col5\" class=\"data row1 col5\" >0.0050</td>\n",
       "      <td id=\"T_96416_row1_col6\" class=\"data row1 col6\" >0.0009</td>\n",
       "    </tr>\n",
       "    <tr>\n",
       "      <th id=\"T_96416_level0_row2\" class=\"row_heading level0 row2\" >51</th>\n",
       "      <td id=\"T_96416_row2_col0\" class=\"data row2 col0\" >balance</td>\n",
       "      <td id=\"T_96416_row2_col1\" class=\"data row2 col1\" >1460-119113</td>\n",
       "      <td id=\"T_96416_row2_col2\" class=\"data row2 col2\" >770</td>\n",
       "      <td id=\"T_96416_row2_col3\" class=\"data row2 col3\" >376</td>\n",
       "      <td id=\"T_96416_row2_col4\" class=\"data row2 col4\" >48.83</td>\n",
       "      <td id=\"T_96416_row2_col5\" class=\"data row2 col5\" >0.0000</td>\n",
       "      <td id=\"T_96416_row2_col6\" class=\"data row2 col6\" >0.0000</td>\n",
       "    </tr>\n",
       "    <tr>\n",
       "      <th id=\"T_96416_level0_row3\" class=\"row_heading level0 row3\" >12</th>\n",
       "      <td id=\"T_96416_row3_col0\" class=\"data row3 col0\" >equity</td>\n",
       "      <td id=\"T_96416_row3_col1\" class=\"data row3 col1\" >7</td>\n",
       "      <td id=\"T_96416_row3_col2\" class=\"data row3 col2\" >80</td>\n",
       "      <td id=\"T_96416_row3_col3\" class=\"data row3 col3\" >37</td>\n",
       "      <td id=\"T_96416_row3_col4\" class=\"data row3 col4\" >46.25</td>\n",
       "      <td id=\"T_96416_row3_col5\" class=\"data row3 col5\" >0.0000</td>\n",
       "      <td id=\"T_96416_row3_col6\" class=\"data row3 col6\" >0.0000</td>\n",
       "    </tr>\n",
       "    <tr>\n",
       "      <th id=\"T_96416_level0_row4\" class=\"row_heading level0 row4\" >19</th>\n",
       "      <td id=\"T_96416_row4_col0\" class=\"data row4 col0\" >products</td>\n",
       "      <td id=\"T_96416_row4_col1\" class=\"data row4 col1\" >5</td>\n",
       "      <td id=\"T_96416_row4_col2\" class=\"data row4 col2\" >19</td>\n",
       "      <td id=\"T_96416_row4_col3\" class=\"data row4 col3\" >8</td>\n",
       "      <td id=\"T_96416_row4_col4\" class=\"data row4 col4\" >42.11</td>\n",
       "      <td id=\"T_96416_row4_col5\" class=\"data row4 col5\" >0.0175</td>\n",
       "      <td id=\"T_96416_row4_col6\" class=\"data row4 col6\" >0.0071</td>\n",
       "    </tr>\n",
       "    <tr>\n",
       "      <th id=\"T_96416_level0_row5\" class=\"row_heading level0 row5\" >11</th>\n",
       "      <td id=\"T_96416_row5_col0\" class=\"data row5 col0\" >equity</td>\n",
       "      <td id=\"T_96416_row5_col1\" class=\"data row5 col1\" >6</td>\n",
       "      <td id=\"T_96416_row5_col2\" class=\"data row5 col2\" >161</td>\n",
       "      <td id=\"T_96416_row5_col3\" class=\"data row5 col3\" >58</td>\n",
       "      <td id=\"T_96416_row5_col4\" class=\"data row5 col4\" >36.02</td>\n",
       "      <td id=\"T_96416_row5_col5\" class=\"data row5 col5\" >0.0000</td>\n",
       "      <td id=\"T_96416_row5_col6\" class=\"data row5 col6\" >0.0000</td>\n",
       "    </tr>\n",
       "    <tr>\n",
       "      <th id=\"T_96416_level0_row6\" class=\"row_heading level0 row6\" >13</th>\n",
       "      <td id=\"T_96416_row6_col0\" class=\"data row6 col0\" >equity</td>\n",
       "      <td id=\"T_96416_row6_col1\" class=\"data row6 col1\" >8</td>\n",
       "      <td id=\"T_96416_row6_col2\" class=\"data row6 col2\" >17</td>\n",
       "      <td id=\"T_96416_row6_col3\" class=\"data row6 col3\" >6</td>\n",
       "      <td id=\"T_96416_row6_col4\" class=\"data row6 col4\" >35.29</td>\n",
       "      <td id=\"T_96416_row6_col5\" class=\"data row6 col5\" >0.0705</td>\n",
       "      <td id=\"T_96416_row6_col6\" class=\"data row6 col6\" >0.0688</td>\n",
       "    </tr>\n",
       "    <tr>\n",
       "      <th id=\"T_96416_level0_row7\" class=\"row_heading level0 row7\" >50</th>\n",
       "      <td id=\"T_96416_row7_col0\" class=\"data row7 col0\" >balance</td>\n",
       "      <td id=\"T_96416_row7_col1\" class=\"data row7 col1\" >1125-1460</td>\n",
       "      <td id=\"T_96416_row7_col2\" class=\"data row7 col2\" >769</td>\n",
       "      <td id=\"T_96416_row7_col3\" class=\"data row7 col3\" >266</td>\n",
       "      <td id=\"T_96416_row7_col4\" class=\"data row7 col4\" >34.59</td>\n",
       "      <td id=\"T_96416_row7_col5\" class=\"data row7 col5\" >0.0000</td>\n",
       "      <td id=\"T_96416_row7_col6\" class=\"data row7 col6\" >0.0000</td>\n",
       "    </tr>\n",
       "    <tr>\n",
       "      <th id=\"T_96416_level0_row8\" class=\"row_heading level0 row8\" >37</th>\n",
       "      <td id=\"T_96416_row8_col0\" class=\"data row8 col0\" >score</td>\n",
       "      <td id=\"T_96416_row8_col1\" class=\"data row8 col1\" >853-873</td>\n",
       "      <td id=\"T_96416_row8_col2\" class=\"data row8 col2\" >1024</td>\n",
       "      <td id=\"T_96416_row8_col3\" class=\"data row8 col3\" >309</td>\n",
       "      <td id=\"T_96416_row8_col4\" class=\"data row8 col4\" >30.18</td>\n",
       "      <td id=\"T_96416_row8_col5\" class=\"data row8 col5\" >0.0000</td>\n",
       "      <td id=\"T_96416_row8_col6\" class=\"data row8 col6\" >0.0000</td>\n",
       "    </tr>\n",
       "    <tr>\n",
       "      <th id=\"T_96416_level0_row9\" class=\"row_heading level0 row9\" >10</th>\n",
       "      <td id=\"T_96416_row9_col0\" class=\"data row9 col0\" >equity</td>\n",
       "      <td id=\"T_96416_row9_col1\" class=\"data row9 col1\" >5</td>\n",
       "      <td id=\"T_96416_row9_col2\" class=\"data row9 col2\" >1915</td>\n",
       "      <td id=\"T_96416_row9_col3\" class=\"data row9 col3\" >576</td>\n",
       "      <td id=\"T_96416_row9_col4\" class=\"data row9 col4\" >30.08</td>\n",
       "      <td id=\"T_96416_row9_col5\" class=\"data row9 col5\" >0.0000</td>\n",
       "      <td id=\"T_96416_row9_col6\" class=\"data row9 col6\" >0.0000</td>\n",
       "    </tr>\n",
       "    <tr>\n",
       "      <th id=\"T_96416_level0_row10\" class=\"row_heading level0 row10\" >17</th>\n",
       "      <td id=\"T_96416_row10_col0\" class=\"data row10 col0\" >products</td>\n",
       "      <td id=\"T_96416_row10_col1\" class=\"data row10 col1\" >3</td>\n",
       "      <td id=\"T_96416_row10_col2\" class=\"data row10 col2\" >1038</td>\n",
       "      <td id=\"T_96416_row10_col3\" class=\"data row10 col3\" >297</td>\n",
       "      <td id=\"T_96416_row10_col4\" class=\"data row10 col4\" >28.61</td>\n",
       "      <td id=\"T_96416_row10_col5\" class=\"data row10 col5\" >0.0000</td>\n",
       "      <td id=\"T_96416_row10_col6\" class=\"data row10 col6\" >0.0000</td>\n",
       "    </tr>\n",
       "    <tr>\n",
       "      <th id=\"T_96416_level0_row11\" class=\"row_heading level0 row11\" >30</th>\n",
       "      <td id=\"T_96416_row11_col0\" class=\"data row11 col0\" >age</td>\n",
       "      <td id=\"T_96416_row11_col1\" class=\"data row11 col1\" >54-61</td>\n",
       "      <td id=\"T_96416_row11_col2\" class=\"data row11 col2\" >1228</td>\n",
       "      <td id=\"T_96416_row11_col3\" class=\"data row11 col3\" >321</td>\n",
       "      <td id=\"T_96416_row11_col4\" class=\"data row11 col4\" >26.14</td>\n",
       "      <td id=\"T_96416_row11_col5\" class=\"data row11 col5\" >0.0000</td>\n",
       "      <td id=\"T_96416_row11_col6\" class=\"data row11 col6\" >0.0000</td>\n",
       "    </tr>\n",
       "    <tr>\n",
       "      <th id=\"T_96416_level0_row12\" class=\"row_heading level0 row12\" >38</th>\n",
       "      <td id=\"T_96416_row12_col0\" class=\"data row12 col0\" >score</td>\n",
       "      <td id=\"T_96416_row12_col1\" class=\"data row12 col1\" >873-891</td>\n",
       "      <td id=\"T_96416_row12_col2\" class=\"data row12 col2\" >1030</td>\n",
       "      <td id=\"T_96416_row12_col3\" class=\"data row12 col3\" >265</td>\n",
       "      <td id=\"T_96416_row12_col4\" class=\"data row12 col4\" >25.73</td>\n",
       "      <td id=\"T_96416_row12_col5\" class=\"data row12 col5\" >0.0000</td>\n",
       "      <td id=\"T_96416_row12_col6\" class=\"data row12 col6\" >0.0000</td>\n",
       "    </tr>\n",
       "    <tr>\n",
       "      <th id=\"T_96416_level0_row13\" class=\"row_heading level0 row13\" >20</th>\n",
       "      <td id=\"T_96416_row13_col0\" class=\"data row13 col0\" >credit_card</td>\n",
       "      <td id=\"T_96416_row13_col1\" class=\"data row13 col1\" >нет карты</td>\n",
       "      <td id=\"T_96416_row13_col2\" class=\"data row13 col2\" >3189</td>\n",
       "      <td id=\"T_96416_row13_col3\" class=\"data row13 col3\" >815</td>\n",
       "      <td id=\"T_96416_row13_col4\" class=\"data row13 col4\" >25.56</td>\n",
       "      <td id=\"T_96416_row13_col5\" class=\"data row13 col5\" >0.0000</td>\n",
       "      <td id=\"T_96416_row13_col6\" class=\"data row13 col6\" >0.0000</td>\n",
       "    </tr>\n",
       "    <tr>\n",
       "      <th id=\"T_96416_level0_row14\" class=\"row_heading level0 row14\" >9</th>\n",
       "      <td id=\"T_96416_row14_col0\" class=\"data row14 col0\" >equity</td>\n",
       "      <td id=\"T_96416_row14_col1\" class=\"data row14 col1\" >4</td>\n",
       "      <td id=\"T_96416_row14_col2\" class=\"data row14 col2\" >1847</td>\n",
       "      <td id=\"T_96416_row14_col3\" class=\"data row14 col3\" >464</td>\n",
       "      <td id=\"T_96416_row14_col4\" class=\"data row14 col4\" >25.12</td>\n",
       "      <td id=\"T_96416_row14_col5\" class=\"data row14 col5\" >0.0000</td>\n",
       "      <td id=\"T_96416_row14_col6\" class=\"data row14 col6\" >0.0000</td>\n",
       "    </tr>\n",
       "    <tr>\n",
       "      <th id=\"T_96416_level0_row15\" class=\"row_heading level0 row15\" >49</th>\n",
       "      <td id=\"T_96416_row15_col0\" class=\"data row15 col0\" >balance</td>\n",
       "      <td id=\"T_96416_row15_col1\" class=\"data row15 col1\" >853-1125</td>\n",
       "      <td id=\"T_96416_row15_col2\" class=\"data row15 col2\" >770</td>\n",
       "      <td id=\"T_96416_row15_col3\" class=\"data row15 col3\" >192</td>\n",
       "      <td id=\"T_96416_row15_col4\" class=\"data row15 col4\" >24.94</td>\n",
       "      <td id=\"T_96416_row15_col5\" class=\"data row15 col5\" >0.0000</td>\n",
       "      <td id=\"T_96416_row15_col6\" class=\"data row15 col6\" >0.0000</td>\n",
       "    </tr>\n",
       "    <tr>\n",
       "      <th id=\"T_96416_level0_row16\" class=\"row_heading level0 row16\" >4</th>\n",
       "      <td id=\"T_96416_row16_col0\" class=\"data row16 col0\" >gender</td>\n",
       "      <td id=\"T_96416_row16_col1\" class=\"data row16 col1\" >Мужчины</td>\n",
       "      <td id=\"T_96416_row16_col2\" class=\"data row16 col2\" >4991</td>\n",
       "      <td id=\"T_96416_row16_col3\" class=\"data row16 col3\" >1,183</td>\n",
       "      <td id=\"T_96416_row16_col4\" class=\"data row16 col4\" >23.70</td>\n",
       "      <td id=\"T_96416_row16_col5\" class=\"data row16 col5\" >0.0000</td>\n",
       "      <td id=\"T_96416_row16_col6\" class=\"data row16 col6\" >0.0000</td>\n",
       "    </tr>\n",
       "    <tr>\n",
       "      <th id=\"T_96416_level0_row17\" class=\"row_heading level0 row17\" >48</th>\n",
       "      <td id=\"T_96416_row17_col0\" class=\"data row17 col0\" >balance</td>\n",
       "      <td id=\"T_96416_row17_col1\" class=\"data row17 col1\" >660-853</td>\n",
       "      <td id=\"T_96416_row17_col2\" class=\"data row17 col2\" >769</td>\n",
       "      <td id=\"T_96416_row17_col3\" class=\"data row17 col3\" >181</td>\n",
       "      <td id=\"T_96416_row17_col4\" class=\"data row17 col4\" >23.54</td>\n",
       "      <td id=\"T_96416_row17_col5\" class=\"data row17 col5\" >0.0003</td>\n",
       "      <td id=\"T_96416_row17_col6\" class=\"data row17 col6\" >0.0003</td>\n",
       "    </tr>\n",
       "    <tr>\n",
       "      <th id=\"T_96416_level0_row18\" class=\"row_heading level0 row18\" >36</th>\n",
       "      <td id=\"T_96416_row18_col0\" class=\"data row18 col0\" >score</td>\n",
       "      <td id=\"T_96416_row18_col1\" class=\"data row18 col1\" >832-853</td>\n",
       "      <td id=\"T_96416_row18_col2\" class=\"data row18 col2\" >1085</td>\n",
       "      <td id=\"T_96416_row18_col3\" class=\"data row18 col3\" >251</td>\n",
       "      <td id=\"T_96416_row18_col4\" class=\"data row18 col4\" >23.13</td>\n",
       "      <td id=\"T_96416_row18_col5\" class=\"data row18 col5\" >0.0001</td>\n",
       "      <td id=\"T_96416_row18_col6\" class=\"data row18 col6\" >0.0001</td>\n",
       "    </tr>\n",
       "    <tr>\n",
       "      <th id=\"T_96416_level0_row19\" class=\"row_heading level0 row19\" >22</th>\n",
       "      <td id=\"T_96416_row19_col0\" class=\"data row19 col0\" >age</td>\n",
       "      <td id=\"T_96416_row19_col1\" class=\"data row19 col1\" >18-29</td>\n",
       "      <td id=\"T_96416_row19_col2\" class=\"data row19 col2\" >1148</td>\n",
       "      <td id=\"T_96416_row19_col3\" class=\"data row19 col3\" >264</td>\n",
       "      <td id=\"T_96416_row19_col4\" class=\"data row19 col4\" >23.00</td>\n",
       "      <td id=\"T_96416_row19_col5\" class=\"data row19 col5\" >0.0001</td>\n",
       "      <td id=\"T_96416_row19_col6\" class=\"data row19 col6\" >0.0001</td>\n",
       "    </tr>\n",
       "    <tr>\n",
       "      <th id=\"T_96416_level0_row20\" class=\"row_heading level0 row20\" >29</th>\n",
       "      <td id=\"T_96416_row20_col0\" class=\"data row20 col0\" >age</td>\n",
       "      <td id=\"T_96416_row20_col1\" class=\"data row20 col1\" >48-54</td>\n",
       "      <td id=\"T_96416_row20_col2\" class=\"data row20 col2\" >1191</td>\n",
       "      <td id=\"T_96416_row20_col3\" class=\"data row20 col3\" >271</td>\n",
       "      <td id=\"T_96416_row20_col4\" class=\"data row20 col4\" >22.75</td>\n",
       "      <td id=\"T_96416_row20_col5\" class=\"data row20 col5\" >0.0001</td>\n",
       "      <td id=\"T_96416_row20_col6\" class=\"data row20 col6\" >0.0002</td>\n",
       "    </tr>\n",
       "    <tr>\n",
       "      <th id=\"T_96416_level0_row21\" class=\"row_heading level0 row21\" >23</th>\n",
       "      <td id=\"T_96416_row21_col0\" class=\"data row21 col0\" >age</td>\n",
       "      <td id=\"T_96416_row21_col1\" class=\"data row21 col1\" >29-32</td>\n",
       "      <td id=\"T_96416_row21_col2\" class=\"data row21 col2\" >1215</td>\n",
       "      <td id=\"T_96416_row21_col3\" class=\"data row21 col3\" >257</td>\n",
       "      <td id=\"T_96416_row21_col4\" class=\"data row21 col4\" >21.15</td>\n",
       "      <td id=\"T_96416_row21_col5\" class=\"data row21 col5\" >0.0063</td>\n",
       "      <td id=\"T_96416_row21_col6\" class=\"data row21 col6\" >0.0133</td>\n",
       "    </tr>\n",
       "    <tr>\n",
       "      <th id=\"T_96416_level0_row22\" class=\"row_heading level0 row22\" >56</th>\n",
       "      <td id=\"T_96416_row22_col0\" class=\"data row22 col0\" >est_salary</td>\n",
       "      <td id=\"T_96416_row22_col1\" class=\"data row22 col1\" >101-119</td>\n",
       "      <td id=\"T_96416_row22_col2\" class=\"data row22 col2\" >998</td>\n",
       "      <td id=\"T_96416_row22_col3\" class=\"data row22 col3\" >208</td>\n",
       "      <td id=\"T_96416_row22_col4\" class=\"data row22 col4\" >20.84</td>\n",
       "      <td id=\"T_96416_row22_col5\" class=\"data row22 col5\" >0.0211</td>\n",
       "      <td id=\"T_96416_row22_col6\" class=\"data row22 col6\" >0.0426</td>\n",
       "    </tr>\n",
       "    <tr>\n",
       "      <th id=\"T_96416_level0_row23\" class=\"row_heading level0 row23\" >8</th>\n",
       "      <td id=\"T_96416_row23_col0\" class=\"data row23 col0\" >equity</td>\n",
       "      <td id=\"T_96416_row23_col1\" class=\"data row23 col1\" >3</td>\n",
       "      <td id=\"T_96416_row23_col2\" class=\"data row23 col2\" >1540</td>\n",
       "      <td id=\"T_96416_row23_col3\" class=\"data row23 col3\" >321</td>\n",
       "      <td id=\"T_96416_row23_col4\" class=\"data row23 col4\" >20.84</td>\n",
       "      <td id=\"T_96416_row23_col5\" class=\"data row23 col5\" >0.0058</td>\n",
       "      <td id=\"T_96416_row23_col6\" class=\"data row23 col6\" >0.0141</td>\n",
       "    </tr>\n",
       "    <tr>\n",
       "      <th id=\"T_96416_level0_row24\" class=\"row_heading level0 row24\" >59</th>\n",
       "      <td id=\"T_96416_row24_col0\" class=\"data row24 col0\" >est_salary</td>\n",
       "      <td id=\"T_96416_row24_col1\" class=\"data row24 col1\" >161-189</td>\n",
       "      <td id=\"T_96416_row24_col2\" class=\"data row24 col2\" >997</td>\n",
       "      <td id=\"T_96416_row24_col3\" class=\"data row24 col3\" >207</td>\n",
       "      <td id=\"T_96416_row24_col4\" class=\"data row24 col4\" >20.76</td>\n",
       "      <td id=\"T_96416_row24_col5\" class=\"data row24 col5\" >0.0243</td>\n",
       "      <td id=\"T_96416_row24_col6\" class=\"data row24 col6\" >0.0493</td>\n",
       "    </tr>\n",
       "    <tr>\n",
       "      <th id=\"T_96416_level0_row25\" class=\"row_heading level0 row25\" >39</th>\n",
       "      <td id=\"T_96416_row25_col0\" class=\"data row25 col0\" >score</td>\n",
       "      <td id=\"T_96416_row25_col1\" class=\"data row25 col1\" >891-908</td>\n",
       "      <td id=\"T_96416_row25_col2\" class=\"data row25 col2\" >1089</td>\n",
       "      <td id=\"T_96416_row25_col3\" class=\"data row25 col3\" >225</td>\n",
       "      <td id=\"T_96416_row25_col4\" class=\"data row25 col4\" >20.66</td>\n",
       "      <td id=\"T_96416_row25_col5\" class=\"data row25 col5\" >0.0238</td>\n",
       "      <td id=\"T_96416_row25_col6\" class=\"data row25 col6\" >0.0496</td>\n",
       "    </tr>\n",
       "    <tr>\n",
       "      <th id=\"T_96416_level0_row26\" class=\"row_heading level0 row26\" >57</th>\n",
       "      <td id=\"T_96416_row26_col0\" class=\"data row26 col0\" >est_salary</td>\n",
       "      <td id=\"T_96416_row26_col1\" class=\"data row26 col1\" >119-139</td>\n",
       "      <td id=\"T_96416_row26_col2\" class=\"data row26 col2\" >998</td>\n",
       "      <td id=\"T_96416_row26_col3\" class=\"data row26 col3\" >203</td>\n",
       "      <td id=\"T_96416_row26_col4\" class=\"data row26 col4\" >20.34</td>\n",
       "      <td id=\"T_96416_row26_col5\" class=\"data row26 col5\" >0.0488</td>\n",
       "      <td id=\"T_96416_row26_col6\" class=\"data row26 col6\" >0.1009</td>\n",
       "    </tr>\n",
       "    <tr>\n",
       "      <th id=\"T_96416_level0_row27\" class=\"row_heading level0 row27\" >24</th>\n",
       "      <td id=\"T_96416_row27_col0\" class=\"data row27 col0\" >age</td>\n",
       "      <td id=\"T_96416_row27_col1\" class=\"data row27 col1\" >32-35</td>\n",
       "      <td id=\"T_96416_row27_col2\" class=\"data row27 col2\" >1544</td>\n",
       "      <td id=\"T_96416_row27_col3\" class=\"data row27 col3\" >313</td>\n",
       "      <td id=\"T_96416_row27_col4\" class=\"data row27 col4\" >20.27</td>\n",
       "      <td id=\"T_96416_row27_col5\" class=\"data row27 col5\" >0.0230</td>\n",
       "      <td id=\"T_96416_row27_col6\" class=\"data row27 col6\" >0.0544</td>\n",
       "    </tr>\n",
       "    <tr>\n",
       "      <th id=\"T_96416_level0_row28\" class=\"row_heading level0 row28\" >60</th>\n",
       "      <td id=\"T_96416_row28_col0\" class=\"data row28 col0\" >est_salary</td>\n",
       "      <td id=\"T_96416_row28_col1\" class=\"data row28 col1\" >189-242</td>\n",
       "      <td id=\"T_96416_row28_col2\" class=\"data row28 col2\" >997</td>\n",
       "      <td id=\"T_96416_row28_col3\" class=\"data row28 col3\" >194</td>\n",
       "      <td id=\"T_96416_row28_col4\" class=\"data row28 col4\" >19.46</td>\n",
       "      <td id=\"T_96416_row28_col5\" class=\"data row28 col5\" >0.1636</td>\n",
       "      <td id=\"T_96416_row28_col6\" class=\"data row28 col6\" >0.3390</td>\n",
       "    </tr>\n",
       "    <tr>\n",
       "      <th id=\"T_96416_level0_row29\" class=\"row_heading level0 row29\" >58</th>\n",
       "      <td id=\"T_96416_row29_col0\" class=\"data row29 col0\" >est_salary</td>\n",
       "      <td id=\"T_96416_row29_col1\" class=\"data row29 col1\" >139-161</td>\n",
       "      <td id=\"T_96416_row29_col2\" class=\"data row29 col2\" >997</td>\n",
       "      <td id=\"T_96416_row29_col3\" class=\"data row29 col3\" >193</td>\n",
       "      <td id=\"T_96416_row29_col4\" class=\"data row29 col4\" >19.36</td>\n",
       "      <td id=\"T_96416_row29_col5\" class=\"data row29 col5\" >0.1837</td>\n",
       "      <td id=\"T_96416_row29_col6\" class=\"data row29 col6\" >0.3798</td>\n",
       "    </tr>\n",
       "    <tr>\n",
       "      <th id=\"T_96416_level0_row30\" class=\"row_heading level0 row30\" >16</th>\n",
       "      <td id=\"T_96416_row30_col0\" class=\"data row30 col0\" >products</td>\n",
       "      <td id=\"T_96416_row30_col1\" class=\"data row30 col1\" >2</td>\n",
       "      <td id=\"T_96416_row30_col2\" class=\"data row30 col2\" >5119</td>\n",
       "      <td id=\"T_96416_row30_col3\" class=\"data row30 col3\" >978</td>\n",
       "      <td id=\"T_96416_row30_col4\" class=\"data row30 col4\" >19.11</td>\n",
       "      <td id=\"T_96416_row30_col5\" class=\"data row30 col5\" >0.0556</td>\n",
       "      <td id=\"T_96416_row30_col6\" class=\"data row30 col6\" >0.1897</td>\n",
       "    </tr>\n",
       "    <tr>\n",
       "      <th id=\"T_96416_level0_row31\" class=\"row_heading level0 row31\" >46</th>\n",
       "      <td id=\"T_96416_row31_col0\" class=\"data row31 col0\" >balance</td>\n",
       "      <td id=\"T_96416_row31_col1\" class=\"data row31 col1\" >419-524</td>\n",
       "      <td id=\"T_96416_row31_col2\" class=\"data row31 col2\" >770</td>\n",
       "      <td id=\"T_96416_row31_col3\" class=\"data row31 col3\" >147</td>\n",
       "      <td id=\"T_96416_row31_col4\" class=\"data row31 col4\" >19.09</td>\n",
       "      <td id=\"T_96416_row31_col5\" class=\"data row31 col5\" >0.2716</td>\n",
       "      <td id=\"T_96416_row31_col6\" class=\"data row31 col6\" >0.5512</td>\n",
       "    </tr>\n",
       "    <tr>\n",
       "      <th id=\"T_96416_level0_row32\" class=\"row_heading level0 row32\" >2</th>\n",
       "      <td id=\"T_96416_row32_col0\" class=\"data row32 col0\" >city</td>\n",
       "      <td id=\"T_96416_row32_col1\" class=\"data row32 col1\" >Ярославль</td>\n",
       "      <td id=\"T_96416_row32_col2\" class=\"data row32 col2\" >5875</td>\n",
       "      <td id=\"T_96416_row32_col3\" class=\"data row32 col3\" >1,117</td>\n",
       "      <td id=\"T_96416_row32_col4\" class=\"data row32 col4\" >19.01</td>\n",
       "      <td id=\"T_96416_row32_col5\" class=\"data row32 col5\" >0.0631</td>\n",
       "      <td id=\"T_96416_row32_col6\" class=\"data row32 col6\" >0.2200</td>\n",
       "    </tr>\n",
       "    <tr>\n",
       "      <th id=\"T_96416_level0_row33\" class=\"row_heading level0 row33\" >47</th>\n",
       "      <td id=\"T_96416_row33_col0\" class=\"data row33 col0\" >balance</td>\n",
       "      <td id=\"T_96416_row33_col1\" class=\"data row33 col1\" >524-660</td>\n",
       "      <td id=\"T_96416_row33_col2\" class=\"data row33 col2\" >770</td>\n",
       "      <td id=\"T_96416_row33_col3\" class=\"data row33 col3\" >145</td>\n",
       "      <td id=\"T_96416_row33_col4\" class=\"data row33 col4\" >18.83</td>\n",
       "      <td id=\"T_96416_row33_col5\" class=\"data row33 col5\" >0.3348</td>\n",
       "      <td id=\"T_96416_row33_col6\" class=\"data row33 col6\" >0.6771</td>\n",
       "    </tr>\n",
       "    <tr>\n",
       "      <th id=\"T_96416_level0_row34\" class=\"row_heading level0 row34\" >35</th>\n",
       "      <td id=\"T_96416_row34_col0\" class=\"data row34 col0\" >score</td>\n",
       "      <td id=\"T_96416_row34_col1\" class=\"data row34 col1\" >812-832</td>\n",
       "      <td id=\"T_96416_row34_col2\" class=\"data row34 col2\" >1044</td>\n",
       "      <td id=\"T_96416_row34_col3\" class=\"data row34 col3\" >196</td>\n",
       "      <td id=\"T_96416_row34_col4\" class=\"data row34 col4\" >18.77</td>\n",
       "      <td id=\"T_96416_row34_col5\" class=\"data row34 col5\" >0.3263</td>\n",
       "      <td id=\"T_96416_row34_col6\" class=\"data row34 col6\" >0.6648</td>\n",
       "    </tr>\n",
       "    <tr>\n",
       "      <th id=\"T_96416_level0_row35\" class=\"row_heading level0 row35\" >0</th>\n",
       "      <td id=\"T_96416_row35_col0\" class=\"data row35 col0\" >city</td>\n",
       "      <td id=\"T_96416_row35_col1\" class=\"data row35 col1\" >Ростов</td>\n",
       "      <td id=\"T_96416_row35_col2\" class=\"data row35 col2\" >1416</td>\n",
       "      <td id=\"T_96416_row35_col3\" class=\"data row35 col3\" >265</td>\n",
       "      <td id=\"T_96416_row35_col4\" class=\"data row35 col4\" >18.71</td>\n",
       "      <td id=\"T_96416_row35_col5\" class=\"data row35 col5\" >0.3200</td>\n",
       "      <td id=\"T_96416_row35_col6\" class=\"data row35 col6\" >0.6583</td>\n",
       "    </tr>\n",
       "  </tbody>\n",
       "</table>\n"
      ],
      "text/plain": [
       "<pandas.io.formats.style.Styler at 0x20e661c63d0>"
      ]
     },
     "execution_count": 50,
     "metadata": {},
     "output_type": "execute_result"
    }
   ],
   "source": [
    "ottok_col_all.query('proc >= @ottok_base').sort_values(by='proc', ascending= False).head(50)\\\n",
    "    .style.apply(highlight_stat, subset='p-val')\\\n",
    "    .apply(highlight_stat, subset='z-krit')\\\n",
    "    .apply(highlight_proc, subset='proc')\\\n",
    "    .format({'all': '{:.0f}'.format, 'ottok': '{:,.0f}'.format, 'proc': '{:.2f}'.format,\\\n",
    "             'p-val': '{:.4f}'.format, 'z-krit': '{:.4f}'.format})"
   ]
  },
  {
   "cell_type": "markdown",
   "id": "2b39c06c",
   "metadata": {},
   "source": [
    "*если заморочиться - можно брать кретрии из этой таблицы. Тут надо будет научиться скаладывать кретирии одной колонки, выделять \"больше - меньше\", строковые, численные... Пока назначим критерии вручную, тем более наверняка будет необходимость использовать критерии, которые не показывают высоких значений оттока, но должны влиять на сегметацию. Например, город, пол*"
   ]
  },
  {
   "cell_type": "code",
   "execution_count": 51,
   "id": "b7330f2a",
   "metadata": {},
   "outputs": [],
   "source": [
    "#Для презентации график\n",
    "ottok_all_graf = ottok_col_all.copy()\n",
    "ottok_all_graf['col'] = ottok_all_graf['col'].apply(lambda x: col_rus[x][0])\n",
    "ottok_all_graf2 = ottok_all_graf.query('proc >= @ottok_base').groupby(['col', 'seg'])\\\n",
    "        .agg({'proc': 'min', 'z-krit': 'min'}).sort_values(by='proc')"
   ]
  },
  {
   "cell_type": "code",
   "execution_count": 52,
   "id": "d26bbc7a",
   "metadata": {},
   "outputs": [
    {
     "data": {
      "image/png": "[encoded data removed]",
      "text/plain": [
       "<Figure size 1500x1200 with 1 Axes>"
      ]
     },
     "metadata": {},
     "output_type": "display_data"
    }
   ],
   "source": [
    "ottok_all_graf2['proc'].plot.barh(figsize=(15,12), \\\n",
    "           color=(ottok_all_graf2['z-krit'] < 0.05).map({True: 'orange', False: 'tomato'}))\n",
    "plt.title('ТОП-сегментов, первышающих базовый уровень процента оттока клиентов')\n",
    "plt.ylabel('Сегменты')\n",
    "plt.xlabel('% оттока')\n",
    "plt.show()"
   ]
  },
  {
   "cell_type": "markdown",
   "id": "6ada54b4",
   "metadata": {},
   "source": [
    "### Сочетания сегментов отдельных параметров"
   ]
  },
  {
   "cell_type": "markdown",
   "id": "000e5041",
   "metadata": {},
   "source": [
    "Оценим, какие сочетания трех различных сегментов датут объединеный сегмент с наибольшими оттоками клиентов. Для этого возьмем сегменты, для которых отток клиентов значительно выше среднего по банку. Немного округлим границы сегментов.\n",
    "\n",
    "* мужчины\n",
    "* возраст 18-35 или 48-61\n",
    "* нет карты\n",
    "* кредитный рейтинг в интервле 800 - 900\n",
    "* оценочный доход в интервале 100 - 250 тр\n",
    "* баланс на счете болье 680 т.р.\n",
    "* количество продуктов больше 3\n",
    "* бал собственности выше 4"
   ]
  },
  {
   "cell_type": "code",
   "execution_count": 53,
   "id": "fac70493",
   "metadata": {},
   "outputs": [],
   "source": [
    "seg_1par = ['gender == \"М\"', \n",
    "#       'gender == \"Ж\"', \n",
    "#       '48 <= age <= 61', \n",
    "#       '18 <= age <= 35',\n",
    "       '(48 <= age <= 61 or 18 <= age <= 35)',\n",
    "       'credit_card == 0',\n",
    "       '800 < score < 900', \n",
    "       'balance > 680000',  \n",
    "#       '100000 <= est_salary <= 20000',\n",
    "       '100000 <= est_salary <= 250000',\n",
    "       'products >= 3',\n",
    "       'equity >= 4',   \n",
    "      ]"
   ]
  },
  {
   "cell_type": "code",
   "execution_count": 54,
   "id": "4848c183",
   "metadata": {},
   "outputs": [
    {
     "name": "stdout",
     "output_type": "stream",
     "text": [
      "проверка числа комбинаций! должны быть равны: 56 56\n"
     ]
    }
   ],
   "source": [
    "# -------------- Цикл обсчета оттока в укрупненных сегментах ------------\n",
    "# перебираем комбинации из трех признаков. \n",
    "# если в сегменте меньше 500 клиентов переходим к следующей комбинации\n",
    "# вычисляем отток для укрупненного сегмента\n",
    "# отбираем сочетания сегментов, в которых отток больше 45% \n",
    "#\n",
    "\n",
    "c_seg1par = len(seg_1par)\n",
    "l=0\n",
    "s=0\n",
    "seg_3par = pd.DataFrame([], columns=['query', 'all', 'ottok', 'proc'])\n",
    "for i in range(0, c_seg1par):\n",
    "    for k in range(i+1, c_seg1par):\n",
    "        for j in range(k+1, c_seg1par):\n",
    "            s +=1\n",
    "            qst = seg_1par[i]+' and '+seg_1par[k]+' and '+seg_1par[j]\n",
    "            a = data.query(qst)['userid'].count()\n",
    "            if a < 500: continue\n",
    "            if a > 0:\n",
    "                o = data.query('churn ==1 and '+qst)['userid'].count()\n",
    "                p = round(100 * o / a, 2)\n",
    "            if a > 500 and p > 45:    \n",
    "                seg_3par.loc[l] = [qst, a, o, p]\n",
    "                l +=1\n",
    "print('проверка числа комбинаций! должны быть равны:', s, math.comb(c_seg1par, 3))                "
   ]
  },
  {
   "cell_type": "code",
   "execution_count": 55,
   "id": "0c31acf2",
   "metadata": {},
   "outputs": [
    {
     "data": {
      "text/html": [
       "<div>\n",
       "<style scoped>\n",
       "    .dataframe tbody tr th:only-of-type {\n",
       "        vertical-align: middle;\n",
       "    }\n",
       "\n",
       "    .dataframe tbody tr th {\n",
       "        vertical-align: top;\n",
       "    }\n",
       "\n",
       "    .dataframe thead th {\n",
       "        text-align: right;\n",
       "    }\n",
       "</style>\n",
       "<table border=\"1\" class=\"dataframe\">\n",
       "  <thead>\n",
       "    <tr style=\"text-align: right;\">\n",
       "      <th></th>\n",
       "      <th>query</th>\n",
       "      <th>all</th>\n",
       "      <th>ottok</th>\n",
       "      <th>proc</th>\n",
       "    </tr>\n",
       "  </thead>\n",
       "  <tbody>\n",
       "    <tr>\n",
       "      <th>1</th>\n",
       "      <td>gender == \"М\" and credit_card == 0 and balance &gt; 680000</td>\n",
       "      <td>604</td>\n",
       "      <td>331</td>\n",
       "      <td>54.80</td>\n",
       "    </tr>\n",
       "    <tr>\n",
       "      <th>5</th>\n",
       "      <td>gender == \"М\" and products &gt;= 3 and equity &gt;= 4</td>\n",
       "      <td>519</td>\n",
       "      <td>280</td>\n",
       "      <td>53.95</td>\n",
       "    </tr>\n",
       "    <tr>\n",
       "      <th>11</th>\n",
       "      <td>balance &gt; 680000 and products &gt;= 3 and equity &gt;= 4</td>\n",
       "      <td>585</td>\n",
       "      <td>314</td>\n",
       "      <td>53.68</td>\n",
       "    </tr>\n",
       "    <tr>\n",
       "      <th>0</th>\n",
       "      <td>gender == \"М\" and (48 &lt;= age &lt;= 61 or 18 &lt;= age &lt;= 35) and balance &gt; 680000</td>\n",
       "      <td>829</td>\n",
       "      <td>430</td>\n",
       "      <td>51.87</td>\n",
       "    </tr>\n",
       "    <tr>\n",
       "      <th>8</th>\n",
       "      <td>(48 &lt;= age &lt;= 61 or 18 &lt;= age &lt;= 35) and products &gt;= 3 and equity &gt;= 4</td>\n",
       "      <td>512</td>\n",
       "      <td>265</td>\n",
       "      <td>51.76</td>\n",
       "    </tr>\n",
       "    <tr>\n",
       "      <th>6</th>\n",
       "      <td>(48 &lt;= age &lt;= 61 or 18 &lt;= age &lt;= 35) and credit_card == 0 and balance &gt; 680000</td>\n",
       "      <td>713</td>\n",
       "      <td>369</td>\n",
       "      <td>51.75</td>\n",
       "    </tr>\n",
       "    <tr>\n",
       "      <th>2</th>\n",
       "      <td>gender == \"М\" and credit_card == 0 and equity &gt;= 4</td>\n",
       "      <td>704</td>\n",
       "      <td>348</td>\n",
       "      <td>49.43</td>\n",
       "    </tr>\n",
       "    <tr>\n",
       "      <th>7</th>\n",
       "      <td>(48 &lt;= age &lt;= 61 or 18 &lt;= age &lt;= 35) and balance &gt; 680000 and 100000 &lt;= est_salary &lt;= 250000</td>\n",
       "      <td>871</td>\n",
       "      <td>423</td>\n",
       "      <td>48.56</td>\n",
       "    </tr>\n",
       "    <tr>\n",
       "      <th>9</th>\n",
       "      <td>credit_card == 0 and balance &gt; 680000 and 100000 &lt;= est_salary &lt;= 250000</td>\n",
       "      <td>765</td>\n",
       "      <td>358</td>\n",
       "      <td>46.80</td>\n",
       "    </tr>\n",
       "    <tr>\n",
       "      <th>3</th>\n",
       "      <td>gender == \"М\" and balance &gt; 680000 and 100000 &lt;= est_salary &lt;= 250000</td>\n",
       "      <td>913</td>\n",
       "      <td>427</td>\n",
       "      <td>46.77</td>\n",
       "    </tr>\n",
       "    <tr>\n",
       "      <th>4</th>\n",
       "      <td>gender == \"М\" and balance &gt; 680000 and equity &gt;= 4</td>\n",
       "      <td>1126</td>\n",
       "      <td>514</td>\n",
       "      <td>45.65</td>\n",
       "    </tr>\n",
       "    <tr>\n",
       "      <th>10</th>\n",
       "      <td>credit_card == 0 and balance &gt; 680000 and equity &gt;= 4</td>\n",
       "      <td>977</td>\n",
       "      <td>440</td>\n",
       "      <td>45.04</td>\n",
       "    </tr>\n",
       "  </tbody>\n",
       "</table>\n",
       "</div>"
      ],
      "text/plain": [
       "                                                                                           query  \\\n",
       "1                                        gender == \"М\" and credit_card == 0 and balance > 680000   \n",
       "5                                                gender == \"М\" and products >= 3 and equity >= 4   \n",
       "11                                            balance > 680000 and products >= 3 and equity >= 4   \n",
       "0                    gender == \"М\" and (48 <= age <= 61 or 18 <= age <= 35) and balance > 680000   \n",
       "8                         (48 <= age <= 61 or 18 <= age <= 35) and products >= 3 and equity >= 4   \n",
       "6                 (48 <= age <= 61 or 18 <= age <= 35) and credit_card == 0 and balance > 680000   \n",
       "2                                             gender == \"М\" and credit_card == 0 and equity >= 4   \n",
       "7   (48 <= age <= 61 or 18 <= age <= 35) and balance > 680000 and 100000 <= est_salary <= 250000   \n",
       "9                       credit_card == 0 and balance > 680000 and 100000 <= est_salary <= 250000   \n",
       "3                          gender == \"М\" and balance > 680000 and 100000 <= est_salary <= 250000   \n",
       "4                                             gender == \"М\" and balance > 680000 and equity >= 4   \n",
       "10                                         credit_card == 0 and balance > 680000 and equity >= 4   \n",
       "\n",
       "     all  ottok  proc  \n",
       "1    604    331 54.80  \n",
       "5    519    280 53.95  \n",
       "11   585    314 53.68  \n",
       "0    829    430 51.87  \n",
       "8    512    265 51.76  \n",
       "6    713    369 51.75  \n",
       "2    704    348 49.43  \n",
       "7    871    423 48.56  \n",
       "9    765    358 46.80  \n",
       "3    913    427 46.77  \n",
       "4   1126    514 45.65  \n",
       "10   977    440 45.04  "
      ]
     },
     "execution_count": 55,
     "metadata": {},
     "output_type": "execute_result"
    }
   ],
   "source": [
    "seg_3par.sort_values(by='proc', ascending=False)"
   ]
  },
  {
   "cell_type": "markdown",
   "id": "49c47996",
   "metadata": {},
   "source": [
    "Получили  укрупненные сегменты из трех параметров, с количеством клиентов более 500 и с наибольшей долей оттока. Можно, порекомендовать отделу маркетинга, прежде всего работать с этими сегментами.\n",
    "\n",
    "Сегменты с наибольшим уровнем оттока клиентов:\n",
    "\n",
    "- Мужчина, без кредиткой карты, с балансом счет более 680 тр\n",
    "- Мужчина, пользующийся тремя и более продуктами банка, с оценкой недвижимости от 4\n",
    "- Клиент с балансом счета более 680 тр, пользующийся тремя и более продуктами банка, с оценкой недвижимости от 4\n"
   ]
  },
  {
   "cell_type": "code",
   "execution_count": 56,
   "id": "a254875b",
   "metadata": {},
   "outputs": [
    {
     "data": {
      "text/html": [
       "<div>\n",
       "<style scoped>\n",
       "    .dataframe tbody tr th:only-of-type {\n",
       "        vertical-align: middle;\n",
       "    }\n",
       "\n",
       "    .dataframe tbody tr th {\n",
       "        vertical-align: top;\n",
       "    }\n",
       "\n",
       "    .dataframe thead th {\n",
       "        text-align: right;\n",
       "    }\n",
       "</style>\n",
       "<table border=\"1\" class=\"dataframe\">\n",
       "  <thead>\n",
       "    <tr style=\"text-align: right;\">\n",
       "      <th></th>\n",
       "      <th>Сегмент</th>\n",
       "      <th>Клиентов</th>\n",
       "      <th>Отток</th>\n",
       "      <th>Процент</th>\n",
       "    </tr>\n",
       "  </thead>\n",
       "  <tbody>\n",
       "    <tr>\n",
       "      <th>1</th>\n",
       "      <td>Мужчина и Кредитная карта  - нет и Баланс на счете &gt; 680000</td>\n",
       "      <td>604</td>\n",
       "      <td>331</td>\n",
       "      <td>54.80</td>\n",
       "    </tr>\n",
       "    <tr>\n",
       "      <th>5</th>\n",
       "      <td>Мужчина и Продуктов банка от 3 и Балл собственности от 4</td>\n",
       "      <td>519</td>\n",
       "      <td>280</td>\n",
       "      <td>53.95</td>\n",
       "    </tr>\n",
       "    <tr>\n",
       "      <th>11</th>\n",
       "      <td>Баланс на счете &gt; 680000 и Продуктов банка от 3 и Балл собственности от 4</td>\n",
       "      <td>585</td>\n",
       "      <td>314</td>\n",
       "      <td>53.68</td>\n",
       "    </tr>\n",
       "    <tr>\n",
       "      <th>0</th>\n",
       "      <td>Мужчина и (48 &lt;= Возраст &lt;= 61 или 18 &lt;= Возраст &lt;= 35) и Баланс на счете &gt; 680000</td>\n",
       "      <td>829</td>\n",
       "      <td>430</td>\n",
       "      <td>51.87</td>\n",
       "    </tr>\n",
       "    <tr>\n",
       "      <th>8</th>\n",
       "      <td>(48 &lt;= Возраст &lt;= 61 или 18 &lt;= Возраст &lt;= 35) и Продуктов банка от 3 и Балл собственности от 4</td>\n",
       "      <td>512</td>\n",
       "      <td>265</td>\n",
       "      <td>51.76</td>\n",
       "    </tr>\n",
       "    <tr>\n",
       "      <th>6</th>\n",
       "      <td>(48 &lt;= Возраст &lt;= 61 или 18 &lt;= Возраст &lt;= 35) и Кредитная карта  - нет и Баланс на счете &gt; 680000</td>\n",
       "      <td>713</td>\n",
       "      <td>369</td>\n",
       "      <td>51.75</td>\n",
       "    </tr>\n",
       "    <tr>\n",
       "      <th>2</th>\n",
       "      <td>Мужчина и Кредитная карта  - нет и Балл собственности от 4</td>\n",
       "      <td>704</td>\n",
       "      <td>348</td>\n",
       "      <td>49.43</td>\n",
       "    </tr>\n",
       "    <tr>\n",
       "      <th>7</th>\n",
       "      <td>(48 &lt;= Возраст &lt;= 61 или 18 &lt;= Возраст &lt;= 35) и Баланс на счете &gt; 680000 и 100000 &lt;= Оценочный доход &lt;= 250000</td>\n",
       "      <td>871</td>\n",
       "      <td>423</td>\n",
       "      <td>48.56</td>\n",
       "    </tr>\n",
       "    <tr>\n",
       "      <th>9</th>\n",
       "      <td>Кредитная карта  - нет и Баланс на счете &gt; 680000 и 100000 &lt;= Оценочный доход &lt;= 250000</td>\n",
       "      <td>765</td>\n",
       "      <td>358</td>\n",
       "      <td>46.80</td>\n",
       "    </tr>\n",
       "    <tr>\n",
       "      <th>3</th>\n",
       "      <td>Мужчина и Баланс на счете &gt; 680000 и 100000 &lt;= Оценочный доход &lt;= 250000</td>\n",
       "      <td>913</td>\n",
       "      <td>427</td>\n",
       "      <td>46.77</td>\n",
       "    </tr>\n",
       "    <tr>\n",
       "      <th>4</th>\n",
       "      <td>Мужчина и Баланс на счете &gt; 680000 и Балл собственности от 4</td>\n",
       "      <td>1126</td>\n",
       "      <td>514</td>\n",
       "      <td>45.65</td>\n",
       "    </tr>\n",
       "    <tr>\n",
       "      <th>10</th>\n",
       "      <td>Кредитная карта  - нет и Баланс на счете &gt; 680000 и Балл собственности от 4</td>\n",
       "      <td>977</td>\n",
       "      <td>440</td>\n",
       "      <td>45.04</td>\n",
       "    </tr>\n",
       "  </tbody>\n",
       "</table>\n",
       "</div>"
      ],
      "text/plain": [
       "                                                                                                           Сегмент  \\\n",
       "1                                                      Мужчина и Кредитная карта  - нет и Баланс на счете > 680000   \n",
       "5                                                         Мужчина и Продуктов банка от 3 и Балл собственности от 4   \n",
       "11                                       Баланс на счете > 680000 и Продуктов банка от 3 и Балл собственности от 4   \n",
       "0                               Мужчина и (48 <= Возраст <= 61 или 18 <= Возраст <= 35) и Баланс на счете > 680000   \n",
       "8                   (48 <= Возраст <= 61 или 18 <= Возраст <= 35) и Продуктов банка от 3 и Балл собственности от 4   \n",
       "6                (48 <= Возраст <= 61 или 18 <= Возраст <= 35) и Кредитная карта  - нет и Баланс на счете > 680000   \n",
       "2                                                       Мужчина и Кредитная карта  - нет и Балл собственности от 4   \n",
       "7   (48 <= Возраст <= 61 или 18 <= Возраст <= 35) и Баланс на счете > 680000 и 100000 <= Оценочный доход <= 250000   \n",
       "9                          Кредитная карта  - нет и Баланс на счете > 680000 и 100000 <= Оценочный доход <= 250000   \n",
       "3                                         Мужчина и Баланс на счете > 680000 и 100000 <= Оценочный доход <= 250000   \n",
       "4                                                     Мужчина и Баланс на счете > 680000 и Балл собственности от 4   \n",
       "10                                     Кредитная карта  - нет и Баланс на счете > 680000 и Балл собственности от 4   \n",
       "\n",
       "    Клиентов  Отток  Процент  \n",
       "1        604    331    54.80  \n",
       "5        519    280    53.95  \n",
       "11       585    314    53.68  \n",
       "0        829    430    51.87  \n",
       "8        512    265    51.76  \n",
       "6        713    369    51.75  \n",
       "2        704    348    49.43  \n",
       "7        871    423    48.56  \n",
       "9        765    358    46.80  \n",
       "3        913    427    46.77  \n",
       "4       1126    514    45.65  \n",
       "10       977    440    45.04  "
      ]
     },
     "execution_count": 56,
     "metadata": {},
     "output_type": "execute_result"
    }
   ],
   "source": [
    "#Для презентации русификация\n",
    "seg_3par_copy = seg_3par.copy()\n",
    "seg_3par_copy.columns = (['Сегмент', 'Клиентов', 'Отток', 'Процент'])\n",
    "seg_3par_copy.replace(\n",
    "         {'age': 'Возраст', \n",
    "           'city': 'Город', \n",
    "#           'gender': 'Пол', \n",
    "           'equity': 'Балл собственности', \n",
    "           'products': 'Продуктов банка',    \n",
    "           'credit_card': 'Кредитная карта',               \n",
    "           'score': 'Кредитный рейтинг', \n",
    "           'balance': 'Баланс на счете', \n",
    "           'est_salary': 'Оценочный доход',\n",
    "           'and': 'и',\n",
    "           'or': 'или',\n",
    "           '== 0': ' - нет',\n",
    "           '>=': 'от',\n",
    "           'gender == \"М\"': 'Мужчина',\n",
    "           'gender == \"Ж\"': 'Женщина'\n",
    "         }, regex=True).sort_values(by='Процент', ascending=False)"
   ]
  },
  {
   "cell_type": "markdown",
   "id": "bb894cb0",
   "metadata": {},
   "source": [
    "### Сочетания укрупненных сегментов"
   ]
  },
  {
   "cell_type": "markdown",
   "id": "7a938cff",
   "metadata": {},
   "source": [
    "Очевидно, укрупненные сегменты пересекаются, то есть один и тот же клиент может попадать в разные укрупненные сегменты. \n",
    "Определим сочетание трех укрупненных сементов оттока, которые дадут наибольших охват клиентов."
   ]
  },
  {
   "cell_type": "code",
   "execution_count": 57,
   "id": "930ff891",
   "metadata": {},
   "outputs": [
    {
     "name": "stdout",
     "output_type": "stream",
     "text": [
      "проверка числа комбинаций! должны быть равны: 220 220\n"
     ]
    }
   ],
   "source": [
    "# -------------- Цикл обсчета охвата в сочетании трех укрупненных сегментах ------------\n",
    "# Перебираем комбинации из трех укрупненных сегментов. \n",
    "# Чем больше сегментов - тем дольше будет выполняться перебор\n",
    "# Числом сегментов можно управлять через ограничение оттока в предыдушем цикле\n",
    "# Объединяем userid из сегментов и удаяем дубликаты по userid \n",
    "# Получаем полный охват клиентов от трех укрупненных сегментов\n",
    "\n",
    "c_seg3par = len(seg_3par)\n",
    "\n",
    "l=0\n",
    "s=0\n",
    "top_ohvat_seg = pd.DataFrame([],\\\n",
    "        columns=['query1', 'c_user1', 'query2', 'c_user2', 'query3', 'c_user3', 'c_user'])\n",
    "for i in range(0, c_seg3par):\n",
    "    for k in range(i+1, c_seg3par):\n",
    "        for j in range(k+1, c_seg3par):\n",
    "            s +=1\n",
    "            q1 = seg_3par.loc[i, 'query']\n",
    "            c1 = seg_3par.loc[i, 'all']\n",
    "            q2 = seg_3par.loc[k, 'query']\n",
    "            c2 = seg_3par.loc[k, 'all']\n",
    "            q3 = seg_3par.loc[j, 'query']\n",
    "            c3 = seg_3par.loc[j, 'all']\n",
    "            u = len(pd.concat([data.query(q1)['userid'], \\\n",
    "                               data.query(q2)['userid'], \\\n",
    "                               data.query(q3)['userid']]).drop_duplicates())\n",
    "            top_ohvat_seg.loc[l] = [q1, c1, q2, c2, q3, c3, u]\n",
    "            l +=1\n",
    "print('проверка числа комбинаций! должны быть равны:', s, math.comb(c_seg3par, 3))                    "
   ]
  },
  {
   "cell_type": "code",
   "execution_count": 58,
   "id": "fa0508e6",
   "metadata": {},
   "outputs": [
    {
     "data": {
      "text/html": [
       "<div>\n",
       "<style scoped>\n",
       "    .dataframe tbody tr th:only-of-type {\n",
       "        vertical-align: middle;\n",
       "    }\n",
       "\n",
       "    .dataframe tbody tr th {\n",
       "        vertical-align: top;\n",
       "    }\n",
       "\n",
       "    .dataframe thead th {\n",
       "        text-align: right;\n",
       "    }\n",
       "</style>\n",
       "<table border=\"1\" class=\"dataframe\">\n",
       "  <thead>\n",
       "    <tr style=\"text-align: right;\">\n",
       "      <th></th>\n",
       "      <th>query1</th>\n",
       "      <th>c_user1</th>\n",
       "      <th>query2</th>\n",
       "      <th>c_user2</th>\n",
       "      <th>query3</th>\n",
       "      <th>c_user3</th>\n",
       "      <th>c_user</th>\n",
       "    </tr>\n",
       "  </thead>\n",
       "  <tbody>\n",
       "    <tr>\n",
       "      <th>177</th>\n",
       "      <td>gender == \"М\" and balance &gt; 680000 and equity &gt;= 4</td>\n",
       "      <td>1126</td>\n",
       "      <td>(48 &lt;= age &lt;= 61 or 18 &lt;= age &lt;= 35) and balance &gt; 680000 and 100000 &lt;= est_salary &lt;= 250000</td>\n",
       "      <td>871</td>\n",
       "      <td>credit_card == 0 and balance &gt; 680000 and equity &gt;= 4</td>\n",
       "      <td>977</td>\n",
       "      <td>1982</td>\n",
       "    </tr>\n",
       "    <tr>\n",
       "      <th>175</th>\n",
       "      <td>gender == \"М\" and balance &gt; 680000 and equity &gt;= 4</td>\n",
       "      <td>1126</td>\n",
       "      <td>(48 &lt;= age &lt;= 61 or 18 &lt;= age &lt;= 35) and balance &gt; 680000 and 100000 &lt;= est_salary &lt;= 250000</td>\n",
       "      <td>871</td>\n",
       "      <td>(48 &lt;= age &lt;= 61 or 18 &lt;= age &lt;= 35) and products &gt;= 3 and equity &gt;= 4</td>\n",
       "      <td>512</td>\n",
       "      <td>1918</td>\n",
       "    </tr>\n",
       "    <tr>\n",
       "      <th>159</th>\n",
       "      <td>gender == \"М\" and balance &gt; 680000 and 100000 &lt;= est_salary &lt;= 250000</td>\n",
       "      <td>913</td>\n",
       "      <td>(48 &lt;= age &lt;= 61 or 18 &lt;= age &lt;= 35) and products &gt;= 3 and equity &gt;= 4</td>\n",
       "      <td>512</td>\n",
       "      <td>credit_card == 0 and balance &gt; 680000 and equity &gt;= 4</td>\n",
       "      <td>977</td>\n",
       "      <td>1909</td>\n",
       "    </tr>\n",
       "    <tr>\n",
       "      <th>179</th>\n",
       "      <td>gender == \"М\" and balance &gt; 680000 and equity &gt;= 4</td>\n",
       "      <td>1126</td>\n",
       "      <td>(48 &lt;= age &lt;= 61 or 18 &lt;= age &lt;= 35) and products &gt;= 3 and equity &gt;= 4</td>\n",
       "      <td>512</td>\n",
       "      <td>credit_card == 0 and balance &gt; 680000 and 100000 &lt;= est_salary &lt;= 250000</td>\n",
       "      <td>765</td>\n",
       "      <td>1898</td>\n",
       "    </tr>\n",
       "    <tr>\n",
       "      <th>147</th>\n",
       "      <td>gender == \"М\" and balance &gt; 680000 and 100000 &lt;= est_salary &lt;= 250000</td>\n",
       "      <td>913</td>\n",
       "      <td>gender == \"М\" and products &gt;= 3 and equity &gt;= 4</td>\n",
       "      <td>519</td>\n",
       "      <td>credit_card == 0 and balance &gt; 680000 and equity &gt;= 4</td>\n",
       "      <td>977</td>\n",
       "      <td>1888</td>\n",
       "    </tr>\n",
       "  </tbody>\n",
       "</table>\n",
       "</div>"
      ],
      "text/plain": [
       "                                                                    query1  \\\n",
       "177                     gender == \"М\" and balance > 680000 and equity >= 4   \n",
       "175                     gender == \"М\" and balance > 680000 and equity >= 4   \n",
       "159  gender == \"М\" and balance > 680000 and 100000 <= est_salary <= 250000   \n",
       "179                     gender == \"М\" and balance > 680000 and equity >= 4   \n",
       "147  gender == \"М\" and balance > 680000 and 100000 <= est_salary <= 250000   \n",
       "\n",
       "     c_user1  \\\n",
       "177     1126   \n",
       "175     1126   \n",
       "159      913   \n",
       "179     1126   \n",
       "147      913   \n",
       "\n",
       "                                                                                           query2  \\\n",
       "177  (48 <= age <= 61 or 18 <= age <= 35) and balance > 680000 and 100000 <= est_salary <= 250000   \n",
       "175  (48 <= age <= 61 or 18 <= age <= 35) and balance > 680000 and 100000 <= est_salary <= 250000   \n",
       "159                        (48 <= age <= 61 or 18 <= age <= 35) and products >= 3 and equity >= 4   \n",
       "179                        (48 <= age <= 61 or 18 <= age <= 35) and products >= 3 and equity >= 4   \n",
       "147                                               gender == \"М\" and products >= 3 and equity >= 4   \n",
       "\n",
       "     c_user2  \\\n",
       "177      871   \n",
       "175      871   \n",
       "159      512   \n",
       "179      512   \n",
       "147      519   \n",
       "\n",
       "                                                                       query3  \\\n",
       "177                     credit_card == 0 and balance > 680000 and equity >= 4   \n",
       "175    (48 <= age <= 61 or 18 <= age <= 35) and products >= 3 and equity >= 4   \n",
       "159                     credit_card == 0 and balance > 680000 and equity >= 4   \n",
       "179  credit_card == 0 and balance > 680000 and 100000 <= est_salary <= 250000   \n",
       "147                     credit_card == 0 and balance > 680000 and equity >= 4   \n",
       "\n",
       "     c_user3  c_user  \n",
       "177      977    1982  \n",
       "175      512    1918  \n",
       "159      977    1909  \n",
       "179      765    1898  \n",
       "147      977    1888  "
      ]
     },
     "execution_count": 58,
     "metadata": {},
     "output_type": "execute_result"
    }
   ],
   "source": [
    "top_ohvat_seg.sort_values(by='c_user', ascending=False).head(5)"
   ]
  },
  {
   "cell_type": "markdown",
   "id": "3be11934",
   "metadata": {},
   "source": [
    "Обработав только эти три укрупненных сегмента, можно охватить почти 20% клиентов:"
   ]
  },
  {
   "cell_type": "markdown",
   "id": "ceccc19d",
   "metadata": {},
   "source": [
    "- Мужчина, с балансом счет более 680 тр, с оценкой недвижимости от 4\n",
    "- Клиенты в возрасте 18-35 или 48-61, с балансом счет более 680 тр и оценкой дохода от 100 до 250 тр\n",
    "- Клиент без кредитки, с балансом счет более 680 тр, с оценкой недвижимости от 4"
   ]
  },
  {
   "cell_type": "markdown",
   "id": "8d7d0fca",
   "metadata": {},
   "source": [
    "## Итоговые рекомендации заказчику"
   ]
  },
  {
   "cell_type": "markdown",
   "id": "3619d3b0",
   "metadata": {},
   "source": [
    "По итогам исседования определены сегменты клиентов, с которыми следует работать для уменьшения оттока клиентов из банка: \n",
    "\n",
    "**Сегменты, в которых наивысший уровень оттока:**\n",
    "\n",
    "- Мужчина, без кредиткой карты, с балансом счет более 680 тр\n",
    "- Мужчина, пользующийся тремя и более продуктами банка, с оценкой недвижимости от 4\n",
    "- Клиент с балансом счета более 680 тр, пользующийся тремя и более продуктами банка, с оценкой недвижимости от 4\n",
    "\n",
    "**Сегменты, которые в сочетании дадут наибольший охват клиентов:**\n",
    "\n",
    "- Мужчина, с балансом счет более 680 тр, с оценкой недвижимости от 4\n",
    "- Клиенты в возрасте 18-35 или 48-61, с балансом счет более 680 тр и оценкой дохода от 100 до 250 тр\n",
    "- Клиент без кредитки, с балансом счет более 680 тр, с оценкой недвижимости от 4\n",
    "\n",
    "**Предложения по мероприятиям для клиентов из этих сегментов:**\n",
    "\n",
    "- Предложения по кредитным картам - акции (повышенный кеш-бэк / бонус / розыгрыш) для \"мужских\" трат (бензин, рыбалка, охота)\n",
    "- Предложения для клиентов с большими суммами на счетах в банке - повышенный процент, премиум программы, кредитка бонусом\n",
    "- Предложения для владельцев недвижимости - акции (повышенный кеш-бэк / бонус / розыгрыш) по оплате комунальных услуг, имущественных налогов, страхование\n",
    "- Провести соц.исследование по банковским продуктам - большой отток клиентов, которые уже попробовали несколько продуктов. видимо, они им не понравились.\n"
   ]
  },
  {
   "cell_type": "markdown",
   "id": "aa4321a7",
   "metadata": {},
   "source": [
    "Презентация результатов исследования\n",
    "\n",
    "https://disk.yandex.ru/i/OU_a_Uvdhxn8tw"
   ]
  }
 ],
 "metadata": {
  "ExecuteTimeLog": [
   {
    "duration": 1361,
    "start_time": "2024-09-09T10:23:30.495Z"
   },
   {
    "duration": 203,
    "start_time": "2024-09-09T10:23:31.859Z"
   },
   {
    "duration": 4,
    "start_time": "2024-09-09T10:23:32.063Z"
   },
   {
    "duration": 58,
    "start_time": "2024-09-09T10:23:32.069Z"
   },
   {
    "duration": 13,
    "start_time": "2024-09-09T10:23:32.129Z"
   },
   {
    "duration": 15,
    "start_time": "2024-09-09T10:23:32.143Z"
   },
   {
    "duration": 9,
    "start_time": "2024-09-09T10:23:32.159Z"
   },
   {
    "duration": 54,
    "start_time": "2024-09-09T10:23:32.170Z"
   },
   {
    "duration": 8,
    "start_time": "2024-09-09T10:23:32.226Z"
   },
   {
    "duration": 13,
    "start_time": "2024-09-09T10:23:32.237Z"
   },
   {
    "duration": 6,
    "start_time": "2024-09-09T10:23:32.252Z"
   },
   {
    "duration": 87,
    "start_time": "2024-09-09T10:23:32.260Z"
   },
   {
    "duration": 14,
    "start_time": "2024-09-09T10:23:32.349Z"
   },
   {
    "duration": 14,
    "start_time": "2024-09-09T10:23:32.364Z"
   },
   {
    "duration": 11,
    "start_time": "2024-09-09T10:23:32.380Z"
   },
   {
    "duration": 5,
    "start_time": "2024-09-09T10:23:32.393Z"
   },
   {
    "duration": 52,
    "start_time": "2024-09-09T10:23:32.400Z"
   },
   {
    "duration": 7,
    "start_time": "2024-09-09T10:23:32.454Z"
   },
   {
    "duration": 13,
    "start_time": "2024-09-09T10:23:32.462Z"
   },
   {
    "duration": 17,
    "start_time": "2024-09-09T10:23:32.476Z"
   },
   {
    "duration": 21,
    "start_time": "2024-09-09T10:23:32.495Z"
   },
   {
    "duration": 29,
    "start_time": "2024-09-09T10:23:32.518Z"
   },
   {
    "duration": 5,
    "start_time": "2024-09-09T10:23:32.548Z"
   },
   {
    "duration": 6,
    "start_time": "2024-09-09T10:23:32.555Z"
   },
   {
    "duration": 15,
    "start_time": "2024-09-09T10:23:32.563Z"
   },
   {
    "duration": 152,
    "start_time": "2024-09-09T10:23:32.580Z"
   },
   {
    "duration": 0,
    "start_time": "2024-09-09T10:23:32.734Z"
   },
   {
    "duration": 0,
    "start_time": "2024-09-09T10:23:32.735Z"
   },
   {
    "duration": 0,
    "start_time": "2024-09-09T10:23:32.736Z"
   },
   {
    "duration": 0,
    "start_time": "2024-09-09T10:23:32.737Z"
   },
   {
    "duration": 0,
    "start_time": "2024-09-09T10:23:32.739Z"
   },
   {
    "duration": 0,
    "start_time": "2024-09-09T10:23:32.740Z"
   },
   {
    "duration": 0,
    "start_time": "2024-09-09T10:23:32.745Z"
   },
   {
    "duration": 0,
    "start_time": "2024-09-09T10:23:32.747Z"
   },
   {
    "duration": 0,
    "start_time": "2024-09-09T10:23:32.748Z"
   },
   {
    "duration": 0,
    "start_time": "2024-09-09T10:23:32.749Z"
   },
   {
    "duration": 0,
    "start_time": "2024-09-09T10:23:32.750Z"
   },
   {
    "duration": 0,
    "start_time": "2024-09-09T10:23:32.752Z"
   },
   {
    "duration": 0,
    "start_time": "2024-09-09T10:23:32.753Z"
   },
   {
    "duration": 0,
    "start_time": "2024-09-09T10:23:32.754Z"
   },
   {
    "duration": 0,
    "start_time": "2024-09-09T10:23:32.755Z"
   },
   {
    "duration": 1480,
    "start_time": "2024-09-09T10:23:58.026Z"
   },
   {
    "duration": 5,
    "start_time": "2024-09-09T10:24:09.865Z"
   },
   {
    "duration": 63,
    "start_time": "2024-09-09T10:24:14.606Z"
   },
   {
    "duration": 1639,
    "start_time": "2024-09-09T10:24:20.871Z"
   },
   {
    "duration": 26,
    "start_time": "2024-09-09T10:24:28.571Z"
   },
   {
    "duration": 4,
    "start_time": "2024-09-09T10:24:29.472Z"
   },
   {
    "duration": 33,
    "start_time": "2024-09-09T10:24:32.351Z"
   },
   {
    "duration": 3,
    "start_time": "2024-09-09T10:24:44.032Z"
   },
   {
    "duration": 3,
    "start_time": "2024-09-09T10:24:44.986Z"
   },
   {
    "duration": 41,
    "start_time": "2024-09-09T10:24:45.720Z"
   },
   {
    "duration": 27,
    "start_time": "2024-09-09T10:24:46.806Z"
   },
   {
    "duration": 25,
    "start_time": "2024-09-09T10:25:18.894Z"
   },
   {
    "duration": 26,
    "start_time": "2024-09-09T10:25:28.984Z"
   },
   {
    "duration": 28,
    "start_time": "2024-09-09T10:25:41.720Z"
   },
   {
    "duration": 13,
    "start_time": "2024-09-09T10:25:51.985Z"
   },
   {
    "duration": 68,
    "start_time": "2024-09-09T10:26:08.489Z"
   },
   {
    "duration": 13,
    "start_time": "2024-09-09T10:26:16.941Z"
   },
   {
    "duration": 3,
    "start_time": "2024-09-09T10:26:21.141Z"
   },
   {
    "duration": 334,
    "start_time": "2024-09-09T10:26:22.322Z"
   },
   {
    "duration": 13,
    "start_time": "2024-09-09T10:26:24.544Z"
   },
   {
    "duration": 2783,
    "start_time": "2024-09-09T10:26:28.768Z"
   },
   {
    "duration": 12,
    "start_time": "2024-09-09T10:26:33.005Z"
   },
   {
    "duration": 1171,
    "start_time": "2024-09-09T10:26:42.967Z"
   },
   {
    "duration": 86,
    "start_time": "2024-09-09T10:26:44.140Z"
   },
   {
    "duration": 4,
    "start_time": "2024-09-09T10:26:44.227Z"
   },
   {
    "duration": 95,
    "start_time": "2024-09-09T10:26:44.233Z"
   },
   {
    "duration": 15,
    "start_time": "2024-09-09T10:26:44.330Z"
   },
   {
    "duration": 17,
    "start_time": "2024-09-09T10:26:44.346Z"
   },
   {
    "duration": 8,
    "start_time": "2024-09-09T10:26:44.365Z"
   },
   {
    "duration": 37,
    "start_time": "2024-09-09T10:26:44.375Z"
   },
   {
    "duration": 32,
    "start_time": "2024-09-09T10:26:44.414Z"
   },
   {
    "duration": 19,
    "start_time": "2024-09-09T10:26:44.450Z"
   },
   {
    "duration": 35,
    "start_time": "2024-09-09T10:26:44.470Z"
   },
   {
    "duration": 107,
    "start_time": "2024-09-09T10:26:44.507Z"
   },
   {
    "duration": 13,
    "start_time": "2024-09-09T10:26:44.615Z"
   },
   {
    "duration": 46,
    "start_time": "2024-09-09T10:26:44.630Z"
   },
   {
    "duration": 109,
    "start_time": "2024-09-09T10:26:44.678Z"
   },
   {
    "duration": 38,
    "start_time": "2024-09-09T10:26:44.789Z"
   },
   {
    "duration": 50,
    "start_time": "2024-09-09T10:26:44.828Z"
   },
   {
    "duration": 10,
    "start_time": "2024-09-09T10:26:44.879Z"
   },
   {
    "duration": 35,
    "start_time": "2024-09-09T10:26:44.891Z"
   },
   {
    "duration": 40,
    "start_time": "2024-09-09T10:26:44.928Z"
   },
   {
    "duration": 26,
    "start_time": "2024-09-09T10:26:44.969Z"
   },
   {
    "duration": 27,
    "start_time": "2024-09-09T10:26:44.997Z"
   },
   {
    "duration": 37,
    "start_time": "2024-09-09T10:26:45.026Z"
   },
   {
    "duration": 85,
    "start_time": "2024-09-09T10:26:45.065Z"
   },
   {
    "duration": 50,
    "start_time": "2024-09-09T10:26:45.152Z"
   },
   {
    "duration": 1605,
    "start_time": "2024-09-09T10:26:45.205Z"
   },
   {
    "duration": 7,
    "start_time": "2024-09-09T10:26:46.812Z"
   },
   {
    "duration": 1653,
    "start_time": "2024-09-09T10:26:46.822Z"
   },
   {
    "duration": 20,
    "start_time": "2024-09-09T10:26:48.477Z"
   },
   {
    "duration": 14,
    "start_time": "2024-09-09T10:26:48.498Z"
   },
   {
    "duration": 59,
    "start_time": "2024-09-09T10:26:48.514Z"
   },
   {
    "duration": 4,
    "start_time": "2024-09-09T10:26:48.575Z"
   },
   {
    "duration": 12,
    "start_time": "2024-09-09T10:26:48.581Z"
   },
   {
    "duration": 99,
    "start_time": "2024-09-09T10:26:48.594Z"
   },
   {
    "duration": 29,
    "start_time": "2024-09-09T10:26:48.695Z"
   },
   {
    "duration": 32,
    "start_time": "2024-09-09T10:26:48.726Z"
   },
   {
    "duration": 13,
    "start_time": "2024-09-09T10:26:48.760Z"
   },
   {
    "duration": 356,
    "start_time": "2024-09-09T10:26:48.775Z"
   },
   {
    "duration": 22,
    "start_time": "2024-09-09T10:26:49.133Z"
   },
   {
    "duration": 2865,
    "start_time": "2024-09-09T10:26:49.157Z"
   },
   {
    "duration": 22,
    "start_time": "2024-09-09T10:26:52.025Z"
   },
   {
    "duration": 37,
    "start_time": "2024-09-09T10:29:18.077Z"
   },
   {
    "duration": 38,
    "start_time": "2024-09-09T10:29:22.197Z"
   },
   {
    "duration": 486,
    "start_time": "2024-09-09T10:34:55.579Z"
   },
   {
    "duration": 1534,
    "start_time": "2024-09-09T10:35:12.779Z"
   },
   {
    "duration": 1218,
    "start_time": "2024-09-09T10:36:12.219Z"
   },
   {
    "duration": 79,
    "start_time": "2024-09-09T10:36:13.439Z"
   },
   {
    "duration": 4,
    "start_time": "2024-09-09T10:36:13.520Z"
   },
   {
    "duration": 67,
    "start_time": "2024-09-09T10:36:13.526Z"
   },
   {
    "duration": 18,
    "start_time": "2024-09-09T10:36:13.594Z"
   },
   {
    "duration": 38,
    "start_time": "2024-09-09T10:36:13.613Z"
   },
   {
    "duration": 22,
    "start_time": "2024-09-09T10:36:13.653Z"
   },
   {
    "duration": 41,
    "start_time": "2024-09-09T10:36:13.677Z"
   },
   {
    "duration": 35,
    "start_time": "2024-09-09T10:36:13.720Z"
   },
   {
    "duration": 46,
    "start_time": "2024-09-09T10:36:13.758Z"
   },
   {
    "duration": 6,
    "start_time": "2024-09-09T10:36:13.806Z"
   },
   {
    "duration": 88,
    "start_time": "2024-09-09T10:36:13.813Z"
   },
   {
    "duration": 13,
    "start_time": "2024-09-09T10:36:13.902Z"
   },
   {
    "duration": 16,
    "start_time": "2024-09-09T10:36:13.916Z"
   },
   {
    "duration": 16,
    "start_time": "2024-09-09T10:36:13.934Z"
   },
   {
    "duration": 15,
    "start_time": "2024-09-09T10:36:13.952Z"
   },
   {
    "duration": 41,
    "start_time": "2024-09-09T10:36:13.969Z"
   },
   {
    "duration": 11,
    "start_time": "2024-09-09T10:36:14.011Z"
   },
   {
    "duration": 21,
    "start_time": "2024-09-09T10:36:14.024Z"
   },
   {
    "duration": 5,
    "start_time": "2024-09-09T10:36:14.046Z"
   },
   {
    "duration": 24,
    "start_time": "2024-09-09T10:36:14.053Z"
   },
   {
    "duration": 9,
    "start_time": "2024-09-09T10:36:14.078Z"
   },
   {
    "duration": 17,
    "start_time": "2024-09-09T10:36:14.088Z"
   },
   {
    "duration": 5,
    "start_time": "2024-09-09T10:36:14.106Z"
   },
   {
    "duration": 28,
    "start_time": "2024-09-09T10:36:14.112Z"
   },
   {
    "duration": 1460,
    "start_time": "2024-09-09T10:36:14.142Z"
   },
   {
    "duration": 7,
    "start_time": "2024-09-09T10:36:15.603Z"
   },
   {
    "duration": 1649,
    "start_time": "2024-09-09T10:36:15.614Z"
   },
   {
    "duration": 17,
    "start_time": "2024-09-09T10:36:17.265Z"
   },
   {
    "duration": 99,
    "start_time": "2024-09-09T10:36:17.283Z"
   },
   {
    "duration": 38,
    "start_time": "2024-09-09T10:36:17.384Z"
   },
   {
    "duration": 3,
    "start_time": "2024-09-09T10:36:17.424Z"
   },
   {
    "duration": 14,
    "start_time": "2024-09-09T10:36:17.428Z"
   },
   {
    "duration": 59,
    "start_time": "2024-09-09T10:36:17.444Z"
   },
   {
    "duration": 32,
    "start_time": "2024-09-09T10:36:17.504Z"
   },
   {
    "duration": 13,
    "start_time": "2024-09-09T10:36:17.538Z"
   },
   {
    "duration": 6,
    "start_time": "2024-09-09T10:36:17.553Z"
   },
   {
    "duration": 356,
    "start_time": "2024-09-09T10:36:17.561Z"
   },
   {
    "duration": 10,
    "start_time": "2024-09-09T10:36:17.919Z"
   },
   {
    "duration": 2916,
    "start_time": "2024-09-09T10:36:17.930Z"
   },
   {
    "duration": 12,
    "start_time": "2024-09-09T10:36:20.847Z"
   },
   {
    "duration": 12,
    "start_time": "2024-09-09T18:05:54.743Z"
   },
   {
    "duration": 65,
    "start_time": "2024-09-09T18:05:54.756Z"
   },
   {
    "duration": 3,
    "start_time": "2024-09-09T18:05:54.822Z"
   },
   {
    "duration": 28,
    "start_time": "2024-09-09T18:05:54.826Z"
   },
   {
    "duration": 11,
    "start_time": "2024-09-09T18:05:54.855Z"
   },
   {
    "duration": 12,
    "start_time": "2024-09-09T18:05:54.867Z"
   },
   {
    "duration": 3,
    "start_time": "2024-09-09T18:05:54.881Z"
   },
   {
    "duration": 25,
    "start_time": "2024-09-09T18:05:54.885Z"
   },
   {
    "duration": 6,
    "start_time": "2024-09-09T18:05:54.911Z"
   },
   {
    "duration": 20,
    "start_time": "2024-09-09T18:05:54.918Z"
   },
   {
    "duration": 3,
    "start_time": "2024-09-09T18:05:54.939Z"
   },
   {
    "duration": 38,
    "start_time": "2024-09-09T18:05:54.943Z"
   },
   {
    "duration": 29,
    "start_time": "2024-09-09T18:05:54.982Z"
   },
   {
    "duration": 11,
    "start_time": "2024-09-09T18:05:55.012Z"
   },
   {
    "duration": 15,
    "start_time": "2024-09-09T18:05:55.025Z"
   },
   {
    "duration": 4,
    "start_time": "2024-09-09T18:05:55.041Z"
   },
   {
    "duration": 35,
    "start_time": "2024-09-09T18:05:55.046Z"
   },
   {
    "duration": 5,
    "start_time": "2024-09-09T18:05:55.082Z"
   },
   {
    "duration": 20,
    "start_time": "2024-09-09T18:05:55.088Z"
   },
   {
    "duration": 5,
    "start_time": "2024-09-09T18:05:55.109Z"
   },
   {
    "duration": 11,
    "start_time": "2024-09-09T18:05:55.116Z"
   },
   {
    "duration": 18,
    "start_time": "2024-09-09T18:05:55.129Z"
   },
   {
    "duration": 4,
    "start_time": "2024-09-09T18:05:55.148Z"
   },
   {
    "duration": 5,
    "start_time": "2024-09-09T18:05:55.153Z"
   },
   {
    "duration": 4,
    "start_time": "2024-09-09T18:05:55.160Z"
   },
   {
    "duration": 1380,
    "start_time": "2024-09-09T18:05:55.165Z"
   },
   {
    "duration": 5,
    "start_time": "2024-09-09T18:05:56.547Z"
   },
   {
    "duration": 1461,
    "start_time": "2024-09-09T18:05:56.553Z"
   },
   {
    "duration": 16,
    "start_time": "2024-09-09T18:05:58.015Z"
   },
   {
    "duration": 14,
    "start_time": "2024-09-09T18:05:58.033Z"
   },
   {
    "duration": 116,
    "start_time": "2024-09-09T18:05:58.049Z"
   },
   {
    "duration": 2,
    "start_time": "2024-09-09T18:05:58.167Z"
   },
   {
    "duration": 4,
    "start_time": "2024-09-09T18:05:58.171Z"
   },
   {
    "duration": 58,
    "start_time": "2024-09-09T18:05:58.176Z"
   },
   {
    "duration": 25,
    "start_time": "2024-09-09T18:05:58.235Z"
   },
   {
    "duration": 50,
    "start_time": "2024-09-09T18:05:58.261Z"
   },
   {
    "duration": 7,
    "start_time": "2024-09-09T18:05:58.313Z"
   },
   {
    "duration": 322,
    "start_time": "2024-09-09T18:05:58.321Z"
   },
   {
    "duration": 8,
    "start_time": "2024-09-09T18:05:58.645Z"
   },
   {
    "duration": 2616,
    "start_time": "2024-09-09T18:05:58.655Z"
   },
   {
    "duration": 11,
    "start_time": "2024-09-09T18:06:01.276Z"
   },
   {
    "duration": 1287,
    "start_time": "2024-09-10T03:45:50.219Z"
   },
   {
    "duration": 196,
    "start_time": "2024-09-10T03:45:51.508Z"
   },
   {
    "duration": 3,
    "start_time": "2024-09-10T03:45:51.706Z"
   },
   {
    "duration": 38,
    "start_time": "2024-09-10T03:45:51.711Z"
   },
   {
    "duration": 12,
    "start_time": "2024-09-10T03:45:51.751Z"
   },
   {
    "duration": 27,
    "start_time": "2024-09-10T03:45:51.764Z"
   },
   {
    "duration": 4,
    "start_time": "2024-09-10T03:45:51.793Z"
   },
   {
    "duration": 14,
    "start_time": "2024-09-10T03:45:51.799Z"
   },
   {
    "duration": 5,
    "start_time": "2024-09-10T03:45:51.815Z"
   },
   {
    "duration": 12,
    "start_time": "2024-09-10T03:45:51.823Z"
   },
   {
    "duration": 17,
    "start_time": "2024-09-10T03:45:51.836Z"
   },
   {
    "duration": 64,
    "start_time": "2024-09-10T03:45:51.854Z"
   },
   {
    "duration": 13,
    "start_time": "2024-09-10T03:45:51.920Z"
   },
   {
    "duration": 30,
    "start_time": "2024-09-10T03:45:51.935Z"
   },
   {
    "duration": 23,
    "start_time": "2024-09-10T03:45:51.967Z"
   },
   {
    "duration": 9,
    "start_time": "2024-09-10T03:45:51.992Z"
   },
   {
    "duration": 35,
    "start_time": "2024-09-10T03:45:52.003Z"
   },
   {
    "duration": 4,
    "start_time": "2024-09-10T03:45:52.039Z"
   },
   {
    "duration": 12,
    "start_time": "2024-09-10T03:45:52.045Z"
   },
   {
    "duration": 13,
    "start_time": "2024-09-10T03:45:52.059Z"
   },
   {
    "duration": 22,
    "start_time": "2024-09-10T03:45:52.073Z"
   },
   {
    "duration": 14,
    "start_time": "2024-09-10T03:45:52.097Z"
   },
   {
    "duration": 7,
    "start_time": "2024-09-10T03:45:52.113Z"
   },
   {
    "duration": 7,
    "start_time": "2024-09-10T03:45:52.121Z"
   },
   {
    "duration": 4,
    "start_time": "2024-09-10T03:45:52.129Z"
   },
   {
    "duration": 1358,
    "start_time": "2024-09-10T03:45:52.134Z"
   },
   {
    "duration": 6,
    "start_time": "2024-09-10T03:45:53.494Z"
   },
   {
    "duration": 1458,
    "start_time": "2024-09-10T03:45:53.503Z"
   },
   {
    "duration": 16,
    "start_time": "2024-09-10T03:45:54.963Z"
   },
   {
    "duration": 2,
    "start_time": "2024-09-10T03:45:54.980Z"
   },
   {
    "duration": 34,
    "start_time": "2024-09-10T03:45:54.984Z"
   },
   {
    "duration": 3,
    "start_time": "2024-09-10T03:45:55.020Z"
   },
   {
    "duration": 29,
    "start_time": "2024-09-10T03:45:55.024Z"
   },
   {
    "duration": 44,
    "start_time": "2024-09-10T03:45:55.055Z"
   },
   {
    "duration": 25,
    "start_time": "2024-09-10T03:45:55.100Z"
   },
   {
    "duration": 34,
    "start_time": "2024-09-10T03:45:55.127Z"
   },
   {
    "duration": 4,
    "start_time": "2024-09-10T03:45:55.162Z"
   },
   {
    "duration": 329,
    "start_time": "2024-09-10T03:45:55.167Z"
   },
   {
    "duration": 8,
    "start_time": "2024-09-10T03:45:55.498Z"
   },
   {
    "duration": 2668,
    "start_time": "2024-09-10T03:45:55.508Z"
   },
   {
    "duration": 10,
    "start_time": "2024-09-10T03:45:58.177Z"
   },
   {
    "duration": 1001,
    "start_time": "2024-09-10T03:48:24.601Z"
   },
   {
    "duration": 84,
    "start_time": "2024-09-10T03:48:25.604Z"
   },
   {
    "duration": 3,
    "start_time": "2024-09-10T03:48:25.689Z"
   },
   {
    "duration": 56,
    "start_time": "2024-09-10T03:48:25.694Z"
   },
   {
    "duration": 13,
    "start_time": "2024-09-10T03:48:25.752Z"
   },
   {
    "duration": 16,
    "start_time": "2024-09-10T03:48:25.767Z"
   },
   {
    "duration": 4,
    "start_time": "2024-09-10T03:48:25.785Z"
   },
   {
    "duration": 21,
    "start_time": "2024-09-10T03:48:25.791Z"
   },
   {
    "duration": 7,
    "start_time": "2024-09-10T03:48:25.814Z"
   },
   {
    "duration": 31,
    "start_time": "2024-09-10T03:48:25.824Z"
   },
   {
    "duration": 112,
    "start_time": "2024-09-10T03:48:25.857Z"
   },
   {
    "duration": 0,
    "start_time": "2024-09-10T03:48:25.971Z"
   },
   {
    "duration": 0,
    "start_time": "2024-09-10T03:48:25.972Z"
   },
   {
    "duration": 0,
    "start_time": "2024-09-10T03:48:25.973Z"
   },
   {
    "duration": 0,
    "start_time": "2024-09-10T03:48:25.974Z"
   },
   {
    "duration": 0,
    "start_time": "2024-09-10T03:48:25.975Z"
   },
   {
    "duration": 0,
    "start_time": "2024-09-10T03:48:25.976Z"
   },
   {
    "duration": 0,
    "start_time": "2024-09-10T03:48:25.978Z"
   },
   {
    "duration": 0,
    "start_time": "2024-09-10T03:48:25.978Z"
   },
   {
    "duration": 0,
    "start_time": "2024-09-10T03:48:25.980Z"
   },
   {
    "duration": 0,
    "start_time": "2024-09-10T03:48:25.980Z"
   },
   {
    "duration": 0,
    "start_time": "2024-09-10T03:48:25.982Z"
   },
   {
    "duration": 0,
    "start_time": "2024-09-10T03:48:25.982Z"
   },
   {
    "duration": 0,
    "start_time": "2024-09-10T03:48:25.984Z"
   },
   {
    "duration": 1,
    "start_time": "2024-09-10T03:48:25.984Z"
   },
   {
    "duration": 0,
    "start_time": "2024-09-10T03:48:25.985Z"
   },
   {
    "duration": 0,
    "start_time": "2024-09-10T03:48:25.987Z"
   },
   {
    "duration": 0,
    "start_time": "2024-09-10T03:48:25.988Z"
   },
   {
    "duration": 0,
    "start_time": "2024-09-10T03:48:25.988Z"
   },
   {
    "duration": 0,
    "start_time": "2024-09-10T03:48:25.989Z"
   },
   {
    "duration": 0,
    "start_time": "2024-09-10T03:48:25.990Z"
   },
   {
    "duration": 0,
    "start_time": "2024-09-10T03:48:25.991Z"
   },
   {
    "duration": 0,
    "start_time": "2024-09-10T03:48:25.992Z"
   },
   {
    "duration": 0,
    "start_time": "2024-09-10T03:48:25.993Z"
   },
   {
    "duration": 0,
    "start_time": "2024-09-10T03:48:25.994Z"
   },
   {
    "duration": 0,
    "start_time": "2024-09-10T03:48:25.995Z"
   },
   {
    "duration": 0,
    "start_time": "2024-09-10T03:48:25.996Z"
   },
   {
    "duration": 0,
    "start_time": "2024-09-10T03:48:25.997Z"
   },
   {
    "duration": 0,
    "start_time": "2024-09-10T03:48:25.998Z"
   },
   {
    "duration": 0,
    "start_time": "2024-09-10T03:48:25.999Z"
   },
   {
    "duration": 0,
    "start_time": "2024-09-10T03:48:26.000Z"
   },
   {
    "duration": 63,
    "start_time": "2024-09-10T03:48:41.782Z"
   },
   {
    "duration": 1085,
    "start_time": "2024-09-10T04:34:26.565Z"
   },
   {
    "duration": 85,
    "start_time": "2024-09-10T04:34:27.651Z"
   },
   {
    "duration": 4,
    "start_time": "2024-09-10T04:34:27.737Z"
   },
   {
    "duration": 45,
    "start_time": "2024-09-10T04:34:27.743Z"
   },
   {
    "duration": 13,
    "start_time": "2024-09-10T04:34:27.790Z"
   },
   {
    "duration": 13,
    "start_time": "2024-09-10T04:34:27.804Z"
   },
   {
    "duration": 3,
    "start_time": "2024-09-10T04:34:27.818Z"
   },
   {
    "duration": 16,
    "start_time": "2024-09-10T04:34:27.822Z"
   },
   {
    "duration": 6,
    "start_time": "2024-09-10T04:34:27.840Z"
   },
   {
    "duration": 13,
    "start_time": "2024-09-10T04:34:27.848Z"
   },
   {
    "duration": 3,
    "start_time": "2024-09-10T04:34:27.862Z"
   },
   {
    "duration": 72,
    "start_time": "2024-09-10T04:34:27.866Z"
   },
   {
    "duration": 21,
    "start_time": "2024-09-10T04:34:27.940Z"
   },
   {
    "duration": 5,
    "start_time": "2024-09-10T04:34:27.963Z"
   },
   {
    "duration": 15,
    "start_time": "2024-09-10T04:34:27.970Z"
   },
   {
    "duration": 8,
    "start_time": "2024-09-10T04:34:27.987Z"
   },
   {
    "duration": 16,
    "start_time": "2024-09-10T04:34:27.996Z"
   },
   {
    "duration": 4,
    "start_time": "2024-09-10T04:34:28.014Z"
   },
   {
    "duration": 41,
    "start_time": "2024-09-10T04:34:28.019Z"
   },
   {
    "duration": 5,
    "start_time": "2024-09-10T04:34:28.061Z"
   },
   {
    "duration": 8,
    "start_time": "2024-09-10T04:34:28.067Z"
   },
   {
    "duration": 12,
    "start_time": "2024-09-10T04:34:28.077Z"
   },
   {
    "duration": 19,
    "start_time": "2024-09-10T04:34:28.091Z"
   },
   {
    "duration": 9,
    "start_time": "2024-09-10T04:34:28.111Z"
   },
   {
    "duration": 125,
    "start_time": "2024-09-10T04:34:28.122Z"
   },
   {
    "duration": 6,
    "start_time": "2024-09-10T04:34:28.248Z"
   },
   {
    "duration": 5,
    "start_time": "2024-09-10T04:34:28.255Z"
   },
   {
    "duration": 4,
    "start_time": "2024-09-10T04:34:28.264Z"
   },
   {
    "duration": 1316,
    "start_time": "2024-09-10T04:34:28.270Z"
   },
   {
    "duration": 5,
    "start_time": "2024-09-10T04:34:29.588Z"
   },
   {
    "duration": 858,
    "start_time": "2024-09-10T04:34:29.595Z"
   },
   {
    "duration": 0,
    "start_time": "2024-09-10T04:34:30.454Z"
   },
   {
    "duration": 0,
    "start_time": "2024-09-10T04:34:30.455Z"
   },
   {
    "duration": 0,
    "start_time": "2024-09-10T04:34:30.456Z"
   },
   {
    "duration": 0,
    "start_time": "2024-09-10T04:34:30.457Z"
   },
   {
    "duration": 0,
    "start_time": "2024-09-10T04:34:30.458Z"
   },
   {
    "duration": 0,
    "start_time": "2024-09-10T04:34:30.459Z"
   },
   {
    "duration": 0,
    "start_time": "2024-09-10T04:34:30.460Z"
   },
   {
    "duration": 0,
    "start_time": "2024-09-10T04:34:30.461Z"
   },
   {
    "duration": 0,
    "start_time": "2024-09-10T04:34:30.462Z"
   },
   {
    "duration": 0,
    "start_time": "2024-09-10T04:34:30.463Z"
   },
   {
    "duration": 0,
    "start_time": "2024-09-10T04:34:30.464Z"
   },
   {
    "duration": 0,
    "start_time": "2024-09-10T04:34:30.465Z"
   },
   {
    "duration": 0,
    "start_time": "2024-09-10T04:34:30.466Z"
   },
   {
    "duration": 0,
    "start_time": "2024-09-10T04:34:30.467Z"
   },
   {
    "duration": 0,
    "start_time": "2024-09-10T04:34:30.468Z"
   },
   {
    "duration": 0,
    "start_time": "2024-09-10T04:34:30.469Z"
   },
   {
    "duration": 1040,
    "start_time": "2024-09-10T04:35:58.774Z"
   },
   {
    "duration": 79,
    "start_time": "2024-09-10T04:35:59.815Z"
   },
   {
    "duration": 4,
    "start_time": "2024-09-10T04:35:59.895Z"
   },
   {
    "duration": 35,
    "start_time": "2024-09-10T04:35:59.900Z"
   },
   {
    "duration": 12,
    "start_time": "2024-09-10T04:35:59.937Z"
   },
   {
    "duration": 13,
    "start_time": "2024-09-10T04:35:59.950Z"
   },
   {
    "duration": 3,
    "start_time": "2024-09-10T04:35:59.964Z"
   },
   {
    "duration": 22,
    "start_time": "2024-09-10T04:35:59.968Z"
   },
   {
    "duration": 6,
    "start_time": "2024-09-10T04:35:59.991Z"
   },
   {
    "duration": 13,
    "start_time": "2024-09-10T04:36:00.000Z"
   },
   {
    "duration": 16,
    "start_time": "2024-09-10T04:36:00.014Z"
   },
   {
    "duration": 93,
    "start_time": "2024-09-10T04:36:00.031Z"
   },
   {
    "duration": 13,
    "start_time": "2024-09-10T04:36:00.125Z"
   },
   {
    "duration": 41,
    "start_time": "2024-09-10T04:36:00.139Z"
   },
   {
    "duration": 22,
    "start_time": "2024-09-10T04:36:00.181Z"
   },
   {
    "duration": 33,
    "start_time": "2024-09-10T04:36:00.205Z"
   },
   {
    "duration": 16,
    "start_time": "2024-09-10T04:36:00.240Z"
   },
   {
    "duration": 15,
    "start_time": "2024-09-10T04:36:00.258Z"
   },
   {
    "duration": 54,
    "start_time": "2024-09-10T04:36:00.274Z"
   },
   {
    "duration": 24,
    "start_time": "2024-09-10T04:36:00.330Z"
   },
   {
    "duration": 14,
    "start_time": "2024-09-10T04:36:00.356Z"
   },
   {
    "duration": 9,
    "start_time": "2024-09-10T04:36:00.371Z"
   },
   {
    "duration": 23,
    "start_time": "2024-09-10T04:36:00.382Z"
   },
   {
    "duration": 7,
    "start_time": "2024-09-10T04:36:00.407Z"
   },
   {
    "duration": 147,
    "start_time": "2024-09-10T04:36:00.415Z"
   },
   {
    "duration": 4,
    "start_time": "2024-09-10T04:36:00.564Z"
   },
   {
    "duration": 11,
    "start_time": "2024-09-10T04:36:00.569Z"
   },
   {
    "duration": 4,
    "start_time": "2024-09-10T04:36:00.583Z"
   },
   {
    "duration": 1325,
    "start_time": "2024-09-10T04:36:00.589Z"
   },
   {
    "duration": 42,
    "start_time": "2024-09-10T04:36:01.916Z"
   },
   {
    "duration": 1509,
    "start_time": "2024-09-10T04:36:01.960Z"
   },
   {
    "duration": 16,
    "start_time": "2024-09-10T04:36:03.471Z"
   },
   {
    "duration": 6,
    "start_time": "2024-09-10T04:36:03.488Z"
   },
   {
    "duration": 39,
    "start_time": "2024-09-10T04:36:03.495Z"
   },
   {
    "duration": 18,
    "start_time": "2024-09-10T04:36:03.535Z"
   },
   {
    "duration": 8,
    "start_time": "2024-09-10T04:36:03.555Z"
   },
   {
    "duration": 43,
    "start_time": "2024-09-10T04:36:03.565Z"
   },
   {
    "duration": 36,
    "start_time": "2024-09-10T04:36:03.610Z"
   },
   {
    "duration": 14,
    "start_time": "2024-09-10T04:36:03.647Z"
   },
   {
    "duration": 15,
    "start_time": "2024-09-10T04:36:03.663Z"
   },
   {
    "duration": 452,
    "start_time": "2024-09-10T04:36:03.679Z"
   },
   {
    "duration": 3,
    "start_time": "2024-09-10T04:36:04.133Z"
   },
   {
    "duration": 351,
    "start_time": "2024-09-10T04:36:04.138Z"
   },
   {
    "duration": 10,
    "start_time": "2024-09-10T04:36:04.491Z"
   },
   {
    "duration": 45,
    "start_time": "2024-09-10T04:36:04.502Z"
   },
   {
    "duration": 2675,
    "start_time": "2024-09-10T04:36:04.549Z"
   },
   {
    "duration": 16,
    "start_time": "2024-09-10T04:36:07.226Z"
   },
   {
    "duration": 22,
    "start_time": "2024-09-10T04:37:07.997Z"
   },
   {
    "duration": 21,
    "start_time": "2024-09-10T04:38:19.030Z"
   },
   {
    "duration": 29,
    "start_time": "2024-09-10T04:38:45.324Z"
   },
   {
    "duration": 64,
    "start_time": "2024-09-10T04:55:00.452Z"
   },
   {
    "duration": 19,
    "start_time": "2024-09-10T04:55:05.499Z"
   },
   {
    "duration": 18,
    "start_time": "2024-09-10T04:55:15.588Z"
   },
   {
    "duration": 29,
    "start_time": "2024-09-10T04:55:23.016Z"
   },
   {
    "duration": 1003,
    "start_time": "2024-09-10T04:57:08.702Z"
   },
   {
    "duration": 72,
    "start_time": "2024-09-10T04:57:09.707Z"
   },
   {
    "duration": 4,
    "start_time": "2024-09-10T04:57:09.781Z"
   },
   {
    "duration": 55,
    "start_time": "2024-09-10T04:57:09.787Z"
   },
   {
    "duration": 13,
    "start_time": "2024-09-10T04:57:09.844Z"
   },
   {
    "duration": 19,
    "start_time": "2024-09-10T04:57:09.859Z"
   },
   {
    "duration": 14,
    "start_time": "2024-09-10T04:57:09.879Z"
   },
   {
    "duration": 42,
    "start_time": "2024-09-10T04:57:09.894Z"
   },
   {
    "duration": 8,
    "start_time": "2024-09-10T04:57:09.939Z"
   },
   {
    "duration": 14,
    "start_time": "2024-09-10T04:57:09.949Z"
   },
   {
    "duration": 13,
    "start_time": "2024-09-10T04:57:09.964Z"
   },
   {
    "duration": 89,
    "start_time": "2024-09-10T04:57:09.979Z"
   },
   {
    "duration": 13,
    "start_time": "2024-09-10T04:57:10.070Z"
   },
   {
    "duration": 10,
    "start_time": "2024-09-10T04:57:10.084Z"
   },
   {
    "duration": 12,
    "start_time": "2024-09-10T04:57:10.096Z"
   },
   {
    "duration": 9,
    "start_time": "2024-09-10T04:57:10.109Z"
   },
   {
    "duration": 9,
    "start_time": "2024-09-10T04:57:10.119Z"
   },
   {
    "duration": 32,
    "start_time": "2024-09-10T04:57:10.129Z"
   },
   {
    "duration": 23,
    "start_time": "2024-09-10T04:57:10.162Z"
   },
   {
    "duration": 5,
    "start_time": "2024-09-10T04:57:10.186Z"
   },
   {
    "duration": 5,
    "start_time": "2024-09-10T04:57:10.192Z"
   },
   {
    "duration": 4,
    "start_time": "2024-09-10T04:57:10.198Z"
   },
   {
    "duration": 17,
    "start_time": "2024-09-10T04:57:10.203Z"
   },
   {
    "duration": 7,
    "start_time": "2024-09-10T04:57:10.222Z"
   },
   {
    "duration": 148,
    "start_time": "2024-09-10T04:57:10.230Z"
   },
   {
    "duration": 3,
    "start_time": "2024-09-10T04:57:10.380Z"
   },
   {
    "duration": 17,
    "start_time": "2024-09-10T04:57:10.384Z"
   },
   {
    "duration": 14,
    "start_time": "2024-09-10T04:57:10.405Z"
   },
   {
    "duration": 1360,
    "start_time": "2024-09-10T04:57:10.421Z"
   },
   {
    "duration": 6,
    "start_time": "2024-09-10T04:57:11.782Z"
   },
   {
    "duration": 1481,
    "start_time": "2024-09-10T04:57:11.790Z"
   },
   {
    "duration": 19,
    "start_time": "2024-09-10T04:57:13.273Z"
   },
   {
    "duration": 3,
    "start_time": "2024-09-10T04:57:13.293Z"
   },
   {
    "duration": 33,
    "start_time": "2024-09-10T04:57:13.297Z"
   },
   {
    "duration": 22,
    "start_time": "2024-09-10T04:57:13.332Z"
   },
   {
    "duration": 13,
    "start_time": "2024-09-10T04:57:13.355Z"
   },
   {
    "duration": 48,
    "start_time": "2024-09-10T04:57:13.369Z"
   },
   {
    "duration": 27,
    "start_time": "2024-09-10T04:57:13.419Z"
   },
   {
    "duration": 22,
    "start_time": "2024-09-10T04:57:13.453Z"
   },
   {
    "duration": 28,
    "start_time": "2024-09-10T04:57:13.477Z"
   },
   {
    "duration": 484,
    "start_time": "2024-09-10T04:57:13.507Z"
   },
   {
    "duration": 3,
    "start_time": "2024-09-10T04:57:13.993Z"
   },
   {
    "duration": 413,
    "start_time": "2024-09-10T04:57:13.997Z"
   },
   {
    "duration": 9,
    "start_time": "2024-09-10T04:57:14.412Z"
   },
   {
    "duration": 20,
    "start_time": "2024-09-10T04:57:14.423Z"
   },
   {
    "duration": 2604,
    "start_time": "2024-09-10T04:57:14.452Z"
   },
   {
    "duration": 10,
    "start_time": "2024-09-10T04:57:17.058Z"
   },
   {
    "duration": 1083,
    "start_time": "2024-09-10T04:59:17.021Z"
   },
   {
    "duration": 72,
    "start_time": "2024-09-10T04:59:18.106Z"
   },
   {
    "duration": 3,
    "start_time": "2024-09-10T04:59:18.180Z"
   },
   {
    "duration": 58,
    "start_time": "2024-09-10T04:59:18.186Z"
   },
   {
    "duration": 13,
    "start_time": "2024-09-10T04:59:18.246Z"
   },
   {
    "duration": 35,
    "start_time": "2024-09-10T04:59:18.260Z"
   },
   {
    "duration": 18,
    "start_time": "2024-09-10T04:59:18.297Z"
   },
   {
    "duration": 39,
    "start_time": "2024-09-10T04:59:18.317Z"
   },
   {
    "duration": 27,
    "start_time": "2024-09-10T04:59:18.358Z"
   },
   {
    "duration": 20,
    "start_time": "2024-09-10T04:59:18.388Z"
   },
   {
    "duration": 22,
    "start_time": "2024-09-10T04:59:18.410Z"
   },
   {
    "duration": 73,
    "start_time": "2024-09-10T04:59:18.434Z"
   },
   {
    "duration": 13,
    "start_time": "2024-09-10T04:59:18.509Z"
   },
   {
    "duration": 44,
    "start_time": "2024-09-10T04:59:18.523Z"
   },
   {
    "duration": 29,
    "start_time": "2024-09-10T04:59:18.569Z"
   },
   {
    "duration": 29,
    "start_time": "2024-09-10T04:59:18.599Z"
   },
   {
    "duration": 31,
    "start_time": "2024-09-10T04:59:18.629Z"
   },
   {
    "duration": 40,
    "start_time": "2024-09-10T04:59:18.661Z"
   },
   {
    "duration": 54,
    "start_time": "2024-09-10T04:59:18.702Z"
   },
   {
    "duration": 13,
    "start_time": "2024-09-10T04:59:18.757Z"
   },
   {
    "duration": 28,
    "start_time": "2024-09-10T04:59:18.771Z"
   },
   {
    "duration": 34,
    "start_time": "2024-09-10T04:59:18.800Z"
   },
   {
    "duration": 24,
    "start_time": "2024-09-10T04:59:18.836Z"
   },
   {
    "duration": 14,
    "start_time": "2024-09-10T04:59:18.861Z"
   },
   {
    "duration": 117,
    "start_time": "2024-09-10T04:59:18.876Z"
   },
   {
    "duration": 4,
    "start_time": "2024-09-10T04:59:18.994Z"
   },
   {
    "duration": 59,
    "start_time": "2024-09-10T04:59:19.000Z"
   },
   {
    "duration": 11,
    "start_time": "2024-09-10T04:59:19.063Z"
   },
   {
    "duration": 1330,
    "start_time": "2024-09-10T04:59:19.076Z"
   },
   {
    "duration": 6,
    "start_time": "2024-09-10T04:59:20.407Z"
   },
   {
    "duration": 1511,
    "start_time": "2024-09-10T04:59:20.414Z"
   },
   {
    "duration": 18,
    "start_time": "2024-09-10T04:59:21.926Z"
   },
   {
    "duration": 5,
    "start_time": "2024-09-10T04:59:21.953Z"
   },
   {
    "duration": 31,
    "start_time": "2024-09-10T04:59:21.959Z"
   },
   {
    "duration": 2,
    "start_time": "2024-09-10T04:59:21.992Z"
   },
   {
    "duration": 4,
    "start_time": "2024-09-10T04:59:21.995Z"
   },
   {
    "duration": 56,
    "start_time": "2024-09-10T04:59:22.000Z"
   },
   {
    "duration": 25,
    "start_time": "2024-09-10T04:59:22.058Z"
   },
   {
    "duration": 21,
    "start_time": "2024-09-10T04:59:22.085Z"
   },
   {
    "duration": 18,
    "start_time": "2024-09-10T04:59:22.107Z"
   },
   {
    "duration": 440,
    "start_time": "2024-09-10T04:59:22.127Z"
   },
   {
    "duration": 3,
    "start_time": "2024-09-10T04:59:22.569Z"
   },
   {
    "duration": 332,
    "start_time": "2024-09-10T04:59:22.573Z"
   },
   {
    "duration": 9,
    "start_time": "2024-09-10T04:59:22.907Z"
   },
   {
    "duration": 14,
    "start_time": "2024-09-10T04:59:22.918Z"
   },
   {
    "duration": 2542,
    "start_time": "2024-09-10T04:59:22.933Z"
   },
   {
    "duration": 11,
    "start_time": "2024-09-10T04:59:25.476Z"
   },
   {
    "duration": 1064,
    "start_time": "2024-09-10T04:59:54.243Z"
   },
   {
    "duration": 77,
    "start_time": "2024-09-10T04:59:55.309Z"
   },
   {
    "duration": 3,
    "start_time": "2024-09-10T04:59:55.388Z"
   },
   {
    "duration": 52,
    "start_time": "2024-09-10T04:59:55.393Z"
   },
   {
    "duration": 13,
    "start_time": "2024-09-10T04:59:55.447Z"
   },
   {
    "duration": 12,
    "start_time": "2024-09-10T04:59:55.461Z"
   },
   {
    "duration": 9,
    "start_time": "2024-09-10T04:59:55.475Z"
   },
   {
    "duration": 80,
    "start_time": "2024-09-10T04:59:55.485Z"
   },
   {
    "duration": 10,
    "start_time": "2024-09-10T04:59:55.567Z"
   },
   {
    "duration": 28,
    "start_time": "2024-09-10T04:59:55.580Z"
   },
   {
    "duration": 122,
    "start_time": "2024-09-10T04:59:55.609Z"
   },
   {
    "duration": 0,
    "start_time": "2024-09-10T04:59:55.733Z"
   },
   {
    "duration": 0,
    "start_time": "2024-09-10T04:59:55.734Z"
   },
   {
    "duration": 0,
    "start_time": "2024-09-10T04:59:55.735Z"
   },
   {
    "duration": 0,
    "start_time": "2024-09-10T04:59:55.737Z"
   },
   {
    "duration": 0,
    "start_time": "2024-09-10T04:59:55.738Z"
   },
   {
    "duration": 0,
    "start_time": "2024-09-10T04:59:55.739Z"
   },
   {
    "duration": 0,
    "start_time": "2024-09-10T04:59:55.740Z"
   },
   {
    "duration": 0,
    "start_time": "2024-09-10T04:59:55.753Z"
   },
   {
    "duration": 0,
    "start_time": "2024-09-10T04:59:55.754Z"
   },
   {
    "duration": 0,
    "start_time": "2024-09-10T04:59:55.755Z"
   },
   {
    "duration": 0,
    "start_time": "2024-09-10T04:59:55.757Z"
   },
   {
    "duration": 0,
    "start_time": "2024-09-10T04:59:55.758Z"
   },
   {
    "duration": 0,
    "start_time": "2024-09-10T04:59:55.759Z"
   },
   {
    "duration": 0,
    "start_time": "2024-09-10T04:59:55.760Z"
   },
   {
    "duration": 0,
    "start_time": "2024-09-10T04:59:55.761Z"
   },
   {
    "duration": 0,
    "start_time": "2024-09-10T04:59:55.762Z"
   },
   {
    "duration": 0,
    "start_time": "2024-09-10T04:59:55.763Z"
   },
   {
    "duration": 0,
    "start_time": "2024-09-10T04:59:55.764Z"
   },
   {
    "duration": 0,
    "start_time": "2024-09-10T04:59:55.765Z"
   },
   {
    "duration": 0,
    "start_time": "2024-09-10T04:59:55.766Z"
   },
   {
    "duration": 0,
    "start_time": "2024-09-10T04:59:55.767Z"
   },
   {
    "duration": 0,
    "start_time": "2024-09-10T04:59:55.768Z"
   },
   {
    "duration": 0,
    "start_time": "2024-09-10T04:59:55.769Z"
   },
   {
    "duration": 0,
    "start_time": "2024-09-10T04:59:55.770Z"
   },
   {
    "duration": 0,
    "start_time": "2024-09-10T04:59:55.771Z"
   },
   {
    "duration": 0,
    "start_time": "2024-09-10T04:59:55.772Z"
   },
   {
    "duration": 0,
    "start_time": "2024-09-10T04:59:55.773Z"
   },
   {
    "duration": 0,
    "start_time": "2024-09-10T04:59:55.774Z"
   },
   {
    "duration": 0,
    "start_time": "2024-09-10T04:59:55.775Z"
   },
   {
    "duration": 0,
    "start_time": "2024-09-10T04:59:55.775Z"
   },
   {
    "duration": 0,
    "start_time": "2024-09-10T04:59:55.777Z"
   },
   {
    "duration": 0,
    "start_time": "2024-09-10T04:59:55.778Z"
   },
   {
    "duration": 0,
    "start_time": "2024-09-10T04:59:55.779Z"
   },
   {
    "duration": 0,
    "start_time": "2024-09-10T04:59:55.780Z"
   },
   {
    "duration": 0,
    "start_time": "2024-09-10T04:59:55.781Z"
   },
   {
    "duration": 0,
    "start_time": "2024-09-10T04:59:55.782Z"
   },
   {
    "duration": 9,
    "start_time": "2024-09-10T05:00:25.507Z"
   },
   {
    "duration": 14,
    "start_time": "2024-09-10T05:00:31.760Z"
   },
   {
    "duration": 4,
    "start_time": "2024-09-10T05:01:23.598Z"
   },
   {
    "duration": 1028,
    "start_time": "2024-09-10T05:01:30.794Z"
   },
   {
    "duration": 77,
    "start_time": "2024-09-10T05:01:31.824Z"
   },
   {
    "duration": 3,
    "start_time": "2024-09-10T05:01:31.902Z"
   },
   {
    "duration": 43,
    "start_time": "2024-09-10T05:01:31.907Z"
   },
   {
    "duration": 14,
    "start_time": "2024-09-10T05:01:31.951Z"
   },
   {
    "duration": 35,
    "start_time": "2024-09-10T05:01:31.967Z"
   },
   {
    "duration": 10,
    "start_time": "2024-09-10T05:01:32.004Z"
   },
   {
    "duration": 50,
    "start_time": "2024-09-10T05:01:32.015Z"
   },
   {
    "duration": 21,
    "start_time": "2024-09-10T05:01:32.066Z"
   },
   {
    "duration": 25,
    "start_time": "2024-09-10T05:01:32.090Z"
   },
   {
    "duration": 9,
    "start_time": "2024-09-10T05:01:32.116Z"
   },
   {
    "duration": 67,
    "start_time": "2024-09-10T05:01:32.126Z"
   },
   {
    "duration": 11,
    "start_time": "2024-09-10T05:01:32.194Z"
   },
   {
    "duration": 12,
    "start_time": "2024-09-10T05:01:32.207Z"
   },
   {
    "duration": 9,
    "start_time": "2024-09-10T05:01:32.220Z"
   },
   {
    "duration": 27,
    "start_time": "2024-09-10T05:01:32.231Z"
   },
   {
    "duration": 11,
    "start_time": "2024-09-10T05:01:32.259Z"
   },
   {
    "duration": 30,
    "start_time": "2024-09-10T05:01:32.272Z"
   },
   {
    "duration": 40,
    "start_time": "2024-09-10T05:01:32.303Z"
   },
   {
    "duration": 5,
    "start_time": "2024-09-10T05:01:32.344Z"
   },
   {
    "duration": 11,
    "start_time": "2024-09-10T05:01:32.350Z"
   },
   {
    "duration": 17,
    "start_time": "2024-09-10T05:01:32.363Z"
   },
   {
    "duration": 18,
    "start_time": "2024-09-10T05:01:32.382Z"
   },
   {
    "duration": 11,
    "start_time": "2024-09-10T05:01:32.401Z"
   },
   {
    "duration": 113,
    "start_time": "2024-09-10T05:01:32.413Z"
   },
   {
    "duration": 3,
    "start_time": "2024-09-10T05:01:32.528Z"
   },
   {
    "duration": 57,
    "start_time": "2024-09-10T05:01:32.533Z"
   },
   {
    "duration": 5,
    "start_time": "2024-09-10T05:01:32.594Z"
   },
   {
    "duration": 1296,
    "start_time": "2024-09-10T05:01:32.600Z"
   },
   {
    "duration": 5,
    "start_time": "2024-09-10T05:01:33.897Z"
   },
   {
    "duration": 1494,
    "start_time": "2024-09-10T05:01:33.904Z"
   },
   {
    "duration": 17,
    "start_time": "2024-09-10T05:01:35.400Z"
   },
   {
    "duration": 16,
    "start_time": "2024-09-10T05:01:35.418Z"
   },
   {
    "duration": 42,
    "start_time": "2024-09-10T05:01:35.435Z"
   },
   {
    "duration": 3,
    "start_time": "2024-09-10T05:01:35.479Z"
   },
   {
    "duration": 14,
    "start_time": "2024-09-10T05:01:35.483Z"
   },
   {
    "duration": 121,
    "start_time": "2024-09-10T05:01:35.499Z"
   },
   {
    "duration": 33,
    "start_time": "2024-09-10T05:01:35.621Z"
   },
   {
    "duration": 21,
    "start_time": "2024-09-10T05:01:35.656Z"
   },
   {
    "duration": 24,
    "start_time": "2024-09-10T05:01:35.678Z"
   },
   {
    "duration": 452,
    "start_time": "2024-09-10T05:01:35.703Z"
   },
   {
    "duration": 3,
    "start_time": "2024-09-10T05:01:36.157Z"
   },
   {
    "duration": 366,
    "start_time": "2024-09-10T05:01:36.161Z"
   },
   {
    "duration": 9,
    "start_time": "2024-09-10T05:01:36.528Z"
   },
   {
    "duration": 99,
    "start_time": "2024-09-10T05:01:36.539Z"
   },
   {
    "duration": 2759,
    "start_time": "2024-09-10T05:01:36.639Z"
   },
   {
    "duration": 11,
    "start_time": "2024-09-10T05:01:39.400Z"
   },
   {
    "duration": 1172,
    "start_time": "2024-09-10T06:00:42.583Z"
   },
   {
    "duration": 118,
    "start_time": "2024-09-10T06:00:43.757Z"
   },
   {
    "duration": 3,
    "start_time": "2024-09-10T06:00:43.877Z"
   },
   {
    "duration": 31,
    "start_time": "2024-09-10T06:00:43.883Z"
   },
   {
    "duration": 19,
    "start_time": "2024-09-10T06:00:43.916Z"
   },
   {
    "duration": 20,
    "start_time": "2024-09-10T06:00:43.937Z"
   },
   {
    "duration": 4,
    "start_time": "2024-09-10T06:00:43.959Z"
   },
   {
    "duration": 24,
    "start_time": "2024-09-10T06:00:43.965Z"
   },
   {
    "duration": 21,
    "start_time": "2024-09-10T06:00:43.991Z"
   },
   {
    "duration": 17,
    "start_time": "2024-09-10T06:00:44.016Z"
   },
   {
    "duration": 23,
    "start_time": "2024-09-10T06:00:44.035Z"
   },
   {
    "duration": 90,
    "start_time": "2024-09-10T06:00:44.061Z"
   },
   {
    "duration": 13,
    "start_time": "2024-09-10T06:00:44.154Z"
   },
   {
    "duration": 6,
    "start_time": "2024-09-10T06:00:44.168Z"
   },
   {
    "duration": 9,
    "start_time": "2024-09-10T06:00:44.175Z"
   },
   {
    "duration": 10,
    "start_time": "2024-09-10T06:00:44.185Z"
   },
   {
    "duration": 12,
    "start_time": "2024-09-10T06:00:44.196Z"
   },
   {
    "duration": 45,
    "start_time": "2024-09-10T06:00:44.210Z"
   },
   {
    "duration": 30,
    "start_time": "2024-09-10T06:00:44.256Z"
   },
   {
    "duration": 5,
    "start_time": "2024-09-10T06:00:44.288Z"
   },
   {
    "duration": 10,
    "start_time": "2024-09-10T06:00:44.294Z"
   },
   {
    "duration": 5,
    "start_time": "2024-09-10T06:00:44.306Z"
   },
   {
    "duration": 12,
    "start_time": "2024-09-10T06:00:44.312Z"
   },
   {
    "duration": 31,
    "start_time": "2024-09-10T06:00:44.326Z"
   },
   {
    "duration": 125,
    "start_time": "2024-09-10T06:00:44.359Z"
   },
   {
    "duration": 4,
    "start_time": "2024-09-10T06:00:44.485Z"
   },
   {
    "duration": 22,
    "start_time": "2024-09-10T06:00:44.491Z"
   },
   {
    "duration": 3,
    "start_time": "2024-09-10T06:00:44.516Z"
   },
   {
    "duration": 1417,
    "start_time": "2024-09-10T06:00:44.520Z"
   },
   {
    "duration": 15,
    "start_time": "2024-09-10T06:00:45.939Z"
   },
   {
    "duration": 1636,
    "start_time": "2024-09-10T06:00:45.956Z"
   },
   {
    "duration": 19,
    "start_time": "2024-09-10T06:00:47.594Z"
   },
   {
    "duration": 4,
    "start_time": "2024-09-10T06:00:47.615Z"
   },
   {
    "duration": 57,
    "start_time": "2024-09-10T06:00:47.620Z"
   },
   {
    "duration": 3,
    "start_time": "2024-09-10T06:00:47.679Z"
   },
   {
    "duration": 6,
    "start_time": "2024-09-10T06:00:47.683Z"
   },
   {
    "duration": 71,
    "start_time": "2024-09-10T06:00:47.691Z"
   },
   {
    "duration": 51,
    "start_time": "2024-09-10T06:00:47.766Z"
   },
   {
    "duration": 48,
    "start_time": "2024-09-10T06:00:47.818Z"
   },
   {
    "duration": 10,
    "start_time": "2024-09-10T06:00:47.868Z"
   },
   {
    "duration": 465,
    "start_time": "2024-09-10T06:00:47.879Z"
   },
   {
    "duration": 7,
    "start_time": "2024-09-10T06:00:48.345Z"
   },
   {
    "duration": 372,
    "start_time": "2024-09-10T06:00:48.354Z"
   },
   {
    "duration": 10,
    "start_time": "2024-09-10T06:00:48.727Z"
   },
   {
    "duration": 25,
    "start_time": "2024-09-10T06:00:48.739Z"
   },
   {
    "duration": 2852,
    "start_time": "2024-09-10T06:00:48.766Z"
   },
   {
    "duration": 12,
    "start_time": "2024-09-10T06:00:51.620Z"
   },
   {
    "duration": 1164,
    "start_time": "2024-09-10T06:24:04.040Z"
   },
   {
    "duration": 78,
    "start_time": "2024-09-10T06:24:05.206Z"
   },
   {
    "duration": 4,
    "start_time": "2024-09-10T06:24:05.285Z"
   },
   {
    "duration": 44,
    "start_time": "2024-09-10T06:24:05.291Z"
   },
   {
    "duration": 12,
    "start_time": "2024-09-10T06:24:05.336Z"
   },
   {
    "duration": 61,
    "start_time": "2024-09-10T06:24:05.350Z"
   },
   {
    "duration": 56,
    "start_time": "2024-09-10T06:24:05.412Z"
   },
   {
    "duration": 26,
    "start_time": "2024-09-10T06:24:05.470Z"
   },
   {
    "duration": 8,
    "start_time": "2024-09-10T06:24:05.497Z"
   },
   {
    "duration": 22,
    "start_time": "2024-09-10T06:24:05.507Z"
   },
   {
    "duration": 28,
    "start_time": "2024-09-10T06:24:05.531Z"
   },
   {
    "duration": 73,
    "start_time": "2024-09-10T06:24:05.561Z"
   },
   {
    "duration": 11,
    "start_time": "2024-09-10T06:24:05.636Z"
   },
   {
    "duration": 7,
    "start_time": "2024-09-10T06:24:05.649Z"
   },
   {
    "duration": 19,
    "start_time": "2024-09-10T06:24:05.657Z"
   },
   {
    "duration": 8,
    "start_time": "2024-09-10T06:24:05.677Z"
   },
   {
    "duration": 10,
    "start_time": "2024-09-10T06:24:05.687Z"
   },
   {
    "duration": 8,
    "start_time": "2024-09-10T06:24:05.698Z"
   },
   {
    "duration": 29,
    "start_time": "2024-09-10T06:24:05.707Z"
   },
   {
    "duration": 5,
    "start_time": "2024-09-10T06:24:05.738Z"
   },
   {
    "duration": 5,
    "start_time": "2024-09-10T06:24:05.752Z"
   },
   {
    "duration": 9,
    "start_time": "2024-09-10T06:24:05.758Z"
   },
   {
    "duration": 13,
    "start_time": "2024-09-10T06:24:05.768Z"
   },
   {
    "duration": 6,
    "start_time": "2024-09-10T06:24:05.783Z"
   },
   {
    "duration": 120,
    "start_time": "2024-09-10T06:24:05.790Z"
   },
   {
    "duration": 5,
    "start_time": "2024-09-10T06:24:05.912Z"
   },
   {
    "duration": 9,
    "start_time": "2024-09-10T06:24:05.919Z"
   },
   {
    "duration": 3,
    "start_time": "2024-09-10T06:24:05.932Z"
   },
   {
    "duration": 1483,
    "start_time": "2024-09-10T06:24:05.937Z"
   },
   {
    "duration": 6,
    "start_time": "2024-09-10T06:24:07.421Z"
   },
   {
    "duration": 1463,
    "start_time": "2024-09-10T06:24:07.428Z"
   },
   {
    "duration": 17,
    "start_time": "2024-09-10T06:24:08.892Z"
   },
   {
    "duration": 12,
    "start_time": "2024-09-10T06:24:08.910Z"
   },
   {
    "duration": 36,
    "start_time": "2024-09-10T06:24:08.923Z"
   },
   {
    "duration": 3,
    "start_time": "2024-09-10T06:24:08.960Z"
   },
   {
    "duration": 16,
    "start_time": "2024-09-10T06:24:08.964Z"
   },
   {
    "duration": 43,
    "start_time": "2024-09-10T06:24:08.981Z"
   },
   {
    "duration": 35,
    "start_time": "2024-09-10T06:24:09.025Z"
   },
   {
    "duration": 4,
    "start_time": "2024-09-10T06:24:09.061Z"
   },
   {
    "duration": 109,
    "start_time": "2024-09-10T06:24:09.066Z"
   },
   {
    "duration": 0,
    "start_time": "2024-09-10T06:24:09.177Z"
   },
   {
    "duration": 0,
    "start_time": "2024-09-10T06:24:09.178Z"
   },
   {
    "duration": 0,
    "start_time": "2024-09-10T06:24:09.179Z"
   },
   {
    "duration": 0,
    "start_time": "2024-09-10T06:24:09.180Z"
   },
   {
    "duration": 0,
    "start_time": "2024-09-10T06:24:09.181Z"
   },
   {
    "duration": 0,
    "start_time": "2024-09-10T06:24:09.182Z"
   },
   {
    "duration": 0,
    "start_time": "2024-09-10T06:24:09.183Z"
   },
   {
    "duration": 0,
    "start_time": "2024-09-10T06:24:09.184Z"
   },
   {
    "duration": 0,
    "start_time": "2024-09-10T06:24:09.185Z"
   },
   {
    "duration": 16,
    "start_time": "2024-09-10T06:24:30.861Z"
   },
   {
    "duration": 15,
    "start_time": "2024-09-10T06:24:47.460Z"
   },
   {
    "duration": 15,
    "start_time": "2024-09-10T06:24:52.160Z"
   },
   {
    "duration": 3,
    "start_time": "2024-09-10T06:25:13.017Z"
   },
   {
    "duration": 16,
    "start_time": "2024-09-10T06:25:13.612Z"
   },
   {
    "duration": 2,
    "start_time": "2024-09-10T06:25:26.563Z"
   },
   {
    "duration": 99,
    "start_time": "2024-09-10T06:25:27.166Z"
   },
   {
    "duration": 14,
    "start_time": "2024-09-10T06:25:33.458Z"
   },
   {
    "duration": 33,
    "start_time": "2024-09-10T06:26:16.767Z"
   },
   {
    "duration": 3,
    "start_time": "2024-09-10T06:26:46.733Z"
   },
   {
    "duration": 3,
    "start_time": "2024-09-10T06:26:47.579Z"
   },
   {
    "duration": 83,
    "start_time": "2024-09-10T06:26:48.297Z"
   },
   {
    "duration": 31,
    "start_time": "2024-09-10T06:26:49.322Z"
   },
   {
    "duration": 4,
    "start_time": "2024-09-10T06:27:20.900Z"
   },
   {
    "duration": 3,
    "start_time": "2024-09-10T06:27:21.389Z"
   },
   {
    "duration": 82,
    "start_time": "2024-09-10T06:27:21.924Z"
   },
   {
    "duration": 32,
    "start_time": "2024-09-10T06:27:22.494Z"
   },
   {
    "duration": 5,
    "start_time": "2024-09-10T06:29:28.352Z"
   },
   {
    "duration": 84,
    "start_time": "2024-09-10T06:29:31.870Z"
   },
   {
    "duration": 32,
    "start_time": "2024-09-10T06:29:32.747Z"
   },
   {
    "duration": 4,
    "start_time": "2024-09-10T06:29:56.317Z"
   },
   {
    "duration": 79,
    "start_time": "2024-09-10T06:29:57.789Z"
   },
   {
    "duration": 32,
    "start_time": "2024-09-10T06:29:58.551Z"
   },
   {
    "duration": 12,
    "start_time": "2024-09-10T06:30:23.901Z"
   },
   {
    "duration": 23,
    "start_time": "2024-09-10T06:30:31.695Z"
   },
   {
    "duration": 33,
    "start_time": "2024-09-10T06:30:37.670Z"
   },
   {
    "duration": 58,
    "start_time": "2024-09-10T06:31:17.197Z"
   },
   {
    "duration": 41,
    "start_time": "2024-09-10T06:31:35.702Z"
   },
   {
    "duration": 1134,
    "start_time": "2024-09-10T06:32:58.163Z"
   },
   {
    "duration": 79,
    "start_time": "2024-09-10T06:32:59.299Z"
   },
   {
    "duration": 4,
    "start_time": "2024-09-10T06:32:59.380Z"
   },
   {
    "duration": 66,
    "start_time": "2024-09-10T06:32:59.387Z"
   },
   {
    "duration": 13,
    "start_time": "2024-09-10T06:32:59.454Z"
   },
   {
    "duration": 12,
    "start_time": "2024-09-10T06:32:59.469Z"
   },
   {
    "duration": 3,
    "start_time": "2024-09-10T06:32:59.483Z"
   },
   {
    "duration": 17,
    "start_time": "2024-09-10T06:32:59.487Z"
   },
   {
    "duration": 7,
    "start_time": "2024-09-10T06:32:59.506Z"
   },
   {
    "duration": 13,
    "start_time": "2024-09-10T06:32:59.553Z"
   },
   {
    "duration": 11,
    "start_time": "2024-09-10T06:32:59.567Z"
   },
   {
    "duration": 75,
    "start_time": "2024-09-10T06:32:59.580Z"
   },
   {
    "duration": 12,
    "start_time": "2024-09-10T06:32:59.657Z"
   },
   {
    "duration": 6,
    "start_time": "2024-09-10T06:32:59.671Z"
   },
   {
    "duration": 9,
    "start_time": "2024-09-10T06:32:59.679Z"
   },
   {
    "duration": 9,
    "start_time": "2024-09-10T06:32:59.690Z"
   },
   {
    "duration": 9,
    "start_time": "2024-09-10T06:32:59.701Z"
   },
   {
    "duration": 42,
    "start_time": "2024-09-10T06:32:59.712Z"
   },
   {
    "duration": 20,
    "start_time": "2024-09-10T06:32:59.756Z"
   },
   {
    "duration": 5,
    "start_time": "2024-09-10T06:32:59.778Z"
   },
   {
    "duration": 5,
    "start_time": "2024-09-10T06:32:59.784Z"
   },
   {
    "duration": 6,
    "start_time": "2024-09-10T06:32:59.791Z"
   },
   {
    "duration": 12,
    "start_time": "2024-09-10T06:32:59.799Z"
   },
   {
    "duration": 7,
    "start_time": "2024-09-10T06:32:59.813Z"
   },
   {
    "duration": 111,
    "start_time": "2024-09-10T06:32:59.853Z"
   },
   {
    "duration": 4,
    "start_time": "2024-09-10T06:32:59.966Z"
   },
   {
    "duration": 4,
    "start_time": "2024-09-10T06:32:59.971Z"
   },
   {
    "duration": 10,
    "start_time": "2024-09-10T06:32:59.978Z"
   },
   {
    "duration": 1321,
    "start_time": "2024-09-10T06:32:59.989Z"
   },
   {
    "duration": 6,
    "start_time": "2024-09-10T06:33:01.311Z"
   },
   {
    "duration": 1474,
    "start_time": "2024-09-10T06:33:01.319Z"
   },
   {
    "duration": 19,
    "start_time": "2024-09-10T06:33:02.794Z"
   },
   {
    "duration": 76,
    "start_time": "2024-09-10T06:33:02.815Z"
   },
   {
    "duration": 57,
    "start_time": "2024-09-10T06:33:02.893Z"
   },
   {
    "duration": 3,
    "start_time": "2024-09-10T06:33:02.951Z"
   },
   {
    "duration": 12,
    "start_time": "2024-09-10T06:33:02.955Z"
   },
   {
    "duration": 47,
    "start_time": "2024-09-10T06:33:02.969Z"
   },
   {
    "duration": 37,
    "start_time": "2024-09-10T06:33:03.018Z"
   },
   {
    "duration": 5,
    "start_time": "2024-09-10T06:33:03.056Z"
   },
   {
    "duration": 97,
    "start_time": "2024-09-10T06:33:03.062Z"
   },
   {
    "duration": 32,
    "start_time": "2024-09-10T06:33:03.161Z"
   },
   {
    "duration": 27,
    "start_time": "2024-09-10T06:33:03.194Z"
   },
   {
    "duration": 31,
    "start_time": "2024-09-10T06:33:03.222Z"
   },
   {
    "duration": 461,
    "start_time": "2024-09-10T06:33:03.255Z"
   },
   {
    "duration": 3,
    "start_time": "2024-09-10T06:33:03.717Z"
   },
   {
    "duration": 346,
    "start_time": "2024-09-10T06:33:03.721Z"
   },
   {
    "duration": 9,
    "start_time": "2024-09-10T06:33:04.069Z"
   },
   {
    "duration": 20,
    "start_time": "2024-09-10T06:33:04.080Z"
   },
   {
    "duration": 2715,
    "start_time": "2024-09-10T06:33:04.102Z"
   },
   {
    "duration": 12,
    "start_time": "2024-09-10T06:33:06.819Z"
   },
   {
    "duration": 1239,
    "start_time": "2024-09-10T06:33:25.683Z"
   },
   {
    "duration": 11,
    "start_time": "2024-09-10T06:33:46.824Z"
   },
   {
    "duration": 25,
    "start_time": "2024-09-10T06:34:17.817Z"
   },
   {
    "duration": 11,
    "start_time": "2024-09-10T06:34:30.923Z"
   },
   {
    "duration": 411,
    "start_time": "2024-09-10T06:34:31.833Z"
   },
   {
    "duration": 28,
    "start_time": "2024-09-10T06:35:02.705Z"
   },
   {
    "duration": 33,
    "start_time": "2024-09-10T06:35:23.939Z"
   },
   {
    "duration": 4,
    "start_time": "2024-09-10T06:36:13.815Z"
   },
   {
    "duration": 85,
    "start_time": "2024-09-10T06:36:14.576Z"
   },
   {
    "duration": 38,
    "start_time": "2024-09-10T06:36:15.356Z"
   },
   {
    "duration": 5,
    "start_time": "2024-09-10T06:40:26.668Z"
   },
   {
    "duration": 84,
    "start_time": "2024-09-10T06:40:27.375Z"
   },
   {
    "duration": 36,
    "start_time": "2024-09-10T06:40:28.216Z"
   },
   {
    "duration": 86,
    "start_time": "2024-09-10T06:40:45.584Z"
   },
   {
    "duration": 34,
    "start_time": "2024-09-10T06:40:46.512Z"
   },
   {
    "duration": 5,
    "start_time": "2024-09-10T06:41:18.511Z"
   },
   {
    "duration": 85,
    "start_time": "2024-09-10T06:41:19.227Z"
   },
   {
    "duration": 34,
    "start_time": "2024-09-10T06:41:19.841Z"
   },
   {
    "duration": 4,
    "start_time": "2024-09-10T06:41:36.819Z"
   },
   {
    "duration": 4,
    "start_time": "2024-09-10T06:41:43.973Z"
   },
   {
    "duration": 79,
    "start_time": "2024-09-10T06:41:44.595Z"
   },
   {
    "duration": 32,
    "start_time": "2024-09-10T06:41:45.182Z"
   },
   {
    "duration": 5,
    "start_time": "2024-09-10T06:44:11.920Z"
   },
   {
    "duration": 78,
    "start_time": "2024-09-10T06:44:12.436Z"
   },
   {
    "duration": 32,
    "start_time": "2024-09-10T06:44:12.928Z"
   },
   {
    "duration": 5,
    "start_time": "2024-09-10T06:44:29.360Z"
   },
   {
    "duration": 88,
    "start_time": "2024-09-10T06:44:30.094Z"
   },
   {
    "duration": 43,
    "start_time": "2024-09-10T06:44:30.594Z"
   },
   {
    "duration": 17,
    "start_time": "2024-09-10T06:47:02.696Z"
   },
   {
    "duration": 5,
    "start_time": "2024-09-10T06:47:06.615Z"
   },
   {
    "duration": 79,
    "start_time": "2024-09-10T06:47:07.420Z"
   },
   {
    "duration": 40,
    "start_time": "2024-09-10T06:47:08.269Z"
   },
   {
    "duration": 88,
    "start_time": "2024-09-10T06:47:20.781Z"
   },
   {
    "duration": 33,
    "start_time": "2024-09-10T06:47:21.517Z"
   },
   {
    "duration": 84,
    "start_time": "2024-09-10T06:48:13.931Z"
   },
   {
    "duration": 33,
    "start_time": "2024-09-10T06:48:14.543Z"
   },
   {
    "duration": 1135,
    "start_time": "2024-09-10T06:51:14.160Z"
   },
   {
    "duration": 76,
    "start_time": "2024-09-10T06:51:15.299Z"
   },
   {
    "duration": 3,
    "start_time": "2024-09-10T06:51:15.377Z"
   },
   {
    "duration": 62,
    "start_time": "2024-09-10T06:51:15.381Z"
   },
   {
    "duration": 12,
    "start_time": "2024-09-10T06:51:15.444Z"
   },
   {
    "duration": 23,
    "start_time": "2024-09-10T06:51:15.457Z"
   },
   {
    "duration": 12,
    "start_time": "2024-09-10T06:51:15.482Z"
   },
   {
    "duration": 16,
    "start_time": "2024-09-10T06:51:15.495Z"
   },
   {
    "duration": 16,
    "start_time": "2024-09-10T06:51:15.513Z"
   },
   {
    "duration": 13,
    "start_time": "2024-09-10T06:51:15.532Z"
   },
   {
    "duration": 9,
    "start_time": "2024-09-10T06:51:15.547Z"
   },
   {
    "duration": 72,
    "start_time": "2024-09-10T06:51:15.558Z"
   },
   {
    "duration": 13,
    "start_time": "2024-09-10T06:51:15.631Z"
   },
   {
    "duration": 36,
    "start_time": "2024-09-10T06:51:15.645Z"
   },
   {
    "duration": 20,
    "start_time": "2024-09-10T06:51:15.683Z"
   },
   {
    "duration": 11,
    "start_time": "2024-09-10T06:51:15.704Z"
   },
   {
    "duration": 11,
    "start_time": "2024-09-10T06:51:15.716Z"
   },
   {
    "duration": 4,
    "start_time": "2024-09-10T06:51:15.729Z"
   },
   {
    "duration": 28,
    "start_time": "2024-09-10T06:51:15.734Z"
   },
   {
    "duration": 4,
    "start_time": "2024-09-10T06:51:15.764Z"
   },
   {
    "duration": 24,
    "start_time": "2024-09-10T06:51:15.769Z"
   },
   {
    "duration": 10,
    "start_time": "2024-09-10T06:51:15.794Z"
   },
   {
    "duration": 27,
    "start_time": "2024-09-10T06:51:15.806Z"
   },
   {
    "duration": 7,
    "start_time": "2024-09-10T06:51:15.834Z"
   },
   {
    "duration": 109,
    "start_time": "2024-09-10T06:51:15.842Z"
   },
   {
    "duration": 5,
    "start_time": "2024-09-10T06:51:15.952Z"
   },
   {
    "duration": 74,
    "start_time": "2024-09-10T06:51:15.959Z"
   },
   {
    "duration": 4,
    "start_time": "2024-09-10T06:51:16.037Z"
   },
   {
    "duration": 1460,
    "start_time": "2024-09-10T06:51:16.042Z"
   },
   {
    "duration": 7,
    "start_time": "2024-09-10T06:51:17.503Z"
   },
   {
    "duration": 1552,
    "start_time": "2024-09-10T06:51:17.511Z"
   },
   {
    "duration": 18,
    "start_time": "2024-09-10T06:51:19.064Z"
   },
   {
    "duration": 2,
    "start_time": "2024-09-10T06:51:19.084Z"
   },
   {
    "duration": 33,
    "start_time": "2024-09-10T06:51:19.088Z"
   },
   {
    "duration": 31,
    "start_time": "2024-09-10T06:51:19.123Z"
   },
   {
    "duration": 5,
    "start_time": "2024-09-10T06:51:19.156Z"
   },
   {
    "duration": 68,
    "start_time": "2024-09-10T06:51:19.163Z"
   },
   {
    "duration": 33,
    "start_time": "2024-09-10T06:51:19.232Z"
   },
   {
    "duration": 6,
    "start_time": "2024-09-10T06:51:19.267Z"
   },
   {
    "duration": 94,
    "start_time": "2024-09-10T06:51:19.275Z"
   },
   {
    "duration": 34,
    "start_time": "2024-09-10T06:51:19.371Z"
   },
   {
    "duration": 47,
    "start_time": "2024-09-10T06:51:19.407Z"
   },
   {
    "duration": 12,
    "start_time": "2024-09-10T06:51:19.456Z"
   },
   {
    "duration": 461,
    "start_time": "2024-09-10T06:51:19.470Z"
   },
   {
    "duration": 4,
    "start_time": "2024-09-10T06:51:19.933Z"
   },
   {
    "duration": 395,
    "start_time": "2024-09-10T06:51:19.939Z"
   },
   {
    "duration": 18,
    "start_time": "2024-09-10T06:51:20.336Z"
   },
   {
    "duration": 15,
    "start_time": "2024-09-10T06:51:20.356Z"
   },
   {
    "duration": 2818,
    "start_time": "2024-09-10T06:51:20.373Z"
   },
   {
    "duration": 14,
    "start_time": "2024-09-10T06:51:23.193Z"
   },
   {
    "duration": 1086,
    "start_time": "2024-09-10T06:55:20.729Z"
   },
   {
    "duration": 79,
    "start_time": "2024-09-10T06:55:21.817Z"
   },
   {
    "duration": 4,
    "start_time": "2024-09-10T06:55:21.897Z"
   },
   {
    "duration": 39,
    "start_time": "2024-09-10T06:55:21.902Z"
   },
   {
    "duration": 12,
    "start_time": "2024-09-10T06:55:21.943Z"
   },
   {
    "duration": 41,
    "start_time": "2024-09-10T06:55:21.957Z"
   },
   {
    "duration": 3,
    "start_time": "2024-09-10T06:55:21.999Z"
   },
   {
    "duration": 19,
    "start_time": "2024-09-10T06:55:22.003Z"
   },
   {
    "duration": 10,
    "start_time": "2024-09-10T06:55:22.023Z"
   },
   {
    "duration": 13,
    "start_time": "2024-09-10T06:55:22.036Z"
   },
   {
    "duration": 2,
    "start_time": "2024-09-10T06:55:22.050Z"
   },
   {
    "duration": 75,
    "start_time": "2024-09-10T06:55:22.053Z"
   },
   {
    "duration": 11,
    "start_time": "2024-09-10T06:55:22.130Z"
   },
   {
    "duration": 30,
    "start_time": "2024-09-10T06:55:22.142Z"
   },
   {
    "duration": 18,
    "start_time": "2024-09-10T06:55:22.174Z"
   },
   {
    "duration": 8,
    "start_time": "2024-09-10T06:55:22.193Z"
   },
   {
    "duration": 10,
    "start_time": "2024-09-10T06:55:22.202Z"
   },
   {
    "duration": 5,
    "start_time": "2024-09-10T06:55:22.214Z"
   },
   {
    "duration": 25,
    "start_time": "2024-09-10T06:55:22.220Z"
   },
   {
    "duration": 6,
    "start_time": "2024-09-10T06:55:22.247Z"
   },
   {
    "duration": 6,
    "start_time": "2024-09-10T06:55:22.254Z"
   },
   {
    "duration": 11,
    "start_time": "2024-09-10T06:55:22.261Z"
   },
   {
    "duration": 17,
    "start_time": "2024-09-10T06:55:22.274Z"
   },
   {
    "duration": 7,
    "start_time": "2024-09-10T06:55:22.293Z"
   },
   {
    "duration": 126,
    "start_time": "2024-09-10T06:55:22.301Z"
   },
   {
    "duration": 4,
    "start_time": "2024-09-10T06:55:22.429Z"
   },
   {
    "duration": 32,
    "start_time": "2024-09-10T06:55:22.434Z"
   },
   {
    "duration": 32,
    "start_time": "2024-09-10T06:55:22.469Z"
   },
   {
    "duration": 1390,
    "start_time": "2024-09-10T06:55:22.503Z"
   },
   {
    "duration": 5,
    "start_time": "2024-09-10T06:55:23.894Z"
   },
   {
    "duration": 855,
    "start_time": "2024-09-10T06:55:23.900Z"
   },
   {
    "duration": 0,
    "start_time": "2024-09-10T06:55:24.756Z"
   },
   {
    "duration": 0,
    "start_time": "2024-09-10T06:55:24.757Z"
   },
   {
    "duration": 0,
    "start_time": "2024-09-10T06:55:24.759Z"
   },
   {
    "duration": 0,
    "start_time": "2024-09-10T06:55:24.759Z"
   },
   {
    "duration": 0,
    "start_time": "2024-09-10T06:55:24.760Z"
   },
   {
    "duration": 1,
    "start_time": "2024-09-10T06:55:24.761Z"
   },
   {
    "duration": 0,
    "start_time": "2024-09-10T06:55:24.762Z"
   },
   {
    "duration": 0,
    "start_time": "2024-09-10T06:55:24.763Z"
   },
   {
    "duration": 0,
    "start_time": "2024-09-10T06:55:24.764Z"
   },
   {
    "duration": 0,
    "start_time": "2024-09-10T06:55:24.765Z"
   },
   {
    "duration": 0,
    "start_time": "2024-09-10T06:55:24.766Z"
   },
   {
    "duration": 0,
    "start_time": "2024-09-10T06:55:24.767Z"
   },
   {
    "duration": 0,
    "start_time": "2024-09-10T06:55:24.768Z"
   },
   {
    "duration": 0,
    "start_time": "2024-09-10T06:55:24.769Z"
   },
   {
    "duration": 0,
    "start_time": "2024-09-10T06:55:24.770Z"
   },
   {
    "duration": 0,
    "start_time": "2024-09-10T06:55:24.771Z"
   },
   {
    "duration": 0,
    "start_time": "2024-09-10T06:55:24.772Z"
   },
   {
    "duration": 0,
    "start_time": "2024-09-10T06:55:24.773Z"
   },
   {
    "duration": 0,
    "start_time": "2024-09-10T06:55:24.773Z"
   },
   {
    "duration": 11,
    "start_time": "2024-09-10T06:56:08.902Z"
   },
   {
    "duration": 15,
    "start_time": "2024-09-10T06:58:54.209Z"
   },
   {
    "duration": 8,
    "start_time": "2024-09-10T06:59:06.231Z"
   },
   {
    "duration": 9,
    "start_time": "2024-09-10T06:59:32.936Z"
   },
   {
    "duration": 7,
    "start_time": "2024-09-10T06:59:37.277Z"
   },
   {
    "duration": 7,
    "start_time": "2024-09-10T06:59:52.569Z"
   },
   {
    "duration": 8,
    "start_time": "2024-09-10T07:00:09.782Z"
   },
   {
    "duration": 80,
    "start_time": "2024-09-10T07:00:38.073Z"
   },
   {
    "duration": 15,
    "start_time": "2024-09-10T07:00:39.062Z"
   },
   {
    "duration": 6,
    "start_time": "2024-09-10T07:01:13.614Z"
   },
   {
    "duration": 16,
    "start_time": "2024-09-10T07:01:14.350Z"
   },
   {
    "duration": 7,
    "start_time": "2024-09-10T07:02:17.219Z"
   },
   {
    "duration": 1343,
    "start_time": "2024-09-10T07:02:17.840Z"
   },
   {
    "duration": 1143,
    "start_time": "2024-09-10T07:02:37.580Z"
   },
   {
    "duration": 79,
    "start_time": "2024-09-10T07:02:38.725Z"
   },
   {
    "duration": 4,
    "start_time": "2024-09-10T07:02:38.805Z"
   },
   {
    "duration": 40,
    "start_time": "2024-09-10T07:02:38.810Z"
   },
   {
    "duration": 13,
    "start_time": "2024-09-10T07:02:38.851Z"
   },
   {
    "duration": 91,
    "start_time": "2024-09-10T07:02:38.865Z"
   },
   {
    "duration": 22,
    "start_time": "2024-09-10T07:02:38.957Z"
   },
   {
    "duration": 32,
    "start_time": "2024-09-10T07:02:38.980Z"
   },
   {
    "duration": 33,
    "start_time": "2024-09-10T07:02:39.013Z"
   },
   {
    "duration": 13,
    "start_time": "2024-09-10T07:02:39.048Z"
   },
   {
    "duration": 17,
    "start_time": "2024-09-10T07:02:39.063Z"
   },
   {
    "duration": 82,
    "start_time": "2024-09-10T07:02:39.081Z"
   },
   {
    "duration": 12,
    "start_time": "2024-09-10T07:02:39.165Z"
   },
   {
    "duration": 11,
    "start_time": "2024-09-10T07:02:39.178Z"
   },
   {
    "duration": 14,
    "start_time": "2024-09-10T07:02:39.191Z"
   },
   {
    "duration": 21,
    "start_time": "2024-09-10T07:02:39.206Z"
   },
   {
    "duration": 10,
    "start_time": "2024-09-10T07:02:39.229Z"
   },
   {
    "duration": 15,
    "start_time": "2024-09-10T07:02:39.240Z"
   },
   {
    "duration": 28,
    "start_time": "2024-09-10T07:02:39.257Z"
   },
   {
    "duration": 5,
    "start_time": "2024-09-10T07:02:39.286Z"
   },
   {
    "duration": 9,
    "start_time": "2024-09-10T07:02:39.292Z"
   },
   {
    "duration": 20,
    "start_time": "2024-09-10T07:02:39.303Z"
   },
   {
    "duration": 21,
    "start_time": "2024-09-10T07:02:39.324Z"
   },
   {
    "duration": 9,
    "start_time": "2024-09-10T07:02:39.347Z"
   },
   {
    "duration": 120,
    "start_time": "2024-09-10T07:02:39.357Z"
   },
   {
    "duration": 4,
    "start_time": "2024-09-10T07:02:39.478Z"
   },
   {
    "duration": 7,
    "start_time": "2024-09-10T07:02:39.484Z"
   },
   {
    "duration": 9,
    "start_time": "2024-09-10T07:02:39.494Z"
   },
   {
    "duration": 1386,
    "start_time": "2024-09-10T07:02:39.505Z"
   },
   {
    "duration": 8,
    "start_time": "2024-09-10T07:02:40.892Z"
   },
   {
    "duration": 79,
    "start_time": "2024-09-10T07:02:40.901Z"
   },
   {
    "duration": 1507,
    "start_time": "2024-09-10T07:02:40.982Z"
   },
   {
    "duration": 21,
    "start_time": "2024-09-10T07:02:42.491Z"
   },
   {
    "duration": 5,
    "start_time": "2024-09-10T07:02:42.513Z"
   },
   {
    "duration": 53,
    "start_time": "2024-09-10T07:02:42.519Z"
   },
   {
    "duration": 2,
    "start_time": "2024-09-10T07:02:42.574Z"
   },
   {
    "duration": 16,
    "start_time": "2024-09-10T07:02:42.578Z"
   },
   {
    "duration": 46,
    "start_time": "2024-09-10T07:02:42.596Z"
   },
   {
    "duration": 39,
    "start_time": "2024-09-10T07:02:42.643Z"
   },
   {
    "duration": 4,
    "start_time": "2024-09-10T07:02:42.684Z"
   },
   {
    "duration": 95,
    "start_time": "2024-09-10T07:02:42.689Z"
   },
   {
    "duration": 32,
    "start_time": "2024-09-10T07:02:42.786Z"
   },
   {
    "duration": 43,
    "start_time": "2024-09-10T07:02:42.819Z"
   },
   {
    "duration": 110,
    "start_time": "2024-09-10T07:02:42.864Z"
   },
   {
    "duration": 448,
    "start_time": "2024-09-10T07:02:42.975Z"
   },
   {
    "duration": 3,
    "start_time": "2024-09-10T07:02:43.425Z"
   },
   {
    "duration": 366,
    "start_time": "2024-09-10T07:02:43.430Z"
   },
   {
    "duration": 9,
    "start_time": "2024-09-10T07:02:43.798Z"
   },
   {
    "duration": 18,
    "start_time": "2024-09-10T07:02:43.808Z"
   },
   {
    "duration": 2633,
    "start_time": "2024-09-10T07:02:43.827Z"
   },
   {
    "duration": 11,
    "start_time": "2024-09-10T07:02:46.461Z"
   },
   {
    "duration": 98,
    "start_time": "2024-09-10T07:10:15.384Z"
   },
   {
    "duration": 95,
    "start_time": "2024-09-10T07:10:43.341Z"
   },
   {
    "duration": 8,
    "start_time": "2024-09-10T07:20:45.783Z"
   },
   {
    "duration": 41,
    "start_time": "2024-09-10T07:20:46.377Z"
   },
   {
    "duration": 8,
    "start_time": "2024-09-10T07:22:21.927Z"
   },
   {
    "duration": 2,
    "start_time": "2024-09-10T07:22:22.439Z"
   },
   {
    "duration": 40,
    "start_time": "2024-09-10T07:22:23.014Z"
   },
   {
    "duration": 7,
    "start_time": "2024-09-10T07:22:23.794Z"
   },
   {
    "duration": 10,
    "start_time": "2024-09-10T07:22:54.769Z"
   },
   {
    "duration": 38,
    "start_time": "2024-09-10T07:24:12.663Z"
   },
   {
    "duration": 7,
    "start_time": "2024-09-10T07:24:13.204Z"
   },
   {
    "duration": 36,
    "start_time": "2024-09-10T07:24:18.911Z"
   },
   {
    "duration": 7,
    "start_time": "2024-09-10T07:24:20.256Z"
   },
   {
    "duration": 8,
    "start_time": "2024-09-10T07:24:26.347Z"
   },
   {
    "duration": 65,
    "start_time": "2024-09-10T07:25:04.050Z"
   },
   {
    "duration": 34,
    "start_time": "2024-09-10T07:25:11.689Z"
   },
   {
    "duration": 111,
    "start_time": "2024-09-10T07:27:13.455Z"
   },
   {
    "duration": 43,
    "start_time": "2024-09-10T07:27:48.606Z"
   },
   {
    "duration": 78,
    "start_time": "2024-09-10T07:30:08.782Z"
   },
   {
    "duration": 7,
    "start_time": "2024-09-10T07:30:09.577Z"
   },
   {
    "duration": 50,
    "start_time": "2024-09-10T07:31:42.411Z"
   },
   {
    "duration": 8,
    "start_time": "2024-09-10T07:31:46.423Z"
   },
   {
    "duration": 20,
    "start_time": "2024-09-10T07:32:38.627Z"
   },
   {
    "duration": 41,
    "start_time": "2024-09-10T07:33:03.250Z"
   },
   {
    "duration": 7,
    "start_time": "2024-09-10T07:33:04.902Z"
   },
   {
    "duration": 8,
    "start_time": "2024-09-10T07:33:19.908Z"
   },
   {
    "duration": 39,
    "start_time": "2024-09-10T07:33:55.626Z"
   },
   {
    "duration": 30,
    "start_time": "2024-09-10T07:34:17.232Z"
   },
   {
    "duration": 9,
    "start_time": "2024-09-10T07:34:17.899Z"
   },
   {
    "duration": 33,
    "start_time": "2024-09-10T07:34:49.582Z"
   },
   {
    "duration": 317,
    "start_time": "2024-09-10T07:42:51.323Z"
   },
   {
    "duration": 5,
    "start_time": "2024-09-10T07:43:30.711Z"
   },
   {
    "duration": 5,
    "start_time": "2024-09-10T07:44:52.250Z"
   },
   {
    "duration": 5,
    "start_time": "2024-09-10T07:45:13.793Z"
   },
   {
    "duration": 4,
    "start_time": "2024-09-10T07:45:37.805Z"
   },
   {
    "duration": 8,
    "start_time": "2024-09-10T07:50:30.808Z"
   },
   {
    "duration": 8,
    "start_time": "2024-09-10T07:50:43.101Z"
   },
   {
    "duration": 10,
    "start_time": "2024-09-10T08:01:09.549Z"
   },
   {
    "duration": 9,
    "start_time": "2024-09-10T08:01:18.785Z"
   },
   {
    "duration": 10,
    "start_time": "2024-09-10T08:01:22.742Z"
   },
   {
    "duration": 11,
    "start_time": "2024-09-10T08:01:31.275Z"
   },
   {
    "duration": 19,
    "start_time": "2024-09-10T08:02:09.012Z"
   },
   {
    "duration": 20,
    "start_time": "2024-09-10T08:02:28.516Z"
   },
   {
    "duration": 11,
    "start_time": "2024-09-10T08:07:00.634Z"
   },
   {
    "duration": 15,
    "start_time": "2024-09-10T08:07:19.986Z"
   },
   {
    "duration": 66,
    "start_time": "2024-09-10T08:07:34.242Z"
   },
   {
    "duration": 7,
    "start_time": "2024-09-10T08:07:45.497Z"
   },
   {
    "duration": 16,
    "start_time": "2024-09-10T08:09:26.534Z"
   },
   {
    "duration": 9,
    "start_time": "2024-09-10T08:09:27.095Z"
   },
   {
    "duration": 38,
    "start_time": "2024-09-10T08:09:28.111Z"
   },
   {
    "duration": 7,
    "start_time": "2024-09-10T08:09:28.514Z"
   },
   {
    "duration": 27,
    "start_time": "2024-09-10T08:10:59.854Z"
   },
   {
    "duration": 8,
    "start_time": "2024-09-10T08:11:48.338Z"
   },
   {
    "duration": 8,
    "start_time": "2024-09-10T08:12:21.474Z"
   },
   {
    "duration": 8,
    "start_time": "2024-09-10T08:12:37.740Z"
   },
   {
    "duration": 5,
    "start_time": "2024-09-10T08:13:38.247Z"
   },
   {
    "duration": 5,
    "start_time": "2024-09-10T08:13:49.148Z"
   },
   {
    "duration": 15,
    "start_time": "2024-09-10T08:14:27.691Z"
   },
   {
    "duration": 24,
    "start_time": "2024-09-10T08:14:57.051Z"
   },
   {
    "duration": 24,
    "start_time": "2024-09-10T08:15:10.937Z"
   },
   {
    "duration": 8,
    "start_time": "2024-09-10T08:15:51.573Z"
   },
   {
    "duration": 25,
    "start_time": "2024-09-10T08:15:52.158Z"
   },
   {
    "duration": 27,
    "start_time": "2024-09-10T08:17:29.388Z"
   },
   {
    "duration": 8,
    "start_time": "2024-09-10T08:17:33.101Z"
   },
   {
    "duration": 14,
    "start_time": "2024-09-10T08:17:48.965Z"
   },
   {
    "duration": 11,
    "start_time": "2024-09-10T08:17:49.507Z"
   },
   {
    "duration": 104,
    "start_time": "2024-09-10T08:18:36.188Z"
   },
   {
    "duration": 37,
    "start_time": "2024-09-10T08:18:46.233Z"
   },
   {
    "duration": 7,
    "start_time": "2024-09-10T08:18:46.995Z"
   },
   {
    "duration": 16,
    "start_time": "2024-09-10T08:18:53.934Z"
   },
   {
    "duration": 114,
    "start_time": "2024-09-10T08:20:40.276Z"
   },
   {
    "duration": 333,
    "start_time": "2024-09-10T08:20:45.725Z"
   },
   {
    "duration": 15,
    "start_time": "2024-09-10T08:20:52.051Z"
   },
   {
    "duration": 16,
    "start_time": "2024-09-10T08:21:15.110Z"
   },
   {
    "duration": 11,
    "start_time": "2024-09-10T08:21:39.161Z"
   },
   {
    "duration": 15,
    "start_time": "2024-09-10T08:21:50.843Z"
   },
   {
    "duration": 10,
    "start_time": "2024-09-10T08:21:57.036Z"
   },
   {
    "duration": 27,
    "start_time": "2024-09-10T08:22:21.538Z"
   },
   {
    "duration": 7,
    "start_time": "2024-09-10T08:22:22.422Z"
   },
   {
    "duration": 20,
    "start_time": "2024-09-10T08:22:39.335Z"
   },
   {
    "duration": 7,
    "start_time": "2024-09-10T08:22:39.991Z"
   },
   {
    "duration": 3,
    "start_time": "2024-09-10T08:22:41.120Z"
   },
   {
    "duration": 14,
    "start_time": "2024-09-10T08:22:41.540Z"
   },
   {
    "duration": 11,
    "start_time": "2024-09-10T08:22:42.214Z"
   },
   {
    "duration": 37,
    "start_time": "2024-09-10T08:22:44.445Z"
   },
   {
    "duration": 19,
    "start_time": "2024-09-10T08:23:16.244Z"
   },
   {
    "duration": 7,
    "start_time": "2024-09-10T08:23:16.908Z"
   },
   {
    "duration": 2,
    "start_time": "2024-09-10T08:23:17.739Z"
   },
   {
    "duration": 14,
    "start_time": "2024-09-10T08:23:18.393Z"
   },
   {
    "duration": 37,
    "start_time": "2024-09-10T08:23:19.392Z"
   },
   {
    "duration": 10,
    "start_time": "2024-09-10T08:23:19.988Z"
   },
   {
    "duration": 10,
    "start_time": "2024-09-10T08:23:29.053Z"
   },
   {
    "duration": 9,
    "start_time": "2024-09-10T08:23:33.655Z"
   },
   {
    "duration": 1328,
    "start_time": "2024-09-10T10:25:28.475Z"
   },
   {
    "duration": 117,
    "start_time": "2024-09-10T10:25:29.807Z"
   },
   {
    "duration": 3,
    "start_time": "2024-09-10T10:25:29.926Z"
   },
   {
    "duration": 34,
    "start_time": "2024-09-10T10:25:29.930Z"
   },
   {
    "duration": 14,
    "start_time": "2024-09-10T10:25:29.965Z"
   },
   {
    "duration": 12,
    "start_time": "2024-09-10T10:25:29.980Z"
   },
   {
    "duration": 4,
    "start_time": "2024-09-10T10:25:29.993Z"
   },
   {
    "duration": 40,
    "start_time": "2024-09-10T10:25:29.999Z"
   },
   {
    "duration": 31,
    "start_time": "2024-09-10T10:25:30.041Z"
   },
   {
    "duration": 25,
    "start_time": "2024-09-10T10:25:30.075Z"
   },
   {
    "duration": 15,
    "start_time": "2024-09-10T10:25:30.101Z"
   },
   {
    "duration": 111,
    "start_time": "2024-09-10T10:25:30.118Z"
   },
   {
    "duration": 11,
    "start_time": "2024-09-10T10:25:30.231Z"
   },
   {
    "duration": 18,
    "start_time": "2024-09-10T10:25:30.244Z"
   },
   {
    "duration": 28,
    "start_time": "2024-09-10T10:25:30.264Z"
   },
   {
    "duration": 13,
    "start_time": "2024-09-10T10:25:30.293Z"
   },
   {
    "duration": 30,
    "start_time": "2024-09-10T10:25:30.307Z"
   },
   {
    "duration": 15,
    "start_time": "2024-09-10T10:25:30.339Z"
   },
   {
    "duration": 32,
    "start_time": "2024-09-10T10:25:30.356Z"
   },
   {
    "duration": 14,
    "start_time": "2024-09-10T10:25:30.389Z"
   },
   {
    "duration": 57,
    "start_time": "2024-09-10T10:25:30.404Z"
   },
   {
    "duration": 26,
    "start_time": "2024-09-10T10:25:30.462Z"
   },
   {
    "duration": 34,
    "start_time": "2024-09-10T10:25:30.489Z"
   },
   {
    "duration": 29,
    "start_time": "2024-09-10T10:25:30.525Z"
   },
   {
    "duration": 131,
    "start_time": "2024-09-10T10:25:30.556Z"
   },
   {
    "duration": 4,
    "start_time": "2024-09-10T10:25:30.689Z"
   },
   {
    "duration": 12,
    "start_time": "2024-09-10T10:25:30.695Z"
   },
   {
    "duration": 2,
    "start_time": "2024-09-10T10:25:30.712Z"
   },
   {
    "duration": 1423,
    "start_time": "2024-09-10T10:25:30.716Z"
   },
   {
    "duration": 6,
    "start_time": "2024-09-10T10:25:32.141Z"
   },
   {
    "duration": 16,
    "start_time": "2024-09-10T10:25:32.149Z"
   },
   {
    "duration": 1549,
    "start_time": "2024-09-10T10:25:32.166Z"
   },
   {
    "duration": 20,
    "start_time": "2024-09-10T10:25:33.717Z"
   },
   {
    "duration": 17,
    "start_time": "2024-09-10T10:25:33.738Z"
   },
   {
    "duration": 56,
    "start_time": "2024-09-10T10:25:33.756Z"
   },
   {
    "duration": 26,
    "start_time": "2024-09-10T10:25:33.813Z"
   },
   {
    "duration": 26,
    "start_time": "2024-09-10T10:25:33.841Z"
   },
   {
    "duration": 86,
    "start_time": "2024-09-10T10:25:33.868Z"
   },
   {
    "duration": 17,
    "start_time": "2024-09-10T10:25:33.956Z"
   },
   {
    "duration": 114,
    "start_time": "2024-09-10T10:25:33.974Z"
   },
   {
    "duration": 40,
    "start_time": "2024-09-10T10:25:34.089Z"
   },
   {
    "duration": 8,
    "start_time": "2024-09-10T10:25:34.130Z"
   },
   {
    "duration": 33,
    "start_time": "2024-09-10T10:25:34.139Z"
   },
   {
    "duration": 10,
    "start_time": "2024-09-10T10:25:34.174Z"
   },
   {
    "duration": 20,
    "start_time": "2024-09-10T10:25:34.186Z"
   },
   {
    "duration": 28,
    "start_time": "2024-09-10T10:25:34.207Z"
   },
   {
    "duration": 65,
    "start_time": "2024-09-10T10:25:34.237Z"
   },
   {
    "duration": 12,
    "start_time": "2024-09-10T10:25:34.304Z"
   },
   {
    "duration": 63,
    "start_time": "2024-09-10T10:25:34.318Z"
   },
   {
    "duration": 27,
    "start_time": "2024-09-10T10:25:34.383Z"
   },
   {
    "duration": 512,
    "start_time": "2024-09-10T10:25:34.412Z"
   },
   {
    "duration": 4,
    "start_time": "2024-09-10T10:25:34.925Z"
   },
   {
    "duration": 345,
    "start_time": "2024-09-10T10:25:34.930Z"
   },
   {
    "duration": 10,
    "start_time": "2024-09-10T10:25:35.276Z"
   },
   {
    "duration": 33,
    "start_time": "2024-09-10T10:25:35.288Z"
   },
   {
    "duration": 2716,
    "start_time": "2024-09-10T10:25:35.323Z"
   },
   {
    "duration": 12,
    "start_time": "2024-09-10T10:25:38.041Z"
   },
   {
    "duration": 13,
    "start_time": "2024-09-10T10:26:44.912Z"
   },
   {
    "duration": 37,
    "start_time": "2024-09-10T10:26:47.735Z"
   },
   {
    "duration": 10,
    "start_time": "2024-09-10T10:26:48.635Z"
   },
   {
    "duration": 36,
    "start_time": "2024-09-10T10:27:21.252Z"
   },
   {
    "duration": 10,
    "start_time": "2024-09-10T10:27:22.179Z"
   },
   {
    "duration": 11,
    "start_time": "2024-09-10T10:28:15.176Z"
   },
   {
    "duration": 106,
    "start_time": "2024-09-10T10:29:25.957Z"
   },
   {
    "duration": 13,
    "start_time": "2024-09-10T10:29:48.105Z"
   },
   {
    "duration": 34,
    "start_time": "2024-09-10T10:29:49.325Z"
   },
   {
    "duration": 10,
    "start_time": "2024-09-10T10:29:49.729Z"
   },
   {
    "duration": 39,
    "start_time": "2024-09-10T10:31:10.765Z"
   },
   {
    "duration": 10,
    "start_time": "2024-09-10T10:31:11.361Z"
   },
   {
    "duration": 15,
    "start_time": "2024-09-10T10:32:22.516Z"
   },
   {
    "duration": 13,
    "start_time": "2024-09-10T10:32:30.961Z"
   },
   {
    "duration": 38,
    "start_time": "2024-09-10T10:32:33.513Z"
   },
   {
    "duration": 10,
    "start_time": "2024-09-10T10:32:34.258Z"
   },
   {
    "duration": 26,
    "start_time": "2024-09-10T10:36:20.127Z"
   },
   {
    "duration": 7,
    "start_time": "2024-09-10T10:36:51.888Z"
   },
   {
    "duration": 31,
    "start_time": "2024-09-10T10:36:57.568Z"
   },
   {
    "duration": 8,
    "start_time": "2024-09-10T10:37:00.500Z"
   },
   {
    "duration": 66,
    "start_time": "2024-09-10T10:38:01.715Z"
   },
   {
    "duration": 9,
    "start_time": "2024-09-10T10:38:06.982Z"
   },
   {
    "duration": 6,
    "start_time": "2024-09-10T10:38:27.020Z"
   },
   {
    "duration": 6,
    "start_time": "2024-09-10T10:38:43.996Z"
   },
   {
    "duration": 6,
    "start_time": "2024-09-10T10:39:05.101Z"
   },
   {
    "duration": 7,
    "start_time": "2024-09-10T10:39:13.255Z"
   },
   {
    "duration": 6,
    "start_time": "2024-09-10T10:39:18.905Z"
   },
   {
    "duration": 5,
    "start_time": "2024-09-10T10:39:25.401Z"
   },
   {
    "duration": 9,
    "start_time": "2024-09-10T10:40:07.121Z"
   },
   {
    "duration": 10,
    "start_time": "2024-09-10T10:40:20.649Z"
   },
   {
    "duration": 6,
    "start_time": "2024-09-10T10:40:58.091Z"
   },
   {
    "duration": 31,
    "start_time": "2024-09-10T10:40:58.649Z"
   },
   {
    "duration": 10,
    "start_time": "2024-09-10T10:40:59.699Z"
   },
   {
    "duration": 2,
    "start_time": "2024-09-10T10:41:01.889Z"
   },
   {
    "duration": 15,
    "start_time": "2024-09-10T10:41:02.324Z"
   },
   {
    "duration": 41,
    "start_time": "2024-09-10T10:41:02.841Z"
   },
   {
    "duration": 11,
    "start_time": "2024-09-10T10:41:03.585Z"
   },
   {
    "duration": 7,
    "start_time": "2024-09-10T10:41:37.990Z"
   },
   {
    "duration": 30,
    "start_time": "2024-09-10T10:41:38.384Z"
   },
   {
    "duration": 2,
    "start_time": "2024-09-10T10:41:38.865Z"
   },
   {
    "duration": 9,
    "start_time": "2024-09-10T10:41:39.302Z"
   },
   {
    "duration": 14,
    "start_time": "2024-09-10T10:41:39.880Z"
   },
   {
    "duration": 36,
    "start_time": "2024-09-10T10:41:40.379Z"
   },
   {
    "duration": 11,
    "start_time": "2024-09-10T10:41:41.008Z"
   },
   {
    "duration": 1290,
    "start_time": "2024-09-10T15:36:03.323Z"
   },
   {
    "duration": 135,
    "start_time": "2024-09-10T15:36:04.615Z"
   },
   {
    "duration": 3,
    "start_time": "2024-09-10T15:36:04.751Z"
   },
   {
    "duration": 32,
    "start_time": "2024-09-10T15:36:04.756Z"
   },
   {
    "duration": 14,
    "start_time": "2024-09-10T15:36:04.789Z"
   },
   {
    "duration": 14,
    "start_time": "2024-09-10T15:36:04.805Z"
   },
   {
    "duration": 17,
    "start_time": "2024-09-10T15:36:04.820Z"
   },
   {
    "duration": 17,
    "start_time": "2024-09-10T15:36:04.839Z"
   },
   {
    "duration": 21,
    "start_time": "2024-09-10T15:36:04.858Z"
   },
   {
    "duration": 14,
    "start_time": "2024-09-10T15:36:04.881Z"
   },
   {
    "duration": 6,
    "start_time": "2024-09-10T15:36:04.897Z"
   },
   {
    "duration": 71,
    "start_time": "2024-09-10T15:36:04.904Z"
   },
   {
    "duration": 12,
    "start_time": "2024-09-10T15:36:04.976Z"
   },
   {
    "duration": 10,
    "start_time": "2024-09-10T15:36:04.989Z"
   },
   {
    "duration": 20,
    "start_time": "2024-09-10T15:36:05.001Z"
   },
   {
    "duration": 10,
    "start_time": "2024-09-10T15:36:05.022Z"
   },
   {
    "duration": 11,
    "start_time": "2024-09-10T15:36:05.033Z"
   },
   {
    "duration": 4,
    "start_time": "2024-09-10T15:36:05.045Z"
   },
   {
    "duration": 27,
    "start_time": "2024-09-10T15:36:05.051Z"
   },
   {
    "duration": 4,
    "start_time": "2024-09-10T15:36:05.080Z"
   },
   {
    "duration": 11,
    "start_time": "2024-09-10T15:36:05.085Z"
   },
   {
    "duration": 35,
    "start_time": "2024-09-10T15:36:05.098Z"
   },
   {
    "duration": 23,
    "start_time": "2024-09-10T15:36:05.135Z"
   },
   {
    "duration": 7,
    "start_time": "2024-09-10T15:36:05.160Z"
   },
   {
    "duration": 117,
    "start_time": "2024-09-10T15:36:05.169Z"
   },
   {
    "duration": 4,
    "start_time": "2024-09-10T15:36:05.288Z"
   },
   {
    "duration": 15,
    "start_time": "2024-09-10T15:36:05.293Z"
   },
   {
    "duration": 13,
    "start_time": "2024-09-10T15:36:05.311Z"
   },
   {
    "duration": 1441,
    "start_time": "2024-09-10T15:36:05.325Z"
   },
   {
    "duration": 8,
    "start_time": "2024-09-10T15:36:06.767Z"
   },
   {
    "duration": 8,
    "start_time": "2024-09-10T15:36:06.776Z"
   },
   {
    "duration": 1543,
    "start_time": "2024-09-10T15:36:06.785Z"
   },
   {
    "duration": 18,
    "start_time": "2024-09-10T15:36:08.330Z"
   },
   {
    "duration": 22,
    "start_time": "2024-09-10T15:36:08.350Z"
   },
   {
    "duration": 32,
    "start_time": "2024-09-10T15:36:08.373Z"
   },
   {
    "duration": 4,
    "start_time": "2024-09-10T15:36:08.407Z"
   },
   {
    "duration": 16,
    "start_time": "2024-09-10T15:36:08.426Z"
   },
   {
    "duration": 61,
    "start_time": "2024-09-10T15:36:08.444Z"
   },
   {
    "duration": 6,
    "start_time": "2024-09-10T15:36:08.508Z"
   },
   {
    "duration": 91,
    "start_time": "2024-09-10T15:36:08.516Z"
   },
   {
    "duration": 42,
    "start_time": "2024-09-10T15:36:08.608Z"
   },
   {
    "duration": 6,
    "start_time": "2024-09-10T15:36:08.652Z"
   },
   {
    "duration": 30,
    "start_time": "2024-09-10T15:36:08.659Z"
   },
   {
    "duration": 2,
    "start_time": "2024-09-10T15:36:08.690Z"
   },
   {
    "duration": 35,
    "start_time": "2024-09-10T15:36:08.694Z"
   },
   {
    "duration": 14,
    "start_time": "2024-09-10T15:36:08.730Z"
   },
   {
    "duration": 35,
    "start_time": "2024-09-10T15:36:08.745Z"
   },
   {
    "duration": 10,
    "start_time": "2024-09-10T15:36:08.781Z"
   },
   {
    "duration": 48,
    "start_time": "2024-09-10T15:36:08.793Z"
   },
   {
    "duration": 17,
    "start_time": "2024-09-10T15:36:08.843Z"
   },
   {
    "duration": 476,
    "start_time": "2024-09-10T15:36:08.862Z"
   },
   {
    "duration": 3,
    "start_time": "2024-09-10T15:36:09.340Z"
   },
   {
    "duration": 387,
    "start_time": "2024-09-10T15:36:09.344Z"
   },
   {
    "duration": 10,
    "start_time": "2024-09-10T15:36:09.733Z"
   },
   {
    "duration": 48,
    "start_time": "2024-09-10T15:36:09.744Z"
   },
   {
    "duration": 2675,
    "start_time": "2024-09-10T15:36:09.793Z"
   },
   {
    "duration": 11,
    "start_time": "2024-09-10T15:36:12.469Z"
   },
   {
    "duration": 10,
    "start_time": "2024-09-10T15:39:39.522Z"
   },
   {
    "duration": 24,
    "start_time": "2024-09-10T16:00:08.120Z"
   },
   {
    "duration": 106,
    "start_time": "2024-09-10T16:12:59.783Z"
   },
   {
    "duration": 9,
    "start_time": "2024-09-10T16:14:35.067Z"
   },
   {
    "duration": 136,
    "start_time": "2024-09-10T16:14:47.066Z"
   },
   {
    "duration": 138,
    "start_time": "2024-09-10T16:15:22.102Z"
   },
   {
    "duration": 139,
    "start_time": "2024-09-10T16:15:53.008Z"
   },
   {
    "duration": 190,
    "start_time": "2024-09-10T16:16:21.210Z"
   },
   {
    "duration": 136,
    "start_time": "2024-09-10T16:16:55.527Z"
   },
   {
    "duration": 206,
    "start_time": "2024-09-10T16:17:23.406Z"
   },
   {
    "duration": 3,
    "start_time": "2024-09-10T16:18:18.041Z"
   },
   {
    "duration": 142,
    "start_time": "2024-09-10T16:18:38.350Z"
   },
   {
    "duration": 133,
    "start_time": "2024-09-10T16:18:48.579Z"
   },
   {
    "duration": 136,
    "start_time": "2024-09-10T16:19:30.746Z"
   },
   {
    "duration": 231,
    "start_time": "2024-09-10T16:20:28.671Z"
   },
   {
    "duration": 129,
    "start_time": "2024-09-10T16:22:46.573Z"
   },
   {
    "duration": 7,
    "start_time": "2024-09-10T16:23:24.080Z"
   },
   {
    "duration": 10,
    "start_time": "2024-09-10T16:23:50.388Z"
   },
   {
    "duration": 38,
    "start_time": "2024-09-10T16:29:01.349Z"
   },
   {
    "duration": 12,
    "start_time": "2024-09-10T16:29:02.091Z"
   },
   {
    "duration": 2456,
    "start_time": "2024-09-10T16:44:06.582Z"
   },
   {
    "duration": 10,
    "start_time": "2024-09-10T16:44:11.770Z"
   },
   {
    "duration": 1109,
    "start_time": "2024-09-10T16:44:25.640Z"
   },
   {
    "duration": 66,
    "start_time": "2024-09-10T16:44:26.751Z"
   },
   {
    "duration": 4,
    "start_time": "2024-09-10T16:44:26.821Z"
   },
   {
    "duration": 34,
    "start_time": "2024-09-10T16:44:26.826Z"
   },
   {
    "duration": 12,
    "start_time": "2024-09-10T16:44:26.862Z"
   },
   {
    "duration": 10,
    "start_time": "2024-09-10T16:44:26.875Z"
   },
   {
    "duration": 2,
    "start_time": "2024-09-10T16:44:26.887Z"
   },
   {
    "duration": 14,
    "start_time": "2024-09-10T16:44:26.890Z"
   },
   {
    "duration": 5,
    "start_time": "2024-09-10T16:44:26.906Z"
   },
   {
    "duration": 14,
    "start_time": "2024-09-10T16:44:26.913Z"
   },
   {
    "duration": 5,
    "start_time": "2024-09-10T16:44:26.928Z"
   },
   {
    "duration": 61,
    "start_time": "2024-09-10T16:44:26.934Z"
   },
   {
    "duration": 10,
    "start_time": "2024-09-10T16:44:26.997Z"
   },
   {
    "duration": 16,
    "start_time": "2024-09-10T16:44:27.009Z"
   },
   {
    "duration": 14,
    "start_time": "2024-09-10T16:44:27.026Z"
   },
   {
    "duration": 8,
    "start_time": "2024-09-10T16:44:27.041Z"
   },
   {
    "duration": 8,
    "start_time": "2024-09-10T16:44:27.051Z"
   },
   {
    "duration": 4,
    "start_time": "2024-09-10T16:44:27.060Z"
   },
   {
    "duration": 16,
    "start_time": "2024-09-10T16:44:27.065Z"
   },
   {
    "duration": 4,
    "start_time": "2024-09-10T16:44:27.083Z"
   },
   {
    "duration": 38,
    "start_time": "2024-09-10T16:44:27.088Z"
   },
   {
    "duration": 7,
    "start_time": "2024-09-10T16:44:27.128Z"
   },
   {
    "duration": 11,
    "start_time": "2024-09-10T16:44:27.136Z"
   },
   {
    "duration": 6,
    "start_time": "2024-09-10T16:44:27.148Z"
   },
   {
    "duration": 113,
    "start_time": "2024-09-10T16:44:27.156Z"
   },
   {
    "duration": 4,
    "start_time": "2024-09-10T16:44:27.270Z"
   },
   {
    "duration": 5,
    "start_time": "2024-09-10T16:44:27.277Z"
   },
   {
    "duration": 4,
    "start_time": "2024-09-10T16:44:27.283Z"
   },
   {
    "duration": 1290,
    "start_time": "2024-09-10T16:44:27.288Z"
   },
   {
    "duration": 7,
    "start_time": "2024-09-10T16:44:28.579Z"
   },
   {
    "duration": 8,
    "start_time": "2024-09-10T16:44:28.587Z"
   },
   {
    "duration": 1429,
    "start_time": "2024-09-10T16:44:28.596Z"
   },
   {
    "duration": 17,
    "start_time": "2024-09-10T16:44:30.027Z"
   },
   {
    "duration": 13,
    "start_time": "2024-09-10T16:44:30.045Z"
   },
   {
    "duration": 48,
    "start_time": "2024-09-10T16:44:30.059Z"
   },
   {
    "duration": 2,
    "start_time": "2024-09-10T16:44:30.109Z"
   },
   {
    "duration": 5,
    "start_time": "2024-09-10T16:44:30.112Z"
   },
   {
    "duration": 47,
    "start_time": "2024-09-10T16:44:30.118Z"
   },
   {
    "duration": 4,
    "start_time": "2024-09-10T16:44:30.166Z"
   },
   {
    "duration": 93,
    "start_time": "2024-09-10T16:44:30.171Z"
   },
   {
    "duration": 32,
    "start_time": "2024-09-10T16:44:30.265Z"
   },
   {
    "duration": 7,
    "start_time": "2024-09-10T16:44:30.299Z"
   },
   {
    "duration": 47,
    "start_time": "2024-09-10T16:44:30.307Z"
   },
   {
    "duration": 2,
    "start_time": "2024-09-10T16:44:30.356Z"
   },
   {
    "duration": 13,
    "start_time": "2024-09-10T16:44:30.360Z"
   },
   {
    "duration": 13,
    "start_time": "2024-09-10T16:44:30.374Z"
   },
   {
    "duration": 52,
    "start_time": "2024-09-10T16:44:30.389Z"
   },
   {
    "duration": 10,
    "start_time": "2024-09-10T16:44:30.443Z"
   },
   {
    "duration": 135,
    "start_time": "2024-09-10T16:44:30.454Z"
   },
   {
    "duration": 24,
    "start_time": "2024-09-10T16:44:30.591Z"
   },
   {
    "duration": 9,
    "start_time": "2024-09-10T16:44:30.626Z"
   },
   {
    "duration": 422,
    "start_time": "2024-09-10T16:44:30.636Z"
   },
   {
    "duration": 3,
    "start_time": "2024-09-10T16:44:31.059Z"
   },
   {
    "duration": 301,
    "start_time": "2024-09-10T16:44:31.063Z"
   },
   {
    "duration": 9,
    "start_time": "2024-09-10T16:44:31.366Z"
   },
   {
    "duration": 14,
    "start_time": "2024-09-10T16:44:31.377Z"
   },
   {
    "duration": 2526,
    "start_time": "2024-09-10T16:44:31.393Z"
   },
   {
    "duration": 10,
    "start_time": "2024-09-10T16:44:33.925Z"
   },
   {
    "duration": 1092,
    "start_time": "2024-09-10T17:35:06.008Z"
   },
   {
    "duration": 184,
    "start_time": "2024-09-10T17:35:07.102Z"
   },
   {
    "duration": 3,
    "start_time": "2024-09-10T17:35:07.288Z"
   },
   {
    "duration": 60,
    "start_time": "2024-09-10T17:35:07.292Z"
   },
   {
    "duration": 12,
    "start_time": "2024-09-10T17:35:07.354Z"
   },
   {
    "duration": 30,
    "start_time": "2024-09-10T17:35:07.367Z"
   },
   {
    "duration": 3,
    "start_time": "2024-09-10T17:35:07.398Z"
   },
   {
    "duration": 29,
    "start_time": "2024-09-10T17:35:07.403Z"
   },
   {
    "duration": 49,
    "start_time": "2024-09-10T17:35:07.434Z"
   },
   {
    "duration": 38,
    "start_time": "2024-09-10T17:35:07.484Z"
   },
   {
    "duration": 3,
    "start_time": "2024-09-10T17:35:07.523Z"
   },
   {
    "duration": 78,
    "start_time": "2024-09-10T17:35:07.527Z"
   },
   {
    "duration": 11,
    "start_time": "2024-09-10T17:35:07.607Z"
   },
   {
    "duration": 99,
    "start_time": "2024-09-10T17:35:07.622Z"
   },
   {
    "duration": 32,
    "start_time": "2024-09-10T17:35:07.723Z"
   },
   {
    "duration": 29,
    "start_time": "2024-09-10T17:35:07.757Z"
   },
   {
    "duration": 14,
    "start_time": "2024-09-10T17:35:07.787Z"
   },
   {
    "duration": 9,
    "start_time": "2024-09-10T17:35:07.802Z"
   },
   {
    "duration": 26,
    "start_time": "2024-09-10T17:35:07.812Z"
   },
   {
    "duration": 8,
    "start_time": "2024-09-10T17:35:07.839Z"
   },
   {
    "duration": 22,
    "start_time": "2024-09-10T17:35:07.848Z"
   },
   {
    "duration": 31,
    "start_time": "2024-09-10T17:35:07.871Z"
   },
   {
    "duration": 25,
    "start_time": "2024-09-10T17:35:07.903Z"
   },
   {
    "duration": 10,
    "start_time": "2024-09-10T17:35:07.929Z"
   },
   {
    "duration": 291,
    "start_time": "2024-09-10T17:35:07.940Z"
   },
   {
    "duration": 4,
    "start_time": "2024-09-10T17:35:08.233Z"
   },
   {
    "duration": 9,
    "start_time": "2024-09-10T17:35:08.238Z"
   },
   {
    "duration": 7,
    "start_time": "2024-09-10T17:35:08.248Z"
   },
   {
    "duration": 1402,
    "start_time": "2024-09-10T17:35:08.257Z"
   },
   {
    "duration": 6,
    "start_time": "2024-09-10T17:35:09.661Z"
   },
   {
    "duration": 30,
    "start_time": "2024-09-10T17:35:09.669Z"
   },
   {
    "duration": 1508,
    "start_time": "2024-09-10T17:35:09.700Z"
   },
   {
    "duration": 25,
    "start_time": "2024-09-10T17:35:11.210Z"
   },
   {
    "duration": 16,
    "start_time": "2024-09-10T17:35:11.236Z"
   },
   {
    "duration": 62,
    "start_time": "2024-09-10T17:35:11.254Z"
   },
   {
    "duration": 6,
    "start_time": "2024-09-10T17:35:11.318Z"
   },
   {
    "duration": 71,
    "start_time": "2024-09-10T17:35:11.326Z"
   },
   {
    "duration": 67,
    "start_time": "2024-09-10T17:35:11.398Z"
   },
   {
    "duration": 6,
    "start_time": "2024-09-10T17:35:11.467Z"
   },
   {
    "duration": 94,
    "start_time": "2024-09-10T17:35:11.474Z"
   },
   {
    "duration": 39,
    "start_time": "2024-09-10T17:35:11.571Z"
   },
   {
    "duration": 34,
    "start_time": "2024-09-10T17:35:11.612Z"
   },
   {
    "duration": 50,
    "start_time": "2024-09-10T17:35:11.647Z"
   },
   {
    "duration": 16,
    "start_time": "2024-09-10T17:35:11.698Z"
   },
   {
    "duration": 12,
    "start_time": "2024-09-10T17:35:11.716Z"
   },
   {
    "duration": 33,
    "start_time": "2024-09-10T17:35:11.729Z"
   },
   {
    "duration": 35,
    "start_time": "2024-09-10T17:35:11.764Z"
   },
   {
    "duration": 9,
    "start_time": "2024-09-10T17:35:11.800Z"
   },
   {
    "duration": 140,
    "start_time": "2024-09-10T17:35:11.811Z"
   },
   {
    "duration": 26,
    "start_time": "2024-09-10T17:35:11.952Z"
   },
   {
    "duration": 141,
    "start_time": "2024-09-10T17:35:11.980Z"
   },
   {
    "duration": 479,
    "start_time": "2024-09-10T17:35:12.123Z"
   },
   {
    "duration": 3,
    "start_time": "2024-09-10T17:35:12.604Z"
   },
   {
    "duration": 327,
    "start_time": "2024-09-10T17:35:12.612Z"
   },
   {
    "duration": 9,
    "start_time": "2024-09-10T17:35:12.941Z"
   },
   {
    "duration": 32,
    "start_time": "2024-09-10T17:35:12.951Z"
   },
   {
    "duration": 2658,
    "start_time": "2024-09-10T17:35:12.984Z"
   },
   {
    "duration": 10,
    "start_time": "2024-09-10T17:35:15.643Z"
   },
   {
    "duration": 1182,
    "start_time": "2024-09-10T18:05:18.724Z"
   },
   {
    "duration": 70,
    "start_time": "2024-09-10T18:05:19.908Z"
   },
   {
    "duration": 3,
    "start_time": "2024-09-10T18:05:19.980Z"
   },
   {
    "duration": 37,
    "start_time": "2024-09-10T18:05:19.985Z"
   },
   {
    "duration": 14,
    "start_time": "2024-09-10T18:05:20.023Z"
   },
   {
    "duration": 12,
    "start_time": "2024-09-10T18:05:20.039Z"
   },
   {
    "duration": 3,
    "start_time": "2024-09-10T18:05:20.052Z"
   },
   {
    "duration": 17,
    "start_time": "2024-09-10T18:05:20.056Z"
   },
   {
    "duration": 13,
    "start_time": "2024-09-10T18:05:20.074Z"
   },
   {
    "duration": 42,
    "start_time": "2024-09-10T18:05:20.089Z"
   },
   {
    "duration": 2,
    "start_time": "2024-09-10T18:05:20.134Z"
   },
   {
    "duration": 109,
    "start_time": "2024-09-10T18:05:20.138Z"
   },
   {
    "duration": 13,
    "start_time": "2024-09-10T18:05:20.248Z"
   },
   {
    "duration": 17,
    "start_time": "2024-09-10T18:05:20.263Z"
   },
   {
    "duration": 15,
    "start_time": "2024-09-10T18:05:20.282Z"
   },
   {
    "duration": 26,
    "start_time": "2024-09-10T18:05:20.299Z"
   },
   {
    "duration": 10,
    "start_time": "2024-09-10T18:05:20.327Z"
   },
   {
    "duration": 4,
    "start_time": "2024-09-10T18:05:20.339Z"
   },
   {
    "duration": 20,
    "start_time": "2024-09-10T18:05:20.345Z"
   },
   {
    "duration": 5,
    "start_time": "2024-09-10T18:05:20.367Z"
   },
   {
    "duration": 6,
    "start_time": "2024-09-10T18:05:20.373Z"
   },
   {
    "duration": 4,
    "start_time": "2024-09-10T18:05:20.381Z"
   },
   {
    "duration": 19,
    "start_time": "2024-09-10T18:05:20.426Z"
   },
   {
    "duration": 22,
    "start_time": "2024-09-10T18:05:20.448Z"
   },
   {
    "duration": 156,
    "start_time": "2024-09-10T18:05:20.473Z"
   },
   {
    "duration": 4,
    "start_time": "2024-09-10T18:05:20.631Z"
   },
   {
    "duration": 14,
    "start_time": "2024-09-10T18:05:20.636Z"
   },
   {
    "duration": 3,
    "start_time": "2024-09-10T18:05:20.654Z"
   },
   {
    "duration": 1527,
    "start_time": "2024-09-10T18:05:20.658Z"
   },
   {
    "duration": 7,
    "start_time": "2024-09-10T18:05:22.187Z"
   },
   {
    "duration": 56,
    "start_time": "2024-09-10T18:05:22.196Z"
   },
   {
    "duration": 1503,
    "start_time": "2024-09-10T18:05:22.255Z"
   },
   {
    "duration": 19,
    "start_time": "2024-09-10T18:05:23.759Z"
   },
   {
    "duration": 3,
    "start_time": "2024-09-10T18:05:23.779Z"
   },
   {
    "duration": 48,
    "start_time": "2024-09-10T18:05:23.784Z"
   },
   {
    "duration": 3,
    "start_time": "2024-09-10T18:05:23.833Z"
   },
   {
    "duration": 4,
    "start_time": "2024-09-10T18:05:23.838Z"
   },
   {
    "duration": 46,
    "start_time": "2024-09-10T18:05:23.843Z"
   },
   {
    "duration": 5,
    "start_time": "2024-09-10T18:05:23.890Z"
   },
   {
    "duration": 116,
    "start_time": "2024-09-10T18:05:23.897Z"
   },
   {
    "duration": 40,
    "start_time": "2024-09-10T18:05:24.014Z"
   },
   {
    "duration": 7,
    "start_time": "2024-09-10T18:05:24.056Z"
   },
   {
    "duration": 30,
    "start_time": "2024-09-10T18:05:24.065Z"
   },
   {
    "duration": 3,
    "start_time": "2024-09-10T18:05:24.097Z"
   },
   {
    "duration": 9,
    "start_time": "2024-09-10T18:05:24.125Z"
   },
   {
    "duration": 14,
    "start_time": "2024-09-10T18:05:24.136Z"
   },
   {
    "duration": 39,
    "start_time": "2024-09-10T18:05:24.151Z"
   },
   {
    "duration": 39,
    "start_time": "2024-09-10T18:05:24.192Z"
   },
   {
    "duration": 167,
    "start_time": "2024-09-10T18:05:24.233Z"
   },
   {
    "duration": 32,
    "start_time": "2024-09-10T18:05:24.402Z"
   },
   {
    "duration": 40,
    "start_time": "2024-09-10T18:05:24.436Z"
   },
   {
    "duration": 456,
    "start_time": "2024-09-10T18:05:24.478Z"
   },
   {
    "duration": 3,
    "start_time": "2024-09-10T18:05:24.936Z"
   },
   {
    "duration": 328,
    "start_time": "2024-09-10T18:05:24.940Z"
   },
   {
    "duration": 10,
    "start_time": "2024-09-10T18:05:25.270Z"
   },
   {
    "duration": 18,
    "start_time": "2024-09-10T18:05:25.281Z"
   },
   {
    "duration": 2626,
    "start_time": "2024-09-10T18:05:25.301Z"
   },
   {
    "duration": 10,
    "start_time": "2024-09-10T18:05:27.929Z"
   }
  ],
  "kernelspec": {
   "display_name": "Python 3 (ipykernel)",
   "language": "python",
   "name": "python3"
  },
  "language_info": {
   "codemirror_mode": {
    "name": "ipython",
    "version": 3
   },
   "file_extension": ".py",
   "mimetype": "text/x-python",
   "name": "python",
   "nbconvert_exporter": "python",
   "pygments_lexer": "ipython3",
   "version": "3.11.5"
  },
  "toc": {
   "base_numbering": 1,
   "nav_menu": {
    "height": "586px",
    "width": "418px"
   },
   "number_sections": true,
   "sideBar": true,
   "skip_h1_title": true,
   "title_cell": "Table of Contents",
   "title_sidebar": "Contents",
   "toc_cell": false,
   "toc_position": {},
   "toc_section_display": true,
   "toc_window_display": true
  }
 },
 "nbformat": 4,
 "nbformat_minor": 5
}
