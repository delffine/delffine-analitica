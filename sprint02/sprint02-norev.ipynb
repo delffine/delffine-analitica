{
 "cells": [
  {
   "cell_type": "markdown",
   "id": "386f2ae7",
   "metadata": {
    "deletable": false,
    "editable": false,
    "id": "386f2ae7"
   },
   "source": [
    "# Исследование надежности заемщиков\n"
   ]
  },
  {
   "cell_type": "markdown",
   "id": "ffe86f65",
   "metadata": {
    "deletable": false,
    "editable": false,
    "id": "ffe86f65"
   },
   "source": [
    "Во второй части проекта вы выполните шаги 3 и 4. Их вручную проверит ревьюер.\n",
    "Чтобы вам не пришлось писать код заново для шагов 1 и 2, мы добавили авторские решения в ячейки с кодом. \n",
    "\n"
   ]
  },
  {
   "cell_type": "markdown",
   "id": "26613308",
   "metadata": {
    "deletable": false,
    "editable": false,
    "id": "26613308"
   },
   "source": [
    "## Откройте таблицу и изучите общую информацию о данных"
   ]
  },
  {
   "cell_type": "markdown",
   "id": "3c9f838e",
   "metadata": {
    "deletable": false,
    "editable": false,
    "id": "3c9f838e"
   },
   "source": [
    "**Задание 1. Импортируйте библиотеку pandas. Считайте данные из csv-файла в датафрейм и сохраните в переменную `data`. Путь к файлу:**\n",
    "\n",
    "`/datasets/data.csv`"
   ]
  },
  {
   "cell_type": "code",
   "execution_count": 1,
   "id": "77a68a90",
   "metadata": {
    "deletable": false,
    "id": "77a68a90"
   },
   "outputs": [],
   "source": [
    "import pandas as pd\n",
    "\n",
    "try:\n",
    "    data = pd.read_csv('/datasets/data.csv')\n",
    "except:\n",
    "    data = pd.read_csv('https://code.s3.yandex.net/datasets/data.csv')"
   ]
  },
  {
   "cell_type": "markdown",
   "id": "45365635",
   "metadata": {
    "deletable": false,
    "editable": false,
    "id": "45365635"
   },
   "source": [
    "**Задание 2. Выведите первые 20 строчек датафрейма `data` на экран.**"
   ]
  },
  {
   "cell_type": "code",
   "execution_count": 2,
   "id": "b0451a9a",
   "metadata": {
    "deletable": false,
    "id": "b0451a9a",
    "outputId": "1a8f3ef2-d323-4ec2-ddf7-89670b5944c4"
   },
   "outputs": [
    {
     "data": {
      "text/html": [
       "<div>\n",
       "<style scoped>\n",
       "    .dataframe tbody tr th:only-of-type {\n",
       "        vertical-align: middle;\n",
       "    }\n",
       "\n",
       "    .dataframe tbody tr th {\n",
       "        vertical-align: top;\n",
       "    }\n",
       "\n",
       "    .dataframe thead th {\n",
       "        text-align: right;\n",
       "    }\n",
       "</style>\n",
       "<table border=\"1\" class=\"dataframe\">\n",
       "  <thead>\n",
       "    <tr style=\"text-align: right;\">\n",
       "      <th></th>\n",
       "      <th>children</th>\n",
       "      <th>days_employed</th>\n",
       "      <th>dob_years</th>\n",
       "      <th>education</th>\n",
       "      <th>education_id</th>\n",
       "      <th>family_status</th>\n",
       "      <th>family_status_id</th>\n",
       "      <th>gender</th>\n",
       "      <th>income_type</th>\n",
       "      <th>debt</th>\n",
       "      <th>total_income</th>\n",
       "      <th>purpose</th>\n",
       "    </tr>\n",
       "  </thead>\n",
       "  <tbody>\n",
       "    <tr>\n",
       "      <th>0</th>\n",
       "      <td>1</td>\n",
       "      <td>-8437.673028</td>\n",
       "      <td>42</td>\n",
       "      <td>высшее</td>\n",
       "      <td>0</td>\n",
       "      <td>женат / замужем</td>\n",
       "      <td>0</td>\n",
       "      <td>F</td>\n",
       "      <td>сотрудник</td>\n",
       "      <td>0</td>\n",
       "      <td>253875.639453</td>\n",
       "      <td>покупка жилья</td>\n",
       "    </tr>\n",
       "    <tr>\n",
       "      <th>1</th>\n",
       "      <td>1</td>\n",
       "      <td>-4024.803754</td>\n",
       "      <td>36</td>\n",
       "      <td>среднее</td>\n",
       "      <td>1</td>\n",
       "      <td>женат / замужем</td>\n",
       "      <td>0</td>\n",
       "      <td>F</td>\n",
       "      <td>сотрудник</td>\n",
       "      <td>0</td>\n",
       "      <td>112080.014102</td>\n",
       "      <td>приобретение автомобиля</td>\n",
       "    </tr>\n",
       "    <tr>\n",
       "      <th>2</th>\n",
       "      <td>0</td>\n",
       "      <td>-5623.422610</td>\n",
       "      <td>33</td>\n",
       "      <td>Среднее</td>\n",
       "      <td>1</td>\n",
       "      <td>женат / замужем</td>\n",
       "      <td>0</td>\n",
       "      <td>M</td>\n",
       "      <td>сотрудник</td>\n",
       "      <td>0</td>\n",
       "      <td>145885.952297</td>\n",
       "      <td>покупка жилья</td>\n",
       "    </tr>\n",
       "    <tr>\n",
       "      <th>3</th>\n",
       "      <td>3</td>\n",
       "      <td>-4124.747207</td>\n",
       "      <td>32</td>\n",
       "      <td>среднее</td>\n",
       "      <td>1</td>\n",
       "      <td>женат / замужем</td>\n",
       "      <td>0</td>\n",
       "      <td>M</td>\n",
       "      <td>сотрудник</td>\n",
       "      <td>0</td>\n",
       "      <td>267628.550329</td>\n",
       "      <td>дополнительное образование</td>\n",
       "    </tr>\n",
       "    <tr>\n",
       "      <th>4</th>\n",
       "      <td>0</td>\n",
       "      <td>340266.072047</td>\n",
       "      <td>53</td>\n",
       "      <td>среднее</td>\n",
       "      <td>1</td>\n",
       "      <td>гражданский брак</td>\n",
       "      <td>1</td>\n",
       "      <td>F</td>\n",
       "      <td>пенсионер</td>\n",
       "      <td>0</td>\n",
       "      <td>158616.077870</td>\n",
       "      <td>сыграть свадьбу</td>\n",
       "    </tr>\n",
       "    <tr>\n",
       "      <th>5</th>\n",
       "      <td>0</td>\n",
       "      <td>-926.185831</td>\n",
       "      <td>27</td>\n",
       "      <td>высшее</td>\n",
       "      <td>0</td>\n",
       "      <td>гражданский брак</td>\n",
       "      <td>1</td>\n",
       "      <td>M</td>\n",
       "      <td>компаньон</td>\n",
       "      <td>0</td>\n",
       "      <td>255763.565419</td>\n",
       "      <td>покупка жилья</td>\n",
       "    </tr>\n",
       "    <tr>\n",
       "      <th>6</th>\n",
       "      <td>0</td>\n",
       "      <td>-2879.202052</td>\n",
       "      <td>43</td>\n",
       "      <td>высшее</td>\n",
       "      <td>0</td>\n",
       "      <td>женат / замужем</td>\n",
       "      <td>0</td>\n",
       "      <td>F</td>\n",
       "      <td>компаньон</td>\n",
       "      <td>0</td>\n",
       "      <td>240525.971920</td>\n",
       "      <td>операции с жильем</td>\n",
       "    </tr>\n",
       "    <tr>\n",
       "      <th>7</th>\n",
       "      <td>0</td>\n",
       "      <td>-152.779569</td>\n",
       "      <td>50</td>\n",
       "      <td>СРЕДНЕЕ</td>\n",
       "      <td>1</td>\n",
       "      <td>женат / замужем</td>\n",
       "      <td>0</td>\n",
       "      <td>M</td>\n",
       "      <td>сотрудник</td>\n",
       "      <td>0</td>\n",
       "      <td>135823.934197</td>\n",
       "      <td>образование</td>\n",
       "    </tr>\n",
       "    <tr>\n",
       "      <th>8</th>\n",
       "      <td>2</td>\n",
       "      <td>-6929.865299</td>\n",
       "      <td>35</td>\n",
       "      <td>ВЫСШЕЕ</td>\n",
       "      <td>0</td>\n",
       "      <td>гражданский брак</td>\n",
       "      <td>1</td>\n",
       "      <td>F</td>\n",
       "      <td>сотрудник</td>\n",
       "      <td>0</td>\n",
       "      <td>95856.832424</td>\n",
       "      <td>на проведение свадьбы</td>\n",
       "    </tr>\n",
       "    <tr>\n",
       "      <th>9</th>\n",
       "      <td>0</td>\n",
       "      <td>-2188.756445</td>\n",
       "      <td>41</td>\n",
       "      <td>среднее</td>\n",
       "      <td>1</td>\n",
       "      <td>женат / замужем</td>\n",
       "      <td>0</td>\n",
       "      <td>M</td>\n",
       "      <td>сотрудник</td>\n",
       "      <td>0</td>\n",
       "      <td>144425.938277</td>\n",
       "      <td>покупка жилья для семьи</td>\n",
       "    </tr>\n",
       "    <tr>\n",
       "      <th>10</th>\n",
       "      <td>2</td>\n",
       "      <td>-4171.483647</td>\n",
       "      <td>36</td>\n",
       "      <td>высшее</td>\n",
       "      <td>0</td>\n",
       "      <td>женат / замужем</td>\n",
       "      <td>0</td>\n",
       "      <td>M</td>\n",
       "      <td>компаньон</td>\n",
       "      <td>0</td>\n",
       "      <td>113943.491460</td>\n",
       "      <td>покупка недвижимости</td>\n",
       "    </tr>\n",
       "    <tr>\n",
       "      <th>11</th>\n",
       "      <td>0</td>\n",
       "      <td>-792.701887</td>\n",
       "      <td>40</td>\n",
       "      <td>среднее</td>\n",
       "      <td>1</td>\n",
       "      <td>женат / замужем</td>\n",
       "      <td>0</td>\n",
       "      <td>F</td>\n",
       "      <td>сотрудник</td>\n",
       "      <td>0</td>\n",
       "      <td>77069.234271</td>\n",
       "      <td>покупка коммерческой недвижимости</td>\n",
       "    </tr>\n",
       "    <tr>\n",
       "      <th>12</th>\n",
       "      <td>0</td>\n",
       "      <td>NaN</td>\n",
       "      <td>65</td>\n",
       "      <td>среднее</td>\n",
       "      <td>1</td>\n",
       "      <td>гражданский брак</td>\n",
       "      <td>1</td>\n",
       "      <td>M</td>\n",
       "      <td>пенсионер</td>\n",
       "      <td>0</td>\n",
       "      <td>NaN</td>\n",
       "      <td>сыграть свадьбу</td>\n",
       "    </tr>\n",
       "    <tr>\n",
       "      <th>13</th>\n",
       "      <td>0</td>\n",
       "      <td>-1846.641941</td>\n",
       "      <td>54</td>\n",
       "      <td>неоконченное высшее</td>\n",
       "      <td>2</td>\n",
       "      <td>женат / замужем</td>\n",
       "      <td>0</td>\n",
       "      <td>F</td>\n",
       "      <td>сотрудник</td>\n",
       "      <td>0</td>\n",
       "      <td>130458.228857</td>\n",
       "      <td>приобретение автомобиля</td>\n",
       "    </tr>\n",
       "    <tr>\n",
       "      <th>14</th>\n",
       "      <td>0</td>\n",
       "      <td>-1844.956182</td>\n",
       "      <td>56</td>\n",
       "      <td>высшее</td>\n",
       "      <td>0</td>\n",
       "      <td>гражданский брак</td>\n",
       "      <td>1</td>\n",
       "      <td>F</td>\n",
       "      <td>компаньон</td>\n",
       "      <td>1</td>\n",
       "      <td>165127.911772</td>\n",
       "      <td>покупка жилой недвижимости</td>\n",
       "    </tr>\n",
       "    <tr>\n",
       "      <th>15</th>\n",
       "      <td>1</td>\n",
       "      <td>-972.364419</td>\n",
       "      <td>26</td>\n",
       "      <td>среднее</td>\n",
       "      <td>1</td>\n",
       "      <td>женат / замужем</td>\n",
       "      <td>0</td>\n",
       "      <td>F</td>\n",
       "      <td>сотрудник</td>\n",
       "      <td>0</td>\n",
       "      <td>116820.904450</td>\n",
       "      <td>строительство собственной недвижимости</td>\n",
       "    </tr>\n",
       "    <tr>\n",
       "      <th>16</th>\n",
       "      <td>0</td>\n",
       "      <td>-1719.934226</td>\n",
       "      <td>35</td>\n",
       "      <td>среднее</td>\n",
       "      <td>1</td>\n",
       "      <td>женат / замужем</td>\n",
       "      <td>0</td>\n",
       "      <td>F</td>\n",
       "      <td>сотрудник</td>\n",
       "      <td>0</td>\n",
       "      <td>289202.704229</td>\n",
       "      <td>недвижимость</td>\n",
       "    </tr>\n",
       "    <tr>\n",
       "      <th>17</th>\n",
       "      <td>0</td>\n",
       "      <td>-2369.999720</td>\n",
       "      <td>33</td>\n",
       "      <td>высшее</td>\n",
       "      <td>0</td>\n",
       "      <td>гражданский брак</td>\n",
       "      <td>1</td>\n",
       "      <td>M</td>\n",
       "      <td>сотрудник</td>\n",
       "      <td>0</td>\n",
       "      <td>90410.586745</td>\n",
       "      <td>строительство недвижимости</td>\n",
       "    </tr>\n",
       "    <tr>\n",
       "      <th>18</th>\n",
       "      <td>0</td>\n",
       "      <td>400281.136913</td>\n",
       "      <td>53</td>\n",
       "      <td>среднее</td>\n",
       "      <td>1</td>\n",
       "      <td>вдовец / вдова</td>\n",
       "      <td>2</td>\n",
       "      <td>F</td>\n",
       "      <td>пенсионер</td>\n",
       "      <td>0</td>\n",
       "      <td>56823.777243</td>\n",
       "      <td>на покупку подержанного автомобиля</td>\n",
       "    </tr>\n",
       "    <tr>\n",
       "      <th>19</th>\n",
       "      <td>0</td>\n",
       "      <td>-10038.818549</td>\n",
       "      <td>48</td>\n",
       "      <td>СРЕДНЕЕ</td>\n",
       "      <td>1</td>\n",
       "      <td>в разводе</td>\n",
       "      <td>3</td>\n",
       "      <td>F</td>\n",
       "      <td>сотрудник</td>\n",
       "      <td>0</td>\n",
       "      <td>242831.107982</td>\n",
       "      <td>на покупку своего автомобиля</td>\n",
       "    </tr>\n",
       "  </tbody>\n",
       "</table>\n",
       "</div>"
      ],
      "text/plain": [
       "    children  days_employed  dob_years            education  education_id  \\\n",
       "0          1   -8437.673028         42               высшее             0   \n",
       "1          1   -4024.803754         36              среднее             1   \n",
       "2          0   -5623.422610         33              Среднее             1   \n",
       "3          3   -4124.747207         32              среднее             1   \n",
       "4          0  340266.072047         53              среднее             1   \n",
       "5          0    -926.185831         27               высшее             0   \n",
       "6          0   -2879.202052         43               высшее             0   \n",
       "7          0    -152.779569         50              СРЕДНЕЕ             1   \n",
       "8          2   -6929.865299         35               ВЫСШЕЕ             0   \n",
       "9          0   -2188.756445         41              среднее             1   \n",
       "10         2   -4171.483647         36               высшее             0   \n",
       "11         0    -792.701887         40              среднее             1   \n",
       "12         0            NaN         65              среднее             1   \n",
       "13         0   -1846.641941         54  неоконченное высшее             2   \n",
       "14         0   -1844.956182         56               высшее             0   \n",
       "15         1    -972.364419         26              среднее             1   \n",
       "16         0   -1719.934226         35              среднее             1   \n",
       "17         0   -2369.999720         33               высшее             0   \n",
       "18         0  400281.136913         53              среднее             1   \n",
       "19         0  -10038.818549         48              СРЕДНЕЕ             1   \n",
       "\n",
       "       family_status  family_status_id gender income_type  debt  \\\n",
       "0    женат / замужем                 0      F   сотрудник     0   \n",
       "1    женат / замужем                 0      F   сотрудник     0   \n",
       "2    женат / замужем                 0      M   сотрудник     0   \n",
       "3    женат / замужем                 0      M   сотрудник     0   \n",
       "4   гражданский брак                 1      F   пенсионер     0   \n",
       "5   гражданский брак                 1      M   компаньон     0   \n",
       "6    женат / замужем                 0      F   компаньон     0   \n",
       "7    женат / замужем                 0      M   сотрудник     0   \n",
       "8   гражданский брак                 1      F   сотрудник     0   \n",
       "9    женат / замужем                 0      M   сотрудник     0   \n",
       "10   женат / замужем                 0      M   компаньон     0   \n",
       "11   женат / замужем                 0      F   сотрудник     0   \n",
       "12  гражданский брак                 1      M   пенсионер     0   \n",
       "13   женат / замужем                 0      F   сотрудник     0   \n",
       "14  гражданский брак                 1      F   компаньон     1   \n",
       "15   женат / замужем                 0      F   сотрудник     0   \n",
       "16   женат / замужем                 0      F   сотрудник     0   \n",
       "17  гражданский брак                 1      M   сотрудник     0   \n",
       "18    вдовец / вдова                 2      F   пенсионер     0   \n",
       "19         в разводе                 3      F   сотрудник     0   \n",
       "\n",
       "     total_income                                 purpose  \n",
       "0   253875.639453                           покупка жилья  \n",
       "1   112080.014102                 приобретение автомобиля  \n",
       "2   145885.952297                           покупка жилья  \n",
       "3   267628.550329              дополнительное образование  \n",
       "4   158616.077870                         сыграть свадьбу  \n",
       "5   255763.565419                           покупка жилья  \n",
       "6   240525.971920                       операции с жильем  \n",
       "7   135823.934197                             образование  \n",
       "8    95856.832424                   на проведение свадьбы  \n",
       "9   144425.938277                 покупка жилья для семьи  \n",
       "10  113943.491460                    покупка недвижимости  \n",
       "11   77069.234271       покупка коммерческой недвижимости  \n",
       "12            NaN                         сыграть свадьбу  \n",
       "13  130458.228857                 приобретение автомобиля  \n",
       "14  165127.911772              покупка жилой недвижимости  \n",
       "15  116820.904450  строительство собственной недвижимости  \n",
       "16  289202.704229                            недвижимость  \n",
       "17   90410.586745              строительство недвижимости  \n",
       "18   56823.777243      на покупку подержанного автомобиля  \n",
       "19  242831.107982            на покупку своего автомобиля  "
      ]
     },
     "execution_count": 2,
     "metadata": {},
     "output_type": "execute_result"
    }
   ],
   "source": [
    "data.head(20)"
   ]
  },
  {
   "cell_type": "markdown",
   "id": "0ed8f27f",
   "metadata": {
    "deletable": false,
    "editable": false,
    "id": "0ed8f27f"
   },
   "source": [
    "**Задание 3. Выведите основную информацию о датафрейме с помощью метода `info()`.**"
   ]
  },
  {
   "cell_type": "code",
   "execution_count": 3,
   "id": "ab3f863b",
   "metadata": {
    "deletable": false,
    "id": "ab3f863b",
    "outputId": "15376089-8dad-46c9-b520-c05248d43158"
   },
   "outputs": [
    {
     "name": "stdout",
     "output_type": "stream",
     "text": [
      "<class 'pandas.core.frame.DataFrame'>\n",
      "RangeIndex: 21525 entries, 0 to 21524\n",
      "Data columns (total 12 columns):\n",
      " #   Column            Non-Null Count  Dtype  \n",
      "---  ------            --------------  -----  \n",
      " 0   children          21525 non-null  int64  \n",
      " 1   days_employed     19351 non-null  float64\n",
      " 2   dob_years         21525 non-null  int64  \n",
      " 3   education         21525 non-null  object \n",
      " 4   education_id      21525 non-null  int64  \n",
      " 5   family_status     21525 non-null  object \n",
      " 6   family_status_id  21525 non-null  int64  \n",
      " 7   gender            21525 non-null  object \n",
      " 8   income_type       21525 non-null  object \n",
      " 9   debt              21525 non-null  int64  \n",
      " 10  total_income      19351 non-null  float64\n",
      " 11  purpose           21525 non-null  object \n",
      "dtypes: float64(2), int64(5), object(5)\n",
      "memory usage: 2.0+ MB\n"
     ]
    }
   ],
   "source": [
    "data.info()"
   ]
  },
  {
   "cell_type": "markdown",
   "id": "60e3e22d",
   "metadata": {
    "deletable": false,
    "editable": false,
    "id": "60e3e22d"
   },
   "source": [
    "## Предобработка данных"
   ]
  },
  {
   "cell_type": "markdown",
   "id": "03dc170c",
   "metadata": {
    "deletable": false,
    "editable": false,
    "id": "03dc170c"
   },
   "source": [
    "### Удаление пропусков"
   ]
  },
  {
   "cell_type": "markdown",
   "id": "a4f54eef",
   "metadata": {
    "deletable": false,
    "editable": false,
    "id": "a4f54eef"
   },
   "source": [
    "**Задание 4. Выведите количество пропущенных значений для каждого столбца. Используйте комбинацию двух методов.**"
   ]
  },
  {
   "cell_type": "code",
   "execution_count": 4,
   "id": "2dc372b2",
   "metadata": {
    "deletable": false,
    "id": "2dc372b2",
    "outputId": "81f4d817-781c-465c-ed15-91ce4446810d"
   },
   "outputs": [
    {
     "data": {
      "text/plain": [
       "children               0\n",
       "days_employed       2174\n",
       "dob_years              0\n",
       "education              0\n",
       "education_id           0\n",
       "family_status          0\n",
       "family_status_id       0\n",
       "gender                 0\n",
       "income_type            0\n",
       "debt                   0\n",
       "total_income        2174\n",
       "purpose                0\n",
       "dtype: int64"
      ]
     },
     "execution_count": 4,
     "metadata": {},
     "output_type": "execute_result"
    }
   ],
   "source": [
    "data.isna().sum()"
   ]
  },
  {
   "cell_type": "markdown",
   "id": "14f011b1",
   "metadata": {
    "deletable": false,
    "editable": false,
    "id": "14f011b1"
   },
   "source": [
    "**Задание 5. В двух столбцах есть пропущенные значения. Один из них — `days_employed`. Пропуски в этом столбце вы обработаете на следующем этапе. Другой столбец с пропущенными значениями — `total_income` — хранит данные о доходах. На сумму дохода сильнее всего влияет тип занятости, поэтому заполнить пропуски в этом столбце нужно медианным значением по каждому типу из столбца `income_type`. Например, у человека с типом занятости `сотрудник` пропуск в столбце `total_income` должен быть заполнен медианным доходом среди всех записей с тем же типом.**"
   ]
  },
  {
   "cell_type": "code",
   "execution_count": 5,
   "id": "bdabfb6e",
   "metadata": {
    "deletable": false,
    "id": "bdabfb6e"
   },
   "outputs": [],
   "source": [
    "for t in data['income_type'].unique():\n",
    "    data.loc[(data['income_type'] == t) & (data['total_income'].isna()), 'total_income'] = \\\n",
    "    data.loc[(data['income_type'] == t), 'total_income'].median()"
   ]
  },
  {
   "cell_type": "markdown",
   "id": "5be34059",
   "metadata": {
    "deletable": false,
    "editable": false,
    "id": "5be34059"
   },
   "source": [
    "### Обработка аномальных значений"
   ]
  },
  {
   "cell_type": "markdown",
   "id": "a87606cb",
   "metadata": {
    "deletable": false,
    "editable": false,
    "id": "a87606cb"
   },
   "source": [
    "**Задание 6. В данных могут встречаться артефакты (аномалии) — значения, которые не отражают действительность и появились по какой-то ошибке. таким артефактом будет отрицательное количество дней трудового стажа в столбце `days_employed`. Для реальных данных это нормально. Обработайте значения в этом столбце: замените все отрицательные значения положительными с помощью метода `abs()`.**"
   ]
  },
  {
   "cell_type": "code",
   "execution_count": 6,
   "id": "020c46cc",
   "metadata": {
    "deletable": false,
    "id": "020c46cc"
   },
   "outputs": [],
   "source": [
    "data['days_employed'] = data['days_employed'].abs()"
   ]
  },
  {
   "cell_type": "markdown",
   "id": "45538a3a",
   "metadata": {
    "deletable": false,
    "editable": false,
    "id": "45538a3a"
   },
   "source": [
    "**Задание 7. Для каждого типа занятости выведите медианное значение трудового стажа `days_employed` в днях.**"
   ]
  },
  {
   "cell_type": "code",
   "execution_count": 7,
   "id": "cd3e6328",
   "metadata": {
    "deletable": false,
    "id": "cd3e6328",
    "outputId": "801ef80e-522b-4668-f34e-565af7432bcf"
   },
   "outputs": [
    {
     "data": {
      "text/plain": [
       "income_type\n",
       "безработный        366413.652744\n",
       "в декрете            3296.759962\n",
       "госслужащий          2689.368353\n",
       "компаньон            1547.382223\n",
       "пенсионер          365213.306266\n",
       "предприниматель       520.848083\n",
       "сотрудник            1574.202821\n",
       "студент               578.751554\n",
       "Name: days_employed, dtype: float64"
      ]
     },
     "execution_count": 7,
     "metadata": {},
     "output_type": "execute_result"
    }
   ],
   "source": [
    "data.groupby('income_type')['days_employed'].agg('median')"
   ]
  },
  {
   "cell_type": "markdown",
   "id": "90c5f058",
   "metadata": {
    "deletable": false,
    "editable": false,
    "id": "90c5f058"
   },
   "source": [
    "У двух типов (безработные и пенсионеры) получатся аномально большие значения. Исправить такие значения сложно, поэтому оставьте их как есть."
   ]
  },
  {
   "cell_type": "markdown",
   "id": "9652e50d",
   "metadata": {
    "deletable": false,
    "editable": false,
    "id": "9652e50d"
   },
   "source": [
    "**Задание 8. Выведите перечень уникальных значений столбца `children`.**"
   ]
  },
  {
   "cell_type": "code",
   "execution_count": 8,
   "id": "dbb37b8e",
   "metadata": {
    "deletable": false,
    "id": "dbb37b8e",
    "outputId": "6975b15c-7f95-4697-d16d-a0c79b657b03"
   },
   "outputs": [
    {
     "data": {
      "text/plain": [
       "array([ 1,  0,  3,  2, -1,  4, 20,  5])"
      ]
     },
     "execution_count": 8,
     "metadata": {},
     "output_type": "execute_result"
    }
   ],
   "source": [
    "data['children'].unique()"
   ]
  },
  {
   "cell_type": "markdown",
   "id": "2b8b0715",
   "metadata": {
    "deletable": false,
    "editable": false,
    "id": "2b8b0715"
   },
   "source": [
    "**Задание 9. В столбце `children` есть два аномальных значения. Удалите строки, в которых встречаются такие аномальные значения из датафрейма `data`.**"
   ]
  },
  {
   "cell_type": "code",
   "execution_count": 9,
   "id": "20009df8",
   "metadata": {
    "deletable": false,
    "id": "20009df8"
   },
   "outputs": [],
   "source": [
    "data = data[(data['children'] != -1) & (data['children'] != 20)]"
   ]
  },
  {
   "cell_type": "markdown",
   "id": "8c6ac9f1",
   "metadata": {
    "deletable": false,
    "editable": false,
    "id": "8c6ac9f1"
   },
   "source": [
    "**Задание 10. Ещё раз выведите перечень уникальных значений столбца `children`, чтобы убедиться, что артефакты удалены.**"
   ]
  },
  {
   "cell_type": "code",
   "execution_count": 10,
   "id": "07337b81",
   "metadata": {
    "deletable": false,
    "id": "07337b81",
    "outputId": "b2097101-d49d-44d9-901b-32a65c9463d1"
   },
   "outputs": [
    {
     "data": {
      "text/plain": [
       "array([1, 0, 3, 2, 4, 5])"
      ]
     },
     "execution_count": 10,
     "metadata": {},
     "output_type": "execute_result"
    }
   ],
   "source": [
    "data['children'].unique()"
   ]
  },
  {
   "cell_type": "markdown",
   "id": "ee3f52d4",
   "metadata": {
    "deletable": false,
    "editable": false,
    "id": "ee3f52d4"
   },
   "source": [
    "### Удаление пропусков (продолжение)"
   ]
  },
  {
   "cell_type": "markdown",
   "id": "a700b0e4",
   "metadata": {
    "deletable": false,
    "editable": false,
    "id": "a700b0e4"
   },
   "source": [
    "**Задание 11. Заполните пропуски в столбце `days_employed` медианными значениями по каждого типа занятости `income_type`.**"
   ]
  },
  {
   "cell_type": "code",
   "execution_count": 11,
   "id": "61946b83",
   "metadata": {
    "deletable": false,
    "id": "61946b83"
   },
   "outputs": [],
   "source": [
    "for t in data['income_type'].unique():\n",
    "    data.loc[(data['income_type'] == t) & (data['days_employed'].isna()), 'days_employed'] = \\\n",
    "    data.loc[(data['income_type'] == t), 'days_employed'].median()"
   ]
  },
  {
   "cell_type": "markdown",
   "id": "550dcd9b",
   "metadata": {
    "deletable": false,
    "editable": false,
    "id": "550dcd9b"
   },
   "source": [
    "**Задание 12. Убедитесь, что все пропуски заполнены. Проверьте себя и ещё раз выведите количество пропущенных значений для каждого столбца с помощью двух методов.**"
   ]
  },
  {
   "cell_type": "code",
   "execution_count": 12,
   "id": "937c7014",
   "metadata": {
    "deletable": false,
    "id": "937c7014",
    "outputId": "8da1e4e1-358e-4e87-98c9-f261bce0a7b2"
   },
   "outputs": [
    {
     "data": {
      "text/plain": [
       "children            0\n",
       "days_employed       0\n",
       "dob_years           0\n",
       "education           0\n",
       "education_id        0\n",
       "family_status       0\n",
       "family_status_id    0\n",
       "gender              0\n",
       "income_type         0\n",
       "debt                0\n",
       "total_income        0\n",
       "purpose             0\n",
       "dtype: int64"
      ]
     },
     "execution_count": 12,
     "metadata": {},
     "output_type": "execute_result"
    }
   ],
   "source": [
    "data.isna().sum()"
   ]
  },
  {
   "cell_type": "markdown",
   "id": "d522e295",
   "metadata": {
    "deletable": false,
    "editable": false,
    "id": "d522e295"
   },
   "source": [
    "### Изменение типов данных"
   ]
  },
  {
   "cell_type": "markdown",
   "id": "c229c581",
   "metadata": {
    "deletable": false,
    "editable": false,
    "id": "c229c581"
   },
   "source": [
    "**Задание 13. Замените вещественный тип данных в столбце `total_income` на целочисленный с помощью метода `astype()`.**"
   ]
  },
  {
   "cell_type": "code",
   "execution_count": 13,
   "id": "31036462",
   "metadata": {
    "deletable": false,
    "id": "31036462"
   },
   "outputs": [],
   "source": [
    "data['total_income'] = data['total_income'].astype(int)"
   ]
  },
  {
   "cell_type": "markdown",
   "id": "b8e3d1d9",
   "metadata": {
    "deletable": false,
    "editable": false,
    "id": "b8e3d1d9"
   },
   "source": [
    "### Обработка дубликатов"
   ]
  },
  {
   "cell_type": "markdown",
   "id": "9be53c49",
   "metadata": {
    "deletable": false,
    "editable": false,
    "id": "9be53c49"
   },
   "source": [
    "**Задание 14. Обработайте неявные дубликаты в столбце `education`. В этом столбце есть одни и те же значения, но записанные по-разному: с использованием заглавных и строчных букв. Приведите их к нижнему регистру.**"
   ]
  },
  {
   "cell_type": "code",
   "execution_count": 14,
   "id": "d89e73e1",
   "metadata": {
    "deletable": false,
    "id": "d89e73e1"
   },
   "outputs": [],
   "source": [
    "data['education'] = data['education'].str.lower()"
   ]
  },
  {
   "cell_type": "markdown",
   "id": "01d4500e",
   "metadata": {
    "deletable": false,
    "editable": false,
    "id": "01d4500e"
   },
   "source": [
    "**Задание 15. Выведите на экран количество строк-дубликатов в данных. Если такие строки присутствуют, удалите их.**"
   ]
  },
  {
   "cell_type": "code",
   "execution_count": 15,
   "id": "e10efb23",
   "metadata": {
    "deletable": false,
    "id": "e10efb23",
    "outputId": "9684deba-1934-42d1-99e1-cda61740f822"
   },
   "outputs": [
    {
     "data": {
      "text/plain": [
       "71"
      ]
     },
     "execution_count": 15,
     "metadata": {},
     "output_type": "execute_result"
    }
   ],
   "source": [
    "data.duplicated().sum()"
   ]
  },
  {
   "cell_type": "code",
   "execution_count": 16,
   "id": "df853f20",
   "metadata": {
    "deletable": false,
    "id": "df853f20"
   },
   "outputs": [],
   "source": [
    "data = data.drop_duplicates()"
   ]
  },
  {
   "cell_type": "markdown",
   "id": "627be38f",
   "metadata": {
    "deletable": false,
    "editable": false,
    "id": "627be38f"
   },
   "source": [
    "### Категоризация данных"
   ]
  },
  {
   "cell_type": "markdown",
   "id": "4684c3e0",
   "metadata": {
    "deletable": false,
    "editable": false,
    "id": "4684c3e0"
   },
   "source": [
    "**Задание 16. На основании диапазонов, указанных ниже, создайте в датафрейме `data` столбец `total_income_category` с категориями:**\n",
    "\n",
    "- 0–30000 — `'E'`;\n",
    "- 30001–50000 — `'D'`;\n",
    "- 50001–200000 — `'C'`;\n",
    "- 200001–1000000 — `'B'`;\n",
    "- 1000001 и выше — `'A'`.\n",
    "\n",
    "\n",
    "**Например, кредитополучателю с доходом 25000 нужно назначить категорию `'E'`, а клиенту, получающему 235000, — `'B'`. Используйте собственную функцию с именем `categorize_income()` и метод `apply()`.**"
   ]
  },
  {
   "cell_type": "code",
   "execution_count": 17,
   "id": "78965238",
   "metadata": {
    "deletable": false,
    "id": "78965238"
   },
   "outputs": [],
   "source": [
    "def categorize_income(income):\n",
    "    try:\n",
    "        if 0 <= income <= 30000:\n",
    "            return 'E'\n",
    "        elif 30001 <= income <= 50000:\n",
    "            return 'D'\n",
    "        elif 50001 <= income <= 200000:\n",
    "            return 'C'\n",
    "        elif 200001 <= income <= 1000000:\n",
    "            return 'B'\n",
    "        elif income >= 1000001:\n",
    "            return 'A'\n",
    "    except:\n",
    "        pass"
   ]
  },
  {
   "cell_type": "code",
   "execution_count": 18,
   "id": "0980ada1",
   "metadata": {
    "deletable": false,
    "id": "0980ada1"
   },
   "outputs": [],
   "source": [
    "data['total_income_category'] = data['total_income'].apply(categorize_income)"
   ]
  },
  {
   "cell_type": "markdown",
   "id": "9917bba0",
   "metadata": {
    "deletable": false,
    "editable": false,
    "id": "9917bba0"
   },
   "source": [
    "**Задание 17. Выведите на экран перечень уникальных целей взятия кредита из столбца `purpose`.**"
   ]
  },
  {
   "cell_type": "code",
   "execution_count": 19,
   "id": "ee07b65e",
   "metadata": {
    "deletable": false,
    "id": "ee07b65e",
    "outputId": "673c12d9-7d7e-4ae0-9812-c622c89dd244"
   },
   "outputs": [
    {
     "data": {
      "text/plain": [
       "array(['покупка жилья', 'приобретение автомобиля',\n",
       "       'дополнительное образование', 'сыграть свадьбу',\n",
       "       'операции с жильем', 'образование', 'на проведение свадьбы',\n",
       "       'покупка жилья для семьи', 'покупка недвижимости',\n",
       "       'покупка коммерческой недвижимости', 'покупка жилой недвижимости',\n",
       "       'строительство собственной недвижимости', 'недвижимость',\n",
       "       'строительство недвижимости', 'на покупку подержанного автомобиля',\n",
       "       'на покупку своего автомобиля',\n",
       "       'операции с коммерческой недвижимостью',\n",
       "       'строительство жилой недвижимости', 'жилье',\n",
       "       'операции со своей недвижимостью', 'автомобили',\n",
       "       'заняться образованием', 'сделка с подержанным автомобилем',\n",
       "       'получение образования', 'автомобиль', 'свадьба',\n",
       "       'получение дополнительного образования', 'покупка своего жилья',\n",
       "       'операции с недвижимостью', 'получение высшего образования',\n",
       "       'свой автомобиль', 'сделка с автомобилем',\n",
       "       'профильное образование', 'высшее образование',\n",
       "       'покупка жилья для сдачи', 'на покупку автомобиля', 'ремонт жилью',\n",
       "       'заняться высшим образованием'], dtype=object)"
      ]
     },
     "execution_count": 19,
     "metadata": {},
     "output_type": "execute_result"
    }
   ],
   "source": [
    "data['purpose'].unique()"
   ]
  },
  {
   "cell_type": "markdown",
   "id": "52b79d56",
   "metadata": {
    "deletable": false,
    "editable": false,
    "id": "52b79d56"
   },
   "source": [
    "**Задание 18. Создайте функцию, которая на основании данных из столбца `purpose` сформирует новый столбец `purpose_category`, в который войдут следующие категории:**\n",
    "\n",
    "- `'операции с автомобилем'`,\n",
    "- `'операции с недвижимостью'`,\n",
    "- `'проведение свадьбы'`,\n",
    "- `'получение образования'`.\n",
    "\n",
    "**Например, если в столбце `purpose` находится подстрока `'на покупку автомобиля'`, то в столбце `purpose_category` должна появиться строка `'операции с автомобилем'`.**\n",
    "\n",
    "**Используйте собственную функцию с именем `categorize_purpose()` и метод `apply()`. Изучите данные в столбце `purpose` и определите, какие подстроки помогут вам правильно определить категорию.**"
   ]
  },
  {
   "cell_type": "code",
   "execution_count": 20,
   "id": "be41da5d",
   "metadata": {
    "deletable": false,
    "id": "be41da5d"
   },
   "outputs": [],
   "source": [
    "def categorize_purpose(row):\n",
    "    try:\n",
    "        if 'автом' in row:\n",
    "            return 'операции с автомобилем'\n",
    "        elif 'жил' in row or 'недвиж' in row:\n",
    "            return 'операции с недвижимостью'\n",
    "        elif 'свад' in row:\n",
    "            return 'проведение свадьбы'\n",
    "        elif 'образов' in row:\n",
    "            return 'получение образования'\n",
    "    except:\n",
    "        return 'нет категории'"
   ]
  },
  {
   "cell_type": "code",
   "execution_count": 21,
   "id": "94c4a19a",
   "metadata": {
    "deletable": false,
    "id": "94c4a19a"
   },
   "outputs": [],
   "source": [
    "data['purpose_category'] = data['purpose'].apply(categorize_purpose)"
   ]
  },
  {
   "cell_type": "code",
   "execution_count": null,
   "id": "7f32d26b",
   "metadata": {},
   "outputs": [],
   "source": []
  },
  {
   "cell_type": "markdown",
   "id": "3d596c34",
   "metadata": {
    "deletable": false,
    "editable": false,
    "id": "3d596c34"
   },
   "source": [
    "### Шаг 3. Исследуйте данные и ответьте на вопросы"
   ]
  },
  {
   "cell_type": "markdown",
   "id": "9ab3f7f0",
   "metadata": {},
   "source": [
    "Сначала определим средний процент задержек возвратов кредитов по всей выборке: сумму количества всех задержек разделить на количество всех записей в базе и умножить на 100\n"
   ]
  },
  {
   "cell_type": "code",
   "execution_count": 22,
   "id": "23468300",
   "metadata": {},
   "outputs": [
    {
     "data": {
      "text/plain": [
       "8.119638085415593"
      ]
     },
     "execution_count": 22,
     "metadata": {},
     "output_type": "execute_result"
    }
   ],
   "source": [
    "debt = data['debt'].sum()\n",
    "rows = data['debt'].count()\n",
    "(debt / rows) * 100"
   ]
  },
  {
   "cell_type": "markdown",
   "id": "217f62db",
   "metadata": {},
   "source": [
    "Средний процент зарежек по выплатам кредитов - 8,12%"
   ]
  },
  {
   "cell_type": "markdown",
   "id": "648db036",
   "metadata": {
    "deletable": false,
    "editable": false,
    "id": "648db036"
   },
   "source": [
    "#### 3.1 Есть ли зависимость между количеством детей и возвратом кредита в срок?"
   ]
  },
  {
   "cell_type": "markdown",
   "id": "61b7b9d4",
   "metadata": {
    "deletable": false,
    "id": "7fcff25e"
   },
   "source": [
    "Определим количество семей заемщиков в зависимости от количества детей в них"
   ]
  },
  {
   "cell_type": "code",
   "execution_count": 23,
   "id": "a039d035",
   "metadata": {
    "scrolled": true
   },
   "outputs": [
    {
     "data": {
      "text/plain": [
       "children\n",
       "0    14091\n",
       "1     4808\n",
       "2     2052\n",
       "3      330\n",
       "4       41\n",
       "5        9\n",
       "Name: children, dtype: int64"
      ]
     },
     "execution_count": 23,
     "metadata": {},
     "output_type": "execute_result"
    }
   ],
   "source": [
    "family_childrens = data.groupby('children')['children'].count()\n",
    "family_childrens"
   ]
  },
  {
   "cell_type": "markdown",
   "id": "49765344",
   "metadata": {},
   "source": [
    "Определим количество задержек возвратов кредита в зависимости от количества детей в семьях"
   ]
  },
  {
   "cell_type": "code",
   "execution_count": 24,
   "id": "08016907",
   "metadata": {
    "scrolled": true
   },
   "outputs": [
    {
     "data": {
      "text/plain": [
       "children\n",
       "0    1063\n",
       "1     444\n",
       "2     194\n",
       "3      27\n",
       "4       4\n",
       "5       0\n",
       "Name: debt, dtype: int64"
      ]
     },
     "execution_count": 24,
     "metadata": {},
     "output_type": "execute_result"
    }
   ],
   "source": [
    "debt_children = data.groupby('children')['debt'].sum()\n",
    "debt_children"
   ]
  },
  {
   "cell_type": "markdown",
   "id": "08318955",
   "metadata": {},
   "source": [
    "Определим процент задержек возвратов кредита в зависимости от количества детей в семьях заемщиков"
   ]
  },
  {
   "cell_type": "code",
   "execution_count": 25,
   "id": "d4ab1d83",
   "metadata": {},
   "outputs": [
    {
     "data": {
      "text/html": [
       "<div>\n",
       "<style scoped>\n",
       "    .dataframe tbody tr th:only-of-type {\n",
       "        vertical-align: middle;\n",
       "    }\n",
       "\n",
       "    .dataframe tbody tr th {\n",
       "        vertical-align: top;\n",
       "    }\n",
       "\n",
       "    .dataframe thead th {\n",
       "        text-align: right;\n",
       "    }\n",
       "</style>\n",
       "<table border=\"1\" class=\"dataframe\">\n",
       "  <thead>\n",
       "    <tr style=\"text-align: right;\">\n",
       "      <th></th>\n",
       "      <th>%</th>\n",
       "    </tr>\n",
       "    <tr>\n",
       "      <th>children</th>\n",
       "      <th></th>\n",
       "    </tr>\n",
       "  </thead>\n",
       "  <tbody>\n",
       "    <tr>\n",
       "      <th>0</th>\n",
       "      <td>7.543822</td>\n",
       "    </tr>\n",
       "    <tr>\n",
       "      <th>1</th>\n",
       "      <td>9.234609</td>\n",
       "    </tr>\n",
       "    <tr>\n",
       "      <th>2</th>\n",
       "      <td>9.454191</td>\n",
       "    </tr>\n",
       "    <tr>\n",
       "      <th>3</th>\n",
       "      <td>8.181818</td>\n",
       "    </tr>\n",
       "    <tr>\n",
       "      <th>4</th>\n",
       "      <td>9.756098</td>\n",
       "    </tr>\n",
       "    <tr>\n",
       "      <th>5</th>\n",
       "      <td>0.000000</td>\n",
       "    </tr>\n",
       "  </tbody>\n",
       "</table>\n",
       "</div>"
      ],
      "text/plain": [
       "                 %\n",
       "children          \n",
       "0         7.543822\n",
       "1         9.234609\n",
       "2         9.454191\n",
       "3         8.181818\n",
       "4         9.756098\n",
       "5         0.000000"
      ]
     },
     "execution_count": 25,
     "metadata": {},
     "output_type": "execute_result"
    }
   ],
   "source": [
    "proc_debt_children = pd.DataFrame((debt_children / family_childrens) * 100, columns = ['%'])\n",
    "proc_debt_children"
   ]
  },
  {
   "cell_type": "markdown",
   "id": "cd6bde66",
   "metadata": {},
   "source": [
    "Объединим данные в итоговую таблицу"
   ]
  },
  {
   "cell_type": "code",
   "execution_count": 26,
   "id": "fc98fb28",
   "metadata": {},
   "outputs": [
    {
     "data": {
      "text/html": [
       "<div>\n",
       "<style scoped>\n",
       "    .dataframe tbody tr th:only-of-type {\n",
       "        vertical-align: middle;\n",
       "    }\n",
       "\n",
       "    .dataframe tbody tr th {\n",
       "        vertical-align: top;\n",
       "    }\n",
       "\n",
       "    .dataframe thead th {\n",
       "        text-align: right;\n",
       "    }\n",
       "</style>\n",
       "<table border=\"1\" class=\"dataframe\">\n",
       "  <thead>\n",
       "    <tr style=\"text-align: right;\">\n",
       "      <th></th>\n",
       "      <th>семей</th>\n",
       "      <th>задержек</th>\n",
       "      <th>%</th>\n",
       "    </tr>\n",
       "    <tr>\n",
       "      <th>children</th>\n",
       "      <th></th>\n",
       "      <th></th>\n",
       "      <th></th>\n",
       "    </tr>\n",
       "  </thead>\n",
       "  <tbody>\n",
       "    <tr>\n",
       "      <th>0</th>\n",
       "      <td>14091</td>\n",
       "      <td>1063</td>\n",
       "      <td>7.543822</td>\n",
       "    </tr>\n",
       "    <tr>\n",
       "      <th>1</th>\n",
       "      <td>4808</td>\n",
       "      <td>444</td>\n",
       "      <td>9.234609</td>\n",
       "    </tr>\n",
       "    <tr>\n",
       "      <th>2</th>\n",
       "      <td>2052</td>\n",
       "      <td>194</td>\n",
       "      <td>9.454191</td>\n",
       "    </tr>\n",
       "    <tr>\n",
       "      <th>3</th>\n",
       "      <td>330</td>\n",
       "      <td>27</td>\n",
       "      <td>8.181818</td>\n",
       "    </tr>\n",
       "    <tr>\n",
       "      <th>4</th>\n",
       "      <td>41</td>\n",
       "      <td>4</td>\n",
       "      <td>9.756098</td>\n",
       "    </tr>\n",
       "    <tr>\n",
       "      <th>5</th>\n",
       "      <td>9</td>\n",
       "      <td>0</td>\n",
       "      <td>0.000000</td>\n",
       "    </tr>\n",
       "  </tbody>\n",
       "</table>\n",
       "</div>"
      ],
      "text/plain": [
       "          семей  задержек         %\n",
       "children                           \n",
       "0         14091      1063  7.543822\n",
       "1          4808       444  9.234609\n",
       "2          2052       194  9.454191\n",
       "3           330        27  8.181818\n",
       "4            41         4  9.756098\n",
       "5             9         0  0.000000"
      ]
     },
     "execution_count": 26,
     "metadata": {},
     "output_type": "execute_result"
    }
   ],
   "source": [
    "table_children = pd.DataFrame(family_childrens)\n",
    "table_children = table_children.join(debt_children)\n",
    "table_children = table_children.join(proc_debt_children)\n",
    "table_children = table_children.rename(columns = {'debt' : 'задержек', 'children' : 'семей'})\n",
    "\n",
    "table_children"
   ]
  },
  {
   "cell_type": "code",
   "execution_count": 27,
   "id": "b74335b3",
   "metadata": {},
   "outputs": [
    {
     "data": {
      "text/html": [
       "<div>\n",
       "<style scoped>\n",
       "    .dataframe tbody tr th:only-of-type {\n",
       "        vertical-align: middle;\n",
       "    }\n",
       "\n",
       "    .dataframe tbody tr th {\n",
       "        vertical-align: top;\n",
       "    }\n",
       "\n",
       "    .dataframe thead th {\n",
       "        text-align: right;\n",
       "    }\n",
       "</style>\n",
       "<table border=\"1\" class=\"dataframe\">\n",
       "  <thead>\n",
       "    <tr style=\"text-align: right;\">\n",
       "      <th></th>\n",
       "      <th>count</th>\n",
       "      <th>sum</th>\n",
       "      <th>mean</th>\n",
       "    </tr>\n",
       "    <tr>\n",
       "      <th>children</th>\n",
       "      <th></th>\n",
       "      <th></th>\n",
       "      <th></th>\n",
       "    </tr>\n",
       "  </thead>\n",
       "  <tbody>\n",
       "    <tr>\n",
       "      <th>0</th>\n",
       "      <td>14091</td>\n",
       "      <td>1063</td>\n",
       "      <td>0.075438</td>\n",
       "    </tr>\n",
       "    <tr>\n",
       "      <th>1</th>\n",
       "      <td>4808</td>\n",
       "      <td>444</td>\n",
       "      <td>0.092346</td>\n",
       "    </tr>\n",
       "    <tr>\n",
       "      <th>2</th>\n",
       "      <td>2052</td>\n",
       "      <td>194</td>\n",
       "      <td>0.094542</td>\n",
       "    </tr>\n",
       "    <tr>\n",
       "      <th>3</th>\n",
       "      <td>330</td>\n",
       "      <td>27</td>\n",
       "      <td>0.081818</td>\n",
       "    </tr>\n",
       "    <tr>\n",
       "      <th>4</th>\n",
       "      <td>41</td>\n",
       "      <td>4</td>\n",
       "      <td>0.097561</td>\n",
       "    </tr>\n",
       "    <tr>\n",
       "      <th>5</th>\n",
       "      <td>9</td>\n",
       "      <td>0</td>\n",
       "      <td>0.000000</td>\n",
       "    </tr>\n",
       "  </tbody>\n",
       "</table>\n",
       "</div>"
      ],
      "text/plain": [
       "          count   sum      mean\n",
       "children                       \n",
       "0         14091  1063  0.075438\n",
       "1          4808   444  0.092346\n",
       "2          2052   194  0.094542\n",
       "3           330    27  0.081818\n",
       "4            41     4  0.097561\n",
       "5             9     0  0.000000"
      ]
     },
     "execution_count": 27,
     "metadata": {},
     "output_type": "execute_result"
    }
   ],
   "source": [
    "# Код ревьюера\n",
    "data.groupby('children')['debt'].agg(['count', 'sum', 'mean'])"
   ]
  },
  {
   "cell_type": "markdown",
   "id": "2eb9088e",
   "metadata": {
    "deletable": false,
    "id": "2eb9088e"
   },
   "source": [
    "#### **Вывод:** \n",
    "Во-первых, надо отметить, что в выборке из 7200 детных семей всего 9 семей с 5 детьми. Данные по этой категрии не репрезентативны и их можно не учитывать. \n",
    "Во-вторых, семьи с детьми вообще имеют процент задержек вовзратов кредитов выше среднего - от 8,18% до 9,75%.\n",
    "В-третьих, бездетные допускают на 0,58% меньше среднего уровня задержек возвратов кредитов\n",
    "\n",
    "Итого: само по себе наличие детей в семье является фактором задержки возврата кредита. Объяснить это можно тем, что траты на детей более приоритеные, чем возрат кредита."
   ]
  },
  {
   "cell_type": "markdown",
   "id": "74c9b3a7",
   "metadata": {
    "deletable": false,
    "editable": false,
    "id": "74c9b3a7"
   },
   "source": [
    "#### 3.2 Есть ли зависимость между семейным положением и возвратом кредита в срок?"
   ]
  },
  {
   "cell_type": "markdown",
   "id": "66f0bfc6",
   "metadata": {},
   "source": [
    "Определим категории семейного положения, используюшиеся в базе"
   ]
  },
  {
   "cell_type": "code",
   "execution_count": 28,
   "id": "6e5b3b60",
   "metadata": {},
   "outputs": [
    {
     "data": {
      "text/plain": [
       "array(['женат / замужем', 'гражданский брак', 'вдовец / вдова',\n",
       "       'в разводе', 'Не женат / не замужем'], dtype=object)"
      ]
     },
     "execution_count": 28,
     "metadata": {},
     "output_type": "execute_result"
    }
   ],
   "source": [
    "data['family_status'].unique()"
   ]
  },
  {
   "cell_type": "markdown",
   "id": "0247ddd8",
   "metadata": {},
   "source": [
    "Определим количество заемщиков в каждой из категорий семейного положения"
   ]
  },
  {
   "cell_type": "code",
   "execution_count": 29,
   "id": "713ab2f4",
   "metadata": {
    "scrolled": true
   },
   "outputs": [
    {
     "data": {
      "text/plain": [
       "family_status\n",
       "Не женат / не замужем     2796\n",
       "в разводе                 1189\n",
       "вдовец / вдова             951\n",
       "гражданский брак          4134\n",
       "женат / замужем          12261\n",
       "Name: family_status, dtype: int64"
      ]
     },
     "execution_count": 29,
     "metadata": {},
     "output_type": "execute_result"
    }
   ],
   "source": [
    "familys = data.groupby('family_status')['family_status'].count()\n",
    "familys"
   ]
  },
  {
   "cell_type": "markdown",
   "id": "7db5c84a",
   "metadata": {},
   "source": [
    "Определим количество задержек возвратов кредитов в каждой из категорий семейного положения"
   ]
  },
  {
   "cell_type": "code",
   "execution_count": 30,
   "id": "bb543bb8",
   "metadata": {},
   "outputs": [
    {
     "data": {
      "text/plain": [
       "family_status\n",
       "Не женат / не замужем    273\n",
       "в разводе                 84\n",
       "вдовец / вдова            63\n",
       "гражданский брак         385\n",
       "женат / замужем          927\n",
       "Name: debt, dtype: int64"
      ]
     },
     "execution_count": 30,
     "metadata": {},
     "output_type": "execute_result"
    }
   ],
   "source": [
    "debt_family = data.groupby('family_status')['debt'].sum()\n",
    "debt_family"
   ]
  },
  {
   "cell_type": "markdown",
   "id": "fed2526f",
   "metadata": {},
   "source": [
    "Определим процент задержек возвратов кредитов для каждой из категориии семейного положения"
   ]
  },
  {
   "cell_type": "code",
   "execution_count": 38,
   "id": "0f127bc1",
   "metadata": {
    "scrolled": true
   },
   "outputs": [
    {
     "data": {
      "text/html": [
       "<div>\n",
       "<style scoped>\n",
       "    .dataframe tbody tr th:only-of-type {\n",
       "        vertical-align: middle;\n",
       "    }\n",
       "\n",
       "    .dataframe tbody tr th {\n",
       "        vertical-align: top;\n",
       "    }\n",
       "\n",
       "    .dataframe thead th {\n",
       "        text-align: right;\n",
       "    }\n",
       "</style>\n",
       "<table border=\"1\" class=\"dataframe\">\n",
       "  <thead>\n",
       "    <tr style=\"text-align: right;\">\n",
       "      <th></th>\n",
       "      <th>proc</th>\n",
       "    </tr>\n",
       "    <tr>\n",
       "      <th>family_status</th>\n",
       "      <th></th>\n",
       "    </tr>\n",
       "  </thead>\n",
       "  <tbody>\n",
       "    <tr>\n",
       "      <th>Не женат / не замужем</th>\n",
       "      <td>9.763948</td>\n",
       "    </tr>\n",
       "    <tr>\n",
       "      <th>в разводе</th>\n",
       "      <td>7.064760</td>\n",
       "    </tr>\n",
       "    <tr>\n",
       "      <th>вдовец / вдова</th>\n",
       "      <td>6.624606</td>\n",
       "    </tr>\n",
       "    <tr>\n",
       "      <th>гражданский брак</th>\n",
       "      <td>9.313014</td>\n",
       "    </tr>\n",
       "    <tr>\n",
       "      <th>женат / замужем</th>\n",
       "      <td>7.560558</td>\n",
       "    </tr>\n",
       "  </tbody>\n",
       "</table>\n",
       "</div>"
      ],
      "text/plain": [
       "                           proc\n",
       "family_status                  \n",
       "Не женат / не замужем  9.763948\n",
       "в разводе              7.064760\n",
       "вдовец / вдова         6.624606\n",
       "гражданский брак       9.313014\n",
       "женат / замужем        7.560558"
      ]
     },
     "execution_count": 38,
     "metadata": {},
     "output_type": "execute_result"
    }
   ],
   "source": [
    "proc_debf_family = pd.DataFrame((debt_family / familys) * 100, columns = ['proc'])\n",
    "proc_debf_family"
   ]
  },
  {
   "cell_type": "markdown",
   "id": "956fb480",
   "metadata": {},
   "source": [
    "Объединим данные в одну таблицу и отсортируем по процентам задержек"
   ]
  },
  {
   "cell_type": "code",
   "execution_count": 32,
   "id": "5df737c8",
   "metadata": {
    "scrolled": true
   },
   "outputs": [
    {
     "data": {
      "text/html": [
       "<div>\n",
       "<style scoped>\n",
       "    .dataframe tbody tr th:only-of-type {\n",
       "        vertical-align: middle;\n",
       "    }\n",
       "\n",
       "    .dataframe tbody tr th {\n",
       "        vertical-align: top;\n",
       "    }\n",
       "\n",
       "    .dataframe thead th {\n",
       "        text-align: right;\n",
       "    }\n",
       "</style>\n",
       "<table border=\"1\" class=\"dataframe\">\n",
       "  <thead>\n",
       "    <tr style=\"text-align: right;\">\n",
       "      <th></th>\n",
       "      <th>заемщиков</th>\n",
       "      <th>задержек</th>\n",
       "      <th>%</th>\n",
       "    </tr>\n",
       "    <tr>\n",
       "      <th>family_status</th>\n",
       "      <th></th>\n",
       "      <th></th>\n",
       "      <th></th>\n",
       "    </tr>\n",
       "  </thead>\n",
       "  <tbody>\n",
       "    <tr>\n",
       "      <th>Не женат / не замужем</th>\n",
       "      <td>2796</td>\n",
       "      <td>273</td>\n",
       "      <td>9.763948</td>\n",
       "    </tr>\n",
       "    <tr>\n",
       "      <th>гражданский брак</th>\n",
       "      <td>4134</td>\n",
       "      <td>385</td>\n",
       "      <td>9.313014</td>\n",
       "    </tr>\n",
       "    <tr>\n",
       "      <th>женат / замужем</th>\n",
       "      <td>12261</td>\n",
       "      <td>927</td>\n",
       "      <td>7.560558</td>\n",
       "    </tr>\n",
       "    <tr>\n",
       "      <th>в разводе</th>\n",
       "      <td>1189</td>\n",
       "      <td>84</td>\n",
       "      <td>7.064760</td>\n",
       "    </tr>\n",
       "    <tr>\n",
       "      <th>вдовец / вдова</th>\n",
       "      <td>951</td>\n",
       "      <td>63</td>\n",
       "      <td>6.624606</td>\n",
       "    </tr>\n",
       "  </tbody>\n",
       "</table>\n",
       "</div>"
      ],
      "text/plain": [
       "                       заемщиков  задержек         %\n",
       "family_status                                       \n",
       "Не женат / не замужем       2796       273  9.763948\n",
       "гражданский брак            4134       385  9.313014\n",
       "женат / замужем            12261       927  7.560558\n",
       "в разводе                   1189        84  7.064760\n",
       "вдовец / вдова               951        63  6.624606"
      ]
     },
     "execution_count": 32,
     "metadata": {},
     "output_type": "execute_result"
    }
   ],
   "source": [
    "table_family = pd.DataFrame(familys)\n",
    "table_family = table_family.join(debt_family)\n",
    "table_family = table_family.join(proc_debf_family)\n",
    "table_family = table_family.rename(columns = {'proc' : '%', 'debt' : 'задержек', 'family_status' : 'заемщиков'})\n",
    "\n",
    "table_family.sort_values(by='%', ascending=False)"
   ]
  },
  {
   "cell_type": "markdown",
   "id": "c389ca63",
   "metadata": {
    "deletable": false,
    "id": "c389ca63"
   },
   "source": [
    "**Вывод:** \n",
    "\n",
    "Из приведенных данных видно, что заемщики, которые связывали себя официальными отношениями - то есть были в зарегистрированном браке и в нем и остаются, либо развелись, либо овдовели - имеют процент задержки возвратов кредитов ниже среднего. У свободных и живущих в гражданском браке процент задержки возвратов кредитов выше среднего - 9,76% и 9,31%. Объяснить это можно тем, что заемщики, когда-то уже взявщие на себя серьезные обязательства, также отвествено относятся и к погашению кредита."
   ]
  },
  {
   "cell_type": "markdown",
   "id": "951ae292",
   "metadata": {
    "deletable": false,
    "id": "8098ab3b"
   },
   "source": [
    "<div class=\"alert-success\" style=\"padding: 20px; border-radius: 10px\">\n",
    "<b>Комментарий ревьюера ✔️</b>\n",
    "\n",
    "Верно, можно сказать, что состоящие или состоявшие в браке заемщики реже допускают просрочки.</div>"
   ]
  },
  {
   "cell_type": "markdown",
   "id": "9529de68",
   "metadata": {
    "deletable": false,
    "editable": false,
    "id": "9529de68"
   },
   "source": [
    "#### 3.3 Есть ли зависимость между уровнем дохода и возвратом кредита в срок?"
   ]
  },
  {
   "cell_type": "markdown",
   "id": "7cb5addc",
   "metadata": {},
   "source": [
    "Построим табличку доли задержек возвратов кредитов в завивисмости от категориии уровня дохода выражением в одну строчку"
   ]
  },
  {
   "cell_type": "code",
   "execution_count": 33,
   "id": "950c3111",
   "metadata": {
    "scrolled": false
   },
   "outputs": [
    {
     "data": {
      "text/html": [
       "<div>\n",
       "<style scoped>\n",
       "    .dataframe tbody tr th:only-of-type {\n",
       "        vertical-align: middle;\n",
       "    }\n",
       "\n",
       "    .dataframe tbody tr th {\n",
       "        vertical-align: top;\n",
       "    }\n",
       "\n",
       "    .dataframe thead th {\n",
       "        text-align: right;\n",
       "    }\n",
       "</style>\n",
       "<table border=\"1\" class=\"dataframe\">\n",
       "  <thead>\n",
       "    <tr style=\"text-align: right;\">\n",
       "      <th></th>\n",
       "      <th>заемщиков</th>\n",
       "      <th>задержек</th>\n",
       "      <th>доля</th>\n",
       "    </tr>\n",
       "    <tr>\n",
       "      <th>total_income_category</th>\n",
       "      <th></th>\n",
       "      <th></th>\n",
       "      <th></th>\n",
       "    </tr>\n",
       "  </thead>\n",
       "  <tbody>\n",
       "    <tr>\n",
       "      <th>A</th>\n",
       "      <td>25</td>\n",
       "      <td>2</td>\n",
       "      <td>0.080000</td>\n",
       "    </tr>\n",
       "    <tr>\n",
       "      <th>B</th>\n",
       "      <td>5014</td>\n",
       "      <td>354</td>\n",
       "      <td>0.070602</td>\n",
       "    </tr>\n",
       "    <tr>\n",
       "      <th>C</th>\n",
       "      <td>15921</td>\n",
       "      <td>1353</td>\n",
       "      <td>0.084982</td>\n",
       "    </tr>\n",
       "    <tr>\n",
       "      <th>D</th>\n",
       "      <td>349</td>\n",
       "      <td>21</td>\n",
       "      <td>0.060172</td>\n",
       "    </tr>\n",
       "    <tr>\n",
       "      <th>E</th>\n",
       "      <td>22</td>\n",
       "      <td>2</td>\n",
       "      <td>0.090909</td>\n",
       "    </tr>\n",
       "  </tbody>\n",
       "</table>\n",
       "</div>"
      ],
      "text/plain": [
       "                       заемщиков  задержек      доля\n",
       "total_income_category                               \n",
       "A                             25         2  0.080000\n",
       "B                           5014       354  0.070602\n",
       "C                          15921      1353  0.084982\n",
       "D                            349        21  0.060172\n",
       "E                             22         2  0.090909"
      ]
     },
     "execution_count": 33,
     "metadata": {},
     "output_type": "execute_result"
    }
   ],
   "source": [
    "data.groupby('total_income_category')['debt'].agg(['count', 'sum', 'mean']).rename(columns = {'mean' : 'доля', 'sum' : 'задержек', 'count' : 'заемщиков'})"
   ]
  },
  {
   "cell_type": "markdown",
   "id": "e96ffc43",
   "metadata": {},
   "source": [
    "Построим график доли задержек возврата кредитов в зависимости от категории дохода"
   ]
  },
  {
   "cell_type": "code",
   "execution_count": 36,
   "id": "3396820b",
   "metadata": {},
   "outputs": [
    {
     "data": {
      "image/png": "[encoded data removed]",
      "text/plain": [
       "<Figure size 1080x720 with 1 Axes>"
      ]
     },
     "metadata": {
      "needs_background": "light"
     },
     "output_type": "display_data"
    }
   ],
   "source": [
    "data.groupby('total_income_category')['debt'].mean().plot(kind='bar',\\\n",
    "            title='График доли задержек возврата кредитов в зависимости от категории дохода',\\\n",
    "            xlabel='Категории дохода', ylabel='Доля просрочек', \\\n",
    "            figsize = (15, 10));"
   ]
  },
  {
   "cell_type": "markdown",
   "id": "f996d116",
   "metadata": {
    "deletable": false,
    "id": "8787f44a",
    "scrolled": true
   },
   "source": [
    "<div class=\"alert-success\" style=\"padding: 20px; border-radius: 10px\">\n",
    "<b>Комментарий ревьюера ✔️</b>\n",
    "\n",
    "Отлично, что используешь графики в этом проекте. Они делают представление результатов расчетов намного нагляднее и понятнее. 👌\n",
    "\n",
    "</div>"
   ]
  },
  {
   "cell_type": "markdown",
   "id": "6dd14b57",
   "metadata": {
    "deletable": false,
    "id": "6dd14b57"
   },
   "source": [
    "**Вывод:** \n",
    "\n",
    "Из данных видно, что у заемщиков с доходом ниже 30 тысяч рублей (столбец E) высокий уровень задержек возвратов кредитов. Это можно объяснить тем, что у них еле-еле хватает денег на текущие расходы, на возврат кредита может вообще не остается. Хотя, стоит отметить, что в анализируемых данных таких всего 22 человека. \n",
    "\n",
    "У заемщиков с доходом от 30 до 50 тысяч рублей (столбец D) самый низкий уровень задержек возвратов кредитов - 6%. Это можно объяснить тем, что эти люди находятся между условным уровнем низких и средних доходов и более ответственно отсятся к своим обязательствам, стараясь не попадать на штрафные санкции при просрочках.\n",
    "\n",
    "У заемщиков с доходом от 50 до 200 тысяч рублей (столбец C) уровень задержек возвратов кредитов выше среднего. Это требует дополнительного исследования. Возможно, повлияло заполнение пропусков медианным значением доходов, которые для 6 из 8 типов занятости попадают именно в эти рамки. Возможно, стоит разбить доходы на категоиии по другому.\n",
    "\n",
    "У заемщиков с доходом больше 200 тысяч рублей (столбцы A и B) уровень задержек возвратов кредитов ниже среднего - 7 и 8% соответственно, но при этом и заметно выше, чем у заявителей с доходом от 30 до 50 тысяч. Это можно объяснить тем, что более богатые заемщики, как правило, имеют накопления и легче относятся к непредвиденным расходам, связанным с штрафными санкциями за просрочки погашения кредитов."
   ]
  },
  {
   "cell_type": "markdown",
   "id": "1dcc9b12",
   "metadata": {
    "deletable": false,
    "editable": false,
    "id": "1dcc9b12"
   },
   "source": [
    "#### 3.4 Как разные цели кредита влияют на его возврат в срок?"
   ]
  },
  {
   "cell_type": "markdown",
   "id": "c49bf4c0",
   "metadata": {},
   "source": [
    "Построим табличку доли задержек возвратов кредитов в завивисмости от цели кредита и отсортируем по доле задержек"
   ]
  },
  {
   "cell_type": "code",
   "execution_count": 35,
   "id": "c602bc8b",
   "metadata": {
    "deletable": false,
    "id": "c602bc8b",
    "scrolled": true
   },
   "outputs": [
    {
     "data": {
      "text/html": [
       "<div>\n",
       "<style scoped>\n",
       "    .dataframe tbody tr th:only-of-type {\n",
       "        vertical-align: middle;\n",
       "    }\n",
       "\n",
       "    .dataframe tbody tr th {\n",
       "        vertical-align: top;\n",
       "    }\n",
       "\n",
       "    .dataframe thead th {\n",
       "        text-align: right;\n",
       "    }\n",
       "</style>\n",
       "<table border=\"1\" class=\"dataframe\">\n",
       "  <thead>\n",
       "    <tr style=\"text-align: right;\">\n",
       "      <th></th>\n",
       "      <th>заемщиков</th>\n",
       "      <th>задержек</th>\n",
       "      <th>доля</th>\n",
       "    </tr>\n",
       "    <tr>\n",
       "      <th>purpose_category</th>\n",
       "      <th></th>\n",
       "      <th></th>\n",
       "      <th></th>\n",
       "    </tr>\n",
       "  </thead>\n",
       "  <tbody>\n",
       "    <tr>\n",
       "      <th>операции с автомобилем</th>\n",
       "      <td>4279</td>\n",
       "      <td>400</td>\n",
       "      <td>0.093480</td>\n",
       "    </tr>\n",
       "    <tr>\n",
       "      <th>получение образования</th>\n",
       "      <td>3988</td>\n",
       "      <td>369</td>\n",
       "      <td>0.092528</td>\n",
       "    </tr>\n",
       "    <tr>\n",
       "      <th>проведение свадьбы</th>\n",
       "      <td>2313</td>\n",
       "      <td>183</td>\n",
       "      <td>0.079118</td>\n",
       "    </tr>\n",
       "    <tr>\n",
       "      <th>операции с недвижимостью</th>\n",
       "      <td>10751</td>\n",
       "      <td>780</td>\n",
       "      <td>0.072551</td>\n",
       "    </tr>\n",
       "  </tbody>\n",
       "</table>\n",
       "</div>"
      ],
      "text/plain": [
       "                          заемщиков  задержек      доля\n",
       "purpose_category                                       \n",
       "операции с автомобилем         4279       400  0.093480\n",
       "получение образования          3988       369  0.092528\n",
       "проведение свадьбы             2313       183  0.079118\n",
       "операции с недвижимостью      10751       780  0.072551"
      ]
     },
     "execution_count": 35,
     "metadata": {},
     "output_type": "execute_result"
    }
   ],
   "source": [
    "data.groupby('purpose_category')['debt'].agg(['count', 'sum', 'mean'])\\\n",
    "    .sort_values(by='mean', ascending=False)\\\n",
    "    .rename(columns = {'mean' : 'доля', 'sum' : 'задержек', 'count' : 'заемщиков'})"
   ]
  },
  {
   "cell_type": "markdown",
   "id": "cf05ed63",
   "metadata": {
    "deletable": false,
    "id": "cf05ed63"
   },
   "source": [
    "**Вывод:** \n",
    "\n",
    "Заемщики, берущие кредит на покупку автомобиля или получение образования, имеют долю задержек возвратов кредитов больше среднего - 9,3% и 9,2% соотвественно. Выплаты по кредитам на проведение свадьбы и операции с недвижимостью задерживаются реже среднего: в 7,9% и 7,2% соотвественно. Это хорошо соотносится с выводом о влиянии семейного положения: заемщики, которые официально сочетаются браком и покупают недвижимость (возможно, именно для создания семьи), более отственно относятся и к другим своим обязательствам."
   ]
  },
  {
   "cell_type": "markdown",
   "id": "46c1f10b",
   "metadata": {
    "deletable": false,
    "editable": false,
    "id": "46c1f10b"
   },
   "source": [
    "#### 3.5 Приведите возможные причины появления пропусков в исходных данных."
   ]
  },
  {
   "cell_type": "markdown",
   "id": "3697d2a9",
   "metadata": {
    "deletable": false,
    "id": "3697d2a9"
   },
   "source": [
    "*Ответ:* \n",
    "\n",
    "Пропуски данных были в стобцах общего трудового стажа и ежемесячного дохода\n",
    "\n",
    "Причины пропусков могут быть:\n",
    "\n",
    "- Неправильный ручной ввод данных при заполнении анкеты\n",
    "- Отсутствие данных (не знает заемщик свой стаж в днях или вообще нет дохода)\n",
    "- Отсутствие подтверждения данных (не может заявитель подтввердить документально доход или стаж)\n",
    "- При программном вычислении общего трудового стажа на основе дат принятия/уволнения могут возникать математические и логические ошибки\n",
    "- Эти же ошибки могут переноситься на доходы, если программно вычисляется средний доход за определенный период \n",
    "\n"
   ]
  },
  {
   "cell_type": "markdown",
   "id": "3137d257",
   "metadata": {
    "deletable": false,
    "editable": false,
    "id": "3137d257"
   },
   "source": [
    "#### 3.6 Объясните, почему заполнить пропуски медианным значением — лучшее решение для количественных переменных."
   ]
  },
  {
   "cell_type": "markdown",
   "id": "cf40012a",
   "metadata": {
    "deletable": false,
    "id": "cf40012a"
   },
   "source": [
    "*Ответ:* \n",
    "* Не потеряются даннные в других столбцах, которые важно использовать для анализа.\n",
    "* Замена пропусков медианными значениями меньше влияет на статистические характеристики по сравнению с удалением или заполнением каким-либо значением по умолчанию\n"
   ]
  },
  {
   "cell_type": "markdown",
   "id": "57bc304e",
   "metadata": {
    "deletable": false,
    "editable": false,
    "id": "57bc304e"
   },
   "source": [
    "### Шаг 4: общий вывод."
   ]
  },
  {
   "cell_type": "markdown",
   "id": "1ab75d1c",
   "metadata": {
    "deletable": false,
    "id": "1ab75d1c"
   },
   "source": [
    "В ходе данного исследования необходимо было проанализировать надежность заемщиков банка для дальнейшего построения модели кредитного скоринга. Надежность определятся как факт задержки выплат по кредитам. Для анализа кредитным отделом банка была представлена статистика о платёжеспособности клиентов. Всего 21525 записей. В 2174 записях были выявлены пропуски в полях \"трудовой стаж\" и \"ежемесячный доход\". На стадии предобработки данных, эти пропуски были заменены на медианные значения в зависимости от типа занятости заемщиков. Также на стадии предобработки данных были сформированы категории по уровню ежемесячного дохода и целям кредита. \n",
    "\n",
    "В ходе анализа были выявлены следующие зависимости:\n",
    "\n",
    "- количество детей в семье заемщика прямо отрицательно влияет на надежность \n",
    "- заемщики, которые никогда не были в официальном браке, имеют процент задержек выше среднего\n",
    "- уровень дохода прямо положительно влияет на надежность заемищка\n",
    "- кредиты на покупку недвижимости и проведение свадьбы имеют меньше просрочек, чем кредита на покупка автомобиля или получение образования\n",
    "\n",
    "Исходя из выявленных зависимостей, рекомендую при построении системы скоринга принять как отрицательные факторы надежности заемщика: низкий доход, отсутствие официальных  семейных отношений, а также наличие детей."
   ]
  },
  {
   "cell_type": "code",
   "execution_count": null,
   "id": "f714fdb7",
   "metadata": {},
   "outputs": [],
   "source": []
  }
 ],
 "metadata": {
  "ExecuteTimeLog": [
   {
    "duration": 655,
    "start_time": "2024-03-24T05:05:02.785Z"
   },
   {
    "duration": 20,
    "start_time": "2024-03-24T05:05:08.353Z"
   },
   {
    "duration": 14,
    "start_time": "2024-03-24T05:05:22.305Z"
   },
   {
    "duration": 10,
    "start_time": "2024-03-24T05:05:26.646Z"
   },
   {
    "duration": 33,
    "start_time": "2024-03-24T05:05:44.848Z"
   },
   {
    "duration": 3,
    "start_time": "2024-03-24T05:05:50.743Z"
   },
   {
    "duration": 7,
    "start_time": "2024-03-24T05:06:12.914Z"
   },
   {
    "duration": 4,
    "start_time": "2024-03-24T05:06:16.409Z"
   },
   {
    "duration": 6,
    "start_time": "2024-03-24T05:06:23.767Z"
   },
   {
    "duration": 5,
    "start_time": "2024-03-24T05:06:25.103Z"
   },
   {
    "duration": 32,
    "start_time": "2024-03-24T05:06:28.475Z"
   },
   {
    "duration": 10,
    "start_time": "2024-03-24T05:06:32.768Z"
   },
   {
    "duration": 3,
    "start_time": "2024-03-24T05:06:36.367Z"
   },
   {
    "duration": 10,
    "start_time": "2024-03-24T05:06:38.939Z"
   },
   {
    "duration": 18,
    "start_time": "2024-03-24T05:06:40.593Z"
   },
   {
    "duration": 16,
    "start_time": "2024-03-24T05:06:44.365Z"
   },
   {
    "duration": 3,
    "start_time": "2024-03-24T05:07:01.179Z"
   },
   {
    "duration": 10,
    "start_time": "2024-03-24T05:07:15.366Z"
   },
   {
    "duration": 5,
    "start_time": "2024-03-24T05:07:23.311Z"
   },
   {
    "duration": 3,
    "start_time": "2024-03-24T05:07:34.815Z"
   },
   {
    "duration": 9,
    "start_time": "2024-03-24T05:07:42.035Z"
   },
   {
    "duration": 16,
    "start_time": "2024-03-24T05:25:49.301Z"
   },
   {
    "duration": 6,
    "start_time": "2024-03-24T05:27:55.301Z"
   },
   {
    "duration": 1648,
    "start_time": "2024-03-24T05:29:38.322Z"
   },
   {
    "duration": 1554,
    "start_time": "2024-03-24T05:29:53.978Z"
   },
   {
    "duration": 15,
    "start_time": "2024-03-24T05:30:06.552Z"
   },
   {
    "duration": 18,
    "start_time": "2024-03-24T05:30:51.043Z"
   },
   {
    "duration": 8,
    "start_time": "2024-03-24T05:31:26.981Z"
   },
   {
    "duration": 7,
    "start_time": "2024-03-24T05:31:46.493Z"
   },
   {
    "duration": 7,
    "start_time": "2024-03-24T05:33:24.004Z"
   },
   {
    "duration": 9,
    "start_time": "2024-03-24T05:34:27.575Z"
   },
   {
    "duration": 8,
    "start_time": "2024-03-24T05:34:39.896Z"
   },
   {
    "duration": 6,
    "start_time": "2024-03-24T05:35:11.222Z"
   },
   {
    "duration": 7,
    "start_time": "2024-03-24T05:35:16.847Z"
   },
   {
    "duration": 7,
    "start_time": "2024-03-24T05:35:40.339Z"
   },
   {
    "duration": 7,
    "start_time": "2024-03-24T05:45:12.290Z"
   },
   {
    "duration": 15,
    "start_time": "2024-03-24T05:46:13.223Z"
   },
   {
    "duration": 13,
    "start_time": "2024-03-24T05:46:42.180Z"
   },
   {
    "duration": 521,
    "start_time": "2024-03-24T05:49:54.216Z"
   },
   {
    "duration": 106,
    "start_time": "2024-03-24T05:50:22.915Z"
   },
   {
    "duration": 16,
    "start_time": "2024-03-24T05:50:56.754Z"
   },
   {
    "duration": 105,
    "start_time": "2024-03-24T05:51:01.039Z"
   },
   {
    "duration": 106,
    "start_time": "2024-03-24T05:51:13.501Z"
   },
   {
    "duration": 158,
    "start_time": "2024-03-24T05:51:33.434Z"
   },
   {
    "duration": 105,
    "start_time": "2024-03-24T05:51:42.330Z"
   },
   {
    "duration": 119,
    "start_time": "2024-03-24T05:53:40.115Z"
   },
   {
    "duration": 110,
    "start_time": "2024-03-24T05:53:45.008Z"
   },
   {
    "duration": 106,
    "start_time": "2024-03-24T05:54:00.695Z"
   },
   {
    "duration": 102,
    "start_time": "2024-03-24T05:54:13.804Z"
   },
   {
    "duration": 114,
    "start_time": "2024-03-24T05:55:01.458Z"
   },
   {
    "duration": 104,
    "start_time": "2024-03-24T05:55:20.674Z"
   },
   {
    "duration": 105,
    "start_time": "2024-03-24T05:56:10.786Z"
   },
   {
    "duration": 105,
    "start_time": "2024-03-24T05:57:06.013Z"
   },
   {
    "duration": 10,
    "start_time": "2024-03-24T05:57:28.019Z"
   },
   {
    "duration": 108,
    "start_time": "2024-03-24T05:57:32.542Z"
   },
   {
    "duration": 156,
    "start_time": "2024-03-24T06:00:45.578Z"
   },
   {
    "duration": 108,
    "start_time": "2024-03-24T06:01:53.630Z"
   },
   {
    "duration": 110,
    "start_time": "2024-03-24T06:02:31.481Z"
   },
   {
    "duration": 112,
    "start_time": "2024-03-24T06:02:52.165Z"
   },
   {
    "duration": 100,
    "start_time": "2024-03-24T06:03:34.177Z"
   },
   {
    "duration": 100,
    "start_time": "2024-03-24T06:04:07.813Z"
   },
   {
    "duration": 129,
    "start_time": "2024-03-24T06:05:37.965Z"
   },
   {
    "duration": 13,
    "start_time": "2024-03-24T06:08:23.167Z"
   },
   {
    "duration": 117,
    "start_time": "2024-03-24T06:08:35.712Z"
   },
   {
    "duration": 103,
    "start_time": "2024-03-24T06:08:52.637Z"
   },
   {
    "duration": 5,
    "start_time": "2024-03-24T06:11:38.135Z"
   },
   {
    "duration": 121,
    "start_time": "2024-03-24T06:15:34.520Z"
   },
   {
    "duration": 105,
    "start_time": "2024-03-24T06:35:32.888Z"
   },
   {
    "duration": 11,
    "start_time": "2024-03-24T06:36:00.634Z"
   },
   {
    "duration": 113,
    "start_time": "2024-03-24T06:36:06.104Z"
   },
   {
    "duration": 105,
    "start_time": "2024-03-24T06:36:56.391Z"
   },
   {
    "duration": 20,
    "start_time": "2024-03-24T06:39:19.706Z"
   },
   {
    "duration": 13,
    "start_time": "2024-03-24T06:40:50.380Z"
   },
   {
    "duration": 14,
    "start_time": "2024-03-24T06:41:02.484Z"
   },
   {
    "duration": 182,
    "start_time": "2024-03-24T06:41:24.857Z"
   },
   {
    "duration": 116,
    "start_time": "2024-03-24T06:43:31.558Z"
   },
   {
    "duration": 95,
    "start_time": "2024-03-24T06:43:37.619Z"
   },
   {
    "duration": 17,
    "start_time": "2024-03-24T06:44:12.005Z"
   },
   {
    "duration": 15,
    "start_time": "2024-03-24T06:45:07.265Z"
   },
   {
    "duration": 16,
    "start_time": "2024-03-24T06:46:19.379Z"
   },
   {
    "duration": 125,
    "start_time": "2024-03-24T06:47:09.869Z"
   },
   {
    "duration": 15,
    "start_time": "2024-03-24T06:48:14.199Z"
   },
   {
    "duration": 15,
    "start_time": "2024-03-24T06:48:52.849Z"
   },
   {
    "duration": 111,
    "start_time": "2024-03-24T06:49:17.341Z"
   },
   {
    "duration": 20,
    "start_time": "2024-03-24T06:49:30.035Z"
   },
   {
    "duration": 114,
    "start_time": "2024-03-24T06:49:40.018Z"
   },
   {
    "duration": 17,
    "start_time": "2024-03-24T06:50:19.702Z"
   },
   {
    "duration": 111,
    "start_time": "2024-03-24T06:51:05.552Z"
   },
   {
    "duration": 123,
    "start_time": "2024-03-24T06:52:40.075Z"
   },
   {
    "duration": 18,
    "start_time": "2024-03-24T06:54:21.796Z"
   },
   {
    "duration": 17,
    "start_time": "2024-03-24T06:54:37.775Z"
   },
   {
    "duration": 115,
    "start_time": "2024-03-24T06:55:08.356Z"
   },
   {
    "duration": 5,
    "start_time": "2024-03-24T06:56:10.997Z"
   },
   {
    "duration": 4,
    "start_time": "2024-03-24T06:56:59.795Z"
   },
   {
    "duration": 4,
    "start_time": "2024-03-24T06:59:09.043Z"
   },
   {
    "duration": 5,
    "start_time": "2024-03-24T06:59:15.842Z"
   },
   {
    "duration": 5,
    "start_time": "2024-03-24T07:00:20.625Z"
   },
   {
    "duration": 6,
    "start_time": "2024-03-24T07:00:28.572Z"
   },
   {
    "duration": 4,
    "start_time": "2024-03-24T07:01:50.883Z"
   },
   {
    "duration": 5,
    "start_time": "2024-03-24T07:01:58.664Z"
   },
   {
    "duration": 6,
    "start_time": "2024-03-24T07:02:33.547Z"
   },
   {
    "duration": 5,
    "start_time": "2024-03-24T07:03:42.648Z"
   },
   {
    "duration": 5,
    "start_time": "2024-03-24T07:03:52.779Z"
   },
   {
    "duration": 10,
    "start_time": "2024-03-24T07:03:58.433Z"
   },
   {
    "duration": 107,
    "start_time": "2024-03-24T07:04:38.719Z"
   },
   {
    "duration": 6,
    "start_time": "2024-03-24T07:14:32.469Z"
   },
   {
    "duration": 5,
    "start_time": "2024-03-24T07:14:41.546Z"
   },
   {
    "duration": 9,
    "start_time": "2024-03-24T07:14:49.840Z"
   },
   {
    "duration": 6,
    "start_time": "2024-03-24T07:15:02.914Z"
   },
   {
    "duration": 5,
    "start_time": "2024-03-24T07:15:04.129Z"
   },
   {
    "duration": 9,
    "start_time": "2024-03-24T07:15:05.459Z"
   },
   {
    "duration": 10,
    "start_time": "2024-03-24T07:17:30.764Z"
   },
   {
    "duration": 8,
    "start_time": "2024-03-24T07:19:07.951Z"
   },
   {
    "duration": 10,
    "start_time": "2024-03-24T07:19:14.364Z"
   },
   {
    "duration": 8,
    "start_time": "2024-03-24T07:20:21.363Z"
   },
   {
    "duration": 9,
    "start_time": "2024-03-24T07:20:27.224Z"
   },
   {
    "duration": 10,
    "start_time": "2024-03-24T07:20:33.631Z"
   },
   {
    "duration": 8,
    "start_time": "2024-03-24T07:21:58.523Z"
   },
   {
    "duration": 7,
    "start_time": "2024-03-24T07:22:10.423Z"
   },
   {
    "duration": 9,
    "start_time": "2024-03-24T07:22:54.332Z"
   },
   {
    "duration": 7,
    "start_time": "2024-03-24T07:23:10.633Z"
   },
   {
    "duration": 8,
    "start_time": "2024-03-24T07:23:16.678Z"
   },
   {
    "duration": 9,
    "start_time": "2024-03-24T07:23:19.680Z"
   },
   {
    "duration": 11,
    "start_time": "2024-03-24T07:23:23.113Z"
   },
   {
    "duration": 9,
    "start_time": "2024-03-24T07:23:54.505Z"
   },
   {
    "duration": 9,
    "start_time": "2024-03-24T07:24:16.984Z"
   },
   {
    "duration": 8,
    "start_time": "2024-03-24T07:24:27.335Z"
   },
   {
    "duration": 10,
    "start_time": "2024-03-24T07:24:28.666Z"
   },
   {
    "duration": 8,
    "start_time": "2024-03-24T07:24:30.843Z"
   },
   {
    "duration": 5,
    "start_time": "2024-03-24T07:25:03.378Z"
   },
   {
    "duration": 6,
    "start_time": "2024-03-24T07:25:04.671Z"
   },
   {
    "duration": 8,
    "start_time": "2024-03-24T07:25:05.809Z"
   },
   {
    "duration": 9,
    "start_time": "2024-03-24T07:25:09.904Z"
   },
   {
    "duration": 10,
    "start_time": "2024-03-24T07:25:34.604Z"
   },
   {
    "duration": 6,
    "start_time": "2024-03-24T07:30:39.808Z"
   },
   {
    "duration": 6,
    "start_time": "2024-03-24T07:31:15.762Z"
   },
   {
    "duration": 5,
    "start_time": "2024-03-24T07:35:45.334Z"
   },
   {
    "duration": 121,
    "start_time": "2024-03-24T07:44:40.169Z"
   },
   {
    "duration": 8,
    "start_time": "2024-03-24T07:45:26.714Z"
   },
   {
    "duration": 7,
    "start_time": "2024-03-24T07:50:55.020Z"
   },
   {
    "duration": 6,
    "start_time": "2024-03-24T07:52:40.110Z"
   },
   {
    "duration": 6,
    "start_time": "2024-03-24T07:53:39.301Z"
   },
   {
    "duration": 7,
    "start_time": "2024-03-24T07:53:47.459Z"
   },
   {
    "duration": 6,
    "start_time": "2024-03-24T07:54:14.776Z"
   },
   {
    "duration": 6,
    "start_time": "2024-03-24T07:54:20.797Z"
   },
   {
    "duration": 8,
    "start_time": "2024-03-24T07:54:24.087Z"
   },
   {
    "duration": 7,
    "start_time": "2024-03-24T07:55:40.869Z"
   },
   {
    "duration": 4,
    "start_time": "2024-03-24T07:56:32.351Z"
   },
   {
    "duration": 8,
    "start_time": "2024-03-24T07:57:24.076Z"
   },
   {
    "duration": 14,
    "start_time": "2024-03-24T07:59:15.280Z"
   },
   {
    "duration": 13,
    "start_time": "2024-03-24T07:59:42.186Z"
   },
   {
    "duration": 7,
    "start_time": "2024-03-24T08:00:08.935Z"
   },
   {
    "duration": 13,
    "start_time": "2024-03-24T08:00:18.129Z"
   },
   {
    "duration": 7,
    "start_time": "2024-03-24T08:00:34.311Z"
   },
   {
    "duration": 10,
    "start_time": "2024-03-24T08:00:45.220Z"
   },
   {
    "duration": 12,
    "start_time": "2024-03-24T08:00:48.144Z"
   },
   {
    "duration": 11,
    "start_time": "2024-03-24T08:01:23.205Z"
   },
   {
    "duration": 11,
    "start_time": "2024-03-24T08:02:08.671Z"
   },
   {
    "duration": 8,
    "start_time": "2024-03-24T08:02:50.435Z"
   },
   {
    "duration": 11,
    "start_time": "2024-03-24T08:03:09.536Z"
   },
   {
    "duration": 10,
    "start_time": "2024-03-24T08:03:32.855Z"
   },
   {
    "duration": 11,
    "start_time": "2024-03-24T08:03:38.848Z"
   },
   {
    "duration": 11,
    "start_time": "2024-03-24T08:03:52.260Z"
   },
   {
    "duration": 166,
    "start_time": "2024-03-24T08:04:55.359Z"
   },
   {
    "duration": 135,
    "start_time": "2024-03-24T08:05:20.349Z"
   },
   {
    "duration": 124,
    "start_time": "2024-03-24T08:05:50.151Z"
   },
   {
    "duration": 12,
    "start_time": "2024-03-24T08:06:10.084Z"
   },
   {
    "duration": 8,
    "start_time": "2024-03-24T08:14:46.528Z"
   },
   {
    "duration": 12,
    "start_time": "2024-03-24T08:14:48.664Z"
   },
   {
    "duration": 11,
    "start_time": "2024-03-24T09:21:26.764Z"
   },
   {
    "duration": 10,
    "start_time": "2024-03-24T09:21:54.485Z"
   },
   {
    "duration": 11,
    "start_time": "2024-03-24T09:22:26.537Z"
   },
   {
    "duration": 11,
    "start_time": "2024-03-24T09:28:15.437Z"
   },
   {
    "duration": 83,
    "start_time": "2024-03-24T09:29:45.047Z"
   },
   {
    "duration": 12,
    "start_time": "2024-03-24T09:29:50.847Z"
   },
   {
    "duration": 11,
    "start_time": "2024-03-24T09:30:27.151Z"
   },
   {
    "duration": 13,
    "start_time": "2024-03-24T09:31:07.560Z"
   },
   {
    "duration": 10,
    "start_time": "2024-03-24T09:31:17.946Z"
   },
   {
    "duration": 5,
    "start_time": "2024-03-24T09:33:38.517Z"
   },
   {
    "duration": 5,
    "start_time": "2024-03-24T09:33:46.480Z"
   },
   {
    "duration": 102,
    "start_time": "2024-03-24T09:33:50.279Z"
   },
   {
    "duration": 101,
    "start_time": "2024-03-24T09:48:49.089Z"
   },
   {
    "duration": 14,
    "start_time": "2024-03-24T10:11:33.133Z"
   },
   {
    "duration": 12,
    "start_time": "2024-03-24T10:12:16.867Z"
   },
   {
    "duration": 194,
    "start_time": "2024-03-24T10:18:58.714Z"
   },
   {
    "duration": 13,
    "start_time": "2024-03-24T10:19:33.357Z"
   },
   {
    "duration": 13,
    "start_time": "2024-03-24T10:20:17.139Z"
   },
   {
    "duration": 13,
    "start_time": "2024-03-24T10:20:26.293Z"
   },
   {
    "duration": 86,
    "start_time": "2024-03-24T10:20:48.668Z"
   },
   {
    "duration": 81,
    "start_time": "2024-03-24T10:21:05.580Z"
   },
   {
    "duration": 83,
    "start_time": "2024-03-24T10:21:24.156Z"
   },
   {
    "duration": 99,
    "start_time": "2024-03-24T10:21:55.728Z"
   },
   {
    "duration": 78,
    "start_time": "2024-03-24T10:22:04.169Z"
   },
   {
    "duration": 12,
    "start_time": "2024-03-24T10:22:08.624Z"
   },
   {
    "duration": 75,
    "start_time": "2024-03-24T10:24:16.017Z"
   },
   {
    "duration": 78,
    "start_time": "2024-03-24T10:24:20.628Z"
   },
   {
    "duration": 12,
    "start_time": "2024-03-24T10:25:11.682Z"
   },
   {
    "duration": 464,
    "start_time": "2024-03-24T10:34:20.876Z"
   },
   {
    "duration": 20,
    "start_time": "2024-03-24T10:34:21.342Z"
   },
   {
    "duration": 14,
    "start_time": "2024-03-24T10:34:21.363Z"
   },
   {
    "duration": 9,
    "start_time": "2024-03-24T10:34:21.378Z"
   },
   {
    "duration": 34,
    "start_time": "2024-03-24T10:34:21.388Z"
   },
   {
    "duration": 3,
    "start_time": "2024-03-24T10:34:21.424Z"
   },
   {
    "duration": 11,
    "start_time": "2024-03-24T10:34:21.428Z"
   },
   {
    "duration": 3,
    "start_time": "2024-03-24T10:34:21.440Z"
   },
   {
    "duration": 28,
    "start_time": "2024-03-24T10:34:21.445Z"
   },
   {
    "duration": 5,
    "start_time": "2024-03-24T10:34:21.476Z"
   },
   {
    "duration": 34,
    "start_time": "2024-03-24T10:34:21.483Z"
   },
   {
    "duration": 10,
    "start_time": "2024-03-24T10:34:21.518Z"
   },
   {
    "duration": 4,
    "start_time": "2024-03-24T10:34:21.529Z"
   },
   {
    "duration": 10,
    "start_time": "2024-03-24T10:34:21.535Z"
   },
   {
    "duration": 36,
    "start_time": "2024-03-24T10:34:21.546Z"
   },
   {
    "duration": 15,
    "start_time": "2024-03-24T10:34:21.583Z"
   },
   {
    "duration": 3,
    "start_time": "2024-03-24T10:34:21.599Z"
   },
   {
    "duration": 12,
    "start_time": "2024-03-24T10:34:21.604Z"
   },
   {
    "duration": 5,
    "start_time": "2024-03-24T10:34:21.617Z"
   },
   {
    "duration": 7,
    "start_time": "2024-03-24T10:34:21.624Z"
   },
   {
    "duration": 19,
    "start_time": "2024-03-24T10:34:21.632Z"
   },
   {
    "duration": 19,
    "start_time": "2024-03-24T10:34:21.653Z"
   },
   {
    "duration": 6,
    "start_time": "2024-03-24T10:34:21.673Z"
   },
   {
    "duration": 17,
    "start_time": "2024-03-24T10:34:21.680Z"
   },
   {
    "duration": 7,
    "start_time": "2024-03-24T10:34:21.699Z"
   },
   {
    "duration": 13,
    "start_time": "2024-03-24T10:34:21.708Z"
   },
   {
    "duration": 7,
    "start_time": "2024-03-24T10:34:21.723Z"
   },
   {
    "duration": 13,
    "start_time": "2024-03-24T10:34:21.732Z"
   },
   {
    "duration": 30,
    "start_time": "2024-03-24T10:34:21.746Z"
   },
   {
    "duration": 7,
    "start_time": "2024-03-24T10:34:21.777Z"
   },
   {
    "duration": 14,
    "start_time": "2024-03-24T10:34:21.785Z"
   },
   {
    "duration": 11,
    "start_time": "2024-03-24T10:34:21.801Z"
   },
   {
    "duration": 369,
    "start_time": "2024-03-24T10:34:21.813Z"
   },
   {
    "duration": 15,
    "start_time": "2024-03-24T10:34:22.184Z"
   },
   {
    "duration": 435,
    "start_time": "2024-03-24T11:02:01.414Z"
   },
   {
    "duration": 20,
    "start_time": "2024-03-24T11:02:01.850Z"
   },
   {
    "duration": 65,
    "start_time": "2024-03-24T11:02:01.872Z"
   },
   {
    "duration": 16,
    "start_time": "2024-03-24T11:02:01.939Z"
   },
   {
    "duration": 61,
    "start_time": "2024-03-24T11:02:01.957Z"
   },
   {
    "duration": 3,
    "start_time": "2024-03-24T11:02:02.020Z"
   },
   {
    "duration": 32,
    "start_time": "2024-03-24T11:02:02.025Z"
   },
   {
    "duration": 22,
    "start_time": "2024-03-24T11:02:02.059Z"
   },
   {
    "duration": 18,
    "start_time": "2024-03-24T11:02:02.082Z"
   },
   {
    "duration": 21,
    "start_time": "2024-03-24T11:02:02.104Z"
   },
   {
    "duration": 41,
    "start_time": "2024-03-24T11:02:02.126Z"
   },
   {
    "duration": 11,
    "start_time": "2024-03-24T11:02:02.168Z"
   },
   {
    "duration": 29,
    "start_time": "2024-03-24T11:02:02.180Z"
   },
   {
    "duration": 25,
    "start_time": "2024-03-24T11:02:02.210Z"
   },
   {
    "duration": 35,
    "start_time": "2024-03-24T11:02:02.237Z"
   },
   {
    "duration": 16,
    "start_time": "2024-03-24T11:02:02.274Z"
   },
   {
    "duration": 15,
    "start_time": "2024-03-24T11:02:02.292Z"
   },
   {
    "duration": 38,
    "start_time": "2024-03-24T11:02:02.308Z"
   },
   {
    "duration": 28,
    "start_time": "2024-03-24T11:02:02.348Z"
   },
   {
    "duration": 45,
    "start_time": "2024-03-24T11:02:02.378Z"
   },
   {
    "duration": 133,
    "start_time": "2024-03-24T11:02:02.425Z"
   },
   {
    "duration": 241,
    "start_time": "2024-03-24T11:02:02.560Z"
   },
   {
    "duration": 48,
    "start_time": "2024-03-24T11:02:02.802Z"
   },
   {
    "duration": 7,
    "start_time": "2024-03-24T11:02:02.852Z"
   },
   {
    "duration": 15,
    "start_time": "2024-03-24T11:02:02.860Z"
   },
   {
    "duration": 24,
    "start_time": "2024-03-24T11:02:02.876Z"
   },
   {
    "duration": 17,
    "start_time": "2024-03-24T11:02:02.902Z"
   },
   {
    "duration": 12,
    "start_time": "2024-03-24T11:02:02.921Z"
   },
   {
    "duration": 22,
    "start_time": "2024-03-24T11:02:02.934Z"
   },
   {
    "duration": 36,
    "start_time": "2024-03-24T11:02:02.957Z"
   },
   {
    "duration": 11,
    "start_time": "2024-03-24T11:02:02.994Z"
   },
   {
    "duration": 22,
    "start_time": "2024-03-24T11:02:03.006Z"
   },
   {
    "duration": 370,
    "start_time": "2024-03-24T11:02:03.029Z"
   },
   {
    "duration": 13,
    "start_time": "2024-03-24T11:02:03.400Z"
   },
   {
    "duration": 73,
    "start_time": "2024-03-24T12:01:14.367Z"
   },
   {
    "duration": 15,
    "start_time": "2024-03-24T12:01:32.942Z"
   },
   {
    "duration": 21,
    "start_time": "2024-03-24T12:02:52.462Z"
   },
   {
    "duration": 76,
    "start_time": "2024-03-24T12:03:25.923Z"
   },
   {
    "duration": 3,
    "start_time": "2024-03-24T12:03:36.222Z"
   },
   {
    "duration": 21,
    "start_time": "2024-03-24T12:03:58.716Z"
   },
   {
    "duration": 24,
    "start_time": "2024-03-24T12:04:47.919Z"
   },
   {
    "duration": 1507,
    "start_time": "2024-03-24T12:05:16.384Z"
   },
   {
    "duration": 24,
    "start_time": "2024-03-24T12:05:33.866Z"
   },
   {
    "duration": 8,
    "start_time": "2024-03-24T12:05:50.587Z"
   },
   {
    "duration": 7,
    "start_time": "2024-03-24T12:06:14.045Z"
   },
   {
    "duration": 8,
    "start_time": "2024-03-24T12:06:40.821Z"
   },
   {
    "duration": 10,
    "start_time": "2024-03-24T12:06:49.613Z"
   },
   {
    "duration": 82,
    "start_time": "2024-03-24T12:08:13.433Z"
   },
   {
    "duration": 10,
    "start_time": "2024-03-24T12:08:17.509Z"
   },
   {
    "duration": 12,
    "start_time": "2024-03-24T12:11:08.714Z"
   },
   {
    "duration": 13,
    "start_time": "2024-03-24T12:12:09.886Z"
   },
   {
    "duration": 15,
    "start_time": "2024-03-24T12:12:22.319Z"
   },
   {
    "duration": 14,
    "start_time": "2024-03-24T12:12:37.448Z"
   },
   {
    "duration": 82,
    "start_time": "2024-03-24T12:12:51.282Z"
   },
   {
    "duration": 10,
    "start_time": "2024-03-24T12:13:06.629Z"
   },
   {
    "duration": 80,
    "start_time": "2024-03-24T12:13:18.879Z"
   },
   {
    "duration": 80,
    "start_time": "2024-03-24T12:13:31.445Z"
   },
   {
    "duration": 10,
    "start_time": "2024-03-24T12:13:54.335Z"
   },
   {
    "duration": 13,
    "start_time": "2024-03-24T12:14:29.221Z"
   },
   {
    "duration": 12,
    "start_time": "2024-03-24T12:14:36.449Z"
   },
   {
    "duration": 77,
    "start_time": "2024-03-24T12:14:50.571Z"
   },
   {
    "duration": 12,
    "start_time": "2024-03-24T12:15:00.634Z"
   },
   {
    "duration": 11,
    "start_time": "2024-03-24T12:15:05.394Z"
   },
   {
    "duration": 13,
    "start_time": "2024-03-24T12:15:36.212Z"
   },
   {
    "duration": 11,
    "start_time": "2024-03-24T12:15:58.953Z"
   },
   {
    "duration": 18,
    "start_time": "2024-03-24T12:17:06.460Z"
   },
   {
    "duration": 14,
    "start_time": "2024-03-24T12:17:55.181Z"
   },
   {
    "duration": 13,
    "start_time": "2024-03-24T13:21:26.898Z"
   },
   {
    "duration": 15,
    "start_time": "2024-03-24T13:23:30.466Z"
   },
   {
    "duration": 14,
    "start_time": "2024-03-24T13:30:28.477Z"
   },
   {
    "duration": 464,
    "start_time": "2024-03-24T13:37:16.411Z"
   },
   {
    "duration": 20,
    "start_time": "2024-03-24T13:37:16.876Z"
   },
   {
    "duration": 14,
    "start_time": "2024-03-24T13:37:16.898Z"
   },
   {
    "duration": 9,
    "start_time": "2024-03-24T13:37:16.913Z"
   },
   {
    "duration": 48,
    "start_time": "2024-03-24T13:37:16.924Z"
   },
   {
    "duration": 3,
    "start_time": "2024-03-24T13:37:16.974Z"
   },
   {
    "duration": 9,
    "start_time": "2024-03-24T13:37:16.978Z"
   },
   {
    "duration": 4,
    "start_time": "2024-03-24T13:37:16.988Z"
   },
   {
    "duration": 7,
    "start_time": "2024-03-24T13:37:16.993Z"
   },
   {
    "duration": 3,
    "start_time": "2024-03-24T13:37:17.002Z"
   },
   {
    "duration": 63,
    "start_time": "2024-03-24T13:37:17.006Z"
   },
   {
    "duration": 10,
    "start_time": "2024-03-24T13:37:17.071Z"
   },
   {
    "duration": 5,
    "start_time": "2024-03-24T13:37:17.082Z"
   },
   {
    "duration": 21,
    "start_time": "2024-03-24T13:37:17.089Z"
   },
   {
    "duration": 17,
    "start_time": "2024-03-24T13:37:17.112Z"
   },
   {
    "duration": 16,
    "start_time": "2024-03-24T13:37:17.130Z"
   },
   {
    "duration": 23,
    "start_time": "2024-03-24T13:37:17.147Z"
   },
   {
    "duration": 10,
    "start_time": "2024-03-24T13:37:17.171Z"
   },
   {
    "duration": 31,
    "start_time": "2024-03-24T13:37:17.182Z"
   },
   {
    "duration": 3,
    "start_time": "2024-03-24T13:37:17.215Z"
   },
   {
    "duration": 9,
    "start_time": "2024-03-24T13:37:17.220Z"
   },
   {
    "duration": 4,
    "start_time": "2024-03-24T13:37:17.230Z"
   },
   {
    "duration": 15,
    "start_time": "2024-03-24T13:37:17.235Z"
   },
   {
    "duration": 10,
    "start_time": "2024-03-24T13:37:17.251Z"
   },
   {
    "duration": 13,
    "start_time": "2024-03-24T13:37:17.262Z"
   },
   {
    "duration": 25,
    "start_time": "2024-03-24T13:37:17.277Z"
   },
   {
    "duration": 8,
    "start_time": "2024-03-24T13:37:17.304Z"
   },
   {
    "duration": 7,
    "start_time": "2024-03-24T13:37:17.315Z"
   },
   {
    "duration": 16,
    "start_time": "2024-03-24T13:37:17.323Z"
   },
   {
    "duration": 15,
    "start_time": "2024-03-24T13:37:17.340Z"
   },
   {
    "duration": 23,
    "start_time": "2024-03-24T13:37:17.356Z"
   },
   {
    "duration": 21,
    "start_time": "2024-03-24T13:37:17.381Z"
   },
   {
    "duration": 335,
    "start_time": "2024-03-24T13:37:17.403Z"
   },
   {
    "duration": 15,
    "start_time": "2024-03-24T13:37:17.739Z"
   },
   {
    "duration": 24,
    "start_time": "2024-03-24T13:37:17.756Z"
   },
   {
    "duration": 13,
    "start_time": "2024-03-24T13:37:40.234Z"
   },
   {
    "duration": 15,
    "start_time": "2024-03-24T14:46:02.019Z"
   },
   {
    "duration": 426,
    "start_time": "2024-03-24T14:59:34.910Z"
   },
   {
    "duration": 21,
    "start_time": "2024-03-24T14:59:36.058Z"
   },
   {
    "duration": 21,
    "start_time": "2024-03-24T14:59:38.210Z"
   },
   {
    "duration": 10,
    "start_time": "2024-03-24T14:59:41.140Z"
   },
   {
    "duration": 17,
    "start_time": "2024-03-24T14:59:50.696Z"
   },
   {
    "duration": 14,
    "start_time": "2024-03-24T15:00:12.212Z"
   },
   {
    "duration": 10,
    "start_time": "2024-03-24T15:00:26.362Z"
   },
   {
    "duration": 34,
    "start_time": "2024-03-24T15:00:28.777Z"
   },
   {
    "duration": 490,
    "start_time": "2024-03-24T15:01:10.835Z"
   },
   {
    "duration": 21,
    "start_time": "2024-03-24T15:01:11.327Z"
   },
   {
    "duration": 14,
    "start_time": "2024-03-24T15:01:11.349Z"
   },
   {
    "duration": 9,
    "start_time": "2024-03-24T15:01:11.369Z"
   },
   {
    "duration": 39,
    "start_time": "2024-03-24T15:01:11.379Z"
   },
   {
    "duration": 3,
    "start_time": "2024-03-24T15:01:11.420Z"
   },
   {
    "duration": 9,
    "start_time": "2024-03-24T15:01:11.424Z"
   },
   {
    "duration": 4,
    "start_time": "2024-03-24T15:01:11.435Z"
   },
   {
    "duration": 32,
    "start_time": "2024-03-24T15:01:11.440Z"
   },
   {
    "duration": 5,
    "start_time": "2024-03-24T15:01:11.476Z"
   },
   {
    "duration": 35,
    "start_time": "2024-03-24T15:01:11.482Z"
   },
   {
    "duration": 10,
    "start_time": "2024-03-24T15:01:11.519Z"
   },
   {
    "duration": 3,
    "start_time": "2024-03-24T15:01:11.530Z"
   },
   {
    "duration": 35,
    "start_time": "2024-03-24T15:01:11.535Z"
   },
   {
    "duration": 18,
    "start_time": "2024-03-24T15:01:11.572Z"
   },
   {
    "duration": 15,
    "start_time": "2024-03-24T15:01:11.591Z"
   },
   {
    "duration": 3,
    "start_time": "2024-03-24T15:01:11.608Z"
   },
   {
    "duration": 16,
    "start_time": "2024-03-24T15:01:11.612Z"
   },
   {
    "duration": 5,
    "start_time": "2024-03-24T15:01:11.629Z"
   },
   {
    "duration": 4,
    "start_time": "2024-03-24T15:01:11.635Z"
   },
   {
    "duration": 35,
    "start_time": "2024-03-24T15:01:11.640Z"
   },
   {
    "duration": 5,
    "start_time": "2024-03-24T15:01:11.676Z"
   },
   {
    "duration": 6,
    "start_time": "2024-03-24T15:01:11.682Z"
   },
   {
    "duration": 7,
    "start_time": "2024-03-24T15:01:11.689Z"
   },
   {
    "duration": 6,
    "start_time": "2024-03-24T15:01:11.698Z"
   },
   {
    "duration": 10,
    "start_time": "2024-03-24T15:01:11.706Z"
   },
   {
    "duration": 11,
    "start_time": "2024-03-24T15:01:11.718Z"
   },
   {
    "duration": 10,
    "start_time": "2024-03-24T15:01:11.732Z"
   },
   {
    "duration": 32,
    "start_time": "2024-03-24T15:01:11.743Z"
   },
   {
    "duration": 7,
    "start_time": "2024-03-24T15:01:11.776Z"
   },
   {
    "duration": 20,
    "start_time": "2024-03-24T15:01:11.784Z"
   },
   {
    "duration": 17,
    "start_time": "2024-03-24T15:01:11.806Z"
   },
   {
    "duration": 364,
    "start_time": "2024-03-24T15:01:11.824Z"
   },
   {
    "duration": 13,
    "start_time": "2024-03-24T15:01:12.189Z"
   },
   {
    "duration": 20,
    "start_time": "2024-03-24T15:01:12.203Z"
   },
   {
    "duration": 485,
    "start_time": "2024-03-24T16:13:17.248Z"
   },
   {
    "duration": 19,
    "start_time": "2024-03-24T16:13:17.735Z"
   },
   {
    "duration": 20,
    "start_time": "2024-03-24T16:13:17.756Z"
   },
   {
    "duration": 11,
    "start_time": "2024-03-24T16:13:17.778Z"
   },
   {
    "duration": 35,
    "start_time": "2024-03-24T16:13:17.790Z"
   },
   {
    "duration": 3,
    "start_time": "2024-03-24T16:13:17.826Z"
   },
   {
    "duration": 50,
    "start_time": "2024-03-24T16:13:17.830Z"
   },
   {
    "duration": 11,
    "start_time": "2024-03-24T16:13:17.882Z"
   },
   {
    "duration": 15,
    "start_time": "2024-03-24T16:13:17.894Z"
   },
   {
    "duration": 16,
    "start_time": "2024-03-24T16:13:17.912Z"
   },
   {
    "duration": 48,
    "start_time": "2024-03-24T16:13:17.929Z"
   },
   {
    "duration": 11,
    "start_time": "2024-03-24T16:13:17.979Z"
   },
   {
    "duration": 4,
    "start_time": "2024-03-24T16:13:17.991Z"
   },
   {
    "duration": 26,
    "start_time": "2024-03-24T16:13:17.997Z"
   },
   {
    "duration": 27,
    "start_time": "2024-03-24T16:13:18.024Z"
   },
   {
    "duration": 20,
    "start_time": "2024-03-24T16:13:18.053Z"
   },
   {
    "duration": 3,
    "start_time": "2024-03-24T16:13:18.075Z"
   },
   {
    "duration": 19,
    "start_time": "2024-03-24T16:13:18.079Z"
   },
   {
    "duration": 5,
    "start_time": "2024-03-24T16:13:18.099Z"
   },
   {
    "duration": 5,
    "start_time": "2024-03-24T16:13:18.105Z"
   },
   {
    "duration": 12,
    "start_time": "2024-03-24T16:13:18.111Z"
   },
   {
    "duration": 6,
    "start_time": "2024-03-24T16:13:18.124Z"
   },
   {
    "duration": 8,
    "start_time": "2024-03-24T16:13:18.131Z"
   },
   {
    "duration": 12,
    "start_time": "2024-03-24T16:13:18.140Z"
   },
   {
    "duration": 21,
    "start_time": "2024-03-24T16:13:18.154Z"
   },
   {
    "duration": 12,
    "start_time": "2024-03-24T16:13:18.177Z"
   },
   {
    "duration": 17,
    "start_time": "2024-03-24T16:13:18.191Z"
   },
   {
    "duration": 19,
    "start_time": "2024-03-24T16:13:18.210Z"
   },
   {
    "duration": 23,
    "start_time": "2024-03-24T16:13:18.230Z"
   },
   {
    "duration": 20,
    "start_time": "2024-03-24T16:13:18.255Z"
   },
   {
    "duration": 25,
    "start_time": "2024-03-24T16:13:18.276Z"
   },
   {
    "duration": 33,
    "start_time": "2024-03-24T16:13:18.303Z"
   },
   {
    "duration": 334,
    "start_time": "2024-03-24T16:13:18.337Z"
   },
   {
    "duration": 12,
    "start_time": "2024-03-24T16:13:18.672Z"
   },
   {
    "duration": 41,
    "start_time": "2024-03-24T16:13:18.685Z"
   },
   {
    "duration": 599,
    "start_time": "2024-03-25T03:12:13.329Z"
   },
   {
    "duration": 18,
    "start_time": "2024-03-25T03:12:13.929Z"
   },
   {
    "duration": 13,
    "start_time": "2024-03-25T03:12:13.949Z"
   },
   {
    "duration": 8,
    "start_time": "2024-03-25T03:12:13.964Z"
   },
   {
    "duration": 34,
    "start_time": "2024-03-25T03:12:13.973Z"
   },
   {
    "duration": 3,
    "start_time": "2024-03-25T03:12:14.008Z"
   },
   {
    "duration": 16,
    "start_time": "2024-03-25T03:12:14.012Z"
   },
   {
    "duration": 3,
    "start_time": "2024-03-25T03:12:14.030Z"
   },
   {
    "duration": 8,
    "start_time": "2024-03-25T03:12:14.034Z"
   },
   {
    "duration": 3,
    "start_time": "2024-03-25T03:12:14.044Z"
   },
   {
    "duration": 30,
    "start_time": "2024-03-25T03:12:14.048Z"
   },
   {
    "duration": 27,
    "start_time": "2024-03-25T03:12:14.079Z"
   },
   {
    "duration": 8,
    "start_time": "2024-03-25T03:12:14.108Z"
   },
   {
    "duration": 15,
    "start_time": "2024-03-25T03:12:14.117Z"
   },
   {
    "duration": 20,
    "start_time": "2024-03-25T03:12:14.134Z"
   },
   {
    "duration": 14,
    "start_time": "2024-03-25T03:12:14.156Z"
   },
   {
    "duration": 3,
    "start_time": "2024-03-25T03:12:14.172Z"
   },
   {
    "duration": 12,
    "start_time": "2024-03-25T03:12:14.176Z"
   },
   {
    "duration": 6,
    "start_time": "2024-03-25T03:12:14.202Z"
   },
   {
    "duration": 9,
    "start_time": "2024-03-25T03:12:14.209Z"
   },
   {
    "duration": 13,
    "start_time": "2024-03-25T03:12:14.219Z"
   },
   {
    "duration": 5,
    "start_time": "2024-03-25T03:12:14.234Z"
   },
   {
    "duration": 12,
    "start_time": "2024-03-25T03:12:14.240Z"
   },
   {
    "duration": 6,
    "start_time": "2024-03-25T03:12:14.253Z"
   },
   {
    "duration": 10,
    "start_time": "2024-03-25T03:12:14.260Z"
   },
   {
    "duration": 13,
    "start_time": "2024-03-25T03:12:14.272Z"
   },
   {
    "duration": 16,
    "start_time": "2024-03-25T03:12:14.287Z"
   },
   {
    "duration": 7,
    "start_time": "2024-03-25T03:12:14.306Z"
   },
   {
    "duration": 6,
    "start_time": "2024-03-25T03:12:14.315Z"
   },
   {
    "duration": 8,
    "start_time": "2024-03-25T03:12:14.322Z"
   },
   {
    "duration": 13,
    "start_time": "2024-03-25T03:12:14.331Z"
   },
   {
    "duration": 14,
    "start_time": "2024-03-25T03:12:14.345Z"
   },
   {
    "duration": 493,
    "start_time": "2024-03-25T03:12:14.360Z"
   },
   {
    "duration": 12,
    "start_time": "2024-03-25T03:12:14.855Z"
   },
   {
    "duration": 14,
    "start_time": "2024-03-25T03:12:14.869Z"
   },
   {
    "duration": 9,
    "start_time": "2024-03-25T03:44:37.755Z"
   },
   {
    "duration": 8,
    "start_time": "2024-03-25T03:49:08.553Z"
   },
   {
    "duration": 428,
    "start_time": "2024-03-25T04:03:34.422Z"
   },
   {
    "duration": 20,
    "start_time": "2024-03-25T04:03:34.851Z"
   },
   {
    "duration": 20,
    "start_time": "2024-03-25T04:03:34.872Z"
   },
   {
    "duration": 10,
    "start_time": "2024-03-25T04:03:34.893Z"
   },
   {
    "duration": 31,
    "start_time": "2024-03-25T04:03:34.904Z"
   },
   {
    "duration": 2,
    "start_time": "2024-03-25T04:03:34.937Z"
   },
   {
    "duration": 8,
    "start_time": "2024-03-25T04:03:34.940Z"
   },
   {
    "duration": 9,
    "start_time": "2024-03-25T04:03:34.949Z"
   },
   {
    "duration": 12,
    "start_time": "2024-03-25T04:03:34.959Z"
   },
   {
    "duration": 16,
    "start_time": "2024-03-25T04:03:34.972Z"
   },
   {
    "duration": 33,
    "start_time": "2024-03-25T04:03:34.989Z"
   },
   {
    "duration": 8,
    "start_time": "2024-03-25T04:03:35.023Z"
   },
   {
    "duration": 10,
    "start_time": "2024-03-25T04:03:35.032Z"
   },
   {
    "duration": 20,
    "start_time": "2024-03-25T04:03:35.044Z"
   },
   {
    "duration": 18,
    "start_time": "2024-03-25T04:03:35.066Z"
   },
   {
    "duration": 26,
    "start_time": "2024-03-25T04:03:35.085Z"
   },
   {
    "duration": 3,
    "start_time": "2024-03-25T04:03:35.112Z"
   },
   {
    "duration": 13,
    "start_time": "2024-03-25T04:03:35.116Z"
   },
   {
    "duration": 5,
    "start_time": "2024-03-25T04:03:35.130Z"
   },
   {
    "duration": 27,
    "start_time": "2024-03-25T04:03:35.136Z"
   },
   {
    "duration": 22,
    "start_time": "2024-03-25T04:03:35.164Z"
   },
   {
    "duration": 6,
    "start_time": "2024-03-25T04:03:35.187Z"
   },
   {
    "duration": 14,
    "start_time": "2024-03-25T04:03:35.194Z"
   },
   {
    "duration": 6,
    "start_time": "2024-03-25T04:03:35.209Z"
   },
   {
    "duration": 29,
    "start_time": "2024-03-25T04:03:35.216Z"
   },
   {
    "duration": 13,
    "start_time": "2024-03-25T04:03:35.246Z"
   },
   {
    "duration": 5,
    "start_time": "2024-03-25T04:03:35.261Z"
   },
   {
    "duration": 25,
    "start_time": "2024-03-25T04:03:35.268Z"
   },
   {
    "duration": 18,
    "start_time": "2024-03-25T04:03:35.294Z"
   },
   {
    "duration": 35,
    "start_time": "2024-03-25T04:03:35.314Z"
   },
   {
    "duration": 20,
    "start_time": "2024-03-25T04:03:35.350Z"
   },
   {
    "duration": 19,
    "start_time": "2024-03-25T04:03:35.371Z"
   },
   {
    "duration": 281,
    "start_time": "2024-03-25T04:03:35.391Z"
   },
   {
    "duration": 12,
    "start_time": "2024-03-25T04:03:35.673Z"
   },
   {
    "duration": 34,
    "start_time": "2024-03-25T04:03:35.686Z"
   },
   {
    "duration": 693,
    "start_time": "2024-03-25T16:44:18.778Z"
   },
   {
    "duration": 22,
    "start_time": "2024-03-25T16:44:19.473Z"
   },
   {
    "duration": 14,
    "start_time": "2024-03-25T16:44:19.496Z"
   },
   {
    "duration": 10,
    "start_time": "2024-03-25T16:44:19.512Z"
   },
   {
    "duration": 34,
    "start_time": "2024-03-25T16:44:19.523Z"
   },
   {
    "duration": 24,
    "start_time": "2024-03-25T16:44:19.559Z"
   },
   {
    "duration": 9,
    "start_time": "2024-03-25T16:44:19.584Z"
   },
   {
    "duration": 4,
    "start_time": "2024-03-25T16:44:19.595Z"
   },
   {
    "duration": 7,
    "start_time": "2024-03-25T16:44:19.601Z"
   },
   {
    "duration": 4,
    "start_time": "2024-03-25T16:44:19.613Z"
   },
   {
    "duration": 64,
    "start_time": "2024-03-25T16:44:19.618Z"
   },
   {
    "duration": 10,
    "start_time": "2024-03-25T16:44:19.683Z"
   },
   {
    "duration": 5,
    "start_time": "2024-03-25T16:44:19.695Z"
   },
   {
    "duration": 31,
    "start_time": "2024-03-25T16:44:19.715Z"
   },
   {
    "duration": 16,
    "start_time": "2024-03-25T16:44:19.748Z"
   },
   {
    "duration": 17,
    "start_time": "2024-03-25T16:44:19.765Z"
   },
   {
    "duration": 12,
    "start_time": "2024-03-25T16:44:19.783Z"
   },
   {
    "duration": 14,
    "start_time": "2024-03-25T16:44:19.796Z"
   },
   {
    "duration": 7,
    "start_time": "2024-03-25T16:44:19.811Z"
   },
   {
    "duration": 19,
    "start_time": "2024-03-25T16:44:19.820Z"
   },
   {
    "duration": 6,
    "start_time": "2024-03-25T16:44:19.841Z"
   },
   {
    "duration": 10,
    "start_time": "2024-03-25T16:44:19.849Z"
   },
   {
    "duration": 21,
    "start_time": "2024-03-25T16:44:19.861Z"
   },
   {
    "duration": 14,
    "start_time": "2024-03-25T16:44:19.884Z"
   },
   {
    "duration": 11,
    "start_time": "2024-03-25T16:44:19.900Z"
   },
   {
    "duration": 9,
    "start_time": "2024-03-25T16:44:19.912Z"
   },
   {
    "duration": 8,
    "start_time": "2024-03-25T16:44:19.924Z"
   },
   {
    "duration": 10,
    "start_time": "2024-03-25T16:44:19.933Z"
   },
   {
    "duration": 7,
    "start_time": "2024-03-25T16:44:19.944Z"
   },
   {
    "duration": 32,
    "start_time": "2024-03-25T16:44:19.953Z"
   },
   {
    "duration": 21,
    "start_time": "2024-03-25T16:44:19.986Z"
   },
   {
    "duration": 511,
    "start_time": "2024-03-25T16:44:20.009Z"
   },
   {
    "duration": 15,
    "start_time": "2024-03-25T16:44:20.522Z"
   },
   {
    "duration": 16,
    "start_time": "2024-03-25T16:44:20.539Z"
   },
   {
    "duration": 11,
    "start_time": "2024-03-25T16:45:54.318Z"
   },
   {
    "duration": 46,
    "start_time": "2024-03-25T17:43:53.234Z"
   },
   {
    "duration": 614,
    "start_time": "2024-03-25T17:44:12.618Z"
   },
   {
    "duration": 22,
    "start_time": "2024-03-25T17:44:17.242Z"
   },
   {
    "duration": 16,
    "start_time": "2024-03-25T17:44:19.551Z"
   },
   {
    "duration": 11,
    "start_time": "2024-03-25T17:44:21.879Z"
   },
   {
    "duration": 15,
    "start_time": "2024-03-25T17:45:10.372Z"
   },
   {
    "duration": 13,
    "start_time": "2024-03-25T17:45:42.283Z"
   },
   {
    "duration": 14,
    "start_time": "2024-03-25T17:45:54.692Z"
   },
   {
    "duration": 11,
    "start_time": "2024-03-25T17:46:04.903Z"
   },
   {
    "duration": 13,
    "start_time": "2024-03-25T17:46:27.889Z"
   },
   {
    "duration": 17,
    "start_time": "2024-03-25T17:46:59.084Z"
   },
   {
    "duration": 11,
    "start_time": "2024-03-25T17:50:38.027Z"
   },
   {
    "duration": 41,
    "start_time": "2024-03-25T17:50:39.698Z"
   },
   {
    "duration": 3,
    "start_time": "2024-03-25T17:50:43.567Z"
   },
   {
    "duration": 10,
    "start_time": "2024-03-25T17:50:44.537Z"
   },
   {
    "duration": 4,
    "start_time": "2024-03-25T17:50:46.339Z"
   },
   {
    "duration": 7,
    "start_time": "2024-03-25T17:50:47.214Z"
   },
   {
    "duration": 5,
    "start_time": "2024-03-25T17:50:48.281Z"
   },
   {
    "duration": 36,
    "start_time": "2024-03-25T17:50:50.233Z"
   },
   {
    "duration": 11,
    "start_time": "2024-03-25T17:50:52.770Z"
   },
   {
    "duration": 3,
    "start_time": "2024-03-25T17:50:54.870Z"
   },
   {
    "duration": 12,
    "start_time": "2024-03-25T17:50:55.894Z"
   },
   {
    "duration": 21,
    "start_time": "2024-03-25T17:50:56.613Z"
   },
   {
    "duration": 26,
    "start_time": "2024-03-25T17:50:59.709Z"
   },
   {
    "duration": 4,
    "start_time": "2024-03-25T17:51:01.905Z"
   },
   {
    "duration": 11,
    "start_time": "2024-03-25T17:51:03.882Z"
   },
   {
    "duration": 5,
    "start_time": "2024-03-25T17:51:05.180Z"
   },
   {
    "duration": 4,
    "start_time": "2024-03-25T17:51:06.253Z"
   },
   {
    "duration": 9,
    "start_time": "2024-03-25T17:51:07.663Z"
   },
   {
    "duration": 6,
    "start_time": "2024-03-25T17:51:09.745Z"
   },
   {
    "duration": 6,
    "start_time": "2024-03-25T17:51:13.105Z"
   },
   {
    "duration": 7,
    "start_time": "2024-03-25T17:51:14.251Z"
   },
   {
    "duration": 7,
    "start_time": "2024-03-25T17:51:15.827Z"
   },
   {
    "duration": 9,
    "start_time": "2024-03-25T17:51:16.988Z"
   },
   {
    "duration": 10,
    "start_time": "2024-03-25T17:51:19.265Z"
   },
   {
    "duration": 5,
    "start_time": "2024-03-25T17:51:25.871Z"
   },
   {
    "duration": 8,
    "start_time": "2024-03-25T17:51:27.306Z"
   },
   {
    "duration": 7,
    "start_time": "2024-03-25T17:51:28.260Z"
   },
   {
    "duration": 10,
    "start_time": "2024-03-25T17:51:29.538Z"
   },
   {
    "duration": 12,
    "start_time": "2024-03-25T17:51:30.737Z"
   },
   {
    "duration": 12,
    "start_time": "2024-03-25T17:51:33.887Z"
   },
   {
    "duration": 516,
    "start_time": "2024-03-25T17:51:38.200Z"
   },
   {
    "duration": 108,
    "start_time": "2024-03-25T17:52:09.098Z"
   },
   {
    "duration": 126,
    "start_time": "2024-03-25T17:52:55.536Z"
   },
   {
    "duration": 141,
    "start_time": "2024-03-25T17:55:27.059Z"
   },
   {
    "duration": 176,
    "start_time": "2024-03-25T17:56:00.626Z"
   },
   {
    "duration": 52,
    "start_time": "2024-03-25T17:56:30.681Z"
   },
   {
    "duration": 3084,
    "start_time": "2024-03-25T17:58:29.911Z"
   },
   {
    "duration": 252,
    "start_time": "2024-03-25T17:58:42.160Z"
   },
   {
    "duration": 149,
    "start_time": "2024-03-25T17:58:49.877Z"
   },
   {
    "duration": 168,
    "start_time": "2024-03-25T17:58:58.619Z"
   },
   {
    "duration": 163,
    "start_time": "2024-03-25T18:01:51.817Z"
   },
   {
    "duration": 19,
    "start_time": "2024-03-25T18:02:12.844Z"
   },
   {
    "duration": 186,
    "start_time": "2024-03-25T18:16:21.374Z"
   },
   {
    "duration": 172,
    "start_time": "2024-03-25T18:16:31.393Z"
   },
   {
    "duration": 169,
    "start_time": "2024-03-25T18:16:54.948Z"
   },
   {
    "duration": 168,
    "start_time": "2024-03-25T18:17:41.183Z"
   },
   {
    "duration": 168,
    "start_time": "2024-03-25T18:17:47.816Z"
   },
   {
    "duration": 237,
    "start_time": "2024-03-25T18:20:57.989Z"
   },
   {
    "duration": 159,
    "start_time": "2024-03-25T18:22:34.432Z"
   },
   {
    "duration": 171,
    "start_time": "2024-03-25T18:22:40.995Z"
   },
   {
    "duration": 170,
    "start_time": "2024-03-25T18:23:11.272Z"
   },
   {
    "duration": 207,
    "start_time": "2024-03-25T18:23:25.184Z"
   },
   {
    "duration": 124,
    "start_time": "2024-03-25T18:23:52.240Z"
   },
   {
    "duration": 134,
    "start_time": "2024-03-25T18:23:57.761Z"
   },
   {
    "duration": 128,
    "start_time": "2024-03-25T18:24:13.047Z"
   },
   {
    "duration": 169,
    "start_time": "2024-03-25T18:24:26.031Z"
   },
   {
    "duration": 160,
    "start_time": "2024-03-25T18:24:39.892Z"
   },
   {
    "duration": 686,
    "start_time": "2024-03-26T03:06:23.666Z"
   },
   {
    "duration": 22,
    "start_time": "2024-03-26T03:06:24.354Z"
   },
   {
    "duration": 15,
    "start_time": "2024-03-26T03:06:24.378Z"
   },
   {
    "duration": 12,
    "start_time": "2024-03-26T03:06:24.394Z"
   },
   {
    "duration": 35,
    "start_time": "2024-03-26T03:06:24.408Z"
   },
   {
    "duration": 3,
    "start_time": "2024-03-26T03:06:24.444Z"
   },
   {
    "duration": 26,
    "start_time": "2024-03-26T03:06:24.449Z"
   },
   {
    "duration": 4,
    "start_time": "2024-03-26T03:06:24.477Z"
   },
   {
    "duration": 11,
    "start_time": "2024-03-26T03:06:24.483Z"
   },
   {
    "duration": 8,
    "start_time": "2024-03-26T03:06:24.496Z"
   },
   {
    "duration": 38,
    "start_time": "2024-03-26T03:06:24.505Z"
   },
   {
    "duration": 30,
    "start_time": "2024-03-26T03:06:24.544Z"
   },
   {
    "duration": 18,
    "start_time": "2024-03-26T03:06:24.575Z"
   },
   {
    "duration": 13,
    "start_time": "2024-03-26T03:06:24.594Z"
   },
   {
    "duration": 21,
    "start_time": "2024-03-26T03:06:24.609Z"
   },
   {
    "duration": 18,
    "start_time": "2024-03-26T03:06:24.631Z"
   },
   {
    "duration": 4,
    "start_time": "2024-03-26T03:06:24.650Z"
   },
   {
    "duration": 22,
    "start_time": "2024-03-26T03:06:24.656Z"
   },
   {
    "duration": 7,
    "start_time": "2024-03-26T03:06:24.679Z"
   },
   {
    "duration": 3,
    "start_time": "2024-03-26T03:06:24.688Z"
   },
   {
    "duration": 26,
    "start_time": "2024-03-26T03:06:24.693Z"
   },
   {
    "duration": 9,
    "start_time": "2024-03-26T03:06:24.721Z"
   },
   {
    "duration": 10,
    "start_time": "2024-03-26T03:06:24.731Z"
   },
   {
    "duration": 13,
    "start_time": "2024-03-26T03:06:24.743Z"
   },
   {
    "duration": 13,
    "start_time": "2024-03-26T03:06:24.757Z"
   },
   {
    "duration": 23,
    "start_time": "2024-03-26T03:06:24.772Z"
   },
   {
    "duration": 29,
    "start_time": "2024-03-26T03:06:24.796Z"
   },
   {
    "duration": 5,
    "start_time": "2024-03-26T03:06:24.828Z"
   },
   {
    "duration": 9,
    "start_time": "2024-03-26T03:06:24.835Z"
   },
   {
    "duration": 17,
    "start_time": "2024-03-26T03:06:24.845Z"
   },
   {
    "duration": 7,
    "start_time": "2024-03-26T03:06:24.864Z"
   },
   {
    "duration": 18,
    "start_time": "2024-03-26T03:06:24.873Z"
   },
   {
    "duration": 17,
    "start_time": "2024-03-26T03:06:24.893Z"
   },
   {
    "duration": 615,
    "start_time": "2024-03-26T03:06:24.911Z"
   },
   {
    "duration": 14,
    "start_time": "2024-03-26T03:06:25.528Z"
   },
   {
    "duration": 90,
    "start_time": "2024-03-26T03:09:35.727Z"
   },
   {
    "duration": 479,
    "start_time": "2024-03-26T17:57:43.425Z"
   },
   {
    "duration": 21,
    "start_time": "2024-03-26T17:57:43.906Z"
   },
   {
    "duration": 15,
    "start_time": "2024-03-26T17:57:43.928Z"
   },
   {
    "duration": 10,
    "start_time": "2024-03-26T17:57:43.945Z"
   },
   {
    "duration": 64,
    "start_time": "2024-03-26T17:57:43.957Z"
   },
   {
    "duration": 3,
    "start_time": "2024-03-26T17:57:44.023Z"
   },
   {
    "duration": 10,
    "start_time": "2024-03-26T17:57:44.027Z"
   },
   {
    "duration": 4,
    "start_time": "2024-03-26T17:57:44.039Z"
   },
   {
    "duration": 7,
    "start_time": "2024-03-26T17:57:44.044Z"
   },
   {
    "duration": 4,
    "start_time": "2024-03-26T17:57:44.055Z"
   },
   {
    "duration": 67,
    "start_time": "2024-03-26T17:57:44.061Z"
   },
   {
    "duration": 11,
    "start_time": "2024-03-26T17:57:44.129Z"
   },
   {
    "duration": 3,
    "start_time": "2024-03-26T17:57:44.142Z"
   },
   {
    "duration": 13,
    "start_time": "2024-03-26T17:57:44.147Z"
   },
   {
    "duration": 21,
    "start_time": "2024-03-26T17:57:44.162Z"
   },
   {
    "duration": 47,
    "start_time": "2024-03-26T17:57:44.184Z"
   },
   {
    "duration": 4,
    "start_time": "2024-03-26T17:57:44.232Z"
   },
   {
    "duration": 16,
    "start_time": "2024-03-26T17:57:44.238Z"
   },
   {
    "duration": 7,
    "start_time": "2024-03-26T17:57:44.255Z"
   },
   {
    "duration": 4,
    "start_time": "2024-03-26T17:57:44.264Z"
   },
   {
    "duration": 10,
    "start_time": "2024-03-26T17:57:44.269Z"
   },
   {
    "duration": 5,
    "start_time": "2024-03-26T17:57:44.280Z"
   },
   {
    "duration": 7,
    "start_time": "2024-03-26T17:57:44.318Z"
   },
   {
    "duration": 11,
    "start_time": "2024-03-26T17:57:44.327Z"
   },
   {
    "duration": 10,
    "start_time": "2024-03-26T17:57:44.340Z"
   },
   {
    "duration": 15,
    "start_time": "2024-03-26T17:57:44.351Z"
   },
   {
    "duration": 10,
    "start_time": "2024-03-26T17:57:44.368Z"
   },
   {
    "duration": 5,
    "start_time": "2024-03-26T17:57:44.381Z"
   },
   {
    "duration": 37,
    "start_time": "2024-03-26T17:57:44.387Z"
   },
   {
    "duration": 9,
    "start_time": "2024-03-26T17:57:44.425Z"
   },
   {
    "duration": 6,
    "start_time": "2024-03-26T17:57:44.436Z"
   },
   {
    "duration": 12,
    "start_time": "2024-03-26T17:57:44.444Z"
   },
   {
    "duration": 11,
    "start_time": "2024-03-26T17:57:44.457Z"
   },
   {
    "duration": 411,
    "start_time": "2024-03-26T17:57:44.470Z"
   },
   {
    "duration": 14,
    "start_time": "2024-03-26T17:57:44.882Z"
   },
   {
    "duration": 556,
    "start_time": "2024-03-27T05:15:59.312Z"
   },
   {
    "duration": 24,
    "start_time": "2024-03-27T05:15:59.870Z"
   },
   {
    "duration": 16,
    "start_time": "2024-03-27T05:15:59.896Z"
   },
   {
    "duration": 11,
    "start_time": "2024-03-27T05:15:59.914Z"
   },
   {
    "duration": 53,
    "start_time": "2024-03-27T05:15:59.926Z"
   },
   {
    "duration": 3,
    "start_time": "2024-03-27T05:15:59.981Z"
   },
   {
    "duration": 17,
    "start_time": "2024-03-27T05:15:59.985Z"
   },
   {
    "duration": 34,
    "start_time": "2024-03-27T05:16:00.003Z"
   },
   {
    "duration": 30,
    "start_time": "2024-03-27T05:16:00.039Z"
   },
   {
    "duration": 29,
    "start_time": "2024-03-27T05:16:00.073Z"
   },
   {
    "duration": 72,
    "start_time": "2024-03-27T05:16:00.104Z"
   },
   {
    "duration": 85,
    "start_time": "2024-03-27T05:16:00.177Z"
   },
   {
    "duration": 128,
    "start_time": "2024-03-27T05:16:00.264Z"
   },
   {
    "duration": 81,
    "start_time": "2024-03-27T05:16:00.394Z"
   },
   {
    "duration": 64,
    "start_time": "2024-03-27T05:16:00.477Z"
   },
   {
    "duration": 94,
    "start_time": "2024-03-27T05:16:00.543Z"
   },
   {
    "duration": 39,
    "start_time": "2024-03-27T05:16:00.639Z"
   },
   {
    "duration": 53,
    "start_time": "2024-03-27T05:16:00.679Z"
   },
   {
    "duration": 49,
    "start_time": "2024-03-27T05:16:00.734Z"
   },
   {
    "duration": 58,
    "start_time": "2024-03-27T05:16:00.784Z"
   },
   {
    "duration": 119,
    "start_time": "2024-03-27T05:16:00.843Z"
   },
   {
    "duration": 31,
    "start_time": "2024-03-27T05:16:00.963Z"
   },
   {
    "duration": 67,
    "start_time": "2024-03-27T05:16:00.995Z"
   },
   {
    "duration": 31,
    "start_time": "2024-03-27T05:16:01.064Z"
   },
   {
    "duration": 55,
    "start_time": "2024-03-27T05:16:01.097Z"
   },
   {
    "duration": 40,
    "start_time": "2024-03-27T05:16:01.153Z"
   },
   {
    "duration": 94,
    "start_time": "2024-03-27T05:16:01.194Z"
   },
   {
    "duration": 35,
    "start_time": "2024-03-27T05:16:01.291Z"
   },
   {
    "duration": 20,
    "start_time": "2024-03-27T05:16:01.327Z"
   },
   {
    "duration": 34,
    "start_time": "2024-03-27T05:16:01.349Z"
   },
   {
    "duration": 31,
    "start_time": "2024-03-27T05:16:01.384Z"
   },
   {
    "duration": 47,
    "start_time": "2024-03-27T05:16:01.417Z"
   },
   {
    "duration": 55,
    "start_time": "2024-03-27T05:16:01.465Z"
   },
   {
    "duration": 679,
    "start_time": "2024-03-27T05:16:01.521Z"
   },
   {
    "duration": 21,
    "start_time": "2024-03-27T05:16:02.201Z"
   },
   {
    "duration": 160,
    "start_time": "2024-03-27T05:16:40.060Z"
   },
   {
    "duration": 4,
    "start_time": "2024-03-27T05:16:56.860Z"
   },
   {
    "duration": 8,
    "start_time": "2024-03-27T05:16:59.729Z"
   }
  ],
  "colab": {
   "provenance": []
  },
  "kernelspec": {
   "display_name": "Python 3 (ipykernel)",
   "language": "python",
   "name": "python3"
  },
  "language_info": {
   "codemirror_mode": {
    "name": "ipython",
    "version": 3
   },
   "file_extension": ".py",
   "mimetype": "text/x-python",
   "name": "python",
   "nbconvert_exporter": "python",
   "pygments_lexer": "ipython3",
   "version": "3.11.5"
  },
  "toc": {
   "base_numbering": 1,
   "nav_menu": {},
   "number_sections": true,
   "sideBar": true,
   "skip_h1_title": true,
   "title_cell": "Table of Contents",
   "title_sidebar": "Contents",
   "toc_cell": false,
   "toc_position": {
    "height": "calc(100% - 180px)",
    "left": "10px",
    "top": "150px",
    "width": "165px"
   },
   "toc_section_display": true,
   "toc_window_display": true
  }
 },
 "nbformat": 4,
 "nbformat_minor": 5
}
