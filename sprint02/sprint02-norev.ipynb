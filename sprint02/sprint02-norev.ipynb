{
 "cells": [
  {
   "cell_type": "markdown",
   "id": "4f11de00",
   "metadata": {
    "deletable": false,
    "editable": false,
    "id": "4f11de00"
   },
   "source": [
    "# Исследование надежности заемщиков"
   ]
  },
  {
   "cell_type": "markdown",
   "id": "f09d6878",
   "metadata": {
    "deletable": false,
    "editable": false,
    "id": "f09d6878"
   },
   "source": [
    "Это первая часть проекта, она будет проверена автоматически. Вторую часть проверит ревьюер. "
   ]
  },
  {
   "cell_type": "markdown",
   "id": "516620ee",
   "metadata": {
    "deletable": false,
    "editable": false,
    "id": "516620ee"
   },
   "source": [
    "## Откройте таблицу и изучите общую информацию о данных"
   ]
  },
  {
   "cell_type": "markdown",
   "id": "76a8a9ce",
   "metadata": {
    "deletable": false,
    "editable": false,
    "id": "76a8a9ce",
    "tags": [
     "start_task"
    ]
   },
   "source": [
    "**Задание 1. Импортируйте библиотеку pandas. Считайте данные из csv-файла в датафрейм и сохраните в переменную `data`. Путь к файлу:**\n",
    "\n",
    "`/datasets/data.csv`"
   ]
  },
  {
   "cell_type": "code",
   "execution_count": 1,
   "id": "fab207d0",
   "metadata": {
    "id": "fab207d0"
   },
   "outputs": [],
   "source": [
    "import pandas as pd"
   ]
  },
  {
   "cell_type": "code",
   "execution_count": 2,
   "id": "6c82b607",
   "metadata": {
    "id": "6c82b607"
   },
   "outputs": [],
   "source": [
    "data = pd.read_csv('/datasets/data.csv')"
   ]
  },
  {
   "cell_type": "markdown",
   "id": "08bbb5b3",
   "metadata": {
    "deletable": false,
    "editable": false,
    "id": "08bbb5b3",
    "tags": [
     "start_task"
    ]
   },
   "source": [
    "**Задание 2. Выведите первые 20 строчек датафрейма `data` на экран.**"
   ]
  },
  {
   "cell_type": "code",
   "execution_count": 3,
   "id": "4ff33b36",
   "metadata": {
    "id": "4ff33b36"
   },
   "outputs": [
    {
     "data": {
      "text/html": [
       "<div>\n",
       "<style scoped>\n",
       "    .dataframe tbody tr th:only-of-type {\n",
       "        vertical-align: middle;\n",
       "    }\n",
       "\n",
       "    .dataframe tbody tr th {\n",
       "        vertical-align: top;\n",
       "    }\n",
       "\n",
       "    .dataframe thead th {\n",
       "        text-align: right;\n",
       "    }\n",
       "</style>\n",
       "<table border=\"1\" class=\"dataframe\">\n",
       "  <thead>\n",
       "    <tr style=\"text-align: right;\">\n",
       "      <th></th>\n",
       "      <th>children</th>\n",
       "      <th>days_employed</th>\n",
       "      <th>dob_years</th>\n",
       "      <th>education</th>\n",
       "      <th>education_id</th>\n",
       "      <th>family_status</th>\n",
       "      <th>family_status_id</th>\n",
       "      <th>gender</th>\n",
       "      <th>income_type</th>\n",
       "      <th>debt</th>\n",
       "      <th>total_income</th>\n",
       "      <th>purpose</th>\n",
       "    </tr>\n",
       "  </thead>\n",
       "  <tbody>\n",
       "    <tr>\n",
       "      <th>0</th>\n",
       "      <td>1</td>\n",
       "      <td>-8437.673028</td>\n",
       "      <td>42</td>\n",
       "      <td>высшее</td>\n",
       "      <td>0</td>\n",
       "      <td>женат / замужем</td>\n",
       "      <td>0</td>\n",
       "      <td>F</td>\n",
       "      <td>сотрудник</td>\n",
       "      <td>0</td>\n",
       "      <td>253875.639453</td>\n",
       "      <td>покупка жилья</td>\n",
       "    </tr>\n",
       "    <tr>\n",
       "      <th>1</th>\n",
       "      <td>1</td>\n",
       "      <td>-4024.803754</td>\n",
       "      <td>36</td>\n",
       "      <td>среднее</td>\n",
       "      <td>1</td>\n",
       "      <td>женат / замужем</td>\n",
       "      <td>0</td>\n",
       "      <td>F</td>\n",
       "      <td>сотрудник</td>\n",
       "      <td>0</td>\n",
       "      <td>112080.014102</td>\n",
       "      <td>приобретение автомобиля</td>\n",
       "    </tr>\n",
       "    <tr>\n",
       "      <th>2</th>\n",
       "      <td>0</td>\n",
       "      <td>-5623.422610</td>\n",
       "      <td>33</td>\n",
       "      <td>Среднее</td>\n",
       "      <td>1</td>\n",
       "      <td>женат / замужем</td>\n",
       "      <td>0</td>\n",
       "      <td>M</td>\n",
       "      <td>сотрудник</td>\n",
       "      <td>0</td>\n",
       "      <td>145885.952297</td>\n",
       "      <td>покупка жилья</td>\n",
       "    </tr>\n",
       "    <tr>\n",
       "      <th>3</th>\n",
       "      <td>3</td>\n",
       "      <td>-4124.747207</td>\n",
       "      <td>32</td>\n",
       "      <td>среднее</td>\n",
       "      <td>1</td>\n",
       "      <td>женат / замужем</td>\n",
       "      <td>0</td>\n",
       "      <td>M</td>\n",
       "      <td>сотрудник</td>\n",
       "      <td>0</td>\n",
       "      <td>267628.550329</td>\n",
       "      <td>дополнительное образование</td>\n",
       "    </tr>\n",
       "    <tr>\n",
       "      <th>4</th>\n",
       "      <td>0</td>\n",
       "      <td>340266.072047</td>\n",
       "      <td>53</td>\n",
       "      <td>среднее</td>\n",
       "      <td>1</td>\n",
       "      <td>гражданский брак</td>\n",
       "      <td>1</td>\n",
       "      <td>F</td>\n",
       "      <td>пенсионер</td>\n",
       "      <td>0</td>\n",
       "      <td>158616.077870</td>\n",
       "      <td>сыграть свадьбу</td>\n",
       "    </tr>\n",
       "    <tr>\n",
       "      <th>...</th>\n",
       "      <td>...</td>\n",
       "      <td>...</td>\n",
       "      <td>...</td>\n",
       "      <td>...</td>\n",
       "      <td>...</td>\n",
       "      <td>...</td>\n",
       "      <td>...</td>\n",
       "      <td>...</td>\n",
       "      <td>...</td>\n",
       "      <td>...</td>\n",
       "      <td>...</td>\n",
       "      <td>...</td>\n",
       "    </tr>\n",
       "    <tr>\n",
       "      <th>289</th>\n",
       "      <td>1</td>\n",
       "      <td>-710.680916</td>\n",
       "      <td>44</td>\n",
       "      <td>среднее</td>\n",
       "      <td>1</td>\n",
       "      <td>женат / замужем</td>\n",
       "      <td>0</td>\n",
       "      <td>F</td>\n",
       "      <td>сотрудник</td>\n",
       "      <td>0</td>\n",
       "      <td>153439.596825</td>\n",
       "      <td>ремонт жилью</td>\n",
       "    </tr>\n",
       "    <tr>\n",
       "      <th>290</th>\n",
       "      <td>0</td>\n",
       "      <td>-1006.240054</td>\n",
       "      <td>35</td>\n",
       "      <td>среднее</td>\n",
       "      <td>1</td>\n",
       "      <td>женат / замужем</td>\n",
       "      <td>0</td>\n",
       "      <td>M</td>\n",
       "      <td>компаньон</td>\n",
       "      <td>0</td>\n",
       "      <td>160483.242490</td>\n",
       "      <td>получение дополнительного образования</td>\n",
       "    </tr>\n",
       "    <tr>\n",
       "      <th>291</th>\n",
       "      <td>-1</td>\n",
       "      <td>-4417.703588</td>\n",
       "      <td>46</td>\n",
       "      <td>среднее</td>\n",
       "      <td>1</td>\n",
       "      <td>гражданский брак</td>\n",
       "      <td>1</td>\n",
       "      <td>F</td>\n",
       "      <td>сотрудник</td>\n",
       "      <td>0</td>\n",
       "      <td>102816.346412</td>\n",
       "      <td>профильное образование</td>\n",
       "    </tr>\n",
       "    <tr>\n",
       "      <th>292</th>\n",
       "      <td>0</td>\n",
       "      <td>-3675.617929</td>\n",
       "      <td>56</td>\n",
       "      <td>среднее</td>\n",
       "      <td>1</td>\n",
       "      <td>женат / замужем</td>\n",
       "      <td>0</td>\n",
       "      <td>F</td>\n",
       "      <td>сотрудник</td>\n",
       "      <td>0</td>\n",
       "      <td>133383.550142</td>\n",
       "      <td>недвижимость</td>\n",
       "    </tr>\n",
       "    <tr>\n",
       "      <th>293</th>\n",
       "      <td>0</td>\n",
       "      <td>360701.126568</td>\n",
       "      <td>65</td>\n",
       "      <td>среднее</td>\n",
       "      <td>1</td>\n",
       "      <td>женат / замужем</td>\n",
       "      <td>0</td>\n",
       "      <td>F</td>\n",
       "      <td>пенсионер</td>\n",
       "      <td>0</td>\n",
       "      <td>169009.307550</td>\n",
       "      <td>недвижимость</td>\n",
       "    </tr>\n",
       "  </tbody>\n",
       "</table>\n",
       "<p>294 rows × 12 columns</p>\n",
       "</div>"
      ],
      "text/plain": [
       "     children  days_employed  dob_years education  education_id  \\\n",
       "0           1   -8437.673028         42    высшее             0   \n",
       "1           1   -4024.803754         36   среднее             1   \n",
       "2           0   -5623.422610         33   Среднее             1   \n",
       "3           3   -4124.747207         32   среднее             1   \n",
       "4           0  340266.072047         53   среднее             1   \n",
       "..        ...            ...        ...       ...           ...   \n",
       "289         1    -710.680916         44   среднее             1   \n",
       "290         0   -1006.240054         35   среднее             1   \n",
       "291        -1   -4417.703588         46   среднее             1   \n",
       "292         0   -3675.617929         56   среднее             1   \n",
       "293         0  360701.126568         65   среднее             1   \n",
       "\n",
       "        family_status  family_status_id gender income_type  debt  \\\n",
       "0     женат / замужем                 0      F   сотрудник     0   \n",
       "1     женат / замужем                 0      F   сотрудник     0   \n",
       "2     женат / замужем                 0      M   сотрудник     0   \n",
       "3     женат / замужем                 0      M   сотрудник     0   \n",
       "4    гражданский брак                 1      F   пенсионер     0   \n",
       "..                ...               ...    ...         ...   ...   \n",
       "289   женат / замужем                 0      F   сотрудник     0   \n",
       "290   женат / замужем                 0      M   компаньон     0   \n",
       "291  гражданский брак                 1      F   сотрудник     0   \n",
       "292   женат / замужем                 0      F   сотрудник     0   \n",
       "293   женат / замужем                 0      F   пенсионер     0   \n",
       "\n",
       "      total_income                                purpose  \n",
       "0    253875.639453                          покупка жилья  \n",
       "1    112080.014102                приобретение автомобиля  \n",
       "2    145885.952297                          покупка жилья  \n",
       "3    267628.550329             дополнительное образование  \n",
       "4    158616.077870                        сыграть свадьбу  \n",
       "..             ...                                    ...  \n",
       "289  153439.596825                           ремонт жилью  \n",
       "290  160483.242490  получение дополнительного образования  \n",
       "291  102816.346412                 профильное образование  \n",
       "292  133383.550142                           недвижимость  \n",
       "293  169009.307550                           недвижимость  \n",
       "\n",
       "[294 rows x 12 columns]"
      ]
     },
     "execution_count": 3,
     "metadata": {},
     "output_type": "execute_result"
    }
   ],
   "source": [
    "data.head(294)"
   ]
  },
  {
   "cell_type": "markdown",
   "id": "c8f382ae",
   "metadata": {
    "deletable": false,
    "editable": false,
    "id": "c8f382ae",
    "tags": [
     "start_task"
    ]
   },
   "source": [
    "**Задание 3. Выведите основную информацию о датафрейме с помощью метода `info()`.**"
   ]
  },
  {
   "cell_type": "code",
   "execution_count": 4,
   "id": "e1ed9908",
   "metadata": {
    "id": "e1ed9908"
   },
   "outputs": [
    {
     "name": "stdout",
     "output_type": "stream",
     "text": [
      "<class 'pandas.core.frame.DataFrame'>\n",
      "RangeIndex: 21525 entries, 0 to 21524\n",
      "Data columns (total 12 columns):\n",
      " #   Column            Non-Null Count  Dtype  \n",
      "---  ------            --------------  -----  \n",
      " 0   children          21525 non-null  int64  \n",
      " 1   days_employed     19351 non-null  float64\n",
      " 2   dob_years         21525 non-null  int64  \n",
      " 3   education         21525 non-null  object \n",
      " 4   education_id      21525 non-null  int64  \n",
      " 5   family_status     21525 non-null  object \n",
      " 6   family_status_id  21525 non-null  int64  \n",
      " 7   gender            21525 non-null  object \n",
      " 8   income_type       21525 non-null  object \n",
      " 9   debt              21525 non-null  int64  \n",
      " 10  total_income      19351 non-null  float64\n",
      " 11  purpose           21525 non-null  object \n",
      "dtypes: float64(2), int64(5), object(5)\n",
      "memory usage: 2.0+ MB\n"
     ]
    }
   ],
   "source": [
    "data.info()"
   ]
  },
  {
   "cell_type": "markdown",
   "id": "f969a1cd",
   "metadata": {
    "deletable": false,
    "editable": false,
    "id": "f969a1cd"
   },
   "source": [
    "## Предобработка данных"
   ]
  },
  {
   "cell_type": "markdown",
   "id": "7283e864",
   "metadata": {
    "deletable": false,
    "editable": false,
    "id": "7283e864"
   },
   "source": [
    "### Удаление пропусков"
   ]
  },
  {
   "cell_type": "markdown",
   "id": "c9a0745e",
   "metadata": {
    "deletable": false,
    "editable": false,
    "id": "c9a0745e",
    "tags": [
     "start_task"
    ]
   },
   "source": [
    "**Задание 4. Выведите количество пропущенных значений для каждого столбца. Используйте комбинацию двух методов.**"
   ]
  },
  {
   "cell_type": "code",
   "execution_count": 5,
   "id": "b7a096e1",
   "metadata": {
    "id": "b7a096e1"
   },
   "outputs": [
    {
     "data": {
      "text/plain": [
       "children               0\n",
       "days_employed       2174\n",
       "dob_years              0\n",
       "education              0\n",
       "education_id           0\n",
       "family_status          0\n",
       "family_status_id       0\n",
       "gender                 0\n",
       "income_type            0\n",
       "debt                   0\n",
       "total_income        2174\n",
       "purpose                0\n",
       "dtype: int64"
      ]
     },
     "execution_count": 5,
     "metadata": {},
     "output_type": "execute_result"
    }
   ],
   "source": [
    "data.isna().sum()"
   ]
  },
  {
   "cell_type": "markdown",
   "id": "c2578616",
   "metadata": {
    "deletable": false,
    "editable": false,
    "id": "c2578616",
    "tags": [
     "start_task"
    ]
   },
   "source": [
    "**Задание 5. В двух столбцах есть пропущенные значения. Один из них — `days_employed`. Пропуски в этом столбце вы обработаете на следующем этапе. Другой столбец с пропущенными значениями — `total_income` — хранит данные о доходах. На сумму дохода сильнее всего влияет тип занятости, поэтому заполнить пропуски в этом столбце нужно медианным значением по каждому типу из столбца `income_type`. Например, у человека с типом занятости `сотрудник` пропуск в столбце `total_income` должен быть заполнен медианным доходом среди всех записей с тем же типом.**"
   ]
  },
  {
   "cell_type": "code",
   "execution_count": 6,
   "id": "e8afc4bc",
   "metadata": {
    "id": "e8afc4bc"
   },
   "outputs": [],
   "source": [
    "median_income = data.groupby('income_type')['total_income'].median()\n",
    "data['total_income'] = data['total_income'].fillna(-1)\n",
    "for key in median_income.keys():\n",
    "    data.loc[(data['income_type'] == key) & (data['total_income'] == -1), 'total_income'] = median_income[key]\n",
    "\n",
    "#for d in data['income_type'].unique():\n",
    "#    data.loc[(data['income_type'] == d) & data['total_income'].isna(),'total_income'] = data.loc[(data['income_type'] == d), 'total_income'].mean() \n",
    "    "
   ]
  },
  {
   "cell_type": "markdown",
   "id": "ae986d46",
   "metadata": {
    "deletable": false,
    "editable": false,
    "id": "ae986d46"
   },
   "source": [
    "### Обработка аномальных значений"
   ]
  },
  {
   "cell_type": "markdown",
   "id": "b049cbae",
   "metadata": {
    "deletable": false,
    "editable": false,
    "id": "b049cbae",
    "tags": [
     "start_task"
    ]
   },
   "source": [
    "**Задание 6. В данных могут встречаться артефакты (аномалии) — значения, которые не отражают действительность и появились по какой-то ошибке. Таким артефактом будет отрицательное количество дней трудового стажа в столбце `days_employed`. Для реальных данных это нормально. Обработайте значения в этом столбце: замените все отрицательные значения положительными с помощью метода `abs()`.**"
   ]
  },
  {
   "cell_type": "code",
   "execution_count": 7,
   "id": "187779b0",
   "metadata": {
    "id": "187779b0"
   },
   "outputs": [],
   "source": [
    "data['days_employed'] = data['days_employed'].abs()"
   ]
  },
  {
   "cell_type": "markdown",
   "id": "a13054c2",
   "metadata": {
    "deletable": false,
    "editable": false,
    "id": "a13054c2",
    "tags": [
     "start_task"
    ]
   },
   "source": [
    "**Задание 7. Для каждого типа занятости выведите медианное значение трудового стажа `days_employed` в днях.**"
   ]
  },
  {
   "cell_type": "code",
   "execution_count": 8,
   "id": "f3f5810c",
   "metadata": {
    "id": "f3f5810c"
   },
   "outputs": [
    {
     "data": {
      "text/plain": [
       "income_type\n",
       "безработный        366413.652744\n",
       "в декрете            3296.759962\n",
       "госслужащий          2689.368353\n",
       "компаньон            1547.382223\n",
       "пенсионер          365213.306266\n",
       "предприниматель       520.848083\n",
       "сотрудник            1574.202821\n",
       "студент               578.751554\n",
       "Name: days_employed, dtype: float64"
      ]
     },
     "execution_count": 8,
     "metadata": {},
     "output_type": "execute_result"
    }
   ],
   "source": [
    "median_day_employed = data.groupby('income_type')['days_employed'].median()\n",
    "median_day_employed"
   ]
  },
  {
   "cell_type": "markdown",
   "id": "dbc3168c",
   "metadata": {
    "deletable": false,
    "editable": false,
    "id": "dbc3168c"
   },
   "source": [
    "У двух типов (безработные и пенсионеры) получатся аномально большие значения. Исправить такие значения сложно, поэтому оставьте их как есть."
   ]
  },
  {
   "cell_type": "markdown",
   "id": "ff4378c2",
   "metadata": {
    "deletable": false,
    "editable": false,
    "id": "ff4378c2",
    "tags": [
     "start_task"
    ]
   },
   "source": [
    "**Задание 8. Выведите перечень уникальных значений столбца `children`.**"
   ]
  },
  {
   "cell_type": "code",
   "execution_count": 9,
   "id": "9bd0c232",
   "metadata": {
    "id": "9bd0c232"
   },
   "outputs": [
    {
     "data": {
      "text/html": [
       "<div>\n",
       "<style scoped>\n",
       "    .dataframe tbody tr th:only-of-type {\n",
       "        vertical-align: middle;\n",
       "    }\n",
       "\n",
       "    .dataframe tbody tr th {\n",
       "        vertical-align: top;\n",
       "    }\n",
       "\n",
       "    .dataframe thead th {\n",
       "        text-align: right;\n",
       "    }\n",
       "</style>\n",
       "<table border=\"1\" class=\"dataframe\">\n",
       "  <thead>\n",
       "    <tr style=\"text-align: right;\">\n",
       "      <th></th>\n",
       "      <th>children</th>\n",
       "      <th>days_employed</th>\n",
       "      <th>dob_years</th>\n",
       "      <th>education</th>\n",
       "      <th>education_id</th>\n",
       "      <th>family_status</th>\n",
       "      <th>family_status_id</th>\n",
       "      <th>gender</th>\n",
       "      <th>income_type</th>\n",
       "      <th>debt</th>\n",
       "      <th>total_income</th>\n",
       "      <th>purpose</th>\n",
       "    </tr>\n",
       "  </thead>\n",
       "  <tbody>\n",
       "    <tr>\n",
       "      <th>0</th>\n",
       "      <td>1</td>\n",
       "      <td>8437.673028</td>\n",
       "      <td>42</td>\n",
       "      <td>высшее</td>\n",
       "      <td>0</td>\n",
       "      <td>женат / замужем</td>\n",
       "      <td>0</td>\n",
       "      <td>F</td>\n",
       "      <td>сотрудник</td>\n",
       "      <td>0</td>\n",
       "      <td>253875.639453</td>\n",
       "      <td>покупка жилья</td>\n",
       "    </tr>\n",
       "    <tr>\n",
       "      <th>1</th>\n",
       "      <td>1</td>\n",
       "      <td>4024.803754</td>\n",
       "      <td>36</td>\n",
       "      <td>среднее</td>\n",
       "      <td>1</td>\n",
       "      <td>женат / замужем</td>\n",
       "      <td>0</td>\n",
       "      <td>F</td>\n",
       "      <td>сотрудник</td>\n",
       "      <td>0</td>\n",
       "      <td>112080.014102</td>\n",
       "      <td>приобретение автомобиля</td>\n",
       "    </tr>\n",
       "    <tr>\n",
       "      <th>2</th>\n",
       "      <td>0</td>\n",
       "      <td>5623.422610</td>\n",
       "      <td>33</td>\n",
       "      <td>Среднее</td>\n",
       "      <td>1</td>\n",
       "      <td>женат / замужем</td>\n",
       "      <td>0</td>\n",
       "      <td>M</td>\n",
       "      <td>сотрудник</td>\n",
       "      <td>0</td>\n",
       "      <td>145885.952297</td>\n",
       "      <td>покупка жилья</td>\n",
       "    </tr>\n",
       "    <tr>\n",
       "      <th>3</th>\n",
       "      <td>3</td>\n",
       "      <td>4124.747207</td>\n",
       "      <td>32</td>\n",
       "      <td>среднее</td>\n",
       "      <td>1</td>\n",
       "      <td>женат / замужем</td>\n",
       "      <td>0</td>\n",
       "      <td>M</td>\n",
       "      <td>сотрудник</td>\n",
       "      <td>0</td>\n",
       "      <td>267628.550329</td>\n",
       "      <td>дополнительное образование</td>\n",
       "    </tr>\n",
       "    <tr>\n",
       "      <th>4</th>\n",
       "      <td>0</td>\n",
       "      <td>340266.072047</td>\n",
       "      <td>53</td>\n",
       "      <td>среднее</td>\n",
       "      <td>1</td>\n",
       "      <td>гражданский брак</td>\n",
       "      <td>1</td>\n",
       "      <td>F</td>\n",
       "      <td>пенсионер</td>\n",
       "      <td>0</td>\n",
       "      <td>158616.077870</td>\n",
       "      <td>сыграть свадьбу</td>\n",
       "    </tr>\n",
       "    <tr>\n",
       "      <th>...</th>\n",
       "      <td>...</td>\n",
       "      <td>...</td>\n",
       "      <td>...</td>\n",
       "      <td>...</td>\n",
       "      <td>...</td>\n",
       "      <td>...</td>\n",
       "      <td>...</td>\n",
       "      <td>...</td>\n",
       "      <td>...</td>\n",
       "      <td>...</td>\n",
       "      <td>...</td>\n",
       "      <td>...</td>\n",
       "    </tr>\n",
       "    <tr>\n",
       "      <th>289</th>\n",
       "      <td>1</td>\n",
       "      <td>710.680916</td>\n",
       "      <td>44</td>\n",
       "      <td>среднее</td>\n",
       "      <td>1</td>\n",
       "      <td>женат / замужем</td>\n",
       "      <td>0</td>\n",
       "      <td>F</td>\n",
       "      <td>сотрудник</td>\n",
       "      <td>0</td>\n",
       "      <td>153439.596825</td>\n",
       "      <td>ремонт жилью</td>\n",
       "    </tr>\n",
       "    <tr>\n",
       "      <th>290</th>\n",
       "      <td>0</td>\n",
       "      <td>1006.240054</td>\n",
       "      <td>35</td>\n",
       "      <td>среднее</td>\n",
       "      <td>1</td>\n",
       "      <td>женат / замужем</td>\n",
       "      <td>0</td>\n",
       "      <td>M</td>\n",
       "      <td>компаньон</td>\n",
       "      <td>0</td>\n",
       "      <td>160483.242490</td>\n",
       "      <td>получение дополнительного образования</td>\n",
       "    </tr>\n",
       "    <tr>\n",
       "      <th>291</th>\n",
       "      <td>-1</td>\n",
       "      <td>4417.703588</td>\n",
       "      <td>46</td>\n",
       "      <td>среднее</td>\n",
       "      <td>1</td>\n",
       "      <td>гражданский брак</td>\n",
       "      <td>1</td>\n",
       "      <td>F</td>\n",
       "      <td>сотрудник</td>\n",
       "      <td>0</td>\n",
       "      <td>102816.346412</td>\n",
       "      <td>профильное образование</td>\n",
       "    </tr>\n",
       "    <tr>\n",
       "      <th>292</th>\n",
       "      <td>0</td>\n",
       "      <td>3675.617929</td>\n",
       "      <td>56</td>\n",
       "      <td>среднее</td>\n",
       "      <td>1</td>\n",
       "      <td>женат / замужем</td>\n",
       "      <td>0</td>\n",
       "      <td>F</td>\n",
       "      <td>сотрудник</td>\n",
       "      <td>0</td>\n",
       "      <td>133383.550142</td>\n",
       "      <td>недвижимость</td>\n",
       "    </tr>\n",
       "    <tr>\n",
       "      <th>293</th>\n",
       "      <td>0</td>\n",
       "      <td>360701.126568</td>\n",
       "      <td>65</td>\n",
       "      <td>среднее</td>\n",
       "      <td>1</td>\n",
       "      <td>женат / замужем</td>\n",
       "      <td>0</td>\n",
       "      <td>F</td>\n",
       "      <td>пенсионер</td>\n",
       "      <td>0</td>\n",
       "      <td>169009.307550</td>\n",
       "      <td>недвижимость</td>\n",
       "    </tr>\n",
       "  </tbody>\n",
       "</table>\n",
       "<p>294 rows × 12 columns</p>\n",
       "</div>"
      ],
      "text/plain": [
       "     children  days_employed  dob_years education  education_id  \\\n",
       "0           1    8437.673028         42    высшее             0   \n",
       "1           1    4024.803754         36   среднее             1   \n",
       "2           0    5623.422610         33   Среднее             1   \n",
       "3           3    4124.747207         32   среднее             1   \n",
       "4           0  340266.072047         53   среднее             1   \n",
       "..        ...            ...        ...       ...           ...   \n",
       "289         1     710.680916         44   среднее             1   \n",
       "290         0    1006.240054         35   среднее             1   \n",
       "291        -1    4417.703588         46   среднее             1   \n",
       "292         0    3675.617929         56   среднее             1   \n",
       "293         0  360701.126568         65   среднее             1   \n",
       "\n",
       "        family_status  family_status_id gender income_type  debt  \\\n",
       "0     женат / замужем                 0      F   сотрудник     0   \n",
       "1     женат / замужем                 0      F   сотрудник     0   \n",
       "2     женат / замужем                 0      M   сотрудник     0   \n",
       "3     женат / замужем                 0      M   сотрудник     0   \n",
       "4    гражданский брак                 1      F   пенсионер     0   \n",
       "..                ...               ...    ...         ...   ...   \n",
       "289   женат / замужем                 0      F   сотрудник     0   \n",
       "290   женат / замужем                 0      M   компаньон     0   \n",
       "291  гражданский брак                 1      F   сотрудник     0   \n",
       "292   женат / замужем                 0      F   сотрудник     0   \n",
       "293   женат / замужем                 0      F   пенсионер     0   \n",
       "\n",
       "      total_income                                purpose  \n",
       "0    253875.639453                          покупка жилья  \n",
       "1    112080.014102                приобретение автомобиля  \n",
       "2    145885.952297                          покупка жилья  \n",
       "3    267628.550329             дополнительное образование  \n",
       "4    158616.077870                        сыграть свадьбу  \n",
       "..             ...                                    ...  \n",
       "289  153439.596825                           ремонт жилью  \n",
       "290  160483.242490  получение дополнительного образования  \n",
       "291  102816.346412                 профильное образование  \n",
       "292  133383.550142                           недвижимость  \n",
       "293  169009.307550                           недвижимость  \n",
       "\n",
       "[294 rows x 12 columns]"
      ]
     },
     "execution_count": 9,
     "metadata": {},
     "output_type": "execute_result"
    }
   ],
   "source": [
    "data['children'].unique()\n",
    "data.head(294)"
   ]
  },
  {
   "cell_type": "markdown",
   "id": "8e911990",
   "metadata": {
    "deletable": false,
    "editable": false,
    "id": "8e911990",
    "tags": [
     "start_task"
    ]
   },
   "source": [
    "**Задание 9. В столбце `children` есть два аномальных значения. Удалите строки, в которых встречаются такие аномальные значения из датафрейма `data`.**"
   ]
  },
  {
   "cell_type": "code",
   "execution_count": 10,
   "id": "6d5ba289",
   "metadata": {
    "id": "6d5ba289"
   },
   "outputs": [],
   "source": [
    "data = data.loc[data['children'] != -1]\n",
    "data = data.loc[data['children'] != 20]"
   ]
  },
  {
   "cell_type": "markdown",
   "id": "18d77455",
   "metadata": {
    "deletable": false,
    "editable": false,
    "id": "18d77455",
    "tags": [
     "start_task"
    ]
   },
   "source": [
    "**Задание 10. Ещё раз выведите перечень уникальных значений столбца `children`, чтобы убедиться, что артефакты удалены.**"
   ]
  },
  {
   "cell_type": "code",
   "execution_count": 11,
   "id": "2c5fa92c",
   "metadata": {
    "id": "2c5fa92c"
   },
   "outputs": [
    {
     "data": {
      "text/plain": [
       "array([1, 0, 3, 2, 4, 5])"
      ]
     },
     "execution_count": 11,
     "metadata": {},
     "output_type": "execute_result"
    }
   ],
   "source": [
    "data['children'].unique()"
   ]
  },
  {
   "cell_type": "markdown",
   "id": "0ec07dee",
   "metadata": {
    "deletable": false,
    "editable": false,
    "id": "0ec07dee"
   },
   "source": [
    "### Удаление пропусков (продолжение)"
   ]
  },
  {
   "cell_type": "markdown",
   "id": "0fc3ae3f",
   "metadata": {
    "deletable": false,
    "editable": false,
    "id": "0fc3ae3f",
    "tags": [
     "start_task"
    ]
   },
   "source": [
    "**Задание 11. Заполните пропуски в столбце `days_employed` медианными значениями по каждому типу занятости `income_type`.**"
   ]
  },
  {
   "cell_type": "code",
   "execution_count": 12,
   "id": "e2aea7ac",
   "metadata": {
    "id": "e2aea7ac"
   },
   "outputs": [],
   "source": [
    "median_days_employed = data.groupby('income_type')['days_employed'].median()\n",
    "data['days_employed'] = data['days_employed'].fillna(-1)\n",
    "for key in median_days_employed.keys():\n",
    "    data.loc[(data['income_type'] == key) & (data['days_employed'] == -1), 'days_employed'] = median_days_employed[key]\n",
    "\n",
    "#for d in data['income_type'].unique():\n",
    "#    data.loc[(data['income_type'] == d) & data['days_employed'].isna(),'days_employed'] = data.loc[(data['income_type'] == d), 'days_employed'].mean() "
   ]
  },
  {
   "cell_type": "markdown",
   "id": "97b0b795",
   "metadata": {
    "deletable": false,
    "editable": false,
    "id": "97b0b795",
    "tags": [
     "start_task"
    ]
   },
   "source": [
    "**Задание 12. Убедитесь, что все пропуски заполнены. Проверьте себя и ещё раз выведите количество пропущенных значений для каждого столбца с помощью двух методов.**"
   ]
  },
  {
   "cell_type": "code",
   "execution_count": 13,
   "id": "79632a21",
   "metadata": {
    "id": "79632a21"
   },
   "outputs": [
    {
     "name": "stdout",
     "output_type": "stream",
     "text": [
      "<class 'pandas.core.frame.DataFrame'>\n",
      "Int64Index: 21402 entries, 0 to 21524\n",
      "Data columns (total 12 columns):\n",
      " #   Column            Non-Null Count  Dtype  \n",
      "---  ------            --------------  -----  \n",
      " 0   children          21402 non-null  int64  \n",
      " 1   days_employed     21402 non-null  float64\n",
      " 2   dob_years         21402 non-null  int64  \n",
      " 3   education         21402 non-null  object \n",
      " 4   education_id      21402 non-null  int64  \n",
      " 5   family_status     21402 non-null  object \n",
      " 6   family_status_id  21402 non-null  int64  \n",
      " 7   gender            21402 non-null  object \n",
      " 8   income_type       21402 non-null  object \n",
      " 9   debt              21402 non-null  int64  \n",
      " 10  total_income      21402 non-null  float64\n",
      " 11  purpose           21402 non-null  object \n",
      "dtypes: float64(2), int64(5), object(5)\n",
      "memory usage: 2.1+ MB\n",
      "children            0\n",
      "days_employed       0\n",
      "dob_years           0\n",
      "education           0\n",
      "education_id        0\n",
      "family_status       0\n",
      "family_status_id    0\n",
      "gender              0\n",
      "income_type         0\n",
      "debt                0\n",
      "total_income        0\n",
      "purpose             0\n",
      "dtype: int64\n"
     ]
    }
   ],
   "source": [
    "data.info()\n",
    "print(data.isna().sum())"
   ]
  },
  {
   "cell_type": "markdown",
   "id": "bd4aeb20",
   "metadata": {
    "deletable": false,
    "editable": false,
    "id": "bd4aeb20"
   },
   "source": [
    "### Изменение типов данных"
   ]
  },
  {
   "cell_type": "markdown",
   "id": "963bfa58",
   "metadata": {
    "deletable": false,
    "editable": false,
    "id": "963bfa58",
    "tags": [
     "start_task"
    ]
   },
   "source": [
    "**Задание 13. Замените вещественный тип данных в столбце `total_income` на целочисленный с помощью метода `astype()`.**"
   ]
  },
  {
   "cell_type": "code",
   "execution_count": 14,
   "id": "73da6ea0",
   "metadata": {
    "id": "73da6ea0"
   },
   "outputs": [],
   "source": [
    "data['total_income'] = data['total_income'].astype('int')"
   ]
  },
  {
   "cell_type": "markdown",
   "id": "d290239e",
   "metadata": {
    "deletable": false,
    "editable": false,
    "id": "d290239e"
   },
   "source": [
    "### Обработка дубликатов"
   ]
  },
  {
   "cell_type": "markdown",
   "id": "1b5844fd",
   "metadata": {
    "deletable": false,
    "editable": false,
    "id": "1b5844fd",
    "tags": [
     "start_task"
    ]
   },
   "source": [
    "**Задание 14. Обработайте неявные дубликаты в столбце `education`. В этом столбце есть одни и те же значения, но записанные по-разному: с использованием заглавных и строчных букв. Приведите их к нижнему регистру.**"
   ]
  },
  {
   "cell_type": "code",
   "execution_count": 15,
   "id": "3f2504b3",
   "metadata": {
    "id": "3f2504b3"
   },
   "outputs": [],
   "source": [
    "data['education'] = data['education'].str.lower()"
   ]
  },
  {
   "cell_type": "markdown",
   "id": "4c22acbc",
   "metadata": {
    "deletable": false,
    "editable": false,
    "id": "4c22acbc",
    "tags": [
     "start_task"
    ]
   },
   "source": [
    "**Задание 15. Выведите на экран количество строк-дубликатов в данных. Если такие строки присутствуют, удалите их.**"
   ]
  },
  {
   "cell_type": "code",
   "execution_count": 16,
   "id": "d34a4325",
   "metadata": {
    "id": "d34a4325"
   },
   "outputs": [
    {
     "data": {
      "text/plain": [
       "71"
      ]
     },
     "execution_count": 16,
     "metadata": {},
     "output_type": "execute_result"
    }
   ],
   "source": [
    "data.duplicated().sum() # посчитайте дубликаты"
   ]
  },
  {
   "cell_type": "code",
   "execution_count": 17,
   "id": "6e1a6499",
   "metadata": {
    "id": "6e1a6499"
   },
   "outputs": [],
   "source": [
    "data = data.drop_duplicates() # удалите дубликаты\n"
   ]
  },
  {
   "cell_type": "markdown",
   "id": "e5686ccc",
   "metadata": {
    "deletable": false,
    "editable": false,
    "id": "e5686ccc"
   },
   "source": [
    "### Категоризация данных"
   ]
  },
  {
   "cell_type": "markdown",
   "id": "636e9acd",
   "metadata": {
    "deletable": false,
    "editable": false,
    "id": "636e9acd",
    "tags": [
     "start_task"
    ]
   },
   "source": [
    "**Задание 16. На основании диапазонов, указанных ниже, создайте в датафрейме `data` столбец `total_income_category` с категориями:**\n",
    "\n",
    "- 0–30000 — `'E'`;\n",
    "- 30001–50000 — `'D'`;\n",
    "- 50001–200000 — `'C'`;\n",
    "- 200001–1000000 — `'B'`;\n",
    "- 1000001 и выше — `'A'`.\n",
    "\n",
    "\n",
    "**Например, кредитополучателю с доходом 25000 нужно назначить категорию `'E'`, а клиенту, получающему 235000, — `'B'`. Используйте собственную функцию с именем `categorize_income()` и метод `apply()`.**"
   ]
  },
  {
   "cell_type": "code",
   "execution_count": 29,
   "id": "880a77e5",
   "metadata": {
    "id": "880a77e5"
   },
   "outputs": [],
   "source": [
    "# создайте функцию categorize_income()\n",
    "def categorize_income(income):\n",
    "    if income <= 30000: return 'E'\n",
    "    if (income > 30000) & (income <= 50000): return 'D'\n",
    "    if (income > 50000) & (income <= 200000): return 'C'\n",
    "    if (income > 200000) & (income <= 1000000): return 'B'\n",
    "    if income > 1000000: return 'A'"
   ]
  },
  {
   "cell_type": "code",
   "execution_count": 30,
   "id": "6f25f161",
   "metadata": {
    "id": "6f25f161"
   },
   "outputs": [
    {
     "data": {
      "text/html": [
       "<div>\n",
       "<style scoped>\n",
       "    .dataframe tbody tr th:only-of-type {\n",
       "        vertical-align: middle;\n",
       "    }\n",
       "\n",
       "    .dataframe tbody tr th {\n",
       "        vertical-align: top;\n",
       "    }\n",
       "\n",
       "    .dataframe thead th {\n",
       "        text-align: right;\n",
       "    }\n",
       "</style>\n",
       "<table border=\"1\" class=\"dataframe\">\n",
       "  <thead>\n",
       "    <tr style=\"text-align: right;\">\n",
       "      <th></th>\n",
       "      <th>children</th>\n",
       "      <th>days_employed</th>\n",
       "      <th>dob_years</th>\n",
       "      <th>education</th>\n",
       "      <th>education_id</th>\n",
       "      <th>family_status</th>\n",
       "      <th>family_status_id</th>\n",
       "      <th>gender</th>\n",
       "      <th>income_type</th>\n",
       "      <th>debt</th>\n",
       "      <th>total_income</th>\n",
       "      <th>purpose</th>\n",
       "      <th>total_income_category</th>\n",
       "    </tr>\n",
       "  </thead>\n",
       "  <tbody>\n",
       "    <tr>\n",
       "      <th>0</th>\n",
       "      <td>1</td>\n",
       "      <td>8437.673028</td>\n",
       "      <td>42</td>\n",
       "      <td>высшее</td>\n",
       "      <td>0</td>\n",
       "      <td>женат / замужем</td>\n",
       "      <td>0</td>\n",
       "      <td>F</td>\n",
       "      <td>сотрудник</td>\n",
       "      <td>0</td>\n",
       "      <td>253875</td>\n",
       "      <td>покупка жилья</td>\n",
       "      <td>B</td>\n",
       "    </tr>\n",
       "    <tr>\n",
       "      <th>1</th>\n",
       "      <td>1</td>\n",
       "      <td>4024.803754</td>\n",
       "      <td>36</td>\n",
       "      <td>среднее</td>\n",
       "      <td>1</td>\n",
       "      <td>женат / замужем</td>\n",
       "      <td>0</td>\n",
       "      <td>F</td>\n",
       "      <td>сотрудник</td>\n",
       "      <td>0</td>\n",
       "      <td>112080</td>\n",
       "      <td>приобретение автомобиля</td>\n",
       "      <td>C</td>\n",
       "    </tr>\n",
       "    <tr>\n",
       "      <th>2</th>\n",
       "      <td>0</td>\n",
       "      <td>5623.422610</td>\n",
       "      <td>33</td>\n",
       "      <td>среднее</td>\n",
       "      <td>1</td>\n",
       "      <td>женат / замужем</td>\n",
       "      <td>0</td>\n",
       "      <td>M</td>\n",
       "      <td>сотрудник</td>\n",
       "      <td>0</td>\n",
       "      <td>145885</td>\n",
       "      <td>покупка жилья</td>\n",
       "      <td>C</td>\n",
       "    </tr>\n",
       "    <tr>\n",
       "      <th>3</th>\n",
       "      <td>3</td>\n",
       "      <td>4124.747207</td>\n",
       "      <td>32</td>\n",
       "      <td>среднее</td>\n",
       "      <td>1</td>\n",
       "      <td>женат / замужем</td>\n",
       "      <td>0</td>\n",
       "      <td>M</td>\n",
       "      <td>сотрудник</td>\n",
       "      <td>0</td>\n",
       "      <td>267628</td>\n",
       "      <td>дополнительное образование</td>\n",
       "      <td>B</td>\n",
       "    </tr>\n",
       "    <tr>\n",
       "      <th>4</th>\n",
       "      <td>0</td>\n",
       "      <td>340266.072047</td>\n",
       "      <td>53</td>\n",
       "      <td>среднее</td>\n",
       "      <td>1</td>\n",
       "      <td>гражданский брак</td>\n",
       "      <td>1</td>\n",
       "      <td>F</td>\n",
       "      <td>пенсионер</td>\n",
       "      <td>0</td>\n",
       "      <td>158616</td>\n",
       "      <td>сыграть свадьбу</td>\n",
       "      <td>C</td>\n",
       "    </tr>\n",
       "  </tbody>\n",
       "</table>\n",
       "</div>"
      ],
      "text/plain": [
       "   children  days_employed  dob_years education  education_id  \\\n",
       "0         1    8437.673028         42    высшее             0   \n",
       "1         1    4024.803754         36   среднее             1   \n",
       "2         0    5623.422610         33   среднее             1   \n",
       "3         3    4124.747207         32   среднее             1   \n",
       "4         0  340266.072047         53   среднее             1   \n",
       "\n",
       "      family_status  family_status_id gender income_type  debt  total_income  \\\n",
       "0   женат / замужем                 0      F   сотрудник     0        253875   \n",
       "1   женат / замужем                 0      F   сотрудник     0        112080   \n",
       "2   женат / замужем                 0      M   сотрудник     0        145885   \n",
       "3   женат / замужем                 0      M   сотрудник     0        267628   \n",
       "4  гражданский брак                 1      F   пенсионер     0        158616   \n",
       "\n",
       "                      purpose total_income_category  \n",
       "0               покупка жилья                     B  \n",
       "1     приобретение автомобиля                     C  \n",
       "2               покупка жилья                     C  \n",
       "3  дополнительное образование                     B  \n",
       "4             сыграть свадьбу                     C  "
      ]
     },
     "execution_count": 30,
     "metadata": {},
     "output_type": "execute_result"
    }
   ],
   "source": [
    "data['total_income_category'] = data['total_income'].apply(categorize_income) \n",
    "data.head()"
   ]
  },
  {
   "cell_type": "markdown",
   "id": "3363b685",
   "metadata": {
    "deletable": false,
    "editable": false,
    "id": "3363b685",
    "tags": [
     "start_task"
    ]
   },
   "source": [
    "**Задание 17. Выведите на экран перечень уникальных целей взятия кредита из столбца `purpose`.**"
   ]
  },
  {
   "cell_type": "code",
   "execution_count": 31,
   "id": "e59f2c15",
   "metadata": {
    "id": "e59f2c15"
   },
   "outputs": [
    {
     "name": "stdout",
     "output_type": "stream",
     "text": [
      "['покупка жилья' 'приобретение автомобиля' 'дополнительное образование'\n",
      " 'сыграть свадьбу' 'операции с жильем' 'образование'\n",
      " 'на проведение свадьбы' 'покупка жилья для семьи' 'покупка недвижимости'\n",
      " 'покупка коммерческой недвижимости' 'покупка жилой недвижимости'\n",
      " 'строительство собственной недвижимости' 'недвижимость'\n",
      " 'строительство недвижимости' 'на покупку подержанного автомобиля'\n",
      " 'на покупку своего автомобиля' 'операции с коммерческой недвижимостью'\n",
      " 'строительство жилой недвижимости' 'жилье'\n",
      " 'операции со своей недвижимостью' 'автомобили' 'заняться образованием'\n",
      " 'сделка с подержанным автомобилем' 'получение образования' 'автомобиль'\n",
      " 'свадьба' 'получение дополнительного образования' 'покупка своего жилья'\n",
      " 'операции с недвижимостью' 'получение высшего образования'\n",
      " 'свой автомобиль' 'сделка с автомобилем' 'профильное образование'\n",
      " 'высшее образование' 'покупка жилья для сдачи' 'на покупку автомобиля'\n",
      " 'ремонт жилью' 'заняться высшим образованием']\n"
     ]
    }
   ],
   "source": [
    "print(data['purpose'].unique())"
   ]
  },
  {
   "cell_type": "markdown",
   "id": "bb33e847",
   "metadata": {
    "deletable": false,
    "editable": false,
    "id": "bb33e847",
    "tags": [
     "start_task"
    ]
   },
   "source": [
    "**Задание 18. Создайте функцию, которая на основании данных из столбца `purpose` сформирует новый столбец `purpose_category`, в который войдут следующие категории:**\n",
    "\n",
    "- `'операции с автомобилем'`,\n",
    "- `'операции с недвижимостью'`,\n",
    "- `'проведение свадьбы'`,\n",
    "- `'получение образования'`.\n",
    "\n",
    "**Например, если в столбце `purpose` находится подстрока `'на покупку автомобиля'`, то в столбце `purpose_category` должна появиться строка `'операции с автомобилем'`.**\n",
    "\n",
    "**Используйте собственную функцию с именем `categorize_purpose()` и метод `apply()`. Изучите данные в столбце `purpose` и определите, какие подстроки помогут вам правильно определить категорию.**"
   ]
  },
  {
   "cell_type": "code",
   "execution_count": 32,
   "id": "63909b83",
   "metadata": {
    "id": "63909b83"
   },
   "outputs": [],
   "source": [
    "# создайте функцию categorize_purpose()\n",
    "def categorize_purpose(purpose):\n",
    "    if 'авто' in purpose: return 'операции с автомобилем'\n",
    "    if 'недвиж' in purpose: return 'операции с недвижимостью'\n",
    "    if 'жиль' in purpose: return 'операции с недвижимостью'\n",
    "    if 'образ' in purpose: return 'получение образования'\n",
    "    if 'свадь' in purpose: return 'проведение свадьбы'"
   ]
  },
  {
   "cell_type": "code",
   "execution_count": 33,
   "id": "7cb4a81d",
   "metadata": {
    "id": "7cb4a81d"
   },
   "outputs": [],
   "source": [
    "data['purpose_category'] = data['purpose'].apply(categorize_purpose)\n"
   ]
  },
  {
   "cell_type": "code",
   "execution_count": null,
   "id": "c1860c8a",
   "metadata": {},
   "outputs": [],
   "source": []
  }
 ],
 "metadata": {
  "ExecuteTimeLog": [
   {
    "duration": 46,
    "start_time": "2024-03-23T06:06:17.726Z"
   },
   {
    "duration": 436,
    "start_time": "2024-03-23T06:06:27.499Z"
   },
   {
    "duration": 26,
    "start_time": "2024-03-23T06:06:46.626Z"
   },
   {
    "duration": 9,
    "start_time": "2024-03-23T06:06:56.417Z"
   },
   {
    "duration": 224,
    "start_time": "2024-03-23T06:07:02.762Z"
   },
   {
    "duration": 10,
    "start_time": "2024-03-23T06:07:18.903Z"
   },
   {
    "duration": 9,
    "start_time": "2024-03-23T06:08:30.427Z"
   },
   {
    "duration": 16,
    "start_time": "2024-03-23T06:09:01.227Z"
   },
   {
    "duration": 10,
    "start_time": "2024-03-23T06:10:28.290Z"
   },
   {
    "duration": 76,
    "start_time": "2024-03-23T06:13:12.538Z"
   },
   {
    "duration": 8,
    "start_time": "2024-03-23T06:13:18.169Z"
   },
   {
    "duration": 6,
    "start_time": "2024-03-23T06:16:03.286Z"
   },
   {
    "duration": 3,
    "start_time": "2024-03-23T06:19:24.127Z"
   },
   {
    "duration": 33,
    "start_time": "2024-03-23T06:19:42.881Z"
   },
   {
    "duration": 15,
    "start_time": "2024-03-23T06:24:27.815Z"
   },
   {
    "duration": 1348,
    "start_time": "2024-03-23T06:24:42.111Z"
   },
   {
    "duration": 71,
    "start_time": "2024-03-23T06:25:14.488Z"
   },
   {
    "duration": 73,
    "start_time": "2024-03-23T06:25:33.379Z"
   },
   {
    "duration": 63,
    "start_time": "2024-03-23T06:26:27.120Z"
   },
   {
    "duration": 73,
    "start_time": "2024-03-23T06:26:36.160Z"
   },
   {
    "duration": 73,
    "start_time": "2024-03-23T06:27:27.339Z"
   },
   {
    "duration": 12,
    "start_time": "2024-03-23T06:28:13.302Z"
   },
   {
    "duration": 69,
    "start_time": "2024-03-23T06:29:57.683Z"
   },
   {
    "duration": 73,
    "start_time": "2024-03-23T06:30:21.368Z"
   },
   {
    "duration": 71,
    "start_time": "2024-03-23T06:30:58.565Z"
   },
   {
    "duration": 8,
    "start_time": "2024-03-23T06:31:43.032Z"
   },
   {
    "duration": 422,
    "start_time": "2024-03-23T06:32:07.410Z"
   },
   {
    "duration": 84,
    "start_time": "2024-03-23T06:32:08.198Z"
   },
   {
    "duration": 10,
    "start_time": "2024-03-23T06:32:10.053Z"
   },
   {
    "duration": 18,
    "start_time": "2024-03-23T06:32:13.500Z"
   },
   {
    "duration": 11,
    "start_time": "2024-03-23T06:32:15.802Z"
   },
   {
    "duration": 7,
    "start_time": "2024-03-23T06:32:19.118Z"
   },
   {
    "duration": 8,
    "start_time": "2024-03-23T06:34:22.162Z"
   },
   {
    "duration": 11,
    "start_time": "2024-03-23T06:34:50.076Z"
   },
   {
    "duration": 11,
    "start_time": "2024-03-23T06:34:57.005Z"
   },
   {
    "duration": 10,
    "start_time": "2024-03-23T06:36:07.207Z"
   },
   {
    "duration": 14,
    "start_time": "2024-03-23T06:39:17.992Z"
   },
   {
    "duration": 12,
    "start_time": "2024-03-23T06:41:18.298Z"
   },
   {
    "duration": 71,
    "start_time": "2024-03-23T06:42:39.341Z"
   },
   {
    "duration": 11,
    "start_time": "2024-03-23T06:43:06.887Z"
   },
   {
    "duration": 8,
    "start_time": "2024-03-23T06:43:36.281Z"
   },
   {
    "duration": 7,
    "start_time": "2024-03-23T06:44:05.042Z"
   },
   {
    "duration": 391,
    "start_time": "2024-03-23T06:44:19.556Z"
   },
   {
    "duration": 82,
    "start_time": "2024-03-23T06:44:19.948Z"
   },
   {
    "duration": 11,
    "start_time": "2024-03-23T06:44:20.031Z"
   },
   {
    "duration": 37,
    "start_time": "2024-03-23T06:44:20.045Z"
   },
   {
    "duration": 10,
    "start_time": "2024-03-23T06:44:20.083Z"
   },
   {
    "duration": 23,
    "start_time": "2024-03-23T06:44:20.095Z"
   },
   {
    "duration": 3,
    "start_time": "2024-03-23T06:44:20.119Z"
   },
   {
    "duration": 6,
    "start_time": "2024-03-23T06:44:20.123Z"
   },
   {
    "duration": 8,
    "start_time": "2024-03-23T06:44:20.130Z"
   },
   {
    "duration": 3,
    "start_time": "2024-03-23T06:44:20.140Z"
   },
   {
    "duration": 10,
    "start_time": "2024-03-23T06:44:20.144Z"
   },
   {
    "duration": 13,
    "start_time": "2024-03-23T06:44:20.156Z"
   },
   {
    "duration": 4,
    "start_time": "2024-03-23T06:44:20.170Z"
   },
   {
    "duration": 7,
    "start_time": "2024-03-23T06:44:20.175Z"
   },
   {
    "duration": 5,
    "start_time": "2024-03-23T06:44:20.183Z"
   },
   {
    "duration": 3,
    "start_time": "2024-03-23T06:44:20.190Z"
   },
   {
    "duration": 20,
    "start_time": "2024-03-23T06:44:20.195Z"
   },
   {
    "duration": 7,
    "start_time": "2024-03-23T06:44:20.216Z"
   },
   {
    "duration": 15,
    "start_time": "2024-03-23T06:44:20.224Z"
   },
   {
    "duration": 4,
    "start_time": "2024-03-23T06:44:20.241Z"
   },
   {
    "duration": 4,
    "start_time": "2024-03-23T06:44:20.247Z"
   },
   {
    "duration": 4,
    "start_time": "2024-03-23T06:44:20.253Z"
   },
   {
    "duration": 443,
    "start_time": "2024-03-23T06:45:46.603Z"
   },
   {
    "duration": 81,
    "start_time": "2024-03-23T06:45:47.048Z"
   },
   {
    "duration": 11,
    "start_time": "2024-03-23T06:45:47.131Z"
   },
   {
    "duration": 16,
    "start_time": "2024-03-23T06:45:47.144Z"
   },
   {
    "duration": 9,
    "start_time": "2024-03-23T06:45:47.162Z"
   },
   {
    "duration": 96,
    "start_time": "2024-03-23T06:45:47.173Z"
   },
   {
    "duration": 3,
    "start_time": "2024-03-23T06:45:47.271Z"
   },
   {
    "duration": 28,
    "start_time": "2024-03-23T06:45:47.276Z"
   },
   {
    "duration": 34,
    "start_time": "2024-03-23T06:45:47.306Z"
   },
   {
    "duration": 3,
    "start_time": "2024-03-23T06:45:47.343Z"
   },
   {
    "duration": 4,
    "start_time": "2024-03-23T06:45:47.348Z"
   },
   {
    "duration": 5,
    "start_time": "2024-03-23T06:45:47.354Z"
   },
   {
    "duration": 9,
    "start_time": "2024-03-23T06:45:47.360Z"
   },
   {
    "duration": 5,
    "start_time": "2024-03-23T06:45:47.371Z"
   },
   {
    "duration": 4,
    "start_time": "2024-03-23T06:45:47.378Z"
   },
   {
    "duration": 3,
    "start_time": "2024-03-23T06:45:47.384Z"
   },
   {
    "duration": 19,
    "start_time": "2024-03-23T06:45:47.389Z"
   },
   {
    "duration": 8,
    "start_time": "2024-03-23T06:45:47.409Z"
   },
   {
    "duration": 11,
    "start_time": "2024-03-23T06:45:47.419Z"
   },
   {
    "duration": 11,
    "start_time": "2024-03-23T06:45:47.432Z"
   },
   {
    "duration": 4,
    "start_time": "2024-03-23T06:45:47.445Z"
   },
   {
    "duration": 3,
    "start_time": "2024-03-23T06:45:47.450Z"
   },
   {
    "duration": 70,
    "start_time": "2024-03-23T06:47:24.829Z"
   },
   {
    "duration": 8,
    "start_time": "2024-03-23T06:47:56.477Z"
   },
   {
    "duration": 71,
    "start_time": "2024-03-23T06:48:40.962Z"
   },
   {
    "duration": 12,
    "start_time": "2024-03-23T06:53:06.072Z"
   },
   {
    "duration": 11,
    "start_time": "2024-03-23T06:53:35.463Z"
   },
   {
    "duration": 10,
    "start_time": "2024-03-23T06:53:55.781Z"
   },
   {
    "duration": 5,
    "start_time": "2024-03-23T06:54:14.156Z"
   },
   {
    "duration": 67,
    "start_time": "2024-03-23T06:54:21.470Z"
   },
   {
    "duration": 14,
    "start_time": "2024-03-23T06:54:26.791Z"
   },
   {
    "duration": 7,
    "start_time": "2024-03-23T06:54:47.301Z"
   },
   {
    "duration": 361,
    "start_time": "2024-03-23T06:57:05.064Z"
   },
   {
    "duration": 79,
    "start_time": "2024-03-23T06:57:05.427Z"
   },
   {
    "duration": 9,
    "start_time": "2024-03-23T06:57:05.508Z"
   },
   {
    "duration": 19,
    "start_time": "2024-03-23T06:57:05.519Z"
   },
   {
    "duration": 16,
    "start_time": "2024-03-23T06:57:05.540Z"
   },
   {
    "duration": 68,
    "start_time": "2024-03-23T06:57:05.557Z"
   },
   {
    "duration": 3,
    "start_time": "2024-03-23T06:57:05.626Z"
   },
   {
    "duration": 5,
    "start_time": "2024-03-23T06:57:05.630Z"
   },
   {
    "duration": 4,
    "start_time": "2024-03-23T06:57:05.637Z"
   },
   {
    "duration": 4,
    "start_time": "2024-03-23T06:57:05.644Z"
   },
   {
    "duration": 4,
    "start_time": "2024-03-23T06:57:05.649Z"
   },
   {
    "duration": 5,
    "start_time": "2024-03-23T06:57:05.655Z"
   },
   {
    "duration": 13,
    "start_time": "2024-03-23T06:57:05.661Z"
   },
   {
    "duration": 9,
    "start_time": "2024-03-23T06:57:05.676Z"
   },
   {
    "duration": 3,
    "start_time": "2024-03-23T06:57:05.686Z"
   },
   {
    "duration": 19,
    "start_time": "2024-03-23T06:57:05.690Z"
   },
   {
    "duration": 4,
    "start_time": "2024-03-23T06:57:05.710Z"
   },
   {
    "duration": 5,
    "start_time": "2024-03-23T06:57:05.715Z"
   },
   {
    "duration": 6,
    "start_time": "2024-03-23T06:57:05.722Z"
   },
   {
    "duration": 4,
    "start_time": "2024-03-23T06:57:05.730Z"
   },
   {
    "duration": 4,
    "start_time": "2024-03-23T06:57:05.735Z"
   },
   {
    "duration": 24,
    "start_time": "2024-03-23T06:57:05.740Z"
   },
   {
    "duration": 71,
    "start_time": "2024-03-23T07:08:38.005Z"
   },
   {
    "duration": 71,
    "start_time": "2024-03-23T07:08:47.920Z"
   },
   {
    "duration": 390,
    "start_time": "2024-03-23T07:48:15.674Z"
   },
   {
    "duration": 80,
    "start_time": "2024-03-23T07:48:16.066Z"
   },
   {
    "duration": 9,
    "start_time": "2024-03-23T07:48:16.148Z"
   },
   {
    "duration": 21,
    "start_time": "2024-03-23T07:48:16.159Z"
   },
   {
    "duration": 9,
    "start_time": "2024-03-23T07:48:16.182Z"
   },
   {
    "duration": 83,
    "start_time": "2024-03-23T07:48:16.193Z"
   },
   {
    "duration": 2,
    "start_time": "2024-03-23T07:48:16.278Z"
   },
   {
    "duration": 14,
    "start_time": "2024-03-23T07:48:16.281Z"
   },
   {
    "duration": 23,
    "start_time": "2024-03-23T07:48:16.296Z"
   },
   {
    "duration": 3,
    "start_time": "2024-03-23T07:48:16.322Z"
   },
   {
    "duration": 8,
    "start_time": "2024-03-23T07:48:16.326Z"
   },
   {
    "duration": 12,
    "start_time": "2024-03-23T07:48:16.335Z"
   },
   {
    "duration": 10,
    "start_time": "2024-03-23T07:48:16.348Z"
   },
   {
    "duration": 15,
    "start_time": "2024-03-23T07:48:16.359Z"
   },
   {
    "duration": 11,
    "start_time": "2024-03-23T07:48:16.375Z"
   },
   {
    "duration": 14,
    "start_time": "2024-03-23T07:48:16.388Z"
   },
   {
    "duration": 6,
    "start_time": "2024-03-23T07:48:16.404Z"
   },
   {
    "duration": 7,
    "start_time": "2024-03-23T07:48:16.411Z"
   },
   {
    "duration": 5,
    "start_time": "2024-03-23T07:48:16.419Z"
   },
   {
    "duration": 4,
    "start_time": "2024-03-23T07:48:16.425Z"
   },
   {
    "duration": 5,
    "start_time": "2024-03-23T07:48:16.430Z"
   },
   {
    "duration": 10,
    "start_time": "2024-03-23T07:48:16.436Z"
   },
   {
    "duration": 8,
    "start_time": "2024-03-23T07:49:58.386Z"
   },
   {
    "duration": 11,
    "start_time": "2024-03-23T07:50:35.041Z"
   },
   {
    "duration": 69,
    "start_time": "2024-03-23T07:50:50.476Z"
   },
   {
    "duration": 385,
    "start_time": "2024-03-23T07:51:18.648Z"
   },
   {
    "duration": 81,
    "start_time": "2024-03-23T07:51:19.035Z"
   },
   {
    "duration": 10,
    "start_time": "2024-03-23T07:51:19.118Z"
   },
   {
    "duration": 15,
    "start_time": "2024-03-23T07:51:19.130Z"
   },
   {
    "duration": 9,
    "start_time": "2024-03-23T07:51:19.147Z"
   },
   {
    "duration": 87,
    "start_time": "2024-03-23T07:51:19.158Z"
   },
   {
    "duration": 3,
    "start_time": "2024-03-23T07:51:19.246Z"
   },
   {
    "duration": 7,
    "start_time": "2024-03-23T07:51:19.250Z"
   },
   {
    "duration": 4,
    "start_time": "2024-03-23T07:51:19.258Z"
   },
   {
    "duration": 2,
    "start_time": "2024-03-23T07:51:19.264Z"
   },
   {
    "duration": 11,
    "start_time": "2024-03-23T07:51:19.268Z"
   },
   {
    "duration": 5,
    "start_time": "2024-03-23T07:51:19.280Z"
   },
   {
    "duration": 5,
    "start_time": "2024-03-23T07:51:19.286Z"
   },
   {
    "duration": 5,
    "start_time": "2024-03-23T07:51:19.292Z"
   },
   {
    "duration": 17,
    "start_time": "2024-03-23T07:51:19.298Z"
   },
   {
    "duration": 9,
    "start_time": "2024-03-23T07:51:19.316Z"
   },
   {
    "duration": 4,
    "start_time": "2024-03-23T07:51:19.326Z"
   },
   {
    "duration": 4,
    "start_time": "2024-03-23T07:51:19.331Z"
   },
   {
    "duration": 3,
    "start_time": "2024-03-23T07:51:19.336Z"
   },
   {
    "duration": 9,
    "start_time": "2024-03-23T07:51:19.341Z"
   },
   {
    "duration": 4,
    "start_time": "2024-03-23T07:51:19.352Z"
   },
   {
    "duration": 3,
    "start_time": "2024-03-23T07:51:19.357Z"
   },
   {
    "duration": 73,
    "start_time": "2024-03-23T07:51:28.766Z"
   },
   {
    "duration": 71,
    "start_time": "2024-03-23T07:51:39.144Z"
   },
   {
    "duration": 386,
    "start_time": "2024-03-23T07:52:13.345Z"
   },
   {
    "duration": 79,
    "start_time": "2024-03-23T07:52:13.732Z"
   },
   {
    "duration": 9,
    "start_time": "2024-03-23T07:52:13.813Z"
   },
   {
    "duration": 22,
    "start_time": "2024-03-23T07:52:13.824Z"
   },
   {
    "duration": 9,
    "start_time": "2024-03-23T07:52:13.848Z"
   },
   {
    "duration": 15,
    "start_time": "2024-03-23T07:52:13.859Z"
   },
   {
    "duration": 5,
    "start_time": "2024-03-23T07:52:13.875Z"
   },
   {
    "duration": 4,
    "start_time": "2024-03-23T07:52:13.881Z"
   },
   {
    "duration": 3,
    "start_time": "2024-03-23T07:52:13.886Z"
   },
   {
    "duration": 4,
    "start_time": "2024-03-23T07:52:13.891Z"
   },
   {
    "duration": 7,
    "start_time": "2024-03-23T07:52:13.896Z"
   },
   {
    "duration": 9,
    "start_time": "2024-03-23T07:52:13.905Z"
   },
   {
    "duration": 6,
    "start_time": "2024-03-23T07:52:13.916Z"
   },
   {
    "duration": 4,
    "start_time": "2024-03-23T07:52:13.924Z"
   },
   {
    "duration": 6,
    "start_time": "2024-03-23T07:52:13.929Z"
   },
   {
    "duration": 10,
    "start_time": "2024-03-23T07:52:13.936Z"
   },
   {
    "duration": 9,
    "start_time": "2024-03-23T07:52:13.947Z"
   },
   {
    "duration": 12,
    "start_time": "2024-03-23T07:52:13.958Z"
   },
   {
    "duration": 4,
    "start_time": "2024-03-23T07:52:13.971Z"
   },
   {
    "duration": 4,
    "start_time": "2024-03-23T07:52:13.976Z"
   },
   {
    "duration": 3,
    "start_time": "2024-03-23T07:52:13.981Z"
   },
   {
    "duration": 4,
    "start_time": "2024-03-23T07:52:13.986Z"
   },
   {
    "duration": 2,
    "start_time": "2024-03-23T07:52:21.071Z"
   },
   {
    "duration": 49,
    "start_time": "2024-03-23T07:52:42.836Z"
   },
   {
    "duration": 416,
    "start_time": "2024-03-23T07:52:47.016Z"
   },
   {
    "duration": 82,
    "start_time": "2024-03-23T07:52:47.814Z"
   },
   {
    "duration": 13,
    "start_time": "2024-03-23T07:52:49.652Z"
   },
   {
    "duration": 16,
    "start_time": "2024-03-23T07:52:51.515Z"
   },
   {
    "duration": 12,
    "start_time": "2024-03-23T07:52:55.042Z"
   },
   {
    "duration": 8,
    "start_time": "2024-03-23T07:52:58.865Z"
   },
   {
    "duration": 12,
    "start_time": "2024-03-23T07:53:28.424Z"
   },
   {
    "duration": 49,
    "start_time": "2024-03-23T07:54:02.304Z"
   },
   {
    "duration": 417,
    "start_time": "2024-03-23T07:54:12.320Z"
   },
   {
    "duration": 80,
    "start_time": "2024-03-23T07:54:12.739Z"
   },
   {
    "duration": 10,
    "start_time": "2024-03-23T07:54:12.820Z"
   },
   {
    "duration": 17,
    "start_time": "2024-03-23T07:54:12.832Z"
   },
   {
    "duration": 10,
    "start_time": "2024-03-23T07:54:12.852Z"
   },
   {
    "duration": 9,
    "start_time": "2024-03-23T07:54:12.863Z"
   },
   {
    "duration": 3,
    "start_time": "2024-03-23T07:54:12.874Z"
   },
   {
    "duration": 3,
    "start_time": "2024-03-23T07:54:12.879Z"
   },
   {
    "duration": 32,
    "start_time": "2024-03-23T07:54:12.883Z"
   },
   {
    "duration": 4,
    "start_time": "2024-03-23T07:54:12.917Z"
   },
   {
    "duration": 6,
    "start_time": "2024-03-23T07:54:12.922Z"
   },
   {
    "duration": 4,
    "start_time": "2024-03-23T07:54:12.929Z"
   },
   {
    "duration": 3,
    "start_time": "2024-03-23T07:54:12.935Z"
   },
   {
    "duration": 3,
    "start_time": "2024-03-23T07:54:12.940Z"
   },
   {
    "duration": 3,
    "start_time": "2024-03-23T07:54:12.945Z"
   },
   {
    "duration": 5,
    "start_time": "2024-03-23T07:54:12.949Z"
   },
   {
    "duration": 4,
    "start_time": "2024-03-23T07:54:12.955Z"
   },
   {
    "duration": 4,
    "start_time": "2024-03-23T07:54:12.960Z"
   },
   {
    "duration": 7,
    "start_time": "2024-03-23T07:54:12.965Z"
   },
   {
    "duration": 5,
    "start_time": "2024-03-23T07:54:12.974Z"
   },
   {
    "duration": 3,
    "start_time": "2024-03-23T07:54:12.981Z"
   },
   {
    "duration": 30,
    "start_time": "2024-03-23T07:54:12.985Z"
   },
   {
    "duration": 9,
    "start_time": "2024-03-23T07:55:46.194Z"
   },
   {
    "duration": 6,
    "start_time": "2024-03-23T07:56:42.948Z"
   },
   {
    "duration": 17,
    "start_time": "2024-03-23T07:56:57.095Z"
   },
   {
    "duration": 7,
    "start_time": "2024-03-23T07:59:50.067Z"
   },
   {
    "duration": 23,
    "start_time": "2024-03-23T08:00:49.149Z"
   },
   {
    "duration": 10,
    "start_time": "2024-03-23T08:01:00.952Z"
   },
   {
    "duration": 78,
    "start_time": "2024-03-23T08:01:54.545Z"
   },
   {
    "duration": 833,
    "start_time": "2024-03-23T08:04:06.060Z"
   },
   {
    "duration": 7,
    "start_time": "2024-03-23T08:04:18.355Z"
   },
   {
    "duration": 8,
    "start_time": "2024-03-23T08:06:32.483Z"
   },
   {
    "duration": 9,
    "start_time": "2024-03-23T08:06:43.798Z"
   },
   {
    "duration": 308,
    "start_time": "2024-03-23T08:09:11.175Z"
   },
   {
    "duration": 430,
    "start_time": "2024-03-23T08:10:21.620Z"
   },
   {
    "duration": 79,
    "start_time": "2024-03-23T08:10:22.052Z"
   },
   {
    "duration": 11,
    "start_time": "2024-03-23T08:10:22.132Z"
   },
   {
    "duration": 18,
    "start_time": "2024-03-23T08:10:22.145Z"
   },
   {
    "duration": 11,
    "start_time": "2024-03-23T08:10:22.164Z"
   },
   {
    "duration": 3,
    "start_time": "2024-03-23T08:10:22.177Z"
   },
   {
    "duration": 11,
    "start_time": "2024-03-23T08:10:22.181Z"
   },
   {
    "duration": 21,
    "start_time": "2024-03-23T08:10:22.194Z"
   },
   {
    "duration": 3,
    "start_time": "2024-03-23T08:10:22.216Z"
   },
   {
    "duration": 3,
    "start_time": "2024-03-23T08:10:22.221Z"
   },
   {
    "duration": 4,
    "start_time": "2024-03-23T08:10:22.225Z"
   },
   {
    "duration": 3,
    "start_time": "2024-03-23T08:10:22.230Z"
   },
   {
    "duration": 4,
    "start_time": "2024-03-23T08:10:22.234Z"
   },
   {
    "duration": 7,
    "start_time": "2024-03-23T08:10:22.240Z"
   },
   {
    "duration": 10,
    "start_time": "2024-03-23T08:10:22.248Z"
   },
   {
    "duration": 13,
    "start_time": "2024-03-23T08:10:22.260Z"
   },
   {
    "duration": 5,
    "start_time": "2024-03-23T08:10:22.275Z"
   },
   {
    "duration": 15,
    "start_time": "2024-03-23T08:10:22.281Z"
   },
   {
    "duration": 3,
    "start_time": "2024-03-23T08:10:22.298Z"
   },
   {
    "duration": 3,
    "start_time": "2024-03-23T08:10:22.302Z"
   },
   {
    "duration": 2,
    "start_time": "2024-03-23T08:10:22.315Z"
   },
   {
    "duration": 4,
    "start_time": "2024-03-23T08:10:22.318Z"
   },
   {
    "duration": 9,
    "start_time": "2024-03-23T08:10:38.805Z"
   },
   {
    "duration": 1490,
    "start_time": "2024-03-23T08:11:45.120Z"
   },
   {
    "duration": 76,
    "start_time": "2024-03-23T08:12:44.063Z"
   },
   {
    "duration": 64,
    "start_time": "2024-03-23T08:18:11.832Z"
   },
   {
    "duration": 13,
    "start_time": "2024-03-23T08:18:19.197Z"
   },
   {
    "duration": 9,
    "start_time": "2024-03-23T08:19:16.617Z"
   },
   {
    "duration": 365,
    "start_time": "2024-03-23T08:19:45.763Z"
   },
   {
    "duration": 81,
    "start_time": "2024-03-23T08:19:46.130Z"
   },
   {
    "duration": 10,
    "start_time": "2024-03-23T08:19:46.213Z"
   },
   {
    "duration": 16,
    "start_time": "2024-03-23T08:19:46.226Z"
   },
   {
    "duration": 10,
    "start_time": "2024-03-23T08:19:46.244Z"
   },
   {
    "duration": 16,
    "start_time": "2024-03-23T08:19:46.256Z"
   },
   {
    "duration": 2,
    "start_time": "2024-03-23T08:19:46.274Z"
   },
   {
    "duration": 4,
    "start_time": "2024-03-23T08:19:46.278Z"
   },
   {
    "duration": 5,
    "start_time": "2024-03-23T08:19:46.284Z"
   },
   {
    "duration": 14,
    "start_time": "2024-03-23T08:19:46.315Z"
   },
   {
    "duration": 5,
    "start_time": "2024-03-23T08:19:46.331Z"
   },
   {
    "duration": 10,
    "start_time": "2024-03-23T08:19:46.337Z"
   },
   {
    "duration": 4,
    "start_time": "2024-03-23T08:19:46.349Z"
   },
   {
    "duration": 5,
    "start_time": "2024-03-23T08:19:46.355Z"
   },
   {
    "duration": 8,
    "start_time": "2024-03-23T08:19:46.361Z"
   },
   {
    "duration": 4,
    "start_time": "2024-03-23T08:19:46.371Z"
   },
   {
    "duration": 14,
    "start_time": "2024-03-23T08:19:46.376Z"
   },
   {
    "duration": 7,
    "start_time": "2024-03-23T08:19:46.392Z"
   },
   {
    "duration": 14,
    "start_time": "2024-03-23T08:19:46.400Z"
   },
   {
    "duration": 11,
    "start_time": "2024-03-23T08:19:46.415Z"
   },
   {
    "duration": 12,
    "start_time": "2024-03-23T08:19:46.428Z"
   },
   {
    "duration": 14,
    "start_time": "2024-03-23T08:19:46.441Z"
   },
   {
    "duration": 73,
    "start_time": "2024-03-23T08:21:08.434Z"
   },
   {
    "duration": 11,
    "start_time": "2024-03-23T08:21:27.745Z"
   },
   {
    "duration": 26,
    "start_time": "2024-03-23T08:24:05.002Z"
   },
   {
    "duration": 154,
    "start_time": "2024-03-23T08:24:20.261Z"
   },
   {
    "duration": 11,
    "start_time": "2024-03-23T08:24:45.610Z"
   },
   {
    "duration": 10,
    "start_time": "2024-03-23T08:25:04.057Z"
   },
   {
    "duration": 10,
    "start_time": "2024-03-23T08:28:05.462Z"
   },
   {
    "duration": 11,
    "start_time": "2024-03-23T08:28:26.009Z"
   },
   {
    "duration": 15,
    "start_time": "2024-03-23T08:28:43.570Z"
   },
   {
    "duration": 399,
    "start_time": "2024-03-23T08:28:59.334Z"
   },
   {
    "duration": 81,
    "start_time": "2024-03-23T08:28:59.735Z"
   },
   {
    "duration": 10,
    "start_time": "2024-03-23T08:28:59.817Z"
   },
   {
    "duration": 19,
    "start_time": "2024-03-23T08:28:59.829Z"
   },
   {
    "duration": 10,
    "start_time": "2024-03-23T08:28:59.849Z"
   },
   {
    "duration": 8,
    "start_time": "2024-03-23T08:28:59.860Z"
   },
   {
    "duration": 3,
    "start_time": "2024-03-23T08:28:59.869Z"
   },
   {
    "duration": 4,
    "start_time": "2024-03-23T08:28:59.873Z"
   },
   {
    "duration": 4,
    "start_time": "2024-03-23T08:28:59.879Z"
   },
   {
    "duration": 31,
    "start_time": "2024-03-23T08:28:59.885Z"
   },
   {
    "duration": 10,
    "start_time": "2024-03-23T08:28:59.917Z"
   },
   {
    "duration": 16,
    "start_time": "2024-03-23T08:28:59.929Z"
   },
   {
    "duration": 3,
    "start_time": "2024-03-23T08:28:59.947Z"
   },
   {
    "duration": 4,
    "start_time": "2024-03-23T08:28:59.951Z"
   },
   {
    "duration": 3,
    "start_time": "2024-03-23T08:28:59.956Z"
   },
   {
    "duration": 9,
    "start_time": "2024-03-23T08:28:59.960Z"
   },
   {
    "duration": 4,
    "start_time": "2024-03-23T08:28:59.970Z"
   },
   {
    "duration": 4,
    "start_time": "2024-03-23T08:28:59.976Z"
   },
   {
    "duration": 4,
    "start_time": "2024-03-23T08:28:59.981Z"
   },
   {
    "duration": 4,
    "start_time": "2024-03-23T08:28:59.986Z"
   },
   {
    "duration": 4,
    "start_time": "2024-03-23T08:28:59.991Z"
   },
   {
    "duration": 37,
    "start_time": "2024-03-23T08:28:59.996Z"
   },
   {
    "duration": 11,
    "start_time": "2024-03-23T08:29:16.540Z"
   },
   {
    "duration": 890,
    "start_time": "2024-03-23T08:31:26.654Z"
   },
   {
    "duration": 55,
    "start_time": "2024-03-23T08:32:08.341Z"
   },
   {
    "duration": 35,
    "start_time": "2024-03-23T08:32:32.796Z"
   },
   {
    "duration": 26,
    "start_time": "2024-03-23T08:32:54.415Z"
   },
   {
    "duration": 21,
    "start_time": "2024-03-23T08:33:12.015Z"
   },
   {
    "duration": 52,
    "start_time": "2024-03-23T08:34:11.655Z"
   },
   {
    "duration": 37,
    "start_time": "2024-03-23T08:34:19.214Z"
   },
   {
    "duration": 284,
    "start_time": "2024-03-23T08:39:58.386Z"
   },
   {
    "duration": 15,
    "start_time": "2024-03-23T08:41:53.966Z"
   },
   {
    "duration": 303,
    "start_time": "2024-03-23T08:42:03.495Z"
   },
   {
    "duration": 7,
    "start_time": "2024-03-23T08:45:15.515Z"
   },
   {
    "duration": 52,
    "start_time": "2024-03-23T08:47:32.154Z"
   },
   {
    "duration": 1039,
    "start_time": "2024-03-23T08:47:37.597Z"
   },
   {
    "duration": 415,
    "start_time": "2024-03-23T08:47:50.731Z"
   },
   {
    "duration": 321,
    "start_time": "2024-03-23T08:48:02.535Z"
   },
   {
    "duration": 12,
    "start_time": "2024-03-23T08:48:23.605Z"
   },
   {
    "duration": 274,
    "start_time": "2024-03-23T08:49:21.084Z"
   },
   {
    "duration": 8,
    "start_time": "2024-03-23T08:50:06.857Z"
   },
   {
    "duration": 12,
    "start_time": "2024-03-23T08:51:08.177Z"
   },
   {
    "duration": 12,
    "start_time": "2024-03-23T08:51:23.769Z"
   },
   {
    "duration": 20,
    "start_time": "2024-03-23T08:53:04.126Z"
   },
   {
    "duration": 15,
    "start_time": "2024-03-23T08:53:40.873Z"
   },
   {
    "duration": 18,
    "start_time": "2024-03-23T08:53:56.799Z"
   },
   {
    "duration": 10,
    "start_time": "2024-03-23T08:54:42.720Z"
   },
   {
    "duration": 398,
    "start_time": "2024-03-23T08:55:01.431Z"
   },
   {
    "duration": 83,
    "start_time": "2024-03-23T08:55:01.830Z"
   },
   {
    "duration": 10,
    "start_time": "2024-03-23T08:55:01.915Z"
   },
   {
    "duration": 40,
    "start_time": "2024-03-23T08:55:01.928Z"
   },
   {
    "duration": 31,
    "start_time": "2024-03-23T08:55:01.970Z"
   },
   {
    "duration": 23,
    "start_time": "2024-03-23T08:55:02.003Z"
   },
   {
    "duration": 35,
    "start_time": "2024-03-23T08:55:02.028Z"
   },
   {
    "duration": 18,
    "start_time": "2024-03-23T08:55:02.065Z"
   },
   {
    "duration": 24,
    "start_time": "2024-03-23T08:55:02.085Z"
   },
   {
    "duration": 78,
    "start_time": "2024-03-23T08:55:02.112Z"
   },
   {
    "duration": 15,
    "start_time": "2024-03-23T08:55:02.192Z"
   },
   {
    "duration": 24,
    "start_time": "2024-03-23T08:55:02.208Z"
   },
   {
    "duration": 24,
    "start_time": "2024-03-23T08:55:02.234Z"
   },
   {
    "duration": 53,
    "start_time": "2024-03-23T08:55:02.260Z"
   },
   {
    "duration": 17,
    "start_time": "2024-03-23T08:55:02.314Z"
   },
   {
    "duration": 44,
    "start_time": "2024-03-23T08:55:02.332Z"
   },
   {
    "duration": 3,
    "start_time": "2024-03-23T08:55:02.378Z"
   },
   {
    "duration": 14,
    "start_time": "2024-03-23T08:55:02.382Z"
   },
   {
    "duration": 11,
    "start_time": "2024-03-23T08:55:02.398Z"
   },
   {
    "duration": 4,
    "start_time": "2024-03-23T08:55:02.411Z"
   },
   {
    "duration": 11,
    "start_time": "2024-03-23T08:55:02.417Z"
   },
   {
    "duration": 32,
    "start_time": "2024-03-23T08:55:02.430Z"
   },
   {
    "duration": 19,
    "start_time": "2024-03-23T08:55:43.804Z"
   },
   {
    "duration": 443,
    "start_time": "2024-03-23T08:56:50.614Z"
   },
   {
    "duration": 81,
    "start_time": "2024-03-23T08:56:51.059Z"
   },
   {
    "duration": 10,
    "start_time": "2024-03-23T08:56:51.141Z"
   },
   {
    "duration": 18,
    "start_time": "2024-03-23T08:56:51.153Z"
   },
   {
    "duration": 10,
    "start_time": "2024-03-23T08:56:51.173Z"
   },
   {
    "duration": 19,
    "start_time": "2024-03-23T08:56:51.184Z"
   },
   {
    "duration": 3,
    "start_time": "2024-03-23T08:56:51.215Z"
   },
   {
    "duration": 4,
    "start_time": "2024-03-23T08:56:51.219Z"
   },
   {
    "duration": 4,
    "start_time": "2024-03-23T08:56:51.224Z"
   },
   {
    "duration": 4,
    "start_time": "2024-03-23T08:56:51.230Z"
   },
   {
    "duration": 5,
    "start_time": "2024-03-23T08:56:51.235Z"
   },
   {
    "duration": 4,
    "start_time": "2024-03-23T08:56:51.242Z"
   },
   {
    "duration": 15,
    "start_time": "2024-03-23T08:56:51.248Z"
   },
   {
    "duration": 20,
    "start_time": "2024-03-23T08:56:51.265Z"
   },
   {
    "duration": 15,
    "start_time": "2024-03-23T08:56:51.286Z"
   },
   {
    "duration": 13,
    "start_time": "2024-03-23T08:56:51.302Z"
   },
   {
    "duration": 6,
    "start_time": "2024-03-23T08:56:51.316Z"
   },
   {
    "duration": 4,
    "start_time": "2024-03-23T08:56:51.323Z"
   },
   {
    "duration": 4,
    "start_time": "2024-03-23T08:56:51.328Z"
   },
   {
    "duration": 4,
    "start_time": "2024-03-23T08:56:51.333Z"
   },
   {
    "duration": 17,
    "start_time": "2024-03-23T08:56:51.338Z"
   },
   {
    "duration": 5,
    "start_time": "2024-03-23T08:56:51.356Z"
   },
   {
    "duration": 7,
    "start_time": "2024-03-23T08:57:12.161Z"
   },
   {
    "duration": 20,
    "start_time": "2024-03-23T08:57:30.213Z"
   },
   {
    "duration": 518,
    "start_time": "2024-03-23T08:58:12.485Z"
   },
   {
    "duration": 85,
    "start_time": "2024-03-23T08:58:13.006Z"
   },
   {
    "duration": 11,
    "start_time": "2024-03-23T08:58:13.092Z"
   },
   {
    "duration": 16,
    "start_time": "2024-03-23T08:58:13.106Z"
   },
   {
    "duration": 25,
    "start_time": "2024-03-23T08:58:13.124Z"
   },
   {
    "duration": 30,
    "start_time": "2024-03-23T08:58:13.152Z"
   },
   {
    "duration": 2,
    "start_time": "2024-03-23T08:58:13.184Z"
   },
   {
    "duration": 4,
    "start_time": "2024-03-23T08:58:13.188Z"
   },
   {
    "duration": 21,
    "start_time": "2024-03-23T08:58:13.195Z"
   },
   {
    "duration": 3,
    "start_time": "2024-03-23T08:58:13.219Z"
   },
   {
    "duration": 5,
    "start_time": "2024-03-23T08:58:13.224Z"
   },
   {
    "duration": 4,
    "start_time": "2024-03-23T08:58:13.230Z"
   },
   {
    "duration": 3,
    "start_time": "2024-03-23T08:58:13.236Z"
   },
   {
    "duration": 4,
    "start_time": "2024-03-23T08:58:13.240Z"
   },
   {
    "duration": 3,
    "start_time": "2024-03-23T08:58:13.246Z"
   },
   {
    "duration": 4,
    "start_time": "2024-03-23T08:58:13.251Z"
   },
   {
    "duration": 6,
    "start_time": "2024-03-23T08:58:13.256Z"
   },
   {
    "duration": 3,
    "start_time": "2024-03-23T08:58:13.264Z"
   },
   {
    "duration": 3,
    "start_time": "2024-03-23T08:58:13.316Z"
   },
   {
    "duration": 11,
    "start_time": "2024-03-23T08:58:13.321Z"
   },
   {
    "duration": 20,
    "start_time": "2024-03-23T08:58:13.334Z"
   },
   {
    "duration": 8,
    "start_time": "2024-03-23T08:58:13.356Z"
   },
   {
    "duration": 14,
    "start_time": "2024-03-23T09:01:45.993Z"
   },
   {
    "duration": 14,
    "start_time": "2024-03-23T09:03:20.011Z"
   },
   {
    "duration": 16,
    "start_time": "2024-03-23T09:05:01.267Z"
   },
   {
    "duration": 80,
    "start_time": "2024-03-23T09:05:20.448Z"
   },
   {
    "duration": 10,
    "start_time": "2024-03-23T09:05:28.348Z"
   },
   {
    "duration": 12,
    "start_time": "2024-03-23T09:05:40.231Z"
   },
   {
    "duration": 11,
    "start_time": "2024-03-23T09:06:01.458Z"
   },
   {
    "duration": 16,
    "start_time": "2024-03-23T09:06:21.644Z"
   },
   {
    "duration": 18,
    "start_time": "2024-03-23T09:06:47.614Z"
   },
   {
    "duration": 15,
    "start_time": "2024-03-23T09:07:09.428Z"
   },
   {
    "duration": 23,
    "start_time": "2024-03-23T09:07:37.691Z"
   },
   {
    "duration": 17,
    "start_time": "2024-03-23T09:07:50.885Z"
   },
   {
    "duration": 22,
    "start_time": "2024-03-23T09:08:29.219Z"
   },
   {
    "duration": 26,
    "start_time": "2024-03-23T09:09:58.941Z"
   },
   {
    "duration": 21,
    "start_time": "2024-03-23T09:11:32.410Z"
   },
   {
    "duration": 23,
    "start_time": "2024-03-23T09:13:16.597Z"
   },
   {
    "duration": 16,
    "start_time": "2024-03-23T09:14:02.604Z"
   },
   {
    "duration": 18,
    "start_time": "2024-03-23T09:14:12.719Z"
   },
   {
    "duration": 17,
    "start_time": "2024-03-23T09:14:53.319Z"
   },
   {
    "duration": 27,
    "start_time": "2024-03-23T09:15:01.359Z"
   },
   {
    "duration": 417,
    "start_time": "2024-03-23T09:16:23.134Z"
   },
   {
    "duration": 82,
    "start_time": "2024-03-23T09:16:23.553Z"
   },
   {
    "duration": 11,
    "start_time": "2024-03-23T09:16:23.637Z"
   },
   {
    "duration": 21,
    "start_time": "2024-03-23T09:16:23.651Z"
   },
   {
    "duration": 10,
    "start_time": "2024-03-23T09:16:23.674Z"
   },
   {
    "duration": 41,
    "start_time": "2024-03-23T09:16:23.686Z"
   },
   {
    "duration": 3,
    "start_time": "2024-03-23T09:16:23.728Z"
   },
   {
    "duration": 5,
    "start_time": "2024-03-23T09:16:23.733Z"
   },
   {
    "duration": 7,
    "start_time": "2024-03-23T09:16:23.740Z"
   },
   {
    "duration": 3,
    "start_time": "2024-03-23T09:16:23.751Z"
   },
   {
    "duration": 3,
    "start_time": "2024-03-23T09:16:23.756Z"
   },
   {
    "duration": 3,
    "start_time": "2024-03-23T09:16:23.761Z"
   },
   {
    "duration": 10,
    "start_time": "2024-03-23T09:16:23.766Z"
   },
   {
    "duration": 14,
    "start_time": "2024-03-23T09:16:23.778Z"
   },
   {
    "duration": 22,
    "start_time": "2024-03-23T09:16:23.794Z"
   },
   {
    "duration": 3,
    "start_time": "2024-03-23T09:16:23.819Z"
   },
   {
    "duration": 19,
    "start_time": "2024-03-23T09:16:23.824Z"
   },
   {
    "duration": 13,
    "start_time": "2024-03-23T09:16:23.846Z"
   },
   {
    "duration": 20,
    "start_time": "2024-03-23T09:16:23.861Z"
   },
   {
    "duration": 19,
    "start_time": "2024-03-23T09:16:23.883Z"
   },
   {
    "duration": 24,
    "start_time": "2024-03-23T09:16:23.904Z"
   },
   {
    "duration": 19,
    "start_time": "2024-03-23T09:16:23.930Z"
   },
   {
    "duration": 25,
    "start_time": "2024-03-23T09:17:19.629Z"
   },
   {
    "duration": 33,
    "start_time": "2024-03-23T09:18:38.126Z"
   },
   {
    "duration": 30,
    "start_time": "2024-03-23T09:19:05.356Z"
   },
   {
    "duration": 39,
    "start_time": "2024-03-23T09:19:31.265Z"
   },
   {
    "duration": 28,
    "start_time": "2024-03-23T09:20:17.007Z"
   },
   {
    "duration": 29,
    "start_time": "2024-03-23T09:21:01.408Z"
   },
   {
    "duration": 383,
    "start_time": "2024-03-23T09:21:19.747Z"
   },
   {
    "duration": 80,
    "start_time": "2024-03-23T09:21:20.132Z"
   },
   {
    "duration": 10,
    "start_time": "2024-03-23T09:21:20.214Z"
   },
   {
    "duration": 15,
    "start_time": "2024-03-23T09:21:20.226Z"
   },
   {
    "duration": 10,
    "start_time": "2024-03-23T09:21:20.243Z"
   },
   {
    "duration": 33,
    "start_time": "2024-03-23T09:21:20.255Z"
   },
   {
    "duration": 2,
    "start_time": "2024-03-23T09:21:20.315Z"
   },
   {
    "duration": 12,
    "start_time": "2024-03-23T09:21:20.319Z"
   },
   {
    "duration": 11,
    "start_time": "2024-03-23T09:21:20.332Z"
   },
   {
    "duration": 2,
    "start_time": "2024-03-23T09:21:20.346Z"
   },
   {
    "duration": 4,
    "start_time": "2024-03-23T09:21:20.350Z"
   },
   {
    "duration": 7,
    "start_time": "2024-03-23T09:21:20.355Z"
   },
   {
    "duration": 6,
    "start_time": "2024-03-23T09:21:20.364Z"
   },
   {
    "duration": 8,
    "start_time": "2024-03-23T09:21:20.371Z"
   },
   {
    "duration": 13,
    "start_time": "2024-03-23T09:21:20.380Z"
   },
   {
    "duration": 20,
    "start_time": "2024-03-23T09:21:20.394Z"
   },
   {
    "duration": 11,
    "start_time": "2024-03-23T09:21:20.416Z"
   },
   {
    "duration": 4,
    "start_time": "2024-03-23T09:21:20.429Z"
   },
   {
    "duration": 13,
    "start_time": "2024-03-23T09:21:20.434Z"
   },
   {
    "duration": 5,
    "start_time": "2024-03-23T09:21:20.449Z"
   },
   {
    "duration": 9,
    "start_time": "2024-03-23T09:21:20.455Z"
   },
   {
    "duration": 7,
    "start_time": "2024-03-23T09:21:20.466Z"
   },
   {
    "duration": 10,
    "start_time": "2024-03-23T09:30:48.448Z"
   },
   {
    "duration": 9,
    "start_time": "2024-03-23T09:31:12.529Z"
   },
   {
    "duration": 29,
    "start_time": "2024-03-23T09:32:03.236Z"
   },
   {
    "duration": 450,
    "start_time": "2024-03-23T09:32:28.223Z"
   },
   {
    "duration": 97,
    "start_time": "2024-03-23T09:32:28.676Z"
   },
   {
    "duration": 12,
    "start_time": "2024-03-23T09:32:28.774Z"
   },
   {
    "duration": 37,
    "start_time": "2024-03-23T09:32:28.789Z"
   },
   {
    "duration": 15,
    "start_time": "2024-03-23T09:32:28.828Z"
   },
   {
    "duration": 44,
    "start_time": "2024-03-23T09:32:28.846Z"
   },
   {
    "duration": 3,
    "start_time": "2024-03-23T09:32:28.892Z"
   },
   {
    "duration": 20,
    "start_time": "2024-03-23T09:32:28.897Z"
   },
   {
    "duration": 5,
    "start_time": "2024-03-23T09:32:28.919Z"
   },
   {
    "duration": 6,
    "start_time": "2024-03-23T09:32:28.927Z"
   },
   {
    "duration": 11,
    "start_time": "2024-03-23T09:32:28.935Z"
   },
   {
    "duration": 5,
    "start_time": "2024-03-23T09:32:28.948Z"
   },
   {
    "duration": 9,
    "start_time": "2024-03-23T09:32:28.955Z"
   },
   {
    "duration": 5,
    "start_time": "2024-03-23T09:32:28.966Z"
   },
   {
    "duration": 18,
    "start_time": "2024-03-23T09:32:28.973Z"
   },
   {
    "duration": 9,
    "start_time": "2024-03-23T09:32:28.993Z"
   },
   {
    "duration": 12,
    "start_time": "2024-03-23T09:32:29.003Z"
   },
   {
    "duration": 3,
    "start_time": "2024-03-23T09:32:29.016Z"
   },
   {
    "duration": 11,
    "start_time": "2024-03-23T09:32:29.021Z"
   },
   {
    "duration": 5,
    "start_time": "2024-03-23T09:32:29.034Z"
   },
   {
    "duration": 4,
    "start_time": "2024-03-23T09:32:29.041Z"
   },
   {
    "duration": 11,
    "start_time": "2024-03-23T09:32:29.047Z"
   },
   {
    "duration": 31,
    "start_time": "2024-03-23T09:32:55.473Z"
   },
   {
    "duration": 4,
    "start_time": "2024-03-23T09:34:31.498Z"
   },
   {
    "duration": 4,
    "start_time": "2024-03-23T09:34:34.733Z"
   },
   {
    "duration": 8,
    "start_time": "2024-03-23T09:35:03.427Z"
   },
   {
    "duration": 4,
    "start_time": "2024-03-23T09:35:25.041Z"
   },
   {
    "duration": 4,
    "start_time": "2024-03-23T09:35:58.230Z"
   },
   {
    "duration": 7,
    "start_time": "2024-03-23T09:36:24.385Z"
   },
   {
    "duration": 4,
    "start_time": "2024-03-23T09:36:40.643Z"
   },
   {
    "duration": 69,
    "start_time": "2024-03-23T09:37:01.389Z"
   },
   {
    "duration": 67,
    "start_time": "2024-03-23T09:39:53.803Z"
   },
   {
    "duration": 24,
    "start_time": "2024-03-23T09:40:24.481Z"
   },
   {
    "duration": 23,
    "start_time": "2024-03-23T09:41:16.990Z"
   },
   {
    "duration": 4,
    "start_time": "2024-03-23T09:41:37.387Z"
   },
   {
    "duration": 13,
    "start_time": "2024-03-23T09:42:09.316Z"
   },
   {
    "duration": 28,
    "start_time": "2024-03-23T09:42:38.748Z"
   },
   {
    "duration": 19,
    "start_time": "2024-03-23T09:42:48.964Z"
   },
   {
    "duration": 24,
    "start_time": "2024-03-23T09:43:36.371Z"
   },
   {
    "duration": 411,
    "start_time": "2024-03-23T09:44:11.347Z"
   },
   {
    "duration": 82,
    "start_time": "2024-03-23T09:44:11.760Z"
   },
   {
    "duration": 11,
    "start_time": "2024-03-23T09:44:11.844Z"
   },
   {
    "duration": 21,
    "start_time": "2024-03-23T09:44:11.857Z"
   },
   {
    "duration": 10,
    "start_time": "2024-03-23T09:44:11.879Z"
   },
   {
    "duration": 46,
    "start_time": "2024-03-23T09:44:11.891Z"
   },
   {
    "duration": 4,
    "start_time": "2024-03-23T09:44:11.938Z"
   },
   {
    "duration": 11,
    "start_time": "2024-03-23T09:44:11.943Z"
   },
   {
    "duration": 7,
    "start_time": "2024-03-23T09:44:11.955Z"
   },
   {
    "duration": 7,
    "start_time": "2024-03-23T09:44:11.965Z"
   },
   {
    "duration": 4,
    "start_time": "2024-03-23T09:44:11.975Z"
   },
   {
    "duration": 37,
    "start_time": "2024-03-23T09:44:12.015Z"
   },
   {
    "duration": 24,
    "start_time": "2024-03-23T09:44:12.054Z"
   },
   {
    "duration": 5,
    "start_time": "2024-03-23T09:44:12.080Z"
   },
   {
    "duration": 43,
    "start_time": "2024-03-23T09:44:12.087Z"
   },
   {
    "duration": 20,
    "start_time": "2024-03-23T09:44:12.132Z"
   },
   {
    "duration": 20,
    "start_time": "2024-03-23T09:44:12.154Z"
   },
   {
    "duration": 2,
    "start_time": "2024-03-23T09:44:12.176Z"
   },
   {
    "duration": 4,
    "start_time": "2024-03-23T09:44:12.180Z"
   },
   {
    "duration": 2,
    "start_time": "2024-03-23T09:44:12.214Z"
   },
   {
    "duration": 28,
    "start_time": "2024-03-23T09:44:12.218Z"
   },
   {
    "duration": 11,
    "start_time": "2024-03-23T09:44:12.247Z"
   },
   {
    "duration": 33,
    "start_time": "2024-03-23T09:44:42.051Z"
   },
   {
    "duration": 77,
    "start_time": "2024-03-23T09:45:52.114Z"
   },
   {
    "duration": 16,
    "start_time": "2024-03-23T09:45:58.711Z"
   },
   {
    "duration": 13,
    "start_time": "2024-03-23T09:46:37.193Z"
   },
   {
    "duration": 36,
    "start_time": "2024-03-23T09:47:32.162Z"
   },
   {
    "duration": 50,
    "start_time": "2024-03-23T09:48:31.296Z"
   },
   {
    "duration": 18,
    "start_time": "2024-03-23T09:49:21.678Z"
   },
   {
    "duration": 6,
    "start_time": "2024-03-23T09:49:42.197Z"
   },
   {
    "duration": 5,
    "start_time": "2024-03-23T09:49:47.035Z"
   },
   {
    "duration": 8,
    "start_time": "2024-03-23T09:49:54.929Z"
   },
   {
    "duration": 388,
    "start_time": "2024-03-23T09:50:28.273Z"
   },
   {
    "duration": 84,
    "start_time": "2024-03-23T09:50:28.663Z"
   },
   {
    "duration": 14,
    "start_time": "2024-03-23T09:50:28.749Z"
   },
   {
    "duration": 21,
    "start_time": "2024-03-23T09:50:28.766Z"
   },
   {
    "duration": 28,
    "start_time": "2024-03-23T09:50:28.788Z"
   },
   {
    "duration": 28,
    "start_time": "2024-03-23T09:50:28.818Z"
   },
   {
    "duration": 4,
    "start_time": "2024-03-23T09:50:28.848Z"
   },
   {
    "duration": 19,
    "start_time": "2024-03-23T09:50:28.854Z"
   },
   {
    "duration": 5,
    "start_time": "2024-03-23T09:50:28.875Z"
   },
   {
    "duration": 8,
    "start_time": "2024-03-23T09:50:28.914Z"
   },
   {
    "duration": 6,
    "start_time": "2024-03-23T09:50:28.924Z"
   },
   {
    "duration": 24,
    "start_time": "2024-03-23T09:50:28.932Z"
   },
   {
    "duration": 21,
    "start_time": "2024-03-23T09:50:28.958Z"
   },
   {
    "duration": 34,
    "start_time": "2024-03-23T09:50:28.981Z"
   },
   {
    "duration": 13,
    "start_time": "2024-03-23T09:50:29.016Z"
   },
   {
    "duration": 24,
    "start_time": "2024-03-23T09:50:29.030Z"
   },
   {
    "duration": 69,
    "start_time": "2024-03-23T09:50:29.055Z"
   },
   {
    "duration": 2,
    "start_time": "2024-03-23T09:50:29.126Z"
   },
   {
    "duration": 7,
    "start_time": "2024-03-23T09:50:29.129Z"
   },
   {
    "duration": 11,
    "start_time": "2024-03-23T09:50:29.138Z"
   },
   {
    "duration": 9,
    "start_time": "2024-03-23T09:50:29.151Z"
   },
   {
    "duration": 17,
    "start_time": "2024-03-23T09:50:29.162Z"
   },
   {
    "duration": 60,
    "start_time": "2024-03-23T09:51:12.333Z"
   },
   {
    "duration": 48,
    "start_time": "2024-03-23T09:51:29.203Z"
   },
   {
    "duration": 24,
    "start_time": "2024-03-23T09:52:19.288Z"
   },
   {
    "duration": 61,
    "start_time": "2024-03-23T09:54:56.328Z"
   },
   {
    "duration": 408,
    "start_time": "2024-03-23T09:55:34.373Z"
   },
   {
    "duration": 94,
    "start_time": "2024-03-23T09:55:34.783Z"
   },
   {
    "duration": 12,
    "start_time": "2024-03-23T09:55:34.878Z"
   },
   {
    "duration": 35,
    "start_time": "2024-03-23T09:55:34.893Z"
   },
   {
    "duration": 11,
    "start_time": "2024-03-23T09:55:34.931Z"
   },
   {
    "duration": 36,
    "start_time": "2024-03-23T09:55:34.944Z"
   },
   {
    "duration": 4,
    "start_time": "2024-03-23T09:55:34.982Z"
   },
   {
    "duration": 48,
    "start_time": "2024-03-23T09:55:34.988Z"
   },
   {
    "duration": 5,
    "start_time": "2024-03-23T09:55:35.038Z"
   },
   {
    "duration": 20,
    "start_time": "2024-03-23T09:55:35.046Z"
   },
   {
    "duration": 16,
    "start_time": "2024-03-23T09:55:35.071Z"
   },
   {
    "duration": 37,
    "start_time": "2024-03-23T09:55:35.089Z"
   },
   {
    "duration": 23,
    "start_time": "2024-03-23T09:55:35.127Z"
   },
   {
    "duration": 4,
    "start_time": "2024-03-23T09:55:35.152Z"
   },
   {
    "duration": 17,
    "start_time": "2024-03-23T09:55:35.157Z"
   },
   {
    "duration": 40,
    "start_time": "2024-03-23T09:55:35.176Z"
   },
   {
    "duration": 62,
    "start_time": "2024-03-23T09:55:35.218Z"
   },
   {
    "duration": 3,
    "start_time": "2024-03-23T09:55:35.282Z"
   },
   {
    "duration": 4,
    "start_time": "2024-03-23T09:55:35.287Z"
   },
   {
    "duration": 4,
    "start_time": "2024-03-23T09:55:35.315Z"
   },
   {
    "duration": 5,
    "start_time": "2024-03-23T09:55:35.321Z"
   },
   {
    "duration": 10,
    "start_time": "2024-03-23T09:55:35.328Z"
   },
   {
    "duration": 34,
    "start_time": "2024-03-23T09:57:50.243Z"
   },
   {
    "duration": 391,
    "start_time": "2024-03-23T09:58:45.774Z"
   },
   {
    "duration": 82,
    "start_time": "2024-03-23T09:58:46.167Z"
   },
   {
    "duration": 10,
    "start_time": "2024-03-23T09:58:46.251Z"
   },
   {
    "duration": 20,
    "start_time": "2024-03-23T09:58:46.264Z"
   },
   {
    "duration": 31,
    "start_time": "2024-03-23T09:58:46.285Z"
   },
   {
    "duration": 33,
    "start_time": "2024-03-23T09:58:46.318Z"
   },
   {
    "duration": 4,
    "start_time": "2024-03-23T09:58:46.352Z"
   },
   {
    "duration": 20,
    "start_time": "2024-03-23T09:58:46.357Z"
   },
   {
    "duration": 5,
    "start_time": "2024-03-23T09:58:46.379Z"
   },
   {
    "duration": 32,
    "start_time": "2024-03-23T09:58:46.386Z"
   },
   {
    "duration": 7,
    "start_time": "2024-03-23T09:58:46.432Z"
   },
   {
    "duration": 30,
    "start_time": "2024-03-23T09:58:46.441Z"
   },
   {
    "duration": 22,
    "start_time": "2024-03-23T09:58:46.472Z"
   },
   {
    "duration": 21,
    "start_time": "2024-03-23T09:58:46.496Z"
   },
   {
    "duration": 22,
    "start_time": "2024-03-23T09:58:46.519Z"
   },
   {
    "duration": 22,
    "start_time": "2024-03-23T09:58:46.543Z"
   },
   {
    "duration": 67,
    "start_time": "2024-03-23T09:58:46.566Z"
   },
   {
    "duration": 3,
    "start_time": "2024-03-23T09:58:46.634Z"
   },
   {
    "duration": 4,
    "start_time": "2024-03-23T09:58:46.638Z"
   },
   {
    "duration": 5,
    "start_time": "2024-03-23T09:58:46.643Z"
   },
   {
    "duration": 18,
    "start_time": "2024-03-23T09:58:46.649Z"
   },
   {
    "duration": 6,
    "start_time": "2024-03-23T09:58:46.669Z"
   },
   {
    "duration": 449,
    "start_time": "2024-03-23T09:59:47.942Z"
   },
   {
    "duration": 79,
    "start_time": "2024-03-23T09:59:48.394Z"
   },
   {
    "duration": 10,
    "start_time": "2024-03-23T09:59:48.475Z"
   },
   {
    "duration": 16,
    "start_time": "2024-03-23T09:59:48.487Z"
   },
   {
    "duration": 12,
    "start_time": "2024-03-23T09:59:48.515Z"
   },
   {
    "duration": 36,
    "start_time": "2024-03-23T09:59:48.528Z"
   },
   {
    "duration": 3,
    "start_time": "2024-03-23T09:59:48.566Z"
   },
   {
    "duration": 17,
    "start_time": "2024-03-23T09:59:48.571Z"
   },
   {
    "duration": 26,
    "start_time": "2024-03-23T09:59:48.591Z"
   },
   {
    "duration": 10,
    "start_time": "2024-03-23T09:59:48.619Z"
   },
   {
    "duration": 5,
    "start_time": "2024-03-23T09:59:48.631Z"
   },
   {
    "duration": 41,
    "start_time": "2024-03-23T09:59:48.638Z"
   },
   {
    "duration": 50,
    "start_time": "2024-03-23T09:59:48.681Z"
   },
   {
    "duration": 4,
    "start_time": "2024-03-23T09:59:48.734Z"
   },
   {
    "duration": 12,
    "start_time": "2024-03-23T09:59:48.739Z"
   },
   {
    "duration": 28,
    "start_time": "2024-03-23T09:59:48.753Z"
   },
   {
    "duration": 97,
    "start_time": "2024-03-23T09:59:48.782Z"
   },
   {
    "duration": 3,
    "start_time": "2024-03-23T09:59:48.881Z"
   },
   {
    "duration": 4,
    "start_time": "2024-03-23T09:59:48.886Z"
   },
   {
    "duration": 24,
    "start_time": "2024-03-23T09:59:48.892Z"
   },
   {
    "duration": 9,
    "start_time": "2024-03-23T09:59:48.917Z"
   },
   {
    "duration": 7,
    "start_time": "2024-03-23T09:59:48.929Z"
   },
   {
    "duration": 434,
    "start_time": "2024-03-23T10:00:55.776Z"
   },
   {
    "duration": 83,
    "start_time": "2024-03-23T10:00:56.213Z"
   },
   {
    "duration": 10,
    "start_time": "2024-03-23T10:00:56.300Z"
   },
   {
    "duration": 35,
    "start_time": "2024-03-23T10:00:56.312Z"
   },
   {
    "duration": 12,
    "start_time": "2024-03-23T10:00:56.349Z"
   },
   {
    "duration": 26,
    "start_time": "2024-03-23T10:00:56.363Z"
   },
   {
    "duration": 3,
    "start_time": "2024-03-23T10:00:56.391Z"
   },
   {
    "duration": 23,
    "start_time": "2024-03-23T10:00:56.396Z"
   },
   {
    "duration": 5,
    "start_time": "2024-03-23T10:00:56.420Z"
   },
   {
    "duration": 13,
    "start_time": "2024-03-23T10:00:56.429Z"
   },
   {
    "duration": 5,
    "start_time": "2024-03-23T10:00:56.445Z"
   },
   {
    "duration": 66,
    "start_time": "2024-03-23T10:00:56.453Z"
   },
   {
    "duration": 38,
    "start_time": "2024-03-23T10:00:56.522Z"
   },
   {
    "duration": 4,
    "start_time": "2024-03-23T10:00:56.563Z"
   },
   {
    "duration": 17,
    "start_time": "2024-03-23T10:00:56.569Z"
   },
   {
    "duration": 59,
    "start_time": "2024-03-23T10:00:56.588Z"
   },
   {
    "duration": 66,
    "start_time": "2024-03-23T10:00:56.649Z"
   },
   {
    "duration": 2,
    "start_time": "2024-03-23T10:00:56.718Z"
   },
   {
    "duration": 5,
    "start_time": "2024-03-23T10:00:56.723Z"
   },
   {
    "duration": 4,
    "start_time": "2024-03-23T10:00:56.729Z"
   },
   {
    "duration": 6,
    "start_time": "2024-03-23T10:00:56.735Z"
   },
   {
    "duration": 3,
    "start_time": "2024-03-23T10:00:56.743Z"
   },
   {
    "duration": 429,
    "start_time": "2024-03-23T10:02:16.613Z"
   },
   {
    "duration": 82,
    "start_time": "2024-03-23T10:02:17.479Z"
   },
   {
    "duration": 39,
    "start_time": "2024-03-23T10:02:29.274Z"
   },
   {
    "duration": 17,
    "start_time": "2024-03-23T10:03:29.162Z"
   },
   {
    "duration": 10,
    "start_time": "2024-03-23T10:03:31.950Z"
   },
   {
    "duration": 12,
    "start_time": "2024-03-23T10:03:39.030Z"
   },
   {
    "duration": 24,
    "start_time": "2024-03-23T10:03:42.757Z"
   },
   {
    "duration": 4,
    "start_time": "2024-03-23T10:03:48.051Z"
   },
   {
    "duration": 8,
    "start_time": "2024-03-23T10:03:53.615Z"
   },
   {
    "duration": 5,
    "start_time": "2024-03-23T10:03:56.924Z"
   },
   {
    "duration": 32,
    "start_time": "2024-03-23T10:05:08.413Z"
   },
   {
    "duration": 11,
    "start_time": "2024-03-23T10:05:25.677Z"
   },
   {
    "duration": 6,
    "start_time": "2024-03-23T10:05:27.451Z"
   },
   {
    "duration": 26,
    "start_time": "2024-03-23T10:05:34.872Z"
   },
   {
    "duration": 25,
    "start_time": "2024-03-23T10:05:39.299Z"
   },
   {
    "duration": 4,
    "start_time": "2024-03-23T10:05:49.600Z"
   },
   {
    "duration": 13,
    "start_time": "2024-03-23T10:05:53.491Z"
   },
   {
    "duration": 53,
    "start_time": "2024-03-23T10:05:54.831Z"
   },
   {
    "duration": 466,
    "start_time": "2024-03-23T10:13:45.266Z"
   },
   {
    "duration": 85,
    "start_time": "2024-03-23T10:13:45.734Z"
   },
   {
    "duration": 32,
    "start_time": "2024-03-23T10:13:45.822Z"
   },
   {
    "duration": 26,
    "start_time": "2024-03-23T10:13:45.857Z"
   },
   {
    "duration": 34,
    "start_time": "2024-03-23T10:13:45.885Z"
   },
   {
    "duration": 54,
    "start_time": "2024-03-23T10:13:45.921Z"
   },
   {
    "duration": 5,
    "start_time": "2024-03-23T10:13:45.977Z"
   },
   {
    "duration": 34,
    "start_time": "2024-03-23T10:13:45.984Z"
   },
   {
    "duration": 32,
    "start_time": "2024-03-23T10:13:46.021Z"
   },
   {
    "duration": 12,
    "start_time": "2024-03-23T10:13:46.057Z"
   },
   {
    "duration": 6,
    "start_time": "2024-03-23T10:13:46.071Z"
   },
   {
    "duration": 92,
    "start_time": "2024-03-23T10:13:46.078Z"
   },
   {
    "duration": 46,
    "start_time": "2024-03-23T10:13:46.171Z"
   },
   {
    "duration": 5,
    "start_time": "2024-03-23T10:13:46.219Z"
   },
   {
    "duration": 22,
    "start_time": "2024-03-23T10:13:46.226Z"
   },
   {
    "duration": 38,
    "start_time": "2024-03-23T10:13:46.251Z"
   },
   {
    "duration": 95,
    "start_time": "2024-03-23T10:13:46.292Z"
   },
   {
    "duration": 3,
    "start_time": "2024-03-23T10:13:46.388Z"
   },
   {
    "duration": 4,
    "start_time": "2024-03-23T10:13:46.393Z"
   },
   {
    "duration": 19,
    "start_time": "2024-03-23T10:13:46.398Z"
   },
   {
    "duration": 19,
    "start_time": "2024-03-23T10:13:46.420Z"
   },
   {
    "duration": 4,
    "start_time": "2024-03-23T10:13:46.441Z"
   },
   {
    "duration": 472,
    "start_time": "2024-03-23T10:14:32.494Z"
   },
   {
    "duration": 110,
    "start_time": "2024-03-23T10:14:32.969Z"
   },
   {
    "duration": 29,
    "start_time": "2024-03-23T10:14:33.081Z"
   },
   {
    "duration": 16,
    "start_time": "2024-03-23T10:14:33.116Z"
   },
   {
    "duration": 24,
    "start_time": "2024-03-23T10:14:33.134Z"
   },
   {
    "duration": 73,
    "start_time": "2024-03-23T10:14:33.160Z"
   },
   {
    "duration": 5,
    "start_time": "2024-03-23T10:14:33.235Z"
   },
   {
    "duration": 12,
    "start_time": "2024-03-23T10:14:33.242Z"
   },
   {
    "duration": 22,
    "start_time": "2024-03-23T10:14:33.256Z"
   },
   {
    "duration": 34,
    "start_time": "2024-03-23T10:14:33.281Z"
   },
   {
    "duration": 4,
    "start_time": "2024-03-23T10:14:33.317Z"
   },
   {
    "duration": 35,
    "start_time": "2024-03-23T10:14:33.323Z"
   },
   {
    "duration": 22,
    "start_time": "2024-03-23T10:14:33.360Z"
   },
   {
    "duration": 4,
    "start_time": "2024-03-23T10:14:33.384Z"
   },
   {
    "duration": 13,
    "start_time": "2024-03-23T10:14:33.415Z"
   },
   {
    "duration": 34,
    "start_time": "2024-03-23T10:14:33.430Z"
   },
   {
    "duration": 56,
    "start_time": "2024-03-23T10:14:33.466Z"
   },
   {
    "duration": 2,
    "start_time": "2024-03-23T10:14:33.524Z"
   },
   {
    "duration": 4,
    "start_time": "2024-03-23T10:14:33.528Z"
   },
   {
    "duration": 7,
    "start_time": "2024-03-23T10:14:33.534Z"
   },
   {
    "duration": 5,
    "start_time": "2024-03-23T10:14:33.543Z"
   },
   {
    "duration": 5,
    "start_time": "2024-03-23T10:14:33.550Z"
   },
   {
    "duration": 405,
    "start_time": "2024-03-23T10:15:32.966Z"
   },
   {
    "duration": 80,
    "start_time": "2024-03-23T10:15:33.373Z"
   },
   {
    "duration": 27,
    "start_time": "2024-03-23T10:15:33.455Z"
   },
   {
    "duration": 16,
    "start_time": "2024-03-23T10:15:33.484Z"
   },
   {
    "duration": 16,
    "start_time": "2024-03-23T10:15:33.515Z"
   },
   {
    "duration": 46,
    "start_time": "2024-03-23T10:15:33.533Z"
   },
   {
    "duration": 3,
    "start_time": "2024-03-23T10:15:33.581Z"
   },
   {
    "duration": 34,
    "start_time": "2024-03-23T10:15:33.586Z"
   },
   {
    "duration": 22,
    "start_time": "2024-03-23T10:15:33.622Z"
   },
   {
    "duration": 9,
    "start_time": "2024-03-23T10:15:33.647Z"
   },
   {
    "duration": 5,
    "start_time": "2024-03-23T10:15:33.658Z"
   },
   {
    "duration": 66,
    "start_time": "2024-03-23T10:15:33.665Z"
   },
   {
    "duration": 22,
    "start_time": "2024-03-23T10:15:33.732Z"
   },
   {
    "duration": 3,
    "start_time": "2024-03-23T10:15:33.755Z"
   },
   {
    "duration": 14,
    "start_time": "2024-03-23T10:15:33.760Z"
   },
   {
    "duration": 45,
    "start_time": "2024-03-23T10:15:33.775Z"
   },
   {
    "duration": 48,
    "start_time": "2024-03-23T10:15:33.823Z"
   },
   {
    "duration": 2,
    "start_time": "2024-03-23T10:15:33.873Z"
   },
   {
    "duration": 6,
    "start_time": "2024-03-23T10:15:33.876Z"
   },
   {
    "duration": 5,
    "start_time": "2024-03-23T10:15:33.883Z"
   },
   {
    "duration": 25,
    "start_time": "2024-03-23T10:15:33.890Z"
   },
   {
    "duration": 2,
    "start_time": "2024-03-23T10:15:33.917Z"
   },
   {
    "duration": 34,
    "start_time": "2024-03-23T10:16:27.301Z"
   },
   {
    "duration": 34,
    "start_time": "2024-03-23T10:16:45.659Z"
   },
   {
    "duration": 38,
    "start_time": "2024-03-23T10:17:02.617Z"
   },
   {
    "duration": 41,
    "start_time": "2024-03-23T10:17:11.376Z"
   },
   {
    "duration": 50,
    "start_time": "2024-03-23T10:18:03.122Z"
   },
   {
    "duration": 439,
    "start_time": "2024-03-23T10:18:40.985Z"
   },
   {
    "duration": 83,
    "start_time": "2024-03-23T10:18:41.426Z"
   },
   {
    "duration": 29,
    "start_time": "2024-03-23T10:18:41.510Z"
   },
   {
    "duration": 16,
    "start_time": "2024-03-23T10:18:41.541Z"
   },
   {
    "duration": 12,
    "start_time": "2024-03-23T10:18:41.559Z"
   },
   {
    "duration": 60,
    "start_time": "2024-03-23T10:18:41.573Z"
   },
   {
    "duration": 4,
    "start_time": "2024-03-23T10:18:41.635Z"
   },
   {
    "duration": 10,
    "start_time": "2024-03-23T10:18:41.640Z"
   },
   {
    "duration": 23,
    "start_time": "2024-03-23T10:18:41.652Z"
   },
   {
    "duration": 41,
    "start_time": "2024-03-23T10:18:41.677Z"
   },
   {
    "duration": 6,
    "start_time": "2024-03-23T10:18:41.720Z"
   },
   {
    "duration": 46,
    "start_time": "2024-03-23T10:18:41.728Z"
   },
   {
    "duration": 44,
    "start_time": "2024-03-23T10:18:41.776Z"
   },
   {
    "duration": 4,
    "start_time": "2024-03-23T10:18:41.822Z"
   },
   {
    "duration": 20,
    "start_time": "2024-03-23T10:18:41.828Z"
   },
   {
    "duration": 27,
    "start_time": "2024-03-23T10:18:41.850Z"
   },
   {
    "duration": 66,
    "start_time": "2024-03-23T10:18:41.879Z"
   },
   {
    "duration": 3,
    "start_time": "2024-03-23T10:18:41.947Z"
   },
   {
    "duration": 4,
    "start_time": "2024-03-23T10:18:41.952Z"
   },
   {
    "duration": 17,
    "start_time": "2024-03-23T10:18:41.958Z"
   },
   {
    "duration": 3,
    "start_time": "2024-03-23T10:18:41.977Z"
   },
   {
    "duration": 5,
    "start_time": "2024-03-23T10:18:41.983Z"
   },
   {
    "duration": 58,
    "start_time": "2024-03-23T10:20:18.795Z"
   },
   {
    "duration": 1431,
    "start_time": "2024-03-23T10:20:45.832Z"
   },
   {
    "duration": 25,
    "start_time": "2024-03-23T10:20:58.746Z"
   },
   {
    "duration": 25,
    "start_time": "2024-03-23T10:21:08.222Z"
   },
   {
    "duration": 429,
    "start_time": "2024-03-23T10:21:48.408Z"
   },
   {
    "duration": 98,
    "start_time": "2024-03-23T10:21:48.839Z"
   },
   {
    "duration": 30,
    "start_time": "2024-03-23T10:21:48.939Z"
   },
   {
    "duration": 21,
    "start_time": "2024-03-23T10:21:48.971Z"
   },
   {
    "duration": 36,
    "start_time": "2024-03-23T10:21:48.995Z"
   },
   {
    "duration": 85,
    "start_time": "2024-03-23T10:21:49.034Z"
   },
   {
    "duration": 5,
    "start_time": "2024-03-23T10:21:49.121Z"
   },
   {
    "duration": 17,
    "start_time": "2024-03-23T10:21:49.128Z"
   },
   {
    "duration": 36,
    "start_time": "2024-03-23T10:21:49.147Z"
   },
   {
    "duration": 33,
    "start_time": "2024-03-23T10:21:49.185Z"
   },
   {
    "duration": 6,
    "start_time": "2024-03-23T10:21:49.221Z"
   },
   {
    "duration": 43,
    "start_time": "2024-03-23T10:21:49.230Z"
   },
   {
    "duration": 63,
    "start_time": "2024-03-23T10:21:49.275Z"
   },
   {
    "duration": 5,
    "start_time": "2024-03-23T10:21:49.342Z"
   },
   {
    "duration": 19,
    "start_time": "2024-03-23T10:21:49.349Z"
   },
   {
    "duration": 45,
    "start_time": "2024-03-23T10:21:49.371Z"
   },
   {
    "duration": 35,
    "start_time": "2024-03-23T10:21:49.418Z"
   },
   {
    "duration": 4,
    "start_time": "2024-03-23T10:21:49.455Z"
   },
   {
    "duration": 3,
    "start_time": "2024-03-23T10:21:49.461Z"
   },
   {
    "duration": 4,
    "start_time": "2024-03-23T10:21:49.466Z"
   },
   {
    "duration": 3,
    "start_time": "2024-03-23T10:21:49.472Z"
   },
   {
    "duration": 38,
    "start_time": "2024-03-23T10:21:49.477Z"
   },
   {
    "duration": 22,
    "start_time": "2024-03-23T10:22:11.695Z"
   },
   {
    "duration": 23,
    "start_time": "2024-03-23T10:22:18.618Z"
   },
   {
    "duration": 34,
    "start_time": "2024-03-23T10:23:07.416Z"
   },
   {
    "duration": 35,
    "start_time": "2024-03-23T10:23:18.466Z"
   },
   {
    "duration": 460,
    "start_time": "2024-03-23T10:26:13.492Z"
   },
   {
    "duration": 81,
    "start_time": "2024-03-23T10:26:13.954Z"
   },
   {
    "duration": 34,
    "start_time": "2024-03-23T10:26:14.038Z"
   },
   {
    "duration": 16,
    "start_time": "2024-03-23T10:26:14.074Z"
   },
   {
    "duration": 26,
    "start_time": "2024-03-23T10:26:14.092Z"
   },
   {
    "duration": 37,
    "start_time": "2024-03-23T10:26:14.120Z"
   },
   {
    "duration": 4,
    "start_time": "2024-03-23T10:26:14.159Z"
   },
   {
    "duration": 12,
    "start_time": "2024-03-23T10:26:14.165Z"
   },
   {
    "duration": 49,
    "start_time": "2024-03-23T10:26:14.178Z"
   },
   {
    "duration": 7,
    "start_time": "2024-03-23T10:26:14.230Z"
   },
   {
    "duration": 22,
    "start_time": "2024-03-23T10:26:14.238Z"
   },
   {
    "duration": 37,
    "start_time": "2024-03-23T10:26:14.267Z"
   },
   {
    "duration": 29,
    "start_time": "2024-03-23T10:26:14.306Z"
   },
   {
    "duration": 4,
    "start_time": "2024-03-23T10:26:14.336Z"
   },
   {
    "duration": 20,
    "start_time": "2024-03-23T10:26:14.342Z"
   },
   {
    "duration": 54,
    "start_time": "2024-03-23T10:26:14.364Z"
   },
   {
    "duration": 38,
    "start_time": "2024-03-23T10:26:14.419Z"
   },
   {
    "duration": 3,
    "start_time": "2024-03-23T10:26:14.460Z"
   },
   {
    "duration": 8,
    "start_time": "2024-03-23T10:26:14.464Z"
   },
   {
    "duration": 3,
    "start_time": "2024-03-23T10:26:14.474Z"
   },
   {
    "duration": 5,
    "start_time": "2024-03-23T10:26:14.479Z"
   },
   {
    "duration": 29,
    "start_time": "2024-03-23T10:26:14.486Z"
   },
   {
    "duration": 7,
    "start_time": "2024-03-23T10:27:12.287Z"
   },
   {
    "duration": 5,
    "start_time": "2024-03-23T10:27:15.400Z"
   },
   {
    "duration": 399,
    "start_time": "2024-03-23T10:27:41.459Z"
   },
   {
    "duration": 82,
    "start_time": "2024-03-23T10:27:41.860Z"
   },
   {
    "duration": 29,
    "start_time": "2024-03-23T10:27:41.944Z"
   },
   {
    "duration": 16,
    "start_time": "2024-03-23T10:27:41.975Z"
   },
   {
    "duration": 32,
    "start_time": "2024-03-23T10:27:41.992Z"
   },
   {
    "duration": 36,
    "start_time": "2024-03-23T10:27:42.026Z"
   },
   {
    "duration": 4,
    "start_time": "2024-03-23T10:27:42.064Z"
   },
   {
    "duration": 12,
    "start_time": "2024-03-23T10:27:42.069Z"
   },
   {
    "duration": 51,
    "start_time": "2024-03-23T10:27:42.082Z"
   },
   {
    "duration": 9,
    "start_time": "2024-03-23T10:27:42.136Z"
   },
   {
    "duration": 16,
    "start_time": "2024-03-23T10:27:42.147Z"
   },
   {
    "duration": 57,
    "start_time": "2024-03-23T10:27:42.165Z"
   },
   {
    "duration": 21,
    "start_time": "2024-03-23T10:27:42.224Z"
   },
   {
    "duration": 4,
    "start_time": "2024-03-23T10:27:42.247Z"
   },
   {
    "duration": 16,
    "start_time": "2024-03-23T10:27:42.252Z"
   },
   {
    "duration": 50,
    "start_time": "2024-03-23T10:27:42.270Z"
   },
   {
    "duration": 21,
    "start_time": "2024-03-23T10:27:42.321Z"
   },
   {
    "duration": 3,
    "start_time": "2024-03-23T10:27:42.343Z"
   },
   {
    "duration": 4,
    "start_time": "2024-03-23T10:27:42.348Z"
   },
   {
    "duration": 13,
    "start_time": "2024-03-23T10:27:42.354Z"
   },
   {
    "duration": 3,
    "start_time": "2024-03-23T10:27:42.369Z"
   },
   {
    "duration": 3,
    "start_time": "2024-03-23T10:27:42.374Z"
   },
   {
    "duration": 17,
    "start_time": "2024-03-23T10:28:20.747Z"
   },
   {
    "duration": 28,
    "start_time": "2024-03-23T10:30:14.043Z"
   },
   {
    "duration": 397,
    "start_time": "2024-03-23T10:30:22.474Z"
   },
   {
    "duration": 81,
    "start_time": "2024-03-23T10:30:22.873Z"
   },
   {
    "duration": 28,
    "start_time": "2024-03-23T10:30:22.956Z"
   },
   {
    "duration": 29,
    "start_time": "2024-03-23T10:30:22.986Z"
   },
   {
    "duration": 16,
    "start_time": "2024-03-23T10:30:23.018Z"
   },
   {
    "duration": 56,
    "start_time": "2024-03-23T10:30:23.036Z"
   },
   {
    "duration": 4,
    "start_time": "2024-03-23T10:30:23.093Z"
   },
   {
    "duration": 22,
    "start_time": "2024-03-23T10:30:23.098Z"
   },
   {
    "duration": 34,
    "start_time": "2024-03-23T10:30:23.122Z"
   },
   {
    "duration": 12,
    "start_time": "2024-03-23T10:30:23.159Z"
   },
   {
    "duration": 5,
    "start_time": "2024-03-23T10:30:23.173Z"
   },
   {
    "duration": 68,
    "start_time": "2024-03-23T10:30:23.179Z"
   },
   {
    "duration": 23,
    "start_time": "2024-03-23T10:30:23.249Z"
   },
   {
    "duration": 4,
    "start_time": "2024-03-23T10:30:23.274Z"
   },
   {
    "duration": 47,
    "start_time": "2024-03-23T10:30:23.280Z"
   },
   {
    "duration": 19,
    "start_time": "2024-03-23T10:30:23.329Z"
   },
   {
    "duration": 19,
    "start_time": "2024-03-23T10:30:23.350Z"
   },
   {
    "duration": 14,
    "start_time": "2024-03-23T10:30:23.371Z"
   },
   {
    "duration": 4,
    "start_time": "2024-03-23T10:30:23.387Z"
   },
   {
    "duration": 4,
    "start_time": "2024-03-23T10:30:23.393Z"
   },
   {
    "duration": 3,
    "start_time": "2024-03-23T10:30:23.414Z"
   },
   {
    "duration": 5,
    "start_time": "2024-03-23T10:30:23.419Z"
   },
   {
    "duration": 490,
    "start_time": "2024-03-23T10:31:29.621Z"
   },
   {
    "duration": 93,
    "start_time": "2024-03-23T10:31:30.114Z"
   },
   {
    "duration": 29,
    "start_time": "2024-03-23T10:31:30.208Z"
   },
   {
    "duration": 58,
    "start_time": "2024-03-23T10:31:30.239Z"
   },
   {
    "duration": 94,
    "start_time": "2024-03-23T10:31:30.298Z"
   },
   {
    "duration": 89,
    "start_time": "2024-03-23T10:31:30.394Z"
   },
   {
    "duration": 62,
    "start_time": "2024-03-23T10:31:30.485Z"
   },
   {
    "duration": 62,
    "start_time": "2024-03-23T10:31:30.549Z"
   },
   {
    "duration": 93,
    "start_time": "2024-03-23T10:31:30.613Z"
   },
   {
    "duration": 51,
    "start_time": "2024-03-23T10:31:30.709Z"
   },
   {
    "duration": 85,
    "start_time": "2024-03-23T10:31:30.762Z"
   },
   {
    "duration": 154,
    "start_time": "2024-03-23T10:31:30.849Z"
   },
   {
    "duration": 23,
    "start_time": "2024-03-23T10:31:31.004Z"
   },
   {
    "duration": 60,
    "start_time": "2024-03-23T10:31:31.028Z"
   },
   {
    "duration": 53,
    "start_time": "2024-03-23T10:31:31.090Z"
   },
   {
    "duration": 54,
    "start_time": "2024-03-23T10:31:31.144Z"
   },
   {
    "duration": 44,
    "start_time": "2024-03-23T10:31:31.200Z"
   },
   {
    "duration": 12,
    "start_time": "2024-03-23T10:31:31.246Z"
   },
   {
    "duration": 31,
    "start_time": "2024-03-23T10:31:31.260Z"
   },
   {
    "duration": 23,
    "start_time": "2024-03-23T10:31:31.293Z"
   },
   {
    "duration": 58,
    "start_time": "2024-03-23T10:31:31.318Z"
   },
   {
    "duration": 29,
    "start_time": "2024-03-23T10:31:31.378Z"
   },
   {
    "duration": 422,
    "start_time": "2024-03-23T10:33:09.716Z"
   },
   {
    "duration": 82,
    "start_time": "2024-03-23T10:33:10.140Z"
   },
   {
    "duration": 29,
    "start_time": "2024-03-23T10:33:10.223Z"
   },
   {
    "duration": 16,
    "start_time": "2024-03-23T10:33:10.254Z"
   },
   {
    "duration": 17,
    "start_time": "2024-03-23T10:33:10.272Z"
   },
   {
    "duration": 44,
    "start_time": "2024-03-23T10:33:10.291Z"
   },
   {
    "duration": 4,
    "start_time": "2024-03-23T10:33:10.336Z"
   },
   {
    "duration": 22,
    "start_time": "2024-03-23T10:33:10.341Z"
   },
   {
    "duration": 41,
    "start_time": "2024-03-23T10:33:10.364Z"
   },
   {
    "duration": 26,
    "start_time": "2024-03-23T10:33:10.408Z"
   },
   {
    "duration": 7,
    "start_time": "2024-03-23T10:33:10.436Z"
   },
   {
    "duration": 54,
    "start_time": "2024-03-23T10:33:10.445Z"
   },
   {
    "duration": 23,
    "start_time": "2024-03-23T10:33:10.501Z"
   },
   {
    "duration": 25,
    "start_time": "2024-03-23T10:33:10.526Z"
   },
   {
    "duration": 24,
    "start_time": "2024-03-23T10:33:10.553Z"
   },
   {
    "duration": 22,
    "start_time": "2024-03-23T10:33:10.579Z"
   },
   {
    "duration": 18,
    "start_time": "2024-03-23T10:33:10.602Z"
   },
   {
    "duration": 2,
    "start_time": "2024-03-23T10:33:10.622Z"
   },
   {
    "duration": 5,
    "start_time": "2024-03-23T10:33:10.626Z"
   },
   {
    "duration": 5,
    "start_time": "2024-03-23T10:33:10.633Z"
   },
   {
    "duration": 12,
    "start_time": "2024-03-23T10:33:10.640Z"
   },
   {
    "duration": 5,
    "start_time": "2024-03-23T10:33:10.654Z"
   },
   {
    "duration": 359,
    "start_time": "2024-03-23T10:34:09.971Z"
   },
   {
    "duration": 83,
    "start_time": "2024-03-23T10:34:10.332Z"
   },
   {
    "duration": 29,
    "start_time": "2024-03-23T10:34:10.417Z"
   },
   {
    "duration": 24,
    "start_time": "2024-03-23T10:34:10.449Z"
   },
   {
    "duration": 40,
    "start_time": "2024-03-23T10:34:10.476Z"
   },
   {
    "duration": 26,
    "start_time": "2024-03-23T10:34:10.517Z"
   },
   {
    "duration": 3,
    "start_time": "2024-03-23T10:34:10.545Z"
   },
   {
    "duration": 15,
    "start_time": "2024-03-23T10:34:10.550Z"
   },
   {
    "duration": 53,
    "start_time": "2024-03-23T10:34:10.567Z"
   },
   {
    "duration": 11,
    "start_time": "2024-03-23T10:34:10.622Z"
   },
   {
    "duration": 6,
    "start_time": "2024-03-23T10:34:10.635Z"
   },
   {
    "duration": 37,
    "start_time": "2024-03-23T10:34:10.642Z"
   },
   {
    "duration": 48,
    "start_time": "2024-03-23T10:34:10.681Z"
   },
   {
    "duration": 4,
    "start_time": "2024-03-23T10:34:10.731Z"
   },
   {
    "duration": 16,
    "start_time": "2024-03-23T10:34:10.736Z"
   },
   {
    "duration": 22,
    "start_time": "2024-03-23T10:34:10.753Z"
   },
   {
    "duration": 47,
    "start_time": "2024-03-23T10:34:10.777Z"
   },
   {
    "duration": 16,
    "start_time": "2024-03-23T10:34:10.826Z"
   },
   {
    "duration": 3,
    "start_time": "2024-03-23T10:34:10.845Z"
   },
   {
    "duration": 6,
    "start_time": "2024-03-23T10:34:10.851Z"
   },
   {
    "duration": 6,
    "start_time": "2024-03-23T10:34:10.859Z"
   },
   {
    "duration": 8,
    "start_time": "2024-03-23T10:34:10.867Z"
   },
   {
    "duration": 4,
    "start_time": "2024-03-23T10:34:52.705Z"
   },
   {
    "duration": 10,
    "start_time": "2024-03-23T10:35:03.828Z"
   },
   {
    "duration": 4,
    "start_time": "2024-03-23T10:35:55.174Z"
   },
   {
    "duration": 15,
    "start_time": "2024-03-23T10:35:56.363Z"
   },
   {
    "duration": 10,
    "start_time": "2024-03-23T10:37:35.687Z"
   },
   {
    "duration": 29,
    "start_time": "2024-03-23T10:37:50.762Z"
   },
   {
    "duration": 5,
    "start_time": "2024-03-23T10:38:30.077Z"
   },
   {
    "duration": 31,
    "start_time": "2024-03-23T10:38:31.985Z"
   },
   {
    "duration": 8,
    "start_time": "2024-03-23T10:39:01.162Z"
   },
   {
    "duration": 3,
    "start_time": "2024-03-23T10:39:24.379Z"
   },
   {
    "duration": 9,
    "start_time": "2024-03-23T10:39:43.541Z"
   }
  ],
  "colab": {
   "provenance": []
  },
  "kernelspec": {
   "display_name": "Python 3 (ipykernel)",
   "language": "python",
   "name": "python3"
  },
  "language_info": {
   "codemirror_mode": {
    "name": "ipython",
    "version": 3
   },
   "file_extension": ".py",
   "mimetype": "text/x-python",
   "name": "python",
   "nbconvert_exporter": "python",
   "pygments_lexer": "ipython3",
   "version": "3.11.5"
  },
  "toc": {
   "base_numbering": 1,
   "nav_menu": {},
   "number_sections": true,
   "sideBar": true,
   "skip_h1_title": true,
   "title_cell": "Table of Contents",
   "title_sidebar": "Contents",
   "toc_cell": false,
   "toc_position": {},
   "toc_section_display": true,
   "toc_window_display": false
  }
 },
 "nbformat": 4,
 "nbformat_minor": 5
}
